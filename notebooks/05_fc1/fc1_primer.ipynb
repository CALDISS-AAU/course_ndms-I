{
 "cells": [
  {
   "cell_type": "markdown",
   "id": "44d2d41d-599b-4824-bb22-b028ce559e41",
   "metadata": {},
   "source": [
    "# NDMS I: Fra data til klyngeanalyse\n",
    "\n",
    "*Flipped classroom øvelse til valgfaget \"Nyere digitale metoder i samfundsvidenskaben I\", 2022*\n",
    "\n",
    "\n",
    "\n",
    "I denne øvelse skal I udføre en klyngeanalyse på et udsnit af Den Danske Værdiundersøgelse 2017 (https://www.ddv.aau.dk/).\n",
    "\n",
    "Data og kodebog kan findes på moodle.\n",
    "\n",
    "Vi har givet jer data, som ikke er helt klar til analyse. Der vil være værdier, der skal kodes om, missingværdier, som skal håndteres og datasæt, som skal sættes sammen, før at I kan foretage en analyse.\n",
    "\n",
    "\n",
    "\n",
    "## Øvelsen går ud på følgende:\n",
    "1. Udvælg minimum 4 variable at udføre klyngeanalyse på.\n",
    "2. Foretag den nødvendige datahåndtering for at kunne foretage en klyngeanalyse.\n",
    "3. Foretag klyngeanalyse.\n",
    "4. Udforsk resultatet af jeres klyngeanalyse med inddragelse af relevante baggrundsvariable (kræver at I sætter de to datasæt sammen).\n",
    "5. Dan en visualisering, der kan bidrage til at forklare mønstre i jeres klynger.\n",
    "\n",
    "\n",
    "\n",
    "**Værd at vide om data**\n",
    "\n",
    "- Variabel- og værdilabels kan findes i kodebogen (ligger på moodle)\n",
    "- `ipnr17` indeholder respondentens id-nummer\n",
    "- Der er to datasæt:\n",
    "  - `DDV2017_redux_qs.csv`: Indeholder svar på holdningsspørgsmålene\n",
    "    - Direkte link: https://github.com/CALDISS-AAU/course_ndms-I/raw/master/datasets/DDV2017_redux_qs.csv\n",
    "  - `DDV2017_redux_bcg.csv`: Indeholder baggrundsvariable for respondenterne\n",
    "    - Direkte link: https://github.com/CALDISS-AAU/course_ndms-I/raw/master/datasets/DDV2017_redux_bcg.csv"
   ]
  },
  {
   "cell_type": "code",
   "execution_count": null,
   "id": "80ef12f5-2997-4622-b050-f7707b4d5278",
   "metadata": {},
   "outputs": [],
   "source": [
    "## Pakker\n",
    "import pandas as pd"
   ]
  },
  {
   "cell_type": "code",
   "execution_count": null,
   "id": "e3329d30-957c-4d39-acfa-93c78c650043",
   "metadata": {},
   "outputs": [],
   "source": [
    "## Indlæs data\n",
    "ddv2017_qs = pd.read_csv(\"data/DDV2017_redux_qs.csv\")\n",
    "\n",
    "ddv2017_bcg = pd.read_csv(\"data/DDV2017_redux_bcg.csv\")"
   ]
  }
 ],
 "metadata": {
  "kernelspec": {
   "display_name": "Python 3 (ipykernel)",
   "language": "python",
   "name": "python3"
  },
  "language_info": {
   "codemirror_mode": {
    "name": "ipython",
    "version": 3
   },
   "file_extension": ".py",
   "mimetype": "text/x-python",
   "name": "python",
   "nbconvert_exporter": "python",
   "pygments_lexer": "ipython3",
   "version": "3.9.7"
  }
 },
 "nbformat": 4,
 "nbformat_minor": 5
}
