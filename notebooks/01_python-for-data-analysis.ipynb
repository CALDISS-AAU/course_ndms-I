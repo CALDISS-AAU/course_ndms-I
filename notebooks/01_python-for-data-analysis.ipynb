{
 "cells": [
  {
   "cell_type": "markdown",
   "id": "tested-poster",
   "metadata": {},
   "source": [
    "# Introduktion til Python til Dataanalyse\n",
    "\n",
    "Denne lektion gennemgår hvordan Python anvendes til dataanalyse. Der introduceres især til data frames i Python biblioteket \"pandas\"."
   ]
  },
  {
   "cell_type": "markdown",
   "id": "oriental-orleans",
   "metadata": {},
   "source": [
    "# Hvad er Python?\n",
    "\n",
    "Python er et programmeringssprog. At arbejde med Python kræver derfor, at man “taler” det rette sprog, når man gerne vil have Python til at gøre noget.\n",
    "\n",
    "Python har ikke en brugerflade, så for at få Python til at gøre noget, skal vi “fortælle” Python, hvad vi gerne vil ved at skrive kommandoer i Python sproget.\n",
    "\n",
    "## Interager med Python\n",
    "\n",
    "Barberes Python ned til sine grundsten består det ikke af mere end en “interpreter” (fortolker). Alle programmeringssprog er bygget op om en fortolker, der “evaluerer” kommandoer. Inden for programmering vil evaluering sige, at sproget forsøger at forstå, hvad der står i en kommando.\n",
    "\n",
    "Man kan arbejde med Python fortolkeren direkte igennem en terminal/kommandoprompt, men det gør det meget besværligt at arbejde med.\n",
    "\n",
    "## Python i Jupyter Lab / Jupyter Notebook\n",
    "\n",
    "I dette kursus bruger vi Jupyter Lab som vores program (IDE) til at arbejde med Python: https://jupyter.org/\n",
    "\n",
    "Jupyter Lab/Notebook er opbygget omkring en såkaldt “notebook”. En notebook i Jupyter kombinerer Python kode med almindelig tekst (skrevet i “Markdown”). Jupyter Notebook egner sig særdeles godt, hvis man skal dokumentere sit kodearbejde undervejs, da man har mulighed for at skrive almindelig tekst, sætte billeder ind, lave tabeller osv. omkring sin kode."
   ]
  },
  {
   "cell_type": "markdown",
   "id": "speaking-penny",
   "metadata": {},
   "source": [
    "# Fundamentale koncepter i Python\n",
    "\n",
    "Som nævnt arbejder man med Python ved at skrive kommandoer i Python sproget. Kommandoer bliver “evalueret” af fortolkeren. Hvis koden forstås, bliver den kørt, og der gives et output, en ændring eller andet afhængigt af, hvad man beder om."
   ]
  },
  {
   "cell_type": "code",
   "execution_count": 17,
   "id": "constant-sharing",
   "metadata": {},
   "outputs": [
    {
     "data": {
      "text/plain": [
       "46"
      ]
     },
     "execution_count": 17,
     "metadata": {},
     "output_type": "execute_result"
    }
   ],
   "source": [
    "42 + 4"
   ]
  },
  {
   "cell_type": "markdown",
   "id": "departmental-needle",
   "metadata": {},
   "source": [
    "## Objekter/varaible\n",
    "\n",
    "Python er et objekt-orienteret programmeringssprog. Dette indebærer, at man kontinuerligt arbejder med forskellige objekter, som indeholder en eller anden for for information.\n",
    "\n",
    "I Python kaldes objekter “variable”. Dette er ikke at forveksle med en variabel, som forstået i statistik som en egenskab ved en observation, da en variabel i Python blot er en beholder for en eller anden form for information."
   ]
  },
  {
   "cell_type": "code",
   "execution_count": 21,
   "id": "intense-twist",
   "metadata": {},
   "outputs": [
    {
     "name": "stdout",
     "output_type": "stream",
     "text": [
      "44\n"
     ]
    }
   ],
   "source": [
    "number = 42\n",
    "print(number + 2)"
   ]
  },
  {
   "cell_type": "code",
   "execution_count": 22,
   "id": "ordinary-chess",
   "metadata": {},
   "outputs": [
    {
     "name": "stdout",
     "output_type": "stream",
     "text": [
      "kenobi\n"
     ]
    }
   ],
   "source": [
    "name = \"kenobi\"\n",
    "print(name)"
   ]
  },
  {
   "cell_type": "markdown",
   "id": "marine-briefs",
   "metadata": {},
   "source": [
    "## Funktioner\n",
    "\n",
    "En central del af det at arbejde med et programmeringssprog er at bruge funktioner. Funktioner tager et eller flere input (kaldet “argumenter”), foretager et eller andet med disse og returnerer (for det meste) et output.\n",
    "\n",
    "Funktioner i Python har følgende format:\n",
    "\n",
    "```\n",
    "function(argument1, argument2, ...)\n",
    "```\n"
   ]
  },
  {
   "cell_type": "code",
   "execution_count": 25,
   "id": "grave-little",
   "metadata": {},
   "outputs": [
    {
     "name": "stdout",
     "output_type": "stream",
     "text": [
      "hello, there\n"
     ]
    }
   ],
   "source": [
    "print(\"hello\", \"there\", sep = \", \")"
   ]
  },
  {
   "cell_type": "markdown",
   "id": "fitting-alpha",
   "metadata": {},
   "source": [
    "## Metoder\n",
    "\n",
    "Udover funktioner i Python findes der også “metoder”. Lig funktioner tager metoder også en form for input og returnerer et output.\n",
    "\n",
    "I modsætning til funktioner er metoder bundet op på bestemte variabeltyper. Det vil sige at variablen skal være en bestemt type for, at metoden kan bruges. Metoder kaldes med `variabel.method(option1 = something)`. Tekstværdier (strings) har fx en række metoder tilknyttet til at ændre teksten:"
   ]
  },
  {
   "cell_type": "code",
   "execution_count": 27,
   "id": "sporting-atlantic",
   "metadata": {},
   "outputs": [
    {
     "data": {
      "text/plain": [
       "'KENOBI'"
      ]
     },
     "execution_count": 27,
     "metadata": {},
     "output_type": "execute_result"
    }
   ],
   "source": [
    "name = \"kenobi\"\n",
    "name.upper()"
   ]
  },
  {
   "cell_type": "markdown",
   "id": "competent-institute",
   "metadata": {},
   "source": [
    "## Pakker\n",
    "\n",
    "Pakker i Python er samlinger af funktioner, metoder, værdier osv. Selvom man kan meget i Python, så når man ikke særlig langt uden at importere pakker.\n",
    "\n",
    "Funktioner, metoder, værdier osv. fra pakker kan nemt indlæses ved at importere dem. Så snart pakken er importeret, er pakkens indhold tilgængeligt."
   ]
  },
  {
   "cell_type": "code",
   "execution_count": 28,
   "id": "novel-drive",
   "metadata": {},
   "outputs": [
    {
     "name": "stdout",
     "output_type": "stream",
     "text": [
      "3.141592653589793\n"
     ]
    }
   ],
   "source": [
    "import math\n",
    "\n",
    "print(math.pi)"
   ]
  },
  {
   "cell_type": "markdown",
   "id": "blessed-works",
   "metadata": {},
   "source": [
    "# ØVELSE 0: KAN PYTHON NOGET?\n",
    "\n",
    "- Lav en notebook til denne lektion\n",
    "- Lav en kodecelle\n",
    "- Skriv kommandoen `print(\"hello there\")` ind i cellen\n",
    "- Kør cellen"
   ]
  },
  {
   "cell_type": "markdown",
   "id": "drawn-morrison",
   "metadata": {},
   "source": [
    "# Data i Python"
   ]
  },
  {
   "cell_type": "markdown",
   "id": "active-packet",
   "metadata": {},
   "source": [
    "# Data og datasæt\n",
    "\n",
    "I disse Python lektioner gennemgås, hvordan Python anvendes til dataanalyse, men hvad er data overhovedet for noget?\n",
    "\n",
    "Som udgangspunkt arbejder vi med en meget bred forståelse af data: alle former for information om noget. Grunden til at der i dag er så meget snak om data, dataanalyse, maskinlæring osv., er fordi at stadig mere og mere information digitaliseres, hvorfor det kan gøres til genstand for analyser.\n",
    "\n",
    "Navn, alder, uddannelse, indkomst, yndlingsfilm, mest aflyttede sange i 2020, antal gange rejst med bus 2 i Aalborg, køb i supermarkeder, størrelse på bolig, indbo, brug af el, varme og vand osv. Alle disse informationer er data og alt sammen kan indgå i analyser til at sige noget om en person eller, mere relevant, flere personer med lignende karakteristika.\n",
    "\n",
    "Data som en mere eller mindre tilfældig strøm af tilfældig information er vanskelig at arbejde med. Data skal på en eller anden måde være i system for, at det kan analyseres - det gælder både maskinel/computationel analyse eller menneskelig analyse.\n",
    "\n",
    "Når man taler om et datasæt, mener man typisk en eller anden form for afgrænset mængde data, der måske eller måske ikke er struktureret i en eller anden form.\n",
    "\n",
    "## Struktureret og ustruktureret data\n",
    "\n",
    "Man adskiller typisk mellem struktureret og ustruktureret data.\n",
    "\n",
    "**Struktureret data**\n",
    "\n",
    "*Struktureret data* er data, der på en eller anden måde er sat i system. Den klassiske repræsentation af struktureret data er i et tabulært format, hvor hver række indeholder en *observation* og hver kolonne indeholder en *variabel* (eller \"feature\", som det omtales inden for maskinlæring. En observation kan være en person, et land, et firma, et tidspunkt, en kommune osv., mens en variabel er en eller anden form for information om observationen.\n",
    "\n",
    "Tabellen herunder er et eksempel på struktureret data:\n",
    "\n",
    "|Navn |Alder |Beskæftigelse |\n",
    "|-----|------|--------------|\n",
    "|Lars | 34 | Slagter|\n",
    "|Gertrud | 62 | Rådgiver|\n",
    "|Henning | 43 | Revisor|\n",
    "|Agnes | 38 | Tømrer|\n",
    "\n",
    "Struktureret data er kendeteget ved at være sat i system sådan, at man umiddelbart kan analysere og spørge data om noget. I ovenstående tabel kan man fx meget hurtigt undersøge, hvor mange der er ældre end 40, hvem der har et fornavn der starter med \"H\" eller hvem der har beskæftigelse inden for byggeri.\n",
    "\n",
    "**Ustruktureret data**\n",
    "\n",
    "*Ustruktureret data* er data, som - kort sagt - ikke er sat i system. Hvis data ikke er struktureret, vil man typisk kalde det ustruktureret data. Tekst, billeder og video er typiske eksempler på ustruktureret data, da disse blot er rå information uden nogen måde at adskille en type information fra en anden. Mange moderne dataanalyseteknikker fokuserer på ustruktureret data, hvor man enten udvikler teknikker til at skabe overblik over ustruktureret data eller forsøger at give data en form for struktur.\n",
    "\n",
    "Nedenstående er et eksempel på ustruktureret data:\n",
    "\n",
    "```\n",
    "[\"Hvorfor går man ikke i dialog med ⁦@DRC_dk⁩ i stedet for at opsige kontrakten uden varsel. Er det kun for at føre stærk mand politik? DRC yder en fremragende indsats på baggrund af den opgave de har fået #dkpol https://jyllands-posten.dk/indland/ECE12248020/tesfaye-forsoeger-sig-med-en-ny-loesning-paa-alle-udlaendingeministres-problem/ …\",\n",
    "\"Alle tæller ❤️ https://twitter.com/cekicozlem/status/1276034922587832326 …\",\n",
    "\"Det er så godt arbejde💚 https://twitter.com/fannybroholm/status/1275360842847080449 …\",\n",
    "\"Tilfreds med den klima og energiaftale, der er lavet nu. Det er den første delaftale om at nå 70% reduktion i 2030. Særligt glad for at den indeholder principaftale om en CO2 afgiftsreform #dkpol #dkgreen pic.twitter.com/3slrMxLT5B\",\n",
    "\"Godt første skridt for den fri natur #dkpol #dkgreen ⁦@alternativet_⁩ https://www.altinget.dk/miljoe/artikel/wermelin-lander-aftale-om-de-foerste-naturnationalparker …\",\n",
    "\"Spændende udmelding. ⁦@alternativet_⁩ ønsker også en grøn   Klimaafgift, hvor udgangspunktet er at forureneren betaler #dkgreen #dkpol https://www.altinget.dk/artikel/venstre-og-radikale-laegger-faelles-pres-paa-regeringen-vil-have-ensartet-co2-afgift?SNSubscribed=true&ref=newsletter&refid=fredag-middag-190620&utm_campaign=altingetdk%20Altinget.dk&utm_medium%09=e-mail&utm_source=nyhedsbrev …\",\n",
    "\"Så vigtigt at KL tager ansvar for den proces #dkpol #dkgreen https://www.altinget.dk/miljoe/artikel/professor-om-affaldsaftale-kl-og-kommunerne-skal-gribe-chancen-for-at-loese-tingene-selv …\",\n",
    "\"Hurra - stor dag for Danmark💚👏🏼👏🏼 https://twitter.com/alternativet_/status/1273555055476723713 …\",\n",
    "\"Til klimaforhandlinger i Finansministeriet. Vi sidder og diskuterer rammerne - de næste dage bliver intensive #dkpol #dkgreen @alternativet_ @ Christiansborg Palace  https://www.instagram.com/p/CBi3d0oB9lB/?igshid=ii78cjnx2n72 …\",\n",
    "\"Aftale om mindre affald, mindre forbrænding og mere genbrug - god dag for klimaet og miljøet. 1. skridt i en stor miljøpakke #dkpol ⁦@alternativet_⁩ https://www.dr.dk/nyheder/indland/live-regeringen-praesenterer-ny-aftale-om-affald …\"]\n",
    "```\n",
    "\n",
    "I ovenstående kan man stadig overføre ideen om observationer (i dette tilfælde tweets fra danske politikere), men der er ingen variable eller features givet på forhånd. Der er derfor ingen umiddelbar struktur at gøre brug af for at foretage sig analyser.\n",
    "\n",
    "## Fra data til dataanalyse\n",
    "\n",
    "Uanset om data er struktureret eller ustruktureret, er de næsten aldrig klar til at analysere med det samme. Data skal næsten altid tilpasses den analyse, som man ønsker at foretage og de spørgsmål, som man ønsker at få svar på med sin analyse. \n",
    "\n",
    "For struktureret data indebærer dette at få identificeret de relevante dele af sine data (er det fx alle observationer, der er relevante?) samt undersøge og rekode variable sådan, at de meningsfuldt kan bruges i sin analyse.\n",
    "\n",
    "For ustruktureret data indebærer det på en eller anden måde at få sat system i eller skabt overblik over data.\n",
    "\n",
    "Ofte vil man også arbejde med data fra flere kilder, hvorfor en del forarbejde også kan gå med at få data kombineret i et samlet datasæt.\n",
    "\n",
    "---\n",
    "## VIDENSCHECK\n",
    "\n",
    "*Hvilke af nedenstående er eksempler på datasæt?:*\n",
    "\n",
    "* Navnet på butikschefen i det lokale supermarked\n",
    "* Alle værker af H.C. Andersen\n",
    "* En oversigt over medlemmer af DFØJ med information om navn, fødselsår, arbejdssted og uddannelse\n",
    "* Filmen \"Vampire's Kiss\" med Nicolas Cage fra 1988\n",
    "* Et kontoudtog\n",
    "* Alle film med Nicolas Cage"
   ]
  },
  {
   "cell_type": "markdown",
   "id": "sunrise-steering",
   "metadata": {},
   "source": [
    "# Introduktion til pandas\n",
    "\n",
    "Pakken `pandas` (https://pandas.pydata.org/) er et Python bibliotek til datahåndtering og dataanalyse. Pandas egner sig særligt til data i tabeller struktureret i rækker og kolonner. En datatabel kaldes inden for pandas en \"DataFrame\"; et bestemt Python objekt specifikt til at lagre og bearbejde data i tabeller.\n",
    "\n",
    "Denne lektion gennemgår diverse basale funktioner til at indlæse, udforske og håndtere en pandas DataFrame. Se også den officielle dokumentation for flere guides, introduktioner og beskrivelser til at arbejde med pandas: https://pandas.pydata.org/docs/\n",
    "\n",
    "## Indlæs data med `pandas`\n",
    "\n",
    "`pandas` pakken indeholder funktioner til at indlæse data i forskellige formater; herunder CSV, JSON, Excel, Stata, SAS osv.\n",
    "\n",
    "I det nedenstående indlæses pandas biblioteket, hvorefter datasættet \"ESS2014DK_subset.csv\" indlæses. Biblioteket `numpy` indlæses også, da det indeholder en række brugbare funktioner til at foretage beregninger på pandas dataframes:"
   ]
  },
  {
   "cell_type": "code",
   "execution_count": 39,
   "id": "cheap-eclipse",
   "metadata": {},
   "outputs": [],
   "source": [
    "import pandas as pd\n",
    "\n",
    "ess2018 = pd.read_csv(\"https://github.com/CALDISS-AAU/course_ndms-I/raw/master/datasets/ESS2018DK_subset.csv\")"
   ]
  },
  {
   "cell_type": "markdown",
   "id": "thorough-surrey",
   "metadata": {},
   "source": [
    "*Bemærk importkonventionerne for `pandas`. `pandas` typisk som `pd`.*\n",
    "\n",
    "**Navngivning af datasæt**\n",
    "\n",
    "Der er forskellige præferencer og holdninger til, hvordan man bør navngive sine objekter. \n",
    "\n",
    "Som hovedregel bør man gå efter navne, som både er relativt korte (man kan ende med at skulle skrive det mange gange) og som er sigende for, hvad objektet indeholder.\n",
    "\n",
    "Dog kan man også argumentere for at navngive meget generisk, sådan at ens kode kan anvendes på andet data."
   ]
  },
  {
   "cell_type": "markdown",
   "id": "geographic-suspect",
   "metadata": {},
   "source": [
    "### Om datasættet\n",
    "Datasættet, som indlæses her, er et uddrag af datasættet fra European Social Survey (ESS) 2018 (https://www.europeansocialsurvey.org/).\n",
    "\n",
    "ESS er en europæisk surveyundersøgelse, der gentages hvert andet år. Surveyet behandler spørgsmål om folks helbred, beskæftigelse, politiske holdninger, tillid osv. I dette uddrag er der kun inkluderet de danske respondenter og et mindre udpluk variable.\n",
    "\n",
    "Subsettet af ESS 2018 indeholder følgende kolonner:\n",
    "\n",
    "|variable | description |\n",
    "|----|---|\n",
    "|idno|Respondent's identification number|\n",
    "|netustm |Internet use, how much time on typical day, in minutes|\n",
    "|ppltrst|Most people can be trusted or you can't be too careful|\n",
    "|vote|Voted last national election|\n",
    "|prtvtddk|Party voted for in last national election, Denmark|\n",
    "|lvpntyr|Year first left parents for living separately for 2 months or more|\n",
    "|tygrtr|Retire permanently, age too young. SPLIT BALLOT|\n",
    "|gndr|Gender|\n",
    "|yrbrn|Year of birth|\n",
    "|edlvddk|Highest level of education, Denmark|\n",
    "|eduyrs|Years of full-time education completed|\n",
    "|wkhct|Total contracted hours per week in main job overtime excluded|\n",
    "|wkhtot|Total hours normally worked per week in main job overtime included|\n",
    "|grspnum|What is your usual [weekly/monthly/annual] gross pay|\n",
    "|frlgrsp|Fair level of [weekly/monthly/annual] gross pay for you|\n",
    "|inwtm|Interview length in minutes, main questionnaire|\n"
   ]
  },
  {
   "cell_type": "markdown",
   "id": "intense-question",
   "metadata": {},
   "source": [
    "## Inspicer data med `pandas`\n",
    "\n",
    "Datasættet er nu indlæst som et dataframe objekt i Python, som man kan interagere med. \n",
    "\n",
    "Metoden `.head()` printer de første fem rækker af datasættet:"
   ]
  },
  {
   "cell_type": "code",
   "execution_count": 40,
   "id": "coupled-found",
   "metadata": {},
   "outputs": [
    {
     "data": {
      "text/html": [
       "<div>\n",
       "<style scoped>\n",
       "    .dataframe tbody tr th:only-of-type {\n",
       "        vertical-align: middle;\n",
       "    }\n",
       "\n",
       "    .dataframe tbody tr th {\n",
       "        vertical-align: top;\n",
       "    }\n",
       "\n",
       "    .dataframe thead th {\n",
       "        text-align: right;\n",
       "    }\n",
       "</style>\n",
       "<table border=\"1\" class=\"dataframe\">\n",
       "  <thead>\n",
       "    <tr style=\"text-align: right;\">\n",
       "      <th></th>\n",
       "      <th>idno</th>\n",
       "      <th>netustm</th>\n",
       "      <th>ppltrst</th>\n",
       "      <th>vote</th>\n",
       "      <th>prtvtddk</th>\n",
       "      <th>lvpntyr</th>\n",
       "      <th>tygrtr</th>\n",
       "      <th>gndr</th>\n",
       "      <th>yrbrn</th>\n",
       "      <th>edlvddk</th>\n",
       "      <th>eduyrs</th>\n",
       "      <th>wkhct</th>\n",
       "      <th>wkhtot</th>\n",
       "      <th>grspnum</th>\n",
       "      <th>frlgrsp</th>\n",
       "      <th>inwtm</th>\n",
       "    </tr>\n",
       "  </thead>\n",
       "  <tbody>\n",
       "    <tr>\n",
       "      <th>0</th>\n",
       "      <td>110</td>\n",
       "      <td>180.0</td>\n",
       "      <td>8.0</td>\n",
       "      <td>Yes</td>\n",
       "      <td>Socialdemokratiet - The Social democrats</td>\n",
       "      <td>1968</td>\n",
       "      <td>Never too young</td>\n",
       "      <td>Male</td>\n",
       "      <td>1949</td>\n",
       "      <td>Kort videregående uddannelse af op til 2-3 års...</td>\n",
       "      <td>9.0</td>\n",
       "      <td>28.0</td>\n",
       "      <td>28.0</td>\n",
       "      <td>NaN</td>\n",
       "      <td>NaN</td>\n",
       "      <td>119.0</td>\n",
       "    </tr>\n",
       "    <tr>\n",
       "      <th>1</th>\n",
       "      <td>705</td>\n",
       "      <td>60.0</td>\n",
       "      <td>5.0</td>\n",
       "      <td>Yes</td>\n",
       "      <td>Det Konservative Folkeparti - Conservative Peo...</td>\n",
       "      <td>1976</td>\n",
       "      <td>67</td>\n",
       "      <td>Male</td>\n",
       "      <td>1958</td>\n",
       "      <td>Kort videregående uddannelse af op til 2-3 års...</td>\n",
       "      <td>22.0</td>\n",
       "      <td>37.0</td>\n",
       "      <td>45.0</td>\n",
       "      <td>NaN</td>\n",
       "      <td>NaN</td>\n",
       "      <td>55.0</td>\n",
       "    </tr>\n",
       "    <tr>\n",
       "      <th>2</th>\n",
       "      <td>1327</td>\n",
       "      <td>240.0</td>\n",
       "      <td>5.0</td>\n",
       "      <td>NaN</td>\n",
       "      <td>NaN</td>\n",
       "      <td>Still in parental home, never left 2 months</td>\n",
       "      <td>NaN</td>\n",
       "      <td>Male</td>\n",
       "      <td>2000</td>\n",
       "      <td>Folkeskole 9.-10. klasse</td>\n",
       "      <td>11.0</td>\n",
       "      <td>37.0</td>\n",
       "      <td>37.0</td>\n",
       "      <td>NaN</td>\n",
       "      <td>NaN</td>\n",
       "      <td>37.0</td>\n",
       "    </tr>\n",
       "    <tr>\n",
       "      <th>3</th>\n",
       "      <td>3760</td>\n",
       "      <td>300.0</td>\n",
       "      <td>7.0</td>\n",
       "      <td>Not eligible to vote</td>\n",
       "      <td>NaN</td>\n",
       "      <td>Still in parental home, never left 2 months</td>\n",
       "      <td>40</td>\n",
       "      <td>Male</td>\n",
       "      <td>2002</td>\n",
       "      <td>Folkeskole 9.-10. klasse</td>\n",
       "      <td>9.0</td>\n",
       "      <td>2.0</td>\n",
       "      <td>2.0</td>\n",
       "      <td>200.0</td>\n",
       "      <td>NaN</td>\n",
       "      <td>43.0</td>\n",
       "    </tr>\n",
       "    <tr>\n",
       "      <th>4</th>\n",
       "      <td>4658</td>\n",
       "      <td>90.0</td>\n",
       "      <td>8.0</td>\n",
       "      <td>Yes</td>\n",
       "      <td>NaN</td>\n",
       "      <td>1974</td>\n",
       "      <td>50</td>\n",
       "      <td>Female</td>\n",
       "      <td>1956</td>\n",
       "      <td>Kort videregående uddannelse af op til 2-3 års...</td>\n",
       "      <td>4.0</td>\n",
       "      <td>30.0</td>\n",
       "      <td>30.0</td>\n",
       "      <td>NaN</td>\n",
       "      <td>NaN</td>\n",
       "      <td>62.0</td>\n",
       "    </tr>\n",
       "  </tbody>\n",
       "</table>\n",
       "</div>"
      ],
      "text/plain": [
       "   idno  netustm  ppltrst                  vote  \\\n",
       "0   110    180.0      8.0                   Yes   \n",
       "1   705     60.0      5.0                   Yes   \n",
       "2  1327    240.0      5.0                   NaN   \n",
       "3  3760    300.0      7.0  Not eligible to vote   \n",
       "4  4658     90.0      8.0                   Yes   \n",
       "\n",
       "                                            prtvtddk  \\\n",
       "0           Socialdemokratiet - The Social democrats   \n",
       "1  Det Konservative Folkeparti - Conservative Peo...   \n",
       "2                                                NaN   \n",
       "3                                                NaN   \n",
       "4                                                NaN   \n",
       "\n",
       "                                       lvpntyr           tygrtr    gndr  \\\n",
       "0                                         1968  Never too young    Male   \n",
       "1                                         1976               67    Male   \n",
       "2  Still in parental home, never left 2 months              NaN    Male   \n",
       "3  Still in parental home, never left 2 months               40    Male   \n",
       "4                                         1974               50  Female   \n",
       "\n",
       "   yrbrn                                            edlvddk  eduyrs  wkhct  \\\n",
       "0   1949  Kort videregående uddannelse af op til 2-3 års...     9.0   28.0   \n",
       "1   1958  Kort videregående uddannelse af op til 2-3 års...    22.0   37.0   \n",
       "2   2000                           Folkeskole 9.-10. klasse    11.0   37.0   \n",
       "3   2002                           Folkeskole 9.-10. klasse     9.0    2.0   \n",
       "4   1956  Kort videregående uddannelse af op til 2-3 års...     4.0   30.0   \n",
       "\n",
       "   wkhtot  grspnum  frlgrsp  inwtm  \n",
       "0    28.0      NaN      NaN  119.0  \n",
       "1    45.0      NaN      NaN   55.0  \n",
       "2    37.0      NaN      NaN   37.0  \n",
       "3     2.0    200.0      NaN   43.0  \n",
       "4    30.0      NaN      NaN   62.0  "
      ]
     },
     "execution_count": 40,
     "metadata": {},
     "output_type": "execute_result"
    }
   ],
   "source": [
    "ess2018.head()"
   ]
  },
  {
   "cell_type": "markdown",
   "id": "adjusted-caribbean",
   "metadata": {},
   "source": [
    "Dataframes er et tabulært dataformat. Når en fil indlæses som en pandas dataframe, skal filen derfor være i et format, der kan konverteres til tabelformat (data i rækker og kolonner).\n",
    "\n",
    "I dette datasæt udgør observationerne (rækkerne) enkeltpersoner, som har besvaret spørgeskemaet. De enkelte kolonner indeholder oplysninger om de enkelte personer. \n",
    "Af ovenstående print af de første fem række kan man fx læse, at personen i række 4 (rækkeindeks 3) er en kvinde født i 1958, som er 162 cm høj."
   ]
  },
  {
   "cell_type": "markdown",
   "id": "miniature-arena",
   "metadata": {},
   "source": [
    "**NaN?**\n",
    "\n",
    "Som det ses af datasættet fremgår værdien `NaN` flere gange i datasættet (fx under kolonnen `prtvtddk`). \n",
    "\n",
    "`NaN` angiver missingværdi. En missingværdi er en ikke-gyldig værdi; fx hvis en person ikke svarer, informationen ikke har været muligt at skaffe eller andet."
   ]
  },
  {
   "cell_type": "markdown",
   "id": "australian-removal",
   "metadata": {},
   "source": [
    "### Kolonner/variable \n",
    "\n",
    "En dataframe består af en samling af kolonner. En kolonne i en dataframe kaldes en `series`.\n",
    "\n",
    "Navnene på kolonnerne, som en dataframe indeholder, kan ses af attributen `.columns`:"
   ]
  },
  {
   "cell_type": "code",
   "execution_count": 41,
   "id": "literary-friendly",
   "metadata": {},
   "outputs": [
    {
     "data": {
      "text/plain": [
       "Index(['idno', 'netustm', 'ppltrst', 'vote', 'prtvtddk', 'lvpntyr', 'tygrtr',\n",
       "       'gndr', 'yrbrn', 'edlvddk', 'eduyrs', 'wkhct', 'wkhtot', 'grspnum',\n",
       "       'frlgrsp', 'inwtm'],\n",
       "      dtype='object')"
      ]
     },
     "execution_count": 41,
     "metadata": {},
     "output_type": "execute_result"
    }
   ],
   "source": [
    "ess2018.columns"
   ]
  },
  {
   "cell_type": "markdown",
   "id": "separated-length",
   "metadata": {},
   "source": [
    "## Inspicer variable\n",
    "\n",
    "En enkelt variabel/kolonne i datasættet referes til med `[]`:"
   ]
  },
  {
   "cell_type": "code",
   "execution_count": 43,
   "id": "rocky-pizza",
   "metadata": {},
   "outputs": [
    {
     "data": {
      "text/plain": [
       "0                                           1968\n",
       "1                                           1976\n",
       "2    Still in parental home, never left 2 months\n",
       "3    Still in parental home, never left 2 months\n",
       "4                                           1974\n",
       "Name: lvpntyr, dtype: object"
      ]
     },
     "execution_count": 43,
     "metadata": {},
     "output_type": "execute_result"
    }
   ],
   "source": [
    "ess2018['lvpntyr'].head()"
   ]
  },
  {
   "cell_type": "markdown",
   "id": "infinite-alabama",
   "metadata": {},
   "source": [
    "Vi kan bruge en metode som `.value_counts()` til at optælle værdierne inden for én kolonne:"
   ]
  },
  {
   "cell_type": "code",
   "execution_count": 46,
   "id": "postal-beads",
   "metadata": {},
   "outputs": [
    {
     "data": {
      "text/plain": [
       "Male      846\n",
       "Female    726\n",
       "Name: gndr, dtype: int64"
      ]
     },
     "execution_count": 46,
     "metadata": {},
     "output_type": "execute_result"
    }
   ],
   "source": [
    "ess2018['gndr'].value_counts()"
   ]
  },
  {
   "cell_type": "markdown",
   "id": "sharing-facing",
   "metadata": {},
   "source": [
    "Med funktionen `pd.crosstab()` kan vi opsummere over to variable:"
   ]
  },
  {
   "cell_type": "code",
   "execution_count": 49,
   "id": "corrected-share",
   "metadata": {},
   "outputs": [
    {
     "data": {
      "text/html": [
       "<div>\n",
       "<style scoped>\n",
       "    .dataframe tbody tr th:only-of-type {\n",
       "        vertical-align: middle;\n",
       "    }\n",
       "\n",
       "    .dataframe tbody tr th {\n",
       "        vertical-align: top;\n",
       "    }\n",
       "\n",
       "    .dataframe thead th {\n",
       "        text-align: right;\n",
       "    }\n",
       "</style>\n",
       "<table border=\"1\" class=\"dataframe\">\n",
       "  <thead>\n",
       "    <tr style=\"text-align: right;\">\n",
       "      <th>prtvtddk</th>\n",
       "      <th>Alternativet - The Alternative</th>\n",
       "      <th>Dansk Folkeparti - Danish People's Party</th>\n",
       "      <th>Det Konservative Folkeparti - Conservative People's Party</th>\n",
       "      <th>Det Radikale Venstre - The Radical Liberal Party</th>\n",
       "      <th>Enhedslisten - Unity List - The Red-Green Alliance</th>\n",
       "      <th>Kristendemokraterne - Christian Democrats</th>\n",
       "      <th>Liberal Alliance - Liberal Alliance</th>\n",
       "      <th>Other</th>\n",
       "      <th>SF Socialistisk Folkeparti - Socialist People's Party</th>\n",
       "      <th>Socialdemokratiet - The Social democrats</th>\n",
       "      <th>Venstre, Danmarks Liberale Parti - The Liberal Party</th>\n",
       "    </tr>\n",
       "    <tr>\n",
       "      <th>gndr</th>\n",
       "      <th></th>\n",
       "      <th></th>\n",
       "      <th></th>\n",
       "      <th></th>\n",
       "      <th></th>\n",
       "      <th></th>\n",
       "      <th></th>\n",
       "      <th></th>\n",
       "      <th></th>\n",
       "      <th></th>\n",
       "      <th></th>\n",
       "    </tr>\n",
       "  </thead>\n",
       "  <tbody>\n",
       "    <tr>\n",
       "      <th>Female</th>\n",
       "      <td>29</td>\n",
       "      <td>64</td>\n",
       "      <td>23</td>\n",
       "      <td>29</td>\n",
       "      <td>47</td>\n",
       "      <td>6</td>\n",
       "      <td>18</td>\n",
       "      <td>7</td>\n",
       "      <td>43</td>\n",
       "      <td>157</td>\n",
       "      <td>138</td>\n",
       "    </tr>\n",
       "    <tr>\n",
       "      <th>Male</th>\n",
       "      <td>24</td>\n",
       "      <td>108</td>\n",
       "      <td>29</td>\n",
       "      <td>43</td>\n",
       "      <td>44</td>\n",
       "      <td>9</td>\n",
       "      <td>30</td>\n",
       "      <td>9</td>\n",
       "      <td>30</td>\n",
       "      <td>181</td>\n",
       "      <td>162</td>\n",
       "    </tr>\n",
       "  </tbody>\n",
       "</table>\n",
       "</div>"
      ],
      "text/plain": [
       "prtvtddk  Alternativet - The Alternative  \\\n",
       "gndr                                       \n",
       "Female                                29   \n",
       "Male                                  24   \n",
       "\n",
       "prtvtddk  Dansk Folkeparti - Danish People's Party  \\\n",
       "gndr                                                 \n",
       "Female                                          64   \n",
       "Male                                           108   \n",
       "\n",
       "prtvtddk  Det Konservative Folkeparti - Conservative People's Party  \\\n",
       "gndr                                                                  \n",
       "Female                                                   23           \n",
       "Male                                                     29           \n",
       "\n",
       "prtvtddk  Det Radikale Venstre - The Radical Liberal Party  \\\n",
       "gndr                                                         \n",
       "Female                                                  29   \n",
       "Male                                                    43   \n",
       "\n",
       "prtvtddk  Enhedslisten - Unity List - The Red-Green Alliance  \\\n",
       "gndr                                                           \n",
       "Female                                                   47    \n",
       "Male                                                     44    \n",
       "\n",
       "prtvtddk  Kristendemokraterne - Christian Democrats  \\\n",
       "gndr                                                  \n",
       "Female                                            6   \n",
       "Male                                              9   \n",
       "\n",
       "prtvtddk  Liberal Alliance - Liberal Alliance  Other  \\\n",
       "gndr                                                   \n",
       "Female                                     18      7   \n",
       "Male                                       30      9   \n",
       "\n",
       "prtvtddk  SF Socialistisk Folkeparti - Socialist People's Party  \\\n",
       "gndr                                                              \n",
       "Female                                                   43       \n",
       "Male                                                     30       \n",
       "\n",
       "prtvtddk  Socialdemokratiet - The Social democrats  \\\n",
       "gndr                                                 \n",
       "Female                                         157   \n",
       "Male                                           181   \n",
       "\n",
       "prtvtddk  Venstre, Danmarks Liberale Parti - The Liberal Party  \n",
       "gndr                                                            \n",
       "Female                                                  138     \n",
       "Male                                                    162     "
      ]
     },
     "execution_count": 49,
     "metadata": {},
     "output_type": "execute_result"
    }
   ],
   "source": [
    "pd.crosstab(ess2018['gndr'], ess2018['prtvtddk'])"
   ]
  },
  {
   "cell_type": "markdown",
   "id": "daily-killing",
   "metadata": {},
   "source": [
    "# ØVELSE 1: INDLÆS DATA OG INSPICER VARIABLE\n",
    "\n",
    "1. Indlæs datasættet `ESS2018DK_subset.csv` med `pd.read_csv()`, hvis du ikke allerede har gjort det.\n",
    "\n",
    "    - Link til data: https://github.com/CALDISS-AAU/course_ndms-I/raw/master/datasets/ESS2018DK_subset.csv\n",
    "    \n",
    "2. Tjek at datasættet er indlæst korrekt med `.head()`\n",
    "3. Brug `.value_counts()` til at finde ud af, hvor mange af respondenterne, der har \"Lang videregående uddannelse\" som deres højeste fuldførte uddannelse."
   ]
  },
  {
   "cell_type": "markdown",
   "id": "confidential-apartment",
   "metadata": {},
   "source": [
    "# Visualisering med `pandas`\n",
    "\n",
    "`pandas` dataframes har en række indbyggede metoder til at plotte enkelte variable. \n",
    "\n",
    "Plottingfunktionerne bruger pakken `matplotlib`, så gennem denne kan vi indstille størrelsen på plots:"
   ]
  },
  {
   "cell_type": "code",
   "execution_count": 52,
   "id": "valid-necessity",
   "metadata": {},
   "outputs": [],
   "source": [
    "import matplotlib.pyplot as plt \n",
    "\n",
    "%matplotlib inline \n",
    "\n",
    "plt.rcParams['figure.figsize'] = (20.0, 10.0)"
   ]
  },
  {
   "cell_type": "markdown",
   "id": "distant-latvia",
   "metadata": {},
   "source": [
    "Vi kan fx bruge metoden `.plot.hist()` til at lave et histogram:"
   ]
  },
  {
   "cell_type": "code",
   "execution_count": 53,
   "id": "forbidden-cisco",
   "metadata": {},
   "outputs": [
    {
     "data": {
      "text/plain": [
       "<AxesSubplot:ylabel='Frequency'>"
      ]
     },
     "execution_count": 53,
     "metadata": {},
     "output_type": "execute_result"
    },
    {
     "data": {
      "image/png": "[encoded data removed]",
      "text/plain": [
       "<Figure size 1440x720 with 1 Axes>"
      ]
     },
     "metadata": {
      "needs_background": "light"
     },
     "output_type": "display_data"
    }
   ],
   "source": [
    "ess2018['yrbrn'].plot.hist(bins = 30)"
   ]
  },
  {
   "cell_type": "markdown",
   "id": "departmental-scroll",
   "metadata": {},
   "source": [
    "`.plot.box()` kan bruges til boxplots."
   ]
  },
  {
   "cell_type": "code",
   "execution_count": 54,
   "id": "sustainable-seminar",
   "metadata": {},
   "outputs": [
    {
     "data": {
      "text/plain": [
       "<AxesSubplot:>"
      ]
     },
     "execution_count": 54,
     "metadata": {},
     "output_type": "execute_result"
    },
    {
     "data": {
      "image/png": "[encoded data removed]",
      "text/plain": [
       "<Figure size 1440x720 with 1 Axes>"
      ]
     },
     "metadata": {
      "needs_background": "light"
     },
     "output_type": "display_data"
    }
   ],
   "source": [
    "ess2018['yrbrn'].plot.box()"
   ]
  },
  {
   "cell_type": "markdown",
   "id": "centered-obligation",
   "metadata": {},
   "source": [
    "`.plot.bar()` kan bruges til at lave søjlediagrammer over optællinger fra `.value_counts()` :"
   ]
  },
  {
   "cell_type": "code",
   "execution_count": 56,
   "id": "measured-tamil",
   "metadata": {},
   "outputs": [
    {
     "data": {
      "text/plain": [
       "<AxesSubplot:>"
      ]
     },
     "execution_count": 56,
     "metadata": {},
     "output_type": "execute_result"
    },
    {
     "data": {
      "image/png": "[encoded data removed]",
      "text/plain": [
       "<Figure size 1440x720 with 1 Axes>"
      ]
     },
     "metadata": {
      "needs_background": "light"
     },
     "output_type": "display_data"
    }
   ],
   "source": [
    "ess2018['prtvtddk'].value_counts().plot.bar()"
   ]
  },
  {
   "cell_type": "markdown",
   "id": "sudden-tiger",
   "metadata": {},
   "source": [
    "Alternativt en pie-chart med `.plot.pie()`. Denne kan med fordel kombineres med `.value_counts()`:"
   ]
  },
  {
   "cell_type": "code",
   "execution_count": 57,
   "id": "streaming-application",
   "metadata": {},
   "outputs": [
    {
     "data": {
      "text/plain": [
       "<AxesSubplot:ylabel='prtvtddk'>"
      ]
     },
     "execution_count": 57,
     "metadata": {},
     "output_type": "execute_result"
    },
    {
     "data": {
      "image/png": "[encoded data removed]",
      "text/plain": [
       "<Figure size 1440x720 with 1 Axes>"
      ]
     },
     "metadata": {},
     "output_type": "display_data"
    }
   ],
   "source": [
    "ess2018['prtvtddk'].value_counts().plot.pie()"
   ]
  },
  {
   "cell_type": "markdown",
   "id": "divine-malta",
   "metadata": {},
   "source": [
    "## Visualisering med `seaborn` \n",
    "\n",
    "Der findes forskellige pakker til at lave visualisering i Python. En meget populær pakke er `seaborn`: https://seaborn.pydata.org/\n",
    "\n",
    "Med `seaborn` kan man relativt nemt lave visualiseringer over flere variable. \n",
    "\n",
    "I `seaborn` dannes plots ved først at refere specifikt til den plotting funtkion, som man vil bruge, og derefter specificere data.\n",
    "\n",
    "Nedenstående linje danner et scatterplot for `yrbrn` (fødselsår) og `wkhtot` (antal arbejdstimer om ugen). Ved `seaborn` plottingfunktioner specificeres, hvilke værdier der skal udgøre x-aksen og hvilke, der skal udgøre y-aksen. `seaborn` forventer typisk series, så man kan specificere series direkte i funktionerne. Dog kan man også, som i nedenstående, specificere kolonne/variabelnavne og til sidst specificere data med argumentet `data = `:"
   ]
  },
  {
   "cell_type": "code",
   "execution_count": 58,
   "id": "satellite-brazilian",
   "metadata": {},
   "outputs": [],
   "source": [
    "import seaborn as sns\n",
    "\n",
    "sns.set(rc={'figure.figsize':(20,10)}) # Ændrer størrelsen af plots"
   ]
  },
  {
   "cell_type": "code",
   "execution_count": 61,
   "id": "manual-duration",
   "metadata": {},
   "outputs": [
    {
     "data": {
      "text/plain": [
       "<AxesSubplot:xlabel='yrbrn', ylabel='wkhtot'>"
      ]
     },
     "execution_count": 61,
     "metadata": {},
     "output_type": "execute_result"
    },
    {
     "data": {
      "image/png": "[encoded data removed]",
      "text/plain": [
       "<Figure size 1440x720 with 1 Axes>"
      ]
     },
     "metadata": {},
     "output_type": "display_data"
    }
   ],
   "source": [
    "sns.scatterplot(data = ess2018, x = 'yrbrn', y = 'wkhtot')"
   ]
  },
  {
   "cell_type": "markdown",
   "id": "immune-villa",
   "metadata": {},
   "source": [
    "Et scatterplot danner en prik for hver observations placering på to variable. Plottet egner sig derfor særdeles godt til at udforske umiddelbare sammenhænge (om en variabel er beslægtet med en anden).\n",
    "\n",
    "`seaborn` overskriver desuden standard grafindstillingerne i matplotlib, sådan at graferne bliver mere \"moderne\" at se på."
   ]
  },
  {
   "cell_type": "markdown",
   "id": "sweet-attempt",
   "metadata": {},
   "source": [
    "# ØVELSE 2: VISUALISERING AF DATA\n",
    "\n",
    "1. Dan et histogram over variablen `grspnum` (selvrapporteret gennemsnitlig månedlige indkomst)\n",
    "2. Dan et søjlediagram over optællinger over `edlvddk` (højest opnåede uddannelsesniveau)"
   ]
  },
  {
   "cell_type": "markdown",
   "id": "limited-brake",
   "metadata": {},
   "source": [
    "# Deskriptive mål\n",
    "\n",
    "Én måde at udforske et datasæt er ved at se nærmere på forskellige deskriptive mål for variable i datasættet.\n",
    "\n",
    "Metoden `.describe()` danner deskriptive mål for alle (kompatible) variable i datasættet:"
   ]
  },
  {
   "cell_type": "code",
   "execution_count": 62,
   "id": "animal-pearl",
   "metadata": {},
   "outputs": [
    {
     "data": {
      "text/html": [
       "<div>\n",
       "<style scoped>\n",
       "    .dataframe tbody tr th:only-of-type {\n",
       "        vertical-align: middle;\n",
       "    }\n",
       "\n",
       "    .dataframe tbody tr th {\n",
       "        vertical-align: top;\n",
       "    }\n",
       "\n",
       "    .dataframe thead th {\n",
       "        text-align: right;\n",
       "    }\n",
       "</style>\n",
       "<table border=\"1\" class=\"dataframe\">\n",
       "  <thead>\n",
       "    <tr style=\"text-align: right;\">\n",
       "      <th></th>\n",
       "      <th>idno</th>\n",
       "      <th>netustm</th>\n",
       "      <th>ppltrst</th>\n",
       "      <th>yrbrn</th>\n",
       "      <th>eduyrs</th>\n",
       "      <th>wkhct</th>\n",
       "      <th>wkhtot</th>\n",
       "      <th>grspnum</th>\n",
       "      <th>frlgrsp</th>\n",
       "      <th>inwtm</th>\n",
       "    </tr>\n",
       "  </thead>\n",
       "  <tbody>\n",
       "    <tr>\n",
       "      <th>count</th>\n",
       "      <td>1572.000000</td>\n",
       "      <td>1395.000000</td>\n",
       "      <td>1568.000000</td>\n",
       "      <td>1572.000000</td>\n",
       "      <td>1559.000000</td>\n",
       "      <td>1448.000000</td>\n",
       "      <td>1502.000000</td>\n",
       "      <td>8.200000e+02</td>\n",
       "      <td>2.740000e+02</td>\n",
       "      <td>1566.000000</td>\n",
       "    </tr>\n",
       "    <tr>\n",
       "      <th>mean</th>\n",
       "      <td>110821.670483</td>\n",
       "      <td>232.204301</td>\n",
       "      <td>7.063138</td>\n",
       "      <td>1968.245547</td>\n",
       "      <td>13.678640</td>\n",
       "      <td>33.229282</td>\n",
       "      <td>36.171771</td>\n",
       "      <td>9.598654e+04</td>\n",
       "      <td>6.304640e+04</td>\n",
       "      <td>62.676884</td>\n",
       "    </tr>\n",
       "    <tr>\n",
       "      <th>std</th>\n",
       "      <td>26076.703893</td>\n",
       "      <td>193.175426</td>\n",
       "      <td>1.813012</td>\n",
       "      <td>19.188190</td>\n",
       "      <td>5.781205</td>\n",
       "      <td>10.568167</td>\n",
       "      <td>13.205436</td>\n",
       "      <td>2.935044e+05</td>\n",
       "      <td>1.616759e+05</td>\n",
       "      <td>24.774517</td>\n",
       "    </tr>\n",
       "    <tr>\n",
       "      <th>min</th>\n",
       "      <td>110.000000</td>\n",
       "      <td>0.000000</td>\n",
       "      <td>0.000000</td>\n",
       "      <td>1929.000000</td>\n",
       "      <td>0.000000</td>\n",
       "      <td>0.000000</td>\n",
       "      <td>0.000000</td>\n",
       "      <td>0.000000e+00</td>\n",
       "      <td>0.000000e+00</td>\n",
       "      <td>17.000000</td>\n",
       "    </tr>\n",
       "    <tr>\n",
       "      <th>25%</th>\n",
       "      <td>93622.750000</td>\n",
       "      <td>90.000000</td>\n",
       "      <td>6.000000</td>\n",
       "      <td>1953.000000</td>\n",
       "      <td>11.000000</td>\n",
       "      <td>32.000000</td>\n",
       "      <td>34.000000</td>\n",
       "      <td>2.600000e+04</td>\n",
       "      <td>2.800000e+04</td>\n",
       "      <td>50.000000</td>\n",
       "    </tr>\n",
       "    <tr>\n",
       "      <th>50%</th>\n",
       "      <td>112966.000000</td>\n",
       "      <td>180.000000</td>\n",
       "      <td>7.000000</td>\n",
       "      <td>1967.000000</td>\n",
       "      <td>14.000000</td>\n",
       "      <td>37.000000</td>\n",
       "      <td>37.000000</td>\n",
       "      <td>3.300000e+04</td>\n",
       "      <td>3.500000e+04</td>\n",
       "      <td>59.000000</td>\n",
       "    </tr>\n",
       "    <tr>\n",
       "      <th>75%</th>\n",
       "      <td>131429.750000</td>\n",
       "      <td>330.000000</td>\n",
       "      <td>8.000000</td>\n",
       "      <td>1984.000000</td>\n",
       "      <td>17.000000</td>\n",
       "      <td>37.000000</td>\n",
       "      <td>42.000000</td>\n",
       "      <td>4.600000e+04</td>\n",
       "      <td>4.000000e+04</td>\n",
       "      <td>70.000000</td>\n",
       "    </tr>\n",
       "    <tr>\n",
       "      <th>max</th>\n",
       "      <td>150446.000000</td>\n",
       "      <td>1020.000000</td>\n",
       "      <td>10.000000</td>\n",
       "      <td>2003.000000</td>\n",
       "      <td>40.000000</td>\n",
       "      <td>80.000000</td>\n",
       "      <td>168.000000</td>\n",
       "      <td>5.000000e+06</td>\n",
       "      <td>1.500000e+06</td>\n",
       "      <td>613.000000</td>\n",
       "    </tr>\n",
       "  </tbody>\n",
       "</table>\n",
       "</div>"
      ],
      "text/plain": [
       "                idno      netustm      ppltrst        yrbrn       eduyrs  \\\n",
       "count    1572.000000  1395.000000  1568.000000  1572.000000  1559.000000   \n",
       "mean   110821.670483   232.204301     7.063138  1968.245547    13.678640   \n",
       "std     26076.703893   193.175426     1.813012    19.188190     5.781205   \n",
       "min       110.000000     0.000000     0.000000  1929.000000     0.000000   \n",
       "25%     93622.750000    90.000000     6.000000  1953.000000    11.000000   \n",
       "50%    112966.000000   180.000000     7.000000  1967.000000    14.000000   \n",
       "75%    131429.750000   330.000000     8.000000  1984.000000    17.000000   \n",
       "max    150446.000000  1020.000000    10.000000  2003.000000    40.000000   \n",
       "\n",
       "             wkhct       wkhtot       grspnum       frlgrsp        inwtm  \n",
       "count  1448.000000  1502.000000  8.200000e+02  2.740000e+02  1566.000000  \n",
       "mean     33.229282    36.171771  9.598654e+04  6.304640e+04    62.676884  \n",
       "std      10.568167    13.205436  2.935044e+05  1.616759e+05    24.774517  \n",
       "min       0.000000     0.000000  0.000000e+00  0.000000e+00    17.000000  \n",
       "25%      32.000000    34.000000  2.600000e+04  2.800000e+04    50.000000  \n",
       "50%      37.000000    37.000000  3.300000e+04  3.500000e+04    59.000000  \n",
       "75%      37.000000    42.000000  4.600000e+04  4.000000e+04    70.000000  \n",
       "max      80.000000   168.000000  5.000000e+06  1.500000e+06   613.000000  "
      ]
     },
     "execution_count": 62,
     "metadata": {},
     "output_type": "execute_result"
    }
   ],
   "source": [
    "ess2018.describe()"
   ]
  },
  {
   "cell_type": "markdown",
   "id": "executive-vector",
   "metadata": {},
   "source": [
    "Metoden fungerer også på enkeltvariable:"
   ]
  },
  {
   "cell_type": "code",
   "execution_count": 63,
   "id": "adapted-dylan",
   "metadata": {},
   "outputs": [
    {
     "data": {
      "text/plain": [
       "count    1502.000000\n",
       "mean       36.171771\n",
       "std        13.205436\n",
       "min         0.000000\n",
       "25%        34.000000\n",
       "50%        37.000000\n",
       "75%        42.000000\n",
       "max       168.000000\n",
       "Name: wkhtot, dtype: float64"
      ]
     },
     "execution_count": 63,
     "metadata": {},
     "output_type": "execute_result"
    }
   ],
   "source": [
    "ess2018['wkhtot'].describe()"
   ]
  },
  {
   "cell_type": "markdown",
   "id": "taken-counter",
   "metadata": {},
   "source": [
    "`.describe()` danner følgende mål:\n",
    "- `count`: Antal svar ekskl. missing\n",
    "- `mean`: Middelværdien\n",
    "- `std`: Standardafvigelsen\n",
    "- `min`: Minimumværdien\n",
    "- `25%`: 1. kvartil\n",
    "- `50%`: 2. kvartil\n",
    "- `75%`: 3. kvartil\n",
    "- `max`: Maksimumværdien"
   ]
  },
  {
   "cell_type": "markdown",
   "id": "spatial-white",
   "metadata": {},
   "source": [
    "Der knytter sig også en række metoder til at danne de enkelte deskriptive mål.\n",
    "\n",
    "Herunder printes fx middelværdien, standardafvigelsen, minimums- og maksimumsværdien for variablen `weight`:"
   ]
  },
  {
   "cell_type": "code",
   "execution_count": 64,
   "id": "handed-montgomery",
   "metadata": {},
   "outputs": [
    {
     "name": "stdout",
     "output_type": "stream",
     "text": [
      "36.17177097203729\n",
      "13.20543573826518\n",
      "0.0\n",
      "168.0\n"
     ]
    }
   ],
   "source": [
    "print(ess2018['wkhtot'].mean())\n",
    "print(ess2018['wkhtot'].std())\n",
    "print(ess2018['wkhtot'].min())\n",
    "print(ess2018['wkhtot'].max())"
   ]
  },
  {
   "cell_type": "markdown",
   "id": "random-innocent",
   "metadata": {},
   "source": [
    "Ovenstående værdier fortæller, at `wkhtot` indeholder værdier fra 0.0 til 168.0 med en middelværdi på 36.17 og en standardafvigelse på 13.21 (middelværdien af de afstande, som hver observation afviger fra middelværdien)."
   ]
  },
  {
   "cell_type": "markdown",
   "id": "graduate-permission",
   "metadata": {},
   "source": [
    "## Deskriptive mål og kategoriske variable\n",
    "\n",
    "Sammenlignes outputtet fra `.describe()` med indholdet af datasættet ses, at der ikke udregnes deskriptive mål for alle variable. \n",
    "\n",
    "Når `.describe()` bruges på et hel dataframe, udregnes kun mål for numeriske variabeltyper; altså variable, der kun består af tal.\n",
    "\n",
    "Metoden kan dog også bruges på en kategorisk variabel som `ppltrst`:"
   ]
  },
  {
   "cell_type": "code",
   "execution_count": 65,
   "id": "abroad-correction",
   "metadata": {},
   "outputs": [
    {
     "data": {
      "text/plain": [
       "count     1566\n",
       "unique       3\n",
       "top        Yes\n",
       "freq      1332\n",
       "Name: vote, dtype: object"
      ]
     },
     "execution_count": 65,
     "metadata": {},
     "output_type": "execute_result"
    }
   ],
   "source": [
    "ess2018['vote'].describe()"
   ]
  },
  {
   "cell_type": "markdown",
   "id": "preliminary-reputation",
   "metadata": {},
   "source": [
    "## Opsummeringer på gruppeniveau: Groupby"
   ]
  },
  {
   "cell_type": "markdown",
   "id": "suburban-house",
   "metadata": {},
   "source": [
    "En effektiv måde at udforske og udføre indledende deskriptive analyser af sine data, er ved at undersøge de grupperinger, som data indeholder.\n",
    "\n",
    "Her skal vi se på nogen forskellige måder, hvor der kan udregnes deskriptive mål og dannes visualiseringer for grupper i data\n",
    "\n",
    "Vi starter med at indlæse de nødvendige pakker og data. Aldersvariablen (som også blev tilføjet i lektion 3) tilføjes igen:"
   ]
  },
  {
   "cell_type": "markdown",
   "id": "respective-anxiety",
   "metadata": {},
   "source": [
    "## Brug af split-apply til at opsummere data\n",
    "\n",
    "Metoden `.groupby()` grupperer datasæt efter de givne variable:"
   ]
  },
  {
   "cell_type": "code",
   "execution_count": 66,
   "id": "comparative-recipe",
   "metadata": {},
   "outputs": [],
   "source": [
    "grouped_df = ess2018.groupby(['gndr'])"
   ]
  },
  {
   "cell_type": "markdown",
   "id": "preliminary-dollar",
   "metadata": {},
   "source": [
    "Selve objektet, som bliver dannet, indeholder ikke information, der bare kan kaldes frem direkte:"
   ]
  },
  {
   "cell_type": "code",
   "execution_count": 67,
   "id": "naval-project",
   "metadata": {},
   "outputs": [
    {
     "data": {
      "text/plain": [
       "<pandas.core.groupby.generic.DataFrameGroupBy object at 0x00000274EDE120C8>"
      ]
     },
     "execution_count": 67,
     "metadata": {},
     "output_type": "execute_result"
    }
   ],
   "source": [
    "grouped_df"
   ]
  },
  {
   "cell_type": "markdown",
   "id": "active-webmaster",
   "metadata": {},
   "source": [
    "Dog kan vi danne de samme deskriptive mål, som vi kan for hele datasættet, men hvor de opsummeres på gruppeniveauet:"
   ]
  },
  {
   "cell_type": "code",
   "execution_count": 68,
   "id": "shared-potato",
   "metadata": {},
   "outputs": [
    {
     "data": {
      "text/html": [
       "<div>\n",
       "<style scoped>\n",
       "    .dataframe tbody tr th:only-of-type {\n",
       "        vertical-align: middle;\n",
       "    }\n",
       "\n",
       "    .dataframe tbody tr th {\n",
       "        vertical-align: top;\n",
       "    }\n",
       "\n",
       "    .dataframe thead th {\n",
       "        text-align: right;\n",
       "    }\n",
       "</style>\n",
       "<table border=\"1\" class=\"dataframe\">\n",
       "  <thead>\n",
       "    <tr style=\"text-align: right;\">\n",
       "      <th></th>\n",
       "      <th>idno</th>\n",
       "      <th>netustm</th>\n",
       "      <th>ppltrst</th>\n",
       "      <th>yrbrn</th>\n",
       "      <th>eduyrs</th>\n",
       "      <th>wkhct</th>\n",
       "      <th>wkhtot</th>\n",
       "      <th>grspnum</th>\n",
       "      <th>frlgrsp</th>\n",
       "      <th>inwtm</th>\n",
       "    </tr>\n",
       "    <tr>\n",
       "      <th>gndr</th>\n",
       "      <th></th>\n",
       "      <th></th>\n",
       "      <th></th>\n",
       "      <th></th>\n",
       "      <th></th>\n",
       "      <th></th>\n",
       "      <th></th>\n",
       "      <th></th>\n",
       "      <th></th>\n",
       "      <th></th>\n",
       "    </tr>\n",
       "  </thead>\n",
       "  <tbody>\n",
       "    <tr>\n",
       "      <th>Female</th>\n",
       "      <td>111135.282369</td>\n",
       "      <td>227.564669</td>\n",
       "      <td>7.140496</td>\n",
       "      <td>1967.834711</td>\n",
       "      <td>13.847010</td>\n",
       "      <td>31.939850</td>\n",
       "      <td>33.561404</td>\n",
       "      <td>53165.458689</td>\n",
       "      <td>45699.366667</td>\n",
       "      <td>64.078621</td>\n",
       "    </tr>\n",
       "    <tr>\n",
       "      <th>Male</th>\n",
       "      <td>110552.542553</td>\n",
       "      <td>236.069645</td>\n",
       "      <td>6.996437</td>\n",
       "      <td>1968.598109</td>\n",
       "      <td>13.534524</td>\n",
       "      <td>34.324393</td>\n",
       "      <td>38.354523</td>\n",
       "      <td>128033.880597</td>\n",
       "      <td>84030.717742</td>\n",
       "      <td>61.468490</td>\n",
       "    </tr>\n",
       "  </tbody>\n",
       "</table>\n",
       "</div>"
      ],
      "text/plain": [
       "                 idno     netustm   ppltrst        yrbrn     eduyrs  \\\n",
       "gndr                                                                  \n",
       "Female  111135.282369  227.564669  7.140496  1967.834711  13.847010   \n",
       "Male    110552.542553  236.069645  6.996437  1968.598109  13.534524   \n",
       "\n",
       "            wkhct     wkhtot        grspnum       frlgrsp      inwtm  \n",
       "gndr                                                                  \n",
       "Female  31.939850  33.561404   53165.458689  45699.366667  64.078621  \n",
       "Male    34.324393  38.354523  128033.880597  84030.717742  61.468490  "
      ]
     },
     "execution_count": 68,
     "metadata": {},
     "output_type": "execute_result"
    }
   ],
   "source": [
    "grouped_df.mean()"
   ]
  },
  {
   "cell_type": "markdown",
   "id": "elegant-waters",
   "metadata": {},
   "source": [
    "Det samme kan gøres for enkeltvariable:"
   ]
  },
  {
   "cell_type": "code",
   "execution_count": 69,
   "id": "engaged-leeds",
   "metadata": {},
   "outputs": [
    {
     "data": {
      "text/plain": [
       "gndr\n",
       "Female    33.561404\n",
       "Male      38.354523\n",
       "Name: wkhtot, dtype: float64"
      ]
     },
     "execution_count": 69,
     "metadata": {},
     "output_type": "execute_result"
    }
   ],
   "source": [
    "grouped_df['wkhtot'].mean()"
   ]
  },
  {
   "cell_type": "markdown",
   "id": "chief-single",
   "metadata": {},
   "source": [
    "En lang række metoder kan bruges på grupperede data. Se dem alle her: https://pandas.pydata.org/pandas-docs/stable/user_guide/groupby.html.\n",
    "\n",
    "- `mean()`: Middelværdi for grupperne\n",
    "\n",
    "- `size()`: Størrelse af grupperne\n",
    "\n",
    "- `count()`: Tællinger inden for grupperne\n",
    "\n",
    "- `describe()`: Deskriptive mål inden for grupperne\n",
    "\n",
    "- `min()`: Minimum for grupperne\n",
    "\n",
    "- `max()`: Maximum for grupperne"
   ]
  },
  {
   "cell_type": "markdown",
   "id": "exclusive-swiss",
   "metadata": {},
   "source": [
    "Metoden `value_counts()` kan bruges til at lave optællinger af kategoriske inden for grupperne.\n",
    "\n",
    "Herunder laves optælling for variablen `vote` fordelt på køn:"
   ]
  },
  {
   "cell_type": "code",
   "execution_count": 71,
   "id": "dedicated-marble",
   "metadata": {},
   "outputs": [
    {
     "data": {
      "text/plain": [
       "gndr    vote                \n",
       "Female  Yes                     626\n",
       "        Not eligible to vote     63\n",
       "        No                       34\n",
       "Male    Yes                     706\n",
       "        Not eligible to vote     77\n",
       "        No                       60\n",
       "Name: vote, dtype: int64"
      ]
     },
     "execution_count": 71,
     "metadata": {},
     "output_type": "execute_result"
    }
   ],
   "source": [
    "grouped_df['vote'].value_counts()"
   ]
  },
  {
   "cell_type": "markdown",
   "id": "minus-variation",
   "metadata": {},
   "source": [
    "# ØVELSE 3: Deskriptive mål\n",
    "\n",
    "1. Brug `.describe()` eller passende metoder til at finde ud af følgende:\n",
    "\n",
    "- Hvor gammel er den yngste person i datasættet?\n",
    "- Hvor gammel er den ældste person i datasættet?\n",
    "- Hvad er gennemsnitsalderen i datasættet?\n",
    "\n",
    "- *Husk at datasættet er fra 2018.*\n",
    "\n",
    "\n",
    "2. Brug `.groupby()` til at finde ud af, om kvinderne eller mændende i datasættet har flest års uddannelse i gennemsnit.\n"
   ]
  },
  {
   "cell_type": "markdown",
   "id": "ranging-peoples",
   "metadata": {},
   "source": [
    "## Visualisering af grupperinger\n",
    "\n",
    "Grupperede data og optællinger af grupperede data kan plottes direkte:"
   ]
  },
  {
   "cell_type": "code",
   "execution_count": 72,
   "id": "motivated-distinction",
   "metadata": {},
   "outputs": [
    {
     "data": {
      "text/plain": [
       "<AxesSubplot:xlabel='gndr,vote'>"
      ]
     },
     "execution_count": 72,
     "metadata": {},
     "output_type": "execute_result"
    },
    {
     "data": {
      "image/png": "[encoded data removed]",
      "text/plain": [
       "<Figure size 1440x720 with 1 Axes>"
      ]
     },
     "metadata": {},
     "output_type": "display_data"
    }
   ],
   "source": [
    "grouped_df['vote'].value_counts().plot.bar()"
   ]
  },
  {
   "cell_type": "markdown",
   "id": "elect-standing",
   "metadata": {},
   "source": [
    "Ovenstående plot er ikke så kønt. Fx kunne det give mening at farvelægge efter værdierne i `vote`. Det kan gøres ved at bruge metoden `unstack()` og så danne plottet:"
   ]
  },
  {
   "cell_type": "code",
   "execution_count": 73,
   "id": "working-necessity",
   "metadata": {},
   "outputs": [
    {
     "data": {
      "text/plain": [
       "<AxesSubplot:xlabel='gndr'>"
      ]
     },
     "execution_count": 73,
     "metadata": {},
     "output_type": "execute_result"
    },
    {
     "data": {
      "image/png": "[encoded data removed]",
      "text/plain": [
       "<Figure size 1440x720 with 1 Axes>"
      ]
     },
     "metadata": {},
     "output_type": "display_data"
    }
   ],
   "source": [
    "grouped_df['vote'].value_counts().unstack('vote').plot.bar()"
   ]
  },
  {
   "cell_type": "markdown",
   "id": "verbal-hello",
   "metadata": {},
   "source": [
    "### Sidenote: Hvad gør `unstack`?\n",
    "\n",
    "`unstack()` er en metode, der bruges til såkaldt \"wide\"-konvertering.\n",
    "\n",
    "Hvis vi først ser på `value_counts()`, gives tællinger i long format; altså hvor hver række er en optælling, og optællingerne differentieres med en kolonne (`vote`)."
   ]
  },
  {
   "cell_type": "code",
   "execution_count": 74,
   "id": "pediatric-benefit",
   "metadata": {},
   "outputs": [
    {
     "data": {
      "text/plain": [
       "gndr    vote                \n",
       "Female  Yes                     626\n",
       "        Not eligible to vote     63\n",
       "        No                       34\n",
       "Male    Yes                     706\n",
       "        Not eligible to vote     77\n",
       "        No                       60\n",
       "Name: vote, dtype: int64"
      ]
     },
     "execution_count": 74,
     "metadata": {},
     "output_type": "execute_result"
    }
   ],
   "source": [
    "grouped_df['vote'].value_counts()"
   ]
  },
  {
   "cell_type": "markdown",
   "id": "atlantic-thousand",
   "metadata": {},
   "source": [
    "`unstack()` tager værdierne fra `vote` og laver dem til kolonner. På den måde dannes der kun én række per gruppe, hvor værdier adskilles i kolonnerne (wide-format):"
   ]
  },
  {
   "cell_type": "code",
   "execution_count": 76,
   "id": "recorded-circle",
   "metadata": {},
   "outputs": [
    {
     "data": {
      "text/html": [
       "<div>\n",
       "<style scoped>\n",
       "    .dataframe tbody tr th:only-of-type {\n",
       "        vertical-align: middle;\n",
       "    }\n",
       "\n",
       "    .dataframe tbody tr th {\n",
       "        vertical-align: top;\n",
       "    }\n",
       "\n",
       "    .dataframe thead th {\n",
       "        text-align: right;\n",
       "    }\n",
       "</style>\n",
       "<table border=\"1\" class=\"dataframe\">\n",
       "  <thead>\n",
       "    <tr style=\"text-align: right;\">\n",
       "      <th>vote</th>\n",
       "      <th>No</th>\n",
       "      <th>Not eligible to vote</th>\n",
       "      <th>Yes</th>\n",
       "    </tr>\n",
       "    <tr>\n",
       "      <th>gndr</th>\n",
       "      <th></th>\n",
       "      <th></th>\n",
       "      <th></th>\n",
       "    </tr>\n",
       "  </thead>\n",
       "  <tbody>\n",
       "    <tr>\n",
       "      <th>Female</th>\n",
       "      <td>34</td>\n",
       "      <td>63</td>\n",
       "      <td>626</td>\n",
       "    </tr>\n",
       "    <tr>\n",
       "      <th>Male</th>\n",
       "      <td>60</td>\n",
       "      <td>77</td>\n",
       "      <td>706</td>\n",
       "    </tr>\n",
       "  </tbody>\n",
       "</table>\n",
       "</div>"
      ],
      "text/plain": [
       "vote    No  Not eligible to vote  Yes\n",
       "gndr                                 \n",
       "Female  34                    63  626\n",
       "Male    60                    77  706"
      ]
     },
     "execution_count": 76,
     "metadata": {},
     "output_type": "execute_result"
    }
   ],
   "source": [
    "grouped_df['vote'].value_counts().unstack('vote')"
   ]
  },
  {
   "cell_type": "markdown",
   "id": "broken-vector",
   "metadata": {},
   "source": [
    "Når sådan en tabel plottes med `.plot.bar()` farvelægges der efter kolonneværdierne automatisk."
   ]
  },
  {
   "cell_type": "code",
   "execution_count": 77,
   "id": "reasonable-trance",
   "metadata": {},
   "outputs": [
    {
     "data": {
      "text/plain": [
       "<AxesSubplot:xlabel='gndr'>"
      ]
     },
     "execution_count": 77,
     "metadata": {},
     "output_type": "execute_result"
    },
    {
     "data": {
      "image/png": "[encoded data removed]",
      "text/plain": [
       "<Figure size 1440x720 with 1 Axes>"
      ]
     },
     "metadata": {},
     "output_type": "display_data"
    }
   ],
   "source": [
    "grouped_df['vote'].value_counts().unstack('vote').plot.bar()"
   ]
  },
  {
   "cell_type": "markdown",
   "id": "appropriate-crash",
   "metadata": {},
   "source": [
    "# ØVELSE 4: VISUALISER GRUPPERINGER\n",
    "\n",
    "Dan en visualisering, der viser det gennemsnitlige antal arbejdstimer om ugen for mænd og kvinder i datasættet."
   ]
  },
  {
   "cell_type": "markdown",
   "id": "respiratory-basement",
   "metadata": {},
   "source": [
    "# Hvordan er dataframes opbygget?\n",
    "\n",
    "Lad os se nærmere på, hvordan en dataframe er opbygget.\n",
    "\n",
    "Kort sagt består dataframes af rækker (index) og kolonner (series). "
   ]
  },
  {
   "cell_type": "markdown",
   "id": "injured-asthma",
   "metadata": {},
   "source": [
    "## Kolonner (`Series`) i en dataframe\n",
    "\n",
    "En pandas `Series` er en en-dimensionel datastruktur; svarende til en kolonne eller en variabel.\n",
    "\n",
    "En enkelt `Series` kan lagres som sit eget objekt. Hermed kan vi se, at typen ændrer sig fra \"dataframe\" til \"series\"."
   ]
  },
  {
   "cell_type": "code",
   "execution_count": 82,
   "id": "russian-methodology",
   "metadata": {},
   "outputs": [
    {
     "data": {
      "text/plain": [
       "pandas.core.frame.DataFrame"
      ]
     },
     "execution_count": 82,
     "metadata": {},
     "output_type": "execute_result"
    }
   ],
   "source": [
    "ess2018_vote = ess2018['vote']\n",
    "type(ess2018)"
   ]
  },
  {
   "cell_type": "code",
   "execution_count": 83,
   "id": "incident-grass",
   "metadata": {},
   "outputs": [
    {
     "data": {
      "text/plain": [
       "pandas.core.series.Series"
      ]
     },
     "execution_count": 83,
     "metadata": {},
     "output_type": "execute_result"
    }
   ],
   "source": [
    "type(ess2018_vote)"
   ]
  },
  {
   "cell_type": "markdown",
   "id": "august-lodging",
   "metadata": {},
   "source": [
    "### Series og metoder\n",
    "\n",
    "Bemærk, at mange af de metoder, som vi har brugt indtil videre, bliver kaldt på en enkelt variabel (`Series`), og ikke et helt datasæt.\n",
    "\n",
    "Husk at Python metoder er relateret til bestemte objekter. Når man bruger fx metoder, så vær opmærksom på, om I forsøger at gøre det på et helt datasæt eller en enkelt `Series`."
   ]
  },
  {
   "cell_type": "markdown",
   "id": "smart-arlington",
   "metadata": {},
   "source": [
    "### Series og Python lister\n",
    "\n",
    "`Series` er på mange måder kompatible med Python lister. Python lister er en grundlæggende datastruktur, som kan være brugbar i mange sammenhænge.\n",
    "\n",
    "Man kan altid tvinge en `Series` om til at være en liste med funktionen `list()`:"
   ]
  },
  {
   "cell_type": "code",
   "execution_count": 85,
   "id": "proprietary-jamaica",
   "metadata": {},
   "outputs": [
    {
     "name": "stdout",
     "output_type": "stream",
     "text": [
      "['Yes', 'Yes', nan, 'Not eligible to vote', 'Yes', 'Yes', 'Yes', 'Yes', 'Yes', 'Yes', 'Yes', 'Yes', 'Yes', 'Yes', 'Yes', 'Yes', 'Yes', 'Yes', 'Yes', 'Yes', 'Yes', 'Yes', 'Yes', 'Yes', 'Yes', 'Yes', 'Yes', 'No', 'Yes', 'Yes', 'Yes', 'Yes', 'Yes', 'Yes', 'Yes', 'Yes', 'Yes', 'Yes', 'Yes', 'Yes', 'No', 'Yes', 'No', 'Yes', 'Yes', 'Yes', 'No', 'Yes', 'Yes', 'Yes', 'Yes', 'Yes', 'Yes', 'Yes', 'No', 'Yes', 'Yes', 'Yes', 'Yes', 'Yes', 'Yes', 'Yes', 'Yes', 'Yes', 'Not eligible to vote', 'Yes', 'Yes', 'Yes', 'Yes', 'No', 'Not eligible to vote', 'No', 'Yes', 'Yes', 'Yes', 'No', 'Yes', 'Yes', 'Yes', 'Not eligible to vote', 'No', 'Not eligible to vote', 'Not eligible to vote', 'Yes', 'Yes', 'Yes', 'Yes', 'Not eligible to vote', 'Yes', 'Yes', 'No', 'Yes', 'Yes', 'Yes', 'Yes', 'Yes', 'Yes', 'Yes', 'Yes', 'Yes', 'No', 'Yes', 'Yes', 'Yes', 'Yes', 'Yes', 'Yes', 'Yes', 'Yes', 'Yes', 'Yes', 'Yes', 'Yes', 'Yes', 'Yes', 'Yes', 'Yes', 'Yes', 'Yes', 'Yes', 'Yes', 'Yes', 'Not eligible to vote', 'Yes', 'Yes', 'Yes', 'Yes', 'Not eligible to vote', 'Yes', 'No', 'No', 'Yes', 'Yes', 'Yes', 'Yes', 'Yes', 'Yes', 'Yes', 'Yes', 'Yes', 'Yes', 'Yes', 'Yes', 'Not eligible to vote', 'Yes', 'Yes', 'Yes', 'Yes', 'Yes', 'Yes', 'Yes', 'Yes', 'Yes', 'Yes', 'Yes', 'Yes', 'Yes', 'Yes', 'Yes', 'Yes', 'Yes', 'Yes', 'Yes', 'Yes', 'Yes', 'Yes', 'Not eligible to vote', 'No', 'Yes', 'Yes', 'Yes', 'Yes', 'Yes', 'Yes', 'Not eligible to vote', 'No', 'Yes', 'No', 'Yes', 'No', 'Not eligible to vote', 'Yes', 'Yes', 'Yes', 'Yes', nan, 'No', 'Yes', 'Yes', 'Yes', 'Yes', 'No', 'Yes', 'Yes', 'Yes', 'Yes', 'Yes', 'Yes', 'Yes', 'Yes', 'Yes', 'Yes', 'Yes', 'Yes', 'Yes', 'Yes', 'Yes', 'Yes', 'Not eligible to vote', 'Yes', 'Yes', 'Not eligible to vote', 'Yes', 'Yes', 'Not eligible to vote', 'Yes', 'Yes', 'Yes', 'Yes', 'Not eligible to vote', 'No', 'Yes', 'Yes', 'Yes', 'Yes', 'Yes', 'No', 'Yes', 'Yes', 'Yes', 'Yes', 'Yes', 'Yes', 'Yes', 'Yes', 'Yes', 'Yes', 'Yes', 'Yes', 'Yes', 'Yes', 'Yes', 'Yes', 'Yes', 'Yes', 'Yes', 'Yes', 'Yes', 'Yes', 'Yes', 'Yes', 'Yes', 'Yes', 'Yes', 'Yes', 'Yes', 'Yes', 'No', 'Yes', 'Yes', 'Yes', 'Yes', 'Yes', 'Yes', 'No', 'Yes', 'Yes', 'Yes', 'Yes', 'Yes', 'Yes', 'Yes', 'Yes', 'Yes', 'Yes', 'Yes', 'Yes', 'Yes', 'Yes', 'Not eligible to vote', 'Yes', 'Yes', 'No', 'No', 'Yes', 'No', 'Yes', 'Yes', 'Yes', 'Yes', 'Yes', 'Yes', 'Yes', 'Yes', 'Not eligible to vote', 'Yes', 'Yes', 'Yes', 'Yes', 'Yes', 'Yes', 'Yes', 'Yes', 'Yes', 'Yes', 'No', 'Yes', 'Yes', 'No', 'Yes', 'Yes', 'Yes', 'Yes', 'Yes', 'Yes', 'Yes', 'Yes', 'Yes', 'Yes', 'Yes', 'Yes', 'No', 'Yes', 'Yes', 'Yes', 'Yes', 'Yes', 'Yes', 'Yes', 'Yes', 'Yes', 'Yes', 'Not eligible to vote', 'Yes', 'Not eligible to vote', 'Yes', 'Yes', 'Yes', 'Not eligible to vote', 'No', 'Not eligible to vote', 'Yes', 'Yes', 'Not eligible to vote', 'Yes', 'No', 'Yes', 'Yes', 'Yes', 'Yes', 'Yes', 'Yes', 'Yes', 'Yes', 'Yes', 'Yes', 'Yes', 'Yes', 'Yes', 'Yes', 'Yes', 'Yes', 'Yes', 'Yes', 'Not eligible to vote', 'Yes', 'Yes', 'Yes', 'Yes', 'Yes', 'Yes', 'Yes', 'Yes', 'Yes', 'Not eligible to vote', 'Yes', 'Yes', 'Yes', 'Yes', 'Yes', 'Not eligible to vote', 'Yes', 'Not eligible to vote', 'Yes', 'Yes', 'Yes', 'Not eligible to vote', 'Yes', 'Yes', 'Not eligible to vote', 'Yes', 'Not eligible to vote', 'Yes', 'Yes', 'Yes', 'Yes', 'Yes', 'Not eligible to vote', 'Yes', 'Yes', 'Yes', 'Yes', 'No', 'Yes', 'Yes', 'Yes', 'Yes', 'Yes', 'Yes', 'Yes', 'Yes', 'Yes', 'Not eligible to vote', 'Yes', 'Yes', 'Yes', 'Yes', 'Yes', 'Yes', 'Yes', 'Yes', 'Yes', 'Yes', 'Yes', 'Yes', 'Yes', 'Yes', 'Yes', 'Yes', 'Yes', 'No', 'Yes', 'Yes', 'No', 'Yes', 'Not eligible to vote', 'Yes', 'Yes', 'Yes', 'Not eligible to vote', 'Yes', 'Yes', 'Yes', nan, 'Yes', 'Not eligible to vote', 'Yes', 'Yes', 'Not eligible to vote', 'Yes', 'Yes', 'Yes', 'Yes', 'Yes', 'Yes', 'Yes', 'Yes', 'No', 'Yes', 'Yes', 'Yes', 'Yes', 'Yes', 'Yes', 'Yes', 'Yes', 'Yes', 'Yes', 'Yes', 'Yes', 'Yes', 'Yes', 'Yes', 'Yes', 'Not eligible to vote', 'Yes', 'Yes', 'Yes', 'Yes', 'Yes', 'Yes', 'Yes', 'No', 'Not eligible to vote', 'Yes', 'Yes', 'Not eligible to vote', 'Yes', 'Yes', 'Yes', 'Yes', 'Yes', 'Not eligible to vote', 'Yes', 'Yes', 'Yes', 'Yes', 'Yes', 'Yes', 'Yes', 'Yes', 'Yes', 'Yes', 'Yes', 'Yes', 'Yes', 'Yes', 'Yes', 'Not eligible to vote', 'Yes', 'Yes', 'Yes', 'Yes', 'Yes', 'Yes', 'Yes', 'Yes', 'No', 'Yes', 'Yes', 'No', 'Yes', 'No', 'Yes', 'Not eligible to vote', 'Yes', 'Yes', 'Yes', 'Yes', 'Yes', 'Yes', 'Yes', 'Yes', 'Yes', 'Yes', 'Yes', 'Yes', 'Not eligible to vote', 'Yes', 'Yes', 'Not eligible to vote', 'Yes', 'Yes', 'Yes', 'Yes', 'Yes', 'Yes', 'Yes', 'Yes', 'Yes', 'Yes', 'Yes', 'Yes', 'Yes', 'Yes', 'Yes', 'Yes', 'Yes', 'Not eligible to vote', 'Yes', 'Not eligible to vote', 'Yes', 'Yes', 'Not eligible to vote', 'Yes', 'Not eligible to vote', 'Yes', 'Yes', 'Yes', 'Yes', 'Yes', 'Yes', 'Yes', 'Yes', 'Yes', 'No', 'Yes', 'Yes', 'Yes', 'Yes', 'Yes', 'Yes', 'Yes', 'Yes', 'Yes', 'Yes', 'Yes', 'Yes', 'Yes', 'Yes', 'Yes', 'No', 'Yes', 'Yes', 'Yes', 'Yes', 'Not eligible to vote', 'Yes', 'No', 'Yes', 'Yes', 'Yes', 'Yes', 'Yes', 'Yes', 'Yes', 'Yes', 'Yes', 'Yes', 'Yes', 'Yes', 'Yes', 'Not eligible to vote', 'Yes', 'Yes', 'Yes', 'Yes', 'Yes', 'Yes', 'Yes', 'Yes', 'Yes', 'Yes', 'Yes', 'Yes', 'Yes', 'Yes', 'Yes', 'Yes', 'Yes', 'Not eligible to vote', 'Yes', 'Yes', 'Yes', 'Not eligible to vote', 'Yes', 'Yes', 'Yes', 'Yes', 'Yes', 'Yes', 'Yes', 'Yes', 'Not eligible to vote', 'Not eligible to vote', 'Not eligible to vote', 'Yes', 'Yes', 'Yes', 'Yes', 'Yes', 'Yes', 'Yes', 'Yes', 'Yes', 'Yes', 'Yes', 'Yes', 'Yes', 'Yes', 'Yes', 'Yes', 'Yes', 'Not eligible to vote', 'Yes', 'Yes', 'Yes', 'Yes', 'Yes', 'Yes', 'Yes', 'Yes', 'Yes', 'Yes', 'Yes', 'Yes', 'Yes', 'Not eligible to vote', 'Yes', 'Not eligible to vote', 'Yes', 'Yes', 'Not eligible to vote', 'Yes', 'Yes', 'Yes', 'Yes', 'Yes', 'Yes', 'Yes', 'Yes', 'Yes', 'Yes', 'Yes', 'Not eligible to vote', 'Yes', 'Yes', 'Not eligible to vote', 'Yes', 'Yes', 'Yes', 'Yes', 'Yes', 'Yes', 'Yes', 'Not eligible to vote', 'Not eligible to vote', 'Yes', 'Yes', 'Yes', 'Yes', 'Yes', 'Yes', 'Yes', 'Yes', 'Yes', 'Yes', 'Yes', 'Yes', 'Yes', 'Yes', 'Yes', 'Yes', 'Yes', 'Yes', 'Yes', 'Yes', 'Yes', 'Yes', 'Yes', 'Yes', 'Yes', 'Yes', 'Yes', 'Yes', 'Yes', 'Yes', 'Yes', 'Not eligible to vote', 'Yes', 'Yes', 'Yes', 'Yes', 'Yes', 'Yes', 'Yes', 'Yes', 'Yes', 'Yes', 'Yes', 'Yes', 'Yes', 'Yes', 'Yes', 'Yes', 'Yes', 'No', 'Yes', 'Yes', 'Yes', 'Yes', 'Yes', 'No', 'Not eligible to vote', 'Yes', 'Yes', 'Yes', 'Yes', 'Yes', 'Yes', 'Yes', 'Yes', 'Yes', 'Yes', 'Yes', 'Yes', 'Yes', 'No', 'Yes', 'Yes', 'Not eligible to vote', 'Yes', 'Yes', 'Yes', 'Yes', 'Yes', 'Yes', 'Yes', 'Yes', 'Yes', 'Yes', 'Yes', 'Yes', 'Not eligible to vote', 'Yes', 'Yes', 'Yes', 'Yes', 'Yes', 'Yes', 'Yes', 'Yes', 'Yes', 'Yes', 'Yes', 'Yes', 'Yes', 'Yes', 'Yes', 'Yes', 'Yes', 'Not eligible to vote', 'Yes', 'Not eligible to vote', 'Yes', 'Not eligible to vote', 'Yes', 'Not eligible to vote', 'Yes', 'Not eligible to vote', 'Yes', 'Yes', 'Yes', 'Yes', 'Yes', 'Yes', 'Yes', 'Yes', 'Yes', 'Yes', 'Yes', 'Yes', 'Yes', 'Yes', 'Yes', 'Yes', 'Yes', 'Yes', 'Yes', 'Yes', 'Yes', 'Yes', 'Yes', 'Yes', 'Yes', 'Yes', 'Yes', 'Yes', 'Yes', 'Yes', 'Yes', 'Yes', 'Yes', 'Yes', 'Yes', 'Yes', 'Not eligible to vote', 'Yes', 'Yes', 'Yes', 'No', 'Yes', 'Yes', 'Yes', 'Not eligible to vote', 'Yes', 'Yes', 'No', 'Yes', 'No', 'Yes', 'Yes', 'Yes', 'Yes', 'Yes', 'Yes', 'Not eligible to vote', 'Yes', 'Not eligible to vote', 'Yes', 'Yes', 'Yes', 'Yes', 'Yes', 'Yes', 'Yes', 'Yes', 'No', 'Yes', 'Yes', 'Yes', 'Yes', 'Yes', 'Yes', 'Yes', 'Yes', 'Yes', 'Yes', 'Yes', 'Yes', 'Yes', 'Yes', 'Yes', 'Yes', 'Yes', 'Yes', 'Yes', 'Yes', 'Not eligible to vote', 'Not eligible to vote', 'Yes', 'Yes', 'Yes', 'Yes', 'Yes', 'Yes', 'No', 'Yes', 'Yes', 'No', 'Yes', 'Yes', 'Yes', 'Yes', 'Yes', 'Yes', 'Yes', 'Yes', 'Yes', 'Not eligible to vote', 'Yes', 'Yes', 'Yes', 'Yes', 'Yes', 'Yes', 'No', 'Yes', 'Yes', 'Yes', 'Yes', 'Yes', 'Yes', 'Yes', 'Yes', 'Yes', 'Yes', 'Not eligible to vote', 'Yes', 'Yes', 'Yes', 'Yes', 'Yes', 'Yes', 'Yes', 'Yes', 'Yes', 'Yes', 'Yes', 'Not eligible to vote', 'Yes', 'Yes', 'Yes', 'Yes', 'Yes', 'Yes', 'Yes', 'Yes', 'Yes', 'Not eligible to vote', 'Yes', 'Yes', 'Yes', 'Yes', 'Yes', 'Yes', 'Yes', 'Yes', 'Yes', 'Yes', 'Not eligible to vote', 'Yes', 'Yes', 'Yes', 'Yes', 'Yes', 'Yes', 'Yes', 'Yes', 'Yes', 'Yes', 'Yes', 'Yes', 'Yes', 'Yes', 'Yes', 'Yes', 'Yes', 'Not eligible to vote', 'Yes', 'Yes', 'Yes', 'Yes', 'Yes', 'Yes', 'Yes', nan, 'Yes', 'No', 'Not eligible to vote', 'Yes', 'Not eligible to vote', 'Yes', 'Yes', 'Yes', 'Yes', 'Yes', 'Yes', 'Yes', 'Yes', 'Yes', 'Yes', 'Yes', 'No', 'Yes', 'Yes', 'Not eligible to vote', 'Yes', 'Yes', 'Yes', 'Yes', 'Yes', 'Yes', 'Yes', 'Yes', 'Yes', 'Yes', 'Yes', 'Yes', 'Yes', 'Yes', 'Yes', 'Yes', 'No', 'Yes', 'Yes', 'Yes', 'Yes', 'Yes', 'Yes', 'Yes', 'Yes', 'Yes', 'Not eligible to vote', 'Not eligible to vote', 'Not eligible to vote', 'Yes', 'Yes', 'Yes', 'Yes', 'Yes', 'Yes', 'Yes', 'Yes', 'Yes', 'Yes', 'Yes', 'Yes', 'Yes', 'Yes', 'Yes', 'Yes', 'Yes', 'Yes', 'Yes', 'Not eligible to vote', 'Yes', 'Yes', 'Yes', 'Yes', 'Yes', 'Not eligible to vote', 'No', 'Yes', 'Yes', 'No', 'Yes', 'Yes', 'Yes', 'Yes', 'Yes', 'No', 'Yes', 'Yes', 'No', 'Not eligible to vote', 'Yes', 'Yes', 'Not eligible to vote', 'Yes', 'Yes', 'Yes', 'Yes', 'Not eligible to vote', 'Yes', 'No', 'Yes', 'Yes', 'Yes', 'Yes', 'Not eligible to vote', 'Yes', 'No', 'Yes', 'Yes', 'Yes', 'Yes', 'Yes', 'Yes', 'Yes', 'Yes', 'Yes', 'Yes', 'Yes', 'Yes', 'Yes', 'No', 'Yes', 'Yes', 'Yes', 'Yes', 'Yes', 'Yes', 'Yes', 'Yes', 'Yes', 'Yes', 'No', 'Yes', 'Yes', 'Yes', 'Not eligible to vote', 'Yes', 'Yes', 'Yes', 'Yes', 'Yes', 'Yes', 'No', 'Yes', 'Yes', 'No', 'Yes', 'Yes', 'Yes', 'No', 'Yes', 'Yes', 'Yes', 'Yes', 'Yes', 'Yes', 'Yes', 'Yes', 'Yes', 'Yes', 'Yes', 'Yes', 'Yes', 'Yes', 'Yes', 'Yes', 'Yes', 'Yes', 'Yes', 'Yes', 'Yes', 'Yes', 'Yes', 'Yes', 'Not eligible to vote', 'Yes', 'Yes', 'No', 'Yes', 'Not eligible to vote', 'Yes', 'Not eligible to vote', 'Not eligible to vote', 'Yes', 'Yes', 'Not eligible to vote', 'Yes', 'Yes', 'Yes', 'No', 'Yes', 'Yes', 'Yes', 'Yes', 'Yes', 'Yes', 'Yes', 'Yes', 'No', 'Yes', 'Not eligible to vote', 'Yes', 'Yes', 'Yes', 'Yes', 'Yes', 'Yes', 'Yes', 'Yes', 'Yes', 'Yes', 'Yes', 'Yes', 'Not eligible to vote', 'Yes', 'Yes', 'Yes', 'No', 'Yes', 'Yes', 'Yes', 'Yes', 'Not eligible to vote', 'Yes', 'Yes', 'Yes', 'Yes', 'Yes', 'No', 'Yes', 'Yes', 'Yes', 'Yes', 'Yes', 'Yes', 'Yes', 'Not eligible to vote', 'Yes', 'Yes', 'Yes', 'Yes', 'Yes', 'Yes', 'No', 'Yes', 'Yes', 'Yes', 'Yes', 'Not eligible to vote', 'No', 'Yes', 'Yes', 'Yes', 'Yes', 'Yes', 'Yes', nan, 'Yes', 'Yes', 'Yes', 'Yes', 'Yes', 'Yes', 'Yes', 'Yes', 'Yes', 'Not eligible to vote', 'Yes', 'Yes', 'Yes', 'Yes', 'Not eligible to vote', 'Yes', 'No', 'No', 'Yes', 'Yes', 'Yes', 'Yes', 'Yes', 'Yes', 'Yes', 'Yes', 'No', 'Yes', 'Yes', 'Yes', 'No', 'Not eligible to vote', 'Yes', 'Yes', 'Yes', 'Yes', 'Yes', 'Yes', 'Yes', 'Yes', 'Yes', 'Yes', 'Not eligible to vote', 'Yes', 'Yes', 'Yes', 'Yes', 'Yes', 'Yes', 'Yes', 'Yes', 'Yes', 'No', 'Yes', 'Yes', 'Yes', 'Not eligible to vote', 'Yes', 'No', 'Yes', 'Yes', 'No', 'Yes', 'No', 'Yes', 'Yes', 'Yes', 'Yes', 'Yes', 'Yes', 'Yes', 'Yes', 'Yes', 'Yes', 'Yes', 'Yes', 'Yes', 'Yes', 'Yes', 'Yes', 'Yes', 'Yes', 'Yes', 'Yes', 'Not eligible to vote', 'Yes', 'Not eligible to vote', 'Yes', 'Yes', 'Yes', 'Yes', 'Yes', 'Yes', 'No', 'Yes', 'Yes', 'Yes', 'Yes', 'No', 'Yes', 'Not eligible to vote', 'Yes', 'Yes', 'Yes', 'Yes', 'Yes', 'Yes', 'Yes', 'Yes', 'Yes', 'Yes', 'Yes', 'Yes', 'Not eligible to vote', 'Not eligible to vote', 'Yes', 'Yes', 'No', 'Yes', 'Yes', 'Yes', 'Yes', 'Yes', 'Yes', 'Yes', 'Yes', 'Yes', 'Not eligible to vote', 'Yes', 'Not eligible to vote', 'Not eligible to vote', 'Yes', 'No', 'Yes', 'Not eligible to vote', 'Yes', 'Yes', 'Not eligible to vote', 'Yes', 'Yes', 'Yes', 'Yes', 'Yes', 'Not eligible to vote', 'No', 'Yes', 'Yes', 'Yes', 'Yes', 'Yes', 'Yes', 'Yes', 'Yes', 'Yes', 'Yes', 'Yes', 'Not eligible to vote', 'Yes', 'Yes', 'Yes', 'Yes', 'Yes', 'Yes', 'Yes', 'Yes', 'Yes', 'Yes', 'Yes', 'No', 'Not eligible to vote', 'Yes', 'Yes', 'No', 'Yes', 'Yes', 'Yes', 'Yes', 'Yes', 'Yes', 'Yes', 'Yes', 'Yes', 'Yes', 'Yes', 'Yes', 'Yes', 'Yes', 'Not eligible to vote', 'Yes', 'Yes', 'Yes', 'Yes', 'Yes', 'Yes', 'Yes', 'Yes', 'Yes', 'Yes', 'Yes', 'Yes', 'Not eligible to vote', 'Yes', 'Yes', 'Yes', 'Yes', 'Yes', 'Yes', 'Yes', 'Yes', 'Yes', 'Yes', 'Yes', 'Not eligible to vote', 'Yes', 'Yes', 'Yes', 'Not eligible to vote', 'Yes', 'Yes', 'Yes', 'No', 'Yes', 'Yes', 'Yes', 'Yes', 'Yes', 'Yes', 'Yes', 'Yes', 'Yes', 'Yes', 'Yes', 'Yes', 'Not eligible to vote', 'No', 'Not eligible to vote', 'Not eligible to vote', 'Yes', 'Yes', 'Yes', 'Yes', 'No', 'Yes', 'Yes', nan, 'Yes', 'Yes', 'Yes', 'Yes', 'Yes', 'Yes', 'Yes', 'Yes', 'Yes', 'Not eligible to vote', 'Not eligible to vote', 'Yes', 'Yes', 'Yes', 'Yes', 'Yes', 'Not eligible to vote', 'Yes', 'Yes', 'Yes', 'Yes', 'Yes', 'Yes', 'Yes', 'Yes', 'No', 'Yes', 'Yes', 'Yes', 'Yes', 'Yes', 'Yes', 'Yes', 'Yes', 'Yes', 'Yes', 'No', 'Yes', 'Yes', 'Not eligible to vote', 'Yes', 'Yes', 'Not eligible to vote', 'Yes', 'Yes', 'Yes', 'Yes', 'Yes', 'Yes', 'Not eligible to vote', 'Yes', 'Yes', 'Yes', 'Yes', 'Yes', 'Yes', 'Yes', 'Yes', 'Yes', 'Not eligible to vote', 'Yes', 'Yes', 'Yes', 'No']\n"
     ]
    }
   ],
   "source": [
    "ess2018_votelist = list(ess2018_vote)\n",
    "print(ess2018_votelist)"
   ]
  },
  {
   "cell_type": "markdown",
   "id": "sorted-boards",
   "metadata": {},
   "source": [
    "Omvendt kan man også tvinge en liste om til at være en `Series` med `pd.Series`."
   ]
  },
  {
   "cell_type": "code",
   "execution_count": 86,
   "id": "amateur-palmer",
   "metadata": {},
   "outputs": [
    {
     "name": "stdout",
     "output_type": "stream",
     "text": [
      "0                        Yes\n",
      "1                        Yes\n",
      "2                        NaN\n",
      "3       Not eligible to vote\n",
      "4                        Yes\n",
      "                ...         \n",
      "1567    Not eligible to vote\n",
      "1568                     Yes\n",
      "1569                     Yes\n",
      "1570                     Yes\n",
      "1571                      No\n",
      "Length: 1572, dtype: object\n"
     ]
    }
   ],
   "source": [
    "ess2018_voteseries = pd.Series(ess2018_votelist)\n",
    "print(ess2018_voteseries)"
   ]
  },
  {
   "cell_type": "markdown",
   "id": "toxic-vanilla",
   "metadata": {},
   "source": [
    "## Index i en dataframe\n",
    "\n",
    "Et \"indeks\" er en generel betegnelse i Python for værdiers ID, så at sige.\n",
    "\n",
    "I en dataframe bruges index til at referere til rækkenavnene. Disse kan ses af `.index`:"
   ]
  },
  {
   "cell_type": "code",
   "execution_count": 90,
   "id": "distinct-amino",
   "metadata": {},
   "outputs": [
    {
     "data": {
      "text/plain": [
       "[0, 1, 2, 3, 4, 5, 6, 7, 8, 9]"
      ]
     },
     "execution_count": 90,
     "metadata": {},
     "output_type": "execute_result"
    }
   ],
   "source": [
    "list(ess2018.index)[0:10]"
   ]
  },
  {
   "cell_type": "markdown",
   "id": "decreased-biotechnology",
   "metadata": {},
   "source": [
    "Index i Python starter ved 0. Den første række i en dataframe har derfor index 0.\n",
    "\n",
    "Et index behøver dog ikke være rækkenumre, da man altid kan ændre index-værdierne."
   ]
  },
  {
   "cell_type": "markdown",
   "id": "apart-manual",
   "metadata": {},
   "source": [
    "### Index i groupby\n",
    "\n",
    "Husk at vi ofte arbejder med mange objekter på en gang i Python. Når vi fx bruger `.groupby()` får vi returneret et groupby objekt, uden at ændre på det oprindelige data.\n",
    "\n",
    "Når så vi bruger en metode som fx `.value_counts` på et groupby objekt, så får vi en ny datastruktur returneret. Denne ligner en dataframe, men faktisk er det blot en enkelt kolonne (`Series`) med et index, der refererer til de forskellige grupperinger."
   ]
  },
  {
   "cell_type": "markdown",
   "id": "substantial-development",
   "metadata": {},
   "source": [
    "### Index i en `Series`\n",
    "\n",
    "I en enkelt `Series`, kan man refere til et bestemt index med `[]` (ligesom ved en Python liste):"
   ]
  },
  {
   "cell_type": "code",
   "execution_count": 91,
   "id": "designed-ready",
   "metadata": {},
   "outputs": [
    {
     "data": {
      "text/plain": [
       "'Yes'"
      ]
     },
     "execution_count": 91,
     "metadata": {},
     "output_type": "execute_result"
    }
   ],
   "source": [
    "ess2018_voteseries[10]"
   ]
  },
  {
   "cell_type": "markdown",
   "id": "blessed-syria",
   "metadata": {},
   "source": [
    "# Subsetting\n",
    "\n",
    "\"Subsetting\" vil sige at udvælge specifikke dele af data.\n",
    "\n",
    "Man subsetter pandas med metoderne `.loc()` og `.iloc()`. `.loc()` bruges til at subsette ud fra række- og kolonnenavne, mens `.iloc()` bruges til at subsette ud fra række- og kolnneindeks.\n",
    "\n",
    "Format for subsetting: `data.loc[rækker, kolonner]`\n",
    "\n",
    "Selekter bestemte rækker:"
   ]
  },
  {
   "cell_type": "code",
   "execution_count": 92,
   "id": "peripheral-modem",
   "metadata": {},
   "outputs": [
    {
     "data": {
      "text/html": [
       "<div>\n",
       "<style scoped>\n",
       "    .dataframe tbody tr th:only-of-type {\n",
       "        vertical-align: middle;\n",
       "    }\n",
       "\n",
       "    .dataframe tbody tr th {\n",
       "        vertical-align: top;\n",
       "    }\n",
       "\n",
       "    .dataframe thead th {\n",
       "        text-align: right;\n",
       "    }\n",
       "</style>\n",
       "<table border=\"1\" class=\"dataframe\">\n",
       "  <thead>\n",
       "    <tr style=\"text-align: right;\">\n",
       "      <th></th>\n",
       "      <th>idno</th>\n",
       "      <th>netustm</th>\n",
       "      <th>ppltrst</th>\n",
       "      <th>vote</th>\n",
       "      <th>prtvtddk</th>\n",
       "      <th>lvpntyr</th>\n",
       "      <th>tygrtr</th>\n",
       "      <th>gndr</th>\n",
       "      <th>yrbrn</th>\n",
       "      <th>edlvddk</th>\n",
       "      <th>eduyrs</th>\n",
       "      <th>wkhct</th>\n",
       "      <th>wkhtot</th>\n",
       "      <th>grspnum</th>\n",
       "      <th>frlgrsp</th>\n",
       "      <th>inwtm</th>\n",
       "    </tr>\n",
       "  </thead>\n",
       "  <tbody>\n",
       "    <tr>\n",
       "      <th>2</th>\n",
       "      <td>1327</td>\n",
       "      <td>240.0</td>\n",
       "      <td>5.0</td>\n",
       "      <td>NaN</td>\n",
       "      <td>NaN</td>\n",
       "      <td>Still in parental home, never left 2 months</td>\n",
       "      <td>NaN</td>\n",
       "      <td>Male</td>\n",
       "      <td>2000</td>\n",
       "      <td>Folkeskole 9.-10. klasse</td>\n",
       "      <td>11.0</td>\n",
       "      <td>37.0</td>\n",
       "      <td>37.0</td>\n",
       "      <td>NaN</td>\n",
       "      <td>NaN</td>\n",
       "      <td>37.0</td>\n",
       "    </tr>\n",
       "    <tr>\n",
       "      <th>3</th>\n",
       "      <td>3760</td>\n",
       "      <td>300.0</td>\n",
       "      <td>7.0</td>\n",
       "      <td>Not eligible to vote</td>\n",
       "      <td>NaN</td>\n",
       "      <td>Still in parental home, never left 2 months</td>\n",
       "      <td>40</td>\n",
       "      <td>Male</td>\n",
       "      <td>2002</td>\n",
       "      <td>Folkeskole 9.-10. klasse</td>\n",
       "      <td>9.0</td>\n",
       "      <td>2.0</td>\n",
       "      <td>2.0</td>\n",
       "      <td>200.0</td>\n",
       "      <td>NaN</td>\n",
       "      <td>43.0</td>\n",
       "    </tr>\n",
       "    <tr>\n",
       "      <th>4</th>\n",
       "      <td>4658</td>\n",
       "      <td>90.0</td>\n",
       "      <td>8.0</td>\n",
       "      <td>Yes</td>\n",
       "      <td>NaN</td>\n",
       "      <td>1974</td>\n",
       "      <td>50</td>\n",
       "      <td>Female</td>\n",
       "      <td>1956</td>\n",
       "      <td>Kort videregående uddannelse af op til 2-3 års...</td>\n",
       "      <td>4.0</td>\n",
       "      <td>30.0</td>\n",
       "      <td>30.0</td>\n",
       "      <td>NaN</td>\n",
       "      <td>NaN</td>\n",
       "      <td>62.0</td>\n",
       "    </tr>\n",
       "    <tr>\n",
       "      <th>5</th>\n",
       "      <td>5816</td>\n",
       "      <td>90.0</td>\n",
       "      <td>7.0</td>\n",
       "      <td>Yes</td>\n",
       "      <td>SF Socialistisk Folkeparti - Socialist People'...</td>\n",
       "      <td>1994</td>\n",
       "      <td>60</td>\n",
       "      <td>Male</td>\n",
       "      <td>1974</td>\n",
       "      <td>Mellemlang videregående uddannelse af 3-4 års ...</td>\n",
       "      <td>35.0</td>\n",
       "      <td>37.0</td>\n",
       "      <td>37.0</td>\n",
       "      <td>37000.0</td>\n",
       "      <td>35000.0</td>\n",
       "      <td>61.0</td>\n",
       "    </tr>\n",
       "    <tr>\n",
       "      <th>6</th>\n",
       "      <td>7251</td>\n",
       "      <td>300.0</td>\n",
       "      <td>5.0</td>\n",
       "      <td>Yes</td>\n",
       "      <td>Dansk Folkeparti - Danish People's Party</td>\n",
       "      <td>1993</td>\n",
       "      <td>40</td>\n",
       "      <td>Female</td>\n",
       "      <td>1975</td>\n",
       "      <td>Faglig uddannelse (håndværk, handel, landbrug ...</td>\n",
       "      <td>13.0</td>\n",
       "      <td>32.0</td>\n",
       "      <td>34.0</td>\n",
       "      <td>22000.0</td>\n",
       "      <td>30000.0</td>\n",
       "      <td>68.0</td>\n",
       "    </tr>\n",
       "    <tr>\n",
       "      <th>7</th>\n",
       "      <td>7887</td>\n",
       "      <td>360.0</td>\n",
       "      <td>8.0</td>\n",
       "      <td>Yes</td>\n",
       "      <td>Socialdemokratiet - The Social democrats</td>\n",
       "      <td>1983</td>\n",
       "      <td>55</td>\n",
       "      <td>Male</td>\n",
       "      <td>1958</td>\n",
       "      <td>Lang videregående uddannelse. Kandidatuddannel...</td>\n",
       "      <td>25.0</td>\n",
       "      <td>39.0</td>\n",
       "      <td>39.0</td>\n",
       "      <td>36000.0</td>\n",
       "      <td>42000.0</td>\n",
       "      <td>89.0</td>\n",
       "    </tr>\n",
       "    <tr>\n",
       "      <th>8</th>\n",
       "      <td>9607</td>\n",
       "      <td>540.0</td>\n",
       "      <td>9.0</td>\n",
       "      <td>Yes</td>\n",
       "      <td>Alternativet - The Alternative</td>\n",
       "      <td>1982</td>\n",
       "      <td>64</td>\n",
       "      <td>Female</td>\n",
       "      <td>1964</td>\n",
       "      <td>Mellemlang videregående uddannelse af 3-4 års ...</td>\n",
       "      <td>13.0</td>\n",
       "      <td>32.0</td>\n",
       "      <td>34.0</td>\n",
       "      <td>32000.0</td>\n",
       "      <td>NaN</td>\n",
       "      <td>50.0</td>\n",
       "    </tr>\n",
       "    <tr>\n",
       "      <th>9</th>\n",
       "      <td>11123</td>\n",
       "      <td>150.0</td>\n",
       "      <td>7.0</td>\n",
       "      <td>Yes</td>\n",
       "      <td>Socialdemokratiet - The Social democrats</td>\n",
       "      <td>1994</td>\n",
       "      <td>45</td>\n",
       "      <td>Male</td>\n",
       "      <td>1974</td>\n",
       "      <td>Faglig uddannelse (håndværk, handel, landbrug ...</td>\n",
       "      <td>16.0</td>\n",
       "      <td>37.0</td>\n",
       "      <td>37.0</td>\n",
       "      <td>9000.0</td>\n",
       "      <td>NaN</td>\n",
       "      <td>62.0</td>\n",
       "    </tr>\n",
       "    <tr>\n",
       "      <th>10</th>\n",
       "      <td>11688</td>\n",
       "      <td>NaN</td>\n",
       "      <td>5.0</td>\n",
       "      <td>Yes</td>\n",
       "      <td>Socialdemokratiet - The Social democrats</td>\n",
       "      <td>1968</td>\n",
       "      <td>50</td>\n",
       "      <td>Female</td>\n",
       "      <td>1952</td>\n",
       "      <td>Faglig uddannelse (håndværk, handel, landbrug ...</td>\n",
       "      <td>2.0</td>\n",
       "      <td>37.0</td>\n",
       "      <td>37.0</td>\n",
       "      <td>NaN</td>\n",
       "      <td>NaN</td>\n",
       "      <td>77.0</td>\n",
       "    </tr>\n",
       "  </tbody>\n",
       "</table>\n",
       "</div>"
      ],
      "text/plain": [
       "     idno  netustm  ppltrst                  vote  \\\n",
       "2    1327    240.0      5.0                   NaN   \n",
       "3    3760    300.0      7.0  Not eligible to vote   \n",
       "4    4658     90.0      8.0                   Yes   \n",
       "5    5816     90.0      7.0                   Yes   \n",
       "6    7251    300.0      5.0                   Yes   \n",
       "7    7887    360.0      8.0                   Yes   \n",
       "8    9607    540.0      9.0                   Yes   \n",
       "9   11123    150.0      7.0                   Yes   \n",
       "10  11688      NaN      5.0                   Yes   \n",
       "\n",
       "                                             prtvtddk  \\\n",
       "2                                                 NaN   \n",
       "3                                                 NaN   \n",
       "4                                                 NaN   \n",
       "5   SF Socialistisk Folkeparti - Socialist People'...   \n",
       "6            Dansk Folkeparti - Danish People's Party   \n",
       "7            Socialdemokratiet - The Social democrats   \n",
       "8                      Alternativet - The Alternative   \n",
       "9            Socialdemokratiet - The Social democrats   \n",
       "10           Socialdemokratiet - The Social democrats   \n",
       "\n",
       "                                        lvpntyr tygrtr    gndr  yrbrn  \\\n",
       "2   Still in parental home, never left 2 months    NaN    Male   2000   \n",
       "3   Still in parental home, never left 2 months     40    Male   2002   \n",
       "4                                          1974     50  Female   1956   \n",
       "5                                          1994     60    Male   1974   \n",
       "6                                          1993     40  Female   1975   \n",
       "7                                          1983     55    Male   1958   \n",
       "8                                          1982     64  Female   1964   \n",
       "9                                          1994     45    Male   1974   \n",
       "10                                         1968     50  Female   1952   \n",
       "\n",
       "                                              edlvddk  eduyrs  wkhct  wkhtot  \\\n",
       "2                            Folkeskole 9.-10. klasse    11.0   37.0    37.0   \n",
       "3                            Folkeskole 9.-10. klasse     9.0    2.0     2.0   \n",
       "4   Kort videregående uddannelse af op til 2-3 års...     4.0   30.0    30.0   \n",
       "5   Mellemlang videregående uddannelse af 3-4 års ...    35.0   37.0    37.0   \n",
       "6   Faglig uddannelse (håndværk, handel, landbrug ...    13.0   32.0    34.0   \n",
       "7   Lang videregående uddannelse. Kandidatuddannel...    25.0   39.0    39.0   \n",
       "8   Mellemlang videregående uddannelse af 3-4 års ...    13.0   32.0    34.0   \n",
       "9   Faglig uddannelse (håndværk, handel, landbrug ...    16.0   37.0    37.0   \n",
       "10  Faglig uddannelse (håndværk, handel, landbrug ...     2.0   37.0    37.0   \n",
       "\n",
       "    grspnum  frlgrsp  inwtm  \n",
       "2       NaN      NaN   37.0  \n",
       "3     200.0      NaN   43.0  \n",
       "4       NaN      NaN   62.0  \n",
       "5   37000.0  35000.0   61.0  \n",
       "6   22000.0  30000.0   68.0  \n",
       "7   36000.0  42000.0   89.0  \n",
       "8   32000.0      NaN   50.0  \n",
       "9    9000.0      NaN   62.0  \n",
       "10      NaN      NaN   77.0  "
      ]
     },
     "execution_count": 92,
     "metadata": {},
     "output_type": "execute_result"
    }
   ],
   "source": [
    "ess2018.loc[2:10, :]"
   ]
  },
  {
   "cell_type": "markdown",
   "id": "magnetic-chain",
   "metadata": {},
   "source": [
    "Selekter bestemte kolonner (specificeres som en liste):"
   ]
  },
  {
   "cell_type": "code",
   "execution_count": 94,
   "id": "equipped-fantasy",
   "metadata": {},
   "outputs": [
    {
     "data": {
      "text/html": [
       "<div>\n",
       "<style scoped>\n",
       "    .dataframe tbody tr th:only-of-type {\n",
       "        vertical-align: middle;\n",
       "    }\n",
       "\n",
       "    .dataframe tbody tr th {\n",
       "        vertical-align: top;\n",
       "    }\n",
       "\n",
       "    .dataframe thead th {\n",
       "        text-align: right;\n",
       "    }\n",
       "</style>\n",
       "<table border=\"1\" class=\"dataframe\">\n",
       "  <thead>\n",
       "    <tr style=\"text-align: right;\">\n",
       "      <th></th>\n",
       "      <th>gndr</th>\n",
       "      <th>vote</th>\n",
       "    </tr>\n",
       "  </thead>\n",
       "  <tbody>\n",
       "    <tr>\n",
       "      <th>0</th>\n",
       "      <td>Male</td>\n",
       "      <td>Yes</td>\n",
       "    </tr>\n",
       "    <tr>\n",
       "      <th>1</th>\n",
       "      <td>Male</td>\n",
       "      <td>Yes</td>\n",
       "    </tr>\n",
       "    <tr>\n",
       "      <th>2</th>\n",
       "      <td>Male</td>\n",
       "      <td>NaN</td>\n",
       "    </tr>\n",
       "    <tr>\n",
       "      <th>3</th>\n",
       "      <td>Male</td>\n",
       "      <td>Not eligible to vote</td>\n",
       "    </tr>\n",
       "    <tr>\n",
       "      <th>4</th>\n",
       "      <td>Female</td>\n",
       "      <td>Yes</td>\n",
       "    </tr>\n",
       "  </tbody>\n",
       "</table>\n",
       "</div>"
      ],
      "text/plain": [
       "     gndr                  vote\n",
       "0    Male                   Yes\n",
       "1    Male                   Yes\n",
       "2    Male                   NaN\n",
       "3    Male  Not eligible to vote\n",
       "4  Female                   Yes"
      ]
     },
     "execution_count": 94,
     "metadata": {},
     "output_type": "execute_result"
    }
   ],
   "source": [
    "ess2018.loc[:, ['gndr', 'vote']].head()"
   ]
  },
  {
   "cell_type": "markdown",
   "id": "illegal-declaration",
   "metadata": {},
   "source": [
    "Selekter bestemte rækker og kolonner:"
   ]
  },
  {
   "cell_type": "code",
   "execution_count": 95,
   "id": "literary-nutrition",
   "metadata": {},
   "outputs": [
    {
     "data": {
      "text/html": [
       "<div>\n",
       "<style scoped>\n",
       "    .dataframe tbody tr th:only-of-type {\n",
       "        vertical-align: middle;\n",
       "    }\n",
       "\n",
       "    .dataframe tbody tr th {\n",
       "        vertical-align: top;\n",
       "    }\n",
       "\n",
       "    .dataframe thead th {\n",
       "        text-align: right;\n",
       "    }\n",
       "</style>\n",
       "<table border=\"1\" class=\"dataframe\">\n",
       "  <thead>\n",
       "    <tr style=\"text-align: right;\">\n",
       "      <th></th>\n",
       "      <th>gndr</th>\n",
       "      <th>vote</th>\n",
       "    </tr>\n",
       "  </thead>\n",
       "  <tbody>\n",
       "    <tr>\n",
       "      <th>2</th>\n",
       "      <td>Male</td>\n",
       "      <td>NaN</td>\n",
       "    </tr>\n",
       "    <tr>\n",
       "      <th>3</th>\n",
       "      <td>Male</td>\n",
       "      <td>Not eligible to vote</td>\n",
       "    </tr>\n",
       "    <tr>\n",
       "      <th>4</th>\n",
       "      <td>Female</td>\n",
       "      <td>Yes</td>\n",
       "    </tr>\n",
       "    <tr>\n",
       "      <th>5</th>\n",
       "      <td>Male</td>\n",
       "      <td>Yes</td>\n",
       "    </tr>\n",
       "    <tr>\n",
       "      <th>6</th>\n",
       "      <td>Female</td>\n",
       "      <td>Yes</td>\n",
       "    </tr>\n",
       "    <tr>\n",
       "      <th>7</th>\n",
       "      <td>Male</td>\n",
       "      <td>Yes</td>\n",
       "    </tr>\n",
       "    <tr>\n",
       "      <th>8</th>\n",
       "      <td>Female</td>\n",
       "      <td>Yes</td>\n",
       "    </tr>\n",
       "    <tr>\n",
       "      <th>9</th>\n",
       "      <td>Male</td>\n",
       "      <td>Yes</td>\n",
       "    </tr>\n",
       "    <tr>\n",
       "      <th>10</th>\n",
       "      <td>Female</td>\n",
       "      <td>Yes</td>\n",
       "    </tr>\n",
       "  </tbody>\n",
       "</table>\n",
       "</div>"
      ],
      "text/plain": [
       "      gndr                  vote\n",
       "2     Male                   NaN\n",
       "3     Male  Not eligible to vote\n",
       "4   Female                   Yes\n",
       "5     Male                   Yes\n",
       "6   Female                   Yes\n",
       "7     Male                   Yes\n",
       "8   Female                   Yes\n",
       "9     Male                   Yes\n",
       "10  Female                   Yes"
      ]
     },
     "execution_count": 95,
     "metadata": {},
     "output_type": "execute_result"
    }
   ],
   "source": [
    "ess2018.loc[2:10, ['gndr', 'vote']]"
   ]
  },
  {
   "cell_type": "markdown",
   "id": "speaking-devil",
   "metadata": {},
   "source": [
    "Selekter ud fra kolonneindeks:"
   ]
  },
  {
   "cell_type": "code",
   "execution_count": 96,
   "id": "strange-headline",
   "metadata": {},
   "outputs": [
    {
     "data": {
      "text/html": [
       "<div>\n",
       "<style scoped>\n",
       "    .dataframe tbody tr th:only-of-type {\n",
       "        vertical-align: middle;\n",
       "    }\n",
       "\n",
       "    .dataframe tbody tr th {\n",
       "        vertical-align: top;\n",
       "    }\n",
       "\n",
       "    .dataframe thead th {\n",
       "        text-align: right;\n",
       "    }\n",
       "</style>\n",
       "<table border=\"1\" class=\"dataframe\">\n",
       "  <thead>\n",
       "    <tr style=\"text-align: right;\">\n",
       "      <th></th>\n",
       "      <th>yrbrn</th>\n",
       "      <th>lvpntyr</th>\n",
       "    </tr>\n",
       "  </thead>\n",
       "  <tbody>\n",
       "    <tr>\n",
       "      <th>2</th>\n",
       "      <td>2000</td>\n",
       "      <td>Still in parental home, never left 2 months</td>\n",
       "    </tr>\n",
       "    <tr>\n",
       "      <th>3</th>\n",
       "      <td>2002</td>\n",
       "      <td>Still in parental home, never left 2 months</td>\n",
       "    </tr>\n",
       "    <tr>\n",
       "      <th>4</th>\n",
       "      <td>1956</td>\n",
       "      <td>1974</td>\n",
       "    </tr>\n",
       "    <tr>\n",
       "      <th>5</th>\n",
       "      <td>1974</td>\n",
       "      <td>1994</td>\n",
       "    </tr>\n",
       "    <tr>\n",
       "      <th>6</th>\n",
       "      <td>1975</td>\n",
       "      <td>1993</td>\n",
       "    </tr>\n",
       "    <tr>\n",
       "      <th>7</th>\n",
       "      <td>1958</td>\n",
       "      <td>1983</td>\n",
       "    </tr>\n",
       "    <tr>\n",
       "      <th>8</th>\n",
       "      <td>1964</td>\n",
       "      <td>1982</td>\n",
       "    </tr>\n",
       "    <tr>\n",
       "      <th>9</th>\n",
       "      <td>1974</td>\n",
       "      <td>1994</td>\n",
       "    </tr>\n",
       "  </tbody>\n",
       "</table>\n",
       "</div>"
      ],
      "text/plain": [
       "   yrbrn                                      lvpntyr\n",
       "2   2000  Still in parental home, never left 2 months\n",
       "3   2002  Still in parental home, never left 2 months\n",
       "4   1956                                         1974\n",
       "5   1974                                         1994\n",
       "6   1975                                         1993\n",
       "7   1958                                         1983\n",
       "8   1964                                         1982\n",
       "9   1974                                         1994"
      ]
     },
     "execution_count": 96,
     "metadata": {},
     "output_type": "execute_result"
    }
   ],
   "source": [
    "ess2018.iloc[2:10, [8, 5]]"
   ]
  },
  {
   "cell_type": "markdown",
   "id": "labeled-heather",
   "metadata": {},
   "source": [
    "Bemærk at datasæt ikke ændres. Hvis subset skal gemmes, skal det gemmes i et nyt objekt (ny dataframe):"
   ]
  },
  {
   "cell_type": "code",
   "execution_count": 97,
   "id": "enabling-gossip",
   "metadata": {},
   "outputs": [
    {
     "data": {
      "text/html": [
       "<div>\n",
       "<style scoped>\n",
       "    .dataframe tbody tr th:only-of-type {\n",
       "        vertical-align: middle;\n",
       "    }\n",
       "\n",
       "    .dataframe tbody tr th {\n",
       "        vertical-align: top;\n",
       "    }\n",
       "\n",
       "    .dataframe thead th {\n",
       "        text-align: right;\n",
       "    }\n",
       "</style>\n",
       "<table border=\"1\" class=\"dataframe\">\n",
       "  <thead>\n",
       "    <tr style=\"text-align: right;\">\n",
       "      <th></th>\n",
       "      <th>gndr</th>\n",
       "      <th>vote</th>\n",
       "    </tr>\n",
       "  </thead>\n",
       "  <tbody>\n",
       "    <tr>\n",
       "      <th>2</th>\n",
       "      <td>Male</td>\n",
       "      <td>NaN</td>\n",
       "    </tr>\n",
       "    <tr>\n",
       "      <th>3</th>\n",
       "      <td>Male</td>\n",
       "      <td>Not eligible to vote</td>\n",
       "    </tr>\n",
       "    <tr>\n",
       "      <th>4</th>\n",
       "      <td>Female</td>\n",
       "      <td>Yes</td>\n",
       "    </tr>\n",
       "    <tr>\n",
       "      <th>5</th>\n",
       "      <td>Male</td>\n",
       "      <td>Yes</td>\n",
       "    </tr>\n",
       "    <tr>\n",
       "      <th>6</th>\n",
       "      <td>Female</td>\n",
       "      <td>Yes</td>\n",
       "    </tr>\n",
       "  </tbody>\n",
       "</table>\n",
       "</div>"
      ],
      "text/plain": [
       "     gndr                  vote\n",
       "2    Male                   NaN\n",
       "3    Male  Not eligible to vote\n",
       "4  Female                   Yes\n",
       "5    Male                   Yes\n",
       "6  Female                   Yes"
      ]
     },
     "execution_count": 97,
     "metadata": {},
     "output_type": "execute_result"
    }
   ],
   "source": [
    "ess2018_subset = ess2018.loc[2:10, ['gndr', 'vote']]\n",
    "\n",
    "ess2018_subset.head()"
   ]
  },
  {
   "cell_type": "markdown",
   "id": "homeless-clark",
   "metadata": {},
   "source": [
    "## Subsetting med booleans (logiske værdier)\n",
    "\n",
    "I stedet for at specificere indeksnumrene, kan man i stedet specificere betingelser:"
   ]
  },
  {
   "cell_type": "code",
   "execution_count": 98,
   "id": "occasional-large",
   "metadata": {},
   "outputs": [
    {
     "data": {
      "text/html": [
       "<div>\n",
       "<style scoped>\n",
       "    .dataframe tbody tr th:only-of-type {\n",
       "        vertical-align: middle;\n",
       "    }\n",
       "\n",
       "    .dataframe tbody tr th {\n",
       "        vertical-align: top;\n",
       "    }\n",
       "\n",
       "    .dataframe thead th {\n",
       "        text-align: right;\n",
       "    }\n",
       "</style>\n",
       "<table border=\"1\" class=\"dataframe\">\n",
       "  <thead>\n",
       "    <tr style=\"text-align: right;\">\n",
       "      <th></th>\n",
       "      <th>idno</th>\n",
       "      <th>netustm</th>\n",
       "      <th>ppltrst</th>\n",
       "      <th>vote</th>\n",
       "      <th>prtvtddk</th>\n",
       "      <th>lvpntyr</th>\n",
       "      <th>tygrtr</th>\n",
       "      <th>gndr</th>\n",
       "      <th>yrbrn</th>\n",
       "      <th>edlvddk</th>\n",
       "      <th>eduyrs</th>\n",
       "      <th>wkhct</th>\n",
       "      <th>wkhtot</th>\n",
       "      <th>grspnum</th>\n",
       "      <th>frlgrsp</th>\n",
       "      <th>inwtm</th>\n",
       "    </tr>\n",
       "  </thead>\n",
       "  <tbody>\n",
       "    <tr>\n",
       "      <th>1</th>\n",
       "      <td>705</td>\n",
       "      <td>60.0</td>\n",
       "      <td>5.0</td>\n",
       "      <td>Yes</td>\n",
       "      <td>Det Konservative Folkeparti - Conservative Peo...</td>\n",
       "      <td>1976</td>\n",
       "      <td>67</td>\n",
       "      <td>Male</td>\n",
       "      <td>1958</td>\n",
       "      <td>Kort videregående uddannelse af op til 2-3 års...</td>\n",
       "      <td>22.0</td>\n",
       "      <td>37.0</td>\n",
       "      <td>45.0</td>\n",
       "      <td>NaN</td>\n",
       "      <td>NaN</td>\n",
       "      <td>55.0</td>\n",
       "    </tr>\n",
       "    <tr>\n",
       "      <th>2</th>\n",
       "      <td>1327</td>\n",
       "      <td>240.0</td>\n",
       "      <td>5.0</td>\n",
       "      <td>NaN</td>\n",
       "      <td>NaN</td>\n",
       "      <td>Still in parental home, never left 2 months</td>\n",
       "      <td>NaN</td>\n",
       "      <td>Male</td>\n",
       "      <td>2000</td>\n",
       "      <td>Folkeskole 9.-10. klasse</td>\n",
       "      <td>11.0</td>\n",
       "      <td>37.0</td>\n",
       "      <td>37.0</td>\n",
       "      <td>NaN</td>\n",
       "      <td>NaN</td>\n",
       "      <td>37.0</td>\n",
       "    </tr>\n",
       "    <tr>\n",
       "      <th>5</th>\n",
       "      <td>5816</td>\n",
       "      <td>90.0</td>\n",
       "      <td>7.0</td>\n",
       "      <td>Yes</td>\n",
       "      <td>SF Socialistisk Folkeparti - Socialist People'...</td>\n",
       "      <td>1994</td>\n",
       "      <td>60</td>\n",
       "      <td>Male</td>\n",
       "      <td>1974</td>\n",
       "      <td>Mellemlang videregående uddannelse af 3-4 års ...</td>\n",
       "      <td>35.0</td>\n",
       "      <td>37.0</td>\n",
       "      <td>37.0</td>\n",
       "      <td>37000.0</td>\n",
       "      <td>35000.0</td>\n",
       "      <td>61.0</td>\n",
       "    </tr>\n",
       "    <tr>\n",
       "      <th>6</th>\n",
       "      <td>7251</td>\n",
       "      <td>300.0</td>\n",
       "      <td>5.0</td>\n",
       "      <td>Yes</td>\n",
       "      <td>Dansk Folkeparti - Danish People's Party</td>\n",
       "      <td>1993</td>\n",
       "      <td>40</td>\n",
       "      <td>Female</td>\n",
       "      <td>1975</td>\n",
       "      <td>Faglig uddannelse (håndværk, handel, landbrug ...</td>\n",
       "      <td>13.0</td>\n",
       "      <td>32.0</td>\n",
       "      <td>34.0</td>\n",
       "      <td>22000.0</td>\n",
       "      <td>30000.0</td>\n",
       "      <td>68.0</td>\n",
       "    </tr>\n",
       "    <tr>\n",
       "      <th>7</th>\n",
       "      <td>7887</td>\n",
       "      <td>360.0</td>\n",
       "      <td>8.0</td>\n",
       "      <td>Yes</td>\n",
       "      <td>Socialdemokratiet - The Social democrats</td>\n",
       "      <td>1983</td>\n",
       "      <td>55</td>\n",
       "      <td>Male</td>\n",
       "      <td>1958</td>\n",
       "      <td>Lang videregående uddannelse. Kandidatuddannel...</td>\n",
       "      <td>25.0</td>\n",
       "      <td>39.0</td>\n",
       "      <td>39.0</td>\n",
       "      <td>36000.0</td>\n",
       "      <td>42000.0</td>\n",
       "      <td>89.0</td>\n",
       "    </tr>\n",
       "  </tbody>\n",
       "</table>\n",
       "</div>"
      ],
      "text/plain": [
       "   idno  netustm  ppltrst vote  \\\n",
       "1   705     60.0      5.0  Yes   \n",
       "2  1327    240.0      5.0  NaN   \n",
       "5  5816     90.0      7.0  Yes   \n",
       "6  7251    300.0      5.0  Yes   \n",
       "7  7887    360.0      8.0  Yes   \n",
       "\n",
       "                                            prtvtddk  \\\n",
       "1  Det Konservative Folkeparti - Conservative Peo...   \n",
       "2                                                NaN   \n",
       "5  SF Socialistisk Folkeparti - Socialist People'...   \n",
       "6           Dansk Folkeparti - Danish People's Party   \n",
       "7           Socialdemokratiet - The Social democrats   \n",
       "\n",
       "                                       lvpntyr tygrtr    gndr  yrbrn  \\\n",
       "1                                         1976     67    Male   1958   \n",
       "2  Still in parental home, never left 2 months    NaN    Male   2000   \n",
       "5                                         1994     60    Male   1974   \n",
       "6                                         1993     40  Female   1975   \n",
       "7                                         1983     55    Male   1958   \n",
       "\n",
       "                                             edlvddk  eduyrs  wkhct  wkhtot  \\\n",
       "1  Kort videregående uddannelse af op til 2-3 års...    22.0   37.0    45.0   \n",
       "2                           Folkeskole 9.-10. klasse    11.0   37.0    37.0   \n",
       "5  Mellemlang videregående uddannelse af 3-4 års ...    35.0   37.0    37.0   \n",
       "6  Faglig uddannelse (håndværk, handel, landbrug ...    13.0   32.0    34.0   \n",
       "7  Lang videregående uddannelse. Kandidatuddannel...    25.0   39.0    39.0   \n",
       "\n",
       "   grspnum  frlgrsp  inwtm  \n",
       "1      NaN      NaN   55.0  \n",
       "2      NaN      NaN   37.0  \n",
       "5  37000.0  35000.0   61.0  \n",
       "6  22000.0  30000.0   68.0  \n",
       "7  36000.0  42000.0   89.0  "
      ]
     },
     "execution_count": 98,
     "metadata": {},
     "output_type": "execute_result"
    }
   ],
   "source": [
    "ess2018.loc[ess2018['eduyrs'] > 10, :].head()"
   ]
  },
  {
   "cell_type": "code",
   "execution_count": 99,
   "id": "fresh-cruise",
   "metadata": {},
   "outputs": [
    {
     "data": {
      "text/html": [
       "<div>\n",
       "<style scoped>\n",
       "    .dataframe tbody tr th:only-of-type {\n",
       "        vertical-align: middle;\n",
       "    }\n",
       "\n",
       "    .dataframe tbody tr th {\n",
       "        vertical-align: top;\n",
       "    }\n",
       "\n",
       "    .dataframe thead th {\n",
       "        text-align: right;\n",
       "    }\n",
       "</style>\n",
       "<table border=\"1\" class=\"dataframe\">\n",
       "  <thead>\n",
       "    <tr style=\"text-align: right;\">\n",
       "      <th></th>\n",
       "      <th>idno</th>\n",
       "      <th>netustm</th>\n",
       "      <th>ppltrst</th>\n",
       "      <th>vote</th>\n",
       "      <th>prtvtddk</th>\n",
       "      <th>lvpntyr</th>\n",
       "      <th>tygrtr</th>\n",
       "      <th>gndr</th>\n",
       "      <th>yrbrn</th>\n",
       "      <th>edlvddk</th>\n",
       "      <th>eduyrs</th>\n",
       "      <th>wkhct</th>\n",
       "      <th>wkhtot</th>\n",
       "      <th>grspnum</th>\n",
       "      <th>frlgrsp</th>\n",
       "      <th>inwtm</th>\n",
       "    </tr>\n",
       "  </thead>\n",
       "  <tbody>\n",
       "    <tr>\n",
       "      <th>6</th>\n",
       "      <td>7251</td>\n",
       "      <td>300.0</td>\n",
       "      <td>5.0</td>\n",
       "      <td>Yes</td>\n",
       "      <td>Dansk Folkeparti - Danish People's Party</td>\n",
       "      <td>1993</td>\n",
       "      <td>40</td>\n",
       "      <td>Female</td>\n",
       "      <td>1975</td>\n",
       "      <td>Faglig uddannelse (håndværk, handel, landbrug ...</td>\n",
       "      <td>13.0</td>\n",
       "      <td>32.0</td>\n",
       "      <td>34.0</td>\n",
       "      <td>22000.0</td>\n",
       "      <td>30000.0</td>\n",
       "      <td>68.0</td>\n",
       "    </tr>\n",
       "    <tr>\n",
       "      <th>8</th>\n",
       "      <td>9607</td>\n",
       "      <td>540.0</td>\n",
       "      <td>9.0</td>\n",
       "      <td>Yes</td>\n",
       "      <td>Alternativet - The Alternative</td>\n",
       "      <td>1982</td>\n",
       "      <td>64</td>\n",
       "      <td>Female</td>\n",
       "      <td>1964</td>\n",
       "      <td>Mellemlang videregående uddannelse af 3-4 års ...</td>\n",
       "      <td>13.0</td>\n",
       "      <td>32.0</td>\n",
       "      <td>34.0</td>\n",
       "      <td>32000.0</td>\n",
       "      <td>NaN</td>\n",
       "      <td>50.0</td>\n",
       "    </tr>\n",
       "    <tr>\n",
       "      <th>13</th>\n",
       "      <td>17504</td>\n",
       "      <td>210.0</td>\n",
       "      <td>4.0</td>\n",
       "      <td>Yes</td>\n",
       "      <td>Dansk Folkeparti - Danish People's Party</td>\n",
       "      <td>2001</td>\n",
       "      <td>45</td>\n",
       "      <td>Female</td>\n",
       "      <td>1984</td>\n",
       "      <td>Faglig uddannelse (håndværk, handel, landbrug ...</td>\n",
       "      <td>13.0</td>\n",
       "      <td>NaN</td>\n",
       "      <td>10.0</td>\n",
       "      <td>NaN</td>\n",
       "      <td>NaN</td>\n",
       "      <td>51.0</td>\n",
       "    </tr>\n",
       "    <tr>\n",
       "      <th>14</th>\n",
       "      <td>19970</td>\n",
       "      <td>240.0</td>\n",
       "      <td>9.0</td>\n",
       "      <td>Yes</td>\n",
       "      <td>Liberal Alliance - Liberal Alliance</td>\n",
       "      <td>1984</td>\n",
       "      <td>60</td>\n",
       "      <td>Female</td>\n",
       "      <td>1966</td>\n",
       "      <td>Lang videregående uddannelse. Kandidatuddannel...</td>\n",
       "      <td>21.0</td>\n",
       "      <td>36.0</td>\n",
       "      <td>36.0</td>\n",
       "      <td>85000.0</td>\n",
       "      <td>NaN</td>\n",
       "      <td>42.0</td>\n",
       "    </tr>\n",
       "    <tr>\n",
       "      <th>16</th>\n",
       "      <td>22248</td>\n",
       "      <td>121.0</td>\n",
       "      <td>9.0</td>\n",
       "      <td>Yes</td>\n",
       "      <td>Socialdemokratiet - The Social democrats</td>\n",
       "      <td>1970</td>\n",
       "      <td>Never too young</td>\n",
       "      <td>Female</td>\n",
       "      <td>1950</td>\n",
       "      <td>Mellemlang videregående uddannelse af 3-4 års ...</td>\n",
       "      <td>19.0</td>\n",
       "      <td>37.0</td>\n",
       "      <td>37.0</td>\n",
       "      <td>NaN</td>\n",
       "      <td>NaN</td>\n",
       "      <td>62.0</td>\n",
       "    </tr>\n",
       "  </tbody>\n",
       "</table>\n",
       "</div>"
      ],
      "text/plain": [
       "     idno  netustm  ppltrst vote                                  prtvtddk  \\\n",
       "6    7251    300.0      5.0  Yes  Dansk Folkeparti - Danish People's Party   \n",
       "8    9607    540.0      9.0  Yes            Alternativet - The Alternative   \n",
       "13  17504    210.0      4.0  Yes  Dansk Folkeparti - Danish People's Party   \n",
       "14  19970    240.0      9.0  Yes       Liberal Alliance - Liberal Alliance   \n",
       "16  22248    121.0      9.0  Yes  Socialdemokratiet - The Social democrats   \n",
       "\n",
       "   lvpntyr           tygrtr    gndr  yrbrn  \\\n",
       "6     1993               40  Female   1975   \n",
       "8     1982               64  Female   1964   \n",
       "13    2001               45  Female   1984   \n",
       "14    1984               60  Female   1966   \n",
       "16    1970  Never too young  Female   1950   \n",
       "\n",
       "                                              edlvddk  eduyrs  wkhct  wkhtot  \\\n",
       "6   Faglig uddannelse (håndværk, handel, landbrug ...    13.0   32.0    34.0   \n",
       "8   Mellemlang videregående uddannelse af 3-4 års ...    13.0   32.0    34.0   \n",
       "13  Faglig uddannelse (håndværk, handel, landbrug ...    13.0    NaN    10.0   \n",
       "14  Lang videregående uddannelse. Kandidatuddannel...    21.0   36.0    36.0   \n",
       "16  Mellemlang videregående uddannelse af 3-4 års ...    19.0   37.0    37.0   \n",
       "\n",
       "    grspnum  frlgrsp  inwtm  \n",
       "6   22000.0  30000.0   68.0  \n",
       "8   32000.0      NaN   50.0  \n",
       "13      NaN      NaN   51.0  \n",
       "14  85000.0      NaN   42.0  \n",
       "16      NaN      NaN   62.0  "
      ]
     },
     "execution_count": 99,
     "metadata": {},
     "output_type": "execute_result"
    }
   ],
   "source": [
    "ess2018.loc[(ess2018['eduyrs'] > 10) & (ess2018['gndr'] == 'Female'), :].head()"
   ]
  },
  {
   "cell_type": "markdown",
   "id": "practical-wedding",
   "metadata": {},
   "source": [
    "# ØVELSE 5: SUBSETTING\n",
    "\n",
    "*Dan et subset bestående af alle kvinder med en månedlig indkomst over 40.000 (`grspnum`).*"
   ]
  },
  {
   "cell_type": "markdown",
   "id": "incomplete-gambling",
   "metadata": {},
   "source": [
    "# Nye variable\n",
    "\n",
    "Ofte har man brug for at tilføje oplysninger til et datasæt i form af nye variable.\n",
    "\n",
    "Man danner en ny variabel blot ved at referere til et kolonnenavn, som endnu ikke er brugt.\n",
    "\n",
    "I nedenstående dannes en variabel for interviewlængde i timer:"
   ]
  },
  {
   "cell_type": "code",
   "execution_count": 100,
   "id": "formed-financing",
   "metadata": {},
   "outputs": [
    {
     "data": {
      "text/html": [
       "<div>\n",
       "<style scoped>\n",
       "    .dataframe tbody tr th:only-of-type {\n",
       "        vertical-align: middle;\n",
       "    }\n",
       "\n",
       "    .dataframe tbody tr th {\n",
       "        vertical-align: top;\n",
       "    }\n",
       "\n",
       "    .dataframe thead th {\n",
       "        text-align: right;\n",
       "    }\n",
       "</style>\n",
       "<table border=\"1\" class=\"dataframe\">\n",
       "  <thead>\n",
       "    <tr style=\"text-align: right;\">\n",
       "      <th></th>\n",
       "      <th>idno</th>\n",
       "      <th>netustm</th>\n",
       "      <th>ppltrst</th>\n",
       "      <th>vote</th>\n",
       "      <th>prtvtddk</th>\n",
       "      <th>lvpntyr</th>\n",
       "      <th>tygrtr</th>\n",
       "      <th>gndr</th>\n",
       "      <th>yrbrn</th>\n",
       "      <th>edlvddk</th>\n",
       "      <th>eduyrs</th>\n",
       "      <th>wkhct</th>\n",
       "      <th>wkhtot</th>\n",
       "      <th>grspnum</th>\n",
       "      <th>frlgrsp</th>\n",
       "      <th>inwtm</th>\n",
       "      <th>inwth</th>\n",
       "    </tr>\n",
       "  </thead>\n",
       "  <tbody>\n",
       "    <tr>\n",
       "      <th>0</th>\n",
       "      <td>110</td>\n",
       "      <td>180.0</td>\n",
       "      <td>8.0</td>\n",
       "      <td>Yes</td>\n",
       "      <td>Socialdemokratiet - The Social democrats</td>\n",
       "      <td>1968</td>\n",
       "      <td>Never too young</td>\n",
       "      <td>Male</td>\n",
       "      <td>1949</td>\n",
       "      <td>Kort videregående uddannelse af op til 2-3 års...</td>\n",
       "      <td>9.0</td>\n",
       "      <td>28.0</td>\n",
       "      <td>28.0</td>\n",
       "      <td>NaN</td>\n",
       "      <td>NaN</td>\n",
       "      <td>119.0</td>\n",
       "      <td>1.983333</td>\n",
       "    </tr>\n",
       "    <tr>\n",
       "      <th>1</th>\n",
       "      <td>705</td>\n",
       "      <td>60.0</td>\n",
       "      <td>5.0</td>\n",
       "      <td>Yes</td>\n",
       "      <td>Det Konservative Folkeparti - Conservative Peo...</td>\n",
       "      <td>1976</td>\n",
       "      <td>67</td>\n",
       "      <td>Male</td>\n",
       "      <td>1958</td>\n",
       "      <td>Kort videregående uddannelse af op til 2-3 års...</td>\n",
       "      <td>22.0</td>\n",
       "      <td>37.0</td>\n",
       "      <td>45.0</td>\n",
       "      <td>NaN</td>\n",
       "      <td>NaN</td>\n",
       "      <td>55.0</td>\n",
       "      <td>0.916667</td>\n",
       "    </tr>\n",
       "    <tr>\n",
       "      <th>2</th>\n",
       "      <td>1327</td>\n",
       "      <td>240.0</td>\n",
       "      <td>5.0</td>\n",
       "      <td>NaN</td>\n",
       "      <td>NaN</td>\n",
       "      <td>Still in parental home, never left 2 months</td>\n",
       "      <td>NaN</td>\n",
       "      <td>Male</td>\n",
       "      <td>2000</td>\n",
       "      <td>Folkeskole 9.-10. klasse</td>\n",
       "      <td>11.0</td>\n",
       "      <td>37.0</td>\n",
       "      <td>37.0</td>\n",
       "      <td>NaN</td>\n",
       "      <td>NaN</td>\n",
       "      <td>37.0</td>\n",
       "      <td>0.616667</td>\n",
       "    </tr>\n",
       "    <tr>\n",
       "      <th>3</th>\n",
       "      <td>3760</td>\n",
       "      <td>300.0</td>\n",
       "      <td>7.0</td>\n",
       "      <td>Not eligible to vote</td>\n",
       "      <td>NaN</td>\n",
       "      <td>Still in parental home, never left 2 months</td>\n",
       "      <td>40</td>\n",
       "      <td>Male</td>\n",
       "      <td>2002</td>\n",
       "      <td>Folkeskole 9.-10. klasse</td>\n",
       "      <td>9.0</td>\n",
       "      <td>2.0</td>\n",
       "      <td>2.0</td>\n",
       "      <td>200.0</td>\n",
       "      <td>NaN</td>\n",
       "      <td>43.0</td>\n",
       "      <td>0.716667</td>\n",
       "    </tr>\n",
       "    <tr>\n",
       "      <th>4</th>\n",
       "      <td>4658</td>\n",
       "      <td>90.0</td>\n",
       "      <td>8.0</td>\n",
       "      <td>Yes</td>\n",
       "      <td>NaN</td>\n",
       "      <td>1974</td>\n",
       "      <td>50</td>\n",
       "      <td>Female</td>\n",
       "      <td>1956</td>\n",
       "      <td>Kort videregående uddannelse af op til 2-3 års...</td>\n",
       "      <td>4.0</td>\n",
       "      <td>30.0</td>\n",
       "      <td>30.0</td>\n",
       "      <td>NaN</td>\n",
       "      <td>NaN</td>\n",
       "      <td>62.0</td>\n",
       "      <td>1.033333</td>\n",
       "    </tr>\n",
       "  </tbody>\n",
       "</table>\n",
       "</div>"
      ],
      "text/plain": [
       "   idno  netustm  ppltrst                  vote  \\\n",
       "0   110    180.0      8.0                   Yes   \n",
       "1   705     60.0      5.0                   Yes   \n",
       "2  1327    240.0      5.0                   NaN   \n",
       "3  3760    300.0      7.0  Not eligible to vote   \n",
       "4  4658     90.0      8.0                   Yes   \n",
       "\n",
       "                                            prtvtddk  \\\n",
       "0           Socialdemokratiet - The Social democrats   \n",
       "1  Det Konservative Folkeparti - Conservative Peo...   \n",
       "2                                                NaN   \n",
       "3                                                NaN   \n",
       "4                                                NaN   \n",
       "\n",
       "                                       lvpntyr           tygrtr    gndr  \\\n",
       "0                                         1968  Never too young    Male   \n",
       "1                                         1976               67    Male   \n",
       "2  Still in parental home, never left 2 months              NaN    Male   \n",
       "3  Still in parental home, never left 2 months               40    Male   \n",
       "4                                         1974               50  Female   \n",
       "\n",
       "   yrbrn                                            edlvddk  eduyrs  wkhct  \\\n",
       "0   1949  Kort videregående uddannelse af op til 2-3 års...     9.0   28.0   \n",
       "1   1958  Kort videregående uddannelse af op til 2-3 års...    22.0   37.0   \n",
       "2   2000                           Folkeskole 9.-10. klasse    11.0   37.0   \n",
       "3   2002                           Folkeskole 9.-10. klasse     9.0    2.0   \n",
       "4   1956  Kort videregående uddannelse af op til 2-3 års...     4.0   30.0   \n",
       "\n",
       "   wkhtot  grspnum  frlgrsp  inwtm     inwth  \n",
       "0    28.0      NaN      NaN  119.0  1.983333  \n",
       "1    45.0      NaN      NaN   55.0  0.916667  \n",
       "2    37.0      NaN      NaN   37.0  0.616667  \n",
       "3     2.0    200.0      NaN   43.0  0.716667  \n",
       "4    30.0      NaN      NaN   62.0  1.033333  "
      ]
     },
     "execution_count": 100,
     "metadata": {},
     "output_type": "execute_result"
    }
   ],
   "source": [
    "ess2018['inwth'] = ess2018['inwtm'] / 60\n",
    "\n",
    "ess2018.head()"
   ]
  },
  {
   "cell_type": "markdown",
   "id": "demanding-separation",
   "metadata": {},
   "source": [
    "## Rekodning\n",
    "\n",
    "Ofte har man brug for at rekode variable.\n",
    "\n",
    "Variable rekodes ved at overskrive værdier i en eksisterende variabel.\n",
    "\n",
    "Det er god praksis ikke at rekode de oprindelige variable i datasættet, så man vil i stedet lave en kopi af variablen og så rekode den i stedet.\n",
    "\n",
    "Hvis man fx vil rekode en kontinuerlig variabel til kategorisk, kan man gøre brug af booleans. \n",
    "\n",
    "I nedenstående inddeles personer i datasættet i tre indkomstgrupper baseret på, om de har en indkomst under 1. kvartil (\"low\"), over 3. kvartil (\"high\") eller midt imellem (\"medium\")."
   ]
  },
  {
   "cell_type": "code",
   "execution_count": 102,
   "id": "extraordinary-lightning",
   "metadata": {},
   "outputs": [
    {
     "data": {
      "text/html": [
       "<div>\n",
       "<style scoped>\n",
       "    .dataframe tbody tr th:only-of-type {\n",
       "        vertical-align: middle;\n",
       "    }\n",
       "\n",
       "    .dataframe tbody tr th {\n",
       "        vertical-align: top;\n",
       "    }\n",
       "\n",
       "    .dataframe thead th {\n",
       "        text-align: right;\n",
       "    }\n",
       "</style>\n",
       "<table border=\"1\" class=\"dataframe\">\n",
       "  <thead>\n",
       "    <tr style=\"text-align: right;\">\n",
       "      <th></th>\n",
       "      <th>idno</th>\n",
       "      <th>netustm</th>\n",
       "      <th>ppltrst</th>\n",
       "      <th>vote</th>\n",
       "      <th>prtvtddk</th>\n",
       "      <th>lvpntyr</th>\n",
       "      <th>tygrtr</th>\n",
       "      <th>gndr</th>\n",
       "      <th>yrbrn</th>\n",
       "      <th>edlvddk</th>\n",
       "      <th>eduyrs</th>\n",
       "      <th>wkhct</th>\n",
       "      <th>wkhtot</th>\n",
       "      <th>grspnum</th>\n",
       "      <th>frlgrsp</th>\n",
       "      <th>inwtm</th>\n",
       "      <th>inwth</th>\n",
       "      <th>grsp_cat</th>\n",
       "    </tr>\n",
       "  </thead>\n",
       "  <tbody>\n",
       "    <tr>\n",
       "      <th>0</th>\n",
       "      <td>110</td>\n",
       "      <td>180.0</td>\n",
       "      <td>8.0</td>\n",
       "      <td>Yes</td>\n",
       "      <td>Socialdemokratiet - The Social democrats</td>\n",
       "      <td>1968</td>\n",
       "      <td>Never too young</td>\n",
       "      <td>Male</td>\n",
       "      <td>1949</td>\n",
       "      <td>Kort videregående uddannelse af op til 2-3 års...</td>\n",
       "      <td>9.0</td>\n",
       "      <td>28.0</td>\n",
       "      <td>28.0</td>\n",
       "      <td>NaN</td>\n",
       "      <td>NaN</td>\n",
       "      <td>119.0</td>\n",
       "      <td>1.983333</td>\n",
       "      <td>NaN</td>\n",
       "    </tr>\n",
       "    <tr>\n",
       "      <th>1</th>\n",
       "      <td>705</td>\n",
       "      <td>60.0</td>\n",
       "      <td>5.0</td>\n",
       "      <td>Yes</td>\n",
       "      <td>Det Konservative Folkeparti - Conservative Peo...</td>\n",
       "      <td>1976</td>\n",
       "      <td>67</td>\n",
       "      <td>Male</td>\n",
       "      <td>1958</td>\n",
       "      <td>Kort videregående uddannelse af op til 2-3 års...</td>\n",
       "      <td>22.0</td>\n",
       "      <td>37.0</td>\n",
       "      <td>45.0</td>\n",
       "      <td>NaN</td>\n",
       "      <td>NaN</td>\n",
       "      <td>55.0</td>\n",
       "      <td>0.916667</td>\n",
       "      <td>NaN</td>\n",
       "    </tr>\n",
       "    <tr>\n",
       "      <th>2</th>\n",
       "      <td>1327</td>\n",
       "      <td>240.0</td>\n",
       "      <td>5.0</td>\n",
       "      <td>NaN</td>\n",
       "      <td>NaN</td>\n",
       "      <td>Still in parental home, never left 2 months</td>\n",
       "      <td>NaN</td>\n",
       "      <td>Male</td>\n",
       "      <td>2000</td>\n",
       "      <td>Folkeskole 9.-10. klasse</td>\n",
       "      <td>11.0</td>\n",
       "      <td>37.0</td>\n",
       "      <td>37.0</td>\n",
       "      <td>NaN</td>\n",
       "      <td>NaN</td>\n",
       "      <td>37.0</td>\n",
       "      <td>0.616667</td>\n",
       "      <td>NaN</td>\n",
       "    </tr>\n",
       "    <tr>\n",
       "      <th>3</th>\n",
       "      <td>3760</td>\n",
       "      <td>300.0</td>\n",
       "      <td>7.0</td>\n",
       "      <td>Not eligible to vote</td>\n",
       "      <td>NaN</td>\n",
       "      <td>Still in parental home, never left 2 months</td>\n",
       "      <td>40</td>\n",
       "      <td>Male</td>\n",
       "      <td>2002</td>\n",
       "      <td>Folkeskole 9.-10. klasse</td>\n",
       "      <td>9.0</td>\n",
       "      <td>2.0</td>\n",
       "      <td>2.0</td>\n",
       "      <td>200.0</td>\n",
       "      <td>NaN</td>\n",
       "      <td>43.0</td>\n",
       "      <td>0.716667</td>\n",
       "      <td>low</td>\n",
       "    </tr>\n",
       "    <tr>\n",
       "      <th>4</th>\n",
       "      <td>4658</td>\n",
       "      <td>90.0</td>\n",
       "      <td>8.0</td>\n",
       "      <td>Yes</td>\n",
       "      <td>NaN</td>\n",
       "      <td>1974</td>\n",
       "      <td>50</td>\n",
       "      <td>Female</td>\n",
       "      <td>1956</td>\n",
       "      <td>Kort videregående uddannelse af op til 2-3 års...</td>\n",
       "      <td>4.0</td>\n",
       "      <td>30.0</td>\n",
       "      <td>30.0</td>\n",
       "      <td>NaN</td>\n",
       "      <td>NaN</td>\n",
       "      <td>62.0</td>\n",
       "      <td>1.033333</td>\n",
       "      <td>NaN</td>\n",
       "    </tr>\n",
       "    <tr>\n",
       "      <th>5</th>\n",
       "      <td>5816</td>\n",
       "      <td>90.0</td>\n",
       "      <td>7.0</td>\n",
       "      <td>Yes</td>\n",
       "      <td>SF Socialistisk Folkeparti - Socialist People'...</td>\n",
       "      <td>1994</td>\n",
       "      <td>60</td>\n",
       "      <td>Male</td>\n",
       "      <td>1974</td>\n",
       "      <td>Mellemlang videregående uddannelse af 3-4 års ...</td>\n",
       "      <td>35.0</td>\n",
       "      <td>37.0</td>\n",
       "      <td>37.0</td>\n",
       "      <td>37000.0</td>\n",
       "      <td>35000.0</td>\n",
       "      <td>61.0</td>\n",
       "      <td>1.016667</td>\n",
       "      <td>medium</td>\n",
       "    </tr>\n",
       "    <tr>\n",
       "      <th>6</th>\n",
       "      <td>7251</td>\n",
       "      <td>300.0</td>\n",
       "      <td>5.0</td>\n",
       "      <td>Yes</td>\n",
       "      <td>Dansk Folkeparti - Danish People's Party</td>\n",
       "      <td>1993</td>\n",
       "      <td>40</td>\n",
       "      <td>Female</td>\n",
       "      <td>1975</td>\n",
       "      <td>Faglig uddannelse (håndværk, handel, landbrug ...</td>\n",
       "      <td>13.0</td>\n",
       "      <td>32.0</td>\n",
       "      <td>34.0</td>\n",
       "      <td>22000.0</td>\n",
       "      <td>30000.0</td>\n",
       "      <td>68.0</td>\n",
       "      <td>1.133333</td>\n",
       "      <td>low</td>\n",
       "    </tr>\n",
       "    <tr>\n",
       "      <th>7</th>\n",
       "      <td>7887</td>\n",
       "      <td>360.0</td>\n",
       "      <td>8.0</td>\n",
       "      <td>Yes</td>\n",
       "      <td>Socialdemokratiet - The Social democrats</td>\n",
       "      <td>1983</td>\n",
       "      <td>55</td>\n",
       "      <td>Male</td>\n",
       "      <td>1958</td>\n",
       "      <td>Lang videregående uddannelse. Kandidatuddannel...</td>\n",
       "      <td>25.0</td>\n",
       "      <td>39.0</td>\n",
       "      <td>39.0</td>\n",
       "      <td>36000.0</td>\n",
       "      <td>42000.0</td>\n",
       "      <td>89.0</td>\n",
       "      <td>1.483333</td>\n",
       "      <td>medium</td>\n",
       "    </tr>\n",
       "    <tr>\n",
       "      <th>8</th>\n",
       "      <td>9607</td>\n",
       "      <td>540.0</td>\n",
       "      <td>9.0</td>\n",
       "      <td>Yes</td>\n",
       "      <td>Alternativet - The Alternative</td>\n",
       "      <td>1982</td>\n",
       "      <td>64</td>\n",
       "      <td>Female</td>\n",
       "      <td>1964</td>\n",
       "      <td>Mellemlang videregående uddannelse af 3-4 års ...</td>\n",
       "      <td>13.0</td>\n",
       "      <td>32.0</td>\n",
       "      <td>34.0</td>\n",
       "      <td>32000.0</td>\n",
       "      <td>NaN</td>\n",
       "      <td>50.0</td>\n",
       "      <td>0.833333</td>\n",
       "      <td>medium</td>\n",
       "    </tr>\n",
       "    <tr>\n",
       "      <th>9</th>\n",
       "      <td>11123</td>\n",
       "      <td>150.0</td>\n",
       "      <td>7.0</td>\n",
       "      <td>Yes</td>\n",
       "      <td>Socialdemokratiet - The Social democrats</td>\n",
       "      <td>1994</td>\n",
       "      <td>45</td>\n",
       "      <td>Male</td>\n",
       "      <td>1974</td>\n",
       "      <td>Faglig uddannelse (håndværk, handel, landbrug ...</td>\n",
       "      <td>16.0</td>\n",
       "      <td>37.0</td>\n",
       "      <td>37.0</td>\n",
       "      <td>9000.0</td>\n",
       "      <td>NaN</td>\n",
       "      <td>62.0</td>\n",
       "      <td>1.033333</td>\n",
       "      <td>low</td>\n",
       "    </tr>\n",
       "  </tbody>\n",
       "</table>\n",
       "</div>"
      ],
      "text/plain": [
       "    idno  netustm  ppltrst                  vote  \\\n",
       "0    110    180.0      8.0                   Yes   \n",
       "1    705     60.0      5.0                   Yes   \n",
       "2   1327    240.0      5.0                   NaN   \n",
       "3   3760    300.0      7.0  Not eligible to vote   \n",
       "4   4658     90.0      8.0                   Yes   \n",
       "5   5816     90.0      7.0                   Yes   \n",
       "6   7251    300.0      5.0                   Yes   \n",
       "7   7887    360.0      8.0                   Yes   \n",
       "8   9607    540.0      9.0                   Yes   \n",
       "9  11123    150.0      7.0                   Yes   \n",
       "\n",
       "                                            prtvtddk  \\\n",
       "0           Socialdemokratiet - The Social democrats   \n",
       "1  Det Konservative Folkeparti - Conservative Peo...   \n",
       "2                                                NaN   \n",
       "3                                                NaN   \n",
       "4                                                NaN   \n",
       "5  SF Socialistisk Folkeparti - Socialist People'...   \n",
       "6           Dansk Folkeparti - Danish People's Party   \n",
       "7           Socialdemokratiet - The Social democrats   \n",
       "8                     Alternativet - The Alternative   \n",
       "9           Socialdemokratiet - The Social democrats   \n",
       "\n",
       "                                       lvpntyr           tygrtr    gndr  \\\n",
       "0                                         1968  Never too young    Male   \n",
       "1                                         1976               67    Male   \n",
       "2  Still in parental home, never left 2 months              NaN    Male   \n",
       "3  Still in parental home, never left 2 months               40    Male   \n",
       "4                                         1974               50  Female   \n",
       "5                                         1994               60    Male   \n",
       "6                                         1993               40  Female   \n",
       "7                                         1983               55    Male   \n",
       "8                                         1982               64  Female   \n",
       "9                                         1994               45    Male   \n",
       "\n",
       "   yrbrn                                            edlvddk  eduyrs  wkhct  \\\n",
       "0   1949  Kort videregående uddannelse af op til 2-3 års...     9.0   28.0   \n",
       "1   1958  Kort videregående uddannelse af op til 2-3 års...    22.0   37.0   \n",
       "2   2000                           Folkeskole 9.-10. klasse    11.0   37.0   \n",
       "3   2002                           Folkeskole 9.-10. klasse     9.0    2.0   \n",
       "4   1956  Kort videregående uddannelse af op til 2-3 års...     4.0   30.0   \n",
       "5   1974  Mellemlang videregående uddannelse af 3-4 års ...    35.0   37.0   \n",
       "6   1975  Faglig uddannelse (håndværk, handel, landbrug ...    13.0   32.0   \n",
       "7   1958  Lang videregående uddannelse. Kandidatuddannel...    25.0   39.0   \n",
       "8   1964  Mellemlang videregående uddannelse af 3-4 års ...    13.0   32.0   \n",
       "9   1974  Faglig uddannelse (håndværk, handel, landbrug ...    16.0   37.0   \n",
       "\n",
       "   wkhtot  grspnum  frlgrsp  inwtm     inwth grsp_cat  \n",
       "0    28.0      NaN      NaN  119.0  1.983333      NaN  \n",
       "1    45.0      NaN      NaN   55.0  0.916667      NaN  \n",
       "2    37.0      NaN      NaN   37.0  0.616667      NaN  \n",
       "3     2.0    200.0      NaN   43.0  0.716667      low  \n",
       "4    30.0      NaN      NaN   62.0  1.033333      NaN  \n",
       "5    37.0  37000.0  35000.0   61.0  1.016667   medium  \n",
       "6    34.0  22000.0  30000.0   68.0  1.133333      low  \n",
       "7    39.0  36000.0  42000.0   89.0  1.483333   medium  \n",
       "8    34.0  32000.0      NaN   50.0  0.833333   medium  \n",
       "9    37.0   9000.0      NaN   62.0  1.033333      low  "
      ]
     },
     "execution_count": 102,
     "metadata": {},
     "output_type": "execute_result"
    }
   ],
   "source": [
    "import numpy as np\n",
    "\n",
    "quart1 = ess2018['grspnum'].quantile(0.25)\n",
    "quart3 = ess2018['grspnum'].quantile(0.75)\n",
    "\n",
    "ess2018['grsp_cat'] = np.nan # Danner en \"tom\" variabel bestående af missing\n",
    "\n",
    "ess2018.loc[ess2018['grspnum'] <= quart1, 'grsp_cat'] = \"low\"\n",
    "ess2018.loc[(ess2018['grspnum'] > quart1) & (ess2018['grspnum'] < quart3), 'grsp_cat'] = \"medium\"\n",
    "ess2018.loc[ess2018['grspnum'] >= quart3, 'grsp_cat'] = \"high\"\n",
    "\n",
    "ess2018.head(10)"
   ]
  },
  {
   "cell_type": "markdown",
   "id": "received-determination",
   "metadata": {},
   "source": [
    "Alternativt, hvis der bare skal deles i tre lige store grupper:"
   ]
  },
  {
   "cell_type": "code",
   "execution_count": 104,
   "id": "pretty-operations",
   "metadata": {},
   "outputs": [
    {
     "data": {
      "text/html": [
       "<div>\n",
       "<style scoped>\n",
       "    .dataframe tbody tr th:only-of-type {\n",
       "        vertical-align: middle;\n",
       "    }\n",
       "\n",
       "    .dataframe tbody tr th {\n",
       "        vertical-align: top;\n",
       "    }\n",
       "\n",
       "    .dataframe thead th {\n",
       "        text-align: right;\n",
       "    }\n",
       "</style>\n",
       "<table border=\"1\" class=\"dataframe\">\n",
       "  <thead>\n",
       "    <tr style=\"text-align: right;\">\n",
       "      <th></th>\n",
       "      <th>idno</th>\n",
       "      <th>netustm</th>\n",
       "      <th>ppltrst</th>\n",
       "      <th>vote</th>\n",
       "      <th>prtvtddk</th>\n",
       "      <th>lvpntyr</th>\n",
       "      <th>tygrtr</th>\n",
       "      <th>gndr</th>\n",
       "      <th>yrbrn</th>\n",
       "      <th>edlvddk</th>\n",
       "      <th>eduyrs</th>\n",
       "      <th>wkhct</th>\n",
       "      <th>wkhtot</th>\n",
       "      <th>grspnum</th>\n",
       "      <th>frlgrsp</th>\n",
       "      <th>inwtm</th>\n",
       "      <th>inwth</th>\n",
       "      <th>grsp_cat</th>\n",
       "    </tr>\n",
       "  </thead>\n",
       "  <tbody>\n",
       "    <tr>\n",
       "      <th>0</th>\n",
       "      <td>110</td>\n",
       "      <td>180.0</td>\n",
       "      <td>8.0</td>\n",
       "      <td>Yes</td>\n",
       "      <td>Socialdemokratiet - The Social democrats</td>\n",
       "      <td>1968</td>\n",
       "      <td>Never too young</td>\n",
       "      <td>Male</td>\n",
       "      <td>1949</td>\n",
       "      <td>Kort videregående uddannelse af op til 2-3 års...</td>\n",
       "      <td>9.0</td>\n",
       "      <td>28.0</td>\n",
       "      <td>28.0</td>\n",
       "      <td>NaN</td>\n",
       "      <td>NaN</td>\n",
       "      <td>119.0</td>\n",
       "      <td>1.983333</td>\n",
       "      <td>NaN</td>\n",
       "    </tr>\n",
       "    <tr>\n",
       "      <th>1</th>\n",
       "      <td>705</td>\n",
       "      <td>60.0</td>\n",
       "      <td>5.0</td>\n",
       "      <td>Yes</td>\n",
       "      <td>Det Konservative Folkeparti - Conservative Peo...</td>\n",
       "      <td>1976</td>\n",
       "      <td>67</td>\n",
       "      <td>Male</td>\n",
       "      <td>1958</td>\n",
       "      <td>Kort videregående uddannelse af op til 2-3 års...</td>\n",
       "      <td>22.0</td>\n",
       "      <td>37.0</td>\n",
       "      <td>45.0</td>\n",
       "      <td>NaN</td>\n",
       "      <td>NaN</td>\n",
       "      <td>55.0</td>\n",
       "      <td>0.916667</td>\n",
       "      <td>NaN</td>\n",
       "    </tr>\n",
       "    <tr>\n",
       "      <th>2</th>\n",
       "      <td>1327</td>\n",
       "      <td>240.0</td>\n",
       "      <td>5.0</td>\n",
       "      <td>NaN</td>\n",
       "      <td>NaN</td>\n",
       "      <td>Still in parental home, never left 2 months</td>\n",
       "      <td>NaN</td>\n",
       "      <td>Male</td>\n",
       "      <td>2000</td>\n",
       "      <td>Folkeskole 9.-10. klasse</td>\n",
       "      <td>11.0</td>\n",
       "      <td>37.0</td>\n",
       "      <td>37.0</td>\n",
       "      <td>NaN</td>\n",
       "      <td>NaN</td>\n",
       "      <td>37.0</td>\n",
       "      <td>0.616667</td>\n",
       "      <td>NaN</td>\n",
       "    </tr>\n",
       "    <tr>\n",
       "      <th>3</th>\n",
       "      <td>3760</td>\n",
       "      <td>300.0</td>\n",
       "      <td>7.0</td>\n",
       "      <td>Not eligible to vote</td>\n",
       "      <td>NaN</td>\n",
       "      <td>Still in parental home, never left 2 months</td>\n",
       "      <td>40</td>\n",
       "      <td>Male</td>\n",
       "      <td>2002</td>\n",
       "      <td>Folkeskole 9.-10. klasse</td>\n",
       "      <td>9.0</td>\n",
       "      <td>2.0</td>\n",
       "      <td>2.0</td>\n",
       "      <td>200.0</td>\n",
       "      <td>NaN</td>\n",
       "      <td>43.0</td>\n",
       "      <td>0.716667</td>\n",
       "      <td>low</td>\n",
       "    </tr>\n",
       "    <tr>\n",
       "      <th>4</th>\n",
       "      <td>4658</td>\n",
       "      <td>90.0</td>\n",
       "      <td>8.0</td>\n",
       "      <td>Yes</td>\n",
       "      <td>NaN</td>\n",
       "      <td>1974</td>\n",
       "      <td>50</td>\n",
       "      <td>Female</td>\n",
       "      <td>1956</td>\n",
       "      <td>Kort videregående uddannelse af op til 2-3 års...</td>\n",
       "      <td>4.0</td>\n",
       "      <td>30.0</td>\n",
       "      <td>30.0</td>\n",
       "      <td>NaN</td>\n",
       "      <td>NaN</td>\n",
       "      <td>62.0</td>\n",
       "      <td>1.033333</td>\n",
       "      <td>NaN</td>\n",
       "    </tr>\n",
       "    <tr>\n",
       "      <th>5</th>\n",
       "      <td>5816</td>\n",
       "      <td>90.0</td>\n",
       "      <td>7.0</td>\n",
       "      <td>Yes</td>\n",
       "      <td>SF Socialistisk Folkeparti - Socialist People'...</td>\n",
       "      <td>1994</td>\n",
       "      <td>60</td>\n",
       "      <td>Male</td>\n",
       "      <td>1974</td>\n",
       "      <td>Mellemlang videregående uddannelse af 3-4 års ...</td>\n",
       "      <td>35.0</td>\n",
       "      <td>37.0</td>\n",
       "      <td>37.0</td>\n",
       "      <td>37000.0</td>\n",
       "      <td>35000.0</td>\n",
       "      <td>61.0</td>\n",
       "      <td>1.016667</td>\n",
       "      <td>low</td>\n",
       "    </tr>\n",
       "    <tr>\n",
       "      <th>6</th>\n",
       "      <td>7251</td>\n",
       "      <td>300.0</td>\n",
       "      <td>5.0</td>\n",
       "      <td>Yes</td>\n",
       "      <td>Dansk Folkeparti - Danish People's Party</td>\n",
       "      <td>1993</td>\n",
       "      <td>40</td>\n",
       "      <td>Female</td>\n",
       "      <td>1975</td>\n",
       "      <td>Faglig uddannelse (håndværk, handel, landbrug ...</td>\n",
       "      <td>13.0</td>\n",
       "      <td>32.0</td>\n",
       "      <td>34.0</td>\n",
       "      <td>22000.0</td>\n",
       "      <td>30000.0</td>\n",
       "      <td>68.0</td>\n",
       "      <td>1.133333</td>\n",
       "      <td>low</td>\n",
       "    </tr>\n",
       "    <tr>\n",
       "      <th>7</th>\n",
       "      <td>7887</td>\n",
       "      <td>360.0</td>\n",
       "      <td>8.0</td>\n",
       "      <td>Yes</td>\n",
       "      <td>Socialdemokratiet - The Social democrats</td>\n",
       "      <td>1983</td>\n",
       "      <td>55</td>\n",
       "      <td>Male</td>\n",
       "      <td>1958</td>\n",
       "      <td>Lang videregående uddannelse. Kandidatuddannel...</td>\n",
       "      <td>25.0</td>\n",
       "      <td>39.0</td>\n",
       "      <td>39.0</td>\n",
       "      <td>36000.0</td>\n",
       "      <td>42000.0</td>\n",
       "      <td>89.0</td>\n",
       "      <td>1.483333</td>\n",
       "      <td>low</td>\n",
       "    </tr>\n",
       "    <tr>\n",
       "      <th>8</th>\n",
       "      <td>9607</td>\n",
       "      <td>540.0</td>\n",
       "      <td>9.0</td>\n",
       "      <td>Yes</td>\n",
       "      <td>Alternativet - The Alternative</td>\n",
       "      <td>1982</td>\n",
       "      <td>64</td>\n",
       "      <td>Female</td>\n",
       "      <td>1964</td>\n",
       "      <td>Mellemlang videregående uddannelse af 3-4 års ...</td>\n",
       "      <td>13.0</td>\n",
       "      <td>32.0</td>\n",
       "      <td>34.0</td>\n",
       "      <td>32000.0</td>\n",
       "      <td>NaN</td>\n",
       "      <td>50.0</td>\n",
       "      <td>0.833333</td>\n",
       "      <td>low</td>\n",
       "    </tr>\n",
       "    <tr>\n",
       "      <th>9</th>\n",
       "      <td>11123</td>\n",
       "      <td>150.0</td>\n",
       "      <td>7.0</td>\n",
       "      <td>Yes</td>\n",
       "      <td>Socialdemokratiet - The Social democrats</td>\n",
       "      <td>1994</td>\n",
       "      <td>45</td>\n",
       "      <td>Male</td>\n",
       "      <td>1974</td>\n",
       "      <td>Faglig uddannelse (håndværk, handel, landbrug ...</td>\n",
       "      <td>16.0</td>\n",
       "      <td>37.0</td>\n",
       "      <td>37.0</td>\n",
       "      <td>9000.0</td>\n",
       "      <td>NaN</td>\n",
       "      <td>62.0</td>\n",
       "      <td>1.033333</td>\n",
       "      <td>low</td>\n",
       "    </tr>\n",
       "  </tbody>\n",
       "</table>\n",
       "</div>"
      ],
      "text/plain": [
       "    idno  netustm  ppltrst                  vote  \\\n",
       "0    110    180.0      8.0                   Yes   \n",
       "1    705     60.0      5.0                   Yes   \n",
       "2   1327    240.0      5.0                   NaN   \n",
       "3   3760    300.0      7.0  Not eligible to vote   \n",
       "4   4658     90.0      8.0                   Yes   \n",
       "5   5816     90.0      7.0                   Yes   \n",
       "6   7251    300.0      5.0                   Yes   \n",
       "7   7887    360.0      8.0                   Yes   \n",
       "8   9607    540.0      9.0                   Yes   \n",
       "9  11123    150.0      7.0                   Yes   \n",
       "\n",
       "                                            prtvtddk  \\\n",
       "0           Socialdemokratiet - The Social democrats   \n",
       "1  Det Konservative Folkeparti - Conservative Peo...   \n",
       "2                                                NaN   \n",
       "3                                                NaN   \n",
       "4                                                NaN   \n",
       "5  SF Socialistisk Folkeparti - Socialist People'...   \n",
       "6           Dansk Folkeparti - Danish People's Party   \n",
       "7           Socialdemokratiet - The Social democrats   \n",
       "8                     Alternativet - The Alternative   \n",
       "9           Socialdemokratiet - The Social democrats   \n",
       "\n",
       "                                       lvpntyr           tygrtr    gndr  \\\n",
       "0                                         1968  Never too young    Male   \n",
       "1                                         1976               67    Male   \n",
       "2  Still in parental home, never left 2 months              NaN    Male   \n",
       "3  Still in parental home, never left 2 months               40    Male   \n",
       "4                                         1974               50  Female   \n",
       "5                                         1994               60    Male   \n",
       "6                                         1993               40  Female   \n",
       "7                                         1983               55    Male   \n",
       "8                                         1982               64  Female   \n",
       "9                                         1994               45    Male   \n",
       "\n",
       "   yrbrn                                            edlvddk  eduyrs  wkhct  \\\n",
       "0   1949  Kort videregående uddannelse af op til 2-3 års...     9.0   28.0   \n",
       "1   1958  Kort videregående uddannelse af op til 2-3 års...    22.0   37.0   \n",
       "2   2000                           Folkeskole 9.-10. klasse    11.0   37.0   \n",
       "3   2002                           Folkeskole 9.-10. klasse     9.0    2.0   \n",
       "4   1956  Kort videregående uddannelse af op til 2-3 års...     4.0   30.0   \n",
       "5   1974  Mellemlang videregående uddannelse af 3-4 års ...    35.0   37.0   \n",
       "6   1975  Faglig uddannelse (håndværk, handel, landbrug ...    13.0   32.0   \n",
       "7   1958  Lang videregående uddannelse. Kandidatuddannel...    25.0   39.0   \n",
       "8   1964  Mellemlang videregående uddannelse af 3-4 års ...    13.0   32.0   \n",
       "9   1974  Faglig uddannelse (håndværk, handel, landbrug ...    16.0   37.0   \n",
       "\n",
       "   wkhtot  grspnum  frlgrsp  inwtm     inwth grsp_cat  \n",
       "0    28.0      NaN      NaN  119.0  1.983333      NaN  \n",
       "1    45.0      NaN      NaN   55.0  0.916667      NaN  \n",
       "2    37.0      NaN      NaN   37.0  0.616667      NaN  \n",
       "3     2.0    200.0      NaN   43.0  0.716667      low  \n",
       "4    30.0      NaN      NaN   62.0  1.033333      NaN  \n",
       "5    37.0  37000.0  35000.0   61.0  1.016667      low  \n",
       "6    34.0  22000.0  30000.0   68.0  1.133333      low  \n",
       "7    39.0  36000.0  42000.0   89.0  1.483333      low  \n",
       "8    34.0  32000.0      NaN   50.0  0.833333      low  \n",
       "9    37.0   9000.0      NaN   62.0  1.033333      low  "
      ]
     },
     "execution_count": 104,
     "metadata": {},
     "output_type": "execute_result"
    }
   ],
   "source": [
    "ess2018['grsp_cat'] = pd.cut(ess2018['grspnum'], 3, labels = [\"low\", \"medium\", \"high\"])\n",
    "\n",
    "ess2018.head(10)"
   ]
  },
  {
   "cell_type": "markdown",
   "id": "loving-auckland",
   "metadata": {},
   "source": [
    "## Missingværdier\n",
    "\n",
    "Missing værdier er angivet med `NaN`. Man kan undersøge, om en variabel indeholder missing, ved at bruge metoden `isnull()`:"
   ]
  },
  {
   "cell_type": "code",
   "execution_count": 105,
   "id": "lesser-extreme",
   "metadata": {},
   "outputs": [
    {
     "data": {
      "text/plain": [
       "0     True\n",
       "1     True\n",
       "2     True\n",
       "3    False\n",
       "4     True\n",
       "Name: grspnum, dtype: bool"
      ]
     },
     "execution_count": 105,
     "metadata": {},
     "output_type": "execute_result"
    }
   ],
   "source": [
    "ess2018['grspnum'].isnull().head()"
   ]
  },
  {
   "cell_type": "markdown",
   "id": "scientific-filter",
   "metadata": {},
   "source": [
    "Denne kan også bruges i `.loc[]`:"
   ]
  },
  {
   "cell_type": "code",
   "execution_count": 107,
   "id": "sized-strain",
   "metadata": {},
   "outputs": [
    {
     "data": {
      "text/html": [
       "<div>\n",
       "<style scoped>\n",
       "    .dataframe tbody tr th:only-of-type {\n",
       "        vertical-align: middle;\n",
       "    }\n",
       "\n",
       "    .dataframe tbody tr th {\n",
       "        vertical-align: top;\n",
       "    }\n",
       "\n",
       "    .dataframe thead th {\n",
       "        text-align: right;\n",
       "    }\n",
       "</style>\n",
       "<table border=\"1\" class=\"dataframe\">\n",
       "  <thead>\n",
       "    <tr style=\"text-align: right;\">\n",
       "      <th></th>\n",
       "      <th>idno</th>\n",
       "      <th>netustm</th>\n",
       "      <th>ppltrst</th>\n",
       "      <th>vote</th>\n",
       "      <th>prtvtddk</th>\n",
       "      <th>lvpntyr</th>\n",
       "      <th>tygrtr</th>\n",
       "      <th>gndr</th>\n",
       "      <th>yrbrn</th>\n",
       "      <th>edlvddk</th>\n",
       "      <th>eduyrs</th>\n",
       "      <th>wkhct</th>\n",
       "      <th>wkhtot</th>\n",
       "      <th>grspnum</th>\n",
       "      <th>frlgrsp</th>\n",
       "      <th>inwtm</th>\n",
       "      <th>inwth</th>\n",
       "      <th>grsp_cat</th>\n",
       "    </tr>\n",
       "  </thead>\n",
       "  <tbody>\n",
       "    <tr>\n",
       "      <th>0</th>\n",
       "      <td>110</td>\n",
       "      <td>180.0</td>\n",
       "      <td>8.0</td>\n",
       "      <td>Yes</td>\n",
       "      <td>Socialdemokratiet - The Social democrats</td>\n",
       "      <td>1968</td>\n",
       "      <td>Never too young</td>\n",
       "      <td>Male</td>\n",
       "      <td>1949</td>\n",
       "      <td>Kort videregående uddannelse af op til 2-3 års...</td>\n",
       "      <td>9.0</td>\n",
       "      <td>28.0</td>\n",
       "      <td>28.0</td>\n",
       "      <td>NaN</td>\n",
       "      <td>NaN</td>\n",
       "      <td>119.0</td>\n",
       "      <td>1.983333</td>\n",
       "      <td>NaN</td>\n",
       "    </tr>\n",
       "    <tr>\n",
       "      <th>1</th>\n",
       "      <td>705</td>\n",
       "      <td>60.0</td>\n",
       "      <td>5.0</td>\n",
       "      <td>Yes</td>\n",
       "      <td>Det Konservative Folkeparti - Conservative Peo...</td>\n",
       "      <td>1976</td>\n",
       "      <td>67</td>\n",
       "      <td>Male</td>\n",
       "      <td>1958</td>\n",
       "      <td>Kort videregående uddannelse af op til 2-3 års...</td>\n",
       "      <td>22.0</td>\n",
       "      <td>37.0</td>\n",
       "      <td>45.0</td>\n",
       "      <td>NaN</td>\n",
       "      <td>NaN</td>\n",
       "      <td>55.0</td>\n",
       "      <td>0.916667</td>\n",
       "      <td>NaN</td>\n",
       "    </tr>\n",
       "    <tr>\n",
       "      <th>2</th>\n",
       "      <td>1327</td>\n",
       "      <td>240.0</td>\n",
       "      <td>5.0</td>\n",
       "      <td>NaN</td>\n",
       "      <td>NaN</td>\n",
       "      <td>Still in parental home, never left 2 months</td>\n",
       "      <td>NaN</td>\n",
       "      <td>Male</td>\n",
       "      <td>2000</td>\n",
       "      <td>Folkeskole 9.-10. klasse</td>\n",
       "      <td>11.0</td>\n",
       "      <td>37.0</td>\n",
       "      <td>37.0</td>\n",
       "      <td>NaN</td>\n",
       "      <td>NaN</td>\n",
       "      <td>37.0</td>\n",
       "      <td>0.616667</td>\n",
       "      <td>NaN</td>\n",
       "    </tr>\n",
       "    <tr>\n",
       "      <th>4</th>\n",
       "      <td>4658</td>\n",
       "      <td>90.0</td>\n",
       "      <td>8.0</td>\n",
       "      <td>Yes</td>\n",
       "      <td>NaN</td>\n",
       "      <td>1974</td>\n",
       "      <td>50</td>\n",
       "      <td>Female</td>\n",
       "      <td>1956</td>\n",
       "      <td>Kort videregående uddannelse af op til 2-3 års...</td>\n",
       "      <td>4.0</td>\n",
       "      <td>30.0</td>\n",
       "      <td>30.0</td>\n",
       "      <td>NaN</td>\n",
       "      <td>NaN</td>\n",
       "      <td>62.0</td>\n",
       "      <td>1.033333</td>\n",
       "      <td>NaN</td>\n",
       "    </tr>\n",
       "    <tr>\n",
       "      <th>10</th>\n",
       "      <td>11688</td>\n",
       "      <td>NaN</td>\n",
       "      <td>5.0</td>\n",
       "      <td>Yes</td>\n",
       "      <td>Socialdemokratiet - The Social democrats</td>\n",
       "      <td>1968</td>\n",
       "      <td>50</td>\n",
       "      <td>Female</td>\n",
       "      <td>1952</td>\n",
       "      <td>Faglig uddannelse (håndværk, handel, landbrug ...</td>\n",
       "      <td>2.0</td>\n",
       "      <td>37.0</td>\n",
       "      <td>37.0</td>\n",
       "      <td>NaN</td>\n",
       "      <td>NaN</td>\n",
       "      <td>77.0</td>\n",
       "      <td>1.283333</td>\n",
       "      <td>NaN</td>\n",
       "    </tr>\n",
       "  </tbody>\n",
       "</table>\n",
       "</div>"
      ],
      "text/plain": [
       "     idno  netustm  ppltrst vote  \\\n",
       "0     110    180.0      8.0  Yes   \n",
       "1     705     60.0      5.0  Yes   \n",
       "2    1327    240.0      5.0  NaN   \n",
       "4    4658     90.0      8.0  Yes   \n",
       "10  11688      NaN      5.0  Yes   \n",
       "\n",
       "                                             prtvtddk  \\\n",
       "0            Socialdemokratiet - The Social democrats   \n",
       "1   Det Konservative Folkeparti - Conservative Peo...   \n",
       "2                                                 NaN   \n",
       "4                                                 NaN   \n",
       "10           Socialdemokratiet - The Social democrats   \n",
       "\n",
       "                                        lvpntyr           tygrtr    gndr  \\\n",
       "0                                          1968  Never too young    Male   \n",
       "1                                          1976               67    Male   \n",
       "2   Still in parental home, never left 2 months              NaN    Male   \n",
       "4                                          1974               50  Female   \n",
       "10                                         1968               50  Female   \n",
       "\n",
       "    yrbrn                                            edlvddk  eduyrs  wkhct  \\\n",
       "0    1949  Kort videregående uddannelse af op til 2-3 års...     9.0   28.0   \n",
       "1    1958  Kort videregående uddannelse af op til 2-3 års...    22.0   37.0   \n",
       "2    2000                           Folkeskole 9.-10. klasse    11.0   37.0   \n",
       "4    1956  Kort videregående uddannelse af op til 2-3 års...     4.0   30.0   \n",
       "10   1952  Faglig uddannelse (håndværk, handel, landbrug ...     2.0   37.0   \n",
       "\n",
       "    wkhtot  grspnum  frlgrsp  inwtm     inwth grsp_cat  \n",
       "0     28.0      NaN      NaN  119.0  1.983333      NaN  \n",
       "1     45.0      NaN      NaN   55.0  0.916667      NaN  \n",
       "2     37.0      NaN      NaN   37.0  0.616667      NaN  \n",
       "4     30.0      NaN      NaN   62.0  1.033333      NaN  \n",
       "10    37.0      NaN      NaN   77.0  1.283333      NaN  "
      ]
     },
     "execution_count": 107,
     "metadata": {},
     "output_type": "execute_result"
    }
   ],
   "source": [
    "ess2018.loc[ess2018['grspnum'].isnull(), :].head()"
   ]
  },
  {
   "cell_type": "markdown",
   "id": "timely-rachel",
   "metadata": {},
   "source": [
    "---\n",
    "# ØVELSE 6: NYE VARIABLE OG REKODNING\n",
    "\n",
    "1. Tilføj en aldersvariabel til ESS2014DK datasættet (husk at data er fra 2018)\n",
    " \n",
    "2. Dan en kategorisk variabel, der inddeler respondenterne i to lige store kategorier efter antal arbejdstimer om ugen (`wkhtot`)"
   ]
  }
 ],
 "metadata": {
  "kernelspec": {
   "display_name": "Python 3",
   "language": "python",
   "name": "python3"
  },
  "language_info": {
   "codemirror_mode": {
    "name": "ipython",
    "version": 3
   },
   "file_extension": ".py",
   "mimetype": "text/x-python",
   "name": "python",
   "nbconvert_exporter": "python",
   "pygments_lexer": "ipython3",
   "version": "3.7.9"
  }
 },
 "nbformat": 4,
 "nbformat_minor": 5
}
