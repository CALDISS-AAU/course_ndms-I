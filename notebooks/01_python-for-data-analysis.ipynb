{
 "cells": [
  {
   "cell_type": "markdown",
   "id": "advance-northern",
   "metadata": {},
   "source": [
    "# Introduktion til Python til Dataanalyse\n",
    "\n",
    "Denne lektion gennemgår hvordan Python anvendes til dataanalyse. Der introduceres især til data frames i Python biblioteket \"pandas\"."
   ]
  },
  {
   "cell_type": "markdown",
   "id": "induced-region",
   "metadata": {},
   "source": [
    "- kort genopfriskning: hvad er Python?\n",
    "- brug af Python i Jupyter Notebook\n",
    "\n",
    "\n",
    "- inspicer data\n",
    "- inspicer variable\n",
    "  - value_counts\n",
    "  - crosstab\n",
    "- ØVELSE: 1 Indlæs og inspicer variabel \n",
    "- visualiser variable\n",
    "  - med matplotlib (indbygget)\n",
    "  - med seaborn\n",
    "- ØVELSE 2: Visualiser \n",
    "- deskriptive mål\n",
    "- groupby\n",
    "  - deskriptive mål\n",
    "  - value_counts\n",
    "- ØVELSE 3: deskriptive mål og groupby\n",
    "- groupby og visualisering\n",
    "- ØVELSE 4: visualisering med groupby\n",
    "- hvad består data frames af?\n",
    "  - rækker = index\n",
    "  - kolonner = series\n",
    "- obs! index behøver ikke være 0\n",
    "- subsetting\n",
    "- subsetting med logiske værdier\n",
    "- ØVELSE 5: Dan et subset\n",
    "- nye variable\n",
    "- ØVELSE 6: Dan ny variabel\n",
    "- missingværdier\n",
    "- rekodning af værdier (fx til at danne kategorisk)\n",
    "- ØVELSE 7: Dan kategorisk variabel\n"
   ]
  },
  {
   "cell_type": "markdown",
   "id": "powerful-yield",
   "metadata": {},
   "source": [
    "# Hvad er Python?\n",
    "\n",
    "Python er et programmeringssprog. At arbejde med Python kræver derfor, at man “taler” det rette sprog, når man gerne vil have Python til at gøre noget.\n",
    "\n",
    "Python har ikke en brugerflade, så for at få Python til at gøre noget, skal vi “fortælle” Python, hvad vi gerne vil ved at skrive kommandoer i Python sproget.\n",
    "\n",
    "## Interager med Python\n",
    "\n",
    "Barberes Python ned til sine grundsten består det ikke af mere end en “interpreter” (fortolker). Alle programmeringssprog er bygget op om en fortolker, der “evaluerer” kommandoer. Inden for programmering vil evaluering sige, at sproget forsøger at forstå, hvad der står i en kommando.\n",
    "\n",
    "Man kan arbejde med Python fortolkeren direkte igennem en terminal/kommandoprompt, men det gør det meget besværligt at arbejde med.\n",
    "\n",
    "## Python i Jupyter Lab / Jupyter Notebook\n",
    "\n",
    "I dette kursus bruger vi Jupyter Lab som vores program (IDE) til at arbejde med Python: https://jupyter.org/\n",
    "\n",
    "Jupyter Lab/Notebook er opbygget omkring en såkaldt “notebook”. En notebook i Jupyter kombinerer Python kode med almindelig tekst (skrevet i “Markdown”). Jupyter Notebook egner sig særdeles godt, hvis man skal dokumentere sit kodearbejde undervejs, da man har mulighed for at skrive almindelig tekst, sætte billeder ind, lave tabeller osv. omkring sin kode."
   ]
  },
  {
   "cell_type": "markdown",
   "id": "bigger-nevada",
   "metadata": {},
   "source": [
    "# Fundamentale koncepter i Python\n",
    "\n",
    "Som nævnt arbejder man med Python ved at skrive kommandoer i Python sproget. Kommandoer bliver “evalueret” af fortolkeren. Hvis koden forstås, bliver den kørt, og der gives et output, en ændring eller andet afhængigt af, hvad man beder om."
   ]
  },
  {
   "cell_type": "code",
   "execution_count": 13,
   "id": "coastal-immune",
   "metadata": {},
   "outputs": [],
   "source": [
    "# math"
   ]
  },
  {
   "cell_type": "markdown",
   "id": "differential-palmer",
   "metadata": {},
   "source": [
    "## Objekter/varaible\n",
    "\n",
    "Python er et objekt-orienteret programmeringssprog. Dette indebærer, at man kontinuerligt arbejder med forskellige objekter, som indeholder en eller anden for for information.\n",
    "\n",
    "I Python kaldes objekter “variable”. Dette er ikke at forveksle med en variabel, som forstået i statistik som en egenskab ved en observation, da en variabel i Python blot er en beholder for en eller anden form for information."
   ]
  },
  {
   "cell_type": "code",
   "execution_count": 12,
   "id": "chubby-switzerland",
   "metadata": {},
   "outputs": [],
   "source": [
    "# objekt"
   ]
  },
  {
   "cell_type": "markdown",
   "id": "technological-homework",
   "metadata": {},
   "source": [
    "## Funktioner\n",
    "\n",
    "En central del af det at arbejde med et programmeringssprog er at bruge funktioner. Funktioner tager et eller flere input (kaldet “argumenter”), foretager et eller andet med disse og returnerer (for det meste) et output.\n",
    "\n",
    "Funktioner i Python har følgende format:\n",
    "\n",
    "```\n",
    "function(argument1, argument2, ...)\n",
    "```\n"
   ]
  },
  {
   "cell_type": "code",
   "execution_count": 11,
   "id": "spoken-launch",
   "metadata": {},
   "outputs": [],
   "source": [
    "# funktion"
   ]
  },
  {
   "cell_type": "markdown",
   "id": "tracked-scope",
   "metadata": {},
   "source": [
    "## Metoder\n",
    "\n",
    "Udover funktioner i Python findes der også “metoder”. Lig funktioner tager metoder også en form for input og returnerer et output.\n",
    "\n",
    "I modsætning til funktioner er metoder bundet op på bestemte variabeltyper. Det vil sige at variablen skal være en bestemt type for, at metoden kan bruges. Metoder kaldes med `variabel.method(option1 = something)`. Tekstværdier (strings) har fx en række metoder tilknyttet til at ændre teksten:"
   ]
  },
  {
   "cell_type": "code",
   "execution_count": 14,
   "id": "formed-astrology",
   "metadata": {},
   "outputs": [],
   "source": [
    "# method"
   ]
  },
  {
   "cell_type": "markdown",
   "id": "lesser-egypt",
   "metadata": {},
   "source": [
    "## Pakker\n",
    "\n",
    "Pakker i Python er samlinger af funktioner, metoder, værdier osv. Selvom man kan meget i Python, så når man ikke særlig langt uden at importere pakker.\n",
    "\n",
    "Funktioner, metoder, værdier osv. fra pakker kan nemt indlæses ved at importere dem. Så snart pakken er importeret, er pakkens indhold tilgængeligt."
   ]
  },
  {
   "cell_type": "code",
   "execution_count": 15,
   "id": "unexpected-questionnaire",
   "metadata": {},
   "outputs": [],
   "source": [
    "# import"
   ]
  },
  {
   "cell_type": "markdown",
   "id": "strong-condition",
   "metadata": {},
   "source": [
    "# ØVELSE 0: KAN PYTHON NOGET?\n",
    "\n",
    "- Lav en notebook til denne lektion\n",
    "- Lav en kodecelle\n",
    "- Skriv kommandoen `print(\"hello there\")` ind i cellen\n",
    "- Kør cellen"
   ]
  },
  {
   "cell_type": "markdown",
   "id": "gross-escape",
   "metadata": {},
   "source": [
    "# Data i Python\n",
    "\n",
    "I dette første kapitel tages et kig på, hvad data er for en størrelse, og hvordan et struktureret datasæt ser ud i Python. "
   ]
  },
  {
   "cell_type": "markdown",
   "id": "waiting-cocktail",
   "metadata": {},
   "source": [
    "# Data og datasæt\n",
    "\n",
    "I disse Python lektioner gennemgås, hvordan Python anvendes til dataanalyse, men hvad er data overhovedet for noget?\n",
    "\n",
    "Som udgangspunkt arbejder vi med en meget bred forståelse af data: alle former for information om noget. Grunden til at der i dag er så meget snak om data, dataanalyse, maskinlæring osv., er fordi at stadig mere og mere information digitaliseres, hvorfor det kan gøres til genstand for analyser.\n",
    "\n",
    "Navn, alder, uddannelse, indkomst, yndlingsfilm, mest aflyttede sange i 2020, antal gange rejst med bus 2 i Aalborg, køb i supermarkeder, størrelse på bolig, indbo, brug af el, varme og vand osv. Alle disse informationer er data og alt sammen kan indgå i analyser til at sige noget om en person eller, mere relevant, flere personer med lignende karakteristika.\n",
    "\n",
    "Data som en mere eller mindre tilfældig strøm af tilfældig information er vanskelig at arbejde med. Data skal på en eller anden måde være i system for, at det kan analyseres - det gælder både maskinel/computationel analyse eller menneskelig analyse.\n",
    "\n",
    "Når man taler om et datasæt, mener man typisk en eller anden form for afgrænset mængde data, der måske eller måske ikke er struktureret i en eller anden form.\n",
    "\n",
    "## Struktureret og ustruktureret data\n",
    "\n",
    "Man adskiller typisk mellem struktureret og ustruktureret data.\n",
    "\n",
    "**Struktureret data**\n",
    "\n",
    "*Struktureret data* er data, der på en eller anden måde er sat i system. Den klassiske repræsentation af struktureret data er i et tabulært format, hvor hver række indeholder en *observation* og hver kolonne indeholder en *variabel* (eller \"feature\", som det omtales inden for maskinlæring. En observation kan være en person, et land, et firma, et tidspunkt, en kommune osv., mens en variabel er en eller anden form for information om observationen.\n",
    "\n",
    "Tabellen herunder er et eksempel på struktureret data:\n",
    "\n",
    "|Navn |Alder |Beskæftigelse |\n",
    "|-----|------|--------------|\n",
    "|Lars | 34 | Slagter|\n",
    "|Gertrud | 62 | Rådgiver|\n",
    "|Henning | 43 | Revisor|\n",
    "|Agnes | 38 | Tømrer|\n",
    "\n",
    "Struktureret data er kendeteget ved at være sat i system sådan, at man umiddelbart kan analysere og spørge data om noget. I ovenstående tabel kan man fx meget hurtigt undersøge, hvor mange der er ældre end 40, hvem der har et fornavn der starter med \"H\" eller hvem der har beskæftigelse inden for byggeri.\n",
    "\n",
    "**Ustruktureret data**\n",
    "\n",
    "*Ustruktureret data* er data, som - kort sagt - ikke er sat i system. Hvis data ikke er struktureret, vil man typisk kalde det ustruktureret data. Tekst, billeder og video er typiske eksempler på ustruktureret data, da disse blot er rå information uden nogen måde at adskille en type information fra en anden. Mange moderne dataanalyseteknikker fokuserer på ustruktureret data, hvor man enten udvikler teknikker til at skabe overblik over ustruktureret data eller forsøger at give data en form for struktur.\n",
    "\n",
    "Nedenstående er et eksempel på ustruktureret data:\n",
    "\n",
    "```\n",
    "[\"Hvorfor går man ikke i dialog med ⁦@DRC_dk⁩ i stedet for at opsige kontrakten uden varsel. Er det kun for at føre stærk mand politik? DRC yder en fremragende indsats på baggrund af den opgave de har fået #dkpol https://jyllands-posten.dk/indland/ECE12248020/tesfaye-forsoeger-sig-med-en-ny-loesning-paa-alle-udlaendingeministres-problem/ …\",\n",
    "\"Alle tæller ❤️ https://twitter.com/cekicozlem/status/1276034922587832326 …\",\n",
    "\"Det er så godt arbejde💚 https://twitter.com/fannybroholm/status/1275360842847080449 …\",\n",
    "\"Tilfreds med den klima og energiaftale, der er lavet nu. Det er den første delaftale om at nå 70% reduktion i 2030. Særligt glad for at den indeholder principaftale om en CO2 afgiftsreform #dkpol #dkgreen pic.twitter.com/3slrMxLT5B\",\n",
    "\"Godt første skridt for den fri natur #dkpol #dkgreen ⁦@alternativet_⁩ https://www.altinget.dk/miljoe/artikel/wermelin-lander-aftale-om-de-foerste-naturnationalparker …\",\n",
    "\"Spændende udmelding. ⁦@alternativet_⁩ ønsker også en grøn   Klimaafgift, hvor udgangspunktet er at forureneren betaler #dkgreen #dkpol https://www.altinget.dk/artikel/venstre-og-radikale-laegger-faelles-pres-paa-regeringen-vil-have-ensartet-co2-afgift?SNSubscribed=true&ref=newsletter&refid=fredag-middag-190620&utm_campaign=altingetdk%20Altinget.dk&utm_medium%09=e-mail&utm_source=nyhedsbrev …\",\n",
    "\"Så vigtigt at KL tager ansvar for den proces #dkpol #dkgreen https://www.altinget.dk/miljoe/artikel/professor-om-affaldsaftale-kl-og-kommunerne-skal-gribe-chancen-for-at-loese-tingene-selv …\",\n",
    "\"Hurra - stor dag for Danmark💚👏🏼👏🏼 https://twitter.com/alternativet_/status/1273555055476723713 …\",\n",
    "\"Til klimaforhandlinger i Finansministeriet. Vi sidder og diskuterer rammerne - de næste dage bliver intensive #dkpol #dkgreen @alternativet_ @ Christiansborg Palace  https://www.instagram.com/p/CBi3d0oB9lB/?igshid=ii78cjnx2n72 …\",\n",
    "\"Aftale om mindre affald, mindre forbrænding og mere genbrug - god dag for klimaet og miljøet. 1. skridt i en stor miljøpakke #dkpol ⁦@alternativet_⁩ https://www.dr.dk/nyheder/indland/live-regeringen-praesenterer-ny-aftale-om-affald …\"]\n",
    "```\n",
    "\n",
    "I ovenstående kan man stadig overføre ideen om observationer (i dette tilfælde tweets fra danske politikere), men der er ingen variable eller features givet på forhånd. Der er derfor ingen umiddelbar struktur at gøre brug af for at foretage sig analyser.\n",
    "\n",
    "## Fra data til dataanalyse\n",
    "\n",
    "Uanset om data er struktureret eller ustruktureret, er de næsten aldrig klar til at analysere med det samme. Data skal næsten altid tilpasses den analyse, som man ønsker at foretage og de spørgsmål, som man ønsker at få svar på med sin analyse. \n",
    "\n",
    "For struktureret data indebærer dette at få identificeret de relevante dele af sine data (er det fx alle observationer, der er relevante?) samt undersøge og rekode variable sådan, at de meningsfuldt kan bruges i sin analyse.\n",
    "\n",
    "For ustruktureret data indebærer det på en eller anden måde at få sat system i eller skabt overblik over data.\n",
    "\n",
    "Ofte vil man også arbejde med data fra flere kilder, hvorfor en del forarbejde også kan gå med at få data kombineret i et samlet datasæt.\n",
    "\n",
    "---\n",
    "## VIDENSCHECK\n",
    "\n",
    "*Hvilke af nedenstående er eksempler på datasæt?:*\n",
    "\n",
    "* Navnet på butikschefen i det lokale supermarked\n",
    "* Alle værker af H.C. Andersen\n",
    "* En oversigt over medlemmer af DFØJ med information om navn, fødselsår, arbejdssted og uddannelse\n",
    "* Filmen \"Vampire's Kiss\" med Nicolas Cage fra 1988\n",
    "* Et kontoudtog\n",
    "* Alle film med Nicolas Cage"
   ]
  },
  {
   "cell_type": "markdown",
   "id": "authentic-recording",
   "metadata": {},
   "source": [
    "# Introduktion til pandas\n",
    "\n",
    "Pakken `pandas` (https://pandas.pydata.org/) er et Python bibliotek til datahåndtering og dataanalyse. Pandas egner sig særligt til data i tabeller struktureret i rækker og kolonner. En datatabel kaldes inden for pandas en \"DataFrame\"; et bestemt Python objekt specifikt til at lagre og bearbejde data i tabeller.\n",
    "\n",
    "Denne lektion gennemgår diverse basale funktioner til at indlæse, udforske og håndtere en pandas DataFrame. Se også den officielle dokumentation for flere guides, introduktioner og beskrivelser til at arbejde med pandas: https://pandas.pydata.org/docs/\n",
    "\n",
    "## Indlæs data med `pandas`\n",
    "\n",
    "`pandas` pakken indeholder funktioner til at indlæse data i forskellige formater; herunder CSV, JSON, Excel, Stata, SAS osv.\n",
    "\n",
    "I det nedenstående indlæses pandas biblioteket, hvorefter datasættet \"ESS2014DK_subset.csv\" indlæses. Biblioteket `numpy` indlæses også, da det indeholder en række brugbare funktioner til at foretage beregninger på pandas dataframes:"
   ]
  },
  {
   "cell_type": "code",
   "execution_count": 2,
   "id": "native-flush",
   "metadata": {},
   "outputs": [],
   "source": [
    "import pandas as pd\n",
    "\n",
    "#ess2018 = pd.read_csv('')"
   ]
  },
  {
   "cell_type": "markdown",
   "id": "circular-start",
   "metadata": {},
   "source": [
    "*Bemærk importkonventionerne for `pandas`. `pandas` typisk som `pd`.*"
   ]
  },
  {
   "cell_type": "markdown",
   "id": "close-midwest",
   "metadata": {},
   "source": [
    "### Om datasættet\n",
    "Datasættet, som indlæses her, er et uddrag af datasættet fra European Social Survey (ESS) 2014. ESS er en europæisk surveyundersøgelse, der gentages hvert andet år. Surveyet behandler spørgsmål om folks helbred, beskæftigelse, politiske holdninger, tillid osv. I dette uddrag er der kun inkluderet de danske respondenter og et mindre udpluk variable.\n",
    "\n",
    "Subsettet af ESS 2014 indeholder følgende kolonner:\n",
    "- `idno`: Personens id-numre/respondentnøgle\n",
    "- `ppltrst`: Personens vurdering på en skala fra 0-10 af, hvor meget de stoler på andre mennesker\n",
    "- `happy`: Personens vurdering på en skala fra 0-10 af, hvor glade de føler sig\n",
    "- `health`: Personens vurdering af eget helbred fra \"Very bad\" til \"Very good\"\n",
    "- `cgtsday`: Antal cigaretter personen ryger om dagen\n",
    "- `alcfreq`: Hvor ofte personen drikker alkohol\n",
    "- `height`: Personens højde i centimeter\n",
    "- `weight`: Personens vægt i kilo\n",
    "- `gndr`: Personens køn (mand/kvinde)\n",
    "- `yrbrn`: Personens fødselsår"
   ]
  },
  {
   "cell_type": "markdown",
   "id": "deluxe-bloom",
   "metadata": {},
   "source": [
    "## Inspicer data med `pandas`\n",
    "\n",
    "Datasættet er nu indlæst som et dataframe objekt i Python, som man kan interagere med. \n",
    "\n",
    "Metoden `.head()` printer de første fem rækker af datasættet:"
   ]
  },
  {
   "cell_type": "code",
   "execution_count": 4,
   "id": "little-martial",
   "metadata": {},
   "outputs": [],
   "source": [
    "#ess2018.head()"
   ]
  },
  {
   "cell_type": "markdown",
   "id": "trained-banks",
   "metadata": {},
   "source": [
    "Dataframes er et tabulært dataformat. Når en fil indlæses som en pandas dataframe, skal filen derfor være i et format, der kan konverteres til tabelformat (data i rækker og kolonner).\n",
    "\n",
    "I dette datasæt udgør observationerne (rækkerne) enkeltpersoner, som har besvaret spørgeskemaet. De enkelte kolonner indeholder oplysninger om de enkelte personer. \n",
    "Af ovenstående print af de første fem række kan man fx læse, at personen i række 4 (rækkeindeks 3) er en kvinde født i 1958, som er 162 cm høj."
   ]
  },
  {
   "cell_type": "markdown",
   "id": "union-marketing",
   "metadata": {},
   "source": [
    "**NaN?**\n",
    "\n",
    "Som det ses af datasættet fremgår værdien `NaN` flere gange i datasættet (særligt under kolonnen `cgtsday`). \n",
    "\n",
    "`NaN` angiver missingværdi. En missingværdi er en ikke-gyldig værdi; fx hvis en person ikke svarer, informationen ikke har været muligt at skaffe eller andet."
   ]
  },
  {
   "cell_type": "markdown",
   "id": "introductory-projection",
   "metadata": {},
   "source": [
    "### Kolonner/variable \n",
    "\n",
    "En dataframe består af en samling af kolonner. En kolonne i en dataframe kaldes en `series`.\n",
    "\n",
    "Navnene på kolonnerne, som en dataframe indeholder, kan ses af attributen `.columns`:"
   ]
  },
  {
   "cell_type": "code",
   "execution_count": 5,
   "id": "entitled-engineering",
   "metadata": {},
   "outputs": [],
   "source": [
    "#ess2018.columns"
   ]
  },
  {
   "cell_type": "markdown",
   "id": "universal-anaheim",
   "metadata": {},
   "source": [
    "## Inspicer variable\n",
    "\n",
    "En enkelt variabel/kolonne i datasættet referes til med `[]`:"
   ]
  },
  {
   "cell_type": "code",
   "execution_count": 6,
   "id": "residential-representative",
   "metadata": {},
   "outputs": [],
   "source": [
    "#ess2018[''].head()"
   ]
  },
  {
   "cell_type": "markdown",
   "id": "false-voltage",
   "metadata": {},
   "source": [
    "Vi kan bruge en metode som `.value_counts()` til at optælle værdierne inden for én kolonne:"
   ]
  },
  {
   "cell_type": "code",
   "execution_count": 1,
   "id": "ruled-yacht",
   "metadata": {},
   "outputs": [],
   "source": [
    "#ess2018[''].value_counts()"
   ]
  },
  {
   "cell_type": "markdown",
   "id": "southern-grill",
   "metadata": {},
   "source": [
    "Med funktionen `pd.crosstab()` kan vi opsummere over to variable:"
   ]
  },
  {
   "cell_type": "markdown",
   "id": "perfect-portland",
   "metadata": {},
   "source": [
    "# ØVELSE 1: INDLÆS DATA OG INSPICER VARIABLE\n",
    "\n",
    "1. Indlæs datasættet \"\", hvis du ikke allerede har gjort det.\n",
    "2. Tjek at datasættet er indlæst korrekt med `.head()`\n",
    "3. Brug `.value_counts()` til at finde ud af, hvor mange af respondenterne..."
   ]
  },
  {
   "cell_type": "markdown",
   "id": "acoustic-shoot",
   "metadata": {},
   "source": [
    "# Visualisering med `pandas`\n",
    "\n",
    "`pandas` dataframes har en række indbyggede metoder til at plotte enkelte variable. \n",
    "\n",
    "Vi kan fx bruge metoden `.plot.hist()` til at lave et histogram:"
   ]
  },
  {
   "cell_type": "code",
   "execution_count": 2,
   "id": "legendary-price",
   "metadata": {},
   "outputs": [],
   "source": [
    "# ess2014['height'].plot.hist(bins = 30)"
   ]
  },
  {
   "cell_type": "markdown",
   "id": "indirect-northwest",
   "metadata": {},
   "source": [
    "`.plot.box()` kan bruges til boxplots."
   ]
  },
  {
   "cell_type": "code",
   "execution_count": 3,
   "id": "precious-worker",
   "metadata": {},
   "outputs": [],
   "source": [
    "#ess2014['height'].plot.box()"
   ]
  },
  {
   "cell_type": "markdown",
   "id": "fixed-voluntary",
   "metadata": {},
   "source": [
    "`.plot.bar()` kan bruges til kategoriske variable for at lave søjlediagrammer:"
   ]
  },
  {
   "cell_type": "code",
   "execution_count": 4,
   "id": "responsible-moisture",
   "metadata": {},
   "outputs": [],
   "source": [
    "#ess2014['height'].plot.bar()"
   ]
  },
  {
   "cell_type": "markdown",
   "id": "thrown-bacteria",
   "metadata": {},
   "source": [
    "Alternativt en pie-chart med `.plot.pie()`. Denne kan med fordel kombineres med `.value_counts()`:"
   ]
  },
  {
   "cell_type": "code",
   "execution_count": 5,
   "id": "hundred-corporation",
   "metadata": {},
   "outputs": [],
   "source": [
    "#ess2014['health_3cats'].value_counts().plot.pie()"
   ]
  },
  {
   "cell_type": "markdown",
   "id": "tough-taiwan",
   "metadata": {},
   "source": [
    "## Visualisering med `seaborn` \n",
    "\n",
    "Der findes forskellige pakker til at lave visualisering i Python. En meget populær pakke er `seaborn`: https://seaborn.pydata.org/\n",
    "\n",
    "Med `seaborn` kan man relativt nemt lave visualiseringer over flere variable. \n",
    "\n",
    "I `seaborn` dannes plots ved først at refere specifikt til den plotting funtkion, som man vil bruge, og derefter specificere data.\n",
    "\n",
    "Nedenstående linje danner et scatterplot for X og Y. Ved `seaborn` plottingfunktioner specificeres, hvilke værdier der skal udgøre x-aksen og hvilke, der skal udgøre y-aksen. `seaborn` forventer typisk series, så man kan specificere series direkte i funktionerne. Dog kan man også, som i nedenstående, specificere kolonne/variabelnavne og til sidst specificere data med argumentet `data = `:"
   ]
  },
  {
   "cell_type": "code",
   "execution_count": 7,
   "id": "superior-george",
   "metadata": {},
   "outputs": [],
   "source": [
    "#sns.scatterplot(data = ess2014, x = 'height', y = 'weight')"
   ]
  },
  {
   "cell_type": "markdown",
   "id": "assigned-anaheim",
   "metadata": {},
   "source": [
    "Et scatterplot danner en prik for hver observations placering på to variable. Plottet egner sig derfor særdeles godt til at udforske umiddelbare sammenhænge (om en variabel er beslægtet med en anden)."
   ]
  },
  {
   "cell_type": "markdown",
   "id": "fluid-marketing",
   "metadata": {},
   "source": [
    "# ØVELSE 2: VISUALISERING AF DATA\n",
    "\n",
    "1. Dan et histogram over variablen \"\"\n",
    "2. Dan et søjlediagram over variablen \"\""
   ]
  },
  {
   "cell_type": "markdown",
   "id": "tired-things",
   "metadata": {},
   "source": [
    "# Deskriptive mål\n",
    "\n",
    "Én måde at udforske et datasæt er ved at se nærmere på forskellige deskriptive mål for variable i datasættet.\n",
    "\n",
    "Metoden `.describe()` danner deskriptive mål for alle (kompatible) variable i datasættet:"
   ]
  },
  {
   "cell_type": "code",
   "execution_count": 18,
   "id": "sharing-juvenile",
   "metadata": {},
   "outputs": [
    {
     "data": {
      "text/html": [
       "<div>\n",
       "<style scoped>\n",
       "    .dataframe tbody tr th:only-of-type {\n",
       "        vertical-align: middle;\n",
       "    }\n",
       "\n",
       "    .dataframe tbody tr th {\n",
       "        vertical-align: top;\n",
       "    }\n",
       "\n",
       "    .dataframe thead th {\n",
       "        text-align: right;\n",
       "    }\n",
       "</style>\n",
       "<table border=\"1\" class=\"dataframe\">\n",
       "  <thead>\n",
       "    <tr style=\"text-align: right;\">\n",
       "      <th></th>\n",
       "      <th>idno</th>\n",
       "      <th>cgtsday</th>\n",
       "      <th>height</th>\n",
       "      <th>weight</th>\n",
       "      <th>yrbrn</th>\n",
       "    </tr>\n",
       "  </thead>\n",
       "  <tbody>\n",
       "    <tr>\n",
       "      <th>count</th>\n",
       "      <td>751.000000</td>\n",
       "      <td>166.000000</td>\n",
       "      <td>749.000000</td>\n",
       "      <td>740.000000</td>\n",
       "      <td>751.000000</td>\n",
       "    </tr>\n",
       "    <tr>\n",
       "      <th>mean</th>\n",
       "      <td>935322.402130</td>\n",
       "      <td>11.397590</td>\n",
       "      <td>174.158879</td>\n",
       "      <td>76.178108</td>\n",
       "      <td>1966.324900</td>\n",
       "    </tr>\n",
       "    <tr>\n",
       "      <th>std</th>\n",
       "      <td>8431.191754</td>\n",
       "      <td>7.994604</td>\n",
       "      <td>9.656126</td>\n",
       "      <td>15.597381</td>\n",
       "      <td>18.982895</td>\n",
       "    </tr>\n",
       "    <tr>\n",
       "      <th>min</th>\n",
       "      <td>921034.000000</td>\n",
       "      <td>0.000000</td>\n",
       "      <td>148.000000</td>\n",
       "      <td>43.000000</td>\n",
       "      <td>1914.000000</td>\n",
       "    </tr>\n",
       "    <tr>\n",
       "      <th>25%</th>\n",
       "      <td>928073.000000</td>\n",
       "      <td>5.000000</td>\n",
       "      <td>167.000000</td>\n",
       "      <td>65.000000</td>\n",
       "      <td>1952.000000</td>\n",
       "    </tr>\n",
       "    <tr>\n",
       "      <th>50%</th>\n",
       "      <td>935251.000000</td>\n",
       "      <td>10.000000</td>\n",
       "      <td>174.000000</td>\n",
       "      <td>74.500000</td>\n",
       "      <td>1966.000000</td>\n",
       "    </tr>\n",
       "    <tr>\n",
       "      <th>75%</th>\n",
       "      <td>942260.000000</td>\n",
       "      <td>17.750000</td>\n",
       "      <td>181.000000</td>\n",
       "      <td>85.000000</td>\n",
       "      <td>1982.000000</td>\n",
       "    </tr>\n",
       "    <tr>\n",
       "      <th>max</th>\n",
       "      <td>950508.000000</td>\n",
       "      <td>40.000000</td>\n",
       "      <td>203.000000</td>\n",
       "      <td>135.000000</td>\n",
       "      <td>1999.000000</td>\n",
       "    </tr>\n",
       "  </tbody>\n",
       "</table>\n",
       "</div>"
      ],
      "text/plain": [
       "                idno     cgtsday      height      weight        yrbrn\n",
       "count     751.000000  166.000000  749.000000  740.000000   751.000000\n",
       "mean   935322.402130   11.397590  174.158879   76.178108  1966.324900\n",
       "std      8431.191754    7.994604    9.656126   15.597381    18.982895\n",
       "min    921034.000000    0.000000  148.000000   43.000000  1914.000000\n",
       "25%    928073.000000    5.000000  167.000000   65.000000  1952.000000\n",
       "50%    935251.000000   10.000000  174.000000   74.500000  1966.000000\n",
       "75%    942260.000000   17.750000  181.000000   85.000000  1982.000000\n",
       "max    950508.000000   40.000000  203.000000  135.000000  1999.000000"
      ]
     },
     "execution_count": 18,
     "metadata": {},
     "output_type": "execute_result"
    }
   ],
   "source": [
    "#ess2014.describe()"
   ]
  },
  {
   "cell_type": "markdown",
   "id": "medieval-lebanon",
   "metadata": {},
   "source": [
    "Metoden fungerer også på enkeltvariable:"
   ]
  },
  {
   "cell_type": "code",
   "execution_count": 8,
   "id": "foreign-outside",
   "metadata": {},
   "outputs": [],
   "source": [
    "#ess2014['weight'].describe()"
   ]
  },
  {
   "cell_type": "markdown",
   "id": "available-director",
   "metadata": {},
   "source": [
    "`.describe()` danner følgende mål:\n",
    "- `count`: Antal svar ekskl. missing\n",
    "- `mean`: Middelværdien\n",
    "- `std`: Standardafvigelsen\n",
    "- `min`: Minimumværdien\n",
    "- `25%`: 1. kvartil\n",
    "- `50%`: 2. kvartil\n",
    "- `75%`: 3. kvartil\n",
    "- `max`: Maksimumværdien"
   ]
  },
  {
   "cell_type": "markdown",
   "id": "communist-creativity",
   "metadata": {},
   "source": [
    "Der knytter sig også en række metoder til at danne de enkelte deskriptive mål.\n",
    "\n",
    "Herunder printes fx middelværdien, standardafvigelsen, minimums- og maksimumsværdien for variablen `weight`:"
   ]
  },
  {
   "cell_type": "code",
   "execution_count": 22,
   "id": "asian-guess",
   "metadata": {},
   "outputs": [
    {
     "name": "stdout",
     "output_type": "stream",
     "text": [
      "76.17810810810812\n",
      "15.597381262076514\n",
      "43.0\n",
      "135.0\n"
     ]
    }
   ],
   "source": [
    "print(ess2014['weight'].mean())\n",
    "print(ess2014['weight'].std())\n",
    "print(ess2014['weight'].min())\n",
    "print(ess2014['weight'].max())"
   ]
  },
  {
   "cell_type": "markdown",
   "id": "appropriate-undergraduate",
   "metadata": {},
   "source": [
    "Ovenstående værdier fortæller, at `weight` indeholder værdier fra 38.0 til 137.0 med en middelværdi på 75.86 og en standardafvigelse på 15.59 (middelværdien af de afstande, som hver observation afviger fra middelværdien)."
   ]
  },
  {
   "cell_type": "markdown",
   "id": "patent-acoustic",
   "metadata": {},
   "source": [
    "## Deskriptive mål og kategoriske variable\n",
    "\n",
    "Sammenlignes outputtet fra `.describe()` med indholdet af datasættet ses, at der ikke udregnes deskriptive mål for alle variable. \n",
    "\n",
    "Når `.describe()` bruges på et hel dataframe, udregnes kun mål for numeriske variabeltyper; altså variable, der kun består af tal.\n",
    "\n",
    "Metoden kan dog også bruges på en kategorisk variabel som `ppltrst`:"
   ]
  },
  {
   "cell_type": "code",
   "execution_count": 24,
   "id": "impossible-jersey",
   "metadata": {},
   "outputs": [
    {
     "data": {
      "text/plain": [
       "count     749\n",
       "unique     11\n",
       "top         8\n",
       "freq      230\n",
       "Name: ppltrst, dtype: object"
      ]
     },
     "execution_count": 24,
     "metadata": {},
     "output_type": "execute_result"
    }
   ],
   "source": [
    "ess2014['ppltrst'].describe()"
   ]
  },
  {
   "cell_type": "markdown",
   "id": "pregnant-radio",
   "metadata": {},
   "source": [
    "**Hvornår er en variabel kategorisk?**\n",
    "\n",
    "Det kan måske give anledning til undren, hvorfor der fx ikke kan beregnes en middelværdi af `ppltrst`, da variablen umiddelbart indeholder tal:"
   ]
  },
  {
   "cell_type": "code",
   "execution_count": 25,
   "id": "consolidated-equilibrium",
   "metadata": {},
   "outputs": [
    {
     "data": {
      "text/plain": [
       "0                             4\n",
       "1    Most people can be trusted\n",
       "2                             5\n",
       "3                             8\n",
       "4                             4\n",
       "Name: ppltrst, dtype: object"
      ]
     },
     "execution_count": 25,
     "metadata": {},
     "output_type": "execute_result"
    }
   ],
   "source": [
    "ess2014['ppltrst'].head()"
   ]
  },
  {
   "cell_type": "markdown",
   "id": "personalized-ordinance",
   "metadata": {},
   "source": [
    "Ved et nærmere kig viser det sig dog, at variablen også indeholder tekstværdier.\n",
    "\n",
    "`.unique()` returnerer de unikke værdier i variablen:"
   ]
  },
  {
   "cell_type": "code",
   "execution_count": 26,
   "id": "featured-aside",
   "metadata": {},
   "outputs": [
    {
     "data": {
      "text/plain": [
       "array(['4', 'Most people can be trusted', '5', '8', '7', '9', '2', '6',\n",
       "       '3', \"You can't be too careful\", '1', nan], dtype=object)"
      ]
     },
     "execution_count": 26,
     "metadata": {},
     "output_type": "execute_result"
    }
   ],
   "source": [
    "ess2014['ppltrst'].unique()"
   ]
  },
  {
   "cell_type": "markdown",
   "id": "educational-quest",
   "metadata": {},
   "source": [
    "Af ovenstående ses, at variablen indeholder tekstværdierne \"Most people can be trusted\" (svarende til 10 på skalaen) og \"You can't be too careful\" (svarende til 0 på skalaen).\n",
    "\n",
    "Hvis der skal udregnes middelværdi på denne variablen, skal værdierne først konverteres om til numeriske værdier (mere om dette senere)."
   ]
  },
  {
   "cell_type": "markdown",
   "id": "cathedral-subcommittee",
   "metadata": {},
   "source": [
    "## Opsummeringer på gruppeniveau: Groupby"
   ]
  },
  {
   "cell_type": "markdown",
   "id": "focal-french",
   "metadata": {},
   "source": [
    "En effektiv måde at udforske og udføre indledende deskriptive analyser af sine data, er ved at undersøge de grupperinger, som data indeholder.\n",
    "\n",
    "Her skal vi se på nogen forskellige måder, hvor der kan udregnes deskriptive mål og dannes visualiseringer for grupper i data\n",
    "\n",
    "Vi starter med at indlæse de nødvendige pakker og data. Aldersvariablen (som også blev tilføjet i lektion 3) tilføjes igen:"
   ]
  },
  {
   "cell_type": "markdown",
   "id": "parliamentary-audit",
   "metadata": {},
   "source": [
    "## Brug af split-apply til at opsummere data\n",
    "\n",
    "Metoden `.groupby()` grupperer datasæt efter de givne variable:"
   ]
  },
  {
   "cell_type": "code",
   "execution_count": null,
   "id": "controlling-pharmacy",
   "metadata": {},
   "outputs": [],
   "source": [
    "grouped_df = df.groupby(['gndr'])"
   ]
  },
  {
   "cell_type": "markdown",
   "id": "white-saint",
   "metadata": {},
   "source": [
    "Selve objektet, som bliver dannet, indeholder ikke information, der bare kan kaldes frem direkte:"
   ]
  },
  {
   "cell_type": "code",
   "execution_count": null,
   "id": "improved-linux",
   "metadata": {},
   "outputs": [],
   "source": [
    "grouped_df"
   ]
  },
  {
   "cell_type": "markdown",
   "id": "brief-oriental",
   "metadata": {},
   "source": [
    "Dog kan vi danne de samme deskriptive mål, som vi kan for hele datasættet, men hvor de opsummeres på gruppeniveauet:"
   ]
  },
  {
   "cell_type": "code",
   "execution_count": null,
   "id": "standing-buffalo",
   "metadata": {},
   "outputs": [],
   "source": [
    "grouped_df.mean()"
   ]
  },
  {
   "cell_type": "markdown",
   "id": "private-constant",
   "metadata": {},
   "source": [
    "Det samme kan gøres for enkeltvariable:"
   ]
  },
  {
   "cell_type": "code",
   "execution_count": null,
   "id": "thrown-championship",
   "metadata": {},
   "outputs": [],
   "source": [
    "grouped_df['height'].mean()"
   ]
  },
  {
   "cell_type": "markdown",
   "id": "willing-tribune",
   "metadata": {},
   "source": [
    "En lang række metoder kan bruges på grupperede data. Se dem alle her: https://pandas.pydata.org/pandas-docs/stable/user_guide/groupby.html.\n",
    "\n",
    "- `mean()`: Middelværdi for grupperne\n",
    "\n",
    "- `size()`: Størrelse af grupperne\n",
    "\n",
    "- `count()`: Tællinger inden for grupperne\n",
    "\n",
    "- `describe()`: Deskriptive mål inden for grupperne\n",
    "\n",
    "- `min()`: Minimum for grupperne\n",
    "\n",
    "- `max()`: Maximum for grupperne"
   ]
  },
  {
   "cell_type": "markdown",
   "id": "systematic-variety",
   "metadata": {},
   "source": [
    "Metoden `value_counts()` kan bruges til at lave optællinger af kategoriske inden for grupperne.\n",
    "\n",
    "Herunder laves optælling for variablen `health` fordelt på køn:"
   ]
  },
  {
   "cell_type": "code",
   "execution_count": null,
   "id": "bizarre-damage",
   "metadata": {},
   "outputs": [],
   "source": [
    "grouped_df['health'].value_counts()"
   ]
  },
  {
   "cell_type": "markdown",
   "id": "remarkable-species",
   "metadata": {},
   "source": [
    "# ØVELSE 3: Deskriptive mål\n",
    "\n",
    "1. Brug `.describe()` eller passende numpy kommandoer til at finde ud af følgende:\n",
    "\n",
    "- Hvor gammel er den yngste person i datasættet?\n",
    "- Hvor gammel er den ældste person i datasættet?\n",
    "- Hvad er gennemsnitsalderen i datasættet?\n",
    "\n",
    "- *Husk at datasættet er fra 2018.*\n",
    "\n",
    "\n",
    "2. Brug `.groupby()` til at finde ud af om...\n"
   ]
  },
  {
   "cell_type": "markdown",
   "id": "visible-branch",
   "metadata": {},
   "source": [
    "## Visualisering af grupperinger\n",
    "\n",
    "Grupperede data og optællinger af grupperede data kan plottes direkte:"
   ]
  },
  {
   "cell_type": "code",
   "execution_count": null,
   "id": "velvet-thong",
   "metadata": {},
   "outputs": [],
   "source": [
    "grouped_df['health'].value_counts().plot.bar()"
   ]
  },
  {
   "cell_type": "markdown",
   "id": "worst-stack",
   "metadata": {},
   "source": [
    "Ovenstående plot er ikke så kønt. Fx kunne det give mening at farvelægge efter værdierne i `health`. Det kan gøres ved at bruge metoden `unstack()` og så danne plottet:"
   ]
  },
  {
   "cell_type": "code",
   "execution_count": null,
   "id": "lasting-investigation",
   "metadata": {},
   "outputs": [],
   "source": [
    "grouped_df['health'].value_counts().unstack('health').plot.bar()"
   ]
  },
  {
   "cell_type": "markdown",
   "id": "latin-attack",
   "metadata": {},
   "source": [
    "### Sidenote: Hvad gør `unstack`?\n",
    "\n",
    "`unstack()` er en metode, der bruges til såkaldt \"wide\"-konvertering.\n",
    "\n",
    "Hvis vi først ser på `value_counts()`, gives tællinger i long format; altså hvor hver række er en optælling, og optællingerne differentieres med en kolonne (`health`)."
   ]
  },
  {
   "cell_type": "code",
   "execution_count": null,
   "id": "cubic-asset",
   "metadata": {},
   "outputs": [],
   "source": [
    "grouped_df['health'].value_counts()"
   ]
  },
  {
   "cell_type": "markdown",
   "id": "fifteen-algebra",
   "metadata": {},
   "source": [
    "`unstack()` tager værdierne fra `health` og laver dem til kolonner. På den måde dannes der kun én række per gruppe, hvor værdier adskilles i kolonnerne (wide-format):"
   ]
  },
  {
   "cell_type": "code",
   "execution_count": null,
   "id": "designed-tongue",
   "metadata": {},
   "outputs": [],
   "source": [
    "grouped_df['health'].value_counts().unstack('health')"
   ]
  },
  {
   "cell_type": "markdown",
   "id": "nuclear-leave",
   "metadata": {},
   "source": [
    "Når sådan en tabel plottes med `.plot.bar()` farvelægges der efter kolonneværdierne automatisk."
   ]
  },
  {
   "cell_type": "code",
   "execution_count": null,
   "id": "unlimited-clearing",
   "metadata": {},
   "outputs": [],
   "source": [
    "grouped_df['health'].value_counts().unstack('health').plot.bar()"
   ]
  },
  {
   "cell_type": "markdown",
   "id": "statutory-banner",
   "metadata": {},
   "source": [
    "# ØVELSE 4: VISUALISER GRUPPERINGER\n",
    "\n",
    "Dan en visualisering, der viser..."
   ]
  },
  {
   "cell_type": "markdown",
   "id": "operating-machinery",
   "metadata": {},
   "source": [
    "# Hvordan er dataframes opbygget?\n",
    "\n",
    "Lad os se nærmere på, hvordan en dataframe er opbygget.\n",
    "\n",
    "Kort sagt består dataframes af rækker (index) og kolonner (series). "
   ]
  },
  {
   "cell_type": "markdown",
   "id": "middle-incident",
   "metadata": {},
   "source": [
    "## Kolonner (`Series`) i en dataframe\n",
    "\n",
    "En pandas `Series` er en en-dimensionel datastruktur; svarende til en kolonne eller en variabel.\n",
    "\n",
    "En enkelt `Series` kan lagres som sit eget objekt. Hermed kan vi se, at typen ændrer sig fra \"dataframe\" til \"series\"."
   ]
  },
  {
   "cell_type": "markdown",
   "id": "banner-picture",
   "metadata": {},
   "source": [
    "### Series og metoder\n",
    "\n",
    "Bemærk, at mange af de metoder, som vi har brugt indtil videre, bliver kaldt på en enkelt variabel (`Series`), og ikke et helt datasæt.\n",
    "\n",
    "Husk at Python metoder er relateret til bestemte objekter. Når man bruger fx metoder, så vær opmærksom på, om I forsøger at gøre det på et helt datasæt eller en enkelt `Series`."
   ]
  },
  {
   "cell_type": "markdown",
   "id": "abandoned-horizontal",
   "metadata": {},
   "source": [
    "### Series og Python lister\n",
    "\n",
    "`Series` er på mange måder kompatible med Python lister. Python lister er en grundlæggende datastruktur, som kan være brugbar i mange sammenhænge.\n",
    "\n",
    "Man kan altid tvinge en `Series` om til at være en liste med funktionen `list()`:"
   ]
  },
  {
   "cell_type": "code",
   "execution_count": null,
   "id": "recognized-jesus",
   "metadata": {},
   "outputs": [],
   "source": [
    "list()"
   ]
  },
  {
   "cell_type": "markdown",
   "id": "danish-thickness",
   "metadata": {},
   "source": [
    "Omvendt kan man også tvinge en liste om til at være en `Series` med `pd.Series`."
   ]
  },
  {
   "cell_type": "code",
   "execution_count": null,
   "id": "moral-celtic",
   "metadata": {},
   "outputs": [],
   "source": [
    "pd.Series()"
   ]
  },
  {
   "cell_type": "markdown",
   "id": "continuing-peripheral",
   "metadata": {},
   "source": [
    "## Index i en dataframe\n",
    "\n",
    "Et \"indeks\" er en generel betegnelse i Python for værdiers ID, så at sige.\n",
    "\n",
    "I en dataframe bruges index til at referere til rækkenavnene. Disse kan ses af `.index`:"
   ]
  },
  {
   "cell_type": "code",
   "execution_count": 9,
   "id": "weighted-chester",
   "metadata": {},
   "outputs": [],
   "source": [
    "#ess2018.index.head()"
   ]
  },
  {
   "cell_type": "markdown",
   "id": "proved-cricket",
   "metadata": {},
   "source": [
    "Index i Python starter ved 0. Den første række i en dataframe har derfor index 0.\n",
    "\n",
    "Et index behøver dog ikke være rækkenumre, da man altid kan ændre index-værdierne."
   ]
  },
  {
   "cell_type": "markdown",
   "id": "senior-taste",
   "metadata": {},
   "source": [
    "### Index i groupby\n",
    "\n",
    "Husk at vi ofte arbejder med mange objekter på en gang i Python. Når vi fx bruger `.groupby()` får vi returneret et groupby objekt, uden at ændre på det oprindelige data.\n",
    "\n",
    "Når så vi bruger en metode som fx `.value_counts` på et groupby objekt, så får vi en ny datastruktur returneret. Denne ligner en dataframe, men faktisk er det blot en enkelt kolonne (`Series`) med et index, der refererer til de forskellige grupperinger."
   ]
  },
  {
   "cell_type": "markdown",
   "id": "subjective-profile",
   "metadata": {},
   "source": [
    "### Index i en `Series`\n",
    "\n",
    "I en enkelt `Series`, kan man refere til et bestemt index med `[]` (ligesom ved en Python liste):"
   ]
  },
  {
   "cell_type": "code",
   "execution_count": 10,
   "id": "uniform-burlington",
   "metadata": {},
   "outputs": [],
   "source": [
    "#[]"
   ]
  },
  {
   "cell_type": "markdown",
   "id": "smart-ghost",
   "metadata": {},
   "source": [
    "# Subsetting\n",
    "\n",
    "\"Subsetting\" vil sige at udvælge specifikke dele af data.\n",
    "\n",
    "Man subsetter pandas med metoderne `.loc()` og `.iloc()`. `.loc()` bruges til at subsette ud fra række- og kolonnenavne, mens `.iloc()` bruges til at subsette ud fra række- og kolnneindeks.\n",
    "\n",
    "Format for subsetting: `data.loc[rækker, kolonner]`\n",
    "\n",
    "Selekter bestemte rækker:"
   ]
  },
  {
   "cell_type": "code",
   "execution_count": 37,
   "id": "attached-relation",
   "metadata": {},
   "outputs": [
    {
     "data": {
      "text/html": [
       "<div>\n",
       "<style scoped>\n",
       "    .dataframe tbody tr th:only-of-type {\n",
       "        vertical-align: middle;\n",
       "    }\n",
       "\n",
       "    .dataframe tbody tr th {\n",
       "        vertical-align: top;\n",
       "    }\n",
       "\n",
       "    .dataframe thead th {\n",
       "        text-align: right;\n",
       "    }\n",
       "</style>\n",
       "<table border=\"1\" class=\"dataframe\">\n",
       "  <thead>\n",
       "    <tr style=\"text-align: right;\">\n",
       "      <th></th>\n",
       "      <th>idno</th>\n",
       "      <th>ppltrst</th>\n",
       "      <th>happy</th>\n",
       "      <th>health</th>\n",
       "      <th>cgtsday</th>\n",
       "      <th>alcfreq</th>\n",
       "      <th>height</th>\n",
       "      <th>weight</th>\n",
       "      <th>gndr</th>\n",
       "      <th>yrbrn</th>\n",
       "    </tr>\n",
       "  </thead>\n",
       "  <tbody>\n",
       "    <tr>\n",
       "      <th>2</th>\n",
       "      <td>939019</td>\n",
       "      <td>5</td>\n",
       "      <td>8</td>\n",
       "      <td>Good</td>\n",
       "      <td>3.0</td>\n",
       "      <td>Once a week</td>\n",
       "      <td>182.0</td>\n",
       "      <td>90.0</td>\n",
       "      <td>Male</td>\n",
       "      <td>1980</td>\n",
       "    </tr>\n",
       "    <tr>\n",
       "      <th>3</th>\n",
       "      <td>924985</td>\n",
       "      <td>8</td>\n",
       "      <td>9</td>\n",
       "      <td>Very good</td>\n",
       "      <td>NaN</td>\n",
       "      <td>Once a week</td>\n",
       "      <td>188.0</td>\n",
       "      <td>85.0</td>\n",
       "      <td>Male</td>\n",
       "      <td>1946</td>\n",
       "    </tr>\n",
       "    <tr>\n",
       "      <th>4</th>\n",
       "      <td>925410</td>\n",
       "      <td>4</td>\n",
       "      <td>8</td>\n",
       "      <td>Bad</td>\n",
       "      <td>NaN</td>\n",
       "      <td>Several times a week</td>\n",
       "      <td>156.0</td>\n",
       "      <td>60.0</td>\n",
       "      <td>Female</td>\n",
       "      <td>1969</td>\n",
       "    </tr>\n",
       "    <tr>\n",
       "      <th>5</th>\n",
       "      <td>928947</td>\n",
       "      <td>5</td>\n",
       "      <td>Extremely happy</td>\n",
       "      <td>Good</td>\n",
       "      <td>20.0</td>\n",
       "      <td>Every day</td>\n",
       "      <td>167.0</td>\n",
       "      <td>75.0</td>\n",
       "      <td>Male</td>\n",
       "      <td>1950</td>\n",
       "    </tr>\n",
       "    <tr>\n",
       "      <th>6</th>\n",
       "      <td>947921</td>\n",
       "      <td>7</td>\n",
       "      <td>8</td>\n",
       "      <td>Good</td>\n",
       "      <td>NaN</td>\n",
       "      <td>Less than once a month</td>\n",
       "      <td>169.0</td>\n",
       "      <td>63.0</td>\n",
       "      <td>Female</td>\n",
       "      <td>1980</td>\n",
       "    </tr>\n",
       "    <tr>\n",
       "      <th>7</th>\n",
       "      <td>926953</td>\n",
       "      <td>Most people can be trusted</td>\n",
       "      <td>8</td>\n",
       "      <td>Good</td>\n",
       "      <td>NaN</td>\n",
       "      <td>Once a month</td>\n",
       "      <td>184.0</td>\n",
       "      <td>73.0</td>\n",
       "      <td>Male</td>\n",
       "      <td>1940</td>\n",
       "    </tr>\n",
       "    <tr>\n",
       "      <th>8</th>\n",
       "      <td>943553</td>\n",
       "      <td>8</td>\n",
       "      <td>8</td>\n",
       "      <td>Good</td>\n",
       "      <td>NaN</td>\n",
       "      <td>Once a week</td>\n",
       "      <td>182.0</td>\n",
       "      <td>86.0</td>\n",
       "      <td>Male</td>\n",
       "      <td>1971</td>\n",
       "    </tr>\n",
       "    <tr>\n",
       "      <th>9</th>\n",
       "      <td>936299</td>\n",
       "      <td>8</td>\n",
       "      <td>9</td>\n",
       "      <td>Very good</td>\n",
       "      <td>8.0</td>\n",
       "      <td>Several times a week</td>\n",
       "      <td>172.0</td>\n",
       "      <td>73.0</td>\n",
       "      <td>Female</td>\n",
       "      <td>1965</td>\n",
       "    </tr>\n",
       "    <tr>\n",
       "      <th>10</th>\n",
       "      <td>943317</td>\n",
       "      <td>9</td>\n",
       "      <td>9</td>\n",
       "      <td>Very good</td>\n",
       "      <td>NaN</td>\n",
       "      <td>Once a month</td>\n",
       "      <td>178.0</td>\n",
       "      <td>72.0</td>\n",
       "      <td>Male</td>\n",
       "      <td>1989</td>\n",
       "    </tr>\n",
       "  </tbody>\n",
       "</table>\n",
       "</div>"
      ],
      "text/plain": [
       "      idno                     ppltrst            happy     health  cgtsday  \\\n",
       "2   939019                           5                8       Good      3.0   \n",
       "3   924985                           8                9  Very good      NaN   \n",
       "4   925410                           4                8        Bad      NaN   \n",
       "5   928947                           5  Extremely happy       Good     20.0   \n",
       "6   947921                           7                8       Good      NaN   \n",
       "7   926953  Most people can be trusted                8       Good      NaN   \n",
       "8   943553                           8                8       Good      NaN   \n",
       "9   936299                           8                9  Very good      8.0   \n",
       "10  943317                           9                9  Very good      NaN   \n",
       "\n",
       "                   alcfreq  height  weight    gndr  yrbrn  \n",
       "2              Once a week   182.0    90.0    Male   1980  \n",
       "3              Once a week   188.0    85.0    Male   1946  \n",
       "4     Several times a week   156.0    60.0  Female   1969  \n",
       "5                Every day   167.0    75.0    Male   1950  \n",
       "6   Less than once a month   169.0    63.0  Female   1980  \n",
       "7             Once a month   184.0    73.0    Male   1940  \n",
       "8              Once a week   182.0    86.0    Male   1971  \n",
       "9     Several times a week   172.0    73.0  Female   1965  \n",
       "10            Once a month   178.0    72.0    Male   1989  "
      ]
     },
     "execution_count": 37,
     "metadata": {},
     "output_type": "execute_result"
    }
   ],
   "source": [
    "ess2014.loc[2:10, :]"
   ]
  },
  {
   "cell_type": "markdown",
   "id": "statutory-malpractice",
   "metadata": {},
   "source": [
    "Selekter bestemte kolonner (specificeres som en liste):"
   ]
  },
  {
   "cell_type": "code",
   "execution_count": 38,
   "id": "premier-barrel",
   "metadata": {},
   "outputs": [
    {
     "data": {
      "text/html": [
       "<div>\n",
       "<style scoped>\n",
       "    .dataframe tbody tr th:only-of-type {\n",
       "        vertical-align: middle;\n",
       "    }\n",
       "\n",
       "    .dataframe tbody tr th {\n",
       "        vertical-align: top;\n",
       "    }\n",
       "\n",
       "    .dataframe thead th {\n",
       "        text-align: right;\n",
       "    }\n",
       "</style>\n",
       "<table border=\"1\" class=\"dataframe\">\n",
       "  <thead>\n",
       "    <tr style=\"text-align: right;\">\n",
       "      <th></th>\n",
       "      <th>gndr</th>\n",
       "      <th>alcfreq</th>\n",
       "    </tr>\n",
       "  </thead>\n",
       "  <tbody>\n",
       "    <tr>\n",
       "      <th>0</th>\n",
       "      <td>Female</td>\n",
       "      <td>Never</td>\n",
       "    </tr>\n",
       "    <tr>\n",
       "      <th>1</th>\n",
       "      <td>Female</td>\n",
       "      <td>Several times a week</td>\n",
       "    </tr>\n",
       "    <tr>\n",
       "      <th>2</th>\n",
       "      <td>Male</td>\n",
       "      <td>Once a week</td>\n",
       "    </tr>\n",
       "    <tr>\n",
       "      <th>3</th>\n",
       "      <td>Male</td>\n",
       "      <td>Once a week</td>\n",
       "    </tr>\n",
       "    <tr>\n",
       "      <th>4</th>\n",
       "      <td>Female</td>\n",
       "      <td>Several times a week</td>\n",
       "    </tr>\n",
       "  </tbody>\n",
       "</table>\n",
       "</div>"
      ],
      "text/plain": [
       "     gndr               alcfreq\n",
       "0  Female                 Never\n",
       "1  Female  Several times a week\n",
       "2    Male           Once a week\n",
       "3    Male           Once a week\n",
       "4  Female  Several times a week"
      ]
     },
     "execution_count": 38,
     "metadata": {},
     "output_type": "execute_result"
    }
   ],
   "source": [
    "ess2014.loc[:, ['gndr', 'alcfreq']].head()"
   ]
  },
  {
   "cell_type": "markdown",
   "id": "domestic-rubber",
   "metadata": {},
   "source": [
    "Selekter bestemte rækker og kolonner:"
   ]
  },
  {
   "cell_type": "code",
   "execution_count": 39,
   "id": "selective-catholic",
   "metadata": {},
   "outputs": [
    {
     "data": {
      "text/html": [
       "<div>\n",
       "<style scoped>\n",
       "    .dataframe tbody tr th:only-of-type {\n",
       "        vertical-align: middle;\n",
       "    }\n",
       "\n",
       "    .dataframe tbody tr th {\n",
       "        vertical-align: top;\n",
       "    }\n",
       "\n",
       "    .dataframe thead th {\n",
       "        text-align: right;\n",
       "    }\n",
       "</style>\n",
       "<table border=\"1\" class=\"dataframe\">\n",
       "  <thead>\n",
       "    <tr style=\"text-align: right;\">\n",
       "      <th></th>\n",
       "      <th>gndr</th>\n",
       "      <th>alcfreq</th>\n",
       "    </tr>\n",
       "  </thead>\n",
       "  <tbody>\n",
       "    <tr>\n",
       "      <th>2</th>\n",
       "      <td>Male</td>\n",
       "      <td>Once a week</td>\n",
       "    </tr>\n",
       "    <tr>\n",
       "      <th>3</th>\n",
       "      <td>Male</td>\n",
       "      <td>Once a week</td>\n",
       "    </tr>\n",
       "    <tr>\n",
       "      <th>4</th>\n",
       "      <td>Female</td>\n",
       "      <td>Several times a week</td>\n",
       "    </tr>\n",
       "    <tr>\n",
       "      <th>5</th>\n",
       "      <td>Male</td>\n",
       "      <td>Every day</td>\n",
       "    </tr>\n",
       "    <tr>\n",
       "      <th>6</th>\n",
       "      <td>Female</td>\n",
       "      <td>Less than once a month</td>\n",
       "    </tr>\n",
       "    <tr>\n",
       "      <th>7</th>\n",
       "      <td>Male</td>\n",
       "      <td>Once a month</td>\n",
       "    </tr>\n",
       "    <tr>\n",
       "      <th>8</th>\n",
       "      <td>Male</td>\n",
       "      <td>Once a week</td>\n",
       "    </tr>\n",
       "    <tr>\n",
       "      <th>9</th>\n",
       "      <td>Female</td>\n",
       "      <td>Several times a week</td>\n",
       "    </tr>\n",
       "    <tr>\n",
       "      <th>10</th>\n",
       "      <td>Male</td>\n",
       "      <td>Once a month</td>\n",
       "    </tr>\n",
       "  </tbody>\n",
       "</table>\n",
       "</div>"
      ],
      "text/plain": [
       "      gndr                 alcfreq\n",
       "2     Male             Once a week\n",
       "3     Male             Once a week\n",
       "4   Female    Several times a week\n",
       "5     Male               Every day\n",
       "6   Female  Less than once a month\n",
       "7     Male            Once a month\n",
       "8     Male             Once a week\n",
       "9   Female    Several times a week\n",
       "10    Male            Once a month"
      ]
     },
     "execution_count": 39,
     "metadata": {},
     "output_type": "execute_result"
    }
   ],
   "source": [
    "ess2014.loc[2:10, ['gndr', 'alcfreq']]"
   ]
  },
  {
   "cell_type": "markdown",
   "id": "norwegian-apache",
   "metadata": {},
   "source": [
    "Selekter ud fra kolonneindeks:"
   ]
  },
  {
   "cell_type": "code",
   "execution_count": 43,
   "id": "formal-mauritius",
   "metadata": {},
   "outputs": [
    {
     "data": {
      "text/html": [
       "<div>\n",
       "<style scoped>\n",
       "    .dataframe tbody tr th:only-of-type {\n",
       "        vertical-align: middle;\n",
       "    }\n",
       "\n",
       "    .dataframe tbody tr th {\n",
       "        vertical-align: top;\n",
       "    }\n",
       "\n",
       "    .dataframe thead th {\n",
       "        text-align: right;\n",
       "    }\n",
       "</style>\n",
       "<table border=\"1\" class=\"dataframe\">\n",
       "  <thead>\n",
       "    <tr style=\"text-align: right;\">\n",
       "      <th></th>\n",
       "      <th>gndr</th>\n",
       "      <th>alcfreq</th>\n",
       "    </tr>\n",
       "  </thead>\n",
       "  <tbody>\n",
       "    <tr>\n",
       "      <th>2</th>\n",
       "      <td>Male</td>\n",
       "      <td>Once a week</td>\n",
       "    </tr>\n",
       "    <tr>\n",
       "      <th>3</th>\n",
       "      <td>Male</td>\n",
       "      <td>Once a week</td>\n",
       "    </tr>\n",
       "    <tr>\n",
       "      <th>4</th>\n",
       "      <td>Female</td>\n",
       "      <td>Several times a week</td>\n",
       "    </tr>\n",
       "    <tr>\n",
       "      <th>5</th>\n",
       "      <td>Male</td>\n",
       "      <td>Every day</td>\n",
       "    </tr>\n",
       "    <tr>\n",
       "      <th>6</th>\n",
       "      <td>Female</td>\n",
       "      <td>Less than once a month</td>\n",
       "    </tr>\n",
       "    <tr>\n",
       "      <th>7</th>\n",
       "      <td>Male</td>\n",
       "      <td>Once a month</td>\n",
       "    </tr>\n",
       "    <tr>\n",
       "      <th>8</th>\n",
       "      <td>Male</td>\n",
       "      <td>Once a week</td>\n",
       "    </tr>\n",
       "    <tr>\n",
       "      <th>9</th>\n",
       "      <td>Female</td>\n",
       "      <td>Several times a week</td>\n",
       "    </tr>\n",
       "  </tbody>\n",
       "</table>\n",
       "</div>"
      ],
      "text/plain": [
       "     gndr                 alcfreq\n",
       "2    Male             Once a week\n",
       "3    Male             Once a week\n",
       "4  Female    Several times a week\n",
       "5    Male               Every day\n",
       "6  Female  Less than once a month\n",
       "7    Male            Once a month\n",
       "8    Male             Once a week\n",
       "9  Female    Several times a week"
      ]
     },
     "execution_count": 43,
     "metadata": {},
     "output_type": "execute_result"
    }
   ],
   "source": [
    "ess2014.iloc[2:10, [8, 5]]"
   ]
  },
  {
   "cell_type": "markdown",
   "id": "bottom-massachusetts",
   "metadata": {},
   "source": [
    "Bemærk at datasæt ikke ændres. Hvis subset skal gemmes, skal det gemmes i et nyt objekt (ny dataframe):"
   ]
  },
  {
   "cell_type": "code",
   "execution_count": 44,
   "id": "genetic-integrity",
   "metadata": {},
   "outputs": [
    {
     "data": {
      "text/html": [
       "<div>\n",
       "<style scoped>\n",
       "    .dataframe tbody tr th:only-of-type {\n",
       "        vertical-align: middle;\n",
       "    }\n",
       "\n",
       "    .dataframe tbody tr th {\n",
       "        vertical-align: top;\n",
       "    }\n",
       "\n",
       "    .dataframe thead th {\n",
       "        text-align: right;\n",
       "    }\n",
       "</style>\n",
       "<table border=\"1\" class=\"dataframe\">\n",
       "  <thead>\n",
       "    <tr style=\"text-align: right;\">\n",
       "      <th></th>\n",
       "      <th>gndr</th>\n",
       "      <th>alcfreq</th>\n",
       "    </tr>\n",
       "  </thead>\n",
       "  <tbody>\n",
       "    <tr>\n",
       "      <th>2</th>\n",
       "      <td>Male</td>\n",
       "      <td>Once a week</td>\n",
       "    </tr>\n",
       "    <tr>\n",
       "      <th>3</th>\n",
       "      <td>Male</td>\n",
       "      <td>Once a week</td>\n",
       "    </tr>\n",
       "    <tr>\n",
       "      <th>4</th>\n",
       "      <td>Female</td>\n",
       "      <td>Several times a week</td>\n",
       "    </tr>\n",
       "    <tr>\n",
       "      <th>5</th>\n",
       "      <td>Male</td>\n",
       "      <td>Every day</td>\n",
       "    </tr>\n",
       "    <tr>\n",
       "      <th>6</th>\n",
       "      <td>Female</td>\n",
       "      <td>Less than once a month</td>\n",
       "    </tr>\n",
       "  </tbody>\n",
       "</table>\n",
       "</div>"
      ],
      "text/plain": [
       "     gndr                 alcfreq\n",
       "2    Male             Once a week\n",
       "3    Male             Once a week\n",
       "4  Female    Several times a week\n",
       "5    Male               Every day\n",
       "6  Female  Less than once a month"
      ]
     },
     "execution_count": 44,
     "metadata": {},
     "output_type": "execute_result"
    }
   ],
   "source": [
    "ess2014_subset = ess2014.loc[2:10, ['gndr', 'alcfreq']]\n",
    "\n",
    "ess2014_subset.head()"
   ]
  },
  {
   "cell_type": "markdown",
   "id": "deluxe-soviet",
   "metadata": {},
   "source": [
    "## Subsetting med booleans (logiske værdier)\n",
    "\n",
    "I stedet for at specificere indeksnumrene, kan man i stedet specificere betingelser:"
   ]
  },
  {
   "cell_type": "code",
   "execution_count": 45,
   "id": "patent-photography",
   "metadata": {},
   "outputs": [
    {
     "data": {
      "text/html": [
       "<div>\n",
       "<style scoped>\n",
       "    .dataframe tbody tr th:only-of-type {\n",
       "        vertical-align: middle;\n",
       "    }\n",
       "\n",
       "    .dataframe tbody tr th {\n",
       "        vertical-align: top;\n",
       "    }\n",
       "\n",
       "    .dataframe thead th {\n",
       "        text-align: right;\n",
       "    }\n",
       "</style>\n",
       "<table border=\"1\" class=\"dataframe\">\n",
       "  <thead>\n",
       "    <tr style=\"text-align: right;\">\n",
       "      <th></th>\n",
       "      <th>idno</th>\n",
       "      <th>ppltrst</th>\n",
       "      <th>happy</th>\n",
       "      <th>health</th>\n",
       "      <th>cgtsday</th>\n",
       "      <th>alcfreq</th>\n",
       "      <th>height</th>\n",
       "      <th>weight</th>\n",
       "      <th>gndr</th>\n",
       "      <th>yrbrn</th>\n",
       "    </tr>\n",
       "  </thead>\n",
       "  <tbody>\n",
       "    <tr>\n",
       "      <th>2</th>\n",
       "      <td>939019</td>\n",
       "      <td>5</td>\n",
       "      <td>8</td>\n",
       "      <td>Good</td>\n",
       "      <td>3.0</td>\n",
       "      <td>Once a week</td>\n",
       "      <td>182.0</td>\n",
       "      <td>90.0</td>\n",
       "      <td>Male</td>\n",
       "      <td>1980</td>\n",
       "    </tr>\n",
       "    <tr>\n",
       "      <th>3</th>\n",
       "      <td>924985</td>\n",
       "      <td>8</td>\n",
       "      <td>9</td>\n",
       "      <td>Very good</td>\n",
       "      <td>NaN</td>\n",
       "      <td>Once a week</td>\n",
       "      <td>188.0</td>\n",
       "      <td>85.0</td>\n",
       "      <td>Male</td>\n",
       "      <td>1946</td>\n",
       "    </tr>\n",
       "    <tr>\n",
       "      <th>7</th>\n",
       "      <td>926953</td>\n",
       "      <td>Most people can be trusted</td>\n",
       "      <td>8</td>\n",
       "      <td>Good</td>\n",
       "      <td>NaN</td>\n",
       "      <td>Once a month</td>\n",
       "      <td>184.0</td>\n",
       "      <td>73.0</td>\n",
       "      <td>Male</td>\n",
       "      <td>1940</td>\n",
       "    </tr>\n",
       "    <tr>\n",
       "      <th>8</th>\n",
       "      <td>943553</td>\n",
       "      <td>8</td>\n",
       "      <td>8</td>\n",
       "      <td>Good</td>\n",
       "      <td>NaN</td>\n",
       "      <td>Once a week</td>\n",
       "      <td>182.0</td>\n",
       "      <td>86.0</td>\n",
       "      <td>Male</td>\n",
       "      <td>1971</td>\n",
       "    </tr>\n",
       "    <tr>\n",
       "      <th>14</th>\n",
       "      <td>947086</td>\n",
       "      <td>8</td>\n",
       "      <td>7</td>\n",
       "      <td>Very good</td>\n",
       "      <td>NaN</td>\n",
       "      <td>Once a week</td>\n",
       "      <td>186.0</td>\n",
       "      <td>84.0</td>\n",
       "      <td>Male</td>\n",
       "      <td>1964</td>\n",
       "    </tr>\n",
       "  </tbody>\n",
       "</table>\n",
       "</div>"
      ],
      "text/plain": [
       "      idno                     ppltrst happy     health  cgtsday  \\\n",
       "2   939019                           5     8       Good      3.0   \n",
       "3   924985                           8     9  Very good      NaN   \n",
       "7   926953  Most people can be trusted     8       Good      NaN   \n",
       "8   943553                           8     8       Good      NaN   \n",
       "14  947086                           8     7  Very good      NaN   \n",
       "\n",
       "         alcfreq  height  weight  gndr  yrbrn  \n",
       "2    Once a week   182.0    90.0  Male   1980  \n",
       "3    Once a week   188.0    85.0  Male   1946  \n",
       "7   Once a month   184.0    73.0  Male   1940  \n",
       "8    Once a week   182.0    86.0  Male   1971  \n",
       "14   Once a week   186.0    84.0  Male   1964  "
      ]
     },
     "execution_count": 45,
     "metadata": {},
     "output_type": "execute_result"
    }
   ],
   "source": [
    "ess2014.loc[ess2014['height'] > 180, :].head()"
   ]
  },
  {
   "cell_type": "code",
   "execution_count": 46,
   "id": "curious-messenger",
   "metadata": {},
   "outputs": [
    {
     "data": {
      "text/html": [
       "<div>\n",
       "<style scoped>\n",
       "    .dataframe tbody tr th:only-of-type {\n",
       "        vertical-align: middle;\n",
       "    }\n",
       "\n",
       "    .dataframe tbody tr th {\n",
       "        vertical-align: top;\n",
       "    }\n",
       "\n",
       "    .dataframe thead th {\n",
       "        text-align: right;\n",
       "    }\n",
       "</style>\n",
       "<table border=\"1\" class=\"dataframe\">\n",
       "  <thead>\n",
       "    <tr style=\"text-align: right;\">\n",
       "      <th></th>\n",
       "      <th>idno</th>\n",
       "      <th>ppltrst</th>\n",
       "      <th>happy</th>\n",
       "      <th>health</th>\n",
       "      <th>cgtsday</th>\n",
       "      <th>alcfreq</th>\n",
       "      <th>height</th>\n",
       "      <th>weight</th>\n",
       "      <th>gndr</th>\n",
       "      <th>yrbrn</th>\n",
       "    </tr>\n",
       "  </thead>\n",
       "  <tbody>\n",
       "    <tr>\n",
       "      <th>219</th>\n",
       "      <td>931833</td>\n",
       "      <td>8</td>\n",
       "      <td>9</td>\n",
       "      <td>Very good</td>\n",
       "      <td>NaN</td>\n",
       "      <td>Once a week</td>\n",
       "      <td>184.0</td>\n",
       "      <td>70.0</td>\n",
       "      <td>Female</td>\n",
       "      <td>1993</td>\n",
       "    </tr>\n",
       "    <tr>\n",
       "      <th>263</th>\n",
       "      <td>948529</td>\n",
       "      <td>8</td>\n",
       "      <td>9</td>\n",
       "      <td>Very good</td>\n",
       "      <td>NaN</td>\n",
       "      <td>2-3 times a month</td>\n",
       "      <td>181.0</td>\n",
       "      <td>78.0</td>\n",
       "      <td>Female</td>\n",
       "      <td>1972</td>\n",
       "    </tr>\n",
       "    <tr>\n",
       "      <th>581</th>\n",
       "      <td>941739</td>\n",
       "      <td>9</td>\n",
       "      <td>9</td>\n",
       "      <td>Good</td>\n",
       "      <td>NaN</td>\n",
       "      <td>Several times a week</td>\n",
       "      <td>184.0</td>\n",
       "      <td>62.0</td>\n",
       "      <td>Female</td>\n",
       "      <td>1984</td>\n",
       "    </tr>\n",
       "    <tr>\n",
       "      <th>616</th>\n",
       "      <td>927771</td>\n",
       "      <td>8</td>\n",
       "      <td>Extremely happy</td>\n",
       "      <td>Good</td>\n",
       "      <td>NaN</td>\n",
       "      <td>Once a month</td>\n",
       "      <td>181.0</td>\n",
       "      <td>63.0</td>\n",
       "      <td>Female</td>\n",
       "      <td>1984</td>\n",
       "    </tr>\n",
       "    <tr>\n",
       "      <th>651</th>\n",
       "      <td>948294</td>\n",
       "      <td>Most people can be trusted</td>\n",
       "      <td>Extremely happy</td>\n",
       "      <td>Very good</td>\n",
       "      <td>NaN</td>\n",
       "      <td>Less than once a month</td>\n",
       "      <td>182.0</td>\n",
       "      <td>117.0</td>\n",
       "      <td>Female</td>\n",
       "      <td>1968</td>\n",
       "    </tr>\n",
       "  </tbody>\n",
       "</table>\n",
       "</div>"
      ],
      "text/plain": [
       "       idno                     ppltrst            happy     health  cgtsday  \\\n",
       "219  931833                           8                9  Very good      NaN   \n",
       "263  948529                           8                9  Very good      NaN   \n",
       "581  941739                           9                9       Good      NaN   \n",
       "616  927771                           8  Extremely happy       Good      NaN   \n",
       "651  948294  Most people can be trusted  Extremely happy  Very good      NaN   \n",
       "\n",
       "                    alcfreq  height  weight    gndr  yrbrn  \n",
       "219             Once a week   184.0    70.0  Female   1993  \n",
       "263       2-3 times a month   181.0    78.0  Female   1972  \n",
       "581    Several times a week   184.0    62.0  Female   1984  \n",
       "616            Once a month   181.0    63.0  Female   1984  \n",
       "651  Less than once a month   182.0   117.0  Female   1968  "
      ]
     },
     "execution_count": 46,
     "metadata": {},
     "output_type": "execute_result"
    }
   ],
   "source": [
    "ess2014.loc[(ess2014['height'] > 180) & (ess2014['gndr'] == 'Female'), :].head()"
   ]
  },
  {
   "cell_type": "markdown",
   "id": "artistic-fancy",
   "metadata": {},
   "source": [
    "# ØVELSE 5: SUBSETTING\n",
    "\n",
    "*Dan et subet bestående af ...*"
   ]
  },
  {
   "cell_type": "markdown",
   "id": "monthly-particular",
   "metadata": {},
   "source": [
    "# Nye variable\n",
    "\n",
    "Ofte har man brug for at tilføje oplysninger til et datasæt i form af nye variable.\n",
    "\n",
    "Man danner en ny variabel blot ved at referere til et kolonnenavn, som endnu ikke er brugt.\n",
    "\n",
    "I nedenstående dannes ...:"
   ]
  },
  {
   "cell_type": "code",
   "execution_count": 48,
   "id": "fresh-event",
   "metadata": {},
   "outputs": [
    {
     "data": {
      "text/html": [
       "<div>\n",
       "<style scoped>\n",
       "    .dataframe tbody tr th:only-of-type {\n",
       "        vertical-align: middle;\n",
       "    }\n",
       "\n",
       "    .dataframe tbody tr th {\n",
       "        vertical-align: top;\n",
       "    }\n",
       "\n",
       "    .dataframe thead th {\n",
       "        text-align: right;\n",
       "    }\n",
       "</style>\n",
       "<table border=\"1\" class=\"dataframe\">\n",
       "  <thead>\n",
       "    <tr style=\"text-align: right;\">\n",
       "      <th></th>\n",
       "      <th>idno</th>\n",
       "      <th>ppltrst</th>\n",
       "      <th>happy</th>\n",
       "      <th>health</th>\n",
       "      <th>cgtsday</th>\n",
       "      <th>alcfreq</th>\n",
       "      <th>height</th>\n",
       "      <th>weight</th>\n",
       "      <th>gndr</th>\n",
       "      <th>yrbrn</th>\n",
       "      <th>height_m</th>\n",
       "    </tr>\n",
       "  </thead>\n",
       "  <tbody>\n",
       "    <tr>\n",
       "      <th>0</th>\n",
       "      <td>921490</td>\n",
       "      <td>4</td>\n",
       "      <td>Extremely happy</td>\n",
       "      <td>Very good</td>\n",
       "      <td>NaN</td>\n",
       "      <td>Never</td>\n",
       "      <td>167.0</td>\n",
       "      <td>62.0</td>\n",
       "      <td>Female</td>\n",
       "      <td>1965</td>\n",
       "      <td>1.67</td>\n",
       "    </tr>\n",
       "    <tr>\n",
       "      <th>1</th>\n",
       "      <td>938348</td>\n",
       "      <td>Most people can be trusted</td>\n",
       "      <td>7</td>\n",
       "      <td>Good</td>\n",
       "      <td>NaN</td>\n",
       "      <td>Several times a week</td>\n",
       "      <td>168.0</td>\n",
       "      <td>70.0</td>\n",
       "      <td>Female</td>\n",
       "      <td>1973</td>\n",
       "      <td>1.68</td>\n",
       "    </tr>\n",
       "    <tr>\n",
       "      <th>2</th>\n",
       "      <td>939019</td>\n",
       "      <td>5</td>\n",
       "      <td>8</td>\n",
       "      <td>Good</td>\n",
       "      <td>3.0</td>\n",
       "      <td>Once a week</td>\n",
       "      <td>182.0</td>\n",
       "      <td>90.0</td>\n",
       "      <td>Male</td>\n",
       "      <td>1980</td>\n",
       "      <td>1.82</td>\n",
       "    </tr>\n",
       "    <tr>\n",
       "      <th>3</th>\n",
       "      <td>924985</td>\n",
       "      <td>8</td>\n",
       "      <td>9</td>\n",
       "      <td>Very good</td>\n",
       "      <td>NaN</td>\n",
       "      <td>Once a week</td>\n",
       "      <td>188.0</td>\n",
       "      <td>85.0</td>\n",
       "      <td>Male</td>\n",
       "      <td>1946</td>\n",
       "      <td>1.88</td>\n",
       "    </tr>\n",
       "    <tr>\n",
       "      <th>4</th>\n",
       "      <td>925410</td>\n",
       "      <td>4</td>\n",
       "      <td>8</td>\n",
       "      <td>Bad</td>\n",
       "      <td>NaN</td>\n",
       "      <td>Several times a week</td>\n",
       "      <td>156.0</td>\n",
       "      <td>60.0</td>\n",
       "      <td>Female</td>\n",
       "      <td>1969</td>\n",
       "      <td>1.56</td>\n",
       "    </tr>\n",
       "  </tbody>\n",
       "</table>\n",
       "</div>"
      ],
      "text/plain": [
       "     idno                     ppltrst            happy     health  cgtsday  \\\n",
       "0  921490                           4  Extremely happy  Very good      NaN   \n",
       "1  938348  Most people can be trusted                7       Good      NaN   \n",
       "2  939019                           5                8       Good      3.0   \n",
       "3  924985                           8                9  Very good      NaN   \n",
       "4  925410                           4                8        Bad      NaN   \n",
       "\n",
       "                alcfreq  height  weight    gndr  yrbrn  height_m  \n",
       "0                 Never   167.0    62.0  Female   1965      1.67  \n",
       "1  Several times a week   168.0    70.0  Female   1973      1.68  \n",
       "2           Once a week   182.0    90.0    Male   1980      1.82  \n",
       "3           Once a week   188.0    85.0    Male   1946      1.88  \n",
       "4  Several times a week   156.0    60.0  Female   1969      1.56  "
      ]
     },
     "execution_count": 48,
     "metadata": {},
     "output_type": "execute_result"
    }
   ],
   "source": [
    "ess2014['height_m'] = ess2014['height'] / 100\n",
    "\n",
    "ess2014.head()"
   ]
  },
  {
   "cell_type": "markdown",
   "id": "pointed-awareness",
   "metadata": {},
   "source": [
    "## Rekodning\n",
    "\n",
    "Ofte har man brug for at rekode variable.\n",
    "\n",
    "Variable rekodes ved at overskrive værdier i en eksisterende variabel.\n",
    "\n",
    "Det er god praksis ikke at rekode de oprindelige variable i datasættet, så man vil i stedet lave en kopi af variablen og så rekode den i stedet.\n",
    "\n",
    "Hvis man fx vil rekode en kontinuerlig variabel til kategorisk, kan man gøre brug af booleans. \n",
    "\n",
    "I nedenstående inddeles personer i datasættet i tre højde kategorier baseret på, om de har en højde under 1. kvartil (\"short\"), over 3. kvartil (\"tall\") eller midt imellem (\"medium\")."
   ]
  },
  {
   "cell_type": "code",
   "execution_count": 50,
   "id": "wrapped-thickness",
   "metadata": {},
   "outputs": [
    {
     "data": {
      "text/html": [
       "<div>\n",
       "<style scoped>\n",
       "    .dataframe tbody tr th:only-of-type {\n",
       "        vertical-align: middle;\n",
       "    }\n",
       "\n",
       "    .dataframe tbody tr th {\n",
       "        vertical-align: top;\n",
       "    }\n",
       "\n",
       "    .dataframe thead th {\n",
       "        text-align: right;\n",
       "    }\n",
       "</style>\n",
       "<table border=\"1\" class=\"dataframe\">\n",
       "  <thead>\n",
       "    <tr style=\"text-align: right;\">\n",
       "      <th></th>\n",
       "      <th>idno</th>\n",
       "      <th>ppltrst</th>\n",
       "      <th>happy</th>\n",
       "      <th>health</th>\n",
       "      <th>cgtsday</th>\n",
       "      <th>alcfreq</th>\n",
       "      <th>height</th>\n",
       "      <th>weight</th>\n",
       "      <th>gndr</th>\n",
       "      <th>yrbrn</th>\n",
       "      <th>height_m</th>\n",
       "      <th>age</th>\n",
       "      <th>height_cat</th>\n",
       "    </tr>\n",
       "  </thead>\n",
       "  <tbody>\n",
       "    <tr>\n",
       "      <th>0</th>\n",
       "      <td>921490</td>\n",
       "      <td>4</td>\n",
       "      <td>Extremely happy</td>\n",
       "      <td>Very good</td>\n",
       "      <td>NaN</td>\n",
       "      <td>Never</td>\n",
       "      <td>167.0</td>\n",
       "      <td>62.0</td>\n",
       "      <td>Female</td>\n",
       "      <td>1965</td>\n",
       "      <td>1.67</td>\n",
       "      <td>49</td>\n",
       "      <td>short</td>\n",
       "    </tr>\n",
       "    <tr>\n",
       "      <th>1</th>\n",
       "      <td>938348</td>\n",
       "      <td>Most people can be trusted</td>\n",
       "      <td>7</td>\n",
       "      <td>Good</td>\n",
       "      <td>NaN</td>\n",
       "      <td>Several times a week</td>\n",
       "      <td>168.0</td>\n",
       "      <td>70.0</td>\n",
       "      <td>Female</td>\n",
       "      <td>1973</td>\n",
       "      <td>1.68</td>\n",
       "      <td>41</td>\n",
       "      <td>medium</td>\n",
       "    </tr>\n",
       "    <tr>\n",
       "      <th>2</th>\n",
       "      <td>939019</td>\n",
       "      <td>5</td>\n",
       "      <td>8</td>\n",
       "      <td>Good</td>\n",
       "      <td>3.0</td>\n",
       "      <td>Once a week</td>\n",
       "      <td>182.0</td>\n",
       "      <td>90.0</td>\n",
       "      <td>Male</td>\n",
       "      <td>1980</td>\n",
       "      <td>1.82</td>\n",
       "      <td>34</td>\n",
       "      <td>tall</td>\n",
       "    </tr>\n",
       "    <tr>\n",
       "      <th>3</th>\n",
       "      <td>924985</td>\n",
       "      <td>8</td>\n",
       "      <td>9</td>\n",
       "      <td>Very good</td>\n",
       "      <td>NaN</td>\n",
       "      <td>Once a week</td>\n",
       "      <td>188.0</td>\n",
       "      <td>85.0</td>\n",
       "      <td>Male</td>\n",
       "      <td>1946</td>\n",
       "      <td>1.88</td>\n",
       "      <td>68</td>\n",
       "      <td>tall</td>\n",
       "    </tr>\n",
       "    <tr>\n",
       "      <th>4</th>\n",
       "      <td>925410</td>\n",
       "      <td>4</td>\n",
       "      <td>8</td>\n",
       "      <td>Bad</td>\n",
       "      <td>NaN</td>\n",
       "      <td>Several times a week</td>\n",
       "      <td>156.0</td>\n",
       "      <td>60.0</td>\n",
       "      <td>Female</td>\n",
       "      <td>1969</td>\n",
       "      <td>1.56</td>\n",
       "      <td>45</td>\n",
       "      <td>short</td>\n",
       "    </tr>\n",
       "    <tr>\n",
       "      <th>5</th>\n",
       "      <td>928947</td>\n",
       "      <td>5</td>\n",
       "      <td>Extremely happy</td>\n",
       "      <td>Good</td>\n",
       "      <td>20.0</td>\n",
       "      <td>Every day</td>\n",
       "      <td>167.0</td>\n",
       "      <td>75.0</td>\n",
       "      <td>Male</td>\n",
       "      <td>1950</td>\n",
       "      <td>1.67</td>\n",
       "      <td>64</td>\n",
       "      <td>short</td>\n",
       "    </tr>\n",
       "    <tr>\n",
       "      <th>6</th>\n",
       "      <td>947921</td>\n",
       "      <td>7</td>\n",
       "      <td>8</td>\n",
       "      <td>Good</td>\n",
       "      <td>NaN</td>\n",
       "      <td>Less than once a month</td>\n",
       "      <td>169.0</td>\n",
       "      <td>63.0</td>\n",
       "      <td>Female</td>\n",
       "      <td>1980</td>\n",
       "      <td>1.69</td>\n",
       "      <td>34</td>\n",
       "      <td>medium</td>\n",
       "    </tr>\n",
       "    <tr>\n",
       "      <th>7</th>\n",
       "      <td>926953</td>\n",
       "      <td>Most people can be trusted</td>\n",
       "      <td>8</td>\n",
       "      <td>Good</td>\n",
       "      <td>NaN</td>\n",
       "      <td>Once a month</td>\n",
       "      <td>184.0</td>\n",
       "      <td>73.0</td>\n",
       "      <td>Male</td>\n",
       "      <td>1940</td>\n",
       "      <td>1.84</td>\n",
       "      <td>74</td>\n",
       "      <td>tall</td>\n",
       "    </tr>\n",
       "    <tr>\n",
       "      <th>8</th>\n",
       "      <td>943553</td>\n",
       "      <td>8</td>\n",
       "      <td>8</td>\n",
       "      <td>Good</td>\n",
       "      <td>NaN</td>\n",
       "      <td>Once a week</td>\n",
       "      <td>182.0</td>\n",
       "      <td>86.0</td>\n",
       "      <td>Male</td>\n",
       "      <td>1971</td>\n",
       "      <td>1.82</td>\n",
       "      <td>43</td>\n",
       "      <td>tall</td>\n",
       "    </tr>\n",
       "    <tr>\n",
       "      <th>9</th>\n",
       "      <td>936299</td>\n",
       "      <td>8</td>\n",
       "      <td>9</td>\n",
       "      <td>Very good</td>\n",
       "      <td>8.0</td>\n",
       "      <td>Several times a week</td>\n",
       "      <td>172.0</td>\n",
       "      <td>73.0</td>\n",
       "      <td>Female</td>\n",
       "      <td>1965</td>\n",
       "      <td>1.72</td>\n",
       "      <td>49</td>\n",
       "      <td>medium</td>\n",
       "    </tr>\n",
       "  </tbody>\n",
       "</table>\n",
       "</div>"
      ],
      "text/plain": [
       "     idno                     ppltrst            happy     health  cgtsday  \\\n",
       "0  921490                           4  Extremely happy  Very good      NaN   \n",
       "1  938348  Most people can be trusted                7       Good      NaN   \n",
       "2  939019                           5                8       Good      3.0   \n",
       "3  924985                           8                9  Very good      NaN   \n",
       "4  925410                           4                8        Bad      NaN   \n",
       "5  928947                           5  Extremely happy       Good     20.0   \n",
       "6  947921                           7                8       Good      NaN   \n",
       "7  926953  Most people can be trusted                8       Good      NaN   \n",
       "8  943553                           8                8       Good      NaN   \n",
       "9  936299                           8                9  Very good      8.0   \n",
       "\n",
       "                  alcfreq  height  weight    gndr  yrbrn  height_m  age  \\\n",
       "0                   Never   167.0    62.0  Female   1965      1.67   49   \n",
       "1    Several times a week   168.0    70.0  Female   1973      1.68   41   \n",
       "2             Once a week   182.0    90.0    Male   1980      1.82   34   \n",
       "3             Once a week   188.0    85.0    Male   1946      1.88   68   \n",
       "4    Several times a week   156.0    60.0  Female   1969      1.56   45   \n",
       "5               Every day   167.0    75.0    Male   1950      1.67   64   \n",
       "6  Less than once a month   169.0    63.0  Female   1980      1.69   34   \n",
       "7            Once a month   184.0    73.0    Male   1940      1.84   74   \n",
       "8             Once a week   182.0    86.0    Male   1971      1.82   43   \n",
       "9    Several times a week   172.0    73.0  Female   1965      1.72   49   \n",
       "\n",
       "  height_cat  \n",
       "0      short  \n",
       "1     medium  \n",
       "2       tall  \n",
       "3       tall  \n",
       "4      short  \n",
       "5      short  \n",
       "6     medium  \n",
       "7       tall  \n",
       "8       tall  \n",
       "9     medium  "
      ]
     },
     "execution_count": 50,
     "metadata": {},
     "output_type": "execute_result"
    }
   ],
   "source": [
    "quart1 = ess2014['height'].quantile(0.25)\n",
    "quart3 = ess2014['height'].quantile(0.75)\n",
    "\n",
    "ess2014['height_cat'] = np.nan # Danner en \"tom\" variabel bestående af missing\n",
    "\n",
    "ess2014.loc[ess2014['height'] <= quart1, 'height_cat'] = \"short\"\n",
    "ess2014.loc[(ess2014['height'] > quart1) & (ess2014['height'] < quart3), 'height_cat'] = \"medium\"\n",
    "ess2014.loc[ess2014['height'] >= quart3, 'height_cat'] = \"tall\"\n",
    "\n",
    "ess2014.head(10)"
   ]
  },
  {
   "cell_type": "markdown",
   "id": "based-albany",
   "metadata": {},
   "source": [
    "Alternativt, hvis der bare skal deles i tre lige store grupper:"
   ]
  },
  {
   "cell_type": "code",
   "execution_count": 51,
   "id": "matched-control",
   "metadata": {},
   "outputs": [
    {
     "data": {
      "text/html": [
       "<div>\n",
       "<style scoped>\n",
       "    .dataframe tbody tr th:only-of-type {\n",
       "        vertical-align: middle;\n",
       "    }\n",
       "\n",
       "    .dataframe tbody tr th {\n",
       "        vertical-align: top;\n",
       "    }\n",
       "\n",
       "    .dataframe thead th {\n",
       "        text-align: right;\n",
       "    }\n",
       "</style>\n",
       "<table border=\"1\" class=\"dataframe\">\n",
       "  <thead>\n",
       "    <tr style=\"text-align: right;\">\n",
       "      <th></th>\n",
       "      <th>idno</th>\n",
       "      <th>ppltrst</th>\n",
       "      <th>happy</th>\n",
       "      <th>health</th>\n",
       "      <th>cgtsday</th>\n",
       "      <th>alcfreq</th>\n",
       "      <th>height</th>\n",
       "      <th>weight</th>\n",
       "      <th>gndr</th>\n",
       "      <th>yrbrn</th>\n",
       "      <th>height_m</th>\n",
       "      <th>age</th>\n",
       "      <th>height_cat</th>\n",
       "    </tr>\n",
       "  </thead>\n",
       "  <tbody>\n",
       "    <tr>\n",
       "      <th>0</th>\n",
       "      <td>921490</td>\n",
       "      <td>4</td>\n",
       "      <td>Extremely happy</td>\n",
       "      <td>Very good</td>\n",
       "      <td>NaN</td>\n",
       "      <td>Never</td>\n",
       "      <td>167.0</td>\n",
       "      <td>62.0</td>\n",
       "      <td>Female</td>\n",
       "      <td>1965</td>\n",
       "      <td>1.67</td>\n",
       "      <td>49</td>\n",
       "      <td>medium</td>\n",
       "    </tr>\n",
       "    <tr>\n",
       "      <th>1</th>\n",
       "      <td>938348</td>\n",
       "      <td>Most people can be trusted</td>\n",
       "      <td>7</td>\n",
       "      <td>Good</td>\n",
       "      <td>NaN</td>\n",
       "      <td>Several times a week</td>\n",
       "      <td>168.0</td>\n",
       "      <td>70.0</td>\n",
       "      <td>Female</td>\n",
       "      <td>1973</td>\n",
       "      <td>1.68</td>\n",
       "      <td>41</td>\n",
       "      <td>medium</td>\n",
       "    </tr>\n",
       "    <tr>\n",
       "      <th>2</th>\n",
       "      <td>939019</td>\n",
       "      <td>5</td>\n",
       "      <td>8</td>\n",
       "      <td>Good</td>\n",
       "      <td>3.0</td>\n",
       "      <td>Once a week</td>\n",
       "      <td>182.0</td>\n",
       "      <td>90.0</td>\n",
       "      <td>Male</td>\n",
       "      <td>1980</td>\n",
       "      <td>1.82</td>\n",
       "      <td>34</td>\n",
       "      <td>medium</td>\n",
       "    </tr>\n",
       "    <tr>\n",
       "      <th>3</th>\n",
       "      <td>924985</td>\n",
       "      <td>8</td>\n",
       "      <td>9</td>\n",
       "      <td>Very good</td>\n",
       "      <td>NaN</td>\n",
       "      <td>Once a week</td>\n",
       "      <td>188.0</td>\n",
       "      <td>85.0</td>\n",
       "      <td>Male</td>\n",
       "      <td>1946</td>\n",
       "      <td>1.88</td>\n",
       "      <td>68</td>\n",
       "      <td>tall</td>\n",
       "    </tr>\n",
       "    <tr>\n",
       "      <th>4</th>\n",
       "      <td>925410</td>\n",
       "      <td>4</td>\n",
       "      <td>8</td>\n",
       "      <td>Bad</td>\n",
       "      <td>NaN</td>\n",
       "      <td>Several times a week</td>\n",
       "      <td>156.0</td>\n",
       "      <td>60.0</td>\n",
       "      <td>Female</td>\n",
       "      <td>1969</td>\n",
       "      <td>1.56</td>\n",
       "      <td>45</td>\n",
       "      <td>short</td>\n",
       "    </tr>\n",
       "    <tr>\n",
       "      <th>5</th>\n",
       "      <td>928947</td>\n",
       "      <td>5</td>\n",
       "      <td>Extremely happy</td>\n",
       "      <td>Good</td>\n",
       "      <td>20.0</td>\n",
       "      <td>Every day</td>\n",
       "      <td>167.0</td>\n",
       "      <td>75.0</td>\n",
       "      <td>Male</td>\n",
       "      <td>1950</td>\n",
       "      <td>1.67</td>\n",
       "      <td>64</td>\n",
       "      <td>medium</td>\n",
       "    </tr>\n",
       "    <tr>\n",
       "      <th>6</th>\n",
       "      <td>947921</td>\n",
       "      <td>7</td>\n",
       "      <td>8</td>\n",
       "      <td>Good</td>\n",
       "      <td>NaN</td>\n",
       "      <td>Less than once a month</td>\n",
       "      <td>169.0</td>\n",
       "      <td>63.0</td>\n",
       "      <td>Female</td>\n",
       "      <td>1980</td>\n",
       "      <td>1.69</td>\n",
       "      <td>34</td>\n",
       "      <td>medium</td>\n",
       "    </tr>\n",
       "    <tr>\n",
       "      <th>7</th>\n",
       "      <td>926953</td>\n",
       "      <td>Most people can be trusted</td>\n",
       "      <td>8</td>\n",
       "      <td>Good</td>\n",
       "      <td>NaN</td>\n",
       "      <td>Once a month</td>\n",
       "      <td>184.0</td>\n",
       "      <td>73.0</td>\n",
       "      <td>Male</td>\n",
       "      <td>1940</td>\n",
       "      <td>1.84</td>\n",
       "      <td>74</td>\n",
       "      <td>medium</td>\n",
       "    </tr>\n",
       "    <tr>\n",
       "      <th>8</th>\n",
       "      <td>943553</td>\n",
       "      <td>8</td>\n",
       "      <td>8</td>\n",
       "      <td>Good</td>\n",
       "      <td>NaN</td>\n",
       "      <td>Once a week</td>\n",
       "      <td>182.0</td>\n",
       "      <td>86.0</td>\n",
       "      <td>Male</td>\n",
       "      <td>1971</td>\n",
       "      <td>1.82</td>\n",
       "      <td>43</td>\n",
       "      <td>medium</td>\n",
       "    </tr>\n",
       "    <tr>\n",
       "      <th>9</th>\n",
       "      <td>936299</td>\n",
       "      <td>8</td>\n",
       "      <td>9</td>\n",
       "      <td>Very good</td>\n",
       "      <td>8.0</td>\n",
       "      <td>Several times a week</td>\n",
       "      <td>172.0</td>\n",
       "      <td>73.0</td>\n",
       "      <td>Female</td>\n",
       "      <td>1965</td>\n",
       "      <td>1.72</td>\n",
       "      <td>49</td>\n",
       "      <td>medium</td>\n",
       "    </tr>\n",
       "  </tbody>\n",
       "</table>\n",
       "</div>"
      ],
      "text/plain": [
       "     idno                     ppltrst            happy     health  cgtsday  \\\n",
       "0  921490                           4  Extremely happy  Very good      NaN   \n",
       "1  938348  Most people can be trusted                7       Good      NaN   \n",
       "2  939019                           5                8       Good      3.0   \n",
       "3  924985                           8                9  Very good      NaN   \n",
       "4  925410                           4                8        Bad      NaN   \n",
       "5  928947                           5  Extremely happy       Good     20.0   \n",
       "6  947921                           7                8       Good      NaN   \n",
       "7  926953  Most people can be trusted                8       Good      NaN   \n",
       "8  943553                           8                8       Good      NaN   \n",
       "9  936299                           8                9  Very good      8.0   \n",
       "\n",
       "                  alcfreq  height  weight    gndr  yrbrn  height_m  age  \\\n",
       "0                   Never   167.0    62.0  Female   1965      1.67   49   \n",
       "1    Several times a week   168.0    70.0  Female   1973      1.68   41   \n",
       "2             Once a week   182.0    90.0    Male   1980      1.82   34   \n",
       "3             Once a week   188.0    85.0    Male   1946      1.88   68   \n",
       "4    Several times a week   156.0    60.0  Female   1969      1.56   45   \n",
       "5               Every day   167.0    75.0    Male   1950      1.67   64   \n",
       "6  Less than once a month   169.0    63.0  Female   1980      1.69   34   \n",
       "7            Once a month   184.0    73.0    Male   1940      1.84   74   \n",
       "8             Once a week   182.0    86.0    Male   1971      1.82   43   \n",
       "9    Several times a week   172.0    73.0  Female   1965      1.72   49   \n",
       "\n",
       "  height_cat  \n",
       "0     medium  \n",
       "1     medium  \n",
       "2     medium  \n",
       "3       tall  \n",
       "4      short  \n",
       "5     medium  \n",
       "6     medium  \n",
       "7     medium  \n",
       "8     medium  \n",
       "9     medium  "
      ]
     },
     "execution_count": 51,
     "metadata": {},
     "output_type": "execute_result"
    }
   ],
   "source": [
    "ess2014['height_cat'] = pd.cut(ess2014['height'], 3, labels = [\"short\", \"medium\", \"tall\"])\n",
    "\n",
    "ess2014.head(10)"
   ]
  },
  {
   "cell_type": "markdown",
   "id": "fifth-symbol",
   "metadata": {},
   "source": [
    "## Missingværdier\n",
    "\n",
    "Missing værdier er angivet med `NaN`. Man kan undersøge, om en variabel indeholder missing, ved at bruge metoden `isnull()`:"
   ]
  },
  {
   "cell_type": "code",
   "execution_count": 52,
   "id": "brazilian-hands",
   "metadata": {},
   "outputs": [
    {
     "data": {
      "text/plain": [
       "0     True\n",
       "1     True\n",
       "2    False\n",
       "3     True\n",
       "4     True\n",
       "Name: cgtsday, dtype: bool"
      ]
     },
     "execution_count": 52,
     "metadata": {},
     "output_type": "execute_result"
    }
   ],
   "source": [
    "ess2014['cgtsday'].isnull().head()"
   ]
  },
  {
   "cell_type": "markdown",
   "id": "psychological-knowing",
   "metadata": {},
   "source": [
    "Denne kan også bruges i `.loc[]`:"
   ]
  },
  {
   "cell_type": "code",
   "execution_count": 53,
   "id": "thirty-deputy",
   "metadata": {},
   "outputs": [
    {
     "data": {
      "text/html": [
       "<div>\n",
       "<style scoped>\n",
       "    .dataframe tbody tr th:only-of-type {\n",
       "        vertical-align: middle;\n",
       "    }\n",
       "\n",
       "    .dataframe tbody tr th {\n",
       "        vertical-align: top;\n",
       "    }\n",
       "\n",
       "    .dataframe thead th {\n",
       "        text-align: right;\n",
       "    }\n",
       "</style>\n",
       "<table border=\"1\" class=\"dataframe\">\n",
       "  <thead>\n",
       "    <tr style=\"text-align: right;\">\n",
       "      <th></th>\n",
       "      <th>idno</th>\n",
       "      <th>ppltrst</th>\n",
       "      <th>happy</th>\n",
       "      <th>health</th>\n",
       "      <th>cgtsday</th>\n",
       "      <th>alcfreq</th>\n",
       "      <th>height</th>\n",
       "      <th>weight</th>\n",
       "      <th>gndr</th>\n",
       "      <th>yrbrn</th>\n",
       "      <th>height_m</th>\n",
       "      <th>age</th>\n",
       "      <th>height_cat</th>\n",
       "    </tr>\n",
       "  </thead>\n",
       "  <tbody>\n",
       "    <tr>\n",
       "      <th>0</th>\n",
       "      <td>921490</td>\n",
       "      <td>4</td>\n",
       "      <td>Extremely happy</td>\n",
       "      <td>Very good</td>\n",
       "      <td>NaN</td>\n",
       "      <td>Never</td>\n",
       "      <td>167.0</td>\n",
       "      <td>62.0</td>\n",
       "      <td>Female</td>\n",
       "      <td>1965</td>\n",
       "      <td>1.67</td>\n",
       "      <td>49</td>\n",
       "      <td>medium</td>\n",
       "    </tr>\n",
       "    <tr>\n",
       "      <th>1</th>\n",
       "      <td>938348</td>\n",
       "      <td>Most people can be trusted</td>\n",
       "      <td>7</td>\n",
       "      <td>Good</td>\n",
       "      <td>NaN</td>\n",
       "      <td>Several times a week</td>\n",
       "      <td>168.0</td>\n",
       "      <td>70.0</td>\n",
       "      <td>Female</td>\n",
       "      <td>1973</td>\n",
       "      <td>1.68</td>\n",
       "      <td>41</td>\n",
       "      <td>medium</td>\n",
       "    </tr>\n",
       "    <tr>\n",
       "      <th>3</th>\n",
       "      <td>924985</td>\n",
       "      <td>8</td>\n",
       "      <td>9</td>\n",
       "      <td>Very good</td>\n",
       "      <td>NaN</td>\n",
       "      <td>Once a week</td>\n",
       "      <td>188.0</td>\n",
       "      <td>85.0</td>\n",
       "      <td>Male</td>\n",
       "      <td>1946</td>\n",
       "      <td>1.88</td>\n",
       "      <td>68</td>\n",
       "      <td>tall</td>\n",
       "    </tr>\n",
       "    <tr>\n",
       "      <th>4</th>\n",
       "      <td>925410</td>\n",
       "      <td>4</td>\n",
       "      <td>8</td>\n",
       "      <td>Bad</td>\n",
       "      <td>NaN</td>\n",
       "      <td>Several times a week</td>\n",
       "      <td>156.0</td>\n",
       "      <td>60.0</td>\n",
       "      <td>Female</td>\n",
       "      <td>1969</td>\n",
       "      <td>1.56</td>\n",
       "      <td>45</td>\n",
       "      <td>short</td>\n",
       "    </tr>\n",
       "    <tr>\n",
       "      <th>6</th>\n",
       "      <td>947921</td>\n",
       "      <td>7</td>\n",
       "      <td>8</td>\n",
       "      <td>Good</td>\n",
       "      <td>NaN</td>\n",
       "      <td>Less than once a month</td>\n",
       "      <td>169.0</td>\n",
       "      <td>63.0</td>\n",
       "      <td>Female</td>\n",
       "      <td>1980</td>\n",
       "      <td>1.69</td>\n",
       "      <td>34</td>\n",
       "      <td>medium</td>\n",
       "    </tr>\n",
       "  </tbody>\n",
       "</table>\n",
       "</div>"
      ],
      "text/plain": [
       "     idno                     ppltrst            happy     health  cgtsday  \\\n",
       "0  921490                           4  Extremely happy  Very good      NaN   \n",
       "1  938348  Most people can be trusted                7       Good      NaN   \n",
       "3  924985                           8                9  Very good      NaN   \n",
       "4  925410                           4                8        Bad      NaN   \n",
       "6  947921                           7                8       Good      NaN   \n",
       "\n",
       "                  alcfreq  height  weight    gndr  yrbrn  height_m  age  \\\n",
       "0                   Never   167.0    62.0  Female   1965      1.67   49   \n",
       "1    Several times a week   168.0    70.0  Female   1973      1.68   41   \n",
       "3             Once a week   188.0    85.0    Male   1946      1.88   68   \n",
       "4    Several times a week   156.0    60.0  Female   1969      1.56   45   \n",
       "6  Less than once a month   169.0    63.0  Female   1980      1.69   34   \n",
       "\n",
       "  height_cat  \n",
       "0     medium  \n",
       "1     medium  \n",
       "3       tall  \n",
       "4      short  \n",
       "6     medium  "
      ]
     },
     "execution_count": 53,
     "metadata": {},
     "output_type": "execute_result"
    }
   ],
   "source": [
    "ess2014.loc[ess2014['cgtsday'].isnull(), :].head()"
   ]
  },
  {
   "cell_type": "markdown",
   "id": "lesser-coordinate",
   "metadata": {},
   "source": [
    "---\n",
    "# ØVELSE 6: NYE VARIABLE OG REKODNING\n",
    "\n",
    "*Tilføj en aldersvariabel til ESS2014DK datasættet (husk at data er fra 2018)*\n",
    " \n",
    "*Dan en variabel, der angiver...*"
   ]
  }
 ],
 "metadata": {
  "kernelspec": {
   "display_name": "Python 3",
   "language": "python",
   "name": "python3"
  },
  "language_info": {
   "codemirror_mode": {
    "name": "ipython",
    "version": 3
   },
   "file_extension": ".py",
   "mimetype": "text/x-python",
   "name": "python",
   "nbconvert_exporter": "python",
   "pygments_lexer": "ipython3",
   "version": "3.7.9"
  }
 },
 "nbformat": 4,
 "nbformat_minor": 5
}
