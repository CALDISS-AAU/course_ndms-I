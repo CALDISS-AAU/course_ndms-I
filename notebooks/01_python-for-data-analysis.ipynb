{
 "cells": [
  {
   "cell_type": "markdown",
   "id": "automated-adams",
   "metadata": {},
   "source": [
    "# Introduktion til Python til Dataanalyse\n",
    "\n",
    "Denne lektion gennemgår hvordan Python anvendes til dataanalyse. Der introduceres især til data frames i Python biblioteket \"pandas\"."
   ]
  },
  {
   "cell_type": "markdown",
   "id": "hired-hampshire",
   "metadata": {},
   "source": [
    "- kort genopfriskning: hvad er Python?\n",
    "- brug af Python i Jupyter Notebook\n",
    "\n",
    "\n",
    "- inspicer data\n",
    "- inspicer variable\n",
    "  - value_counts\n",
    "  - crosstab\n",
    "- ØVELSE: 1 Indlæs og inspicer variabel \n",
    "- visualiser variable\n",
    "  - med matplotlib (indbygget)\n",
    "  - med seaborn\n",
    "- ØVELSE 2: Visualiser \n",
    "- deskriptive mål\n",
    "- groupby\n",
    "  - deskriptive mål\n",
    "  - value_counts\n",
    "- ØVELSE 3: deskriptive mål og groupby\n",
    "- groupby og visualisering\n",
    "- ØVELSE 4: visualisering med groupby\n",
    "- hvad består data frames af?\n",
    "  - rækker = index\n",
    "  - kolonner = series\n",
    "- obs! index behøver ikke være 0\n",
    "- subsetting\n",
    "- subsetting med logiske værdier\n",
    "- ØVELSE 5: Dan et subset\n",
    "- nye variable\n",
    "- ØVELSE 6: Dan ny variabel\n",
    "- missingværdier\n",
    "- rekodning af værdier (fx til at danne kategorisk)\n",
    "- ØVELSE 7: Dan kategorisk variabel\n"
   ]
  },
  {
   "cell_type": "markdown",
   "id": "impressive-thanks",
   "metadata": {},
   "source": [
    "# Data i Python\n",
    "\n",
    "I dette første kapitel tages et kig på, hvad data er for en størrelse, og hvordan et struktureret datasæt ser ud i Python. "
   ]
  },
  {
   "cell_type": "markdown",
   "id": "toxic-camcorder",
   "metadata": {},
   "source": [
    "# Data og datasæt\n",
    "\n",
    "I disse Python lektioner gennemgås, hvordan Python anvendes til dataanalyse, men hvad er data overhovedet for noget?\n",
    "\n",
    "Som udgangspunkt arbejder vi med en meget bred forståelse af data: alle former for information om noget. Grunden til at der i dag er så meget snak om data, dataanalyse, maskinlæring osv., er fordi at stadig mere og mere information digitaliseres, hvorfor det kan gøres til genstand for analyser.\n",
    "\n",
    "Navn, alder, uddannelse, indkomst, yndlingsfilm, mest aflyttede sange i 2020, antal gange rejst med bus 2 i Aalborg, køb i supermarkeder, størrelse på bolig, indbo, brug af el, varme og vand osv. Alle disse informationer er data og alt sammen kan indgå i analyser til at sige noget om en person eller, mere relevant, flere personer med lignende karakteristika.\n",
    "\n",
    "Data som en mere eller mindre tilfældig strøm af tilfældig information er vanskelig at arbejde med. Data skal på en eller anden måde være i system for, at det kan analyseres - det gælder både maskinel/computationel analyse eller menneskelig analyse.\n",
    "\n",
    "Når man taler om et datasæt, mener man typisk en eller anden form for afgrænset mængde data, der måske eller måske ikke er struktureret i en eller anden form.\n",
    "\n",
    "## Struktureret og ustruktureret data\n",
    "\n",
    "Man adskiller typisk mellem struktureret og ustruktureret data.\n",
    "\n",
    "**Struktureret data**\n",
    "\n",
    "*Struktureret data* er data, der på en eller anden måde er sat i system. Den klassiske repræsentation af struktureret data er i et tabulært format, hvor hver række indeholder en *observation* og hver kolonne indeholder en *variabel* (eller \"feature\", som det omtales inden for maskinlæring. En observation kan være en person, et land, et firma, et tidspunkt, en kommune osv., mens en variabel er en eller anden form for information om observationen.\n",
    "\n",
    "Tabellen herunder er et eksempel på struktureret data:\n",
    "\n",
    "|Navn |Alder |Beskæftigelse |\n",
    "|-----|------|--------------|\n",
    "|Lars | 34 | Slagter|\n",
    "|Gertrud | 62 | Rådgiver|\n",
    "|Henning | 43 | Revisor|\n",
    "|Agnes | 38 | Tømrer|\n",
    "\n",
    "Struktureret data er kendeteget ved at være sat i system sådan, at man umiddelbart kan analysere og spørge data om noget. I ovenstående tabel kan man fx meget hurtigt undersøge, hvor mange der er ældre end 40, hvem der har et fornavn der starter med \"H\" eller hvem der har beskæftigelse inden for byggeri.\n",
    "\n",
    "**Ustruktureret data**\n",
    "\n",
    "*Ustruktureret data* er data, som - kort sagt - ikke er sat i system. Hvis data ikke er struktureret, vil man typisk kalde det ustruktureret data. Tekst, billeder og video er typiske eksempler på ustruktureret data, da disse blot er rå information uden nogen måde at adskille en type information fra en anden. Mange moderne dataanalyseteknikker fokuserer på ustruktureret data, hvor man enten udvikler teknikker til at skabe overblik over ustruktureret data eller forsøger at give data en form for struktur.\n",
    "\n",
    "Nedenstående er et eksempel på ustruktureret data:\n",
    "\n",
    "```\n",
    "[\"Hvorfor går man ikke i dialog med ⁦@DRC_dk⁩ i stedet for at opsige kontrakten uden varsel. Er det kun for at føre stærk mand politik? DRC yder en fremragende indsats på baggrund af den opgave de har fået #dkpol https://jyllands-posten.dk/indland/ECE12248020/tesfaye-forsoeger-sig-med-en-ny-loesning-paa-alle-udlaendingeministres-problem/ …\",\n",
    "\"Alle tæller ❤️ https://twitter.com/cekicozlem/status/1276034922587832326 …\",\n",
    "\"Det er så godt arbejde💚 https://twitter.com/fannybroholm/status/1275360842847080449 …\",\n",
    "\"Tilfreds med den klima og energiaftale, der er lavet nu. Det er den første delaftale om at nå 70% reduktion i 2030. Særligt glad for at den indeholder principaftale om en CO2 afgiftsreform #dkpol #dkgreen pic.twitter.com/3slrMxLT5B\",\n",
    "\"Godt første skridt for den fri natur #dkpol #dkgreen ⁦@alternativet_⁩ https://www.altinget.dk/miljoe/artikel/wermelin-lander-aftale-om-de-foerste-naturnationalparker …\",\n",
    "\"Spændende udmelding. ⁦@alternativet_⁩ ønsker også en grøn   Klimaafgift, hvor udgangspunktet er at forureneren betaler #dkgreen #dkpol https://www.altinget.dk/artikel/venstre-og-radikale-laegger-faelles-pres-paa-regeringen-vil-have-ensartet-co2-afgift?SNSubscribed=true&ref=newsletter&refid=fredag-middag-190620&utm_campaign=altingetdk%20Altinget.dk&utm_medium%09=e-mail&utm_source=nyhedsbrev …\",\n",
    "\"Så vigtigt at KL tager ansvar for den proces #dkpol #dkgreen https://www.altinget.dk/miljoe/artikel/professor-om-affaldsaftale-kl-og-kommunerne-skal-gribe-chancen-for-at-loese-tingene-selv …\",\n",
    "\"Hurra - stor dag for Danmark💚👏🏼👏🏼 https://twitter.com/alternativet_/status/1273555055476723713 …\",\n",
    "\"Til klimaforhandlinger i Finansministeriet. Vi sidder og diskuterer rammerne - de næste dage bliver intensive #dkpol #dkgreen @alternativet_ @ Christiansborg Palace  https://www.instagram.com/p/CBi3d0oB9lB/?igshid=ii78cjnx2n72 …\",\n",
    "\"Aftale om mindre affald, mindre forbrænding og mere genbrug - god dag for klimaet og miljøet. 1. skridt i en stor miljøpakke #dkpol ⁦@alternativet_⁩ https://www.dr.dk/nyheder/indland/live-regeringen-praesenterer-ny-aftale-om-affald …\"]\n",
    "```\n",
    "\n",
    "I ovenstående kan man stadig overføre ideen om observationer (i dette tilfælde tweets fra danske politikere), men der er ingen variable eller features givet på forhånd. Der er derfor ingen umiddelbar struktur at gøre brug af for at foretage sig analyser.\n",
    "\n",
    "## Fra data til dataanalyse\n",
    "\n",
    "Uanset om data er struktureret eller ustruktureret, er de næsten aldrig klar til at analysere med det samme. Data skal næsten altid tilpasses den analyse, som man ønsker at foretage og de spørgsmål, som man ønsker at få svar på med sin analyse. \n",
    "\n",
    "For struktureret data indebærer dette at få identificeret de relevante dele af sine data (er det fx alle observationer, der er relevante?) samt undersøge og rekode variable sådan, at de meningsfuldt kan bruges i sin analyse.\n",
    "\n",
    "For ustruktureret data indebærer det på en eller anden måde at få sat system i eller skabt overblik over data.\n",
    "\n",
    "Ofte vil man også arbejde med data fra flere kilder, hvorfor en del forarbejde også kan gå med at få data kombineret i et samlet datasæt.\n",
    "\n",
    "---\n",
    "## VIDENSCHECK\n",
    "\n",
    "*Hvilke af nedenstående er eksempler på datasæt?:*\n",
    "\n",
    "* Navnet på butikschefen i det lokale supermarked\n",
    "* Alle værker af H.C. Andersen\n",
    "* En oversigt over medlemmer af DFØJ med information om navn, fødselsår, arbejdssted og uddannelse\n",
    "* Filmen \"Vampire's Kiss\" med Nicolas Cage fra 1988\n",
    "* Et kontoudtog\n",
    "* Alle film med Nicolas Cage"
   ]
  },
  {
   "cell_type": "markdown",
   "id": "necessary-alignment",
   "metadata": {},
   "source": [
    "# Introduktion til pandas\n",
    "\n",
    "Pakken `pandas` (https://pandas.pydata.org/) er et Python bibliotek til datahåndtering og dataanalyse. Pandas egner sig særligt til data i tabeller struktureret i rækker og kolonner. En datatabel kaldes inden for pandas en \"DataFrame\"; et bestemt Python objekt specifikt til at lagre og bearbejde data i tabeller.\n",
    "\n",
    "Denne lektion gennemgår diverse basale funktioner til at indlæse, udforske og håndtere en pandas DataFrame. Se også den officielle dokumentation for flere guides, introduktioner og beskrivelser til at arbejde med pandas: https://pandas.pydata.org/docs/\n",
    "\n",
    "## Indlæs data med `pandas`\n",
    "\n",
    "`pandas` pakken indeholder funktioner til at indlæse data i forskellige formater; herunder CSV, JSON, Excel, Stata, SAS osv.\n",
    "\n",
    "I det nedenstående indlæses pandas biblioteket, hvorefter datasættet \"ESS2014DK_subset.csv\" indlæses. Biblioteket `numpy` indlæses også, da det indeholder en række brugbare funktioner til at foretage beregninger på pandas dataframes:"
   ]
  },
  {
   "cell_type": "code",
   "execution_count": 2,
   "id": "greatest-diabetes",
   "metadata": {},
   "outputs": [],
   "source": [
    "import pandas as pd\n",
    "\n",
    "#ess2018 = pd.read_csv('')"
   ]
  },
  {
   "cell_type": "markdown",
   "id": "precise-indianapolis",
   "metadata": {},
   "source": [
    "*Bemærk importkonventionerne for `pandas`. `pandas` typisk som `pd`.*"
   ]
  },
  {
   "cell_type": "markdown",
   "id": "strong-provider",
   "metadata": {},
   "source": [
    "### Om datasættet\n",
    "Datasættet, som indlæses her, er et uddrag af datasættet fra European Social Survey (ESS) 2014. ESS er en europæisk surveyundersøgelse, der gentages hvert andet år. Surveyet behandler spørgsmål om folks helbred, beskæftigelse, politiske holdninger, tillid osv. I dette uddrag er der kun inkluderet de danske respondenter og et mindre udpluk variable.\n",
    "\n",
    "Subsettet af ESS 2014 indeholder følgende kolonner:\n",
    "- `idno`: Personens id-numre/respondentnøgle\n",
    "- `ppltrst`: Personens vurdering på en skala fra 0-10 af, hvor meget de stoler på andre mennesker\n",
    "- `happy`: Personens vurdering på en skala fra 0-10 af, hvor glade de føler sig\n",
    "- `health`: Personens vurdering af eget helbred fra \"Very bad\" til \"Very good\"\n",
    "- `cgtsday`: Antal cigaretter personen ryger om dagen\n",
    "- `alcfreq`: Hvor ofte personen drikker alkohol\n",
    "- `height`: Personens højde i centimeter\n",
    "- `weight`: Personens vægt i kilo\n",
    "- `gndr`: Personens køn (mand/kvinde)\n",
    "- `yrbrn`: Personens fødselsår"
   ]
  },
  {
   "cell_type": "markdown",
   "id": "prospective-literacy",
   "metadata": {},
   "source": [
    "## Inspicer data med `pandas`\n",
    "\n",
    "Datasættet er nu indlæst som et dataframe objekt i Python, som man kan interagere med. \n",
    "\n",
    "Metoden `.head()` printer de første fem rækker af datasættet:"
   ]
  },
  {
   "cell_type": "code",
   "execution_count": 4,
   "id": "smoking-container",
   "metadata": {},
   "outputs": [],
   "source": [
    "#ess2018.head()"
   ]
  },
  {
   "cell_type": "markdown",
   "id": "sorted-flavor",
   "metadata": {},
   "source": [
    "Dataframes er et tabulært dataformat. Når en fil indlæses som en pandas dataframe, skal filen derfor være i et format, der kan konverteres til tabelformat (data i rækker og kolonner).\n",
    "\n",
    "I dette datasæt udgør observationerne (rækkerne) enkeltpersoner, som har besvaret spørgeskemaet. De enkelte kolonner indeholder oplysninger om de enkelte personer. \n",
    "Af ovenstående print af de første fem række kan man fx læse, at personen i række 4 (rækkeindeks 3) er en kvinde født i 1958, som er 162 cm høj."
   ]
  },
  {
   "cell_type": "markdown",
   "id": "about-restoration",
   "metadata": {},
   "source": [
    "**NaN?**\n",
    "\n",
    "Som det ses af datasættet fremgår værdien `NaN` flere gange i datasættet (særligt under kolonnen `cgtsday`). \n",
    "\n",
    "`NaN` angiver missingværdi. En missingværdi er en ikke-gyldig værdi; fx hvis en person ikke svarer, informationen ikke har været muligt at skaffe eller andet."
   ]
  },
  {
   "cell_type": "markdown",
   "id": "aging-prompt",
   "metadata": {},
   "source": [
    "### Kolonner/variable \n",
    "\n",
    "En dataframe består af en samling af kolonner. En kolonne i en dataframe kaldes en `series`.\n",
    "\n",
    "Navnene på kolonnerne, som en dataframe indeholder, kan ses af attributen `.columns`:"
   ]
  },
  {
   "cell_type": "code",
   "execution_count": 5,
   "id": "satisfied-performance",
   "metadata": {},
   "outputs": [],
   "source": [
    "#ess2018.columns"
   ]
  },
  {
   "cell_type": "markdown",
   "id": "neural-assistant",
   "metadata": {},
   "source": [
    "## Inspicer variable\n",
    "\n",
    "En enkelt variabel/kolonne i datasættet referes til med `[]`:"
   ]
  },
  {
   "cell_type": "code",
   "execution_count": 6,
   "id": "possible-coupon",
   "metadata": {},
   "outputs": [],
   "source": [
    "#ess2018['']"
   ]
  },
  {
   "cell_type": "code",
   "execution_count": null,
   "id": "controversial-march",
   "metadata": {},
   "outputs": [],
   "source": []
  }
 ],
 "metadata": {
  "kernelspec": {
   "display_name": "Python 3",
   "language": "python",
   "name": "python3"
  },
  "language_info": {
   "codemirror_mode": {
    "name": "ipython",
    "version": 3
   },
   "file_extension": ".py",
   "mimetype": "text/x-python",
   "name": "python",
   "nbconvert_exporter": "python",
   "pygments_lexer": "ipython3",
   "version": "3.7.9"
  }
 },
 "nbformat": 4,
 "nbformat_minor": 5
}
