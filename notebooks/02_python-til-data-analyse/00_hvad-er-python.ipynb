{
 "cells": [
  {
   "cell_type": "markdown",
   "id": "loose-phase",
   "metadata": {},
   "source": [
    "# Hvad er Python?\n",
    "\n",
    "Python er et programmeringssprog. At arbejde med Python kræver derfor, at man “taler” det rette sprog, når man gerne vil have Python til at gøre noget.\n",
    "\n",
    "Python har ikke en brugerflade, så for at få Python til at gøre noget, skal vi “fortælle” Python, hvad vi gerne vil ved at skrive kommandoer i Python sproget.\n",
    "\n",
    "## Interager med Python\n",
    "\n",
    "Barberes Python ned til sine grundsten består det ikke af mere end en “interpreter” (fortolker). Alle programmeringssprog er bygget op om en fortolker, der “evaluerer” kommandoer. Inden for programmering vil evaluering sige, at sproget forsøger at forstå, hvad der står i en kommando.\n",
    "\n",
    "Man kan arbejde med Python fortolkeren direkte igennem en terminal/kommandoprompt, men det gør det meget besværligt at arbejde med.\n",
    "\n",
    "## Python i Jupyter Lab / Jupyter Notebook\n",
    "\n",
    "I dette kursus bruger vi Jupyter Lab som vores program (IDE) til at arbejde med Python: https://jupyter.org/\n",
    "\n",
    "Jupyter Lab/Notebook er opbygget omkring en såkaldt “notebook”. En notebook i Jupyter kombinerer Python kode med almindelig tekst (skrevet i “Markdown”). Jupyter Notebook egner sig særdeles godt, hvis man skal dokumentere sit kodearbejde undervejs, da man har mulighed for at skrive almindelig tekst, sætte billeder ind, lave tabeller osv. omkring sin kode."
   ]
  },
  {
   "cell_type": "markdown",
   "id": "reflected-cowboy",
   "metadata": {},
   "source": [
    "# Fundamentale koncepter i Python\n",
    "\n",
    "Som nævnt arbejder man med Python ved at skrive kommandoer i Python sproget. Kommandoer bliver “evalueret” af fortolkeren. Hvis koden forstås, bliver den kørt, og der gives et output, en ændring eller andet afhængigt af, hvad man beder om."
   ]
  },
  {
   "cell_type": "code",
   "execution_count": 1,
   "id": "marine-civilization",
   "metadata": {},
   "outputs": [
    {
     "data": {
      "text/plain": [
       "46"
      ]
     },
     "execution_count": 1,
     "metadata": {},
     "output_type": "execute_result"
    }
   ],
   "source": [
    "42 + 4"
   ]
  },
  {
   "cell_type": "markdown",
   "id": "boxed-retreat",
   "metadata": {},
   "source": [
    "## Objekter/varaible\n",
    "\n",
    "Python er et objekt-orienteret programmeringssprog. Dette indebærer, at man kontinuerligt arbejder med forskellige objekter, som indeholder en eller anden for for information.\n",
    "\n",
    "I Python kaldes objekter “variable”. Dette er ikke at forveksle med en variabel, som forstået i statistik som en egenskab ved en observation, da en variabel i Python blot er en beholder for en eller anden form for information."
   ]
  },
  {
   "cell_type": "code",
   "execution_count": 2,
   "id": "incident-business",
   "metadata": {},
   "outputs": [
    {
     "name": "stdout",
     "output_type": "stream",
     "text": [
      "44\n"
     ]
    }
   ],
   "source": [
    "number = 42\n",
    "print(number + 2)"
   ]
  },
  {
   "cell_type": "code",
   "execution_count": 3,
   "id": "illegal-arbor",
   "metadata": {},
   "outputs": [
    {
     "name": "stdout",
     "output_type": "stream",
     "text": [
      "kenobi\n"
     ]
    }
   ],
   "source": [
    "name = \"kenobi\"\n",
    "print(name)"
   ]
  },
  {
   "cell_type": "markdown",
   "id": "satisfied-verification",
   "metadata": {},
   "source": [
    "## Funktioner\n",
    "\n",
    "En central del af det at arbejde med et programmeringssprog er at bruge funktioner. Funktioner tager et eller flere input (kaldet “argumenter”), foretager et eller andet med disse og returnerer (for det meste) et output.\n",
    "\n",
    "Funktioner i Python har følgende format:\n",
    "\n",
    "```\n",
    "function(argument1, argument2, ...)\n",
    "```\n"
   ]
  },
  {
   "cell_type": "code",
   "execution_count": 4,
   "id": "bridal-concentrate",
   "metadata": {},
   "outputs": [
    {
     "name": "stdout",
     "output_type": "stream",
     "text": [
      "hello, there\n"
     ]
    }
   ],
   "source": [
    "print(\"hello\", \"there\", sep = \", \")"
   ]
  },
  {
   "cell_type": "markdown",
   "id": "imported-fifty",
   "metadata": {},
   "source": [
    "## Metoder\n",
    "\n",
    "Udover funktioner i Python findes der også “metoder”. Lig funktioner tager metoder også en form for input og returnerer et output.\n",
    "\n",
    "I modsætning til funktioner er metoder bundet op på bestemte variabeltyper. Det vil sige at variablen skal være en bestemt type for, at metoden kan bruges. Metoder kaldes med `variabel.method(option1 = something)`. Tekstværdier (strings) har fx en række metoder tilknyttet til at ændre teksten:"
   ]
  },
  {
   "cell_type": "code",
   "execution_count": 5,
   "id": "numerous-signal",
   "metadata": {},
   "outputs": [
    {
     "data": {
      "text/plain": [
       "'KENOBI'"
      ]
     },
     "execution_count": 5,
     "metadata": {},
     "output_type": "execute_result"
    }
   ],
   "source": [
    "name = \"kenobi\"\n",
    "name.upper()"
   ]
  },
  {
   "cell_type": "markdown",
   "id": "headed-surprise",
   "metadata": {},
   "source": [
    "## Pakker\n",
    "\n",
    "Pakker i Python er samlinger af funktioner, metoder, værdier osv. Selvom man kan meget i Python, så når man ikke særlig langt uden at importere pakker.\n",
    "\n",
    "Funktioner, metoder, værdier osv. fra pakker kan nemt indlæses ved at importere dem. Så snart pakken er importeret, er pakkens indhold tilgængeligt."
   ]
  },
  {
   "cell_type": "code",
   "execution_count": 6,
   "id": "tutorial-heath",
   "metadata": {},
   "outputs": [
    {
     "name": "stdout",
     "output_type": "stream",
     "text": [
      "3.141592653589793\n"
     ]
    }
   ],
   "source": [
    "import math\n",
    "\n",
    "print(math.pi)"
   ]
  },
  {
   "cell_type": "markdown",
   "id": "spectacular-creativity",
   "metadata": {},
   "source": [
    "# ØVELSE 0: KAN PYTHON NOGET?\n",
    "\n",
    "- Lav en notebook til denne lektion\n",
    "- Lav en kodecelle\n",
    "- Skriv kommandoen `print(\"hello there\")` ind i cellen\n",
    "- Kør cellen"
   ]
  }
 ],
 "metadata": {
  "kernelspec": {
   "display_name": "Python 3",
   "language": "python",
   "name": "python3"
  },
  "language_info": {
   "codemirror_mode": {
    "name": "ipython",
    "version": 3
   },
   "file_extension": ".py",
   "mimetype": "text/x-python",
   "name": "python",
   "nbconvert_exporter": "python",
   "pygments_lexer": "ipython3",
   "version": "3.7.9"
  }
 },
 "nbformat": 4,
 "nbformat_minor": 5
}
