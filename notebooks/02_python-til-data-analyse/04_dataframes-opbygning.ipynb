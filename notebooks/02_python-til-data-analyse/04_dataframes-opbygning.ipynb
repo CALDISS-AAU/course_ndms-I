{
 "cells": [
  {
   "cell_type": "markdown",
   "id": "burning-prime",
   "metadata": {},
   "source": [
    "# Hvordan er dataframes opbygget?\n",
    "\n",
    "Lad os se nærmere på, hvordan en dataframe er opbygget.\n",
    "\n",
    "Kort sagt består dataframes af rækker (index) og kolonner (series). "
   ]
  },
  {
   "cell_type": "markdown",
   "id": "attended-jewel",
   "metadata": {},
   "source": [
    "## Kolonner (`Series`) i en dataframe\n",
    "\n",
    "En pandas `Series` er en en-dimensionel datastruktur; svarende til en kolonne eller en variabel.\n",
    "\n",
    "En enkelt `Series` kan lagres som sit eget objekt. Hermed kan vi se, at typen ændrer sig fra \"dataframe\" til \"series\"."
   ]
  },
  {
   "cell_type": "code",
   "execution_count": 1,
   "id": "existing-silicon",
   "metadata": {},
   "outputs": [],
   "source": [
    "import pandas as pd\n",
    "\n",
    "ess2018 = pd.read_csv(\"https://github.com/CALDISS-AAU/course_ndms-I/raw/master/datasets/ESS2018DK_subset.csv\")"
   ]
  },
  {
   "cell_type": "code",
   "execution_count": 2,
   "id": "arbitrary-buying",
   "metadata": {},
   "outputs": [
    {
     "data": {
      "text/plain": [
       "pandas.core.frame.DataFrame"
      ]
     },
     "execution_count": 2,
     "metadata": {},
     "output_type": "execute_result"
    }
   ],
   "source": [
    "ess2018_vote = ess2018['vote']\n",
    "type(ess2018)"
   ]
  },
  {
   "cell_type": "code",
   "execution_count": 3,
   "id": "active-coalition",
   "metadata": {},
   "outputs": [
    {
     "data": {
      "text/plain": [
       "pandas.core.series.Series"
      ]
     },
     "execution_count": 3,
     "metadata": {},
     "output_type": "execute_result"
    }
   ],
   "source": [
    "type(ess2018_vote)"
   ]
  },
  {
   "cell_type": "markdown",
   "id": "constant-anderson",
   "metadata": {},
   "source": [
    "### Series og metoder\n",
    "\n",
    "Bemærk, at mange af de metoder, som vi har brugt indtil videre, bliver kaldt på en enkelt variabel (`Series`), og ikke et helt datasæt.\n",
    "\n",
    "Husk at Python metoder er relateret til bestemte objekter. Når man bruger fx metoder, så vær opmærksom på, om I forsøger at gøre det på et helt datasæt eller en enkelt `Series`."
   ]
  },
  {
   "cell_type": "markdown",
   "id": "above-response",
   "metadata": {},
   "source": [
    "### Series og Python lister\n",
    "\n",
    "`Series` er på mange måder kompatible med Python lister. Python lister er en grundlæggende datastruktur, som kan være brugbar i mange sammenhænge.\n",
    "\n",
    "Man kan altid tvinge en `Series` om til at være en liste med funktionen `list()`:"
   ]
  },
  {
   "cell_type": "code",
   "execution_count": 4,
   "id": "aboriginal-standard",
   "metadata": {},
   "outputs": [
    {
     "name": "stdout",
     "output_type": "stream",
     "text": [
      "['Yes', 'Yes', nan, 'Not eligible to vote', 'Yes', 'Yes', 'Yes', 'Yes', 'Yes', 'Yes', 'Yes', 'Yes', 'Yes', 'Yes', 'Yes', 'Yes', 'Yes', 'Yes', 'Yes', 'Yes', 'Yes', 'Yes', 'Yes', 'Yes', 'Yes', 'Yes', 'Yes', 'No', 'Yes', 'Yes', 'Yes', 'Yes', 'Yes', 'Yes', 'Yes', 'Yes', 'Yes', 'Yes', 'Yes', 'Yes', 'No', 'Yes', 'No', 'Yes', 'Yes', 'Yes', 'No', 'Yes', 'Yes', 'Yes', 'Yes', 'Yes', 'Yes', 'Yes', 'No', 'Yes', 'Yes', 'Yes', 'Yes', 'Yes', 'Yes', 'Yes', 'Yes', 'Yes', 'Not eligible to vote', 'Yes', 'Yes', 'Yes', 'Yes', 'No', 'Not eligible to vote', 'No', 'Yes', 'Yes', 'Yes', 'No', 'Yes', 'Yes', 'Yes', 'Not eligible to vote', 'No', 'Not eligible to vote', 'Not eligible to vote', 'Yes', 'Yes', 'Yes', 'Yes', 'Not eligible to vote', 'Yes', 'Yes', 'No', 'Yes', 'Yes', 'Yes', 'Yes', 'Yes', 'Yes', 'Yes', 'Yes', 'Yes', 'No', 'Yes', 'Yes', 'Yes', 'Yes', 'Yes', 'Yes', 'Yes', 'Yes', 'Yes', 'Yes', 'Yes', 'Yes', 'Yes', 'Yes', 'Yes', 'Yes', 'Yes', 'Yes', 'Yes', 'Yes', 'Yes', 'Not eligible to vote', 'Yes', 'Yes', 'Yes', 'Yes', 'Not eligible to vote', 'Yes', 'No', 'No', 'Yes', 'Yes', 'Yes', 'Yes', 'Yes', 'Yes', 'Yes', 'Yes', 'Yes', 'Yes', 'Yes', 'Yes', 'Not eligible to vote', 'Yes', 'Yes', 'Yes', 'Yes', 'Yes', 'Yes', 'Yes', 'Yes', 'Yes', 'Yes', 'Yes', 'Yes', 'Yes', 'Yes', 'Yes', 'Yes', 'Yes', 'Yes', 'Yes', 'Yes', 'Yes', 'Yes', 'Not eligible to vote', 'No', 'Yes', 'Yes', 'Yes', 'Yes', 'Yes', 'Yes', 'Not eligible to vote', 'No', 'Yes', 'No', 'Yes', 'No', 'Not eligible to vote', 'Yes', 'Yes', 'Yes', 'Yes', nan, 'No', 'Yes', 'Yes', 'Yes', 'Yes', 'No', 'Yes', 'Yes', 'Yes', 'Yes', 'Yes', 'Yes', 'Yes', 'Yes', 'Yes', 'Yes', 'Yes', 'Yes', 'Yes', 'Yes', 'Yes', 'Yes', 'Not eligible to vote', 'Yes', 'Yes', 'Not eligible to vote', 'Yes', 'Yes', 'Not eligible to vote', 'Yes', 'Yes', 'Yes', 'Yes', 'Not eligible to vote', 'No', 'Yes', 'Yes', 'Yes', 'Yes', 'Yes', 'No', 'Yes', 'Yes', 'Yes', 'Yes', 'Yes', 'Yes', 'Yes', 'Yes', 'Yes', 'Yes', 'Yes', 'Yes', 'Yes', 'Yes', 'Yes', 'Yes', 'Yes', 'Yes', 'Yes', 'Yes', 'Yes', 'Yes', 'Yes', 'Yes', 'Yes', 'Yes', 'Yes', 'Yes', 'Yes', 'Yes', 'No', 'Yes', 'Yes', 'Yes', 'Yes', 'Yes', 'Yes', 'No', 'Yes', 'Yes', 'Yes', 'Yes', 'Yes', 'Yes', 'Yes', 'Yes', 'Yes', 'Yes', 'Yes', 'Yes', 'Yes', 'Yes', 'Not eligible to vote', 'Yes', 'Yes', 'No', 'No', 'Yes', 'No', 'Yes', 'Yes', 'Yes', 'Yes', 'Yes', 'Yes', 'Yes', 'Yes', 'Not eligible to vote', 'Yes', 'Yes', 'Yes', 'Yes', 'Yes', 'Yes', 'Yes', 'Yes', 'Yes', 'Yes', 'No', 'Yes', 'Yes', 'No', 'Yes', 'Yes', 'Yes', 'Yes', 'Yes', 'Yes', 'Yes', 'Yes', 'Yes', 'Yes', 'Yes', 'Yes', 'No', 'Yes', 'Yes', 'Yes', 'Yes', 'Yes', 'Yes', 'Yes', 'Yes', 'Yes', 'Yes', 'Not eligible to vote', 'Yes', 'Not eligible to vote', 'Yes', 'Yes', 'Yes', 'Not eligible to vote', 'No', 'Not eligible to vote', 'Yes', 'Yes', 'Not eligible to vote', 'Yes', 'No', 'Yes', 'Yes', 'Yes', 'Yes', 'Yes', 'Yes', 'Yes', 'Yes', 'Yes', 'Yes', 'Yes', 'Yes', 'Yes', 'Yes', 'Yes', 'Yes', 'Yes', 'Yes', 'Not eligible to vote', 'Yes', 'Yes', 'Yes', 'Yes', 'Yes', 'Yes', 'Yes', 'Yes', 'Yes', 'Not eligible to vote', 'Yes', 'Yes', 'Yes', 'Yes', 'Yes', 'Not eligible to vote', 'Yes', 'Not eligible to vote', 'Yes', 'Yes', 'Yes', 'Not eligible to vote', 'Yes', 'Yes', 'Not eligible to vote', 'Yes', 'Not eligible to vote', 'Yes', 'Yes', 'Yes', 'Yes', 'Yes', 'Not eligible to vote', 'Yes', 'Yes', 'Yes', 'Yes', 'No', 'Yes', 'Yes', 'Yes', 'Yes', 'Yes', 'Yes', 'Yes', 'Yes', 'Yes', 'Not eligible to vote', 'Yes', 'Yes', 'Yes', 'Yes', 'Yes', 'Yes', 'Yes', 'Yes', 'Yes', 'Yes', 'Yes', 'Yes', 'Yes', 'Yes', 'Yes', 'Yes', 'Yes', 'No', 'Yes', 'Yes', 'No', 'Yes', 'Not eligible to vote', 'Yes', 'Yes', 'Yes', 'Not eligible to vote', 'Yes', 'Yes', 'Yes', nan, 'Yes', 'Not eligible to vote', 'Yes', 'Yes', 'Not eligible to vote', 'Yes', 'Yes', 'Yes', 'Yes', 'Yes', 'Yes', 'Yes', 'Yes', 'No', 'Yes', 'Yes', 'Yes', 'Yes', 'Yes', 'Yes', 'Yes', 'Yes', 'Yes', 'Yes', 'Yes', 'Yes', 'Yes', 'Yes', 'Yes', 'Yes', 'Not eligible to vote', 'Yes', 'Yes', 'Yes', 'Yes', 'Yes', 'Yes', 'Yes', 'No', 'Not eligible to vote', 'Yes', 'Yes', 'Not eligible to vote', 'Yes', 'Yes', 'Yes', 'Yes', 'Yes', 'Not eligible to vote', 'Yes', 'Yes', 'Yes', 'Yes', 'Yes', 'Yes', 'Yes', 'Yes', 'Yes', 'Yes', 'Yes', 'Yes', 'Yes', 'Yes', 'Yes', 'Not eligible to vote', 'Yes', 'Yes', 'Yes', 'Yes', 'Yes', 'Yes', 'Yes', 'Yes', 'No', 'Yes', 'Yes', 'No', 'Yes', 'No', 'Yes', 'Not eligible to vote', 'Yes', 'Yes', 'Yes', 'Yes', 'Yes', 'Yes', 'Yes', 'Yes', 'Yes', 'Yes', 'Yes', 'Yes', 'Not eligible to vote', 'Yes', 'Yes', 'Not eligible to vote', 'Yes', 'Yes', 'Yes', 'Yes', 'Yes', 'Yes', 'Yes', 'Yes', 'Yes', 'Yes', 'Yes', 'Yes', 'Yes', 'Yes', 'Yes', 'Yes', 'Yes', 'Not eligible to vote', 'Yes', 'Not eligible to vote', 'Yes', 'Yes', 'Not eligible to vote', 'Yes', 'Not eligible to vote', 'Yes', 'Yes', 'Yes', 'Yes', 'Yes', 'Yes', 'Yes', 'Yes', 'Yes', 'No', 'Yes', 'Yes', 'Yes', 'Yes', 'Yes', 'Yes', 'Yes', 'Yes', 'Yes', 'Yes', 'Yes', 'Yes', 'Yes', 'Yes', 'Yes', 'No', 'Yes', 'Yes', 'Yes', 'Yes', 'Not eligible to vote', 'Yes', 'No', 'Yes', 'Yes', 'Yes', 'Yes', 'Yes', 'Yes', 'Yes', 'Yes', 'Yes', 'Yes', 'Yes', 'Yes', 'Yes', 'Not eligible to vote', 'Yes', 'Yes', 'Yes', 'Yes', 'Yes', 'Yes', 'Yes', 'Yes', 'Yes', 'Yes', 'Yes', 'Yes', 'Yes', 'Yes', 'Yes', 'Yes', 'Yes', 'Not eligible to vote', 'Yes', 'Yes', 'Yes', 'Not eligible to vote', 'Yes', 'Yes', 'Yes', 'Yes', 'Yes', 'Yes', 'Yes', 'Yes', 'Not eligible to vote', 'Not eligible to vote', 'Not eligible to vote', 'Yes', 'Yes', 'Yes', 'Yes', 'Yes', 'Yes', 'Yes', 'Yes', 'Yes', 'Yes', 'Yes', 'Yes', 'Yes', 'Yes', 'Yes', 'Yes', 'Yes', 'Not eligible to vote', 'Yes', 'Yes', 'Yes', 'Yes', 'Yes', 'Yes', 'Yes', 'Yes', 'Yes', 'Yes', 'Yes', 'Yes', 'Yes', 'Not eligible to vote', 'Yes', 'Not eligible to vote', 'Yes', 'Yes', 'Not eligible to vote', 'Yes', 'Yes', 'Yes', 'Yes', 'Yes', 'Yes', 'Yes', 'Yes', 'Yes', 'Yes', 'Yes', 'Not eligible to vote', 'Yes', 'Yes', 'Not eligible to vote', 'Yes', 'Yes', 'Yes', 'Yes', 'Yes', 'Yes', 'Yes', 'Not eligible to vote', 'Not eligible to vote', 'Yes', 'Yes', 'Yes', 'Yes', 'Yes', 'Yes', 'Yes', 'Yes', 'Yes', 'Yes', 'Yes', 'Yes', 'Yes', 'Yes', 'Yes', 'Yes', 'Yes', 'Yes', 'Yes', 'Yes', 'Yes', 'Yes', 'Yes', 'Yes', 'Yes', 'Yes', 'Yes', 'Yes', 'Yes', 'Yes', 'Yes', 'Not eligible to vote', 'Yes', 'Yes', 'Yes', 'Yes', 'Yes', 'Yes', 'Yes', 'Yes', 'Yes', 'Yes', 'Yes', 'Yes', 'Yes', 'Yes', 'Yes', 'Yes', 'Yes', 'No', 'Yes', 'Yes', 'Yes', 'Yes', 'Yes', 'No', 'Not eligible to vote', 'Yes', 'Yes', 'Yes', 'Yes', 'Yes', 'Yes', 'Yes', 'Yes', 'Yes', 'Yes', 'Yes', 'Yes', 'Yes', 'No', 'Yes', 'Yes', 'Not eligible to vote', 'Yes', 'Yes', 'Yes', 'Yes', 'Yes', 'Yes', 'Yes', 'Yes', 'Yes', 'Yes', 'Yes', 'Yes', 'Not eligible to vote', 'Yes', 'Yes', 'Yes', 'Yes', 'Yes', 'Yes', 'Yes', 'Yes', 'Yes', 'Yes', 'Yes', 'Yes', 'Yes', 'Yes', 'Yes', 'Yes', 'Yes', 'Not eligible to vote', 'Yes', 'Not eligible to vote', 'Yes', 'Not eligible to vote', 'Yes', 'Not eligible to vote', 'Yes', 'Not eligible to vote', 'Yes', 'Yes', 'Yes', 'Yes', 'Yes', 'Yes', 'Yes', 'Yes', 'Yes', 'Yes', 'Yes', 'Yes', 'Yes', 'Yes', 'Yes', 'Yes', 'Yes', 'Yes', 'Yes', 'Yes', 'Yes', 'Yes', 'Yes', 'Yes', 'Yes', 'Yes', 'Yes', 'Yes', 'Yes', 'Yes', 'Yes', 'Yes', 'Yes', 'Yes', 'Yes', 'Yes', 'Not eligible to vote', 'Yes', 'Yes', 'Yes', 'No', 'Yes', 'Yes', 'Yes', 'Not eligible to vote', 'Yes', 'Yes', 'No', 'Yes', 'No', 'Yes', 'Yes', 'Yes', 'Yes', 'Yes', 'Yes', 'Not eligible to vote', 'Yes', 'Not eligible to vote', 'Yes', 'Yes', 'Yes', 'Yes', 'Yes', 'Yes', 'Yes', 'Yes', 'No', 'Yes', 'Yes', 'Yes', 'Yes', 'Yes', 'Yes', 'Yes', 'Yes', 'Yes', 'Yes', 'Yes', 'Yes', 'Yes', 'Yes', 'Yes', 'Yes', 'Yes', 'Yes', 'Yes', 'Yes', 'Not eligible to vote', 'Not eligible to vote', 'Yes', 'Yes', 'Yes', 'Yes', 'Yes', 'Yes', 'No', 'Yes', 'Yes', 'No', 'Yes', 'Yes', 'Yes', 'Yes', 'Yes', 'Yes', 'Yes', 'Yes', 'Yes', 'Not eligible to vote', 'Yes', 'Yes', 'Yes', 'Yes', 'Yes', 'Yes', 'No', 'Yes', 'Yes', 'Yes', 'Yes', 'Yes', 'Yes', 'Yes', 'Yes', 'Yes', 'Yes', 'Not eligible to vote', 'Yes', 'Yes', 'Yes', 'Yes', 'Yes', 'Yes', 'Yes', 'Yes', 'Yes', 'Yes', 'Yes', 'Not eligible to vote', 'Yes', 'Yes', 'Yes', 'Yes', 'Yes', 'Yes', 'Yes', 'Yes', 'Yes', 'Not eligible to vote', 'Yes', 'Yes', 'Yes', 'Yes', 'Yes', 'Yes', 'Yes', 'Yes', 'Yes', 'Yes', 'Not eligible to vote', 'Yes', 'Yes', 'Yes', 'Yes', 'Yes', 'Yes', 'Yes', 'Yes', 'Yes', 'Yes', 'Yes', 'Yes', 'Yes', 'Yes', 'Yes', 'Yes', 'Yes', 'Not eligible to vote', 'Yes', 'Yes', 'Yes', 'Yes', 'Yes', 'Yes', 'Yes', nan, 'Yes', 'No', 'Not eligible to vote', 'Yes', 'Not eligible to vote', 'Yes', 'Yes', 'Yes', 'Yes', 'Yes', 'Yes', 'Yes', 'Yes', 'Yes', 'Yes', 'Yes', 'No', 'Yes', 'Yes', 'Not eligible to vote', 'Yes', 'Yes', 'Yes', 'Yes', 'Yes', 'Yes', 'Yes', 'Yes', 'Yes', 'Yes', 'Yes', 'Yes', 'Yes', 'Yes', 'Yes', 'Yes', 'No', 'Yes', 'Yes', 'Yes', 'Yes', 'Yes', 'Yes', 'Yes', 'Yes', 'Yes', 'Not eligible to vote', 'Not eligible to vote', 'Not eligible to vote', 'Yes', 'Yes', 'Yes', 'Yes', 'Yes', 'Yes', 'Yes', 'Yes', 'Yes', 'Yes', 'Yes', 'Yes', 'Yes', 'Yes', 'Yes', 'Yes', 'Yes', 'Yes', 'Yes', 'Not eligible to vote', 'Yes', 'Yes', 'Yes', 'Yes', 'Yes', 'Not eligible to vote', 'No', 'Yes', 'Yes', 'No', 'Yes', 'Yes', 'Yes', 'Yes', 'Yes', 'No', 'Yes', 'Yes', 'No', 'Not eligible to vote', 'Yes', 'Yes', 'Not eligible to vote', 'Yes', 'Yes', 'Yes', 'Yes', 'Not eligible to vote', 'Yes', 'No', 'Yes', 'Yes', 'Yes', 'Yes', 'Not eligible to vote', 'Yes', 'No', 'Yes', 'Yes', 'Yes', 'Yes', 'Yes', 'Yes', 'Yes', 'Yes', 'Yes', 'Yes', 'Yes', 'Yes', 'Yes', 'No', 'Yes', 'Yes', 'Yes', 'Yes', 'Yes', 'Yes', 'Yes', 'Yes', 'Yes', 'Yes', 'No', 'Yes', 'Yes', 'Yes', 'Not eligible to vote', 'Yes', 'Yes', 'Yes', 'Yes', 'Yes', 'Yes', 'No', 'Yes', 'Yes', 'No', 'Yes', 'Yes', 'Yes', 'No', 'Yes', 'Yes', 'Yes', 'Yes', 'Yes', 'Yes', 'Yes', 'Yes', 'Yes', 'Yes', 'Yes', 'Yes', 'Yes', 'Yes', 'Yes', 'Yes', 'Yes', 'Yes', 'Yes', 'Yes', 'Yes', 'Yes', 'Yes', 'Yes', 'Not eligible to vote', 'Yes', 'Yes', 'No', 'Yes', 'Not eligible to vote', 'Yes', 'Not eligible to vote', 'Not eligible to vote', 'Yes', 'Yes', 'Not eligible to vote', 'Yes', 'Yes', 'Yes', 'No', 'Yes', 'Yes', 'Yes', 'Yes', 'Yes', 'Yes', 'Yes', 'Yes', 'No', 'Yes', 'Not eligible to vote', 'Yes', 'Yes', 'Yes', 'Yes', 'Yes', 'Yes', 'Yes', 'Yes', 'Yes', 'Yes', 'Yes', 'Yes', 'Not eligible to vote', 'Yes', 'Yes', 'Yes', 'No', 'Yes', 'Yes', 'Yes', 'Yes', 'Not eligible to vote', 'Yes', 'Yes', 'Yes', 'Yes', 'Yes', 'No', 'Yes', 'Yes', 'Yes', 'Yes', 'Yes', 'Yes', 'Yes', 'Not eligible to vote', 'Yes', 'Yes', 'Yes', 'Yes', 'Yes', 'Yes', 'No', 'Yes', 'Yes', 'Yes', 'Yes', 'Not eligible to vote', 'No', 'Yes', 'Yes', 'Yes', 'Yes', 'Yes', 'Yes', nan, 'Yes', 'Yes', 'Yes', 'Yes', 'Yes', 'Yes', 'Yes', 'Yes', 'Yes', 'Not eligible to vote', 'Yes', 'Yes', 'Yes', 'Yes', 'Not eligible to vote', 'Yes', 'No', 'No', 'Yes', 'Yes', 'Yes', 'Yes', 'Yes', 'Yes', 'Yes', 'Yes', 'No', 'Yes', 'Yes', 'Yes', 'No', 'Not eligible to vote', 'Yes', 'Yes', 'Yes', 'Yes', 'Yes', 'Yes', 'Yes', 'Yes', 'Yes', 'Yes', 'Not eligible to vote', 'Yes', 'Yes', 'Yes', 'Yes', 'Yes', 'Yes', 'Yes', 'Yes', 'Yes', 'No', 'Yes', 'Yes', 'Yes', 'Not eligible to vote', 'Yes', 'No', 'Yes', 'Yes', 'No', 'Yes', 'No', 'Yes', 'Yes', 'Yes', 'Yes', 'Yes', 'Yes', 'Yes', 'Yes', 'Yes', 'Yes', 'Yes', 'Yes', 'Yes', 'Yes', 'Yes', 'Yes', 'Yes', 'Yes', 'Yes', 'Yes', 'Not eligible to vote', 'Yes', 'Not eligible to vote', 'Yes', 'Yes', 'Yes', 'Yes', 'Yes', 'Yes', 'No', 'Yes', 'Yes', 'Yes', 'Yes', 'No', 'Yes', 'Not eligible to vote', 'Yes', 'Yes', 'Yes', 'Yes', 'Yes', 'Yes', 'Yes', 'Yes', 'Yes', 'Yes', 'Yes', 'Yes', 'Not eligible to vote', 'Not eligible to vote', 'Yes', 'Yes', 'No', 'Yes', 'Yes', 'Yes', 'Yes', 'Yes', 'Yes', 'Yes', 'Yes', 'Yes', 'Not eligible to vote', 'Yes', 'Not eligible to vote', 'Not eligible to vote', 'Yes', 'No', 'Yes', 'Not eligible to vote', 'Yes', 'Yes', 'Not eligible to vote', 'Yes', 'Yes', 'Yes', 'Yes', 'Yes', 'Not eligible to vote', 'No', 'Yes', 'Yes', 'Yes', 'Yes', 'Yes', 'Yes', 'Yes', 'Yes', 'Yes', 'Yes', 'Yes', 'Not eligible to vote', 'Yes', 'Yes', 'Yes', 'Yes', 'Yes', 'Yes', 'Yes', 'Yes', 'Yes', 'Yes', 'Yes', 'No', 'Not eligible to vote', 'Yes', 'Yes', 'No', 'Yes', 'Yes', 'Yes', 'Yes', 'Yes', 'Yes', 'Yes', 'Yes', 'Yes', 'Yes', 'Yes', 'Yes', 'Yes', 'Yes', 'Not eligible to vote', 'Yes', 'Yes', 'Yes', 'Yes', 'Yes', 'Yes', 'Yes', 'Yes', 'Yes', 'Yes', 'Yes', 'Yes', 'Not eligible to vote', 'Yes', 'Yes', 'Yes', 'Yes', 'Yes', 'Yes', 'Yes', 'Yes', 'Yes', 'Yes', 'Yes', 'Not eligible to vote', 'Yes', 'Yes', 'Yes', 'Not eligible to vote', 'Yes', 'Yes', 'Yes', 'No', 'Yes', 'Yes', 'Yes', 'Yes', 'Yes', 'Yes', 'Yes', 'Yes', 'Yes', 'Yes', 'Yes', 'Yes', 'Not eligible to vote', 'No', 'Not eligible to vote', 'Not eligible to vote', 'Yes', 'Yes', 'Yes', 'Yes', 'No', 'Yes', 'Yes', nan, 'Yes', 'Yes', 'Yes', 'Yes', 'Yes', 'Yes', 'Yes', 'Yes', 'Yes', 'Not eligible to vote', 'Not eligible to vote', 'Yes', 'Yes', 'Yes', 'Yes', 'Yes', 'Not eligible to vote', 'Yes', 'Yes', 'Yes', 'Yes', 'Yes', 'Yes', 'Yes', 'Yes', 'No', 'Yes', 'Yes', 'Yes', 'Yes', 'Yes', 'Yes', 'Yes', 'Yes', 'Yes', 'Yes', 'No', 'Yes', 'Yes', 'Not eligible to vote', 'Yes', 'Yes', 'Not eligible to vote', 'Yes', 'Yes', 'Yes', 'Yes', 'Yes', 'Yes', 'Not eligible to vote', 'Yes', 'Yes', 'Yes', 'Yes', 'Yes', 'Yes', 'Yes', 'Yes', 'Yes', 'Not eligible to vote', 'Yes', 'Yes', 'Yes', 'No']\n"
     ]
    }
   ],
   "source": [
    "ess2018_votelist = list(ess2018_vote)\n",
    "print(ess2018_votelist)"
   ]
  },
  {
   "cell_type": "markdown",
   "id": "wound-blend",
   "metadata": {},
   "source": [
    "Omvendt kan man også tvinge en liste om til at være en `Series` med `pd.Series`."
   ]
  },
  {
   "cell_type": "code",
   "execution_count": 5,
   "id": "directed-shower",
   "metadata": {},
   "outputs": [
    {
     "name": "stdout",
     "output_type": "stream",
     "text": [
      "0                        Yes\n",
      "1                        Yes\n",
      "2                        NaN\n",
      "3       Not eligible to vote\n",
      "4                        Yes\n",
      "                ...         \n",
      "1567    Not eligible to vote\n",
      "1568                     Yes\n",
      "1569                     Yes\n",
      "1570                     Yes\n",
      "1571                      No\n",
      "Length: 1572, dtype: object\n"
     ]
    }
   ],
   "source": [
    "ess2018_voteseries = pd.Series(ess2018_votelist)\n",
    "print(ess2018_voteseries)"
   ]
  },
  {
   "cell_type": "markdown",
   "id": "comprehensive-marine",
   "metadata": {},
   "source": [
    "## Index i en dataframe\n",
    "\n",
    "Et \"indeks\" er en generel betegnelse i Python for værdiers ID, så at sige.\n",
    "\n",
    "I en dataframe bruges index til at referere til rækkenavnene. Disse kan ses af `.index`:"
   ]
  },
  {
   "cell_type": "code",
   "execution_count": 6,
   "id": "horizontal-fantasy",
   "metadata": {},
   "outputs": [
    {
     "data": {
      "text/plain": [
       "[0, 1, 2, 3, 4, 5, 6, 7, 8, 9]"
      ]
     },
     "execution_count": 6,
     "metadata": {},
     "output_type": "execute_result"
    }
   ],
   "source": [
    "list(ess2018.index)[0:10]"
   ]
  },
  {
   "cell_type": "markdown",
   "id": "ideal-technology",
   "metadata": {},
   "source": [
    "Index i Python starter ved 0. Den første række i en dataframe har derfor index 0.\n",
    "\n",
    "Et index behøver dog ikke være rækkenumre, da man altid kan ændre index-værdierne."
   ]
  },
  {
   "cell_type": "markdown",
   "id": "boxed-queue",
   "metadata": {},
   "source": [
    "### Index i groupby\n",
    "\n",
    "Husk at vi ofte arbejder med mange objekter på en gang i Python. Når vi fx bruger `.groupby()` får vi returneret et groupby objekt, uden at ændre på det oprindelige data.\n",
    "\n",
    "Når så vi bruger en metode som fx `.value_counts` på en variabel i et groupby objekt, så får vi en ny datastruktur returneret. Denne ligner en dataframe, men faktisk er det blot en enkelt kolonne (`Series`) med et index, der refererer til de forskellige grupperinger."
   ]
  },
  {
   "cell_type": "code",
   "execution_count": 7,
   "id": "atmospheric-voice",
   "metadata": {},
   "outputs": [],
   "source": [
    "grouped_df = ess2018.groupby(['gndr'])"
   ]
  },
  {
   "cell_type": "code",
   "execution_count": 8,
   "id": "acting-james",
   "metadata": {},
   "outputs": [
    {
     "data": {
      "text/plain": [
       "gndr    vote                \n",
       "Female  Yes                     626\n",
       "        Not eligible to vote     63\n",
       "        No                       34\n",
       "Male    Yes                     706\n",
       "        Not eligible to vote     77\n",
       "        No                       60\n",
       "Name: vote, dtype: int64"
      ]
     },
     "execution_count": 8,
     "metadata": {},
     "output_type": "execute_result"
    }
   ],
   "source": [
    "grouped_votecounts = grouped_df['vote'].value_counts()\n",
    "grouped_votecounts"
   ]
  },
  {
   "cell_type": "markdown",
   "id": "signal-front",
   "metadata": {},
   "source": [
    "### Index i en `Series`\n",
    "\n",
    "I en enkelt `Series`, kan man refere til et bestemt index med `[]` (ligesom ved en Python liste):"
   ]
  },
  {
   "cell_type": "code",
   "execution_count": 9,
   "id": "alternate-peeing",
   "metadata": {},
   "outputs": [
    {
     "data": {
      "text/plain": [
       "'Yes'"
      ]
     },
     "execution_count": 9,
     "metadata": {},
     "output_type": "execute_result"
    }
   ],
   "source": [
    "ess2018_voteseries[10] # Refererer til 11. værdi i serien/kolonnen"
   ]
  },
  {
   "cell_type": "code",
   "execution_count": 10,
   "id": "injured-video",
   "metadata": {},
   "outputs": [
    {
     "data": {
      "text/plain": [
       "626"
      ]
     },
     "execution_count": 10,
     "metadata": {},
     "output_type": "execute_result"
    }
   ],
   "source": [
    "grouped_votecounts[0] # Refererer til første værdi i optællingen"
   ]
  }
 ],
 "metadata": {
  "kernelspec": {
   "display_name": "Python 3 (ipykernel)",
   "language": "python",
   "name": "python3"
  },
  "language_info": {
   "codemirror_mode": {
    "name": "ipython",
    "version": 3
   },
   "file_extension": ".py",
   "mimetype": "text/x-python",
   "name": "python",
   "nbconvert_exporter": "python",
   "pygments_lexer": "ipython3",
   "version": "3.9.7"
  }
 },
 "nbformat": 4,
 "nbformat_minor": 5
}
