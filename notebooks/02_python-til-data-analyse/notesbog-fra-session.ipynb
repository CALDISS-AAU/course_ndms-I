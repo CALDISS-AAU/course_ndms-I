{
 "cells": [
  {
   "cell_type": "markdown",
   "id": "d906a89e-f66f-4d02-a302-83b1fd1f3459",
   "metadata": {},
   "source": [
    "# Python til data analyse"
   ]
  },
  {
   "cell_type": "code",
   "execution_count": 8,
   "id": "07022a89-73a0-4a07-8853-ad6b8fd77624",
   "metadata": {},
   "outputs": [],
   "source": [
    "import pandas as pd"
   ]
  },
  {
   "cell_type": "code",
   "execution_count": 14,
   "id": "8e05745b-950d-4c49-aeb8-c555c5961d0c",
   "metadata": {},
   "outputs": [],
   "source": [
    "ess18 = pd.read_csv(\"https://github.com/CALDISS-AAU/course_ddf/raw/master/datasets/ESS2018DK_subset.csv\")"
   ]
  },
  {
   "cell_type": "code",
   "execution_count": 15,
   "id": "a6440eb0-2d93-4244-87f9-989d9902f0d5",
   "metadata": {},
   "outputs": [
    {
     "data": {
      "text/html": [
       "<div>\n",
       "<style scoped>\n",
       "    .dataframe tbody tr th:only-of-type {\n",
       "        vertical-align: middle;\n",
       "    }\n",
       "\n",
       "    .dataframe tbody tr th {\n",
       "        vertical-align: top;\n",
       "    }\n",
       "\n",
       "    .dataframe thead th {\n",
       "        text-align: right;\n",
       "    }\n",
       "</style>\n",
       "<table border=\"1\" class=\"dataframe\">\n",
       "  <thead>\n",
       "    <tr style=\"text-align: right;\">\n",
       "      <th></th>\n",
       "      <th>idno</th>\n",
       "      <th>netustm</th>\n",
       "      <th>ppltrst</th>\n",
       "      <th>vote</th>\n",
       "      <th>prtvtddk</th>\n",
       "      <th>lvpntyr</th>\n",
       "      <th>tygrtr</th>\n",
       "      <th>gndr</th>\n",
       "      <th>yrbrn</th>\n",
       "      <th>edlvddk</th>\n",
       "      <th>eduyrs</th>\n",
       "      <th>wkhct</th>\n",
       "      <th>wkhtot</th>\n",
       "      <th>grspnum</th>\n",
       "      <th>frlgrsp</th>\n",
       "      <th>inwtm</th>\n",
       "    </tr>\n",
       "  </thead>\n",
       "  <tbody>\n",
       "    <tr>\n",
       "      <th>0</th>\n",
       "      <td>5816</td>\n",
       "      <td>90.0</td>\n",
       "      <td>7.0</td>\n",
       "      <td>Yes</td>\n",
       "      <td>SF Socialistisk Folkeparti - Socialist People'...</td>\n",
       "      <td>1994</td>\n",
       "      <td>60</td>\n",
       "      <td>Male</td>\n",
       "      <td>1974</td>\n",
       "      <td>Mellemlang videregående uddannelse af 3-4 års ...</td>\n",
       "      <td>35.0</td>\n",
       "      <td>37.0</td>\n",
       "      <td>37.0</td>\n",
       "      <td>37000.0</td>\n",
       "      <td>35000.0</td>\n",
       "      <td>61.0</td>\n",
       "    </tr>\n",
       "    <tr>\n",
       "      <th>1</th>\n",
       "      <td>7251</td>\n",
       "      <td>300.0</td>\n",
       "      <td>5.0</td>\n",
       "      <td>Yes</td>\n",
       "      <td>Dansk Folkeparti - Danish People's Party</td>\n",
       "      <td>1993</td>\n",
       "      <td>40</td>\n",
       "      <td>Female</td>\n",
       "      <td>1975</td>\n",
       "      <td>Faglig uddannelse (håndværk, handel, landbrug ...</td>\n",
       "      <td>13.0</td>\n",
       "      <td>32.0</td>\n",
       "      <td>34.0</td>\n",
       "      <td>22000.0</td>\n",
       "      <td>30000.0</td>\n",
       "      <td>68.0</td>\n",
       "    </tr>\n",
       "    <tr>\n",
       "      <th>2</th>\n",
       "      <td>7887</td>\n",
       "      <td>360.0</td>\n",
       "      <td>8.0</td>\n",
       "      <td>Yes</td>\n",
       "      <td>Socialdemokratiet - The Social democrats</td>\n",
       "      <td>1983</td>\n",
       "      <td>55</td>\n",
       "      <td>Male</td>\n",
       "      <td>1958</td>\n",
       "      <td>Lang videregående uddannelse. Kandidatuddannel...</td>\n",
       "      <td>25.0</td>\n",
       "      <td>39.0</td>\n",
       "      <td>39.0</td>\n",
       "      <td>36000.0</td>\n",
       "      <td>42000.0</td>\n",
       "      <td>89.0</td>\n",
       "    </tr>\n",
       "    <tr>\n",
       "      <th>3</th>\n",
       "      <td>9607</td>\n",
       "      <td>540.0</td>\n",
       "      <td>9.0</td>\n",
       "      <td>Yes</td>\n",
       "      <td>Alternativet - The Alternative</td>\n",
       "      <td>1982</td>\n",
       "      <td>64</td>\n",
       "      <td>Female</td>\n",
       "      <td>1964</td>\n",
       "      <td>Mellemlang videregående uddannelse af 3-4 års ...</td>\n",
       "      <td>13.0</td>\n",
       "      <td>32.0</td>\n",
       "      <td>34.0</td>\n",
       "      <td>32000.0</td>\n",
       "      <td>NaN</td>\n",
       "      <td>50.0</td>\n",
       "    </tr>\n",
       "    <tr>\n",
       "      <th>4</th>\n",
       "      <td>11688</td>\n",
       "      <td>NaN</td>\n",
       "      <td>5.0</td>\n",
       "      <td>Yes</td>\n",
       "      <td>Socialdemokratiet - The Social democrats</td>\n",
       "      <td>1968</td>\n",
       "      <td>50</td>\n",
       "      <td>Female</td>\n",
       "      <td>1952</td>\n",
       "      <td>Faglig uddannelse (håndværk, handel, landbrug ...</td>\n",
       "      <td>2.0</td>\n",
       "      <td>37.0</td>\n",
       "      <td>37.0</td>\n",
       "      <td>NaN</td>\n",
       "      <td>NaN</td>\n",
       "      <td>77.0</td>\n",
       "    </tr>\n",
       "  </tbody>\n",
       "</table>\n",
       "</div>"
      ],
      "text/plain": [
       "    idno  netustm  ppltrst vote  \\\n",
       "0   5816     90.0      7.0  Yes   \n",
       "1   7251    300.0      5.0  Yes   \n",
       "2   7887    360.0      8.0  Yes   \n",
       "3   9607    540.0      9.0  Yes   \n",
       "4  11688      NaN      5.0  Yes   \n",
       "\n",
       "                                            prtvtddk lvpntyr tygrtr    gndr  \\\n",
       "0  SF Socialistisk Folkeparti - Socialist People'...    1994     60    Male   \n",
       "1           Dansk Folkeparti - Danish People's Party    1993     40  Female   \n",
       "2           Socialdemokratiet - The Social democrats    1983     55    Male   \n",
       "3                     Alternativet - The Alternative    1982     64  Female   \n",
       "4           Socialdemokratiet - The Social democrats    1968     50  Female   \n",
       "\n",
       "   yrbrn                                            edlvddk  eduyrs  wkhct  \\\n",
       "0   1974  Mellemlang videregående uddannelse af 3-4 års ...    35.0   37.0   \n",
       "1   1975  Faglig uddannelse (håndværk, handel, landbrug ...    13.0   32.0   \n",
       "2   1958  Lang videregående uddannelse. Kandidatuddannel...    25.0   39.0   \n",
       "3   1964  Mellemlang videregående uddannelse af 3-4 års ...    13.0   32.0   \n",
       "4   1952  Faglig uddannelse (håndværk, handel, landbrug ...     2.0   37.0   \n",
       "\n",
       "   wkhtot  grspnum  frlgrsp  inwtm  \n",
       "0    37.0  37000.0  35000.0   61.0  \n",
       "1    34.0  22000.0  30000.0   68.0  \n",
       "2    39.0  36000.0  42000.0   89.0  \n",
       "3    34.0  32000.0      NaN   50.0  \n",
       "4    37.0      NaN      NaN   77.0  "
      ]
     },
     "execution_count": 15,
     "metadata": {},
     "output_type": "execute_result"
    }
   ],
   "source": [
    "ess18.head()"
   ]
  },
  {
   "cell_type": "code",
   "execution_count": 16,
   "id": "feba897c-0352-4539-820f-5444e17fae0d",
   "metadata": {},
   "outputs": [
    {
     "data": {
      "text/plain": [
       "Index(['idno', 'netustm', 'ppltrst', 'vote', 'prtvtddk', 'lvpntyr', 'tygrtr',\n",
       "       'gndr', 'yrbrn', 'edlvddk', 'eduyrs', 'wkhct', 'wkhtot', 'grspnum',\n",
       "       'frlgrsp', 'inwtm'],\n",
       "      dtype='object')"
      ]
     },
     "execution_count": 16,
     "metadata": {},
     "output_type": "execute_result"
    }
   ],
   "source": [
    "ess18.columns"
   ]
  },
  {
   "cell_type": "code",
   "execution_count": 17,
   "id": "2b5bd862-4156-46a9-82c8-b676e818fef6",
   "metadata": {},
   "outputs": [
    {
     "data": {
      "text/plain": [
       "0    1994\n",
       "1    1993\n",
       "2    1983\n",
       "3    1982\n",
       "4    1968\n",
       "Name: lvpntyr, dtype: object"
      ]
     },
     "execution_count": 17,
     "metadata": {},
     "output_type": "execute_result"
    }
   ],
   "source": [
    "ess18[\"lvpntyr\"].head()"
   ]
  },
  {
   "cell_type": "code",
   "execution_count": 18,
   "id": "97f2a7cc-aa46-46bb-82d7-9141483c3179",
   "metadata": {},
   "outputs": [
    {
     "data": {
      "text/plain": [
       "Male      655\n",
       "Female    630\n",
       "Name: gndr, dtype: int64"
      ]
     },
     "execution_count": 18,
     "metadata": {},
     "output_type": "execute_result"
    }
   ],
   "source": [
    "ess18[\"gndr\"].value_counts()"
   ]
  },
  {
   "cell_type": "code",
   "execution_count": 19,
   "id": "6d9b7a4d-f81e-41ce-8809-18d5b12105cf",
   "metadata": {},
   "outputs": [
    {
     "data": {
      "text/html": [
       "<div>\n",
       "<style scoped>\n",
       "    .dataframe tbody tr th:only-of-type {\n",
       "        vertical-align: middle;\n",
       "    }\n",
       "\n",
       "    .dataframe tbody tr th {\n",
       "        vertical-align: top;\n",
       "    }\n",
       "\n",
       "    .dataframe thead th {\n",
       "        text-align: right;\n",
       "    }\n",
       "</style>\n",
       "<table border=\"1\" class=\"dataframe\">\n",
       "  <thead>\n",
       "    <tr style=\"text-align: right;\">\n",
       "      <th>prtvtddk</th>\n",
       "      <th>Alternativet - The Alternative</th>\n",
       "      <th>Dansk Folkeparti - Danish People's Party</th>\n",
       "      <th>Det Konservative Folkeparti - Conservative People's Party</th>\n",
       "      <th>Det Radikale Venstre - The Radical Liberal Party</th>\n",
       "      <th>Enhedslisten - Unity List - The Red-Green Alliance</th>\n",
       "      <th>Kristendemokraterne - Christian Democrats</th>\n",
       "      <th>Liberal Alliance - Liberal Alliance</th>\n",
       "      <th>Other</th>\n",
       "      <th>SF Socialistisk Folkeparti - Socialist People's Party</th>\n",
       "      <th>Socialdemokratiet - The Social democrats</th>\n",
       "      <th>Venstre, Danmarks Liberale Parti - The Liberal Party</th>\n",
       "    </tr>\n",
       "    <tr>\n",
       "      <th>gndr</th>\n",
       "      <th></th>\n",
       "      <th></th>\n",
       "      <th></th>\n",
       "      <th></th>\n",
       "      <th></th>\n",
       "      <th></th>\n",
       "      <th></th>\n",
       "      <th></th>\n",
       "      <th></th>\n",
       "      <th></th>\n",
       "      <th></th>\n",
       "    </tr>\n",
       "  </thead>\n",
       "  <tbody>\n",
       "    <tr>\n",
       "      <th>Female</th>\n",
       "      <td>28</td>\n",
       "      <td>60</td>\n",
       "      <td>21</td>\n",
       "      <td>29</td>\n",
       "      <td>43</td>\n",
       "      <td>5</td>\n",
       "      <td>14</td>\n",
       "      <td>4</td>\n",
       "      <td>40</td>\n",
       "      <td>147</td>\n",
       "      <td>124</td>\n",
       "    </tr>\n",
       "    <tr>\n",
       "      <th>Male</th>\n",
       "      <td>18</td>\n",
       "      <td>93</td>\n",
       "      <td>23</td>\n",
       "      <td>33</td>\n",
       "      <td>37</td>\n",
       "      <td>6</td>\n",
       "      <td>25</td>\n",
       "      <td>7</td>\n",
       "      <td>24</td>\n",
       "      <td>153</td>\n",
       "      <td>130</td>\n",
       "    </tr>\n",
       "  </tbody>\n",
       "</table>\n",
       "</div>"
      ],
      "text/plain": [
       "prtvtddk  Alternativet - The Alternative  \\\n",
       "gndr                                       \n",
       "Female                                28   \n",
       "Male                                  18   \n",
       "\n",
       "prtvtddk  Dansk Folkeparti - Danish People's Party  \\\n",
       "gndr                                                 \n",
       "Female                                          60   \n",
       "Male                                            93   \n",
       "\n",
       "prtvtddk  Det Konservative Folkeparti - Conservative People's Party  \\\n",
       "gndr                                                                  \n",
       "Female                                                   21           \n",
       "Male                                                     23           \n",
       "\n",
       "prtvtddk  Det Radikale Venstre - The Radical Liberal Party  \\\n",
       "gndr                                                         \n",
       "Female                                                  29   \n",
       "Male                                                    33   \n",
       "\n",
       "prtvtddk  Enhedslisten - Unity List - The Red-Green Alliance  \\\n",
       "gndr                                                           \n",
       "Female                                                   43    \n",
       "Male                                                     37    \n",
       "\n",
       "prtvtddk  Kristendemokraterne - Christian Democrats  \\\n",
       "gndr                                                  \n",
       "Female                                            5   \n",
       "Male                                              6   \n",
       "\n",
       "prtvtddk  Liberal Alliance - Liberal Alliance  Other  \\\n",
       "gndr                                                   \n",
       "Female                                     14      4   \n",
       "Male                                       25      7   \n",
       "\n",
       "prtvtddk  SF Socialistisk Folkeparti - Socialist People's Party  \\\n",
       "gndr                                                              \n",
       "Female                                                   40       \n",
       "Male                                                     24       \n",
       "\n",
       "prtvtddk  Socialdemokratiet - The Social democrats  \\\n",
       "gndr                                                 \n",
       "Female                                         147   \n",
       "Male                                           153   \n",
       "\n",
       "prtvtddk  Venstre, Danmarks Liberale Parti - The Liberal Party  \n",
       "gndr                                                            \n",
       "Female                                                  124     \n",
       "Male                                                    130     "
      ]
     },
     "execution_count": 19,
     "metadata": {},
     "output_type": "execute_result"
    }
   ],
   "source": [
    "pd.crosstab(ess18[\"gndr\"], ess18[\"prtvtddk\"])"
   ]
  },
  {
   "cell_type": "markdown",
   "id": "71783703-9041-4dd3-8043-55ddad24acef",
   "metadata": {},
   "source": [
    "## Visualisering"
   ]
  },
  {
   "cell_type": "code",
   "execution_count": 21,
   "id": "d819720f-443e-4c6e-8114-c544c398d437",
   "metadata": {},
   "outputs": [],
   "source": [
    "import matplotlib.pyplot as plt\n",
    "import seaborn as sns\n",
    "\n",
    "sns.set()\n",
    "\n",
    "plt.rcParams[\"figure.figsize\"] = (20, 10)"
   ]
  },
  {
   "cell_type": "code",
   "execution_count": 22,
   "id": "e9b58bc6-5fad-4f48-b367-a49f7c647152",
   "metadata": {},
   "outputs": [
    {
     "data": {
      "text/plain": [
       "<AxesSubplot:ylabel='Frequency'>"
      ]
     },
     "execution_count": 22,
     "metadata": {},
     "output_type": "execute_result"
    },
    {
     "data": {
      "image/png": "[encoded data removed]",
      "text/plain": [
       "<Figure size 1440x720 with 1 Axes>"
      ]
     },
     "metadata": {},
     "output_type": "display_data"
    }
   ],
   "source": [
    "ess18[\"yrbrn\"].plot.hist(bins = 30)"
   ]
  },
  {
   "cell_type": "code",
   "execution_count": 23,
   "id": "a7eb6c9f-3442-480f-8c60-9e677490ed63",
   "metadata": {},
   "outputs": [
    {
     "data": {
      "text/plain": [
       "<AxesSubplot:>"
      ]
     },
     "execution_count": 23,
     "metadata": {},
     "output_type": "execute_result"
    },
    {
     "data": {
      "image/png": "[encoded data removed]",
      "text/plain": [
       "<Figure size 1440x720 with 1 Axes>"
      ]
     },
     "metadata": {},
     "output_type": "display_data"
    }
   ],
   "source": [
    "ess18['yrbrn'].plot.box()"
   ]
  },
  {
   "cell_type": "code",
   "execution_count": 26,
   "id": "5cc3d0c5-4e90-4f17-a7f9-e869d7033d45",
   "metadata": {},
   "outputs": [],
   "source": [
    "partycount = ess18[\"prtvtddk\"].value_counts()"
   ]
  },
  {
   "cell_type": "code",
   "execution_count": 29,
   "id": "ec8bd84b-2113-46e4-b50d-3b9443c232bf",
   "metadata": {},
   "outputs": [
    {
     "data": {
      "text/plain": [
       "Socialdemokratiet - The Social democrats                     300\n",
       "Venstre, Danmarks Liberale Parti - The Liberal Party         254\n",
       "Dansk Folkeparti - Danish People's Party                     153\n",
       "Enhedslisten - Unity List - The Red-Green Alliance            80\n",
       "SF Socialistisk Folkeparti - Socialist People's Party         64\n",
       "Det Radikale Venstre - The Radical Liberal Party              62\n",
       "Alternativet - The Alternative                                46\n",
       "Det Konservative Folkeparti - Conservative People's Party     44\n",
       "Liberal Alliance - Liberal Alliance                           39\n",
       "Kristendemokraterne - Christian Democrats                     11\n",
       "Other                                                         11\n",
       "Name: prtvtddk, dtype: int64"
      ]
     },
     "execution_count": 29,
     "metadata": {},
     "output_type": "execute_result"
    }
   ],
   "source": [
    "partycount"
   ]
  },
  {
   "cell_type": "code",
   "execution_count": 28,
   "id": "04bfbc13-7eac-47f7-aabf-37578d57367e",
   "metadata": {},
   "outputs": [
    {
     "data": {
      "text/plain": [
       "<AxesSubplot:>"
      ]
     },
     "execution_count": 28,
     "metadata": {},
     "output_type": "execute_result"
    },
    {
     "data": {
      "image/png": "[encoded data removed]",
      "text/plain": [
       "<Figure size 1440x720 with 1 Axes>"
      ]
     },
     "metadata": {},
     "output_type": "display_data"
    }
   ],
   "source": [
    "partycount.plot.bar()"
   ]
  },
  {
   "cell_type": "code",
   "execution_count": 31,
   "id": "aa03d894-f9ab-47c9-a38c-df875e0fc408",
   "metadata": {},
   "outputs": [
    {
     "data": {
      "text/plain": [
       "<AxesSubplot:>"
      ]
     },
     "execution_count": 31,
     "metadata": {},
     "output_type": "execute_result"
    },
    {
     "data": {
      "image/png": "[encoded data removed]",
      "text/plain": [
       "<Figure size 1440x720 with 1 Axes>"
      ]
     },
     "metadata": {},
     "output_type": "display_data"
    }
   ],
   "source": [
    "ess18[\"prtvtddk\"].value_counts().plot.bar()"
   ]
  },
  {
   "cell_type": "code",
   "execution_count": 32,
   "id": "7c29dfd4-0560-4a23-84f8-4cc2523e81a6",
   "metadata": {},
   "outputs": [
    {
     "data": {
      "text/plain": [
       "<AxesSubplot:ylabel='prtvtddk'>"
      ]
     },
     "execution_count": 32,
     "metadata": {},
     "output_type": "execute_result"
    },
    {
     "data": {
      "image/png": "[encoded data removed]",
      "text/plain": [
       "<Figure size 1440x720 with 1 Axes>"
      ]
     },
     "metadata": {},
     "output_type": "display_data"
    }
   ],
   "source": [
    "ess18[\"prtvtddk\"].value_counts().plot.pie()"
   ]
  },
  {
   "cell_type": "code",
   "execution_count": 39,
   "id": "cf92de6b-b7ac-44cd-aa9c-28c8bc7260e2",
   "metadata": {},
   "outputs": [
    {
     "data": {
      "text/plain": [
       "<AxesSubplot:ylabel='Frequency'>"
      ]
     },
     "execution_count": 39,
     "metadata": {},
     "output_type": "execute_result"
    },
    {
     "data": {
      "image/png": "[encoded data removed]",
      "text/plain": [
       "<Figure size 1440x720 with 1 Axes>"
      ]
     },
     "metadata": {},
     "output_type": "display_data"
    }
   ],
   "source": [
    "ess18[\"grspnum\"].plot.hist(bins = 30)"
   ]
  },
  {
   "cell_type": "code",
   "execution_count": 42,
   "id": "dffba39c-4cb0-4e82-8d45-e1ef2fed00a9",
   "metadata": {},
   "outputs": [
    {
     "data": {
      "text/plain": [
       "<AxesSubplot:>"
      ]
     },
     "execution_count": 42,
     "metadata": {},
     "output_type": "execute_result"
    },
    {
     "data": {
      "image/png": "[encoded data removed]",
      "text/plain": [
       "<Figure size 1440x720 with 1 Axes>"
      ]
     },
     "metadata": {},
     "output_type": "display_data"
    }
   ],
   "source": [
    "ess18[\"edlvddk\"].value_counts().plot.bar()"
   ]
  },
  {
   "cell_type": "markdown",
   "id": "eb84f38e-d6a4-4d96-b971-75c001bcbc3b",
   "metadata": {},
   "source": [
    "## Deskriptive mål og grupperinger"
   ]
  },
  {
   "cell_type": "code",
   "execution_count": 43,
   "id": "639e19ea-ed3f-463a-9fc0-3f1a9d4e32b7",
   "metadata": {},
   "outputs": [
    {
     "data": {
      "text/html": [
       "<div>\n",
       "<style scoped>\n",
       "    .dataframe tbody tr th:only-of-type {\n",
       "        vertical-align: middle;\n",
       "    }\n",
       "\n",
       "    .dataframe tbody tr th {\n",
       "        vertical-align: top;\n",
       "    }\n",
       "\n",
       "    .dataframe thead th {\n",
       "        text-align: right;\n",
       "    }\n",
       "</style>\n",
       "<table border=\"1\" class=\"dataframe\">\n",
       "  <thead>\n",
       "    <tr style=\"text-align: right;\">\n",
       "      <th></th>\n",
       "      <th>idno</th>\n",
       "      <th>netustm</th>\n",
       "      <th>ppltrst</th>\n",
       "      <th>yrbrn</th>\n",
       "      <th>eduyrs</th>\n",
       "      <th>wkhct</th>\n",
       "      <th>wkhtot</th>\n",
       "      <th>grspnum</th>\n",
       "      <th>frlgrsp</th>\n",
       "      <th>inwtm</th>\n",
       "    </tr>\n",
       "  </thead>\n",
       "  <tbody>\n",
       "    <tr>\n",
       "      <th>count</th>\n",
       "      <td>1285.000000</td>\n",
       "      <td>1134.000000</td>\n",
       "      <td>1282.000000</td>\n",
       "      <td>1285.000000</td>\n",
       "      <td>1278.000000</td>\n",
       "      <td>1217.000000</td>\n",
       "      <td>1258.000000</td>\n",
       "      <td>7.150000e+02</td>\n",
       "      <td>252.000000</td>\n",
       "      <td>1280.000000</td>\n",
       "    </tr>\n",
       "    <tr>\n",
       "      <th>mean</th>\n",
       "      <td>110979.542412</td>\n",
       "      <td>227.431217</td>\n",
       "      <td>7.079563</td>\n",
       "      <td>1967.047471</td>\n",
       "      <td>13.996088</td>\n",
       "      <td>33.806902</td>\n",
       "      <td>36.441176</td>\n",
       "      <td>4.368549e+04</td>\n",
       "      <td>37255.230159</td>\n",
       "      <td>63.323437</td>\n",
       "    </tr>\n",
       "    <tr>\n",
       "      <th>std</th>\n",
       "      <td>25534.338367</td>\n",
       "      <td>193.406614</td>\n",
       "      <td>1.800747</td>\n",
       "      <td>18.294410</td>\n",
       "      <td>5.746878</td>\n",
       "      <td>9.399469</td>\n",
       "      <td>11.762775</td>\n",
       "      <td>1.221933e+05</td>\n",
       "      <td>33449.267184</td>\n",
       "      <td>26.102194</td>\n",
       "    </tr>\n",
       "    <tr>\n",
       "      <th>min</th>\n",
       "      <td>5816.000000</td>\n",
       "      <td>0.000000</td>\n",
       "      <td>0.000000</td>\n",
       "      <td>1929.000000</td>\n",
       "      <td>0.000000</td>\n",
       "      <td>0.000000</td>\n",
       "      <td>0.000000</td>\n",
       "      <td>0.000000e+00</td>\n",
       "      <td>0.000000</td>\n",
       "      <td>18.000000</td>\n",
       "    </tr>\n",
       "    <tr>\n",
       "      <th>25%</th>\n",
       "      <td>93707.000000</td>\n",
       "      <td>90.000000</td>\n",
       "      <td>6.000000</td>\n",
       "      <td>1952.000000</td>\n",
       "      <td>11.000000</td>\n",
       "      <td>35.000000</td>\n",
       "      <td>35.000000</td>\n",
       "      <td>2.600000e+04</td>\n",
       "      <td>28375.000000</td>\n",
       "      <td>51.000000</td>\n",
       "    </tr>\n",
       "    <tr>\n",
       "      <th>50%</th>\n",
       "      <td>112877.000000</td>\n",
       "      <td>150.000000</td>\n",
       "      <td>7.000000</td>\n",
       "      <td>1966.000000</td>\n",
       "      <td>14.000000</td>\n",
       "      <td>37.000000</td>\n",
       "      <td>37.000000</td>\n",
       "      <td>3.200000e+04</td>\n",
       "      <td>35000.000000</td>\n",
       "      <td>59.000000</td>\n",
       "    </tr>\n",
       "    <tr>\n",
       "      <th>75%</th>\n",
       "      <td>131072.000000</td>\n",
       "      <td>300.000000</td>\n",
       "      <td>8.000000</td>\n",
       "      <td>1982.000000</td>\n",
       "      <td>17.000000</td>\n",
       "      <td>37.000000</td>\n",
       "      <td>41.000000</td>\n",
       "      <td>4.100000e+04</td>\n",
       "      <td>40000.000000</td>\n",
       "      <td>70.000000</td>\n",
       "    </tr>\n",
       "    <tr>\n",
       "      <th>max</th>\n",
       "      <td>150446.000000</td>\n",
       "      <td>1020.000000</td>\n",
       "      <td>10.000000</td>\n",
       "      <td>2003.000000</td>\n",
       "      <td>40.000000</td>\n",
       "      <td>80.000000</td>\n",
       "      <td>90.000000</td>\n",
       "      <td>3.000000e+06</td>\n",
       "      <td>500000.000000</td>\n",
       "      <td>613.000000</td>\n",
       "    </tr>\n",
       "  </tbody>\n",
       "</table>\n",
       "</div>"
      ],
      "text/plain": [
       "                idno      netustm      ppltrst        yrbrn       eduyrs  \\\n",
       "count    1285.000000  1134.000000  1282.000000  1285.000000  1278.000000   \n",
       "mean   110979.542412   227.431217     7.079563  1967.047471    13.996088   \n",
       "std     25534.338367   193.406614     1.800747    18.294410     5.746878   \n",
       "min      5816.000000     0.000000     0.000000  1929.000000     0.000000   \n",
       "25%     93707.000000    90.000000     6.000000  1952.000000    11.000000   \n",
       "50%    112877.000000   150.000000     7.000000  1966.000000    14.000000   \n",
       "75%    131072.000000   300.000000     8.000000  1982.000000    17.000000   \n",
       "max    150446.000000  1020.000000    10.000000  2003.000000    40.000000   \n",
       "\n",
       "             wkhct       wkhtot       grspnum        frlgrsp        inwtm  \n",
       "count  1217.000000  1258.000000  7.150000e+02     252.000000  1280.000000  \n",
       "mean     33.806902    36.441176  4.368549e+04   37255.230159    63.323437  \n",
       "std       9.399469    11.762775  1.221933e+05   33449.267184    26.102194  \n",
       "min       0.000000     0.000000  0.000000e+00       0.000000    18.000000  \n",
       "25%      35.000000    35.000000  2.600000e+04   28375.000000    51.000000  \n",
       "50%      37.000000    37.000000  3.200000e+04   35000.000000    59.000000  \n",
       "75%      37.000000    41.000000  4.100000e+04   40000.000000    70.000000  \n",
       "max      80.000000    90.000000  3.000000e+06  500000.000000   613.000000  "
      ]
     },
     "execution_count": 43,
     "metadata": {},
     "output_type": "execute_result"
    }
   ],
   "source": [
    "ess18.describe()"
   ]
  },
  {
   "cell_type": "code",
   "execution_count": 44,
   "id": "d8790b28-e004-4e7e-a0f5-73cd57272230",
   "metadata": {},
   "outputs": [
    {
     "data": {
      "text/plain": [
       "count    1258.000000\n",
       "mean       36.441176\n",
       "std        11.762775\n",
       "min         0.000000\n",
       "25%        35.000000\n",
       "50%        37.000000\n",
       "75%        41.000000\n",
       "max        90.000000\n",
       "Name: wkhtot, dtype: float64"
      ]
     },
     "execution_count": 44,
     "metadata": {},
     "output_type": "execute_result"
    }
   ],
   "source": [
    "ess18[\"wkhtot\"].describe()"
   ]
  },
  {
   "cell_type": "code",
   "execution_count": 45,
   "id": "5b15c05a-8c4c-4075-9b6d-b23d9173f015",
   "metadata": {},
   "outputs": [
    {
     "data": {
      "text/plain": [
       "36.44117647058823"
      ]
     },
     "execution_count": 45,
     "metadata": {},
     "output_type": "execute_result"
    }
   ],
   "source": [
    "ess18[\"wkhtot\"].mean()"
   ]
  },
  {
   "cell_type": "code",
   "execution_count": 46,
   "id": "b840c1d5-d935-442b-9b7e-a3c55e9bc601",
   "metadata": {},
   "outputs": [
    {
     "data": {
      "text/plain": [
       "0.0"
      ]
     },
     "execution_count": 46,
     "metadata": {},
     "output_type": "execute_result"
    }
   ],
   "source": [
    "ess18[\"wkhtot\"].min()"
   ]
  },
  {
   "cell_type": "code",
   "execution_count": 47,
   "id": "7f9f864f-7e7c-48f3-9150-4dd1f88a55eb",
   "metadata": {},
   "outputs": [
    {
     "data": {
      "text/plain": [
       "3000000.0"
      ]
     },
     "execution_count": 47,
     "metadata": {},
     "output_type": "execute_result"
    }
   ],
   "source": [
    "ess18[\"grspnum\"].max()"
   ]
  },
  {
   "cell_type": "code",
   "execution_count": 48,
   "id": "871517a3-ac48-475d-808b-6816d80e512f",
   "metadata": {},
   "outputs": [
    {
     "data": {
      "text/plain": [
       "count     1283\n",
       "unique       3\n",
       "top        Yes\n",
       "freq      1147\n",
       "Name: vote, dtype: object"
      ]
     },
     "execution_count": 48,
     "metadata": {},
     "output_type": "execute_result"
    }
   ],
   "source": [
    "ess18[\"vote\"].describe()"
   ]
  },
  {
   "cell_type": "code",
   "execution_count": 49,
   "id": "e7577f98-f9d7-4aa5-b705-62b96a80c62d",
   "metadata": {},
   "outputs": [],
   "source": [
    "grouped_df = ess18.groupby([\"gndr\"])"
   ]
  },
  {
   "cell_type": "code",
   "execution_count": 50,
   "id": "1a776a98-f18a-4e99-abf3-383ad7b6858c",
   "metadata": {},
   "outputs": [
    {
     "data": {
      "text/plain": [
       "<pandas.core.groupby.generic.DataFrameGroupBy object at 0x7fef6d640e50>"
      ]
     },
     "execution_count": 50,
     "metadata": {},
     "output_type": "execute_result"
    }
   ],
   "source": [
    "grouped_df"
   ]
  },
  {
   "cell_type": "code",
   "execution_count": 51,
   "id": "8f6c3a86-f79c-4562-80f1-5f16b8db528e",
   "metadata": {},
   "outputs": [
    {
     "data": {
      "text/html": [
       "<div>\n",
       "<style scoped>\n",
       "    .dataframe tbody tr th:only-of-type {\n",
       "        vertical-align: middle;\n",
       "    }\n",
       "\n",
       "    .dataframe tbody tr th {\n",
       "        vertical-align: top;\n",
       "    }\n",
       "\n",
       "    .dataframe thead th {\n",
       "        text-align: right;\n",
       "    }\n",
       "</style>\n",
       "<table border=\"1\" class=\"dataframe\">\n",
       "  <thead>\n",
       "    <tr style=\"text-align: right;\">\n",
       "      <th></th>\n",
       "      <th>idno</th>\n",
       "      <th>netustm</th>\n",
       "      <th>ppltrst</th>\n",
       "      <th>yrbrn</th>\n",
       "      <th>eduyrs</th>\n",
       "      <th>wkhct</th>\n",
       "      <th>wkhtot</th>\n",
       "      <th>grspnum</th>\n",
       "      <th>frlgrsp</th>\n",
       "      <th>inwtm</th>\n",
       "    </tr>\n",
       "    <tr>\n",
       "      <th>gndr</th>\n",
       "      <th></th>\n",
       "      <th></th>\n",
       "      <th></th>\n",
       "      <th></th>\n",
       "      <th></th>\n",
       "      <th></th>\n",
       "      <th></th>\n",
       "      <th></th>\n",
       "      <th></th>\n",
       "      <th></th>\n",
       "    </tr>\n",
       "  </thead>\n",
       "  <tbody>\n",
       "    <tr>\n",
       "      <th>Female</th>\n",
       "      <td>110954.225397</td>\n",
       "      <td>223.697632</td>\n",
       "      <td>7.184127</td>\n",
       "      <td>1966.955556</td>\n",
       "      <td>14.073482</td>\n",
       "      <td>32.538462</td>\n",
       "      <td>33.960720</td>\n",
       "      <td>39475.226586</td>\n",
       "      <td>35462.131034</td>\n",
       "      <td>64.669316</td>\n",
       "    </tr>\n",
       "    <tr>\n",
       "      <th>Male</th>\n",
       "      <td>111003.893130</td>\n",
       "      <td>230.935043</td>\n",
       "      <td>6.978528</td>\n",
       "      <td>1967.135878</td>\n",
       "      <td>13.921779</td>\n",
       "      <td>35.032310</td>\n",
       "      <td>38.783617</td>\n",
       "      <td>47314.651042</td>\n",
       "      <td>39685.130841</td>\n",
       "      <td>62.023041</td>\n",
       "    </tr>\n",
       "  </tbody>\n",
       "</table>\n",
       "</div>"
      ],
      "text/plain": [
       "                 idno     netustm   ppltrst        yrbrn     eduyrs  \\\n",
       "gndr                                                                  \n",
       "Female  110954.225397  223.697632  7.184127  1966.955556  14.073482   \n",
       "Male    111003.893130  230.935043  6.978528  1967.135878  13.921779   \n",
       "\n",
       "            wkhct     wkhtot       grspnum       frlgrsp      inwtm  \n",
       "gndr                                                                 \n",
       "Female  32.538462  33.960720  39475.226586  35462.131034  64.669316  \n",
       "Male    35.032310  38.783617  47314.651042  39685.130841  62.023041  "
      ]
     },
     "execution_count": 51,
     "metadata": {},
     "output_type": "execute_result"
    }
   ],
   "source": [
    "grouped_df.mean()"
   ]
  },
  {
   "cell_type": "code",
   "execution_count": 52,
   "id": "7d25f83a-9d4e-4334-99e0-ab3988404741",
   "metadata": {},
   "outputs": [
    {
     "data": {
      "text/plain": [
       "gndr\n",
       "Female    33.960720\n",
       "Male      38.783617\n",
       "Name: wkhtot, dtype: float64"
      ]
     },
     "execution_count": 52,
     "metadata": {},
     "output_type": "execute_result"
    }
   ],
   "source": [
    "grouped_df[\"wkhtot\"].mean()"
   ]
  },
  {
   "cell_type": "code",
   "execution_count": 53,
   "id": "33ba4650-a24b-471c-af5c-e758b51731b4",
   "metadata": {},
   "outputs": [
    {
     "data": {
      "text/plain": [
       "gndr    vote                \n",
       "Female  Yes                     571\n",
       "        Not eligible to vote     37\n",
       "        No                       21\n",
       "Male    Yes                     576\n",
       "        No                       40\n",
       "        Not eligible to vote     38\n",
       "Name: vote, dtype: int64"
      ]
     },
     "execution_count": 53,
     "metadata": {},
     "output_type": "execute_result"
    }
   ],
   "source": [
    "grouped_df[\"vote\"].value_counts()"
   ]
  },
  {
   "cell_type": "code",
   "execution_count": 55,
   "id": "9edc90ff-c332-47c7-9359-89b5300cdab5",
   "metadata": {},
   "outputs": [
    {
     "data": {
      "text/plain": [
       "15"
      ]
     },
     "execution_count": 55,
     "metadata": {},
     "output_type": "execute_result"
    }
   ],
   "source": [
    "## Alder på yngste person\n",
    "\n",
    "2018 - ess18[\"yrbrn\"].max()"
   ]
  },
  {
   "cell_type": "code",
   "execution_count": 56,
   "id": "33198bf9-377d-4d1c-9821-b43c1514ca1f",
   "metadata": {},
   "outputs": [
    {
     "data": {
      "text/plain": [
       "89"
      ]
     },
     "execution_count": 56,
     "metadata": {},
     "output_type": "execute_result"
    }
   ],
   "source": [
    "## Alder på ældste\n",
    "\n",
    "2018 - ess18[\"yrbrn\"].min()"
   ]
  },
  {
   "cell_type": "code",
   "execution_count": 57,
   "id": "03bba532-b4c6-4b7c-b807-a4937475ee61",
   "metadata": {},
   "outputs": [
    {
     "data": {
      "text/plain": [
       "50.95252918287929"
      ]
     },
     "execution_count": 57,
     "metadata": {},
     "output_type": "execute_result"
    }
   ],
   "source": [
    "## Gennemsnitsalder\n",
    "\n",
    "2018 - ess18[\"yrbrn\"].mean()"
   ]
  },
  {
   "cell_type": "code",
   "execution_count": 58,
   "id": "77ffe01a-9e0d-4c87-b298-c6b6e5d11d4e",
   "metadata": {},
   "outputs": [],
   "source": [
    "grouped_df = ess18.groupby([\"gndr\"])"
   ]
  },
  {
   "cell_type": "code",
   "execution_count": 63,
   "id": "dea4d639-fd20-4f20-8a9f-89827fc560e6",
   "metadata": {},
   "outputs": [
    {
     "data": {
      "text/plain": [
       "gndr\n",
       "Female    14.073482\n",
       "Male      13.921779\n",
       "Name: eduyrs, dtype: float64"
      ]
     },
     "execution_count": 63,
     "metadata": {},
     "output_type": "execute_result"
    }
   ],
   "source": [
    "grouped_df[\"eduyrs\"].mean()"
   ]
  },
  {
   "cell_type": "markdown",
   "id": "e60dc7dd-f2c8-45e6-865c-4d0a0cf038e2",
   "metadata": {},
   "source": [
    "## Opbygning af dataframes"
   ]
  },
  {
   "cell_type": "code",
   "execution_count": 64,
   "id": "a5dc5908-6364-40a7-9bb3-397bdfb39aba",
   "metadata": {},
   "outputs": [
    {
     "data": {
      "text/plain": [
       "pandas.core.frame.DataFrame"
      ]
     },
     "execution_count": 64,
     "metadata": {},
     "output_type": "execute_result"
    }
   ],
   "source": [
    "type(ess18)"
   ]
  },
  {
   "cell_type": "code",
   "execution_count": 65,
   "id": "589a1ec9-52af-47ba-8dc9-0de62f6bada4",
   "metadata": {},
   "outputs": [],
   "source": [
    "a = 2"
   ]
  },
  {
   "cell_type": "code",
   "execution_count": 66,
   "id": "65bc1dcf-1bad-4a1d-a437-0d321a30db14",
   "metadata": {},
   "outputs": [
    {
     "data": {
      "text/plain": [
       "int"
      ]
     },
     "execution_count": 66,
     "metadata": {},
     "output_type": "execute_result"
    }
   ],
   "source": [
    "type(a)"
   ]
  },
  {
   "cell_type": "code",
   "execution_count": 67,
   "id": "15f239f5-e49b-4555-844c-b733fcd47570",
   "metadata": {},
   "outputs": [],
   "source": [
    "b = \"hello\""
   ]
  },
  {
   "cell_type": "code",
   "execution_count": 68,
   "id": "54187c63-995f-41ed-b67d-c512c9fe18dd",
   "metadata": {},
   "outputs": [
    {
     "data": {
      "text/plain": [
       "str"
      ]
     },
     "execution_count": 68,
     "metadata": {},
     "output_type": "execute_result"
    }
   ],
   "source": [
    "type(b)"
   ]
  },
  {
   "cell_type": "code",
   "execution_count": 70,
   "id": "b4733e90-cbc8-4eb7-b704-725212c8b637",
   "metadata": {},
   "outputs": [
    {
     "data": {
      "text/plain": [
       "pandas.core.series.Series"
      ]
     },
     "execution_count": 70,
     "metadata": {},
     "output_type": "execute_result"
    }
   ],
   "source": [
    "type(ess18[\"vote\"])"
   ]
  },
  {
   "cell_type": "code",
   "execution_count": 71,
   "id": "294b331f-8910-4074-8c82-2215ae2e73e4",
   "metadata": {},
   "outputs": [],
   "source": [
    "vote_s = ess18[\"vote\"]"
   ]
  },
  {
   "cell_type": "code",
   "execution_count": 75,
   "id": "75355ffb-9e1e-45f9-bfcd-438b42751a9b",
   "metadata": {},
   "outputs": [
    {
     "data": {
      "text/plain": [
       "'Yes'"
      ]
     },
     "execution_count": 75,
     "metadata": {},
     "output_type": "execute_result"
    }
   ],
   "source": [
    "vote_s[10]"
   ]
  },
  {
   "cell_type": "code",
   "execution_count": 73,
   "id": "85d4a3c6-1291-45be-ada2-cc6930d8bfa5",
   "metadata": {},
   "outputs": [],
   "source": [
    "a_list = [2,5,6]"
   ]
  },
  {
   "cell_type": "code",
   "execution_count": 76,
   "id": "73f00781-3d00-4bff-afa4-ea42cf6b4c0b",
   "metadata": {},
   "outputs": [
    {
     "data": {
      "text/plain": [
       "6"
      ]
     },
     "execution_count": 76,
     "metadata": {},
     "output_type": "execute_result"
    }
   ],
   "source": [
    "a_list[2]"
   ]
  },
  {
   "cell_type": "code",
   "execution_count": 77,
   "id": "1646ca47-4420-49ed-8d58-635eaad19b6a",
   "metadata": {},
   "outputs": [
    {
     "ename": "AttributeError",
     "evalue": "'list' object has no attribute 'mean'",
     "output_type": "error",
     "traceback": [
      "\u001b[0;31m---------------------------------------------------------------------------\u001b[0m",
      "\u001b[0;31mAttributeError\u001b[0m                            Traceback (most recent call last)",
      "Input \u001b[0;32mIn [77]\u001b[0m, in \u001b[0;36m<module>\u001b[0;34m\u001b[0m\n\u001b[0;32m----> 1\u001b[0m \u001b[43ma_list\u001b[49m\u001b[38;5;241;43m.\u001b[39;49m\u001b[43mmean\u001b[49m()\n",
      "\u001b[0;31mAttributeError\u001b[0m: 'list' object has no attribute 'mean'"
     ]
    }
   ],
   "source": [
    "a_list.mean()"
   ]
  },
  {
   "cell_type": "code",
   "execution_count": 78,
   "id": "caa6a546-4263-46a6-a63a-6a940f219db2",
   "metadata": {},
   "outputs": [],
   "source": [
    "a_series = pd.Series(a_list)"
   ]
  },
  {
   "cell_type": "code",
   "execution_count": 79,
   "id": "aa856665-7659-4443-b80b-7a7ae0723638",
   "metadata": {},
   "outputs": [
    {
     "data": {
      "text/plain": [
       "[2, 5, 6]"
      ]
     },
     "execution_count": 79,
     "metadata": {},
     "output_type": "execute_result"
    }
   ],
   "source": [
    "a_list"
   ]
  },
  {
   "cell_type": "code",
   "execution_count": 80,
   "id": "a56040d3-9a35-4ce4-8d29-69851fde1f85",
   "metadata": {},
   "outputs": [
    {
     "data": {
      "text/plain": [
       "0    2\n",
       "1    5\n",
       "2    6\n",
       "dtype: int64"
      ]
     },
     "execution_count": 80,
     "metadata": {},
     "output_type": "execute_result"
    }
   ],
   "source": [
    "a_series"
   ]
  },
  {
   "cell_type": "code",
   "execution_count": 81,
   "id": "07dea17a-22bd-4648-bb22-c44bf1bf963e",
   "metadata": {},
   "outputs": [
    {
     "data": {
      "text/plain": [
       "4.333333333333333"
      ]
     },
     "execution_count": 81,
     "metadata": {},
     "output_type": "execute_result"
    }
   ],
   "source": [
    "a_series.mean()"
   ]
  },
  {
   "cell_type": "code",
   "execution_count": 83,
   "id": "f98d6d09-97cf-4713-9c4f-f27543bda31f",
   "metadata": {},
   "outputs": [
    {
     "data": {
      "text/plain": [
       "[0, 1, 2, 3, 4, 5, 6, 7, 8, 9]"
      ]
     },
     "execution_count": 83,
     "metadata": {},
     "output_type": "execute_result"
    }
   ],
   "source": [
    "list(ess18.index)[0:10]"
   ]
  },
  {
   "cell_type": "code",
   "execution_count": 86,
   "id": "b261f589-8038-4f55-83e0-f5f1b69d57e5",
   "metadata": {},
   "outputs": [
    {
     "data": {
      "text/plain": [
       "<pandas.core.groupby.generic.DataFrameGroupBy object at 0x7fef6f42fb50>"
      ]
     },
     "execution_count": 86,
     "metadata": {},
     "output_type": "execute_result"
    }
   ],
   "source": [
    "grouped_df"
   ]
  },
  {
   "cell_type": "code",
   "execution_count": 87,
   "id": "1048e6c3-912d-4eae-9915-f30560a2d9b0",
   "metadata": {},
   "outputs": [],
   "source": [
    "grouped_vote = grouped_df[\"vote\"].value_counts()"
   ]
  },
  {
   "cell_type": "code",
   "execution_count": 89,
   "id": "3994da5b-3086-4b5f-81b5-5edee49f7b07",
   "metadata": {},
   "outputs": [
    {
     "data": {
      "text/plain": [
       "pandas.core.series.Series"
      ]
     },
     "execution_count": 89,
     "metadata": {},
     "output_type": "execute_result"
    }
   ],
   "source": [
    "type(grouped_vote)"
   ]
  },
  {
   "cell_type": "code",
   "execution_count": 90,
   "id": "3a065137-416d-4100-b8d5-0436fbcfd1d1",
   "metadata": {},
   "outputs": [
    {
     "data": {
      "text/plain": [
       "gndr    vote                \n",
       "Female  Yes                     571\n",
       "        Not eligible to vote     37\n",
       "        No                       21\n",
       "Male    Yes                     576\n",
       "        No                       40\n",
       "        Not eligible to vote     38\n",
       "Name: vote, dtype: int64"
      ]
     },
     "execution_count": 90,
     "metadata": {},
     "output_type": "execute_result"
    }
   ],
   "source": [
    "grouped_vote"
   ]
  },
  {
   "cell_type": "code",
   "execution_count": 91,
   "id": "6c0895cc-3bf7-4a0a-9a15-fa375cd082a0",
   "metadata": {},
   "outputs": [
    {
     "data": {
      "text/plain": [
       "MultiIndex([('Female',                  'Yes'),\n",
       "            ('Female', 'Not eligible to vote'),\n",
       "            ('Female',                   'No'),\n",
       "            (  'Male',                  'Yes'),\n",
       "            (  'Male',                   'No'),\n",
       "            (  'Male', 'Not eligible to vote')],\n",
       "           names=['gndr', 'vote'])"
      ]
     },
     "execution_count": 91,
     "metadata": {},
     "output_type": "execute_result"
    }
   ],
   "source": [
    "grouped_vote.index"
   ]
  },
  {
   "cell_type": "markdown",
   "id": "52a95ae7-f7d7-40ff-956f-7a357b6c52f5",
   "metadata": {},
   "source": [
    "## Datahåndtering"
   ]
  },
  {
   "cell_type": "code",
   "execution_count": 92,
   "id": "65aa958d-b68c-423c-83ff-7f2fbabf6a3a",
   "metadata": {},
   "outputs": [
    {
     "data": {
      "text/html": [
       "<div>\n",
       "<style scoped>\n",
       "    .dataframe tbody tr th:only-of-type {\n",
       "        vertical-align: middle;\n",
       "    }\n",
       "\n",
       "    .dataframe tbody tr th {\n",
       "        vertical-align: top;\n",
       "    }\n",
       "\n",
       "    .dataframe thead th {\n",
       "        text-align: right;\n",
       "    }\n",
       "</style>\n",
       "<table border=\"1\" class=\"dataframe\">\n",
       "  <thead>\n",
       "    <tr style=\"text-align: right;\">\n",
       "      <th></th>\n",
       "      <th>gndr</th>\n",
       "      <th>vote</th>\n",
       "    </tr>\n",
       "  </thead>\n",
       "  <tbody>\n",
       "    <tr>\n",
       "      <th>0</th>\n",
       "      <td>Male</td>\n",
       "      <td>Yes</td>\n",
       "    </tr>\n",
       "    <tr>\n",
       "      <th>1</th>\n",
       "      <td>Female</td>\n",
       "      <td>Yes</td>\n",
       "    </tr>\n",
       "    <tr>\n",
       "      <th>2</th>\n",
       "      <td>Male</td>\n",
       "      <td>Yes</td>\n",
       "    </tr>\n",
       "    <tr>\n",
       "      <th>3</th>\n",
       "      <td>Female</td>\n",
       "      <td>Yes</td>\n",
       "    </tr>\n",
       "    <tr>\n",
       "      <th>4</th>\n",
       "      <td>Female</td>\n",
       "      <td>Yes</td>\n",
       "    </tr>\n",
       "    <tr>\n",
       "      <th>...</th>\n",
       "      <td>...</td>\n",
       "      <td>...</td>\n",
       "    </tr>\n",
       "    <tr>\n",
       "      <th>1280</th>\n",
       "      <td>Male</td>\n",
       "      <td>Not eligible to vote</td>\n",
       "    </tr>\n",
       "    <tr>\n",
       "      <th>1281</th>\n",
       "      <td>Female</td>\n",
       "      <td>Yes</td>\n",
       "    </tr>\n",
       "    <tr>\n",
       "      <th>1282</th>\n",
       "      <td>Male</td>\n",
       "      <td>Yes</td>\n",
       "    </tr>\n",
       "    <tr>\n",
       "      <th>1283</th>\n",
       "      <td>Female</td>\n",
       "      <td>Yes</td>\n",
       "    </tr>\n",
       "    <tr>\n",
       "      <th>1284</th>\n",
       "      <td>Male</td>\n",
       "      <td>No</td>\n",
       "    </tr>\n",
       "  </tbody>\n",
       "</table>\n",
       "<p>1285 rows × 2 columns</p>\n",
       "</div>"
      ],
      "text/plain": [
       "        gndr                  vote\n",
       "0       Male                   Yes\n",
       "1     Female                   Yes\n",
       "2       Male                   Yes\n",
       "3     Female                   Yes\n",
       "4     Female                   Yes\n",
       "...      ...                   ...\n",
       "1280    Male  Not eligible to vote\n",
       "1281  Female                   Yes\n",
       "1282    Male                   Yes\n",
       "1283  Female                   Yes\n",
       "1284    Male                    No\n",
       "\n",
       "[1285 rows x 2 columns]"
      ]
     },
     "execution_count": 92,
     "metadata": {},
     "output_type": "execute_result"
    }
   ],
   "source": [
    "ess18.loc[:, [\"gndr\", \"vote\"]]"
   ]
  },
  {
   "cell_type": "code",
   "execution_count": 93,
   "id": "7383bf33-9966-462d-8874-afe69f356910",
   "metadata": {},
   "outputs": [
    {
     "data": {
      "text/html": [
       "<div>\n",
       "<style scoped>\n",
       "    .dataframe tbody tr th:only-of-type {\n",
       "        vertical-align: middle;\n",
       "    }\n",
       "\n",
       "    .dataframe tbody tr th {\n",
       "        vertical-align: top;\n",
       "    }\n",
       "\n",
       "    .dataframe thead th {\n",
       "        text-align: right;\n",
       "    }\n",
       "</style>\n",
       "<table border=\"1\" class=\"dataframe\">\n",
       "  <thead>\n",
       "    <tr style=\"text-align: right;\">\n",
       "      <th></th>\n",
       "      <th>gndr</th>\n",
       "      <th>vote</th>\n",
       "    </tr>\n",
       "  </thead>\n",
       "  <tbody>\n",
       "    <tr>\n",
       "      <th>0</th>\n",
       "      <td>Male</td>\n",
       "      <td>Yes</td>\n",
       "    </tr>\n",
       "    <tr>\n",
       "      <th>1</th>\n",
       "      <td>Female</td>\n",
       "      <td>Yes</td>\n",
       "    </tr>\n",
       "    <tr>\n",
       "      <th>2</th>\n",
       "      <td>Male</td>\n",
       "      <td>Yes</td>\n",
       "    </tr>\n",
       "    <tr>\n",
       "      <th>3</th>\n",
       "      <td>Female</td>\n",
       "      <td>Yes</td>\n",
       "    </tr>\n",
       "    <tr>\n",
       "      <th>4</th>\n",
       "      <td>Female</td>\n",
       "      <td>Yes</td>\n",
       "    </tr>\n",
       "    <tr>\n",
       "      <th>...</th>\n",
       "      <td>...</td>\n",
       "      <td>...</td>\n",
       "    </tr>\n",
       "    <tr>\n",
       "      <th>1280</th>\n",
       "      <td>Male</td>\n",
       "      <td>Not eligible to vote</td>\n",
       "    </tr>\n",
       "    <tr>\n",
       "      <th>1281</th>\n",
       "      <td>Female</td>\n",
       "      <td>Yes</td>\n",
       "    </tr>\n",
       "    <tr>\n",
       "      <th>1282</th>\n",
       "      <td>Male</td>\n",
       "      <td>Yes</td>\n",
       "    </tr>\n",
       "    <tr>\n",
       "      <th>1283</th>\n",
       "      <td>Female</td>\n",
       "      <td>Yes</td>\n",
       "    </tr>\n",
       "    <tr>\n",
       "      <th>1284</th>\n",
       "      <td>Male</td>\n",
       "      <td>No</td>\n",
       "    </tr>\n",
       "  </tbody>\n",
       "</table>\n",
       "<p>1285 rows × 2 columns</p>\n",
       "</div>"
      ],
      "text/plain": [
       "        gndr                  vote\n",
       "0       Male                   Yes\n",
       "1     Female                   Yes\n",
       "2       Male                   Yes\n",
       "3     Female                   Yes\n",
       "4     Female                   Yes\n",
       "...      ...                   ...\n",
       "1280    Male  Not eligible to vote\n",
       "1281  Female                   Yes\n",
       "1282    Male                   Yes\n",
       "1283  Female                   Yes\n",
       "1284    Male                    No\n",
       "\n",
       "[1285 rows x 2 columns]"
      ]
     },
     "execution_count": 93,
     "metadata": {},
     "output_type": "execute_result"
    }
   ],
   "source": [
    "ess18[[\"gndr\", \"vote\"]]"
   ]
  },
  {
   "cell_type": "code",
   "execution_count": 94,
   "id": "730787ff-6e2d-49d0-8e32-d45959d81b07",
   "metadata": {},
   "outputs": [
    {
     "data": {
      "text/html": [
       "<div>\n",
       "<style scoped>\n",
       "    .dataframe tbody tr th:only-of-type {\n",
       "        vertical-align: middle;\n",
       "    }\n",
       "\n",
       "    .dataframe tbody tr th {\n",
       "        vertical-align: top;\n",
       "    }\n",
       "\n",
       "    .dataframe thead th {\n",
       "        text-align: right;\n",
       "    }\n",
       "</style>\n",
       "<table border=\"1\" class=\"dataframe\">\n",
       "  <thead>\n",
       "    <tr style=\"text-align: right;\">\n",
       "      <th></th>\n",
       "      <th>gndr</th>\n",
       "      <th>vote</th>\n",
       "    </tr>\n",
       "  </thead>\n",
       "  <tbody>\n",
       "    <tr>\n",
       "      <th>2</th>\n",
       "      <td>Male</td>\n",
       "      <td>Yes</td>\n",
       "    </tr>\n",
       "    <tr>\n",
       "      <th>3</th>\n",
       "      <td>Female</td>\n",
       "      <td>Yes</td>\n",
       "    </tr>\n",
       "    <tr>\n",
       "      <th>4</th>\n",
       "      <td>Female</td>\n",
       "      <td>Yes</td>\n",
       "    </tr>\n",
       "    <tr>\n",
       "      <th>5</th>\n",
       "      <td>Male</td>\n",
       "      <td>Yes</td>\n",
       "    </tr>\n",
       "    <tr>\n",
       "      <th>6</th>\n",
       "      <td>Male</td>\n",
       "      <td>Yes</td>\n",
       "    </tr>\n",
       "    <tr>\n",
       "      <th>7</th>\n",
       "      <td>Female</td>\n",
       "      <td>Yes</td>\n",
       "    </tr>\n",
       "    <tr>\n",
       "      <th>8</th>\n",
       "      <td>Female</td>\n",
       "      <td>Yes</td>\n",
       "    </tr>\n",
       "    <tr>\n",
       "      <th>9</th>\n",
       "      <td>Male</td>\n",
       "      <td>Yes</td>\n",
       "    </tr>\n",
       "    <tr>\n",
       "      <th>10</th>\n",
       "      <td>Female</td>\n",
       "      <td>Yes</td>\n",
       "    </tr>\n",
       "  </tbody>\n",
       "</table>\n",
       "</div>"
      ],
      "text/plain": [
       "      gndr vote\n",
       "2     Male  Yes\n",
       "3   Female  Yes\n",
       "4   Female  Yes\n",
       "5     Male  Yes\n",
       "6     Male  Yes\n",
       "7   Female  Yes\n",
       "8   Female  Yes\n",
       "9     Male  Yes\n",
       "10  Female  Yes"
      ]
     },
     "execution_count": 94,
     "metadata": {},
     "output_type": "execute_result"
    }
   ],
   "source": [
    "ess18.loc[2:10, [\"gndr\", \"vote\"]]"
   ]
  },
  {
   "cell_type": "code",
   "execution_count": 95,
   "id": "de6234fb-9219-429b-9b3e-4f8fdbbcff04",
   "metadata": {},
   "outputs": [],
   "source": [
    "ess18_subset = ess18.loc[2:10, [\"gndr\", \"vote\"]]"
   ]
  },
  {
   "cell_type": "code",
   "execution_count": 96,
   "id": "9a52be7a-6a9b-40fa-9eb7-dc43ffec11c7",
   "metadata": {},
   "outputs": [
    {
     "data": {
      "text/html": [
       "<div>\n",
       "<style scoped>\n",
       "    .dataframe tbody tr th:only-of-type {\n",
       "        vertical-align: middle;\n",
       "    }\n",
       "\n",
       "    .dataframe tbody tr th {\n",
       "        vertical-align: top;\n",
       "    }\n",
       "\n",
       "    .dataframe thead th {\n",
       "        text-align: right;\n",
       "    }\n",
       "</style>\n",
       "<table border=\"1\" class=\"dataframe\">\n",
       "  <thead>\n",
       "    <tr style=\"text-align: right;\">\n",
       "      <th></th>\n",
       "      <th>gndr</th>\n",
       "      <th>vote</th>\n",
       "    </tr>\n",
       "  </thead>\n",
       "  <tbody>\n",
       "    <tr>\n",
       "      <th>2</th>\n",
       "      <td>Male</td>\n",
       "      <td>Yes</td>\n",
       "    </tr>\n",
       "    <tr>\n",
       "      <th>3</th>\n",
       "      <td>Female</td>\n",
       "      <td>Yes</td>\n",
       "    </tr>\n",
       "    <tr>\n",
       "      <th>4</th>\n",
       "      <td>Female</td>\n",
       "      <td>Yes</td>\n",
       "    </tr>\n",
       "    <tr>\n",
       "      <th>5</th>\n",
       "      <td>Male</td>\n",
       "      <td>Yes</td>\n",
       "    </tr>\n",
       "    <tr>\n",
       "      <th>6</th>\n",
       "      <td>Male</td>\n",
       "      <td>Yes</td>\n",
       "    </tr>\n",
       "    <tr>\n",
       "      <th>7</th>\n",
       "      <td>Female</td>\n",
       "      <td>Yes</td>\n",
       "    </tr>\n",
       "    <tr>\n",
       "      <th>8</th>\n",
       "      <td>Female</td>\n",
       "      <td>Yes</td>\n",
       "    </tr>\n",
       "    <tr>\n",
       "      <th>9</th>\n",
       "      <td>Male</td>\n",
       "      <td>Yes</td>\n",
       "    </tr>\n",
       "    <tr>\n",
       "      <th>10</th>\n",
       "      <td>Female</td>\n",
       "      <td>Yes</td>\n",
       "    </tr>\n",
       "  </tbody>\n",
       "</table>\n",
       "</div>"
      ],
      "text/plain": [
       "      gndr vote\n",
       "2     Male  Yes\n",
       "3   Female  Yes\n",
       "4   Female  Yes\n",
       "5     Male  Yes\n",
       "6     Male  Yes\n",
       "7   Female  Yes\n",
       "8   Female  Yes\n",
       "9     Male  Yes\n",
       "10  Female  Yes"
      ]
     },
     "execution_count": 96,
     "metadata": {},
     "output_type": "execute_result"
    }
   ],
   "source": [
    "ess18_subset"
   ]
  },
  {
   "cell_type": "code",
   "execution_count": 97,
   "id": "54308bd6-033c-4633-bdc0-4d2bd64bf4f9",
   "metadata": {},
   "outputs": [
    {
     "data": {
      "text/html": [
       "<div>\n",
       "<style scoped>\n",
       "    .dataframe tbody tr th:only-of-type {\n",
       "        vertical-align: middle;\n",
       "    }\n",
       "\n",
       "    .dataframe tbody tr th {\n",
       "        vertical-align: top;\n",
       "    }\n",
       "\n",
       "    .dataframe thead th {\n",
       "        text-align: right;\n",
       "    }\n",
       "</style>\n",
       "<table border=\"1\" class=\"dataframe\">\n",
       "  <thead>\n",
       "    <tr style=\"text-align: right;\">\n",
       "      <th></th>\n",
       "      <th>gndr</th>\n",
       "      <th>vote</th>\n",
       "      <th>eduyrs</th>\n",
       "    </tr>\n",
       "  </thead>\n",
       "  <tbody>\n",
       "    <tr>\n",
       "      <th>0</th>\n",
       "      <td>Male</td>\n",
       "      <td>Yes</td>\n",
       "      <td>35.0</td>\n",
       "    </tr>\n",
       "    <tr>\n",
       "      <th>1</th>\n",
       "      <td>Female</td>\n",
       "      <td>Yes</td>\n",
       "      <td>13.0</td>\n",
       "    </tr>\n",
       "    <tr>\n",
       "      <th>2</th>\n",
       "      <td>Male</td>\n",
       "      <td>Yes</td>\n",
       "      <td>25.0</td>\n",
       "    </tr>\n",
       "    <tr>\n",
       "      <th>3</th>\n",
       "      <td>Female</td>\n",
       "      <td>Yes</td>\n",
       "      <td>13.0</td>\n",
       "    </tr>\n",
       "    <tr>\n",
       "      <th>5</th>\n",
       "      <td>Male</td>\n",
       "      <td>Yes</td>\n",
       "      <td>14.0</td>\n",
       "    </tr>\n",
       "    <tr>\n",
       "      <th>...</th>\n",
       "      <td>...</td>\n",
       "      <td>...</td>\n",
       "      <td>...</td>\n",
       "    </tr>\n",
       "    <tr>\n",
       "      <th>1279</th>\n",
       "      <td>Female</td>\n",
       "      <td>Yes</td>\n",
       "      <td>18.0</td>\n",
       "    </tr>\n",
       "    <tr>\n",
       "      <th>1280</th>\n",
       "      <td>Male</td>\n",
       "      <td>Not eligible to vote</td>\n",
       "      <td>20.0</td>\n",
       "    </tr>\n",
       "    <tr>\n",
       "      <th>1281</th>\n",
       "      <td>Female</td>\n",
       "      <td>Yes</td>\n",
       "      <td>18.0</td>\n",
       "    </tr>\n",
       "    <tr>\n",
       "      <th>1282</th>\n",
       "      <td>Male</td>\n",
       "      <td>Yes</td>\n",
       "      <td>35.0</td>\n",
       "    </tr>\n",
       "    <tr>\n",
       "      <th>1283</th>\n",
       "      <td>Female</td>\n",
       "      <td>Yes</td>\n",
       "      <td>18.0</td>\n",
       "    </tr>\n",
       "  </tbody>\n",
       "</table>\n",
       "<p>1008 rows × 3 columns</p>\n",
       "</div>"
      ],
      "text/plain": [
       "        gndr                  vote  eduyrs\n",
       "0       Male                   Yes    35.0\n",
       "1     Female                   Yes    13.0\n",
       "2       Male                   Yes    25.0\n",
       "3     Female                   Yes    13.0\n",
       "5       Male                   Yes    14.0\n",
       "...      ...                   ...     ...\n",
       "1279  Female                   Yes    18.0\n",
       "1280    Male  Not eligible to vote    20.0\n",
       "1281  Female                   Yes    18.0\n",
       "1282    Male                   Yes    35.0\n",
       "1283  Female                   Yes    18.0\n",
       "\n",
       "[1008 rows x 3 columns]"
      ]
     },
     "execution_count": 97,
     "metadata": {},
     "output_type": "execute_result"
    }
   ],
   "source": [
    "ess18.loc[ess18[\"eduyrs\"] > 10, [\"gndr\", \"vote\", \"eduyrs\"]]"
   ]
  },
  {
   "cell_type": "code",
   "execution_count": 98,
   "id": "2bf9a722-3278-464b-a0b4-29d47fab7338",
   "metadata": {},
   "outputs": [
    {
     "data": {
      "text/html": [
       "<div>\n",
       "<style scoped>\n",
       "    .dataframe tbody tr th:only-of-type {\n",
       "        vertical-align: middle;\n",
       "    }\n",
       "\n",
       "    .dataframe tbody tr th {\n",
       "        vertical-align: top;\n",
       "    }\n",
       "\n",
       "    .dataframe thead th {\n",
       "        text-align: right;\n",
       "    }\n",
       "</style>\n",
       "<table border=\"1\" class=\"dataframe\">\n",
       "  <thead>\n",
       "    <tr style=\"text-align: right;\">\n",
       "      <th></th>\n",
       "      <th>gndr</th>\n",
       "      <th>vote</th>\n",
       "      <th>eduyrs</th>\n",
       "    </tr>\n",
       "  </thead>\n",
       "  <tbody>\n",
       "    <tr>\n",
       "      <th>1</th>\n",
       "      <td>Female</td>\n",
       "      <td>Yes</td>\n",
       "      <td>13.0</td>\n",
       "    </tr>\n",
       "    <tr>\n",
       "      <th>3</th>\n",
       "      <td>Female</td>\n",
       "      <td>Yes</td>\n",
       "      <td>13.0</td>\n",
       "    </tr>\n",
       "    <tr>\n",
       "      <th>7</th>\n",
       "      <td>Female</td>\n",
       "      <td>Yes</td>\n",
       "      <td>13.0</td>\n",
       "    </tr>\n",
       "    <tr>\n",
       "      <th>8</th>\n",
       "      <td>Female</td>\n",
       "      <td>Yes</td>\n",
       "      <td>21.0</td>\n",
       "    </tr>\n",
       "    <tr>\n",
       "      <th>10</th>\n",
       "      <td>Female</td>\n",
       "      <td>Yes</td>\n",
       "      <td>19.0</td>\n",
       "    </tr>\n",
       "    <tr>\n",
       "      <th>...</th>\n",
       "      <td>...</td>\n",
       "      <td>...</td>\n",
       "      <td>...</td>\n",
       "    </tr>\n",
       "    <tr>\n",
       "      <th>1276</th>\n",
       "      <td>Female</td>\n",
       "      <td>Yes</td>\n",
       "      <td>12.0</td>\n",
       "    </tr>\n",
       "    <tr>\n",
       "      <th>1277</th>\n",
       "      <td>Female</td>\n",
       "      <td>Yes</td>\n",
       "      <td>11.0</td>\n",
       "    </tr>\n",
       "    <tr>\n",
       "      <th>1279</th>\n",
       "      <td>Female</td>\n",
       "      <td>Yes</td>\n",
       "      <td>18.0</td>\n",
       "    </tr>\n",
       "    <tr>\n",
       "      <th>1281</th>\n",
       "      <td>Female</td>\n",
       "      <td>Yes</td>\n",
       "      <td>18.0</td>\n",
       "    </tr>\n",
       "    <tr>\n",
       "      <th>1283</th>\n",
       "      <td>Female</td>\n",
       "      <td>Yes</td>\n",
       "      <td>18.0</td>\n",
       "    </tr>\n",
       "  </tbody>\n",
       "</table>\n",
       "<p>496 rows × 3 columns</p>\n",
       "</div>"
      ],
      "text/plain": [
       "        gndr vote  eduyrs\n",
       "1     Female  Yes    13.0\n",
       "3     Female  Yes    13.0\n",
       "7     Female  Yes    13.0\n",
       "8     Female  Yes    21.0\n",
       "10    Female  Yes    19.0\n",
       "...      ...  ...     ...\n",
       "1276  Female  Yes    12.0\n",
       "1277  Female  Yes    11.0\n",
       "1279  Female  Yes    18.0\n",
       "1281  Female  Yes    18.0\n",
       "1283  Female  Yes    18.0\n",
       "\n",
       "[496 rows x 3 columns]"
      ]
     },
     "execution_count": 98,
     "metadata": {},
     "output_type": "execute_result"
    }
   ],
   "source": [
    "ess18.loc[(ess18[\"eduyrs\"] > 10) & (ess18[\"gndr\"] == \"Female\"), [\"gndr\", \"vote\", \"eduyrs\"]]"
   ]
  },
  {
   "cell_type": "markdown",
   "id": "a6238cc8-cc9d-4ec3-89b3-f8a7e5ff7ce9",
   "metadata": {},
   "source": [
    "## Rekodning/nye variable"
   ]
  },
  {
   "cell_type": "code",
   "execution_count": 99,
   "id": "3eb390bc-86e9-487c-93f3-d4a18b2da60e",
   "metadata": {},
   "outputs": [
    {
     "data": {
      "text/html": [
       "<div>\n",
       "<style scoped>\n",
       "    .dataframe tbody tr th:only-of-type {\n",
       "        vertical-align: middle;\n",
       "    }\n",
       "\n",
       "    .dataframe tbody tr th {\n",
       "        vertical-align: top;\n",
       "    }\n",
       "\n",
       "    .dataframe thead th {\n",
       "        text-align: right;\n",
       "    }\n",
       "</style>\n",
       "<table border=\"1\" class=\"dataframe\">\n",
       "  <thead>\n",
       "    <tr style=\"text-align: right;\">\n",
       "      <th></th>\n",
       "      <th>idno</th>\n",
       "      <th>netustm</th>\n",
       "      <th>ppltrst</th>\n",
       "      <th>vote</th>\n",
       "      <th>prtvtddk</th>\n",
       "      <th>lvpntyr</th>\n",
       "      <th>tygrtr</th>\n",
       "      <th>gndr</th>\n",
       "      <th>yrbrn</th>\n",
       "      <th>edlvddk</th>\n",
       "      <th>eduyrs</th>\n",
       "      <th>wkhct</th>\n",
       "      <th>wkhtot</th>\n",
       "      <th>grspnum</th>\n",
       "      <th>frlgrsp</th>\n",
       "      <th>inwtm</th>\n",
       "    </tr>\n",
       "  </thead>\n",
       "  <tbody>\n",
       "    <tr>\n",
       "      <th>0</th>\n",
       "      <td>5816</td>\n",
       "      <td>90.0</td>\n",
       "      <td>7.0</td>\n",
       "      <td>Yes</td>\n",
       "      <td>SF Socialistisk Folkeparti - Socialist People'...</td>\n",
       "      <td>1994</td>\n",
       "      <td>60</td>\n",
       "      <td>Male</td>\n",
       "      <td>1974</td>\n",
       "      <td>Mellemlang videregående uddannelse af 3-4 års ...</td>\n",
       "      <td>35.0</td>\n",
       "      <td>37.0</td>\n",
       "      <td>37.0</td>\n",
       "      <td>37000.0</td>\n",
       "      <td>35000.0</td>\n",
       "      <td>61.0</td>\n",
       "    </tr>\n",
       "    <tr>\n",
       "      <th>1</th>\n",
       "      <td>7251</td>\n",
       "      <td>300.0</td>\n",
       "      <td>5.0</td>\n",
       "      <td>Yes</td>\n",
       "      <td>Dansk Folkeparti - Danish People's Party</td>\n",
       "      <td>1993</td>\n",
       "      <td>40</td>\n",
       "      <td>Female</td>\n",
       "      <td>1975</td>\n",
       "      <td>Faglig uddannelse (håndværk, handel, landbrug ...</td>\n",
       "      <td>13.0</td>\n",
       "      <td>32.0</td>\n",
       "      <td>34.0</td>\n",
       "      <td>22000.0</td>\n",
       "      <td>30000.0</td>\n",
       "      <td>68.0</td>\n",
       "    </tr>\n",
       "    <tr>\n",
       "      <th>2</th>\n",
       "      <td>7887</td>\n",
       "      <td>360.0</td>\n",
       "      <td>8.0</td>\n",
       "      <td>Yes</td>\n",
       "      <td>Socialdemokratiet - The Social democrats</td>\n",
       "      <td>1983</td>\n",
       "      <td>55</td>\n",
       "      <td>Male</td>\n",
       "      <td>1958</td>\n",
       "      <td>Lang videregående uddannelse. Kandidatuddannel...</td>\n",
       "      <td>25.0</td>\n",
       "      <td>39.0</td>\n",
       "      <td>39.0</td>\n",
       "      <td>36000.0</td>\n",
       "      <td>42000.0</td>\n",
       "      <td>89.0</td>\n",
       "    </tr>\n",
       "    <tr>\n",
       "      <th>3</th>\n",
       "      <td>9607</td>\n",
       "      <td>540.0</td>\n",
       "      <td>9.0</td>\n",
       "      <td>Yes</td>\n",
       "      <td>Alternativet - The Alternative</td>\n",
       "      <td>1982</td>\n",
       "      <td>64</td>\n",
       "      <td>Female</td>\n",
       "      <td>1964</td>\n",
       "      <td>Mellemlang videregående uddannelse af 3-4 års ...</td>\n",
       "      <td>13.0</td>\n",
       "      <td>32.0</td>\n",
       "      <td>34.0</td>\n",
       "      <td>32000.0</td>\n",
       "      <td>NaN</td>\n",
       "      <td>50.0</td>\n",
       "    </tr>\n",
       "    <tr>\n",
       "      <th>4</th>\n",
       "      <td>11688</td>\n",
       "      <td>NaN</td>\n",
       "      <td>5.0</td>\n",
       "      <td>Yes</td>\n",
       "      <td>Socialdemokratiet - The Social democrats</td>\n",
       "      <td>1968</td>\n",
       "      <td>50</td>\n",
       "      <td>Female</td>\n",
       "      <td>1952</td>\n",
       "      <td>Faglig uddannelse (håndværk, handel, landbrug ...</td>\n",
       "      <td>2.0</td>\n",
       "      <td>37.0</td>\n",
       "      <td>37.0</td>\n",
       "      <td>NaN</td>\n",
       "      <td>NaN</td>\n",
       "      <td>77.0</td>\n",
       "    </tr>\n",
       "  </tbody>\n",
       "</table>\n",
       "</div>"
      ],
      "text/plain": [
       "    idno  netustm  ppltrst vote  \\\n",
       "0   5816     90.0      7.0  Yes   \n",
       "1   7251    300.0      5.0  Yes   \n",
       "2   7887    360.0      8.0  Yes   \n",
       "3   9607    540.0      9.0  Yes   \n",
       "4  11688      NaN      5.0  Yes   \n",
       "\n",
       "                                            prtvtddk lvpntyr tygrtr    gndr  \\\n",
       "0  SF Socialistisk Folkeparti - Socialist People'...    1994     60    Male   \n",
       "1           Dansk Folkeparti - Danish People's Party    1993     40  Female   \n",
       "2           Socialdemokratiet - The Social democrats    1983     55    Male   \n",
       "3                     Alternativet - The Alternative    1982     64  Female   \n",
       "4           Socialdemokratiet - The Social democrats    1968     50  Female   \n",
       "\n",
       "   yrbrn                                            edlvddk  eduyrs  wkhct  \\\n",
       "0   1974  Mellemlang videregående uddannelse af 3-4 års ...    35.0   37.0   \n",
       "1   1975  Faglig uddannelse (håndværk, handel, landbrug ...    13.0   32.0   \n",
       "2   1958  Lang videregående uddannelse. Kandidatuddannel...    25.0   39.0   \n",
       "3   1964  Mellemlang videregående uddannelse af 3-4 års ...    13.0   32.0   \n",
       "4   1952  Faglig uddannelse (håndværk, handel, landbrug ...     2.0   37.0   \n",
       "\n",
       "   wkhtot  grspnum  frlgrsp  inwtm  \n",
       "0    37.0  37000.0  35000.0   61.0  \n",
       "1    34.0  22000.0  30000.0   68.0  \n",
       "2    39.0  36000.0  42000.0   89.0  \n",
       "3    34.0  32000.0      NaN   50.0  \n",
       "4    37.0      NaN      NaN   77.0  "
      ]
     },
     "execution_count": 99,
     "metadata": {},
     "output_type": "execute_result"
    }
   ],
   "source": [
    "ess18.head()"
   ]
  },
  {
   "cell_type": "code",
   "execution_count": 100,
   "id": "ecbd5f2f-20a1-494b-bba2-2cc07af17859",
   "metadata": {},
   "outputs": [],
   "source": [
    "ess18[\"inwth\"] = ess18[\"inwtm\"] / 60"
   ]
  },
  {
   "cell_type": "code",
   "execution_count": 101,
   "id": "8e8e35ee-8bc6-4962-9581-c75bb33ebc9f",
   "metadata": {},
   "outputs": [
    {
     "data": {
      "text/html": [
       "<div>\n",
       "<style scoped>\n",
       "    .dataframe tbody tr th:only-of-type {\n",
       "        vertical-align: middle;\n",
       "    }\n",
       "\n",
       "    .dataframe tbody tr th {\n",
       "        vertical-align: top;\n",
       "    }\n",
       "\n",
       "    .dataframe thead th {\n",
       "        text-align: right;\n",
       "    }\n",
       "</style>\n",
       "<table border=\"1\" class=\"dataframe\">\n",
       "  <thead>\n",
       "    <tr style=\"text-align: right;\">\n",
       "      <th></th>\n",
       "      <th>idno</th>\n",
       "      <th>netustm</th>\n",
       "      <th>ppltrst</th>\n",
       "      <th>vote</th>\n",
       "      <th>prtvtddk</th>\n",
       "      <th>lvpntyr</th>\n",
       "      <th>tygrtr</th>\n",
       "      <th>gndr</th>\n",
       "      <th>yrbrn</th>\n",
       "      <th>edlvddk</th>\n",
       "      <th>eduyrs</th>\n",
       "      <th>wkhct</th>\n",
       "      <th>wkhtot</th>\n",
       "      <th>grspnum</th>\n",
       "      <th>frlgrsp</th>\n",
       "      <th>inwtm</th>\n",
       "      <th>inwth</th>\n",
       "    </tr>\n",
       "  </thead>\n",
       "  <tbody>\n",
       "    <tr>\n",
       "      <th>0</th>\n",
       "      <td>5816</td>\n",
       "      <td>90.0</td>\n",
       "      <td>7.0</td>\n",
       "      <td>Yes</td>\n",
       "      <td>SF Socialistisk Folkeparti - Socialist People'...</td>\n",
       "      <td>1994</td>\n",
       "      <td>60</td>\n",
       "      <td>Male</td>\n",
       "      <td>1974</td>\n",
       "      <td>Mellemlang videregående uddannelse af 3-4 års ...</td>\n",
       "      <td>35.0</td>\n",
       "      <td>37.0</td>\n",
       "      <td>37.0</td>\n",
       "      <td>37000.0</td>\n",
       "      <td>35000.0</td>\n",
       "      <td>61.0</td>\n",
       "      <td>1.016667</td>\n",
       "    </tr>\n",
       "    <tr>\n",
       "      <th>1</th>\n",
       "      <td>7251</td>\n",
       "      <td>300.0</td>\n",
       "      <td>5.0</td>\n",
       "      <td>Yes</td>\n",
       "      <td>Dansk Folkeparti - Danish People's Party</td>\n",
       "      <td>1993</td>\n",
       "      <td>40</td>\n",
       "      <td>Female</td>\n",
       "      <td>1975</td>\n",
       "      <td>Faglig uddannelse (håndværk, handel, landbrug ...</td>\n",
       "      <td>13.0</td>\n",
       "      <td>32.0</td>\n",
       "      <td>34.0</td>\n",
       "      <td>22000.0</td>\n",
       "      <td>30000.0</td>\n",
       "      <td>68.0</td>\n",
       "      <td>1.133333</td>\n",
       "    </tr>\n",
       "    <tr>\n",
       "      <th>2</th>\n",
       "      <td>7887</td>\n",
       "      <td>360.0</td>\n",
       "      <td>8.0</td>\n",
       "      <td>Yes</td>\n",
       "      <td>Socialdemokratiet - The Social democrats</td>\n",
       "      <td>1983</td>\n",
       "      <td>55</td>\n",
       "      <td>Male</td>\n",
       "      <td>1958</td>\n",
       "      <td>Lang videregående uddannelse. Kandidatuddannel...</td>\n",
       "      <td>25.0</td>\n",
       "      <td>39.0</td>\n",
       "      <td>39.0</td>\n",
       "      <td>36000.0</td>\n",
       "      <td>42000.0</td>\n",
       "      <td>89.0</td>\n",
       "      <td>1.483333</td>\n",
       "    </tr>\n",
       "    <tr>\n",
       "      <th>3</th>\n",
       "      <td>9607</td>\n",
       "      <td>540.0</td>\n",
       "      <td>9.0</td>\n",
       "      <td>Yes</td>\n",
       "      <td>Alternativet - The Alternative</td>\n",
       "      <td>1982</td>\n",
       "      <td>64</td>\n",
       "      <td>Female</td>\n",
       "      <td>1964</td>\n",
       "      <td>Mellemlang videregående uddannelse af 3-4 års ...</td>\n",
       "      <td>13.0</td>\n",
       "      <td>32.0</td>\n",
       "      <td>34.0</td>\n",
       "      <td>32000.0</td>\n",
       "      <td>NaN</td>\n",
       "      <td>50.0</td>\n",
       "      <td>0.833333</td>\n",
       "    </tr>\n",
       "    <tr>\n",
       "      <th>4</th>\n",
       "      <td>11688</td>\n",
       "      <td>NaN</td>\n",
       "      <td>5.0</td>\n",
       "      <td>Yes</td>\n",
       "      <td>Socialdemokratiet - The Social democrats</td>\n",
       "      <td>1968</td>\n",
       "      <td>50</td>\n",
       "      <td>Female</td>\n",
       "      <td>1952</td>\n",
       "      <td>Faglig uddannelse (håndværk, handel, landbrug ...</td>\n",
       "      <td>2.0</td>\n",
       "      <td>37.0</td>\n",
       "      <td>37.0</td>\n",
       "      <td>NaN</td>\n",
       "      <td>NaN</td>\n",
       "      <td>77.0</td>\n",
       "      <td>1.283333</td>\n",
       "    </tr>\n",
       "  </tbody>\n",
       "</table>\n",
       "</div>"
      ],
      "text/plain": [
       "    idno  netustm  ppltrst vote  \\\n",
       "0   5816     90.0      7.0  Yes   \n",
       "1   7251    300.0      5.0  Yes   \n",
       "2   7887    360.0      8.0  Yes   \n",
       "3   9607    540.0      9.0  Yes   \n",
       "4  11688      NaN      5.0  Yes   \n",
       "\n",
       "                                            prtvtddk lvpntyr tygrtr    gndr  \\\n",
       "0  SF Socialistisk Folkeparti - Socialist People'...    1994     60    Male   \n",
       "1           Dansk Folkeparti - Danish People's Party    1993     40  Female   \n",
       "2           Socialdemokratiet - The Social democrats    1983     55    Male   \n",
       "3                     Alternativet - The Alternative    1982     64  Female   \n",
       "4           Socialdemokratiet - The Social democrats    1968     50  Female   \n",
       "\n",
       "   yrbrn                                            edlvddk  eduyrs  wkhct  \\\n",
       "0   1974  Mellemlang videregående uddannelse af 3-4 års ...    35.0   37.0   \n",
       "1   1975  Faglig uddannelse (håndværk, handel, landbrug ...    13.0   32.0   \n",
       "2   1958  Lang videregående uddannelse. Kandidatuddannel...    25.0   39.0   \n",
       "3   1964  Mellemlang videregående uddannelse af 3-4 års ...    13.0   32.0   \n",
       "4   1952  Faglig uddannelse (håndværk, handel, landbrug ...     2.0   37.0   \n",
       "\n",
       "   wkhtot  grspnum  frlgrsp  inwtm     inwth  \n",
       "0    37.0  37000.0  35000.0   61.0  1.016667  \n",
       "1    34.0  22000.0  30000.0   68.0  1.133333  \n",
       "2    39.0  36000.0  42000.0   89.0  1.483333  \n",
       "3    34.0  32000.0      NaN   50.0  0.833333  \n",
       "4    37.0      NaN      NaN   77.0  1.283333  "
      ]
     },
     "execution_count": 101,
     "metadata": {},
     "output_type": "execute_result"
    }
   ],
   "source": [
    "ess18.head()"
   ]
  },
  {
   "cell_type": "code",
   "execution_count": 102,
   "id": "55378a61-ba8e-4041-9b82-f797d0544e7f",
   "metadata": {},
   "outputs": [],
   "source": [
    "import numpy as np\n",
    "\n",
    "ess18[\"grsp_cat\"] = np.nan"
   ]
  },
  {
   "cell_type": "code",
   "execution_count": 103,
   "id": "ab59e6ec-e5dd-42af-8e18-1f3a7213e925",
   "metadata": {},
   "outputs": [
    {
     "data": {
      "text/plain": [
       "32000.0"
      ]
     },
     "execution_count": 103,
     "metadata": {},
     "output_type": "execute_result"
    }
   ],
   "source": [
    "ess18[\"grspnum\"].quantile(0.5)"
   ]
  },
  {
   "cell_type": "code",
   "execution_count": 107,
   "id": "48851196-f314-405e-9d6b-03ddbbe50e3d",
   "metadata": {},
   "outputs": [],
   "source": [
    "ess18.loc[ess18[\"grspnum\"] <= 32000, \"grsp_cat\"] = \"low income\"\n",
    "ess18.loc[ess18[\"grspnum\"] > 32000, \"grsp_cat\"] = \"high income\""
   ]
  },
  {
   "cell_type": "code",
   "execution_count": 109,
   "id": "43332421-1df9-4ff7-acf6-6e742d4f2db2",
   "metadata": {},
   "outputs": [
    {
     "data": {
      "text/html": [
       "<div>\n",
       "<style scoped>\n",
       "    .dataframe tbody tr th:only-of-type {\n",
       "        vertical-align: middle;\n",
       "    }\n",
       "\n",
       "    .dataframe tbody tr th {\n",
       "        vertical-align: top;\n",
       "    }\n",
       "\n",
       "    .dataframe thead th {\n",
       "        text-align: right;\n",
       "    }\n",
       "</style>\n",
       "<table border=\"1\" class=\"dataframe\">\n",
       "  <thead>\n",
       "    <tr style=\"text-align: right;\">\n",
       "      <th></th>\n",
       "      <th>idno</th>\n",
       "      <th>netustm</th>\n",
       "      <th>ppltrst</th>\n",
       "      <th>vote</th>\n",
       "      <th>prtvtddk</th>\n",
       "      <th>lvpntyr</th>\n",
       "      <th>tygrtr</th>\n",
       "      <th>gndr</th>\n",
       "      <th>yrbrn</th>\n",
       "      <th>edlvddk</th>\n",
       "      <th>eduyrs</th>\n",
       "      <th>wkhct</th>\n",
       "      <th>wkhtot</th>\n",
       "      <th>grspnum</th>\n",
       "      <th>frlgrsp</th>\n",
       "      <th>inwtm</th>\n",
       "      <th>inwth</th>\n",
       "      <th>grsp_cat</th>\n",
       "    </tr>\n",
       "  </thead>\n",
       "  <tbody>\n",
       "    <tr>\n",
       "      <th>0</th>\n",
       "      <td>5816</td>\n",
       "      <td>90.0</td>\n",
       "      <td>7.0</td>\n",
       "      <td>Yes</td>\n",
       "      <td>SF Socialistisk Folkeparti - Socialist People'...</td>\n",
       "      <td>1994</td>\n",
       "      <td>60</td>\n",
       "      <td>Male</td>\n",
       "      <td>1974</td>\n",
       "      <td>Mellemlang videregående uddannelse af 3-4 års ...</td>\n",
       "      <td>35.0</td>\n",
       "      <td>37.0</td>\n",
       "      <td>37.0</td>\n",
       "      <td>37000.0</td>\n",
       "      <td>35000.0</td>\n",
       "      <td>61.0</td>\n",
       "      <td>1.016667</td>\n",
       "      <td>high income</td>\n",
       "    </tr>\n",
       "    <tr>\n",
       "      <th>1</th>\n",
       "      <td>7251</td>\n",
       "      <td>300.0</td>\n",
       "      <td>5.0</td>\n",
       "      <td>Yes</td>\n",
       "      <td>Dansk Folkeparti - Danish People's Party</td>\n",
       "      <td>1993</td>\n",
       "      <td>40</td>\n",
       "      <td>Female</td>\n",
       "      <td>1975</td>\n",
       "      <td>Faglig uddannelse (håndværk, handel, landbrug ...</td>\n",
       "      <td>13.0</td>\n",
       "      <td>32.0</td>\n",
       "      <td>34.0</td>\n",
       "      <td>22000.0</td>\n",
       "      <td>30000.0</td>\n",
       "      <td>68.0</td>\n",
       "      <td>1.133333</td>\n",
       "      <td>low income</td>\n",
       "    </tr>\n",
       "    <tr>\n",
       "      <th>2</th>\n",
       "      <td>7887</td>\n",
       "      <td>360.0</td>\n",
       "      <td>8.0</td>\n",
       "      <td>Yes</td>\n",
       "      <td>Socialdemokratiet - The Social democrats</td>\n",
       "      <td>1983</td>\n",
       "      <td>55</td>\n",
       "      <td>Male</td>\n",
       "      <td>1958</td>\n",
       "      <td>Lang videregående uddannelse. Kandidatuddannel...</td>\n",
       "      <td>25.0</td>\n",
       "      <td>39.0</td>\n",
       "      <td>39.0</td>\n",
       "      <td>36000.0</td>\n",
       "      <td>42000.0</td>\n",
       "      <td>89.0</td>\n",
       "      <td>1.483333</td>\n",
       "      <td>high income</td>\n",
       "    </tr>\n",
       "    <tr>\n",
       "      <th>3</th>\n",
       "      <td>9607</td>\n",
       "      <td>540.0</td>\n",
       "      <td>9.0</td>\n",
       "      <td>Yes</td>\n",
       "      <td>Alternativet - The Alternative</td>\n",
       "      <td>1982</td>\n",
       "      <td>64</td>\n",
       "      <td>Female</td>\n",
       "      <td>1964</td>\n",
       "      <td>Mellemlang videregående uddannelse af 3-4 års ...</td>\n",
       "      <td>13.0</td>\n",
       "      <td>32.0</td>\n",
       "      <td>34.0</td>\n",
       "      <td>32000.0</td>\n",
       "      <td>NaN</td>\n",
       "      <td>50.0</td>\n",
       "      <td>0.833333</td>\n",
       "      <td>low income</td>\n",
       "    </tr>\n",
       "    <tr>\n",
       "      <th>4</th>\n",
       "      <td>11688</td>\n",
       "      <td>NaN</td>\n",
       "      <td>5.0</td>\n",
       "      <td>Yes</td>\n",
       "      <td>Socialdemokratiet - The Social democrats</td>\n",
       "      <td>1968</td>\n",
       "      <td>50</td>\n",
       "      <td>Female</td>\n",
       "      <td>1952</td>\n",
       "      <td>Faglig uddannelse (håndværk, handel, landbrug ...</td>\n",
       "      <td>2.0</td>\n",
       "      <td>37.0</td>\n",
       "      <td>37.0</td>\n",
       "      <td>NaN</td>\n",
       "      <td>NaN</td>\n",
       "      <td>77.0</td>\n",
       "      <td>1.283333</td>\n",
       "      <td>NaN</td>\n",
       "    </tr>\n",
       "  </tbody>\n",
       "</table>\n",
       "</div>"
      ],
      "text/plain": [
       "    idno  netustm  ppltrst vote  \\\n",
       "0   5816     90.0      7.0  Yes   \n",
       "1   7251    300.0      5.0  Yes   \n",
       "2   7887    360.0      8.0  Yes   \n",
       "3   9607    540.0      9.0  Yes   \n",
       "4  11688      NaN      5.0  Yes   \n",
       "\n",
       "                                            prtvtddk lvpntyr tygrtr    gndr  \\\n",
       "0  SF Socialistisk Folkeparti - Socialist People'...    1994     60    Male   \n",
       "1           Dansk Folkeparti - Danish People's Party    1993     40  Female   \n",
       "2           Socialdemokratiet - The Social democrats    1983     55    Male   \n",
       "3                     Alternativet - The Alternative    1982     64  Female   \n",
       "4           Socialdemokratiet - The Social democrats    1968     50  Female   \n",
       "\n",
       "   yrbrn                                            edlvddk  eduyrs  wkhct  \\\n",
       "0   1974  Mellemlang videregående uddannelse af 3-4 års ...    35.0   37.0   \n",
       "1   1975  Faglig uddannelse (håndværk, handel, landbrug ...    13.0   32.0   \n",
       "2   1958  Lang videregående uddannelse. Kandidatuddannel...    25.0   39.0   \n",
       "3   1964  Mellemlang videregående uddannelse af 3-4 års ...    13.0   32.0   \n",
       "4   1952  Faglig uddannelse (håndværk, handel, landbrug ...     2.0   37.0   \n",
       "\n",
       "   wkhtot  grspnum  frlgrsp  inwtm     inwth     grsp_cat  \n",
       "0    37.0  37000.0  35000.0   61.0  1.016667  high income  \n",
       "1    34.0  22000.0  30000.0   68.0  1.133333   low income  \n",
       "2    39.0  36000.0  42000.0   89.0  1.483333  high income  \n",
       "3    34.0  32000.0      NaN   50.0  0.833333   low income  \n",
       "4    37.0      NaN      NaN   77.0  1.283333          NaN  "
      ]
     },
     "execution_count": 109,
     "metadata": {},
     "output_type": "execute_result"
    }
   ],
   "source": [
    "ess18.head()"
   ]
  },
  {
   "cell_type": "code",
   "execution_count": 110,
   "id": "201bac97-675f-47b3-9941-94eb2204701a",
   "metadata": {},
   "outputs": [],
   "source": [
    "ess18[\"age\"] = 2018 - ess18[\"yrbrn\"]"
   ]
  },
  {
   "cell_type": "code",
   "execution_count": 114,
   "id": "a2da15af-2161-41b9-9695-44913919d188",
   "metadata": {},
   "outputs": [
    {
     "data": {
      "text/html": [
       "<div>\n",
       "<style scoped>\n",
       "    .dataframe tbody tr th:only-of-type {\n",
       "        vertical-align: middle;\n",
       "    }\n",
       "\n",
       "    .dataframe tbody tr th {\n",
       "        vertical-align: top;\n",
       "    }\n",
       "\n",
       "    .dataframe thead th {\n",
       "        text-align: right;\n",
       "    }\n",
       "</style>\n",
       "<table border=\"1\" class=\"dataframe\">\n",
       "  <thead>\n",
       "    <tr style=\"text-align: right;\">\n",
       "      <th></th>\n",
       "      <th>yrbrn</th>\n",
       "      <th>age</th>\n",
       "    </tr>\n",
       "  </thead>\n",
       "  <tbody>\n",
       "    <tr>\n",
       "      <th>0</th>\n",
       "      <td>1974</td>\n",
       "      <td>44</td>\n",
       "    </tr>\n",
       "    <tr>\n",
       "      <th>1</th>\n",
       "      <td>1975</td>\n",
       "      <td>43</td>\n",
       "    </tr>\n",
       "    <tr>\n",
       "      <th>2</th>\n",
       "      <td>1958</td>\n",
       "      <td>60</td>\n",
       "    </tr>\n",
       "    <tr>\n",
       "      <th>3</th>\n",
       "      <td>1964</td>\n",
       "      <td>54</td>\n",
       "    </tr>\n",
       "    <tr>\n",
       "      <th>4</th>\n",
       "      <td>1952</td>\n",
       "      <td>66</td>\n",
       "    </tr>\n",
       "    <tr>\n",
       "      <th>5</th>\n",
       "      <td>1963</td>\n",
       "      <td>55</td>\n",
       "    </tr>\n",
       "    <tr>\n",
       "      <th>6</th>\n",
       "      <td>1991</td>\n",
       "      <td>27</td>\n",
       "    </tr>\n",
       "    <tr>\n",
       "      <th>7</th>\n",
       "      <td>1984</td>\n",
       "      <td>34</td>\n",
       "    </tr>\n",
       "    <tr>\n",
       "      <th>8</th>\n",
       "      <td>1966</td>\n",
       "      <td>52</td>\n",
       "    </tr>\n",
       "    <tr>\n",
       "      <th>9</th>\n",
       "      <td>1958</td>\n",
       "      <td>60</td>\n",
       "    </tr>\n",
       "  </tbody>\n",
       "</table>\n",
       "</div>"
      ],
      "text/plain": [
       "   yrbrn  age\n",
       "0   1974   44\n",
       "1   1975   43\n",
       "2   1958   60\n",
       "3   1964   54\n",
       "4   1952   66\n",
       "5   1963   55\n",
       "6   1991   27\n",
       "7   1984   34\n",
       "8   1966   52\n",
       "9   1958   60"
      ]
     },
     "execution_count": 114,
     "metadata": {},
     "output_type": "execute_result"
    }
   ],
   "source": [
    "ess18.loc[:, [\"yrbrn\", \"age\"]].head(10)"
   ]
  },
  {
   "cell_type": "code",
   "execution_count": null,
   "id": "030cdbf7-2a0a-4ff9-9cb4-71ecc78f073e",
   "metadata": {},
   "outputs": [],
   "source": []
  }
 ],
 "metadata": {
  "kernelspec": {
   "display_name": "Python 3 (ipykernel)",
   "language": "python",
   "name": "python3"
  },
  "language_info": {
   "codemirror_mode": {
    "name": "ipython",
    "version": 3
   },
   "file_extension": ".py",
   "mimetype": "text/x-python",
   "name": "python",
   "nbconvert_exporter": "python",
   "pygments_lexer": "ipython3",
   "version": "3.9.7"
  }
 },
 "nbformat": 4,
 "nbformat_minor": 5
}
