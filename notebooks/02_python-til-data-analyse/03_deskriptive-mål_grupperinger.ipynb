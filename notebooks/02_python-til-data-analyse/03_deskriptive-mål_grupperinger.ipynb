{
 "cells": [
  {
   "cell_type": "markdown",
   "id": "grand-amazon",
   "metadata": {},
   "source": [
    "# Deskriptive mål & grupperinger\n",
    "\n",
    "## Deskriptive mål\n",
    "\n",
    "Én måde at udforske et datasæt er ved at se nærmere på forskellige deskriptive mål for variable i datasættet.\n",
    "\n",
    "Metoden `.describe()` danner deskriptive mål for alle (kompatible) variable i datasættet:"
   ]
  },
  {
   "cell_type": "code",
   "execution_count": 1,
   "id": "characteristic-timber",
   "metadata": {},
   "outputs": [],
   "source": [
    "import pandas as pd\n",
    "\n",
    "ess2018 = pd.read_csv(\"https://github.com/CALDISS-AAU/course_ndms-I/raw/master/datasets/ESS2018DK_subset.csv\")"
   ]
  },
  {
   "cell_type": "code",
   "execution_count": 2,
   "id": "leading-atlas",
   "metadata": {},
   "outputs": [
    {
     "data": {
      "text/html": [
       "<div>\n",
       "<style scoped>\n",
       "    .dataframe tbody tr th:only-of-type {\n",
       "        vertical-align: middle;\n",
       "    }\n",
       "\n",
       "    .dataframe tbody tr th {\n",
       "        vertical-align: top;\n",
       "    }\n",
       "\n",
       "    .dataframe thead th {\n",
       "        text-align: right;\n",
       "    }\n",
       "</style>\n",
       "<table border=\"1\" class=\"dataframe\">\n",
       "  <thead>\n",
       "    <tr style=\"text-align: right;\">\n",
       "      <th></th>\n",
       "      <th>idno</th>\n",
       "      <th>netustm</th>\n",
       "      <th>ppltrst</th>\n",
       "      <th>yrbrn</th>\n",
       "      <th>eduyrs</th>\n",
       "      <th>wkhct</th>\n",
       "      <th>wkhtot</th>\n",
       "      <th>grspnum</th>\n",
       "      <th>frlgrsp</th>\n",
       "      <th>inwtm</th>\n",
       "    </tr>\n",
       "  </thead>\n",
       "  <tbody>\n",
       "    <tr>\n",
       "      <th>count</th>\n",
       "      <td>1572.000000</td>\n",
       "      <td>1395.000000</td>\n",
       "      <td>1568.000000</td>\n",
       "      <td>1572.000000</td>\n",
       "      <td>1559.000000</td>\n",
       "      <td>1448.000000</td>\n",
       "      <td>1502.000000</td>\n",
       "      <td>8.200000e+02</td>\n",
       "      <td>2.740000e+02</td>\n",
       "      <td>1566.000000</td>\n",
       "    </tr>\n",
       "    <tr>\n",
       "      <th>mean</th>\n",
       "      <td>110821.670483</td>\n",
       "      <td>232.204301</td>\n",
       "      <td>7.063138</td>\n",
       "      <td>1968.245547</td>\n",
       "      <td>13.678640</td>\n",
       "      <td>33.229282</td>\n",
       "      <td>36.171771</td>\n",
       "      <td>9.598654e+04</td>\n",
       "      <td>6.304640e+04</td>\n",
       "      <td>62.676884</td>\n",
       "    </tr>\n",
       "    <tr>\n",
       "      <th>std</th>\n",
       "      <td>26076.703893</td>\n",
       "      <td>193.175426</td>\n",
       "      <td>1.813012</td>\n",
       "      <td>19.188190</td>\n",
       "      <td>5.781205</td>\n",
       "      <td>10.568167</td>\n",
       "      <td>13.205436</td>\n",
       "      <td>2.935044e+05</td>\n",
       "      <td>1.616759e+05</td>\n",
       "      <td>24.774517</td>\n",
       "    </tr>\n",
       "    <tr>\n",
       "      <th>min</th>\n",
       "      <td>110.000000</td>\n",
       "      <td>0.000000</td>\n",
       "      <td>0.000000</td>\n",
       "      <td>1929.000000</td>\n",
       "      <td>0.000000</td>\n",
       "      <td>0.000000</td>\n",
       "      <td>0.000000</td>\n",
       "      <td>0.000000e+00</td>\n",
       "      <td>0.000000e+00</td>\n",
       "      <td>17.000000</td>\n",
       "    </tr>\n",
       "    <tr>\n",
       "      <th>25%</th>\n",
       "      <td>93622.750000</td>\n",
       "      <td>90.000000</td>\n",
       "      <td>6.000000</td>\n",
       "      <td>1953.000000</td>\n",
       "      <td>11.000000</td>\n",
       "      <td>32.000000</td>\n",
       "      <td>34.000000</td>\n",
       "      <td>2.600000e+04</td>\n",
       "      <td>2.800000e+04</td>\n",
       "      <td>50.000000</td>\n",
       "    </tr>\n",
       "    <tr>\n",
       "      <th>50%</th>\n",
       "      <td>112966.000000</td>\n",
       "      <td>180.000000</td>\n",
       "      <td>7.000000</td>\n",
       "      <td>1967.000000</td>\n",
       "      <td>14.000000</td>\n",
       "      <td>37.000000</td>\n",
       "      <td>37.000000</td>\n",
       "      <td>3.300000e+04</td>\n",
       "      <td>3.500000e+04</td>\n",
       "      <td>59.000000</td>\n",
       "    </tr>\n",
       "    <tr>\n",
       "      <th>75%</th>\n",
       "      <td>131429.750000</td>\n",
       "      <td>330.000000</td>\n",
       "      <td>8.000000</td>\n",
       "      <td>1984.000000</td>\n",
       "      <td>17.000000</td>\n",
       "      <td>37.000000</td>\n",
       "      <td>42.000000</td>\n",
       "      <td>4.600000e+04</td>\n",
       "      <td>4.000000e+04</td>\n",
       "      <td>70.000000</td>\n",
       "    </tr>\n",
       "    <tr>\n",
       "      <th>max</th>\n",
       "      <td>150446.000000</td>\n",
       "      <td>1020.000000</td>\n",
       "      <td>10.000000</td>\n",
       "      <td>2003.000000</td>\n",
       "      <td>40.000000</td>\n",
       "      <td>80.000000</td>\n",
       "      <td>168.000000</td>\n",
       "      <td>5.000000e+06</td>\n",
       "      <td>1.500000e+06</td>\n",
       "      <td>613.000000</td>\n",
       "    </tr>\n",
       "  </tbody>\n",
       "</table>\n",
       "</div>"
      ],
      "text/plain": [
       "                idno      netustm      ppltrst        yrbrn       eduyrs  \\\n",
       "count    1572.000000  1395.000000  1568.000000  1572.000000  1559.000000   \n",
       "mean   110821.670483   232.204301     7.063138  1968.245547    13.678640   \n",
       "std     26076.703893   193.175426     1.813012    19.188190     5.781205   \n",
       "min       110.000000     0.000000     0.000000  1929.000000     0.000000   \n",
       "25%     93622.750000    90.000000     6.000000  1953.000000    11.000000   \n",
       "50%    112966.000000   180.000000     7.000000  1967.000000    14.000000   \n",
       "75%    131429.750000   330.000000     8.000000  1984.000000    17.000000   \n",
       "max    150446.000000  1020.000000    10.000000  2003.000000    40.000000   \n",
       "\n",
       "             wkhct       wkhtot       grspnum       frlgrsp        inwtm  \n",
       "count  1448.000000  1502.000000  8.200000e+02  2.740000e+02  1566.000000  \n",
       "mean     33.229282    36.171771  9.598654e+04  6.304640e+04    62.676884  \n",
       "std      10.568167    13.205436  2.935044e+05  1.616759e+05    24.774517  \n",
       "min       0.000000     0.000000  0.000000e+00  0.000000e+00    17.000000  \n",
       "25%      32.000000    34.000000  2.600000e+04  2.800000e+04    50.000000  \n",
       "50%      37.000000    37.000000  3.300000e+04  3.500000e+04    59.000000  \n",
       "75%      37.000000    42.000000  4.600000e+04  4.000000e+04    70.000000  \n",
       "max      80.000000   168.000000  5.000000e+06  1.500000e+06   613.000000  "
      ]
     },
     "execution_count": 2,
     "metadata": {},
     "output_type": "execute_result"
    }
   ],
   "source": [
    "ess2018.describe()"
   ]
  },
  {
   "cell_type": "markdown",
   "id": "competent-tribute",
   "metadata": {},
   "source": [
    "Metoden fungerer også på enkeltvariable:"
   ]
  },
  {
   "cell_type": "code",
   "execution_count": 3,
   "id": "fresh-bottle",
   "metadata": {},
   "outputs": [
    {
     "data": {
      "text/plain": [
       "count    1502.000000\n",
       "mean       36.171771\n",
       "std        13.205436\n",
       "min         0.000000\n",
       "25%        34.000000\n",
       "50%        37.000000\n",
       "75%        42.000000\n",
       "max       168.000000\n",
       "Name: wkhtot, dtype: float64"
      ]
     },
     "execution_count": 3,
     "metadata": {},
     "output_type": "execute_result"
    }
   ],
   "source": [
    "ess2018['wkhtot'].describe()"
   ]
  },
  {
   "cell_type": "markdown",
   "id": "executed-hostel",
   "metadata": {},
   "source": [
    "`.describe()` danner følgende mål:\n",
    "- `count`: Antal svar ekskl. missing\n",
    "- `mean`: Middelværdien\n",
    "- `std`: Standardafvigelsen\n",
    "- `min`: Minimumværdien\n",
    "- `25%`: 1. kvartil\n",
    "- `50%`: 2. kvartil\n",
    "- `75%`: 3. kvartil\n",
    "- `max`: Maksimumværdien"
   ]
  },
  {
   "cell_type": "markdown",
   "id": "muslim-globe",
   "metadata": {},
   "source": [
    "Der knytter sig også en række metoder til at danne de enkelte deskriptive mål.\n",
    "\n",
    "Herunder printes fx middelværdien, standardafvigelsen, minimums- og maksimumsværdien for variablen `weight`:"
   ]
  },
  {
   "cell_type": "code",
   "execution_count": 4,
   "id": "artificial-bathroom",
   "metadata": {},
   "outputs": [
    {
     "name": "stdout",
     "output_type": "stream",
     "text": [
      "36.17177097203729\n",
      "13.20543573826518\n",
      "0.0\n",
      "168.0\n"
     ]
    }
   ],
   "source": [
    "print(ess2018['wkhtot'].mean())\n",
    "print(ess2018['wkhtot'].std())\n",
    "print(ess2018['wkhtot'].min())\n",
    "print(ess2018['wkhtot'].max())"
   ]
  },
  {
   "cell_type": "markdown",
   "id": "homeless-malta",
   "metadata": {},
   "source": [
    "Ovenstående værdier fortæller, at `wkhtot` indeholder værdier fra 0.0 til 168.0 med en middelværdi på 36.17 og en standardafvigelse på 13.21 (middelværdien af de afstande, som hver observation afviger fra middelværdien)."
   ]
  },
  {
   "cell_type": "markdown",
   "id": "diagnostic-lighting",
   "metadata": {},
   "source": [
    "### Deskriptive mål og kategoriske variable\n",
    "\n",
    "Sammenlignes outputtet fra `.describe()` med indholdet af datasættet ses, at der ikke udregnes deskriptive mål for alle variable. \n",
    "\n",
    "Når `.describe()` bruges på et hel dataframe, udregnes kun mål for numeriske variabeltyper; altså variable, der kun består af tal.\n",
    "\n",
    "Metoden kan dog også bruges på en kategorisk variabel som `ppltrst`:"
   ]
  },
  {
   "cell_type": "code",
   "execution_count": 5,
   "id": "racial-darkness",
   "metadata": {},
   "outputs": [
    {
     "data": {
      "text/plain": [
       "count     1566\n",
       "unique       3\n",
       "top        Yes\n",
       "freq      1332\n",
       "Name: vote, dtype: object"
      ]
     },
     "execution_count": 5,
     "metadata": {},
     "output_type": "execute_result"
    }
   ],
   "source": [
    "ess2018['vote'].describe()"
   ]
  },
  {
   "cell_type": "markdown",
   "id": "downtown-enforcement",
   "metadata": {},
   "source": [
    "## Grupperinger: Opsummeringer på gruppeniveau (groupby)"
   ]
  },
  {
   "cell_type": "markdown",
   "id": "double-foster",
   "metadata": {},
   "source": [
    "En effektiv måde at udforske og udføre indledende deskriptive analyser af sine data, er ved at undersøge de grupperinger, som data indeholder.\n",
    "\n",
    "Her skal vi se på nogen forskellige måder, hvor der kan udregnes deskriptive mål og dannes visualiseringer for grupper i data\n",
    "\n",
    "Vi starter med at indlæse de nødvendige pakker og data. Aldersvariablen (som også blev tilføjet i lektion 3) tilføjes igen:"
   ]
  },
  {
   "cell_type": "markdown",
   "id": "developmental-individual",
   "metadata": {},
   "source": [
    "### Brug af split-apply til at opsummere data\n",
    "\n",
    "Metoden `.groupby()` grupperer datasæt efter de givne variable:"
   ]
  },
  {
   "cell_type": "code",
   "execution_count": 6,
   "id": "planned-canal",
   "metadata": {},
   "outputs": [],
   "source": [
    "grouped_df = ess2018.groupby(['gndr'])"
   ]
  },
  {
   "cell_type": "markdown",
   "id": "greater-puppy",
   "metadata": {},
   "source": [
    "Selve objektet, som bliver dannet, indeholder ikke information, der bare kan kaldes frem direkte:"
   ]
  },
  {
   "cell_type": "code",
   "execution_count": 7,
   "id": "destroyed-buffer",
   "metadata": {},
   "outputs": [
    {
     "data": {
      "text/plain": [
       "<pandas.core.groupby.generic.DataFrameGroupBy object at 0x7fdf40179130>"
      ]
     },
     "execution_count": 7,
     "metadata": {},
     "output_type": "execute_result"
    }
   ],
   "source": [
    "grouped_df"
   ]
  },
  {
   "cell_type": "markdown",
   "id": "voluntary-irrigation",
   "metadata": {},
   "source": [
    "Dog kan vi danne de samme deskriptive mål, som vi kan for hele datasættet, men hvor de opsummeres på gruppeniveauet:"
   ]
  },
  {
   "cell_type": "code",
   "execution_count": 8,
   "id": "lightweight-victim",
   "metadata": {},
   "outputs": [
    {
     "data": {
      "text/html": [
       "<div>\n",
       "<style scoped>\n",
       "    .dataframe tbody tr th:only-of-type {\n",
       "        vertical-align: middle;\n",
       "    }\n",
       "\n",
       "    .dataframe tbody tr th {\n",
       "        vertical-align: top;\n",
       "    }\n",
       "\n",
       "    .dataframe thead th {\n",
       "        text-align: right;\n",
       "    }\n",
       "</style>\n",
       "<table border=\"1\" class=\"dataframe\">\n",
       "  <thead>\n",
       "    <tr style=\"text-align: right;\">\n",
       "      <th></th>\n",
       "      <th>idno</th>\n",
       "      <th>netustm</th>\n",
       "      <th>ppltrst</th>\n",
       "      <th>yrbrn</th>\n",
       "      <th>eduyrs</th>\n",
       "      <th>wkhct</th>\n",
       "      <th>wkhtot</th>\n",
       "      <th>grspnum</th>\n",
       "      <th>frlgrsp</th>\n",
       "      <th>inwtm</th>\n",
       "    </tr>\n",
       "    <tr>\n",
       "      <th>gndr</th>\n",
       "      <th></th>\n",
       "      <th></th>\n",
       "      <th></th>\n",
       "      <th></th>\n",
       "      <th></th>\n",
       "      <th></th>\n",
       "      <th></th>\n",
       "      <th></th>\n",
       "      <th></th>\n",
       "      <th></th>\n",
       "    </tr>\n",
       "  </thead>\n",
       "  <tbody>\n",
       "    <tr>\n",
       "      <th>Female</th>\n",
       "      <td>111135.282369</td>\n",
       "      <td>227.564669</td>\n",
       "      <td>7.140496</td>\n",
       "      <td>1967.834711</td>\n",
       "      <td>13.847010</td>\n",
       "      <td>31.939850</td>\n",
       "      <td>33.561404</td>\n",
       "      <td>53165.458689</td>\n",
       "      <td>45699.366667</td>\n",
       "      <td>64.078621</td>\n",
       "    </tr>\n",
       "    <tr>\n",
       "      <th>Male</th>\n",
       "      <td>110552.542553</td>\n",
       "      <td>236.069645</td>\n",
       "      <td>6.996437</td>\n",
       "      <td>1968.598109</td>\n",
       "      <td>13.534524</td>\n",
       "      <td>34.324393</td>\n",
       "      <td>38.354523</td>\n",
       "      <td>128033.880597</td>\n",
       "      <td>84030.717742</td>\n",
       "      <td>61.468490</td>\n",
       "    </tr>\n",
       "  </tbody>\n",
       "</table>\n",
       "</div>"
      ],
      "text/plain": [
       "                 idno     netustm   ppltrst        yrbrn     eduyrs  \\\n",
       "gndr                                                                  \n",
       "Female  111135.282369  227.564669  7.140496  1967.834711  13.847010   \n",
       "Male    110552.542553  236.069645  6.996437  1968.598109  13.534524   \n",
       "\n",
       "            wkhct     wkhtot        grspnum       frlgrsp      inwtm  \n",
       "gndr                                                                  \n",
       "Female  31.939850  33.561404   53165.458689  45699.366667  64.078621  \n",
       "Male    34.324393  38.354523  128033.880597  84030.717742  61.468490  "
      ]
     },
     "execution_count": 8,
     "metadata": {},
     "output_type": "execute_result"
    }
   ],
   "source": [
    "grouped_df.mean()"
   ]
  },
  {
   "cell_type": "markdown",
   "id": "agricultural-husband",
   "metadata": {},
   "source": [
    "Det samme kan gøres for enkeltvariable:"
   ]
  },
  {
   "cell_type": "code",
   "execution_count": 9,
   "id": "welsh-greeting",
   "metadata": {},
   "outputs": [
    {
     "data": {
      "text/plain": [
       "gndr\n",
       "Female    33.561404\n",
       "Male      38.354523\n",
       "Name: wkhtot, dtype: float64"
      ]
     },
     "execution_count": 9,
     "metadata": {},
     "output_type": "execute_result"
    }
   ],
   "source": [
    "grouped_df['wkhtot'].mean()"
   ]
  },
  {
   "cell_type": "markdown",
   "id": "hydraulic-permit",
   "metadata": {},
   "source": [
    "En lang række metoder kan bruges på grupperede data. Se dem alle her: https://pandas.pydata.org/pandas-docs/stable/user_guide/groupby.html.\n",
    "\n",
    "- `mean()`: Middelværdi for grupperne\n",
    "\n",
    "- `size()`: Størrelse af grupperne\n",
    "\n",
    "- `count()`: Tællinger inden for grupperne\n",
    "\n",
    "- `describe()`: Deskriptive mål inden for grupperne\n",
    "\n",
    "- `min()`: Minimum for grupperne\n",
    "\n",
    "- `max()`: Maximum for grupperne"
   ]
  },
  {
   "cell_type": "markdown",
   "id": "saving-swimming",
   "metadata": {},
   "source": [
    "Metoden `value_counts()` kan bruges til at lave optællinger af kategoriske inden for grupperne.\n",
    "\n",
    "Herunder laves optælling for variablen `vote` fordelt på køn:"
   ]
  },
  {
   "cell_type": "code",
   "execution_count": 10,
   "id": "hairy-seller",
   "metadata": {},
   "outputs": [
    {
     "data": {
      "text/plain": [
       "gndr    vote                \n",
       "Female  Yes                     626\n",
       "        Not eligible to vote     63\n",
       "        No                       34\n",
       "Male    Yes                     706\n",
       "        Not eligible to vote     77\n",
       "        No                       60\n",
       "Name: vote, dtype: int64"
      ]
     },
     "execution_count": 10,
     "metadata": {},
     "output_type": "execute_result"
    }
   ],
   "source": [
    "grouped_df['vote'].value_counts()"
   ]
  },
  {
   "cell_type": "markdown",
   "id": "otherwise-fitness",
   "metadata": {},
   "source": [
    "# ØVELSE 3: Deskriptive mål\n",
    "\n",
    "1. Brug `.describe()` eller passende metoder til at finde ud af følgende:\n",
    "\n",
    "- Hvor gammel er den yngste person i datasættet?\n",
    "- Hvor gammel er den ældste person i datasættet?\n",
    "- Hvad er gennemsnitsalderen i datasættet?\n",
    "\n",
    "- *Husk at datasættet er fra 2018.*\n",
    "\n",
    "\n",
    "2. Brug `.groupby()` til at finde ud af, om kvinderne eller mændende i datasættet har flest års uddannelse i gennemsnit.\n"
   ]
  }
 ],
 "metadata": {
  "kernelspec": {
   "display_name": "Python 3 (ipykernel)",
   "language": "python",
   "name": "python3"
  },
  "language_info": {
   "codemirror_mode": {
    "name": "ipython",
    "version": 3
   },
   "file_extension": ".py",
   "mimetype": "text/x-python",
   "name": "python",
   "nbconvert_exporter": "python",
   "pygments_lexer": "ipython3",
   "version": "3.9.7"
  }
 },
 "nbformat": 4,
 "nbformat_minor": 5
}
