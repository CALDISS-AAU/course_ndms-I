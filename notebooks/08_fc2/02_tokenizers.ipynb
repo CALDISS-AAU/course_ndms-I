{
 "cells": [
  {
   "cell_type": "markdown",
   "id": "93efdca3-f44e-43c4-9fe1-a76ff03931f8",
   "metadata": {},
   "source": [
    "## Tilpasning af tokenizers\n",
    "\n",
    "- De fleste analyser af tekst vil kræve en form for tokenization\n",
    "- Simpel tokenization er hurtigt, men giver meget \"støj\"\n",
    "- Brug af sprogmodeller i tokenization kan gøre processen mere præcis, men gør det typisk også langsommere"
   ]
  },
  {
   "cell_type": "code",
   "execution_count": 9,
   "id": "17c7fb2e-6c96-4d99-80ed-65a9e30a01bb",
   "metadata": {},
   "outputs": [
    {
     "data": {
      "text/html": [
       "<div>\n",
       "<style scoped>\n",
       "    .dataframe tbody tr th:only-of-type {\n",
       "        vertical-align: middle;\n",
       "    }\n",
       "\n",
       "    .dataframe tbody tr th {\n",
       "        vertical-align: top;\n",
       "    }\n",
       "\n",
       "    .dataframe thead th {\n",
       "        text-align: right;\n",
       "    }\n",
       "</style>\n",
       "<table border=\"1\" class=\"dataframe\">\n",
       "  <thead>\n",
       "    <tr style=\"text-align: right;\">\n",
       "      <th></th>\n",
       "      <th>created_at</th>\n",
       "      <th>id</th>\n",
       "      <th>full_text</th>\n",
       "      <th>is_quote_status</th>\n",
       "      <th>retweet_count</th>\n",
       "      <th>favorite_count</th>\n",
       "      <th>favorited</th>\n",
       "      <th>retweeted</th>\n",
       "      <th>is_retweet</th>\n",
       "      <th>hashtags</th>\n",
       "      <th>urls</th>\n",
       "      <th>user_followers_count</th>\n",
       "      <th>party</th>\n",
       "    </tr>\n",
       "  </thead>\n",
       "  <tbody>\n",
       "    <tr>\n",
       "      <th>0</th>\n",
       "      <td>2020-10-21 14:48:39+00:00</td>\n",
       "      <td>1318927184111730700</td>\n",
       "      <td>Er på vej i miljøministeriet for at foreslå at...</td>\n",
       "      <td>False</td>\n",
       "      <td>13</td>\n",
       "      <td>47</td>\n",
       "      <td>False</td>\n",
       "      <td>False</td>\n",
       "      <td>False</td>\n",
       "      <td>['dkgreen']</td>\n",
       "      <td>[]</td>\n",
       "      <td>4064</td>\n",
       "      <td>Alternativet</td>\n",
       "    </tr>\n",
       "    <tr>\n",
       "      <th>1</th>\n",
       "      <td>2019-06-02 20:03:20+00:00</td>\n",
       "      <td>1135275725592891400</td>\n",
       "      <td>@nielscallesoe @helenehagel @alternativet_ Det...</td>\n",
       "      <td>False</td>\n",
       "      <td>0</td>\n",
       "      <td>1</td>\n",
       "      <td>False</td>\n",
       "      <td>False</td>\n",
       "      <td>False</td>\n",
       "      <td>[]</td>\n",
       "      <td>[]</td>\n",
       "      <td>4064</td>\n",
       "      <td>Alternativet</td>\n",
       "    </tr>\n",
       "    <tr>\n",
       "      <th>2</th>\n",
       "      <td>2016-03-10 09:07:52+00:00</td>\n",
       "      <td>707855478320189400</td>\n",
       "      <td>Vi står sammen, smiler Løkke på KL-topmøde og ...</td>\n",
       "      <td>False</td>\n",
       "      <td>13</td>\n",
       "      <td>14</td>\n",
       "      <td>False</td>\n",
       "      <td>False</td>\n",
       "      <td>False</td>\n",
       "      <td>['dkpol', 'KLtop16']</td>\n",
       "      <td>[]</td>\n",
       "      <td>4064</td>\n",
       "      <td>Alternativet</td>\n",
       "    </tr>\n",
       "    <tr>\n",
       "      <th>3</th>\n",
       "      <td>2019-04-07 19:59:03+00:00</td>\n",
       "      <td>1114980930467315700</td>\n",
       "      <td>@AnnaBylov @EU_Spring @rasmusnordqvist 💚</td>\n",
       "      <td>False</td>\n",
       "      <td>0</td>\n",
       "      <td>2</td>\n",
       "      <td>False</td>\n",
       "      <td>False</td>\n",
       "      <td>False</td>\n",
       "      <td>[]</td>\n",
       "      <td>[]</td>\n",
       "      <td>4064</td>\n",
       "      <td>Alternativet</td>\n",
       "    </tr>\n",
       "    <tr>\n",
       "      <th>4</th>\n",
       "      <td>2017-05-28 09:59:26+00:00</td>\n",
       "      <td>868768670427828200</td>\n",
       "      <td>Der er ikke noget alternativ til at Alternativ...</td>\n",
       "      <td>False</td>\n",
       "      <td>6</td>\n",
       "      <td>28</td>\n",
       "      <td>False</td>\n",
       "      <td>False</td>\n",
       "      <td>False</td>\n",
       "      <td>['LMÅ17']</td>\n",
       "      <td>[{'url': 'https://t.co/3MCdZZGKRq', 'expanded_...</td>\n",
       "      <td>4064</td>\n",
       "      <td>Alternativet</td>\n",
       "    </tr>\n",
       "  </tbody>\n",
       "</table>\n",
       "</div>"
      ],
      "text/plain": [
       "                  created_at                   id  \\\n",
       "0  2020-10-21 14:48:39+00:00  1318927184111730700   \n",
       "1  2019-06-02 20:03:20+00:00  1135275725592891400   \n",
       "2  2016-03-10 09:07:52+00:00   707855478320189400   \n",
       "3  2019-04-07 19:59:03+00:00  1114980930467315700   \n",
       "4  2017-05-28 09:59:26+00:00   868768670427828200   \n",
       "\n",
       "                                           full_text  is_quote_status  \\\n",
       "0  Er på vej i miljøministeriet for at foreslå at...            False   \n",
       "1  @nielscallesoe @helenehagel @alternativet_ Det...            False   \n",
       "2  Vi står sammen, smiler Løkke på KL-topmøde og ...            False   \n",
       "3           @AnnaBylov @EU_Spring @rasmusnordqvist 💚            False   \n",
       "4  Der er ikke noget alternativ til at Alternativ...            False   \n",
       "\n",
       "   retweet_count  favorite_count  favorited  retweeted  is_retweet  \\\n",
       "0             13              47      False      False       False   \n",
       "1              0               1      False      False       False   \n",
       "2             13              14      False      False       False   \n",
       "3              0               2      False      False       False   \n",
       "4              6              28      False      False       False   \n",
       "\n",
       "               hashtags                                               urls  \\\n",
       "0           ['dkgreen']                                                 []   \n",
       "1                    []                                                 []   \n",
       "2  ['dkpol', 'KLtop16']                                                 []   \n",
       "3                    []                                                 []   \n",
       "4             ['LMÅ17']  [{'url': 'https://t.co/3MCdZZGKRq', 'expanded_...   \n",
       "\n",
       "   user_followers_count         party  \n",
       "0                  4064  Alternativet  \n",
       "1                  4064  Alternativet  \n",
       "2                  4064  Alternativet  \n",
       "3                  4064  Alternativet  \n",
       "4                  4064  Alternativet  "
      ]
     },
     "execution_count": 9,
     "metadata": {},
     "output_type": "execute_result"
    }
   ],
   "source": [
    "import pandas as pd \n",
    "import spacy\n",
    "from spacy.lang.da import Danish\n",
    "import re\n",
    "\n",
    "tweetdata_url = \"https://raw.githubusercontent.com/CALDISS-AAU/course_ndms-I/master/datasets/poltweets_sample.csv\"\n",
    "tweets_df = pd.read_csv(tweetdata_url)\n",
    "tweets_df.head()"
   ]
  },
  {
   "cell_type": "code",
   "execution_count": 18,
   "id": "7f7485c8-89f0-4bb3-9975-04bac7d17e09",
   "metadata": {},
   "outputs": [],
   "source": [
    "nlp = Danish() # Indlæser \"tom\" sprogmodel\n",
    "tokenizer = nlp.tokenizer # henter tokenizer\n",
    "\n",
    "def tokenizer_simple(text):\n",
    "    custom_stop_words = [\"dkpol\", \"...\", \"\\n\\n\", \"tak\", \"når\", \"bare\", \"ja\"]\n",
    "    stop_words = list(nlp.Defaults.stop_words) + custom_stop_words\n",
    "    \n",
    "    \n",
    "    doc = tokenizer(text)\n",
    "    \n",
    "    tokens = []\n",
    "    \n",
    "    for word in doc:\n",
    "        if len(word.text) < 2:\n",
    "            continue\n",
    "        if word.text.lower() not in stop_words:\n",
    "            tokens.append(word.text.lower())\n",
    "    \n",
    "    return(tokens)"
   ]
  },
  {
   "cell_type": "code",
   "execution_count": 19,
   "id": "db205c39-5da5-46a9-97ad-3c12d78967fa",
   "metadata": {},
   "outputs": [
    {
     "data": {
      "text/plain": [
       "@alternativet    333\n",
       "godt             291\n",
       "danmark          206\n",
       "dag              196\n",
       "helt             185\n",
       "nye              172\n",
       "regeringen       165\n",
       "nej              165\n",
       "@spolitik        157\n",
       "dkgreen          155\n",
       "Name: tokens, dtype: int64"
      ]
     },
     "execution_count": 19,
     "metadata": {},
     "output_type": "execute_result"
    }
   ],
   "source": [
    "tweets_df['tokens'] = tweets_df['full_text'].apply(tokenizer_simple)\n",
    "tweets_df_tidy = tweets_df.explode('tokens')\n",
    "tweets_df_tidy['tokens'].value_counts()[0:10]"
   ]
  },
  {
   "cell_type": "code",
   "execution_count": 13,
   "id": "4fc43b3f-c035-4115-a1de-506cbf65ae81",
   "metadata": {},
   "outputs": [
    {
     "name": "stdout",
     "output_type": "stream",
     "text": [
      "God udstrakt hånd med grønt råderum på 2 mia. kr. om året. Det er en bevægelse i den rigtige retning efter stort politisk pres. Det viser og udstiller desuden, at regeringens egne grønne ambitioner i det fremlagte forslag for #FL21 var og er helt utilstrækkeligt. #ftlive#dkpol \n",
      " ['God', 'udstrakt', 'hånd', 'grønt', 'råderum', '2', 'mia.', 'kr.', 'året', '.', 'Det', 'bevægelse', 'rigtige', 'retning', 'stort', 'politisk', 'pres', '.', 'Det', 'viser', 'udstiller', 'desuden', ',', 'regeringens', 'egne', 'grønne', 'ambitioner', 'fremlagte', 'forslag', '#', 'FL21', 'helt', 'utilstrækkeligt', '.', '#', 'ftlive#dkpol']\n"
     ]
    }
   ],
   "source": [
    "tweet = tweets_df.loc[1505, 'full_text']\n",
    "tokens = tokenizer_simple(tweet)\n",
    "\n",
    "print(tweet,\n",
    "     \"\\n\",\n",
    "     tokens)"
   ]
  },
  {
   "cell_type": "code",
   "execution_count": 27,
   "id": "9b621cc3-0234-497a-aed3-90e52eafa310",
   "metadata": {},
   "outputs": [],
   "source": [
    "nlp = spacy.load(\"da_core_news_sm\", disable = [\"ner\"])"
   ]
  },
  {
   "cell_type": "code",
   "execution_count": 31,
   "id": "a46ef4fe-1bdd-42d3-8b09-02b6104ea1bb",
   "metadata": {},
   "outputs": [
    {
     "name": "stdout",
     "output_type": "stream",
     "text": [
      "God \t God\n",
      "udstrakt \t udstrække\n",
      "hånd \t hånd\n",
      "med \t mede\n",
      "grønt \t grønt\n",
      "råderum \t råderum\n",
      "på \t på\n",
      "2 \t 2\n",
      "mia. \t mia.\n",
      "kr. \t kr.\n",
      "om \t om\n",
      "året \t år\n",
      ". \t .\n",
      "Det \t Det\n",
      "er \t være\n",
      "en \t en\n",
      "bevægelse \t bevægelse\n",
      "i \t i\n",
      "den \t den\n",
      "rigtige \t rigtig\n",
      "retning \t retning\n",
      "efter \t efter\n",
      "stort \t stor\n",
      "politisk \t politisk\n",
      "pres \t presse\n",
      ". \t .\n",
      "Det \t Det\n",
      "viser \t vise\n",
      "og \t og\n",
      "udstiller \t udstille\n",
      "desuden \t desuden\n",
      ", \t ,\n",
      "at \t at\n",
      "regeringens \t regering\n",
      "egne \t egn\n",
      "grønne \t grøn\n",
      "ambitioner \t ambition\n",
      "i \t i\n",
      "det \t det\n",
      "fremlagte \t fremlægge\n",
      "forslag \t forslag\n",
      "for \t for\n",
      "# \t #\n",
      "FL21 \t FL21\n",
      "var \t være\n",
      "og \t og\n",
      "er \t være\n",
      "helt \t helt\n",
      "utilstrækkeligt \t utilstrækkelig\n",
      ". \t .\n",
      "# \t #\n",
      "ftlive#dkpol \t ftlive#dkpol\n"
     ]
    }
   ],
   "source": [
    "doc = nlp(tweet)\n",
    "\n",
    "for word in doc:\n",
    "    print(word.text, \"\\t\", word.lemma_)"
   ]
  },
  {
   "cell_type": "code",
   "execution_count": 36,
   "id": "a45b09e3-1668-40bf-915c-eb20faa64a91",
   "metadata": {},
   "outputs": [],
   "source": [
    "default_prefixes = list(nlp.Defaults.prefixes)\n",
    "default_prefixes.remove(\"#\")\n",
    "prefix_regex = spacy.util.compile_prefix_regex(default_prefixes)\n",
    "nlp.tokenizer.prefix_search = prefix_regex.search"
   ]
  },
  {
   "cell_type": "code",
   "execution_count": 39,
   "id": "2912942a-b405-4fe1-b116-7626c05cd338",
   "metadata": {},
   "outputs": [],
   "source": [
    "def tokenizer_spacy(text):\n",
    "    custom_stop_words = [\"dkpol\", \"...\", \"\\n\\n\", \"tak\", \"når\", \"bare\", \"ja\"]\n",
    "    stop_words = list(nlp.Defaults.stop_words) + custom_stop_words\n",
    "    \n",
    "    doc = nlp(text)\n",
    "    \n",
    "    pos_tags = [\"NOUN\", \"ADJ\"]\n",
    "    \n",
    "    tokens = []\n",
    "    \n",
    "    for word in doc:\n",
    "        if word.text.startswith(\"@\"):\n",
    "            continue\n",
    "        if word.text.startswith(\"#\"):\n",
    "            continue\n",
    "        if len(word.text) < 2:\n",
    "            continue\n",
    "        if word.text.lower() not in stop_words and word.pos_ in pos_tags:\n",
    "            tokens.append(word.lemma_.lower())\n",
    "            \n",
    "    return(tokens)"
   ]
  },
  {
   "cell_type": "code",
   "execution_count": 40,
   "id": "c0db83ff-e13c-4bbd-a9a9-de9e4eb429bd",
   "metadata": {},
   "outputs": [
    {
     "data": {
      "text/plain": [
       "dag         280\n",
       "regering    228\n",
       "stor        198\n",
       "dansk       193\n",
       "år          189\n",
       "barn        164\n",
       "god         148\n",
       "gang        141\n",
       "penge       125\n",
       "vigtig      120\n",
       "Name: tokens, dtype: int64"
      ]
     },
     "execution_count": 40,
     "metadata": {},
     "output_type": "execute_result"
    }
   ],
   "source": [
    "tweets_df['tokens'] = tweets_df['full_text'].apply(tokenizer_spacy)\n",
    "tweets_df_tidy = tweets_df.explode('tokens')\n",
    "tweets_df_tidy['tokens'].value_counts()[0:10]"
   ]
  },
  {
   "cell_type": "code",
   "execution_count": 41,
   "id": "800b0a1a-d6e8-48dd-af2e-872017228246",
   "metadata": {},
   "outputs": [
    {
     "data": {
      "text/plain": [
       "dag         280\n",
       "regering    228\n",
       "stor        198\n",
       "dansk       193\n",
       "år          189\n",
       "barn        164\n",
       "god         148\n",
       "gang        141\n",
       "penge       125\n",
       "vigtig      120\n",
       "grøn        117\n",
       "tid         116\n",
       "ny          110\n",
       "enig        108\n",
       "dansker     106\n",
       "hele         99\n",
       "gode         98\n",
       "forslag      95\n",
       "parti        94\n",
       "valg         94\n",
       "Name: tokens, dtype: int64"
      ]
     },
     "execution_count": 41,
     "metadata": {},
     "output_type": "execute_result"
    }
   ],
   "source": [
    "tweets_df_tidy['tokens'].value_counts()[0:20]"
   ]
  }
 ],
 "metadata": {
  "kernelspec": {
   "display_name": "Python 3 (ipykernel)",
   "language": "python",
   "name": "python3"
  },
  "language_info": {
   "codemirror_mode": {
    "name": "ipython",
    "version": 3
   },
   "file_extension": ".py",
   "mimetype": "text/x-python",
   "name": "python",
   "nbconvert_exporter": "python",
   "pygments_lexer": "ipython3",
   "version": "3.9.7"
  }
 },
 "nbformat": 4,
 "nbformat_minor": 5
}
