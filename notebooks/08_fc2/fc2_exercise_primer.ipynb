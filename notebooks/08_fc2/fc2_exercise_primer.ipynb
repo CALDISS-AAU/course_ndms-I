{
 "cells": [
  {
   "cell_type": "markdown",
   "id": "fc756728-be5f-4681-acfd-6b9c02c2df8d",
   "metadata": {},
   "source": [
    "# NDMS I: Text mining af reddit data\n",
    "\n",
    "*Flipped classroom øvelse til valgfaget \"Nyere digitale metoder i samfundsvidenskaben I\", 2022*\n",
    "\n",
    "I denne øvelse skal I udforske tekstdata i form af kommentarer fra reddit. I skal arbejde med et udtræk af Reddit-opslag med kommentarer fra subreddit [r/denmark](https://www.reddit.com/r/Denmark/). Udtrækket består af opslag fra 1/3/2021-8/3/2021 med mere end 15 kommentarer på udtrækstidspunktet (8/3/2021).\n",
    "\n",
    "Reddit er et online forum, hvor folk laver opslag af forskellig art, som andre kan kommentere på. Datasættet er opbygget sådan, at hver række er en kommentar. Data om opslaget er derfor gentaget for hver kommentar til opslaget. Kolonner, der indeholder data om opslag, starter med `post_`, mens kolonner, der indeholder data om kommentaren, starter med `comment_`.\n",
    "\n",
    "I skal først og fremmest udforske tekstindholdet i kommentarerne til et \"populært\" opslag. \n",
    "\n",
    "Hvis I har tid, må I gerne kaste jer over sentimentanalyse af kommentarerne. Hertil kan I bruge \"BERT Emotion Classifier\", der kategoriserer tekst efter otte forskellige følelser (`Glæde/Sindsro`, `Tillid/Accept`, `Forventning/Interrese`, `Overasket/Målløs`, `Vrede/Irritation`, `Foragt/Modvilje`, `Sorg/trist`, `Frygt/Bekymret`). Kodeeksempel findes under primer. Læs mere om modellen her: https://danlp-alexandra.readthedocs.io/en/latest/docs/tasks/sentiment_analysis.html#bert-emotion\n",
    "\n",
    "Link til data: https://raw.githubusercontent.com/CALDISS-AAU/course_ndms-I/master/datasets/reddit_rdenmark-comments_01032021-08032021_long.csv"
   ]
  },
  {
   "cell_type": "markdown",
   "id": "be45c9bf-7135-482b-b336-2c133394169c",
   "metadata": {},
   "source": [
    "## Øvelsesopgaver\n",
    "\n",
    "**1. Find et opslag med tekstindhold fra Reddit datasættet, der har mere end 100 kommentarer.**\n",
    "- Opslag på Reddit kan være tekst, links, billeder osv. De opslag, som består af tekst, er de opslag, som *ikke* er missing i kolonnen `post_selftext`.\n",
    "- Rækkerne i datasættet er kommentarer, så data om opslag er gentaget for hver kommentar til opslaget. Hvert opslag har unikt id, som fremgår af `post_id`.\n",
    "- Antal kommentarer til et opslag fremgår af kolonnen `post_num_comments`.\n",
    "- Brug evt. metoden `drop_duplicates` til at lave en dataframe kun med opslag (https://pandas.pydata.org/pandas-docs/stable/reference/api/pandas.DataFrame.drop_duplicates.html)\n",
    "\n",
    "**2. Dan et subset, der kun består af data vedrørende det udvalgte opslag (opslag + kommentarer).**\n",
    "\n",
    "**3. Lav en tokenizer til reddit-kommentarerne. Tokenizeren skal gøre følgende:**\n",
    "- Fjerne typiske danske stopord\n",
    "- Omdanne ord til lemma\n",
    "- Omdanne ord til små bogstaver\n",
    "- Kun beholde ord med mere end 4 bogstaver\n",
    "- Kun beholde navneord (`NOUN`), tillægsord/adjektiver (`AJD`) og egenavne (`PROPN`)\n",
    "\n",
    "**4. Tokenize kommentarerne til opslaget (kommentartekst findes i kolonnen `comment_body`)**\n",
    "\n",
    "**5. Dan en opsummering af hyppigste ord brugt i kommentarerne til opslaget (gerne med en visualisering)**\n",
    "\n",
    "### Bonus\n",
    "\n",
    "**Brug BERT Emotion classifier til at undersøge, hvilke følelser der umiddelbart optræder oftest i kommentarerne til opslaget**\n",
    "- Se kodeeksempel for at se, hvordan modellen bruges"
   ]
  },
  {
   "cell_type": "markdown",
   "id": "fcf7abde-9069-4c45-87c5-30e6bff28109",
   "metadata": {},
   "source": [
    "### Primer"
   ]
  },
  {
   "cell_type": "code",
   "execution_count": 4,
   "id": "7baf3445-f5ba-4383-8c82-021baaba9e5f",
   "metadata": {},
   "outputs": [],
   "source": [
    "# Import af pakker\n",
    "import pandas as pd\n",
    "import spacy\n",
    "import re\n",
    "import nltk\n",
    "nltk.download('omw-1.4')\n",
    "\n",
    "from danlp.models import load_bert_emotion_model\n",
    "\n",
    "# Indlæs dansk sprogmodel\n",
    "nlp = spacy.load(\"da_core_news_sm\") # Indlæser sprogmodel\n",
    "\n",
    "# Indlæs emotion classifier\n",
    "classifier = load_bert_emotion_model()\n",
    "\n",
    "# Indlæs data\n",
    "redditdata_url = \"https://raw.githubusercontent.com/CALDISS-AAU/course_ndms-I/master/datasets/reddit_rdenmark-comments_01032021-08032021_long.csv\"\n",
    "reddit_df = pd.read_csv(redditdata_url)"
   ]
  },
  {
   "cell_type": "code",
   "execution_count": null,
   "id": "e461aefc-4c06-4cab-80f8-f8712629dc4d",
   "metadata": {},
   "outputs": [],
   "source": [
    "reddit_df.head()"
   ]
  },
  {
   "cell_type": "code",
   "execution_count": 9,
   "id": "a6b1e533-5dfb-4da6-b759-61481b91fc42",
   "metadata": {},
   "outputs": [
    {
     "data": {
      "text/plain": [
       "'Sorg/trist'"
      ]
     },
     "execution_count": 10,
     "metadata": {},
     "output_type": "execute_result"
    }
   ],
   "source": [
    "# Eksempel på brug af emotion classifier\n",
    "\n",
    "classifier.predict('jeg ejer en rød bil men den er gået i stykker')"
   ]
  },
  {
   "cell_type": "code",
   "execution_count": 72,
   "id": "90352334-b53c-442f-b32b-3dd4629839df",
   "metadata": {},
   "outputs": [
    {
     "name": "stdout",
     "output_type": "stream",
     "text": [
      "Så er karnevallet kommet til byen! \n",
      " Forventning/Interrese\n"
     ]
    }
   ],
   "source": [
    "# Eksempel på brug af emotion classifier på enkelt kommentartekst\n",
    "\n",
    "comment = reddit_df.loc[1610, 'comment_body']\n",
    "print(comment,\n",
    "      \"\\n\",\n",
    "      classifier.predict(comment)\n",
    "     )"
   ]
  }
 ],
 "metadata": {
  "kernelspec": {
   "display_name": "Python 3 (ipykernel)",
   "language": "python",
   "name": "python3"
  },
  "language_info": {
   "codemirror_mode": {
    "name": "ipython",
    "version": 3
   },
   "file_extension": ".py",
   "mimetype": "text/x-python",
   "name": "python",
   "nbconvert_exporter": "python",
   "pygments_lexer": "ipython3",
   "version": "3.9.7"
  }
 },
 "nbformat": 4,
 "nbformat_minor": 5
}
