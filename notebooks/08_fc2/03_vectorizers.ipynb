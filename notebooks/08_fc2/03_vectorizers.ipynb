{
 "cells": [
  {
   "cell_type": "markdown",
   "metadata": {},
   "source": [
    "# Ordoptælling med vectorizers"
   ]
  },
  {
   "cell_type": "code",
   "execution_count": 5,
   "metadata": {},
   "outputs": [
    {
     "data": {
      "text/plain": [
       "3428"
      ]
     },
     "execution_count": 5,
     "metadata": {},
     "output_type": "execute_result"
    }
   ],
   "source": [
    "# prep\n",
    "\n",
    "import pandas as pd\n",
    "\n",
    "redditdata_url = \"https://raw.githubusercontent.com/CALDISS-AAU/course_ndms-I/master/datasets/reddit_rdenmark-comments_01032021-08032021_long.csv\"\n",
    "reddit_df = pd.read_csv(redditdata_url)\n",
    "\n",
    "# Lagr kommentarer i objekt for sig\n",
    "comments = list(reddit_df['comment_body'])\n",
    "\n",
    "len(comments)"
   ]
  },
  {
   "cell_type": "markdown",
   "metadata": {},
   "source": [
    "### CountVectorizer"
   ]
  },
  {
   "cell_type": "code",
   "execution_count": 6,
   "metadata": {},
   "outputs": [
    {
     "data": {
      "text/plain": [
       "3428"
      ]
     },
     "execution_count": 6,
     "metadata": {},
     "output_type": "execute_result"
    }
   ],
   "source": [
    "# Countvectorizer på kommentarer - rå tekst\n",
    "\n",
    "from sklearn.feature_extraction.text import CountVectorizer\n",
    "\n",
    "vectorizer = CountVectorizer()\n",
    "transformed_documents = vectorizer.fit_transform(comments)\n",
    "\n",
    "# Konverter fittet vectorizer til array\n",
    "transformed_documents_as_array = transformed_documents.toarray()\n",
    "\n",
    "len(transformed_documents_as_array)"
   ]
  },
  {
   "cell_type": "code",
   "execution_count": 7,
   "metadata": {
    "tags": []
   },
   "outputs": [
    {
     "name": "stderr",
     "output_type": "stream",
     "text": [
      "/opt/tljh/user/lib/python3.9/site-packages/sklearn/utils/deprecation.py:87: FutureWarning: Function get_feature_names is deprecated; get_feature_names is deprecated in 1.0 and will be removed in 1.2. Please use get_feature_names_out instead.\n",
      "  warnings.warn(msg, category=FutureWarning)\n"
     ]
    }
   ],
   "source": [
    "# Konverter array til document-term matrix\n",
    "\n",
    "df = pd.DataFrame(transformed_documents_as_array, columns = vectorizer.get_feature_names())"
   ]
  },
  {
   "cell_type": "code",
   "execution_count": 8,
   "metadata": {},
   "outputs": [
    {
     "data": {
      "text/html": [
       "<div>\n",
       "<style scoped>\n",
       "    .dataframe tbody tr th:only-of-type {\n",
       "        vertical-align: middle;\n",
       "    }\n",
       "\n",
       "    .dataframe tbody tr th {\n",
       "        vertical-align: top;\n",
       "    }\n",
       "\n",
       "    .dataframe thead th {\n",
       "        text-align: right;\n",
       "    }\n",
       "</style>\n",
       "<table border=\"1\" class=\"dataframe\">\n",
       "  <thead>\n",
       "    <tr style=\"text-align: right;\">\n",
       "      <th></th>\n",
       "      <th>00</th>\n",
       "      <th>000</th>\n",
       "      <th>000kr</th>\n",
       "      <th>01</th>\n",
       "      <th>019d907422_01</th>\n",
       "      <th>02</th>\n",
       "      <th>03</th>\n",
       "      <th>04</th>\n",
       "      <th>05</th>\n",
       "      <th>06</th>\n",
       "      <th>...</th>\n",
       "      <th>øver</th>\n",
       "      <th>øverligt</th>\n",
       "      <th>øverste</th>\n",
       "      <th>øvet</th>\n",
       "      <th>øvetimer</th>\n",
       "      <th>øvre</th>\n",
       "      <th>øvrige</th>\n",
       "      <th>øvrigt</th>\n",
       "      <th>überdurchschnittlich</th>\n",
       "      <th>ﾟヮﾟ</th>\n",
       "    </tr>\n",
       "  </thead>\n",
       "  <tbody>\n",
       "    <tr>\n",
       "      <th>0</th>\n",
       "      <td>0</td>\n",
       "      <td>0</td>\n",
       "      <td>0</td>\n",
       "      <td>0</td>\n",
       "      <td>0</td>\n",
       "      <td>0</td>\n",
       "      <td>0</td>\n",
       "      <td>0</td>\n",
       "      <td>0</td>\n",
       "      <td>0</td>\n",
       "      <td>...</td>\n",
       "      <td>0</td>\n",
       "      <td>0</td>\n",
       "      <td>0</td>\n",
       "      <td>0</td>\n",
       "      <td>0</td>\n",
       "      <td>0</td>\n",
       "      <td>0</td>\n",
       "      <td>0</td>\n",
       "      <td>0</td>\n",
       "      <td>0</td>\n",
       "    </tr>\n",
       "    <tr>\n",
       "      <th>1</th>\n",
       "      <td>0</td>\n",
       "      <td>0</td>\n",
       "      <td>0</td>\n",
       "      <td>0</td>\n",
       "      <td>0</td>\n",
       "      <td>0</td>\n",
       "      <td>0</td>\n",
       "      <td>0</td>\n",
       "      <td>0</td>\n",
       "      <td>0</td>\n",
       "      <td>...</td>\n",
       "      <td>0</td>\n",
       "      <td>0</td>\n",
       "      <td>0</td>\n",
       "      <td>0</td>\n",
       "      <td>0</td>\n",
       "      <td>0</td>\n",
       "      <td>0</td>\n",
       "      <td>0</td>\n",
       "      <td>0</td>\n",
       "      <td>0</td>\n",
       "    </tr>\n",
       "    <tr>\n",
       "      <th>2</th>\n",
       "      <td>0</td>\n",
       "      <td>0</td>\n",
       "      <td>0</td>\n",
       "      <td>0</td>\n",
       "      <td>0</td>\n",
       "      <td>0</td>\n",
       "      <td>0</td>\n",
       "      <td>0</td>\n",
       "      <td>0</td>\n",
       "      <td>0</td>\n",
       "      <td>...</td>\n",
       "      <td>0</td>\n",
       "      <td>0</td>\n",
       "      <td>0</td>\n",
       "      <td>0</td>\n",
       "      <td>0</td>\n",
       "      <td>0</td>\n",
       "      <td>0</td>\n",
       "      <td>0</td>\n",
       "      <td>0</td>\n",
       "      <td>0</td>\n",
       "    </tr>\n",
       "    <tr>\n",
       "      <th>3</th>\n",
       "      <td>0</td>\n",
       "      <td>0</td>\n",
       "      <td>0</td>\n",
       "      <td>0</td>\n",
       "      <td>0</td>\n",
       "      <td>0</td>\n",
       "      <td>0</td>\n",
       "      <td>0</td>\n",
       "      <td>0</td>\n",
       "      <td>0</td>\n",
       "      <td>...</td>\n",
       "      <td>0</td>\n",
       "      <td>0</td>\n",
       "      <td>0</td>\n",
       "      <td>0</td>\n",
       "      <td>0</td>\n",
       "      <td>0</td>\n",
       "      <td>0</td>\n",
       "      <td>0</td>\n",
       "      <td>0</td>\n",
       "      <td>0</td>\n",
       "    </tr>\n",
       "    <tr>\n",
       "      <th>4</th>\n",
       "      <td>0</td>\n",
       "      <td>0</td>\n",
       "      <td>0</td>\n",
       "      <td>0</td>\n",
       "      <td>0</td>\n",
       "      <td>0</td>\n",
       "      <td>0</td>\n",
       "      <td>0</td>\n",
       "      <td>0</td>\n",
       "      <td>0</td>\n",
       "      <td>...</td>\n",
       "      <td>0</td>\n",
       "      <td>0</td>\n",
       "      <td>0</td>\n",
       "      <td>0</td>\n",
       "      <td>0</td>\n",
       "      <td>0</td>\n",
       "      <td>0</td>\n",
       "      <td>0</td>\n",
       "      <td>0</td>\n",
       "      <td>0</td>\n",
       "    </tr>\n",
       "  </tbody>\n",
       "</table>\n",
       "<p>5 rows × 14415 columns</p>\n",
       "</div>"
      ],
      "text/plain": [
       "   00  000  000kr  01  019d907422_01  02  03  04  05  06  ...  øver  øverligt  \\\n",
       "0   0    0      0   0              0   0   0   0   0   0  ...     0         0   \n",
       "1   0    0      0   0              0   0   0   0   0   0  ...     0         0   \n",
       "2   0    0      0   0              0   0   0   0   0   0  ...     0         0   \n",
       "3   0    0      0   0              0   0   0   0   0   0  ...     0         0   \n",
       "4   0    0      0   0              0   0   0   0   0   0  ...     0         0   \n",
       "\n",
       "   øverste  øvet  øvetimer  øvre  øvrige  øvrigt  überdurchschnittlich  ﾟヮﾟ  \n",
       "0        0     0         0     0       0       0                     0    0  \n",
       "1        0     0         0     0       0       0                     0    0  \n",
       "2        0     0         0     0       0       0                     0    0  \n",
       "3        0     0         0     0       0       0                     0    0  \n",
       "4        0     0         0     0       0       0                     0    0  \n",
       "\n",
       "[5 rows x 14415 columns]"
      ]
     },
     "execution_count": 8,
     "metadata": {},
     "output_type": "execute_result"
    }
   ],
   "source": [
    "df.head()"
   ]
  },
  {
   "cell_type": "code",
   "execution_count": 9,
   "metadata": {},
   "outputs": [
    {
     "data": {
      "text/plain": [
       "er      3865\n",
       "det     3636\n",
       "at      3417\n",
       "og      2226\n",
       "ikke    1898\n",
       "jeg     1893\n",
       "en      1754\n",
       "på      1565\n",
       "der     1536\n",
       "til     1465\n",
       "for     1441\n",
       "de      1407\n",
       "har     1335\n",
       "så      1320\n",
       "du      1186\n",
       "af      1149\n",
       "med     1145\n",
       "som     1026\n",
       "kan      933\n",
       "den      904\n",
       "dtype: int64"
      ]
     },
     "execution_count": 9,
     "metadata": {},
     "output_type": "execute_result"
    }
   ],
   "source": [
    "# Optælling af ord på tværs af dokumenter\n",
    "\n",
    "word_count = df.sum()\n",
    "word_count.sort_values(ascending = False)[0:20]"
   ]
  },
  {
   "cell_type": "markdown",
   "metadata": {},
   "source": [
    "### ConuntVectorizer med stopord og dokumentgrænser"
   ]
  },
  {
   "cell_type": "code",
   "execution_count": 10,
   "metadata": {},
   "outputs": [
    {
     "name": "stderr",
     "output_type": "stream",
     "text": [
      "/opt/tljh/user/lib/python3.9/site-packages/sklearn/utils/deprecation.py:87: FutureWarning: Function get_feature_names is deprecated; get_feature_names is deprecated in 1.0 and will be removed in 1.2. Please use get_feature_names_out instead.\n",
      "  warnings.warn(msg, category=FutureWarning)\n"
     ]
    },
    {
     "data": {
      "text/plain": [
       "godt            260\n",
       "and             233\n",
       "folk            207\n",
       "tror            197\n",
       "danmark         165\n",
       "ja              164\n",
       "mener           131\n",
       "0a              126\n",
       "altså           112\n",
       "10              111\n",
       "mennesker       110\n",
       "reddit          107\n",
       "this            101\n",
       "nej              96\n",
       "gerne            95\n",
       "your             94\n",
       "post             88\n",
       "was              88\n",
       "tid              87\n",
       "can              85\n",
       "with             85\n",
       "faktisk          84\n",
       "gang             82\n",
       "gå               82\n",
       "they             82\n",
       "store            82\n",
       "finde            81\n",
       "spørgsmål        80\n",
       "hudfarve         79\n",
       "blevet           79\n",
       "penge            77\n",
       "on               75\n",
       "giver            75\n",
       "youtube          74\n",
       "måde             74\n",
       "or               74\n",
       "dag              73\n",
       "removed          72\n",
       "danske           72\n",
       "bedre            72\n",
       "langt            70\n",
       "tak              68\n",
       "enig             68\n",
       "selvfølgelig     67\n",
       "deleted          67\n",
       "woke             66\n",
       "står             65\n",
       "komme            64\n",
       "usa              63\n",
       "børn             63\n",
       "dtype: int64"
      ]
     },
     "execution_count": 10,
     "metadata": {},
     "output_type": "execute_result"
    }
   ],
   "source": [
    "# Indlæser spacy for at bruge spacy stopordsliste\n",
    "\n",
    "import spacy\n",
    "nlp = spacy.load(\"da_core_news_sm\")\n",
    "\n",
    "custom_stops = ['gt', 'bare', 'the', 'to', 'når', 'https', 'helt', 'of', 'se', 'in', 'www', 'is', 'you', 'dk', 'får', 'com', 'ret', 'it', 'that', 'år', 'siger',\n",
    "               'hele', 'går', 'ting', 'ser', 'del', 'vel', 'tage', 'set', 'are', 'be', 'not', 'but', 'amp']\n",
    "\n",
    "stops = list(nlp.Defaults.stop_words) + custom_stops\n",
    "\n",
    "# Indstiller vectorizer - stopord og maksimalt antal dokumenter, ord må indgå i (max. 70%)\n",
    "vectorizer = CountVectorizer(stop_words = stops, max_df = 0.7)\n",
    "transformed_documents = vectorizer.fit_transform(comments)\n",
    "\n",
    "transformed_documents_as_array = transformed_documents.toarray()\n",
    "\n",
    "# Konverter array til document-term matrix\n",
    "df = pd.DataFrame(transformed_documents_as_array, columns = vectorizer.get_feature_names())\n",
    "\n",
    "# Ordoptælling\n",
    "word_count = df.sum()\n",
    "word_count.sort_values(ascending = False)[0:50]"
   ]
  }
 ],
 "metadata": {
  "kernelspec": {
   "display_name": "Python 3",
   "language": "python",
   "name": "python3"
  },
  "language_info": {
   "codemirror_mode": {
    "name": "ipython",
    "version": 3
   },
   "file_extension": ".py",
   "mimetype": "text/x-python",
   "name": "python",
   "nbconvert_exporter": "python",
   "pygments_lexer": "ipython3",
   "version": "3.7.9"
  }
 },
 "nbformat": 4,
 "nbformat_minor": 5
}
