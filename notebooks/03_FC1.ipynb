{
 "cells": [
  {
   "cell_type": "markdown",
   "id": "fifth-astrology",
   "metadata": {},
   "source": [
    "- Kategoriske variable i Python\n",
    "  - Rekodning\n",
    "- Datakonvertering: \n",
    "  - get_dummies\n",
    "  - explode\n",
    "- Kod til missing\n",
    "- Håndtere missing\n",
    "  - `dropna()`\n",
    "  - `fillna()`\n",
    "- Ændre variabeltyper (`astype()`)\n",
    "  - Øvelse med tekstværdier, som er nødt til at blive lavet til tal\n",
    "  - `convert_dtypes()`\n",
    "- Visualiseringsindstillinger\n",
    "- Kombinere data\n",
    "  - `concat()`\n",
    "  - `merge()` (joins)"
   ]
  }
 ],
 "metadata": {
  "kernelspec": {
   "display_name": "Python 3",
   "language": "python",
   "name": "python3"
  },
  "language_info": {
   "codemirror_mode": {
    "name": "ipython",
    "version": 3
   },
   "file_extension": ".py",
   "mimetype": "text/x-python",
   "name": "python",
   "nbconvert_exporter": "python",
   "pygments_lexer": "ipython3",
   "version": "3.7.9"
  }
 },
 "nbformat": 4,
 "nbformat_minor": 5
}
