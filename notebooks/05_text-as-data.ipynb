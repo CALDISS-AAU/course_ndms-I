{
 "cells": [
  {
   "cell_type": "markdown",
   "metadata": {},
   "source": [
    "# Tekst som data: Håndtering af tekstdata og ’text mining’\n",
    "\n",
    "I dag ser vi på, hvordan tekster kan analyseres kvantitativt. Der introduceres diverse \"text mining\"-teknikker samt usuperviseret maskinlæring i form af latent dirichlet allocation til at inddele tekster i temaer.\n",
    "\n",
    "Der arbejdes med data fra Twitter og fra Reddit i løbet af sessionen\n",
    "\n",
    "**Indhold**\n",
    "1. Hvorfor beskæftige sig med tekst kvantitativt?\n",
    "2. Tekst og maskinlæring\n",
    "3. Håndtering af tekst (strings) i Python\n",
    "4. Bearbejdning/\"pre-processing\" af tekst (tokenization)\n",
    "5. Tokenization med sprogmodeller\n",
    "6. Simple text mining teknikker\n",
    "7. Introduktion til topic modelling med latent dirichlet allocation (LDA)"
   ]
  },
  {
   "cell_type": "markdown",
   "metadata": {},
   "source": [
    "# 1. Hvorfor beskæftige sig med tekst kvantitativt?\n",
    "\n",
    "Tekst har altid været en yderst relevant datakilde for samfundsvidenskaberne; om så det gælder artikler, interviewtransskriberinger, juridiske dokumenter, nyheder eller andet. \n",
    "\n",
    "Derudover produceres der uanede mængder af tekstdata fra sociale medier som Facebook, Twitter, Reddit osv. Internettet og sociale medier er i dag unægteligt forbundet til det sociale liv. \n",
    "\n",
    "**Udfordringen med tekstdata**\n",
    "\n",
    "Fra et analytisk synspunkt er der to primære udfordringer med tekst: volumen (der er rigtig meget af det) og formatet (det er ustruktureret). I samfundsvidenskaberne har man derfor længe opgivet kvantitativ analyse af tekst, da de kvantitative metoder, som oftest anvendes i samfundsvidenskaberne, ikke egner sig til denne type data. Som konsekvens deraf, har tekstdata automatisk været forbundet med kvalitativ analyse.\n",
    "\n",
    "Kvalitativ analyse kan dog ikke håndtere udfordringen om volumen: Et menneske kan ikke alene behandle så meget information. Behandling af store datamængder er netop det computerteknologi hjælper os med, og i dag findes der også mange teknikker til at analysere tekstdata med kvantitative teknikker. Dog kan det diskuteres, om disse (på nuværende tidspunkt) kan tjene som en erstatning for den kvalitative forskning, eller om teknikkerne kan bidrage til at kvalificere, validere eller informere kvalitativ forskning. \n",
    "\n",
    "**Muligheder med kvantitative/computationelle metoder**\n",
    "\n",
    "Selvom der i dag findes mange metoder og teknikker til at behandle tekst, så er brugen af disse til at bedrive samfundsvidenskabelig forskning stadig ikke særlig udbredt. Det betyder på den ene side, at der er mange uudforskede muligheder derude, men det betyder også, at der ikke er etableret faste traditioner for brug af disse metoder, og der er ej heller konsensus om, hvordan output af maskinlæringsmodeller brugt på tekst skal tolkes epistemologisk.\n",
    "\n",
    "Formålet med dagens lektion er at introducere til brug af kvantiative metoder på tekst, men der argumenteres ikke for, at disse kan erstatte den kvalitative forskning. "
   ]
  },
  {
   "cell_type": "markdown",
   "metadata": {},
   "source": [
    "# 2. Tekst og maskinlæring\n",
    "\n",
    "Overordnet set hjælper maskinlæring på tekst med én ting: klassifikation. \n",
    "\n",
    "*Superviseret* maskinlæring kan hjælpe med at klassificere tekst efter kategorier, som er kendte af forskeren. Her listes nogen eksempler på brug af superviseret maskinlæring på tekst:\n",
    "- Sentiment analysis: Kategorisering af tekst efter udtryke følelser (fx positiv/negativ)\n",
    "- Named Entity Recognition (NER): Identificering af nøgleoplysninger i tekst (fx navne, virksomheder)\n",
    "- Generel klassificering: Hvad handler tekststykket om?\n",
    "- Brug af sprogmodeller: Sætningskonstruktion, tekstopbygning\n",
    "\n",
    "Fælles for superviseret maskinlæring på tekst er, at modeller skal gives information om, hvordan kategorier ser ud i teksten. Dette sker ofte gennem manuel kategorisering/annotering (kaldes også at træne en model).\n",
    "\n",
    "*Usuperviseret* maskinlæring kan hjælpe os med at klassificere tekst efter kategorier, som *ikke* er kendt af forskeren. Det inkluderer blandt andet:\n",
    "- Klyngeanalyser: Gruppering efter ensartethed af teksten\n",
    "- Topic models: Udledning af underliggende emner i teksten\n",
    "- Netværksanalyser: Ord i kontekst analyseret som netværk (visuelt)\n",
    "- Word embedding teknikker: Analyse af ords betydning gennem deres kontekst (computationelt)\n",
    "\n",
    "\n",
    "Fælles for usuperviseret maskinlæring på tekst er, at de de gives minimalt input ift. at kunne producere et output, der hjælper til at kategorisere eller inddele data. Dog er disse teknikker typisk meget sårbare over for måden, som man har forudbehandlet data (vil ikke ord man har frasorteret, fx).\n",
    "\n",
    "## \"Natural language processing\" og \"text mining\"\n",
    "\n",
    "Man støder på to hovedtermer, når man arbejder kvantitativt med tekst: \"Natural language processing\" og \"text mining\". De to termer bruges lidt synonymt, men er bundet op på lidt forskellige traditioner og ophav. \n",
    "\n",
    "***\"Natural language processing\" (NLP)*** er først og fremmest en computervidenskabelig disciplin. Det er en disciplin, der beskæftiger sig med at få en computer til at forstå menneskeligt sprog (talt eller skrevet). Tale-til-tekst applikationer, stemmestyring, autocorrect er alle sammen baseret på natural language processing teknikker. \n",
    "\n",
    "Hvis I vil se et eksempel på førende NLP-teknologi i aktion, kan I tage et kig på [AI Dungeon](https://play.aidungeon.io/).\n",
    "\n",
    "***\"Text mining\"*** er primært et dataanalyse-term, der referer til metoder og teknikker, som udleder indhold, mønstre osv. i tekstdata. Meget text mining gør dog brug af NLP, da det er teknikkerne udviklet i NLP, der hjælper os til at få computeren til at forstå teksten, som vi undersøger."
   ]
  },
  {
   "cell_type": "markdown",
   "metadata": {},
   "source": [
    "## Text mining workflow i Python: Et eksempel\n",
    "\n",
    "Herunder ses et eksempel på et text mining workflow i Python.\n",
    "\n",
    "Det indeholder følgende:\n",
    "- Import af relevante pakker\n",
    "- Indlæsning af data\n",
    "- Definere tokenizer funktion (med `stanza`)\n",
    "- Tokenize tekstdata\n",
    "- Konverter data til tidy format\n",
    "- Ordoptælling (her hyppigste termer i tweets fordelt på parti)\n",
    "- Konvertering af data fra tokens-lister til \"gensim corpus\" (krævet data format til at lave en topic model)\n",
    "- Topic model på tweets baseret på \"gensim corpus\""
   ]
  },
  {
   "cell_type": "code",
   "execution_count": 2,
   "metadata": {},
   "outputs": [
    {
     "name": "stderr",
     "output_type": "stream",
     "text": [
      "2021-03-11 09:47:35 INFO: Loading these models for language: da (Danish):\n",
      "=======================\n",
      "| Processor | Package |\n",
      "-----------------------\n",
      "| tokenize  | ddt     |\n",
      "| pos       | ddt     |\n",
      "| lemma     | ddt     |\n",
      "=======================\n",
      "\n",
      "2021-03-11 09:47:35 INFO: Use device: cpu\n",
      "2021-03-11 09:47:35 INFO: Loading: tokenize\n",
      "2021-03-11 09:47:35 INFO: Loading: pos\n",
      "2021-03-11 09:47:36 INFO: Loading: lemma\n",
      "2021-03-11 09:47:36 INFO: Done loading processors!\n"
     ]
    }
   ],
   "source": [
    "# Import af pakker\n",
    "\n",
    "import ast\n",
    "import pandas as pd\n",
    "from pprint import pprint\n",
    "import matplotlib.pyplot as plt\n",
    "import seaborn as sns\n",
    "import stanza\n",
    "from nltk.corpus import stopwords\n",
    "import gensim\n",
    "from gensim import corpora\n",
    "from gensim.models.ldamodel import LdaModel\n",
    "\n",
    "# Sæt visualiseringsindstillinger\n",
    "%matplotlib inline\n",
    "sns.set(rc={'figure.figsize':(20,10)})\n",
    "\n",
    "# Sæt sprogmodel\n",
    "#stanza.download('da')\n",
    "nlp = stanza.Pipeline('da', processors = 'tokenize, pos, lemma')"
   ]
  },
  {
   "cell_type": "code",
   "execution_count": 3,
   "metadata": {},
   "outputs": [
    {
     "data": {
      "text/plain": [
       "(5500, 13)"
      ]
     },
     "execution_count": 3,
     "metadata": {},
     "output_type": "execute_result"
    }
   ],
   "source": [
    "# Indlæsning af data\n",
    "tweetdata_url = \"https://raw.githubusercontent.com/CALDISS-AAU/course_ndms-I/master/datasets/poltweets_sample.csv\"\n",
    "tweets_df = pd.read_csv(tweetdata_url)\n",
    "tweets_df.shape"
   ]
  },
  {
   "cell_type": "code",
   "execution_count": 11,
   "metadata": {},
   "outputs": [],
   "source": [
    "# Definer tokenizer\n",
    "def tokenizer_stanza(text): # Definerer funktion ud fra koden fra tidligere\n",
    "    custom_stops = [\"@\", \"god\", \"al\", \"stor\", \"ny\", \"tak\", \"dag\"]\n",
    "    stop_words = list(stopwords.words('danish')) + custom_stops\n",
    "    pos_tags = ['PROPN', 'ADJ', 'NOUN']\n",
    "\n",
    "    doc = nlp(text)\n",
    "\n",
    "    tokens = []\n",
    "\n",
    "    for sentence in doc.sentences:\n",
    "        for word in sentence.words:\n",
    "            if (word.lemma.startswith(\"@\")) or (word.lemma.startswith(\"#\")) or (len(word.lemma) < 3):\n",
    "                continue\n",
    "            if (word.pos in pos_tags) and (word.lemma not in stop_words):\n",
    "                tokens.append(word.lemma)\n",
    "                \n",
    "    return(tokens)"
   ]
  },
  {
   "cell_type": "code",
   "execution_count": 12,
   "metadata": {},
   "outputs": [],
   "source": [
    "# Anvend tokenizer på data (tager lang tid, så indlæs i forvejen tokenized data)\n",
    "#tweets_df['tokens'] = tweets_df['full_text'].apply(tokenizer_stanza)"
   ]
  },
  {
   "cell_type": "code",
   "execution_count": 13,
   "metadata": {
    "tags": []
   },
   "outputs": [],
   "source": [
    "# Indlæs tokenized data, hvis nødvendigt\n",
    "tweets_df = pd.read_csv(\"https://raw.githubusercontent.com/CALDISS-AAU/course_ndms-I/master/datasets/poltweets_sample_tokens.csv\")\n",
    "tweets_df['tokens'] = tweets_df['tokens'].apply(ast.literal_eval)"
   ]
  },
  {
   "cell_type": "code",
   "execution_count": 14,
   "metadata": {},
   "outputs": [
    {
     "name": "stdout",
     "output_type": "stream",
     "text": [
      "----Top 10 tokens for ALTERNATIVET----\n",
      "\n",
      "æalternativ          271\n",
      "alternativ            41\n",
      "ådkgre                32\n",
      "grøn                  19\n",
      "regering              18\n",
      "kontanthjælpsloft     16\n",
      "arbejde               14\n",
      "social                14\n",
      "kommune               13\n",
      "barn                  13\n",
      "Name: tokens, dtype: int64\n",
      "\n",
      "\n",
      "----Top 10 tokens for DANSK FOLKEPARTI----\n",
      "\n",
      "Danmark      32\n",
      "dansk        31\n",
      "regering     23\n",
      "dansker      17\n",
      "folketing    16\n",
      "gang         15\n",
      "ådkmedie     13\n",
      "land         13\n",
      "klar         12\n",
      "politi       12\n",
      "Name: tokens, dtype: int64\n",
      "\n",
      "\n",
      "----Top 10 tokens for DET KONSERVATIVE FOLKEPARTI----\n",
      "\n",
      "regering          23\n",
      "konservativedk    23\n",
      "dansk             17\n",
      "enig              14\n",
      "debat             14\n",
      "svær              13\n",
      "Spolitik          12\n",
      "gang              12\n",
      "barn              12\n",
      "Danmark           12\n",
      "Name: tokens, dtype: int64\n",
      "\n",
      "\n",
      "----Top 10 tokens for ENHEDSLISTEN----\n",
      "\n",
      "enhedsliste    47\n",
      "ådkgre         38\n",
      "regering       38\n",
      "vigtig         24\n",
      "grøn           21\n",
      "brug           19\n",
      "penge          18\n",
      "barn           17\n",
      "dansk          17\n",
      "enig           16\n",
      "Name: tokens, dtype: int64\n",
      "\n",
      "\n",
      "----Top 10 tokens for LIBERAL ALLIANCE----\n",
      "\n",
      "penge              25\n",
      "regering           24\n",
      "LiberalAlliance    24\n",
      "høj                19\n",
      "tid                17\n",
      "folk               16\n",
      "problem            15\n",
      "Danmark            14\n",
      "offentlig          13\n",
      "politik            13\n",
      "Name: tokens, dtype: int64\n",
      "\n",
      "\n",
      "----Top 10 tokens for NYE BORGERLIGE----\n",
      "\n",
      "borgerlig    55\n",
      "Danmark      52\n",
      "dansker      34\n",
      "dansk        32\n",
      "politiker    30\n",
      "ådkmedie     26\n",
      "barn         24\n",
      "regering     22\n",
      "land         20\n",
      "aften        17\n",
      "Name: tokens, dtype: int64\n",
      "\n",
      "\n",
      "----Top 10 tokens for RADIKALE VENSTRE----\n",
      "\n",
      "æradikal      48\n",
      "enig          23\n",
      "barn          19\n",
      "dansk         17\n",
      "ådkgre        14\n",
      "Danmark       13\n",
      "vigtig        13\n",
      "tid           13\n",
      "uddannelse    12\n",
      "måde          12\n",
      "Name: tokens, dtype: int64\n",
      "\n",
      "\n",
      "----Top 10 tokens for SOCIALDEMOKRATIET----\n",
      "\n",
      "Spolitik    45\n",
      "regering    28\n",
      "barn        22\n",
      "Danmark     20\n",
      "gang        20\n",
      "vigtig      16\n",
      "klar        14\n",
      "dansk       14\n",
      "stærk       13\n",
      "Løkke       12\n",
      "Name: tokens, dtype: int64\n",
      "\n",
      "\n",
      "----Top 10 tokens for SOCIALISTISK FOLKEPARTI----\n",
      "\n",
      "SFpolitik    41\n",
      "barn         38\n",
      "enig         29\n",
      "ådkgre       24\n",
      "vigtig       22\n",
      "brug         21\n",
      "forslag      20\n",
      "regering     20\n",
      "tid          18\n",
      "vej          18\n",
      "Name: tokens, dtype: int64\n",
      "\n",
      "\n",
      "----Top 10 tokens for UDEN FOR FOLKETINGSGRUPPERNE----\n",
      "\n",
      "Danmark      29\n",
      "grøn         28\n",
      "ådkgre       25\n",
      "regering     22\n",
      "ådkmedie     21\n",
      "dansk        20\n",
      "gang         19\n",
      "barn         18\n",
      "menneske     13\n",
      "folketing    13\n",
      "Name: tokens, dtype: int64\n",
      "\n",
      "\n",
      "----Top 10 tokens for VENSTRE----\n",
      "\n",
      "regering         43\n",
      "Spolitik         30\n",
      "Danmark          25\n",
      "dansk            23\n",
      "enig             20\n",
      "valg             17\n",
      "dansker          17\n",
      "vigtig           16\n",
      "statsminister    15\n",
      "klar             14\n",
      "Name: tokens, dtype: int64\n",
      "\n",
      "\n"
     ]
    }
   ],
   "source": [
    "# Data til tidy format\n",
    "tweets_df_tidy = tweets_df.explode('tokens')\n",
    "\n",
    "# Optælling af top 10 tokens for hvert parti\n",
    "for party in tweets_df_tidy['party'].unique():\n",
    "    print(f\"----Top 10 tokens for {party.upper()}----\\n\")\n",
    "    print(tweets_df_tidy.loc[tweets_df_tidy['party'] == party, 'tokens'].value_counts()[0:10])\n",
    "    print(\"\\n\")"
   ]
  },
  {
   "cell_type": "code",
   "execution_count": 15,
   "metadata": {},
   "outputs": [],
   "source": [
    "# Konverter tweets til gensim corpus\n",
    "tweets_tokens = list(tweets_df['tokens'])\n",
    "id2token = corpora.Dictionary(tweets_tokens) # integer id per word\n",
    "tweets_corpus = [id2token.doc2bow(tokens) for tokens in tweets_tokens] # bag-of-word(bow) tuples for hver text - (token-id, optælling)\n",
    "\n",
    "# Bygger LDA model\n",
    "lda_model = LdaModel(corpus=tweets_corpus,  # Corpus af tekster\n",
    "                    id2word=id2token,       # Dictionary af ord-id mapping\n",
    "                     num_topics=10,          # Antal topics\n",
    "                     random_state=142)       # Sætter seed - sikrer samme resultat"
   ]
  },
  {
   "cell_type": "code",
   "execution_count": 16,
   "metadata": {},
   "outputs": [
    {
     "name": "stdout",
     "output_type": "stream",
     "text": [
      "[(0,\n",
      "  [('barn', 0.015348121),\n",
      "   ('dansker', 0.014420722),\n",
      "   ('forslag', 0.013904027),\n",
      "   ('grøn', 0.0104087265),\n",
      "   ('æalternativ', 0.009762152),\n",
      "   ('krone', 0.008521342),\n",
      "   ('æpolitike', 0.007819451),\n",
      "   ('Danmark', 0.0073938933),\n",
      "   ('milliard', 0.0068046297),\n",
      "   ('dansk', 0.0066727786)]),\n",
      " (1,\n",
      "  [('statsminister', 0.014149268),\n",
      "   ('dansk', 0.012120125),\n",
      "   ('tid', 0.008486022),\n",
      "   ('Mette', 0.0084452415),\n",
      "   ('blå', 0.0074493317),\n",
      "   ('regering', 0.00723349),\n",
      "   ('Danmark', 0.0066042966),\n",
      "   ('ådkmedie', 0.006548232),\n",
      "   ('eksempel', 0.0063753626),\n",
      "   ('fald', 0.006153699)]),\n",
      " (2,\n",
      "  [('vigtig', 0.009171487),\n",
      "   ('høj', 0.008916648),\n",
      "   ('Heunicke', 0.00875799),\n",
      "   ('PiaOlsen', 0.005994602),\n",
      "   ('enig', 0.0059861997),\n",
      "   ('København', 0.0049922136),\n",
      "   ('stemme', 0.0047079087),\n",
      "   ('opmærksom', 0.0044500213),\n",
      "   ('JanEJoergensen', 0.00441539),\n",
      "   ('uge', 0.004310147)]),\n",
      " (3,\n",
      "  [('Danmark', 0.0111359395),\n",
      "   ('regering', 0.009739467),\n",
      "   ('første', 0.00761231),\n",
      "   ('natur', 0.006795215),\n",
      "   ('sundhedsvæsen', 0.006472281),\n",
      "   ('uddannelse', 0.0063718944),\n",
      "   ('egen', 0.005951828),\n",
      "   ('einformer', 0.005921217),\n",
      "   ('parti', 0.00569387),\n",
      "   ('samfund', 0.0056580175)]),\n",
      " (4,\n",
      "  [('dansk', 0.014138467),\n",
      "   ('samme', 0.012532169),\n",
      "   ('ådkgre', 0.011100176),\n",
      "   ('Danmark', 0.009478967),\n",
      "   ('godt', 0.00934951),\n",
      "   ('grøn', 0.007215624),\n",
      "   ('skridt', 0.0065825204),\n",
      "   ('måde', 0.0062329443),\n",
      "   ('fremtid', 0.0060279183),\n",
      "   ('spørgsmål', 0.005933899)]),\n",
      " (5,\n",
      "  [('barn', 0.01894444),\n",
      "   ('æradikal', 0.011898952),\n",
      "   ('politik', 0.010545277),\n",
      "   ('grøn', 0.009154732),\n",
      "   ('ådkgre', 0.008443339),\n",
      "   ('klar', 0.008192947),\n",
      "   ('regering', 0.00794014),\n",
      "   ('penge', 0.007563224),\n",
      "   ('enig', 0.006715261),\n",
      "   ('bil', 0.0067088758)]),\n",
      " (6,\n",
      "  [('SFpolitik', 0.021506017),\n",
      "   ('vej', 0.011410763),\n",
      "   ('fantastisk', 0.009021798),\n",
      "   ('morgen', 0.0086664185),\n",
      "   ('forhold', 0.008133683),\n",
      "   ('regering', 0.0074806088),\n",
      "   ('kamp', 0.007211096),\n",
      "   ('land', 0.0065543787),\n",
      "   ('plads', 0.0057855826),\n",
      "   ('del', 0.0054523274)]),\n",
      " (7,\n",
      "  [('samarbejde', 0.013969536),\n",
      "   ('brug', 0.011692583),\n",
      "   ('tillykke', 0.00932755),\n",
      "   ('gang', 0.0073159523),\n",
      "   ('Spolitik', 0.006608148),\n",
      "   ('ådkmedie', 0.0064690723),\n",
      "   ('LiberalAlliance', 0.0064299596),\n",
      "   ('patient', 0.005772431),\n",
      "   ('penge', 0.0054299026),\n",
      "   ('svar', 0.00511611)]),\n",
      " (8,\n",
      "  [('regering', 0.02016815),\n",
      "   ('Danmark', 0.019524818),\n",
      "   ('valg', 0.014932018),\n",
      "   ('enig', 0.014475452),\n",
      "   ('lille', 0.011507431),\n",
      "   ('tid', 0.010487099),\n",
      "   ('parti', 0.008004995),\n",
      "   ('venstre', 0.007830992),\n",
      "   ('hel', 0.007710305),\n",
      "   ('vigtig', 0.007700861)]),\n",
      " (9,\n",
      "  [('gang', 0.013829853),\n",
      "   ('barn', 0.007974716),\n",
      "   ('debat', 0.0073686694),\n",
      "   ('politisk', 0.0072574117),\n",
      "   ('enig', 0.006946141),\n",
      "   ('regering', 0.006571278),\n",
      "   ('Spolitik', 0.0061243176),\n",
      "   ('liv', 0.0060914815),\n",
      "   ('aften', 0.0055721463),\n",
      "   ('fælles', 0.0054776045)])]\n"
     ]
    }
   ],
   "source": [
    "# Viser mest sandsynlige ord per topic\n",
    "pprint(lda_model.show_topics(formatted=False)) # Viser de 10 mest sandsynlige ord per topic"
   ]
  },
  {
   "cell_type": "markdown",
   "metadata": {},
   "source": [
    "# 3. Håndtering af tekst (strings) i Python\n",
    "\n",
    "Lad os først se på, hvordan man arbejder med enkelte tekstværdier i Python."
   ]
  },
  {
   "cell_type": "markdown",
   "metadata": {},
   "source": [
    "Vi starter med at importere de pakker vi kender til at importere data og visualisere. Derefter importerer vi de datasæt, som vi skal arbejde med i dag."
   ]
  },
  {
   "cell_type": "code",
   "execution_count": 7,
   "metadata": {},
   "outputs": [],
   "source": [
    "import pandas as pd\n",
    "import matplotlib.pyplot as plt\n",
    "import seaborn as sns\n",
    "\n",
    "%matplotlib inline\n",
    "sns.set(rc={'figure.figsize':(20,10)})"
   ]
  },
  {
   "cell_type": "code",
   "execution_count": 8,
   "metadata": {},
   "outputs": [],
   "source": [
    "tweetdata_url = \"https://raw.githubusercontent.com/CALDISS-AAU/course_ndms-I/master/datasets/poltweets_sample.csv\"\n",
    "tweets_df = pd.read_csv(tweetdata_url)\n",
    "\n",
    "redditdata_url = \"https://raw.githubusercontent.com/CALDISS-AAU/course_ndms-I/master/datasets/reddit_rdenmark-comments_01032021-08032021_long.csv\"\n",
    "reddit_df = pd.read_csv(redditdata_url)"
   ]
  },
  {
   "cell_type": "markdown",
   "metadata": {},
   "source": [
    "**Datasæt 1: Danske politikere på Twitter**\n",
    "\n",
    "Det første datasæt er en samling af tweets fra danske folketingspolitikere. Der er tweets fra perioden 1/1/2015 - 27/1/2021. Data er et sample bestående af 500 tilfædige tweets per danske parti i den periode. Personlige oplysninger i form af brugernavn, placering og brugerbeskrivelser er fjernet fra data.\n",
    "\n",
    "Dette datasæt bliver brugt i de fleste eksempler i løbet af dagens session."
   ]
  },
  {
   "cell_type": "code",
   "execution_count": 9,
   "metadata": {},
   "outputs": [
    {
     "data": {
      "text/html": [
       "<div>\n",
       "<style scoped>\n",
       "    .dataframe tbody tr th:only-of-type {\n",
       "        vertical-align: middle;\n",
       "    }\n",
       "\n",
       "    .dataframe tbody tr th {\n",
       "        vertical-align: top;\n",
       "    }\n",
       "\n",
       "    .dataframe thead th {\n",
       "        text-align: right;\n",
       "    }\n",
       "</style>\n",
       "<table border=\"1\" class=\"dataframe\">\n",
       "  <thead>\n",
       "    <tr style=\"text-align: right;\">\n",
       "      <th></th>\n",
       "      <th>created_at</th>\n",
       "      <th>id</th>\n",
       "      <th>full_text</th>\n",
       "      <th>is_quote_status</th>\n",
       "      <th>retweet_count</th>\n",
       "      <th>favorite_count</th>\n",
       "      <th>favorited</th>\n",
       "      <th>retweeted</th>\n",
       "      <th>is_retweet</th>\n",
       "      <th>hashtags</th>\n",
       "      <th>urls</th>\n",
       "      <th>user_followers_count</th>\n",
       "      <th>party</th>\n",
       "    </tr>\n",
       "  </thead>\n",
       "  <tbody>\n",
       "    <tr>\n",
       "      <th>0</th>\n",
       "      <td>2020-10-21 14:48:39+00:00</td>\n",
       "      <td>1318927184111730700</td>\n",
       "      <td>Er på vej i miljøministeriet for at foreslå at...</td>\n",
       "      <td>False</td>\n",
       "      <td>13</td>\n",
       "      <td>47</td>\n",
       "      <td>False</td>\n",
       "      <td>False</td>\n",
       "      <td>False</td>\n",
       "      <td>['dkgreen']</td>\n",
       "      <td>[]</td>\n",
       "      <td>4064</td>\n",
       "      <td>Alternativet</td>\n",
       "    </tr>\n",
       "    <tr>\n",
       "      <th>1</th>\n",
       "      <td>2019-06-02 20:03:20+00:00</td>\n",
       "      <td>1135275725592891400</td>\n",
       "      <td>@nielscallesoe @helenehagel @alternativet_ Det...</td>\n",
       "      <td>False</td>\n",
       "      <td>0</td>\n",
       "      <td>1</td>\n",
       "      <td>False</td>\n",
       "      <td>False</td>\n",
       "      <td>False</td>\n",
       "      <td>[]</td>\n",
       "      <td>[]</td>\n",
       "      <td>4064</td>\n",
       "      <td>Alternativet</td>\n",
       "    </tr>\n",
       "    <tr>\n",
       "      <th>2</th>\n",
       "      <td>2016-03-10 09:07:52+00:00</td>\n",
       "      <td>707855478320189400</td>\n",
       "      <td>Vi står sammen, smiler Løkke på KL-topmøde og ...</td>\n",
       "      <td>False</td>\n",
       "      <td>13</td>\n",
       "      <td>14</td>\n",
       "      <td>False</td>\n",
       "      <td>False</td>\n",
       "      <td>False</td>\n",
       "      <td>['dkpol', 'KLtop16']</td>\n",
       "      <td>[]</td>\n",
       "      <td>4064</td>\n",
       "      <td>Alternativet</td>\n",
       "    </tr>\n",
       "    <tr>\n",
       "      <th>3</th>\n",
       "      <td>2019-04-07 19:59:03+00:00</td>\n",
       "      <td>1114980930467315700</td>\n",
       "      <td>@AnnaBylov @EU_Spring @rasmusnordqvist 💚</td>\n",
       "      <td>False</td>\n",
       "      <td>0</td>\n",
       "      <td>2</td>\n",
       "      <td>False</td>\n",
       "      <td>False</td>\n",
       "      <td>False</td>\n",
       "      <td>[]</td>\n",
       "      <td>[]</td>\n",
       "      <td>4064</td>\n",
       "      <td>Alternativet</td>\n",
       "    </tr>\n",
       "    <tr>\n",
       "      <th>4</th>\n",
       "      <td>2017-05-28 09:59:26+00:00</td>\n",
       "      <td>868768670427828200</td>\n",
       "      <td>Der er ikke noget alternativ til at Alternativ...</td>\n",
       "      <td>False</td>\n",
       "      <td>6</td>\n",
       "      <td>28</td>\n",
       "      <td>False</td>\n",
       "      <td>False</td>\n",
       "      <td>False</td>\n",
       "      <td>['LMÅ17']</td>\n",
       "      <td>[{'url': 'https://t.co/3MCdZZGKRq', 'expanded_...</td>\n",
       "      <td>4064</td>\n",
       "      <td>Alternativet</td>\n",
       "    </tr>\n",
       "  </tbody>\n",
       "</table>\n",
       "</div>"
      ],
      "text/plain": [
       "                  created_at                   id  \\\n",
       "0  2020-10-21 14:48:39+00:00  1318927184111730700   \n",
       "1  2019-06-02 20:03:20+00:00  1135275725592891400   \n",
       "2  2016-03-10 09:07:52+00:00   707855478320189400   \n",
       "3  2019-04-07 19:59:03+00:00  1114980930467315700   \n",
       "4  2017-05-28 09:59:26+00:00   868768670427828200   \n",
       "\n",
       "                                           full_text  is_quote_status  \\\n",
       "0  Er på vej i miljøministeriet for at foreslå at...            False   \n",
       "1  @nielscallesoe @helenehagel @alternativet_ Det...            False   \n",
       "2  Vi står sammen, smiler Løkke på KL-topmøde og ...            False   \n",
       "3           @AnnaBylov @EU_Spring @rasmusnordqvist 💚            False   \n",
       "4  Der er ikke noget alternativ til at Alternativ...            False   \n",
       "\n",
       "   retweet_count  favorite_count  favorited  retweeted  is_retweet  \\\n",
       "0             13              47      False      False       False   \n",
       "1              0               1      False      False       False   \n",
       "2             13              14      False      False       False   \n",
       "3              0               2      False      False       False   \n",
       "4              6              28      False      False       False   \n",
       "\n",
       "               hashtags                                               urls  \\\n",
       "0           ['dkgreen']                                                 []   \n",
       "1                    []                                                 []   \n",
       "2  ['dkpol', 'KLtop16']                                                 []   \n",
       "3                    []                                                 []   \n",
       "4             ['LMÅ17']  [{'url': 'https://t.co/3MCdZZGKRq', 'expanded_...   \n",
       "\n",
       "   user_followers_count         party  \n",
       "0                  4064  Alternativet  \n",
       "1                  4064  Alternativet  \n",
       "2                  4064  Alternativet  \n",
       "3                  4064  Alternativet  \n",
       "4                  4064  Alternativet  "
      ]
     },
     "execution_count": 9,
     "metadata": {},
     "output_type": "execute_result"
    }
   ],
   "source": [
    "tweets_df.head()"
   ]
  },
  {
   "cell_type": "markdown",
   "metadata": {},
   "source": [
    "**Datasæt 2: Kommentarer fra Reddit (r/denmark)**\n",
    "\n",
    "Det andet datasæt er et udtræk af Reddit-opslag med kommentarer fra subreddit [r/denmark](https://www.reddit.com/r/Denmark/). Udtrækket består af opslag fra 1/3/2021-8/3/2021 med mere end 15 kommentarer på udtrækstidspunktet (8/3/2021).\n",
    "\n",
    "Dette datasæt bliver brugt i dagens øvelser."
   ]
  },
  {
   "cell_type": "code",
   "execution_count": 10,
   "metadata": {},
   "outputs": [
    {
     "data": {
      "text/html": [
       "<div>\n",
       "<style scoped>\n",
       "    .dataframe tbody tr th:only-of-type {\n",
       "        vertical-align: middle;\n",
       "    }\n",
       "\n",
       "    .dataframe tbody tr th {\n",
       "        vertical-align: top;\n",
       "    }\n",
       "\n",
       "    .dataframe thead th {\n",
       "        text-align: right;\n",
       "    }\n",
       "</style>\n",
       "<table border=\"1\" class=\"dataframe\">\n",
       "  <thead>\n",
       "    <tr style=\"text-align: right;\">\n",
       "      <th></th>\n",
       "      <th>post_author</th>\n",
       "      <th>post_created_utc</th>\n",
       "      <th>post_domain</th>\n",
       "      <th>post_full_link</th>\n",
       "      <th>post_gildings</th>\n",
       "      <th>post_id</th>\n",
       "      <th>post_is_original_content</th>\n",
       "      <th>post_is_reddit_media_domain</th>\n",
       "      <th>post_locked</th>\n",
       "      <th>post_media_only</th>\n",
       "      <th>...</th>\n",
       "      <th>comment_is_submitter</th>\n",
       "      <th>comment_link_id</th>\n",
       "      <th>comment_parent_id</th>\n",
       "      <th>comment_permalink</th>\n",
       "      <th>comment_retrieved_on</th>\n",
       "      <th>comment_score</th>\n",
       "      <th>comment_stickied</th>\n",
       "      <th>comment_subreddit</th>\n",
       "      <th>comment_subreddit_id</th>\n",
       "      <th>comment_total_awards_received</th>\n",
       "    </tr>\n",
       "  </thead>\n",
       "  <tbody>\n",
       "    <tr>\n",
       "      <th>0</th>\n",
       "      <td>MadsenFraMadsenOgCo</td>\n",
       "      <td>1614698948</td>\n",
       "      <td>berlingske.dk</td>\n",
       "      <td>https://www.reddit.com/r/Denmark/comments/lw4k...</td>\n",
       "      <td>{}</td>\n",
       "      <td>lw4koj</td>\n",
       "      <td>False</td>\n",
       "      <td>False</td>\n",
       "      <td>False</td>\n",
       "      <td>False</td>\n",
       "      <td>...</td>\n",
       "      <td>False</td>\n",
       "      <td>t3_lw4koj</td>\n",
       "      <td>t3_lw4koj</td>\n",
       "      <td>/r/Denmark/comments/lw4koj/pfizer_med_opjuster...</td>\n",
       "      <td>1614699643</td>\n",
       "      <td>1</td>\n",
       "      <td>False</td>\n",
       "      <td>Denmark</td>\n",
       "      <td>t5_2qjto</td>\n",
       "      <td>0</td>\n",
       "    </tr>\n",
       "    <tr>\n",
       "      <th>1</th>\n",
       "      <td>MadsenFraMadsenOgCo</td>\n",
       "      <td>1614698948</td>\n",
       "      <td>berlingske.dk</td>\n",
       "      <td>https://www.reddit.com/r/Denmark/comments/lw4k...</td>\n",
       "      <td>{}</td>\n",
       "      <td>lw4koj</td>\n",
       "      <td>False</td>\n",
       "      <td>False</td>\n",
       "      <td>False</td>\n",
       "      <td>False</td>\n",
       "      <td>...</td>\n",
       "      <td>False</td>\n",
       "      <td>t3_lw4koj</td>\n",
       "      <td>t1_gpfa37s</td>\n",
       "      <td>/r/Denmark/comments/lw4koj/pfizer_med_opjuster...</td>\n",
       "      <td>1614700857</td>\n",
       "      <td>1</td>\n",
       "      <td>False</td>\n",
       "      <td>Denmark</td>\n",
       "      <td>t5_2qjto</td>\n",
       "      <td>0</td>\n",
       "    </tr>\n",
       "    <tr>\n",
       "      <th>2</th>\n",
       "      <td>MadsenFraMadsenOgCo</td>\n",
       "      <td>1614698948</td>\n",
       "      <td>berlingske.dk</td>\n",
       "      <td>https://www.reddit.com/r/Denmark/comments/lw4k...</td>\n",
       "      <td>{}</td>\n",
       "      <td>lw4koj</td>\n",
       "      <td>False</td>\n",
       "      <td>False</td>\n",
       "      <td>False</td>\n",
       "      <td>False</td>\n",
       "      <td>...</td>\n",
       "      <td>False</td>\n",
       "      <td>t3_lw4koj</td>\n",
       "      <td>t1_gpfcfj3</td>\n",
       "      <td>/r/Denmark/comments/lw4koj/pfizer_med_opjuster...</td>\n",
       "      <td>1614702086</td>\n",
       "      <td>1</td>\n",
       "      <td>False</td>\n",
       "      <td>Denmark</td>\n",
       "      <td>t5_2qjto</td>\n",
       "      <td>0</td>\n",
       "    </tr>\n",
       "    <tr>\n",
       "      <th>3</th>\n",
       "      <td>MadsenFraMadsenOgCo</td>\n",
       "      <td>1614698948</td>\n",
       "      <td>berlingske.dk</td>\n",
       "      <td>https://www.reddit.com/r/Denmark/comments/lw4k...</td>\n",
       "      <td>{}</td>\n",
       "      <td>lw4koj</td>\n",
       "      <td>False</td>\n",
       "      <td>False</td>\n",
       "      <td>False</td>\n",
       "      <td>False</td>\n",
       "      <td>...</td>\n",
       "      <td>False</td>\n",
       "      <td>t3_lw4koj</td>\n",
       "      <td>t1_gpfesm5</td>\n",
       "      <td>/r/Denmark/comments/lw4koj/pfizer_med_opjuster...</td>\n",
       "      <td>1614702455</td>\n",
       "      <td>1</td>\n",
       "      <td>False</td>\n",
       "      <td>Denmark</td>\n",
       "      <td>t5_2qjto</td>\n",
       "      <td>0</td>\n",
       "    </tr>\n",
       "    <tr>\n",
       "      <th>4</th>\n",
       "      <td>MadsenFraMadsenOgCo</td>\n",
       "      <td>1614698948</td>\n",
       "      <td>berlingske.dk</td>\n",
       "      <td>https://www.reddit.com/r/Denmark/comments/lw4k...</td>\n",
       "      <td>{}</td>\n",
       "      <td>lw4koj</td>\n",
       "      <td>False</td>\n",
       "      <td>False</td>\n",
       "      <td>False</td>\n",
       "      <td>False</td>\n",
       "      <td>...</td>\n",
       "      <td>False</td>\n",
       "      <td>t3_lw4koj</td>\n",
       "      <td>t1_gpffidu</td>\n",
       "      <td>/r/Denmark/comments/lw4koj/pfizer_med_opjuster...</td>\n",
       "      <td>1614702670</td>\n",
       "      <td>1</td>\n",
       "      <td>False</td>\n",
       "      <td>Denmark</td>\n",
       "      <td>t5_2qjto</td>\n",
       "      <td>0</td>\n",
       "    </tr>\n",
       "  </tbody>\n",
       "</table>\n",
       "<p>5 rows × 52 columns</p>\n",
       "</div>"
      ],
      "text/plain": [
       "           post_author  post_created_utc    post_domain  \\\n",
       "0  MadsenFraMadsenOgCo        1614698948  berlingske.dk   \n",
       "1  MadsenFraMadsenOgCo        1614698948  berlingske.dk   \n",
       "2  MadsenFraMadsenOgCo        1614698948  berlingske.dk   \n",
       "3  MadsenFraMadsenOgCo        1614698948  berlingske.dk   \n",
       "4  MadsenFraMadsenOgCo        1614698948  berlingske.dk   \n",
       "\n",
       "                                      post_full_link post_gildings post_id  \\\n",
       "0  https://www.reddit.com/r/Denmark/comments/lw4k...            {}  lw4koj   \n",
       "1  https://www.reddit.com/r/Denmark/comments/lw4k...            {}  lw4koj   \n",
       "2  https://www.reddit.com/r/Denmark/comments/lw4k...            {}  lw4koj   \n",
       "3  https://www.reddit.com/r/Denmark/comments/lw4k...            {}  lw4koj   \n",
       "4  https://www.reddit.com/r/Denmark/comments/lw4k...            {}  lw4koj   \n",
       "\n",
       "   post_is_original_content  post_is_reddit_media_domain  post_locked  \\\n",
       "0                     False                        False        False   \n",
       "1                     False                        False        False   \n",
       "2                     False                        False        False   \n",
       "3                     False                        False        False   \n",
       "4                     False                        False        False   \n",
       "\n",
       "   post_media_only  ...  comment_is_submitter  comment_link_id  \\\n",
       "0            False  ...                 False        t3_lw4koj   \n",
       "1            False  ...                 False        t3_lw4koj   \n",
       "2            False  ...                 False        t3_lw4koj   \n",
       "3            False  ...                 False        t3_lw4koj   \n",
       "4            False  ...                 False        t3_lw4koj   \n",
       "\n",
       "   comment_parent_id                                  comment_permalink  \\\n",
       "0          t3_lw4koj  /r/Denmark/comments/lw4koj/pfizer_med_opjuster...   \n",
       "1         t1_gpfa37s  /r/Denmark/comments/lw4koj/pfizer_med_opjuster...   \n",
       "2         t1_gpfcfj3  /r/Denmark/comments/lw4koj/pfizer_med_opjuster...   \n",
       "3         t1_gpfesm5  /r/Denmark/comments/lw4koj/pfizer_med_opjuster...   \n",
       "4         t1_gpffidu  /r/Denmark/comments/lw4koj/pfizer_med_opjuster...   \n",
       "\n",
       "   comment_retrieved_on comment_score comment_stickied  comment_subreddit  \\\n",
       "0            1614699643             1            False            Denmark   \n",
       "1            1614700857             1            False            Denmark   \n",
       "2            1614702086             1            False            Denmark   \n",
       "3            1614702455             1            False            Denmark   \n",
       "4            1614702670             1            False            Denmark   \n",
       "\n",
       "   comment_subreddit_id comment_total_awards_received  \n",
       "0              t5_2qjto                             0  \n",
       "1              t5_2qjto                             0  \n",
       "2              t5_2qjto                             0  \n",
       "3              t5_2qjto                             0  \n",
       "4              t5_2qjto                             0  \n",
       "\n",
       "[5 rows x 52 columns]"
      ]
     },
     "execution_count": 10,
     "metadata": {},
     "output_type": "execute_result"
    }
   ],
   "source": [
    "reddit_df.head()"
   ]
  },
  {
   "cell_type": "markdown",
   "metadata": {},
   "source": [
    "## String metoder\n",
    "\n",
    "En tekstværdi kaldes en \"string\" inden for programmeringssprog. For at arbejde med tekst, er det relevant at vide, hvordan Python kan arbejde med enkelte tekstværdier.\n",
    "\n",
    "Vi ser herunder nærmere på indbyggede string-metoder i Python\n"
   ]
  },
  {
   "cell_type": "code",
   "execution_count": 11,
   "metadata": {},
   "outputs": [
    {
     "name": "stdout",
     "output_type": "stream",
     "text": [
      "Hjemmeværnet, Politikadetterne og Forsvaret klarer ærterne ved grænserne, så Politiet kan kaste sig over at gøre danskere mere trygge. Sikker på,at @ClausOxfeldt bliver lykkelig for vort krav. Han har jo brugt megen energi på at give DFs grænseindsats skylden for mandskabsmangel. https://t.co/PgenOdeSwn\n"
     ]
    }
   ],
   "source": [
    "tweet = tweets_df.loc[584, 'full_text']\n",
    "print(tweet)"
   ]
  },
  {
   "cell_type": "code",
   "execution_count": 12,
   "metadata": {},
   "outputs": [
    {
     "data": {
      "text/plain": [
       "str"
      ]
     },
     "execution_count": 12,
     "metadata": {},
     "output_type": "execute_result"
    }
   ],
   "source": [
    "type(tweet)"
   ]
  },
  {
   "cell_type": "code",
   "execution_count": 13,
   "metadata": {},
   "outputs": [
    {
     "data": {
      "text/plain": [
       "True"
      ]
     },
     "execution_count": 13,
     "metadata": {},
     "output_type": "execute_result"
    }
   ],
   "source": [
    "tweet.startswith(\"Hjemmeværn\")"
   ]
  },
  {
   "cell_type": "code",
   "execution_count": 14,
   "metadata": {},
   "outputs": [
    {
     "data": {
      "text/plain": [
       "False"
      ]
     },
     "execution_count": 14,
     "metadata": {},
     "output_type": "execute_result"
    }
   ],
   "source": [
    "tweet.endswith(\"DF\")"
   ]
  },
  {
   "cell_type": "code",
   "execution_count": 15,
   "metadata": {},
   "outputs": [
    {
     "data": {
      "text/plain": [
       "True"
      ]
     },
     "execution_count": 15,
     "metadata": {},
     "output_type": "execute_result"
    }
   ],
   "source": [
    "\"energi\" in tweet"
   ]
  },
  {
   "cell_type": "code",
   "execution_count": 16,
   "metadata": {},
   "outputs": [
    {
     "data": {
      "text/plain": [
       "False"
      ]
     },
     "execution_count": 16,
     "metadata": {},
     "output_type": "execute_result"
    }
   ],
   "source": [
    "\"politi\" in tweet # findes ikke, da politi står med stort"
   ]
  },
  {
   "cell_type": "code",
   "execution_count": 17,
   "metadata": {},
   "outputs": [
    {
     "data": {
      "text/plain": [
       "True"
      ]
     },
     "execution_count": 17,
     "metadata": {},
     "output_type": "execute_result"
    }
   ],
   "source": [
    "\"politi\" in tweet.lower()"
   ]
  },
  {
   "cell_type": "code",
   "execution_count": 10,
   "metadata": {},
   "outputs": [
    {
     "data": {
      "text/plain": [
       "'HJEMMEVÆRNET, POLITIKADETTERNE OG FORSVARET KLARER ÆRTERNE VED GRÆNSERNE, SÅ POLITIET KAN KASTE SIG OVER AT GØRE DANSKERE MERE TRYGGE. SIKKER PÅ,AT @CLAUSOXFELDT BLIVER LYKKELIG FOR VORT KRAV. HAN HAR JO BRUGT MEGEN ENERGI PÅ AT GIVE DFS GRÆNSEINDSATS SKYLDEN FOR MANDSKABSMANGEL. HTTPS://T.CO/PGENODESWN'"
      ]
     },
     "execution_count": 10,
     "metadata": {},
     "output_type": "execute_result"
    }
   ],
   "source": [
    "tweet.upper()"
   ]
  },
  {
   "cell_type": "markdown",
   "metadata": {},
   "source": [
    "## String metoder i pandas\n",
    "\n",
    "Mange string metoder kan anvendes på pandas series - ofte ved at tilføje `.str`"
   ]
  },
  {
   "cell_type": "code",
   "execution_count": 18,
   "metadata": {},
   "outputs": [
    {
     "data": {
      "text/plain": [
       "0    False\n",
       "1    False\n",
       "2    False\n",
       "3    False\n",
       "4    False\n",
       "Name: full_text, dtype: bool"
      ]
     },
     "execution_count": 18,
     "metadata": {},
     "output_type": "execute_result"
    }
   ],
   "source": [
    "tweets_df['full_text'].str.startswith(\"Hjemmeværn\").head()"
   ]
  },
  {
   "cell_type": "code",
   "execution_count": 19,
   "metadata": {},
   "outputs": [
    {
     "data": {
      "text/plain": [
       "1"
      ]
     },
     "execution_count": 19,
     "metadata": {},
     "output_type": "execute_result"
    }
   ],
   "source": [
    "tweets_df['full_text'].str.startswith(\"Hjemmeværn\").sum() # Hvor mange tweets starter med hjemmeværn?"
   ]
  },
  {
   "cell_type": "markdown",
   "metadata": {},
   "source": [
    "`str.contains()` på en pandas series svarer til at bruge `in` på en string."
   ]
  },
  {
   "cell_type": "code",
   "execution_count": 13,
   "metadata": {},
   "outputs": [
    {
     "data": {
      "text/plain": [
       "118"
      ]
     },
     "execution_count": 13,
     "metadata": {},
     "output_type": "execute_result"
    }
   ],
   "source": [
    "tweets_df['full_text'].str.contains(\"DF\").sum() # Hvor mange tweets taler om DF?"
   ]
  },
  {
   "cell_type": "markdown",
   "metadata": {},
   "source": [
    "Fordi metoder som `str.startswith()` og `str.contains()` returnerer logiske værdier (`True`/`False`), så kan de bruges til subsetting."
   ]
  },
  {
   "cell_type": "code",
   "execution_count": 14,
   "metadata": {},
   "outputs": [
    {
     "data": {
      "text/html": [
       "<div>\n",
       "<style scoped>\n",
       "    .dataframe tbody tr th:only-of-type {\n",
       "        vertical-align: middle;\n",
       "    }\n",
       "\n",
       "    .dataframe tbody tr th {\n",
       "        vertical-align: top;\n",
       "    }\n",
       "\n",
       "    .dataframe thead th {\n",
       "        text-align: right;\n",
       "    }\n",
       "</style>\n",
       "<table border=\"1\" class=\"dataframe\">\n",
       "  <thead>\n",
       "    <tr style=\"text-align: right;\">\n",
       "      <th></th>\n",
       "      <th>created_at</th>\n",
       "      <th>id</th>\n",
       "      <th>full_text</th>\n",
       "      <th>is_quote_status</th>\n",
       "      <th>retweet_count</th>\n",
       "      <th>favorite_count</th>\n",
       "      <th>favorited</th>\n",
       "      <th>retweeted</th>\n",
       "      <th>is_retweet</th>\n",
       "      <th>hashtags</th>\n",
       "      <th>urls</th>\n",
       "      <th>user_followers_count</th>\n",
       "      <th>party</th>\n",
       "    </tr>\n",
       "  </thead>\n",
       "  <tbody>\n",
       "    <tr>\n",
       "      <th>36</th>\n",
       "      <td>2019-01-24 22:39:33+00:00</td>\n",
       "      <td>1088567004733341700</td>\n",
       "      <td>@RosenkrantzT @Spolitik @alternativet_ Det er ...</td>\n",
       "      <td>False</td>\n",
       "      <td>1</td>\n",
       "      <td>4</td>\n",
       "      <td>False</td>\n",
       "      <td>False</td>\n",
       "      <td>False</td>\n",
       "      <td>[]</td>\n",
       "      <td>[]</td>\n",
       "      <td>4064</td>\n",
       "      <td>Alternativet</td>\n",
       "    </tr>\n",
       "    <tr>\n",
       "      <th>375</th>\n",
       "      <td>2020-10-22 10:02:29+00:00</td>\n",
       "      <td>1319217553772859400</td>\n",
       "      <td>Har igen, kl. 13 (sammen med V, K og DF) indka...</td>\n",
       "      <td>False</td>\n",
       "      <td>8</td>\n",
       "      <td>54</td>\n",
       "      <td>False</td>\n",
       "      <td>False</td>\n",
       "      <td>False</td>\n",
       "      <td>['dkpol', 'dksocial']</td>\n",
       "      <td>[]</td>\n",
       "      <td>4064</td>\n",
       "      <td>Alternativet</td>\n",
       "    </tr>\n",
       "    <tr>\n",
       "      <th>513</th>\n",
       "      <td>2019-12-12 13:56:01+00:00</td>\n",
       "      <td>1205124148260954000</td>\n",
       "      <td>Ifølge DR har i al fald den ene af de terror-s...</td>\n",
       "      <td>False</td>\n",
       "      <td>7</td>\n",
       "      <td>55</td>\n",
       "      <td>False</td>\n",
       "      <td>False</td>\n",
       "      <td>False</td>\n",
       "      <td>[]</td>\n",
       "      <td>[{'url': 'https://t.co/D6WhHzVVgu', 'expanded_...</td>\n",
       "      <td>12276</td>\n",
       "      <td>Dansk Folkeparti</td>\n",
       "    </tr>\n",
       "    <tr>\n",
       "      <th>515</th>\n",
       "      <td>2020-12-05 11:44:00+00:00</td>\n",
       "      <td>1335188170040897500</td>\n",
       "      <td>Havde håbet på meget mere på ældreområdet, her...</td>\n",
       "      <td>False</td>\n",
       "      <td>3</td>\n",
       "      <td>4</td>\n",
       "      <td>False</td>\n",
       "      <td>False</td>\n",
       "      <td>False</td>\n",
       "      <td>['dkpol']</td>\n",
       "      <td>[{'url': 'https://t.co/HYLZ24Z632', 'expanded_...</td>\n",
       "      <td>2748</td>\n",
       "      <td>Dansk Folkeparti</td>\n",
       "    </tr>\n",
       "    <tr>\n",
       "      <th>520</th>\n",
       "      <td>2018-08-08 13:23:10+00:00</td>\n",
       "      <td>1027183438510608400</td>\n",
       "      <td>Spørgelysten var stor på det pressemøde, der t...</td>\n",
       "      <td>False</td>\n",
       "      <td>3</td>\n",
       "      <td>18</td>\n",
       "      <td>False</td>\n",
       "      <td>False</td>\n",
       "      <td>False</td>\n",
       "      <td>['dkpol', 'FL19']</td>\n",
       "      <td>[]</td>\n",
       "      <td>12276</td>\n",
       "      <td>Dansk Folkeparti</td>\n",
       "    </tr>\n",
       "    <tr>\n",
       "      <th>...</th>\n",
       "      <td>...</td>\n",
       "      <td>...</td>\n",
       "      <td>...</td>\n",
       "      <td>...</td>\n",
       "      <td>...</td>\n",
       "      <td>...</td>\n",
       "      <td>...</td>\n",
       "      <td>...</td>\n",
       "      <td>...</td>\n",
       "      <td>...</td>\n",
       "      <td>...</td>\n",
       "      <td>...</td>\n",
       "      <td>...</td>\n",
       "    </tr>\n",
       "    <tr>\n",
       "      <th>4737</th>\n",
       "      <td>2018-11-30 22:19:14+00:00</td>\n",
       "      <td>1068630561709875200</td>\n",
       "      <td>“Alternativet er dybt politisk uenige i DF’s p...</td>\n",
       "      <td>False</td>\n",
       "      <td>0</td>\n",
       "      <td>2</td>\n",
       "      <td>False</td>\n",
       "      <td>False</td>\n",
       "      <td>False</td>\n",
       "      <td>['dkpol', 'derforuffe', 'alternativet']</td>\n",
       "      <td>[]</td>\n",
       "      <td>3109</td>\n",
       "      <td>Uden for folketingsgrupperne</td>\n",
       "    </tr>\n",
       "    <tr>\n",
       "      <th>4750</th>\n",
       "      <td>2020-07-08 17:40:44+00:00</td>\n",
       "      <td>1280919762999132200</td>\n",
       "      <td>@DonPeHa Fordi der hele tiden bliver hetzet im...</td>\n",
       "      <td>False</td>\n",
       "      <td>0</td>\n",
       "      <td>0</td>\n",
       "      <td>False</td>\n",
       "      <td>False</td>\n",
       "      <td>False</td>\n",
       "      <td>[]</td>\n",
       "      <td>[]</td>\n",
       "      <td>37443</td>\n",
       "      <td>Uden for folketingsgrupperne</td>\n",
       "    </tr>\n",
       "    <tr>\n",
       "      <th>5039</th>\n",
       "      <td>2017-01-26 08:26:32+00:00</td>\n",
       "      <td>824533970201223200</td>\n",
       "      <td>Til afrikansk topmøde Addis Ababa: Meget bekym...</td>\n",
       "      <td>False</td>\n",
       "      <td>19</td>\n",
       "      <td>41</td>\n",
       "      <td>False</td>\n",
       "      <td>False</td>\n",
       "      <td>False</td>\n",
       "      <td>['globalgagrule', 'dk4hrc', 'dkpol']</td>\n",
       "      <td>[]</td>\n",
       "      <td>5749</td>\n",
       "      <td>Venstre</td>\n",
       "    </tr>\n",
       "    <tr>\n",
       "      <th>5087</th>\n",
       "      <td>2019-04-11 08:11:51+00:00</td>\n",
       "      <td>1116252507360174100</td>\n",
       "      <td>På administration i sundhedsvæsenet bruger Dan...</td>\n",
       "      <td>False</td>\n",
       "      <td>30</td>\n",
       "      <td>176</td>\n",
       "      <td>False</td>\n",
       "      <td>False</td>\n",
       "      <td>False</td>\n",
       "      <td>['dkpol', 'sundpol']</td>\n",
       "      <td>[]</td>\n",
       "      <td>26669</td>\n",
       "      <td>Venstre</td>\n",
       "    </tr>\n",
       "    <tr>\n",
       "      <th>5347</th>\n",
       "      <td>2020-01-22 09:37:24+00:00</td>\n",
       "      <td>1219916964770058200</td>\n",
       "      <td>@ChrBirk @Spolitik @madsfuglede De to ting er ...</td>\n",
       "      <td>False</td>\n",
       "      <td>0</td>\n",
       "      <td>0</td>\n",
       "      <td>False</td>\n",
       "      <td>False</td>\n",
       "      <td>False</td>\n",
       "      <td>[]</td>\n",
       "      <td>[]</td>\n",
       "      <td>3964</td>\n",
       "      <td>Venstre</td>\n",
       "    </tr>\n",
       "  </tbody>\n",
       "</table>\n",
       "<p>118 rows × 13 columns</p>\n",
       "</div>"
      ],
      "text/plain": [
       "                     created_at                   id  \\\n",
       "36    2019-01-24 22:39:33+00:00  1088567004733341700   \n",
       "375   2020-10-22 10:02:29+00:00  1319217553772859400   \n",
       "513   2019-12-12 13:56:01+00:00  1205124148260954000   \n",
       "515   2020-12-05 11:44:00+00:00  1335188170040897500   \n",
       "520   2018-08-08 13:23:10+00:00  1027183438510608400   \n",
       "...                         ...                  ...   \n",
       "4737  2018-11-30 22:19:14+00:00  1068630561709875200   \n",
       "4750  2020-07-08 17:40:44+00:00  1280919762999132200   \n",
       "5039  2017-01-26 08:26:32+00:00   824533970201223200   \n",
       "5087  2019-04-11 08:11:51+00:00  1116252507360174100   \n",
       "5347  2020-01-22 09:37:24+00:00  1219916964770058200   \n",
       "\n",
       "                                              full_text  is_quote_status  \\\n",
       "36    @RosenkrantzT @Spolitik @alternativet_ Det er ...            False   \n",
       "375   Har igen, kl. 13 (sammen med V, K og DF) indka...            False   \n",
       "513   Ifølge DR har i al fald den ene af de terror-s...            False   \n",
       "515   Havde håbet på meget mere på ældreområdet, her...            False   \n",
       "520   Spørgelysten var stor på det pressemøde, der t...            False   \n",
       "...                                                 ...              ...   \n",
       "4737  “Alternativet er dybt politisk uenige i DF’s p...            False   \n",
       "4750  @DonPeHa Fordi der hele tiden bliver hetzet im...            False   \n",
       "5039  Til afrikansk topmøde Addis Ababa: Meget bekym...            False   \n",
       "5087  På administration i sundhedsvæsenet bruger Dan...            False   \n",
       "5347  @ChrBirk @Spolitik @madsfuglede De to ting er ...            False   \n",
       "\n",
       "      retweet_count  favorite_count  favorited  retweeted  is_retweet  \\\n",
       "36                1               4      False      False       False   \n",
       "375               8              54      False      False       False   \n",
       "513               7              55      False      False       False   \n",
       "515               3               4      False      False       False   \n",
       "520               3              18      False      False       False   \n",
       "...             ...             ...        ...        ...         ...   \n",
       "4737              0               2      False      False       False   \n",
       "4750              0               0      False      False       False   \n",
       "5039             19              41      False      False       False   \n",
       "5087             30             176      False      False       False   \n",
       "5347              0               0      False      False       False   \n",
       "\n",
       "                                     hashtags  \\\n",
       "36                                         []   \n",
       "375                     ['dkpol', 'dksocial']   \n",
       "513                                        []   \n",
       "515                                 ['dkpol']   \n",
       "520                         ['dkpol', 'FL19']   \n",
       "...                                       ...   \n",
       "4737  ['dkpol', 'derforuffe', 'alternativet']   \n",
       "4750                                       []   \n",
       "5039     ['globalgagrule', 'dk4hrc', 'dkpol']   \n",
       "5087                     ['dkpol', 'sundpol']   \n",
       "5347                                       []   \n",
       "\n",
       "                                                   urls  user_followers_count  \\\n",
       "36                                                   []                  4064   \n",
       "375                                                  []                  4064   \n",
       "513   [{'url': 'https://t.co/D6WhHzVVgu', 'expanded_...                 12276   \n",
       "515   [{'url': 'https://t.co/HYLZ24Z632', 'expanded_...                  2748   \n",
       "520                                                  []                 12276   \n",
       "...                                                 ...                   ...   \n",
       "4737                                                 []                  3109   \n",
       "4750                                                 []                 37443   \n",
       "5039                                                 []                  5749   \n",
       "5087                                                 []                 26669   \n",
       "5347                                                 []                  3964   \n",
       "\n",
       "                             party  \n",
       "36                    Alternativet  \n",
       "375                   Alternativet  \n",
       "513               Dansk Folkeparti  \n",
       "515               Dansk Folkeparti  \n",
       "520               Dansk Folkeparti  \n",
       "...                            ...  \n",
       "4737  Uden for folketingsgrupperne  \n",
       "4750  Uden for folketingsgrupperne  \n",
       "5039                       Venstre  \n",
       "5087                       Venstre  \n",
       "5347                       Venstre  \n",
       "\n",
       "[118 rows x 13 columns]"
      ]
     },
     "execution_count": 14,
     "metadata": {},
     "output_type": "execute_result"
    }
   ],
   "source": [
    "DFtweets_df = tweets_df.loc[tweets_df['full_text'].str.contains(\"DF\"), :]\n",
    "DFtweets_df"
   ]
  },
  {
   "cell_type": "markdown",
   "metadata": {},
   "source": [
    "Dette subset kan vi visualisere, og dermed få et hurtigt overblik over, hvilke partier, der tweeter om \"DF\""
   ]
  },
  {
   "cell_type": "code",
   "execution_count": 15,
   "metadata": {},
   "outputs": [
    {
     "data": {
      "text/plain": [
       "<AxesSubplot:xlabel='party'>"
      ]
     },
     "execution_count": 15,
     "metadata": {},
     "output_type": "execute_result"
    },
    {
     "data": {
      "image/png": "[encoded data removed]",
      "text/plain": [
       "<Figure size 1440x720 with 1 Axes>"
      ]
     },
     "metadata": {},
     "output_type": "display_data"
    }
   ],
   "source": [
    "DFtweets_df.groupby('party').size().plot.bar()"
   ]
  },
  {
   "cell_type": "markdown",
   "metadata": {},
   "source": [
    "# ØVELSE 1: Simpel teksthåndtering\n",
    "\n",
    "I øvelserne i dag skal i arbejde med et datasæt bestående af kommentarer fra reddit. Alle kommentarer er taget fra posts på r/denmark (reddit.com/r/denmark) fra 1/3-8/3 2021.\n",
    "\n",
    "1. Indlæs data som en pandas data frame\n",
    "    - Link til data: https://raw.githubusercontent.com/CALDISS-AAU/course_ndms-I/master/datasets/reddit_rdenmark-comments_01032021-08032021_long.csv\n",
    "2. Dan et subset bestående af alle kommentarer, der nævner \"menneskerettigheder\" (kommentarteksten er i kolonnen `comment_body`). Hvor mange kommentarer er der?\n",
    "\n",
    "**Bonus**\n",
    "- Kan du udregne gennemsnitsscore for de kommentarer, der nævner menneskerettigheder? (score fremgår af kolonnen `comment_score`)"
   ]
  },
  {
   "cell_type": "markdown",
   "metadata": {},
   "source": [
    "# 4. Bearbejdning/\"pre-processing\" af tekst (tokenization)\n",
    "\n",
    "At arbejde med hele rå strings er for det meste ikke særlig praktisk.\n",
    "\n",
    "- Søgning på substrings matcher også, hvis det indgår inde i et ord (medmindre man bruger regular expression, som vi ikke kommer ind på her)\n",
    "- Vanskeligt at identificere nøgleord / de mest brugte eller væsentligste ord i teksten\n",
    "- Python adskiller mellem små og store bogstaver\n",
    "- Vanskeligt at identificere ord i kontekst\n",
    "\n",
    "Måden man løser mange disse udfordringer, er ved at behandle ordene i teksterne enkeltvis. På den måde gøres hvert enkelt ord til en analyseenhed. Processen i at omdanne tekst til enkeltord kaldes \"tokenization\", da de færdigbehandlede ord referes til som tokens. \n",
    "\n",
    "## Tokenization af tekst\n",
    "\n",
    "Formålet med tokenization er at konvertere tekst til enkelte analyseenheder. I denne proces frasorteres også elementer i teksten, som umiddelbart ikke bidrager med noget meningsfuldt i en analyse af indholdet (fx tegnsætning, hvorvidt ordet er stavet med stort, fyldord som fx stedord osv.)\n",
    "\n",
    "Tokenization indeholder typisk følgende skridt:\n",
    "\n",
    "1. Opdeling af tekst i enkeltord\n",
    "2. Frasortering af tegnsætning\n",
    "3. Evt. konverter til små bogstaver\n",
    "4. Frasorter stopord\n",
    "5. Evt. konverter ord til deres stamme eller navneform\n",
    "\n",
    "### Tokenization (med basisfunktioner)\n",
    "\n",
    "Lad os først se på, hvordan vi kan implementere disse skridt enkeltvis med basisfunktioner for at se, hvordan teksten ændres skridt for skridt."
   ]
  },
  {
   "cell_type": "markdown",
   "metadata": {},
   "source": [
    "#### 1. Opdeling af tekst i enkeltord\n",
    "\n",
    "Første skridt i tokenization er at omdanne teksten til en samling af enkeltord. På den måde er hver enkelt ord afgrænset, og vi kan holde styr på deres placering i teksten gennem deres indeks."
   ]
  },
  {
   "cell_type": "code",
   "execution_count": 20,
   "metadata": {},
   "outputs": [
    {
     "name": "stdout",
     "output_type": "stream",
     "text": [
      "Hjemmeværnet, Politikadetterne og Forsvaret klarer ærterne ved grænserne, så Politiet kan kaste sig over at gøre danskere mere trygge. Sikker på,at @ClausOxfeldt bliver lykkelig for vort krav. Han har jo brugt megen energi på at give DFs grænseindsats skylden for mandskabsmangel. https://t.co/PgenOdeSwn\n",
      "\n",
      "\n",
      "['Hjemmeværnet,', 'Politikadetterne', 'og', 'Forsvaret', 'klarer', 'ærterne', 'ved', 'grænserne,', 'så', 'Politiet', 'kan', 'kaste', 'sig', 'over', 'at', 'gøre', 'danskere', 'mere', 'trygge.', 'Sikker', 'på,at', '@ClausOxfeldt', 'bliver', 'lykkelig', 'for', 'vort', 'krav.', 'Han', 'har', 'jo', 'brugt', 'megen', 'energi', 'på', 'at', 'give', 'DFs', 'grænseindsats', 'skylden', 'for', 'mandskabsmangel.', 'https://t.co/PgenOdeSwn']\n"
     ]
    }
   ],
   "source": [
    "tweet = tweets_df.loc[584, 'full_text']\n",
    "words = tweet.split(\" \")\n",
    "\n",
    "print(tweet)\n",
    "print(\"\\n\")\n",
    "print(words)"
   ]
  },
  {
   "cell_type": "markdown",
   "metadata": {},
   "source": [
    "#### 2. Frasortering af tegnsætning\n",
    "\n",
    "Tegnsætning er typisk \"støj\" i text mining teknikker, så det frasorteres typisk.\n",
    "\n",
    "Her frasorteres tegnsætning ved at gå igennem hvert ord med et for loop og derefter gå igennem forskellige tegnsætninger (`punct_list`) i et for loop og erstatte dem med ingenting."
   ]
  },
  {
   "cell_type": "code",
   "execution_count": 17,
   "metadata": {},
   "outputs": [
    {
     "name": "stdout",
     "output_type": "stream",
     "text": [
      "['Hjemmeværnet', 'Politikadetterne', 'og', 'Forsvaret', 'klarer', 'ærterne', 'ved', 'grænserne', 'så', 'Politiet', 'kan', 'kaste', 'sig', 'over', 'at', 'gøre', 'danskere', 'mere', 'trygge', 'Sikker', 'påat', '@ClausOxfeldt', 'bliver', 'lykkelig', 'for', 'vort', 'krav', 'Han', 'har', 'jo', 'brugt', 'megen', 'energi', 'på', 'at', 'give', 'DFs', 'grænseindsats', 'skylden', 'for', 'mandskabsmangel', 'https://tco/PgenOdeSwn']\n"
     ]
    }
   ],
   "source": [
    "punct_list = [',', '-','.','?','!']\n",
    "\n",
    "words_nopunct = []\n",
    "\n",
    "for word in words:\n",
    "    for punct in punct_list:\n",
    "        word = word.replace(punct, \"\")\n",
    "    words_nopunct.append(word)\n",
    "    \n",
    "words_nopunct = list(filter(None, words_nopunct))\n",
    "\n",
    "print(words_nopunct)"
   ]
  },
  {
   "cell_type": "markdown",
   "metadata": {},
   "source": [
    "#### 3. Evt. konverter til små bogstaver\n",
    "\n",
    "Et primært formål med tokenization er, at ord med samme semantiske betydning bliver identiske. Derfor konverteres ord typisk til små bogstaver for at ensrette tekstmaterialet.\n",
    "\n",
    "I nogen tilfælde kan det dog give mening at gøre dette med det samme, så man nemmere kan identifcere egenavne."
   ]
  },
  {
   "cell_type": "code",
   "execution_count": 18,
   "metadata": {},
   "outputs": [
    {
     "name": "stdout",
     "output_type": "stream",
     "text": [
      "['hjemmeværnet', 'politikadetterne', 'og', 'forsvaret', 'klarer', 'ærterne', 'ved', 'grænserne', 'så', 'politiet', 'kan', 'kaste', 'sig', 'over', 'at', 'gøre', 'danskere', 'mere', 'trygge', 'sikker', 'påat', '@clausoxfeldt', 'bliver', 'lykkelig', 'for', 'vort', 'krav', 'han', 'har', 'jo', 'brugt', 'megen', 'energi', 'på', 'at', 'give', 'dfs', 'grænseindsats', 'skylden', 'for', 'mandskabsmangel', 'https://tco/pgenodeswn']\n"
     ]
    }
   ],
   "source": [
    "words_lower = [word.lower() for word in words_nopunct]\n",
    "\n",
    "print(words_lower)"
   ]
  },
  {
   "cell_type": "markdown",
   "metadata": {},
   "source": [
    "#### 4. Frasorter stopord\n",
    "\n",
    "Et andet formål med tokenization er, at vi står tilbage med analyseenheder (ord), som kan hjælpe os til at sige noget om indholdet i teksten. Alle sprog har ord, som ikke bærer en speciel semantisk betydning. Det kunne fx være stedord (den, det, en, et, jeg, der osv.) og bindeord (og, eller, også, efter, før osv.).\n",
    "\n",
    "Disse ord kaldes 'stopord'.\n",
    "\n",
    "Herunder definerer vi vores egen liste af stopord og frasorterer dem med et for loop og en if-betingelse:"
   ]
  },
  {
   "cell_type": "code",
   "execution_count": 19,
   "metadata": {},
   "outputs": [
    {
     "name": "stdout",
     "output_type": "stream",
     "text": [
      "['hjemmeværnet', 'politikadetterne', 'forsvaret', 'ærterne', 'grænserne', 'politiet', 'danskere', 'trygge', 'sikker', 'påat', '@clausoxfeldt', 'lykkelig', 'krav', 'energi', 'dfs', 'grænseindsats', 'skylden', 'mandskabsmangel', 'https://tco/pgenodeswn']\n"
     ]
    }
   ],
   "source": [
    "stopwords = ['og', 'klarer', 'ved', 'så', 'kan', 'kaste', 'sig', 'over', 'at', 'gøre', 'mere', 'bliver', \n",
    "             'for', 'vort', 'han', 'har', 'jo', 'brugt', 'megen', 'på', 'give', 'for']\n",
    "\n",
    "words_nostop = []\n",
    "\n",
    "for word in words_lower:\n",
    "    if word not in stopwords:\n",
    "        words_nostop.append(word)\n",
    "        \n",
    "print(words_nostop)"
   ]
  },
  {
   "cell_type": "markdown",
   "metadata": {},
   "source": [
    "Udover stopord har vi også noget \"twitter-støj\"; fx links og brug af @ til at tagge andre brugere."
   ]
  },
  {
   "cell_type": "code",
   "execution_count": 20,
   "metadata": {},
   "outputs": [
    {
     "name": "stdout",
     "output_type": "stream",
     "text": [
      "['hjemmeværnet', 'politikadetterne', 'forsvaret', 'ærterne', 'grænserne', 'politiet', 'danskere', 'trygge', 'sikker', 'påat', 'lykkelig', 'krav', 'energi', 'dfs', 'grænseindsats', 'skylden', 'mandskabsmangel']\n"
     ]
    }
   ],
   "source": [
    "tokens = []\n",
    "\n",
    "for word in words_nostop:\n",
    "    if word.startswith(\"@\") or word.startswith(\"https\"):\n",
    "        continue\n",
    "    tokens.append(word)\n",
    "    \n",
    "print(tokens)"
   ]
  },
  {
   "cell_type": "markdown",
   "metadata": {},
   "source": [
    "#### 5. Evt. konverter ord til deres stamme eller navneform\n",
    "\n",
    "Formålet med tokenization er både at frasortere støj i teksten og ensrette tokens sådan, at der kun er ét token for alle ord med samme semantiske betydning.\n",
    "\n",
    "Fx er det uhensigtsmæssigt at behandle \"Valgkamp\" og \"valgkamp\" som to forskellige tokens, da det er det samme ord bare med stort og lille forbogstav.\n",
    "\n",
    "Netop fordi hvert ord som udgangspunkt behanldes som unikt, giver det nogen udfordring ift. grammatik, da hver ordbøjning bliver hver sit token - medmindre man gør noget ved det!\n",
    "\n",
    "Derfor er en typisk praksis enten at konvertere ordet til stammen (stemming). Her ville ord som \"koste\", \"koster\", \"kostede\" alle konverteres til \"kost\", da det er ordets stamme.\n",
    "\n",
    "En anden praksis er at konvertere til navneformen (lemmatization). Her ville ord som \"koste\", \"koster\", \"kostede\" alle konverteres til \"koste\", da det er navneform for ordet.\n",
    "\n",
    "Sådanne konverteringer kræver, at man bruger i forvejen trænede sprogmodeller, da stamme og navneform vil variere fra sprog til sprog. Heldigvis er der udviklet mange af disse værktøjer.\n",
    "\n",
    "Dog er sådan nogen værktøjer ikke uden fejl, da det tager lang tid for en computer at lære, hvad forskellen er på \"kost\" (noget man spiser), \"kost\" (noget man fejer med) og \"kost\" (stammen at verbum \"koste\")."
   ]
  },
  {
   "cell_type": "markdown",
   "metadata": {},
   "source": [
    "#### Tokenization som funktion\n",
    "\n",
    "Det kan være en fordel at sammensætte ens pre-processing i en funktion. På den måde bliver den nemmere at genanvende."
   ]
  },
  {
   "cell_type": "code",
   "execution_count": 22,
   "metadata": {},
   "outputs": [],
   "source": [
    "def tokenizer_basic(text):\n",
    "    punct_list = [',', '-','.','?','!']\n",
    "    stopwords = ['og', 'klarer', 'ved', 'så', 'kan', 'kaste', 'sig', 'over', 'at', 'gøre', 'mere', 'bliver', \n",
    "                 'for', 'vort', 'han', 'har', 'jo', 'brugt', 'megen', 'på', 'give', 'for']\n",
    "\n",
    "    words = text.split(\" \")\n",
    "\n",
    "    tokens = []\n",
    "\n",
    "    for word in words:\n",
    "        if word.startswith(\"@\") or word.startswith(\"https\"):\n",
    "            continue\n",
    "\n",
    "        for punct in punct_list:\n",
    "            word = word.replace(punct, \"\")\n",
    "\n",
    "        word = word.lower()\n",
    "\n",
    "        if word not in stopwords:\n",
    "            tokens.append(word)\n",
    "\n",
    "\n",
    "    tokens = list(filter(None, tokens))\n",
    "\n",
    "    return(tokens)"
   ]
  },
  {
   "cell_type": "code",
   "execution_count": 23,
   "metadata": {},
   "outputs": [
    {
     "name": "stdout",
     "output_type": "stream",
     "text": [
      "Hjemmeværnet, Politikadetterne og Forsvaret klarer ærterne ved grænserne, så Politiet kan kaste sig over at gøre danskere mere trygge. Sikker på,at @ClausOxfeldt bliver lykkelig for vort krav. Han har jo brugt megen energi på at give DFs grænseindsats skylden for mandskabsmangel. https://t.co/PgenOdeSwn\n",
      "\n",
      "\n",
      "['Hjemmeværnet,', 'Politikadetterne', 'og', 'Forsvaret', 'klarer', 'ærterne', 'ved', 'grænserne,', 'så', 'Politiet', 'kan', 'kaste', 'sig', 'over', 'at', 'gøre', 'danskere', 'mere', 'trygge.', 'Sikker', 'på,at', '@ClausOxfeldt', 'bliver', 'lykkelig', 'for', 'vort', 'krav.', 'Han', 'har', 'jo', 'brugt', 'megen', 'energi', 'på', 'at', 'give', 'DFs', 'grænseindsats', 'skylden', 'for', 'mandskabsmangel.', 'https://t.co/PgenOdeSwn']\n"
     ]
    }
   ],
   "source": [
    "tokens = tokenizer_basic(tweet)\n",
    "\n",
    "print(tweet)\n",
    "print(\"\\n\")\n",
    "print(words)"
   ]
  },
  {
   "cell_type": "markdown",
   "metadata": {},
   "source": [
    "### Ord som series\n",
    "\n",
    "Med teksten konverteret til tokens, kan vi nemmere behandle dem.\n",
    "\n",
    "Ordene er lige nu i en liste, men de kan nemt konverteres til en pandas series, så vi kan bruger pandas metoder til at udforske tekstindholdet (selvfølgelig ikke så spændende på et enketl tweet):"
   ]
  },
  {
   "cell_type": "code",
   "execution_count": 23,
   "metadata": {},
   "outputs": [
    {
     "data": {
      "text/plain": [
       "trygge              1\n",
       "påat                1\n",
       "politiet            1\n",
       "mandskabsmangel     1\n",
       "krav                1\n",
       "energi              1\n",
       "grænseindsats       1\n",
       "sikker              1\n",
       "politikadetterne    1\n",
       "danskere            1\n",
       "dfs                 1\n",
       "skylden             1\n",
       "lykkelig            1\n",
       "grænserne           1\n",
       "ærterne             1\n",
       "hjemmeværnet        1\n",
       "forsvaret           1\n",
       "dtype: int64"
      ]
     },
     "execution_count": 23,
     "metadata": {},
     "output_type": "execute_result"
    }
   ],
   "source": [
    "tokens_series = pd.Series(tokens)\n",
    "\n",
    "tokens_series.value_counts()"
   ]
  },
  {
   "cell_type": "markdown",
   "metadata": {},
   "source": [
    "# ØVELSE 2: Tokenization\n",
    "\n",
    "Prøv at undersøge tekstindholdet af et af opslagene i redditdata: `post = reddit_df.loc[503, 'post_selftext']`\n",
    "\n",
    "1. Tokenize opslaget - enten med en funktion eller trin for trin\n",
    "2. Lav en ordoptælling ved at konvertere jeres tokens til en pandas series og bruge `.value_counts()`"
   ]
  },
  {
   "cell_type": "code",
   "execution_count": 24,
   "metadata": {},
   "outputs": [],
   "source": [
    "post = reddit_df.loc[503, 'post_selftext']"
   ]
  },
  {
   "cell_type": "markdown",
   "metadata": {},
   "source": [
    "# 5. Tokenization med sprogmodeller\n",
    "\n",
    "Selvom man kan komme langt med basisfunktioner, så er der stadig mange ulemper:\n",
    "- Vi er nødt til selv at definere tegnsætning eller stopord (disse kan dog importeres fra andre pakker)\n",
    "- Vi har ikke en nem måde at konvertere til stamme eller navneform\n",
    "\n",
    "Der findes mange eksisterende tokenizer-funktioner, som man nemt kan hente fra andre pakker. En meget populær teknik i dag er at gøre brug af sprogmodeller, da man så kan lade disse analysere teksternes opbygning og sætningskonstruktion, og dermed foretage tokenization på baggrund af dette.\n",
    "\n",
    "Sprogmodeller findes i såkaldte \"natural language processing\" pakker; altså pakker, der netop er udviklet til at læse og forstå tekst.\n",
    "\n",
    "Nogen af de mere populære pakker er [`spacy`](https://spacy.io/) og [`stanza`](https://stanfordnlp.github.io/stanza/). \n",
    "\n",
    "Vi gør i denne session brug af `stanza`, men funktionerne og opbygningen minder meget om `spacy`.\n",
    "\n",
    "## Hvad er en sprogmodel?\n",
    "\n",
    "En sprogmodel (\"language model\") er kort sagt en model til at forudsige ord. Der er tale om modeller, der er trænet til at forstå forskellige sprog, og kan derfor både bruges til at producere tekst på et bestemt sprog eller analysere opbygningen af en tekst.\n",
    "\n",
    "Lidt forsimplet er en sprogmodel en model, som er trænet til at genkende ordtyper, entiteter og sætningskonstruktion, som derved kan prædiktere disse informationer i tekst på det samme sprog."
   ]
  },
  {
   "cell_type": "markdown",
   "metadata": {},
   "source": [
    "### Introduktion til `stanza` \n",
    "\n",
    "\"Stanza\" indeholder forskellige sprogmodeller - herunder en dansk sprogmodel.\n",
    "\n",
    "Overordnet virker stanza ved, at man specificerer en sprogmodel samt nogen \"processors\", som modellen skal indeholde. \n",
    "\n",
    "Stanzas sprogmodeller indeholder blandt andet:\n",
    "- Tokenizer (inddeling i enkeltord)\n",
    "- Lemmatizer (konvertering til navneform)\n",
    "- Part-Of-Speech tagging (POS-tagging) (identificering af ordtyper)\n",
    "- dependency parsing (sætningskonstruktion)\n",
    "- Named-Entity-Recognition (NER) (udledning af \"named entities\", fx personer og organisationer)*\n",
    "- Sentiment analysis (udregning af sætnings-sentiment - positivt/negativt)*\n",
    "\n",
    "*\\*Disse processors findes ikke for den danske sprogmodel*"
   ]
  },
  {
   "cell_type": "markdown",
   "metadata": {},
   "source": [
    "### Brug af stanza i Python\n",
    "\n",
    "For at bruge `stanza` skal vi først importere pakken. Derefter henter vi den danske sprogmodel."
   ]
  },
  {
   "cell_type": "code",
   "execution_count": 25,
   "metadata": {},
   "outputs": [],
   "source": [
    "import stanza\n",
    "\n",
    "#stanza.download('da')"
   ]
  },
  {
   "cell_type": "markdown",
   "metadata": {},
   "source": [
    "Når sprogmodellen er hentet, kan vi bruge den ved først at definere et såkaldt \"pipeline\", der gør brug af sprogmodellen. Derefter kan vi lade sprogmodellen analysere teksten."
   ]
  },
  {
   "cell_type": "code",
   "execution_count": 24,
   "metadata": {},
   "outputs": [
    {
     "name": "stderr",
     "output_type": "stream",
     "text": [
      "2021-03-11 15:40:45 INFO: Loading these models for language: da (Danish):\n",
      "=======================\n",
      "| Processor | Package |\n",
      "-----------------------\n",
      "| tokenize  | ddt     |\n",
      "| pos       | ddt     |\n",
      "| lemma     | ddt     |\n",
      "| depparse  | ddt     |\n",
      "=======================\n",
      "\n",
      "2021-03-11 15:40:45 INFO: Use device: cpu\n",
      "2021-03-11 15:40:45 INFO: Loading: tokenize\n",
      "2021-03-11 15:40:45 INFO: Loading: pos\n",
      "2021-03-11 15:40:46 INFO: Loading: lemma\n",
      "2021-03-11 15:40:46 INFO: Loading: depparse\n",
      "2021-03-11 15:40:47 INFO: Done loading processors!\n"
     ]
    }
   ],
   "source": [
    "nlp = stanza.Pipeline('da') # Definerer model\n",
    "\n",
    "doc = nlp(tweet) # Bruger model på tweet"
   ]
  },
  {
   "cell_type": "markdown",
   "metadata": {},
   "source": [
    "Når modellen anvendes på et stykke tekst, behandler den tekststykket med de forskellige processors, som er en del af sprogmodellen (som standard for dansk: tokenizer, part-of-speech tagging, lemmatizer og dependency parsing).\n",
    "\n",
    "Outputtet (`doc`) indeholder de forskellige værdier, som er udledt af teksten, som attributes (et attribute for token, et for lemma, et for pos osv.).\n",
    "\n",
    "Da `stanza` både inddeler tekst i sætninger og ord, skal vi både loope igennem sætninger og ord for at se resultatet.\n",
    "\n",
    "Herunder ses de tokens, som modellen finder (`.text`):"
   ]
  },
  {
   "cell_type": "code",
   "execution_count": 25,
   "metadata": {},
   "outputs": [
    {
     "name": "stdout",
     "output_type": "stream",
     "text": [
      "Hjemmeværnet\n",
      ",\n",
      "Politikadetterne\n",
      "og\n",
      "Forsvaret\n",
      "klarer\n",
      "ærterne\n",
      "ved\n",
      "grænserne\n",
      ",\n",
      "så\n",
      "Politiet\n",
      "kan\n",
      "kaste\n",
      "sig\n",
      "over\n",
      "at\n",
      "gøre\n",
      "danskere\n",
      "mere\n",
      "trygge\n",
      ".\n",
      "Sikker\n",
      "på,at\n",
      "@\n",
      "ClausOxfeldt\n",
      "bliver\n",
      "lykkelig\n",
      "for\n",
      "vort\n",
      "krav\n",
      ".\n",
      "Han\n",
      "har\n",
      "jo\n",
      "brugt\n",
      "megen\n",
      "energi\n",
      "på\n",
      "at\n",
      "give\n",
      "DFs\n",
      "grænseindsats\n",
      "skylden\n",
      "for\n",
      "mandskabsmangel\n",
      ".\n",
      "https://t.co/PgenOdeSwn\n"
     ]
    }
   ],
   "source": [
    "for sentence in doc.sentences:\n",
    "    for word in sentence.words:\n",
    "        print(word.text)"
   ]
  },
  {
   "cell_type": "markdown",
   "metadata": {},
   "source": [
    "Herunder ses tokens som \"lemmatized\" (`.lemma`):"
   ]
  },
  {
   "cell_type": "code",
   "execution_count": 28,
   "metadata": {},
   "outputs": [
    {
     "name": "stdout",
     "output_type": "stream",
     "text": [
      "hjemmeværn\n",
      ",\n",
      "politikadet\n",
      "og\n",
      "forsvar\n",
      "klare\n",
      "ært\n",
      "ved\n",
      "grænse\n",
      ",\n",
      "så\n",
      "politi\n",
      "kunne\n",
      "kaste\n",
      "sig\n",
      "over\n",
      "at\n",
      "gøre\n",
      "dansker\n",
      "mere\n",
      "trygg\n",
      ".\n",
      "sikker\n",
      "på,at\n",
      "@\n",
      "ClausOxfeldt\n",
      "blive\n",
      "lykkelig\n",
      "for\n",
      "vores\n",
      "krav\n",
      ".\n",
      "han\n",
      "have\n",
      "jo\n",
      "bruge\n",
      "meget\n",
      "energi\n",
      "på\n",
      "at\n",
      "give\n",
      "DF\n",
      "grænseindsats\n",
      "skyld\n",
      "for\n",
      "mandskabsmangel\n",
      ".\n",
      "https://t.co/PgenOdeSwn\n"
     ]
    }
   ],
   "source": [
    "for sentence in doc.sentences:\n",
    "    for word in sentence.words:\n",
    "        print(word.lemma)"
   ]
  },
  {
   "cell_type": "markdown",
   "metadata": {},
   "source": [
    "Herunder ses token sammen med part-of-speech tag (`.pos`):"
   ]
  },
  {
   "cell_type": "code",
   "execution_count": 29,
   "metadata": {},
   "outputs": [
    {
     "name": "stdout",
     "output_type": "stream",
     "text": [
      "Hjemmeværnet, NOUN\n",
      ",, PUNCT\n",
      "Politikadetterne, NOUN\n",
      "og, CCONJ\n",
      "Forsvaret, NOUN\n",
      "klarer, VERB\n",
      "ærterne, NOUN\n",
      "ved, ADP\n",
      "grænserne, NOUN\n",
      ",, PUNCT\n",
      "så, SCONJ\n",
      "Politiet, NOUN\n",
      "kan, AUX\n",
      "kaste, VERB\n",
      "sig, PRON\n",
      "over, ADP\n",
      "at, PART\n",
      "gøre, VERB\n",
      "danskere, NOUN\n",
      "mere, ADV\n",
      "trygge, ADJ\n",
      "., PUNCT\n",
      "Sikker, ADJ\n",
      "på,at, ADP\n",
      "@, PROPN\n",
      "ClausOxfeldt, PROPN\n",
      "bliver, AUX\n",
      "lykkelig, ADJ\n",
      "for, ADP\n",
      "vort, DET\n",
      "krav, NOUN\n",
      "., PUNCT\n",
      "Han, PRON\n",
      "har, AUX\n",
      "jo, ADV\n",
      "brugt, VERB\n",
      "megen, ADJ\n",
      "energi, NOUN\n",
      "på, ADP\n",
      "at, PART\n",
      "give, VERB\n",
      "DFs, PROPN\n",
      "grænseindsats, NOUN\n",
      "skylden, NOUN\n",
      "for, ADP\n",
      "mandskabsmangel, NOUN\n",
      "., PUNCT\n",
      "https://t.co/PgenOdeSwn, X\n"
     ]
    }
   ],
   "source": [
    "for sentence in doc.sentences:\n",
    "    for word in sentence.words:\n",
    "        print(word.text + \", \" + word.pos)"
   ]
  },
  {
   "cell_type": "markdown",
   "metadata": {},
   "source": [
    "Fordelen ved at bruge sprogmodeller er, at metoder til at tokenize er indbygget. Derudover kan vi nemt få lemma af vores tokens, da sprogmodellen netop kender sproget, og derfor kan gradbøje ordene i teksten.\n",
    "\n",
    "Sprogmodeller hjælper os også til at finde de mere meningsfulde ord. Visse ordtyper (part-of-speech) er ofte \"støj\" fra et tekstanalyse-perspektiv; fx hjælpeord (AUX), stedord (PRON), forholdsord (ADP) og bindeord (CONJ).\n",
    "\n",
    "Med en sprogmodel kan vi blot udvælge de ordtyper, som vi vil beholde.\n",
    "\n",
    "I det nedenstående vises en alternativ måde at tokenize med brug af `stanza`. Derudover bruges en prædefineret stopordsliste fra pakken [`nltk`](https://www.nltk.org/):"
   ]
  },
  {
   "cell_type": "code",
   "execution_count": 30,
   "metadata": {
    "tags": []
   },
   "outputs": [
    {
     "name": "stdout",
     "output_type": "stream",
     "text": [
      "Hjemmeværnet, Politikadetterne og Forsvaret klarer ærterne ved grænserne, så Politiet kan kaste sig over at gøre danskere mere trygge. Sikker på,at @ClausOxfeldt bliver lykkelig for vort krav. Han har jo brugt megen energi på at give DFs grænseindsats skylden for mandskabsmangel. https://t.co/PgenOdeSwn\n",
      "\n",
      "\n",
      "['hjemmeværn', 'politikadet', 'forsvar', 'ært', 'grænse', 'politi', 'dansker', 'trygg', 'sikker', 'ClausOxfeldt', 'lykkelig', 'krav', 'energi', 'grænseindsats', 'skyld', 'mandskabsmangel']\n"
     ]
    }
   ],
   "source": [
    "from nltk.corpus import stopwords # Importer stopord fra nltk\n",
    "\n",
    "custom_stops = [\"@\", \"god\", \"al\", \"stor\", \"ny\", \"tak\", \"dag\"] # Definerer kontekstspecifikke stopord\n",
    "stop_words = list(stopwords.words('danish')) + custom_stops # Danner samlet stopordsliste - danske stopord fra nltk + kontekstspecifikke\n",
    "pos_tags = ['PROPN', 'ADJ', 'NOUN'] # Definerer POS-tags som skal bevares: egenavne, adjektiver og navneord\n",
    "\n",
    "doc = nlp(tweet) # Kører sprogmodel på tweet\n",
    "\n",
    "tokens = [] # Tom liste til at fylde tokens i \n",
    "\n",
    "for sentence in doc.sentences: # Looper igennem hver sætning i tweet\n",
    "    for word in sentence.words: # Looper igennem hvert ord i sætning\n",
    "        if (word.lemma.startswith(\"@\")) or (word.lemma.startswith(\"#\")) or (len(word.lemma) < 3): # Sætter negative betingelser: ord skal ikke starte med @, #\n",
    "            # Ord på mindre end 3 bogstaver frasorteres også fra - Bemærk at alle tager udgangspunkt i lemma\n",
    "            continue # Bruges til at skippe ordet: hvis en af betingelserne i if-linjen er sand, gå videre til næste ord\n",
    "        if (word.pos in pos_tags) and (word.lemma not in stop_words): # Tjek at ordets POS-tag indgår i listen af accepterede tags og at ordet ikke er stopord\n",
    "            # Bemærk at denne betingelse nås kun for dem, som ikke opfylder betingelsen fra if-linjen før\n",
    "            tokens.append(word.lemma) # Tilføj ordets lemma til tokens, hvis if-betingelse er opfyldt\n",
    "\n",
    "print(tweet) # Print oprindelige tweet\n",
    "print(\"\\n\")            \n",
    "print(tokens) # Print tokens"
   ]
  },
  {
   "cell_type": "markdown",
   "metadata": {},
   "source": [
    "### Tokenizer funktion med stanza\n",
    "\n",
    "Ovenstående kan med fordel laves til en funktion, så vi nemt kan foretage sammen tokenization på andre tweets.\n",
    "\n",
    "Samtidig genindlæses sprogmodellen, hvor vi udvælger specifikke processors. Dette gør behandlingen hurtigere, da den ellers kører igennem alle processor i sprogmodellen, når den bruges på en tekst, selvom vi ikke bruger det til noget:"
   ]
  },
  {
   "cell_type": "code",
   "execution_count": 31,
   "metadata": {},
   "outputs": [
    {
     "name": "stderr",
     "output_type": "stream",
     "text": [
      "2021-03-10 14:42:59 INFO: Loading these models for language: da (Danish):\n",
      "=======================\n",
      "| Processor | Package |\n",
      "-----------------------\n",
      "| tokenize  | ddt     |\n",
      "| pos       | ddt     |\n",
      "| lemma     | ddt     |\n",
      "=======================\n",
      "\n",
      "2021-03-10 14:42:59 INFO: Use device: cpu\n",
      "2021-03-10 14:42:59 INFO: Loading: tokenize\n",
      "2021-03-10 14:42:59 INFO: Loading: pos\n",
      "2021-03-10 14:43:00 INFO: Loading: lemma\n",
      "2021-03-10 14:43:00 INFO: Done loading processors!\n"
     ]
    }
   ],
   "source": [
    "nlp = stanza.Pipeline('da', processors = 'tokenize, pos, lemma') \n",
    "\n",
    "def tokenizer_stanza(text): # Definerer funktion ud fra koden fra tidligere\n",
    "    custom_stops = [\"@\", \"god\", \"al\", \"stor\", \"ny\", \"tak\", \"dag\"]\n",
    "    stop_words = list(stopwords.words('danish')) + custom_stops\n",
    "    pos_tags = ['PROPN', 'ADJ', 'NOUN']\n",
    "\n",
    "    doc = nlp(text)\n",
    "\n",
    "    tokens = []\n",
    "\n",
    "    for sentence in doc.sentences:\n",
    "        for word in sentence.words:\n",
    "            if (word.lemma.startswith(\"@\")) or (word.lemma.startswith(\"#\")) or (len(word.lemma) < 3):\n",
    "                continue\n",
    "            if (word.pos in pos_tags) and (word.lemma not in stop_words):\n",
    "                tokens.append(word.lemma)\n",
    "                \n",
    "    return(tokens)"
   ]
  },
  {
   "cell_type": "markdown",
   "metadata": {},
   "source": [
    "Funktionen kan nu bruges på tweets (eller andre strings):"
   ]
  },
  {
   "cell_type": "code",
   "execution_count": 32,
   "metadata": {},
   "outputs": [
    {
     "name": "stdout",
     "output_type": "stream",
     "text": [
      "Hjemmeværnet, Politikadetterne og Forsvaret klarer ærterne ved grænserne, så Politiet kan kaste sig over at gøre danskere mere trygge. Sikker på,at @ClausOxfeldt bliver lykkelig for vort krav. Han har jo brugt megen energi på at give DFs grænseindsats skylden for mandskabsmangel. https://t.co/PgenOdeSwn\n",
      "\n",
      "\n",
      "['hjemmeværn', 'politikadet', 'forsvar', 'ært', 'grænse', 'politi', 'dansker', 'trygg', 'sikker', 'ClausOxfeldt', 'lykkelig', 'krav', 'energi', 'grænseindsats', 'skyld', 'mandskabsmangel']\n"
     ]
    }
   ],
   "source": [
    "tokens = tokenizer_stanza(tweet)\n",
    "\n",
    "print(tweet)\n",
    "print(\"\\n\")\n",
    "print(tokens)"
   ]
  },
  {
   "cell_type": "markdown",
   "metadata": {},
   "source": [
    "### Tokens som en pandas series\n",
    "\n",
    "Ovenstående funktion returnerer en liste af tokens. Lister kan nemt konverteres til en pandas series. På den måde kan man bruge pandas metoder til at arbejde med tekst-værdierne.\n",
    "\n",
    "I nedenstående laves en hurtig ordoptælling. Det giver selvfølgelig ikke meget mening for så kort en tekst, men ville også fungere på en langt længere tekst."
   ]
  },
  {
   "cell_type": "code",
   "execution_count": 33,
   "metadata": {},
   "outputs": [
    {
     "data": {
      "text/plain": [
       "grænseindsats      1\n",
       "forsvar            1\n",
       "ClausOxfeldt       1\n",
       "politikadet        1\n",
       "skyld              1\n",
       "grænse             1\n",
       "politi             1\n",
       "lykkelig           1\n",
       "dansker            1\n",
       "ært                1\n",
       "sikker             1\n",
       "mandskabsmangel    1\n",
       "energi             1\n",
       "krav               1\n",
       "trygg              1\n",
       "hjemmeværn         1\n",
       "dtype: int64"
      ]
     },
     "execution_count": 33,
     "metadata": {},
     "output_type": "execute_result"
    }
   ],
   "source": [
    "tokens_series = pd.Series(tokens)\n",
    "\n",
    "tokens_series.value_counts()"
   ]
  },
  {
   "cell_type": "markdown",
   "metadata": {},
   "source": [
    "# ØVELSE 3: Meningsfulde tokens med stanza\n",
    "\n",
    "Prøv at undersøge tekstindholdet af samme reddit opslag som før, men denne gang med brug af `stanza`: `post = reddit_df.loc[503, 'post_selftext']`\n",
    "\n",
    "1. Skriv en tokenizer funktion, er bruger `stanza`\n",
    "2. Tokenize opslaget med funktionen\n",
    "3. Lav igen en ordoptælling ved at konvertere jeres tokens til en pandas series og bruge `.value_counts()`"
   ]
  },
  {
   "cell_type": "markdown",
   "metadata": {},
   "source": [
    "# 6. Simple text mining teknikker\n",
    "\n",
    "Indtil videre har vi arbejdet med enkelte tekststykker, men hvordan oversætter vi disse teknikker til større samlinger? (corpus)\n",
    "\n",
    "En samling af dokumenter eller tekster, der bruges til at undersøge et bestemt tema eller en bestemt problemstilling, kaldes et *corpus* (et term fra lingvistik).\n",
    "\n",
    "Der er forskellige dataformater til at arbejde med corpora kvantitativt. Et udbredt format er et \"document-term-matrix\" (dtm) eller et \"term-document-matrix\" (tdm). Et document-term-matrix er en tabel, hvor dokumenterne/teksterne udgør rækkerne og tokens udgør kolonner. Hver celle er så en tælling af et token inden for hvert dokument. Et \"term-document-matrix\" er det samme, men hvor tokens udgør rækker og dokumenter udgør kolonner. \n",
    "\n",
    "Et \"document-term-matrix\" er nyttigt og nødvendigt til forskellige modeller, men formatet egner sig ikke særlig godt til mere simple, eksplorative text mining teknikker. Dette fordi at det er vanskeligt at bevare anden information, som man har i teksterne, i det format (fx forfatter af teksten, udgivelsestidspunkt eller andet).\n",
    "\n",
    "## Tidy text data\n",
    "\n",
    "Et alternativt format er et såkaldt \"tidy text\" format. I dette format betragtes hver optræden af et token som en observation. I dette format foregår der ikke nogen form for opsummering eller optælling i selve dataformatet. I stedet splittes tokens i tekster ud i rækker, så man for hver optræden af et token kan kombinere det med de øvrige oplysninger, som man har i data.\n",
    "\n",
    "Tilgangen er mindre udbredt i Python, men ses ofte brugt i R (se fx [Silge, J og D Robinson: \"Text Mining with R: A Tidy Approach\"](https://www.tidytextmining.com/)).\n",
    "\n",
    "**Fordele:**\n",
    "- Fastholder dokumenttilhør og andre relevante oplysninger\n",
    "- Gør det nemt at arbejde med\n",
    "- Vi kan bruge metoder, som vi kender fra at arbejde med struktureret data\n",
    "    \n",
    "**Ulemper:**\n",
    "- Data fylder hurtigt meget\n",
    "- Kan have effekt på beregningstiden\n",
    "- Ikke kompatibelt med mange modeller (data skal måske konverteres igen for at passe med model)"
   ]
  },
  {
   "cell_type": "markdown",
   "metadata": {},
   "source": [
    "## Fra text corpora til tidy text i Python\n",
    "\n",
    "Python (og pandas) har flere funktioner, der gør det nemt at anvende funktioner på alle værdier i en kolonne. Twitterdata er lige nu læst ind som en dataframe, hvor selve tweetet fremgår af kolonnen `full_text`:"
   ]
  },
  {
   "cell_type": "code",
   "execution_count": 34,
   "metadata": {},
   "outputs": [
    {
     "data": {
      "text/plain": [
       "0    Er på vej i miljøministeriet for at foreslå at...\n",
       "1    @nielscallesoe @helenehagel @alternativet_ Det...\n",
       "2    Vi står sammen, smiler Løkke på KL-topmøde og ...\n",
       "3             @AnnaBylov @EU_Spring @rasmusnordqvist 💚\n",
       "4    Der er ikke noget alternativ til at Alternativ...\n",
       "Name: full_text, dtype: object"
      ]
     },
     "execution_count": 34,
     "metadata": {},
     "output_type": "execute_result"
    }
   ],
   "source": [
    "tweets_df['full_text'].head()"
   ]
  },
  {
   "cell_type": "markdown",
   "metadata": {},
   "source": [
    "Vi har allerede udviklet en funktion, der virker på et enkelt tekststykke. Da hver celle i kolonnen `full_text` består af et enkelt tekststykke (et tweet), kan funktionen derfor bruges på hvilken som helst celle i kolonnen:"
   ]
  },
  {
   "cell_type": "code",
   "execution_count": 35,
   "metadata": {},
   "outputs": [
    {
     "name": "stdout",
     "output_type": "stream",
     "text": [
      "- Hvordan sikrer vi at forebyggelse og behandling af cannabismisbrug blandt unge bliver styrket gennem legalisering af cannabis i Danmark? \n",
      "Det var omdrejningspunktet i en to timers debat med dem, der har “hands on” på området, nemlig misbrugsbehandlerne. 💚@alternativet_  #dkpol https://t.co/DnxKEGk9Ab\n",
      "\n",
      "\n",
      "['forebyggelse', 'behandling', 'cannabismisbrug', 'ung', 'legalisering', 'cannabis', 'Danmark', 'omdrejningspunkt', 'time', 'debat', 'on”', 'område', 'misbrugsbehandler', 'åæalternativ']\n"
     ]
    }
   ],
   "source": [
    "tokens = tokenizer_stanza(tweets_df.loc[102, 'full_text'])\n",
    "\n",
    "print(tweets_df.loc[102, 'full_text'])\n",
    "print(\"\\n\")\n",
    "print(tokens)"
   ]
  },
  {
   "cell_type": "markdown",
   "metadata": {},
   "source": [
    "**Brug af `.apply()` på pandas series**\n",
    "\n",
    "Funktionen virker ikke på hele kolonnen, da funktionen er lavet til at tage et enkelt tekststykke som input (og ikke en pandas series):"
   ]
  },
  {
   "cell_type": "code",
   "execution_count": 36,
   "metadata": {},
   "outputs": [
    {
     "ename": "AssertionError",
     "evalue": "input should be either str, list or Document",
     "output_type": "error",
     "traceback": [
      "\u001b[1;31m---------------------------------------------------------------------------\u001b[0m",
      "\u001b[1;31mAssertionError\u001b[0m                            Traceback (most recent call last)",
      "\u001b[1;32m<ipython-input-36-7632f9ffff45>\u001b[0m in \u001b[0;36m<module>\u001b[1;34m\u001b[0m\n\u001b[1;32m----> 1\u001b[1;33m \u001b[0mtokenizer_stanza\u001b[0m\u001b[1;33m(\u001b[0m\u001b[0mtweets_df\u001b[0m\u001b[1;33m[\u001b[0m\u001b[1;34m'full_text'\u001b[0m\u001b[1;33m]\u001b[0m\u001b[1;33m)\u001b[0m\u001b[1;33m\u001b[0m\u001b[1;33m\u001b[0m\u001b[0m\n\u001b[0m",
      "\u001b[1;32m<ipython-input-31-0dcd5b54f743>\u001b[0m in \u001b[0;36mtokenizer_stanza\u001b[1;34m(text)\u001b[0m\n\u001b[0;32m      6\u001b[0m     \u001b[0mpos_tags\u001b[0m \u001b[1;33m=\u001b[0m \u001b[1;33m[\u001b[0m\u001b[1;34m'PROPN'\u001b[0m\u001b[1;33m,\u001b[0m \u001b[1;34m'ADJ'\u001b[0m\u001b[1;33m,\u001b[0m \u001b[1;34m'NOUN'\u001b[0m\u001b[1;33m]\u001b[0m\u001b[1;33m\u001b[0m\u001b[1;33m\u001b[0m\u001b[0m\n\u001b[0;32m      7\u001b[0m \u001b[1;33m\u001b[0m\u001b[0m\n\u001b[1;32m----> 8\u001b[1;33m     \u001b[0mdoc\u001b[0m \u001b[1;33m=\u001b[0m \u001b[0mnlp\u001b[0m\u001b[1;33m(\u001b[0m\u001b[0mtext\u001b[0m\u001b[1;33m)\u001b[0m\u001b[1;33m\u001b[0m\u001b[1;33m\u001b[0m\u001b[0m\n\u001b[0m\u001b[0;32m      9\u001b[0m \u001b[1;33m\u001b[0m\u001b[0m\n\u001b[0;32m     10\u001b[0m     \u001b[0mtokens\u001b[0m \u001b[1;33m=\u001b[0m \u001b[1;33m[\u001b[0m\u001b[1;33m]\u001b[0m\u001b[1;33m\u001b[0m\u001b[1;33m\u001b[0m\u001b[0m\n",
      "\u001b[1;32mC:\\programs\\Anaconda3\\envs\\lda\\lib\\site-packages\\stanza\\pipeline\\core.py\u001b[0m in \u001b[0;36m__call__\u001b[1;34m(self, doc)\u001b[0m\n\u001b[0;32m    207\u001b[0m     \u001b[1;32mdef\u001b[0m \u001b[0m__call__\u001b[0m\u001b[1;33m(\u001b[0m\u001b[0mself\u001b[0m\u001b[1;33m,\u001b[0m \u001b[0mdoc\u001b[0m\u001b[1;33m)\u001b[0m\u001b[1;33m:\u001b[0m\u001b[1;33m\u001b[0m\u001b[1;33m\u001b[0m\u001b[0m\n\u001b[0;32m    208\u001b[0m         assert any([isinstance(doc, str), isinstance(doc, list),\n\u001b[1;32m--> 209\u001b[1;33m                     isinstance(doc, Document)]), 'input should be either str, list or Document'\n\u001b[0m\u001b[0;32m    210\u001b[0m         \u001b[0mdoc\u001b[0m \u001b[1;33m=\u001b[0m \u001b[0mself\u001b[0m\u001b[1;33m.\u001b[0m\u001b[0mprocess\u001b[0m\u001b[1;33m(\u001b[0m\u001b[0mdoc\u001b[0m\u001b[1;33m)\u001b[0m\u001b[1;33m\u001b[0m\u001b[1;33m\u001b[0m\u001b[0m\n\u001b[0;32m    211\u001b[0m         \u001b[1;32mreturn\u001b[0m \u001b[0mdoc\u001b[0m\u001b[1;33m\u001b[0m\u001b[1;33m\u001b[0m\u001b[0m\n",
      "\u001b[1;31mAssertionError\u001b[0m: input should be either str, list or Document"
     ]
    }
   ],
   "source": [
    "tokenizer_stanza(tweets_df['full_text'])"
   ]
  },
  {
   "cell_type": "markdown",
   "metadata": {},
   "source": [
    "Man kan dog nemt få Pandas til at køre den samme funktion over hver celle i en kolonne med metoden `.apply()` (https://pandas.pydata.org/pandas-docs/stable/reference/api/pandas.Series.apply.html?highlight=apply#pandas.Series.apply).\n",
    "\n",
    "`.apply()` anvendes på en pandas series og tager en funktion som input. Metoden kan tænkes lig et for loop, hvor funktionen, som man angiver som input, anvendes på hver celle i kolonnen.\n",
    "\n",
    "Herunder dannes en ny kolonne (`tokens`), som dannes ved at anvende funktionen på kolonnen `full_text` med `.apply()` (OBS: Dette kan tage noget tid):"
   ]
  },
  {
   "cell_type": "code",
   "execution_count": 38,
   "metadata": {},
   "outputs": [],
   "source": [
    "tweets_df['tokens'] = tweets_df['full_text'].apply(tokenizer_stanza)"
   ]
  },
  {
   "cell_type": "code",
   "execution_count": 39,
   "metadata": {
    "tags": []
   },
   "outputs": [],
   "source": [
    "# Indlæs tokenized data, hvis nødvendigt\n",
    "#import ast\n",
    "\n",
    "#tweets_df = pd.read_csv(\"https://raw.githubusercontent.com/CALDISS-AAU/course_ndms-I/master/datasets/poltweets_sample_tokens.csv\")\n",
    "#tweets_df['tokens'] = tweets_df['tokens'].apply(ast.literal_eval)"
   ]
  },
  {
   "cell_type": "markdown",
   "metadata": {},
   "source": [
    "**Fra tokens som lister til tokens som rækker**\n",
    "\n",
    "Funktionen `tokenizer_stanza` returnerer en liste af tokens. Kolonnen `tokens` indeholder derfor listen af tokens for hver tekst:"
   ]
  },
  {
   "cell_type": "code",
   "execution_count": 40,
   "metadata": {},
   "outputs": [
    {
     "data": {
      "text/plain": [
       "0    [vej, miljøministerium, biodiversitetsmål, Dan...\n",
       "1    [æalternativ, nettofordel, klima, boring, Nord...\n",
       "2    [Løkke, KL-topmøde, milliard, kommune, æaltern...\n",
       "3                                          [eu_spring]\n",
       "4         [alternativ, alternativ, klima, æalternativ]\n",
       "Name: tokens, dtype: object"
      ]
     },
     "execution_count": 40,
     "metadata": {},
     "output_type": "execute_result"
    }
   ],
   "source": [
    "tweets_df['tokens'].head()"
   ]
  },
  {
   "cell_type": "markdown",
   "metadata": {},
   "source": [
    "Data er derfor ikke tidy, da vi ikke har et ord per række. Dette kan dog nemt opnås med metoden `.explode()` (https://pandas.pydata.org/pandas-docs/stable/reference/api/pandas.Series.explode.html#pandas.Series.explode). "
   ]
  },
  {
   "cell_type": "code",
   "execution_count": 41,
   "metadata": {},
   "outputs": [
    {
     "data": {
      "text/html": [
       "<div>\n",
       "<style scoped>\n",
       "    .dataframe tbody tr th:only-of-type {\n",
       "        vertical-align: middle;\n",
       "    }\n",
       "\n",
       "    .dataframe tbody tr th {\n",
       "        vertical-align: top;\n",
       "    }\n",
       "\n",
       "    .dataframe thead th {\n",
       "        text-align: right;\n",
       "    }\n",
       "</style>\n",
       "<table border=\"1\" class=\"dataframe\">\n",
       "  <thead>\n",
       "    <tr style=\"text-align: right;\">\n",
       "      <th></th>\n",
       "      <th>created_at</th>\n",
       "      <th>id</th>\n",
       "      <th>full_text</th>\n",
       "      <th>is_quote_status</th>\n",
       "      <th>retweet_count</th>\n",
       "      <th>favorite_count</th>\n",
       "      <th>favorited</th>\n",
       "      <th>retweeted</th>\n",
       "      <th>is_retweet</th>\n",
       "      <th>hashtags</th>\n",
       "      <th>urls</th>\n",
       "      <th>user_followers_count</th>\n",
       "      <th>party</th>\n",
       "      <th>tokens</th>\n",
       "    </tr>\n",
       "  </thead>\n",
       "  <tbody>\n",
       "    <tr>\n",
       "      <th>0</th>\n",
       "      <td>2020-10-21 14:48:39+00:00</td>\n",
       "      <td>1318927184111730700</td>\n",
       "      <td>Er på vej i miljøministeriet for at foreslå at...</td>\n",
       "      <td>False</td>\n",
       "      <td>13</td>\n",
       "      <td>47</td>\n",
       "      <td>False</td>\n",
       "      <td>False</td>\n",
       "      <td>False</td>\n",
       "      <td>['dkgreen']</td>\n",
       "      <td>[]</td>\n",
       "      <td>4064</td>\n",
       "      <td>Alternativet</td>\n",
       "      <td>vej</td>\n",
       "    </tr>\n",
       "    <tr>\n",
       "      <th>0</th>\n",
       "      <td>2020-10-21 14:48:39+00:00</td>\n",
       "      <td>1318927184111730700</td>\n",
       "      <td>Er på vej i miljøministeriet for at foreslå at...</td>\n",
       "      <td>False</td>\n",
       "      <td>13</td>\n",
       "      <td>47</td>\n",
       "      <td>False</td>\n",
       "      <td>False</td>\n",
       "      <td>False</td>\n",
       "      <td>['dkgreen']</td>\n",
       "      <td>[]</td>\n",
       "      <td>4064</td>\n",
       "      <td>Alternativet</td>\n",
       "      <td>miljøministerium</td>\n",
       "    </tr>\n",
       "    <tr>\n",
       "      <th>0</th>\n",
       "      <td>2020-10-21 14:48:39+00:00</td>\n",
       "      <td>1318927184111730700</td>\n",
       "      <td>Er på vej i miljøministeriet for at foreslå at...</td>\n",
       "      <td>False</td>\n",
       "      <td>13</td>\n",
       "      <td>47</td>\n",
       "      <td>False</td>\n",
       "      <td>False</td>\n",
       "      <td>False</td>\n",
       "      <td>['dkgreen']</td>\n",
       "      <td>[]</td>\n",
       "      <td>4064</td>\n",
       "      <td>Alternativet</td>\n",
       "      <td>biodiversitetsmål</td>\n",
       "    </tr>\n",
       "    <tr>\n",
       "      <th>0</th>\n",
       "      <td>2020-10-21 14:48:39+00:00</td>\n",
       "      <td>1318927184111730700</td>\n",
       "      <td>Er på vej i miljøministeriet for at foreslå at...</td>\n",
       "      <td>False</td>\n",
       "      <td>13</td>\n",
       "      <td>47</td>\n",
       "      <td>False</td>\n",
       "      <td>False</td>\n",
       "      <td>False</td>\n",
       "      <td>['dkgreen']</td>\n",
       "      <td>[]</td>\n",
       "      <td>4064</td>\n",
       "      <td>Alternativet</td>\n",
       "      <td>Danmark</td>\n",
       "    </tr>\n",
       "    <tr>\n",
       "      <th>0</th>\n",
       "      <td>2020-10-21 14:48:39+00:00</td>\n",
       "      <td>1318927184111730700</td>\n",
       "      <td>Er på vej i miljøministeriet for at foreslå at...</td>\n",
       "      <td>False</td>\n",
       "      <td>13</td>\n",
       "      <td>47</td>\n",
       "      <td>False</td>\n",
       "      <td>False</td>\n",
       "      <td>False</td>\n",
       "      <td>['dkgreen']</td>\n",
       "      <td>[]</td>\n",
       "      <td>4064</td>\n",
       "      <td>Alternativet</td>\n",
       "      <td>natur</td>\n",
       "    </tr>\n",
       "    <tr>\n",
       "      <th>0</th>\n",
       "      <td>2020-10-21 14:48:39+00:00</td>\n",
       "      <td>1318927184111730700</td>\n",
       "      <td>Er på vej i miljøministeriet for at foreslå at...</td>\n",
       "      <td>False</td>\n",
       "      <td>13</td>\n",
       "      <td>47</td>\n",
       "      <td>False</td>\n",
       "      <td>False</td>\n",
       "      <td>False</td>\n",
       "      <td>['dkgreen']</td>\n",
       "      <td>[]</td>\n",
       "      <td>4064</td>\n",
       "      <td>Alternativet</td>\n",
       "      <td>land</td>\n",
       "    </tr>\n",
       "    <tr>\n",
       "      <th>0</th>\n",
       "      <td>2020-10-21 14:48:39+00:00</td>\n",
       "      <td>1318927184111730700</td>\n",
       "      <td>Er på vej i miljøministeriet for at foreslå at...</td>\n",
       "      <td>False</td>\n",
       "      <td>13</td>\n",
       "      <td>47</td>\n",
       "      <td>False</td>\n",
       "      <td>False</td>\n",
       "      <td>False</td>\n",
       "      <td>['dkgreen']</td>\n",
       "      <td>[]</td>\n",
       "      <td>4064</td>\n",
       "      <td>Alternativet</td>\n",
       "      <td>natur</td>\n",
       "    </tr>\n",
       "    <tr>\n",
       "      <th>0</th>\n",
       "      <td>2020-10-21 14:48:39+00:00</td>\n",
       "      <td>1318927184111730700</td>\n",
       "      <td>Er på vej i miljøministeriet for at foreslå at...</td>\n",
       "      <td>False</td>\n",
       "      <td>13</td>\n",
       "      <td>47</td>\n",
       "      <td>False</td>\n",
       "      <td>False</td>\n",
       "      <td>False</td>\n",
       "      <td>['dkgreen']</td>\n",
       "      <td>[]</td>\n",
       "      <td>4064</td>\n",
       "      <td>Alternativet</td>\n",
       "      <td>havs</td>\n",
       "    </tr>\n",
       "    <tr>\n",
       "      <th>0</th>\n",
       "      <td>2020-10-21 14:48:39+00:00</td>\n",
       "      <td>1318927184111730700</td>\n",
       "      <td>Er på vej i miljøministeriet for at foreslå at...</td>\n",
       "      <td>False</td>\n",
       "      <td>13</td>\n",
       "      <td>47</td>\n",
       "      <td>False</td>\n",
       "      <td>False</td>\n",
       "      <td>False</td>\n",
       "      <td>['dkgreen']</td>\n",
       "      <td>[]</td>\n",
       "      <td>4064</td>\n",
       "      <td>Alternativet</td>\n",
       "      <td>ådkgre</td>\n",
       "    </tr>\n",
       "    <tr>\n",
       "      <th>0</th>\n",
       "      <td>2020-10-21 14:48:39+00:00</td>\n",
       "      <td>1318927184111730700</td>\n",
       "      <td>Er på vej i miljøministeriet for at foreslå at...</td>\n",
       "      <td>False</td>\n",
       "      <td>13</td>\n",
       "      <td>47</td>\n",
       "      <td>False</td>\n",
       "      <td>False</td>\n",
       "      <td>False</td>\n",
       "      <td>['dkgreen']</td>\n",
       "      <td>[]</td>\n",
       "      <td>4064</td>\n",
       "      <td>Alternativet</td>\n",
       "      <td>NaturThor</td>\n",
       "    </tr>\n",
       "  </tbody>\n",
       "</table>\n",
       "</div>"
      ],
      "text/plain": [
       "                  created_at                   id  \\\n",
       "0  2020-10-21 14:48:39+00:00  1318927184111730700   \n",
       "0  2020-10-21 14:48:39+00:00  1318927184111730700   \n",
       "0  2020-10-21 14:48:39+00:00  1318927184111730700   \n",
       "0  2020-10-21 14:48:39+00:00  1318927184111730700   \n",
       "0  2020-10-21 14:48:39+00:00  1318927184111730700   \n",
       "0  2020-10-21 14:48:39+00:00  1318927184111730700   \n",
       "0  2020-10-21 14:48:39+00:00  1318927184111730700   \n",
       "0  2020-10-21 14:48:39+00:00  1318927184111730700   \n",
       "0  2020-10-21 14:48:39+00:00  1318927184111730700   \n",
       "0  2020-10-21 14:48:39+00:00  1318927184111730700   \n",
       "\n",
       "                                           full_text  is_quote_status  \\\n",
       "0  Er på vej i miljøministeriet for at foreslå at...            False   \n",
       "0  Er på vej i miljøministeriet for at foreslå at...            False   \n",
       "0  Er på vej i miljøministeriet for at foreslå at...            False   \n",
       "0  Er på vej i miljøministeriet for at foreslå at...            False   \n",
       "0  Er på vej i miljøministeriet for at foreslå at...            False   \n",
       "0  Er på vej i miljøministeriet for at foreslå at...            False   \n",
       "0  Er på vej i miljøministeriet for at foreslå at...            False   \n",
       "0  Er på vej i miljøministeriet for at foreslå at...            False   \n",
       "0  Er på vej i miljøministeriet for at foreslå at...            False   \n",
       "0  Er på vej i miljøministeriet for at foreslå at...            False   \n",
       "\n",
       "   retweet_count  favorite_count  favorited  retweeted  is_retweet  \\\n",
       "0             13              47      False      False       False   \n",
       "0             13              47      False      False       False   \n",
       "0             13              47      False      False       False   \n",
       "0             13              47      False      False       False   \n",
       "0             13              47      False      False       False   \n",
       "0             13              47      False      False       False   \n",
       "0             13              47      False      False       False   \n",
       "0             13              47      False      False       False   \n",
       "0             13              47      False      False       False   \n",
       "0             13              47      False      False       False   \n",
       "\n",
       "      hashtags urls  user_followers_count         party             tokens  \n",
       "0  ['dkgreen']   []                  4064  Alternativet                vej  \n",
       "0  ['dkgreen']   []                  4064  Alternativet   miljøministerium  \n",
       "0  ['dkgreen']   []                  4064  Alternativet  biodiversitetsmål  \n",
       "0  ['dkgreen']   []                  4064  Alternativet            Danmark  \n",
       "0  ['dkgreen']   []                  4064  Alternativet              natur  \n",
       "0  ['dkgreen']   []                  4064  Alternativet               land  \n",
       "0  ['dkgreen']   []                  4064  Alternativet              natur  \n",
       "0  ['dkgreen']   []                  4064  Alternativet               havs  \n",
       "0  ['dkgreen']   []                  4064  Alternativet             ådkgre  \n",
       "0  ['dkgreen']   []                  4064  Alternativet          NaturThor  "
      ]
     },
     "execution_count": 41,
     "metadata": {},
     "output_type": "execute_result"
    }
   ],
   "source": [
    "tweets_df_tidy = tweets_df.explode('tokens')\n",
    "\n",
    "tweets_df_tidy.head(10)"
   ]
  },
  {
   "cell_type": "markdown",
   "metadata": {},
   "source": [
    "Med data i tidy format, kan vi bruge pandas metoder til at udforske data. \n",
    "\n",
    "Optælling af ord:"
   ]
  },
  {
   "cell_type": "code",
   "execution_count": 42,
   "metadata": {},
   "outputs": [
    {
     "data": {
      "text/plain": [
       "æalternativ    301\n",
       "regering       273\n",
       "Danmark        234\n",
       "dansk          200\n",
       "barn           183\n",
       "ådkgre         154\n",
       "enig           145\n",
       "vigtig         142\n",
       "gang           140\n",
       "Spolitik       127\n",
       "Name: tokens, dtype: int64"
      ]
     },
     "execution_count": 42,
     "metadata": {},
     "output_type": "execute_result"
    }
   ],
   "source": [
    "tweets_df_tidy['tokens'].value_counts()[0:10]"
   ]
  },
  {
   "cell_type": "markdown",
   "metadata": {},
   "source": [
    "Vi kan blandt bruge `.groupby()` og `.sort_values()` til at lave optællinger inden for forskellige grupperinger:"
   ]
  },
  {
   "cell_type": "code",
   "execution_count": 43,
   "metadata": {},
   "outputs": [
    {
     "name": "stdout",
     "output_type": "stream",
     "text": [
      "----Top 10 tokens for ALTERNATIVET----\n",
      "\n",
      "æalternativ          271\n",
      "alternativ            41\n",
      "ådkgre                32\n",
      "grøn                  19\n",
      "regering              18\n",
      "kontanthjælpsloft     16\n",
      "arbejde               14\n",
      "social                14\n",
      "øCirlander            13\n",
      "barn                  13\n",
      "Name: tokens, dtype: int64\n",
      "\n",
      "\n",
      "----Top 10 tokens for DANSK FOLKEPARTI----\n",
      "\n",
      "Danmark      32\n",
      "dansk        31\n",
      "regering     23\n",
      "dansker      17\n",
      "folketing    16\n",
      "gang         15\n",
      "ådkmedie     13\n",
      "land         13\n",
      "glad         12\n",
      "klar         12\n",
      "Name: tokens, dtype: int64\n",
      "\n",
      "\n",
      "----Top 10 tokens for DET KONSERVATIVE FOLKEPARTI----\n",
      "\n",
      "konservativedk    23\n",
      "regering          23\n",
      "dansk             17\n",
      "debat             14\n",
      "enig              14\n",
      "svær              13\n",
      "Spolitik          12\n",
      "Danmark           12\n",
      "barn              12\n",
      "gang              12\n",
      "Name: tokens, dtype: int64\n",
      "\n",
      "\n",
      "----Top 10 tokens for ENHEDSLISTEN----\n",
      "\n",
      "enhedsliste    47\n",
      "regering       38\n",
      "ådkgre         38\n",
      "vigtig         24\n",
      "grøn           21\n",
      "brug           19\n",
      "penge          18\n",
      "dansk          17\n",
      "barn           17\n",
      "enig           16\n",
      "Name: tokens, dtype: int64\n",
      "\n",
      "\n",
      "----Top 10 tokens for LIBERAL ALLIANCE----\n",
      "\n",
      "penge              25\n",
      "LiberalAlliance    24\n",
      "regering           24\n",
      "høj                19\n",
      "tid                17\n",
      "folk               16\n",
      "problem            15\n",
      "Danmark            14\n",
      "politik            13\n",
      "hel                13\n",
      "Name: tokens, dtype: int64\n",
      "\n",
      "\n",
      "----Top 10 tokens for NYE BORGERLIGE----\n",
      "\n",
      "borgerlig    55\n",
      "Danmark      52\n",
      "dansker      34\n",
      "dansk        32\n",
      "politiker    30\n",
      "ådkmedie     26\n",
      "barn         24\n",
      "regering     22\n",
      "land         20\n",
      "aften        17\n",
      "Name: tokens, dtype: int64\n",
      "\n",
      "\n",
      "----Top 10 tokens for RADIKALE VENSTRE----\n",
      "\n",
      "æradikal      48\n",
      "enig          23\n",
      "barn          19\n",
      "dansk         17\n",
      "ådkgre        14\n",
      "tid           13\n",
      "Danmark       13\n",
      "vigtig        13\n",
      "uddannelse    12\n",
      "regering      12\n",
      "Name: tokens, dtype: int64\n",
      "\n",
      "\n",
      "----Top 10 tokens for SOCIALDEMOKRATIET----\n",
      "\n",
      "Spolitik    45\n",
      "regering    28\n",
      "barn        22\n",
      "Danmark     20\n",
      "gang        20\n",
      "vigtig      16\n",
      "klar        14\n",
      "dansk       14\n",
      "stærk       13\n",
      "Løkke       12\n",
      "Name: tokens, dtype: int64\n",
      "\n",
      "\n",
      "----Top 10 tokens for SOCIALISTISK FOLKEPARTI----\n",
      "\n",
      "SFpolitik    41\n",
      "barn         38\n",
      "enig         29\n",
      "ådkgre       24\n",
      "vigtig       22\n",
      "brug         21\n",
      "forslag      20\n",
      "regering     20\n",
      "tid          18\n",
      "vej          18\n",
      "Name: tokens, dtype: int64\n",
      "\n",
      "\n",
      "----Top 10 tokens for UDEN FOR FOLKETINGSGRUPPERNE----\n",
      "\n",
      "Danmark     29\n",
      "grøn        28\n",
      "ådkgre      25\n",
      "regering    22\n",
      "ådkmedie    21\n",
      "dansk       20\n",
      "gang        19\n",
      "barn        18\n",
      "menneske    13\n",
      "verden      13\n",
      "Name: tokens, dtype: int64\n",
      "\n",
      "\n",
      "----Top 10 tokens for VENSTRE----\n",
      "\n",
      "regering         43\n",
      "Spolitik         30\n",
      "Danmark          25\n",
      "dansk            23\n",
      "enig             20\n",
      "valg             17\n",
      "dansker          17\n",
      "vigtig           16\n",
      "statsminister    15\n",
      "venstre          14\n",
      "Name: tokens, dtype: int64\n",
      "\n",
      "\n"
     ]
    }
   ],
   "source": [
    "for party in tweets_df_tidy['party'].unique():\n",
    "    print(f\"----Top 10 tokens for {party.upper()}----\\n\")\n",
    "    print(tweets_df_tidy.loc[tweets_df_tidy['party'] == party, 'tokens'].value_counts()[0:10])\n",
    "    print(\"\\n\")"
   ]
  },
  {
   "cell_type": "markdown",
   "metadata": {},
   "source": [
    "Vi kan med dette format også nemt finde tweets, der indeholder bestemte ord med `.isin()`:"
   ]
  },
  {
   "cell_type": "code",
   "execution_count": 44,
   "metadata": {},
   "outputs": [
    {
     "data": {
      "text/plain": [
       "Enhedslisten                    15\n",
       "Socialistisk Folkeparti         14\n",
       "Alternativet                     8\n",
       "Det Konservative Folkeparti      6\n",
       "Liberal Alliance                 4\n",
       "Socialdemokratiet                4\n",
       "Radikale Venstre                 4\n",
       "Dansk Folkeparti                 4\n",
       "Uden for folketingsgrupperne     4\n",
       "Venstre                          2\n",
       "Nye Borgerlige                   2\n",
       "Name: party, dtype: int64"
      ]
     },
     "execution_count": 44,
     "metadata": {},
     "output_type": "execute_result"
    }
   ],
   "source": [
    "keywords = ['klima', 'miljø'] # Ord til at søge efter\n",
    "\n",
    "tweets_df_tidy.loc[tweets_df_tidy['tokens'].isin(keywords), 'party'].value_counts() # Optælling af specifikke ord for hvert party"
   ]
  },
  {
   "cell_type": "markdown",
   "metadata": {},
   "source": [
    "Ovenstånde kan også plottes:"
   ]
  },
  {
   "cell_type": "code",
   "execution_count": 45,
   "metadata": {},
   "outputs": [
    {
     "data": {
      "text/plain": [
       "<AxesSubplot:>"
      ]
     },
     "execution_count": 45,
     "metadata": {},
     "output_type": "execute_result"
    },
    {
     "data": {
      "image/png": "[encoded data removed]",
      "text/plain": [
       "<Figure size 1440x720 with 1 Axes>"
      ]
     },
     "metadata": {},
     "output_type": "display_data"
    }
   ],
   "source": [
    "tweets_df_tidy.loc[tweets_df_tidy['tokens'].isin(keywords), 'party'].value_counts().plot.bar()"
   ]
  },
  {
   "cell_type": "markdown",
   "metadata": {},
   "source": [
    "# ØVELSE 4: Tidy text data (reddit data)\n",
    "\n",
    "Du skal nu anvende din funktion fra før på alle kommentarerne i reddit datasættet (kolonnen `comment_body`)\n",
    "\n",
    "1. Brug `.apply()` til at anvende din tokenizer funktion på hele reddit datasættet til at lave en tokens kolonne (det kan være en god ide lige at teste funktionen med en enkelt kommentar først)\n",
    "2. Brug `.explode()` til at konvertere data til et tidy format\n",
    "3. Brug `.value_counts()` til at optælle tokens\n",
    "4. Undersøg, hvor mange gange coronavirus er nævnt (tænkt gerne synonymer med!)"
   ]
  },
  {
   "cell_type": "markdown",
   "metadata": {},
   "source": [
    "# 7. Introduktion til topic modelling med latent dirichlet allocation (LDA)\n",
    "\n",
    "Indtil videre har vi kigget på teknikker, der hjælper os til at få et overblik over ordene, som indgår i data. Disse teknikker egner sig godt til det, som man kalder \"nøgleordsanalyse\"; altså en analyse af de mest centrale ord/termer i et corpus.\n",
    "\n",
    "Vi kan dog også inddrage teknikker til at hjælpe os identificere umiddelbare mønstre og temaer i en samling af tekster.\n",
    "\n",
    "\"Latent Dirichlet Allocaltion\" (LDA) ([Blei, David M. 2012](http://www.cs.columbia.edu/~blei/papers/Blei2012.pdf)): - en af de mest populære \"topic models\" - er en måde at anvende usuperviseret maskinlæring til at finde umiddelbare temaer i en tekst.\n",
    "\n",
    "**Fordele**\n",
    "- Giver overblik over umiddelbare tematiske mønstre i data\n",
    "- Hjælper til at inddele og kategorisere tekstdata\n",
    "\n",
    "**Ulemper**\n",
    "- Fremgangsmåden præget af vilkårlighed (hvor mange topics, giver mening at finde?)\n",
    "- Sårbar over for små ændringer i datahåndtering (hvorvidt man bruger lemmatizer, hvilke stopord man frasorterer)\n",
    "- Ringe ekstern validitet: Modellen siger noget om den pågældende tekstsamling, men kan i ringe grade anvendes på andre tekstdata\n",
    "\n",
    "\n",
    "## Hvordan fungerer topic modelling (LDA)?\n",
    "\n",
    "LDA er en såkaldt \"bag-of-words\" model. Det vil først og fremmest sige, at den ikke tager højde for ordets sætningskontekst, men blot behandler en tekst som en samling af enkeltord.\n",
    "\n",
    "### LDA kort fortal\n",
    "\n",
    "![lda](./img/lda.png)\n",
    "\n",
    "- Det antages, at der eksisterer et hvis antal \"topics\", der går igen på tværs af alle dokumenter i et corpus\n",
    "- Et \"topic\" er en sandsynlighedsfordeling over en række ord; en samling af ord behæftet med en hvis sandsynlighed\n",
    "- Hvert dokument antages at være sammensat af de forskellige topics; hvert topic er behæftet med en hvis sandsynlighed for at optræde i dokumentet\n",
    "- Ordene i et dokument antages at være \"trukket\" af de forskellige topics\n",
    "\n",
    "Lad os fx antage, at reddit kommentarer består af tre topics: konspiration, forretning og politik. Antagelsen i LDA er så, at en reddit kommentar er dannet ud fra en fordeling af disse topics. Det kunne fx være, at en kommentare er 40% konspiration, 25% forretning og 35% politik. Ord i en kommentar antages at være taget fra denne fordeling af topics. I hvert topic er visse ord mere sandsynlige end andre.\n",
    "\n",
    "> Der er en ikke helt ude konspirations teori der bygger på at de store firmaer støttede det så de slap for at blive beskattet, ved at distrahere venstrefløjen.\n",
    "\n",
    "### LDA som en \"generativ probabilitisk model\"\n",
    "\n",
    "LDA er en \"generativ probabilitisk model\". Det vil sige, at data antages at blive dannet af en generativ proces over en sandsynlighedsfordeling, som er sammensat af *både* observerede og uobserverede variable ([Blei, David M. 2012](http://www.cs.columbia.edu/~blei/papers/Blei2012.pdf)).\n",
    "\n",
    "De observerede variable for LDA er ordene i teksterne, mens de uoverserverede variable er de topics, som dokumenterne antages at være dannet af.\n",
    "\n",
    "Sandsynlighedsfordelingen over ord og topics i en samling dokumenter noteres som følgende:\n",
    "\n",
    "$$\n",
    "p(\\beta_{1:K}, \\theta_{1:D}, z_{1:D}, w_{1:d})\n",
    "$$\n",
    "$$\n",
    "= \\prod_{i=1}^{K}p(\\beta_i)\\prod_{d=1}^{D}p(\\theta_d)\\Big(\\prod_{n=1}^{N}p(z_{d,n}|\\theta_d)p(w_{d,n}|\\beta_{1:K},z_{d,n})\\Big)\n",
    "$$\n",
    "\n",
    "- $\\beta_{1:K}$ er topics,  hvor hvert $\\beta_{k}$ er en sandsynlighedsfordeling af ord\n",
    "- $\\theta_{d,k}$ er topic-andel for topic $k$ for tekst $d$\n",
    "- $z_{d,n}$ er tildeling af topic for $n$ ord i tekst $d$\n",
    "- $w_{d,n}$ er observerede ord $n$ for dokument $d$\n",
    "\n",
    "\n",
    "Da topic-strukturen er *uobserveret* variabel, kan modellen i sig selv ikke give svar på, hvilke emner, som der findes. Vi kan dog med modellen definere topic-strukturen ved at specificere et antal topics, hvorefter modellen så kan foretage beregningen for ords sandsynligheder i de enkelte topics og sandsynlighederne for topics i dokumenterne.\n",
    "\n",
    "Der findes dog forskellige teknikker, der forsøger at løse problemet om at finde den optimale eller mest passende topic struktur."
   ]
  },
  {
   "cell_type": "markdown",
   "metadata": {},
   "source": [
    "## Brug af topic models i Python\n",
    "\n",
    "I det følgende ser i på, hvordan vi kan lave en topic model model. Vi bruger pakken [`gensim`](https://radimrehurek.com/gensim/) til formålet.\n",
    "\n",
    "`gensim` er en meget udbredt pakke til topic modelling. Dog er den ikke udviklet til at være kompatibel med `pandas`, hvorfor vi er nødt til at konvertere data til at være kompatibel med `gensim`.\n",
    "\n",
    "Den datastruktur, som `gensim` skal bruge, er et \"gensim corpus\". Et \"gensim corpus\" er en liste af token-optællinger for hver tekst i et corpus. Sådan et corpus dannes ved først at konverteres tokens i corpus til et numerisk id (hvert token i corpus får unikt numerisk id). Derefter tælles antallet af tokens per tekst, og samles i tuples bestående af det numeriske id og antal hændelser i teksten.\n",
    "\n",
    "### Fra tekster til gensim corpus\n",
    "\n",
    "Til at starte med, skal vi bruge lister af tokens for hver tekst. Disse har vi allerede i vores dataframe (den, som ikke er konverteret til tidy). Vi kan derfor tage disse lister af tokens ud og arbejde med dem for sig."
   ]
  },
  {
   "cell_type": "code",
   "execution_count": 46,
   "metadata": {},
   "outputs": [
    {
     "data": {
      "text/html": [
       "<div>\n",
       "<style scoped>\n",
       "    .dataframe tbody tr th:only-of-type {\n",
       "        vertical-align: middle;\n",
       "    }\n",
       "\n",
       "    .dataframe tbody tr th {\n",
       "        vertical-align: top;\n",
       "    }\n",
       "\n",
       "    .dataframe thead th {\n",
       "        text-align: right;\n",
       "    }\n",
       "</style>\n",
       "<table border=\"1\" class=\"dataframe\">\n",
       "  <thead>\n",
       "    <tr style=\"text-align: right;\">\n",
       "      <th></th>\n",
       "      <th>created_at</th>\n",
       "      <th>id</th>\n",
       "      <th>full_text</th>\n",
       "      <th>is_quote_status</th>\n",
       "      <th>retweet_count</th>\n",
       "      <th>favorite_count</th>\n",
       "      <th>favorited</th>\n",
       "      <th>retweeted</th>\n",
       "      <th>is_retweet</th>\n",
       "      <th>hashtags</th>\n",
       "      <th>urls</th>\n",
       "      <th>user_followers_count</th>\n",
       "      <th>party</th>\n",
       "      <th>tokens</th>\n",
       "    </tr>\n",
       "  </thead>\n",
       "  <tbody>\n",
       "    <tr>\n",
       "      <th>0</th>\n",
       "      <td>2020-10-21 14:48:39+00:00</td>\n",
       "      <td>1318927184111730700</td>\n",
       "      <td>Er på vej i miljøministeriet for at foreslå at...</td>\n",
       "      <td>False</td>\n",
       "      <td>13</td>\n",
       "      <td>47</td>\n",
       "      <td>False</td>\n",
       "      <td>False</td>\n",
       "      <td>False</td>\n",
       "      <td>['dkgreen']</td>\n",
       "      <td>[]</td>\n",
       "      <td>4064</td>\n",
       "      <td>Alternativet</td>\n",
       "      <td>[vej, miljøministerium, biodiversitetsmål, Dan...</td>\n",
       "    </tr>\n",
       "    <tr>\n",
       "      <th>1</th>\n",
       "      <td>2019-06-02 20:03:20+00:00</td>\n",
       "      <td>1135275725592891400</td>\n",
       "      <td>@nielscallesoe @helenehagel @alternativet_ Det...</td>\n",
       "      <td>False</td>\n",
       "      <td>0</td>\n",
       "      <td>1</td>\n",
       "      <td>False</td>\n",
       "      <td>False</td>\n",
       "      <td>False</td>\n",
       "      <td>[]</td>\n",
       "      <td>[]</td>\n",
       "      <td>4064</td>\n",
       "      <td>Alternativet</td>\n",
       "      <td>[æalternativ, nettofordel, klima, boring, Nord...</td>\n",
       "    </tr>\n",
       "    <tr>\n",
       "      <th>2</th>\n",
       "      <td>2016-03-10 09:07:52+00:00</td>\n",
       "      <td>707855478320189400</td>\n",
       "      <td>Vi står sammen, smiler Løkke på KL-topmøde og ...</td>\n",
       "      <td>False</td>\n",
       "      <td>13</td>\n",
       "      <td>14</td>\n",
       "      <td>False</td>\n",
       "      <td>False</td>\n",
       "      <td>False</td>\n",
       "      <td>['dkpol', 'KLtop16']</td>\n",
       "      <td>[]</td>\n",
       "      <td>4064</td>\n",
       "      <td>Alternativet</td>\n",
       "      <td>[Løkke, KL-topmøde, milliard, kommune, æaltern...</td>\n",
       "    </tr>\n",
       "    <tr>\n",
       "      <th>3</th>\n",
       "      <td>2019-04-07 19:59:03+00:00</td>\n",
       "      <td>1114980930467315700</td>\n",
       "      <td>@AnnaBylov @EU_Spring @rasmusnordqvist 💚</td>\n",
       "      <td>False</td>\n",
       "      <td>0</td>\n",
       "      <td>2</td>\n",
       "      <td>False</td>\n",
       "      <td>False</td>\n",
       "      <td>False</td>\n",
       "      <td>[]</td>\n",
       "      <td>[]</td>\n",
       "      <td>4064</td>\n",
       "      <td>Alternativet</td>\n",
       "      <td>[eu_spring]</td>\n",
       "    </tr>\n",
       "    <tr>\n",
       "      <th>4</th>\n",
       "      <td>2017-05-28 09:59:26+00:00</td>\n",
       "      <td>868768670427828200</td>\n",
       "      <td>Der er ikke noget alternativ til at Alternativ...</td>\n",
       "      <td>False</td>\n",
       "      <td>6</td>\n",
       "      <td>28</td>\n",
       "      <td>False</td>\n",
       "      <td>False</td>\n",
       "      <td>False</td>\n",
       "      <td>['LMÅ17']</td>\n",
       "      <td>[{'url': 'https://t.co/3MCdZZGKRq', 'expanded_...</td>\n",
       "      <td>4064</td>\n",
       "      <td>Alternativet</td>\n",
       "      <td>[alternativ, alternativ, klima, æalternativ]</td>\n",
       "    </tr>\n",
       "  </tbody>\n",
       "</table>\n",
       "</div>"
      ],
      "text/plain": [
       "                  created_at                   id  \\\n",
       "0  2020-10-21 14:48:39+00:00  1318927184111730700   \n",
       "1  2019-06-02 20:03:20+00:00  1135275725592891400   \n",
       "2  2016-03-10 09:07:52+00:00   707855478320189400   \n",
       "3  2019-04-07 19:59:03+00:00  1114980930467315700   \n",
       "4  2017-05-28 09:59:26+00:00   868768670427828200   \n",
       "\n",
       "                                           full_text  is_quote_status  \\\n",
       "0  Er på vej i miljøministeriet for at foreslå at...            False   \n",
       "1  @nielscallesoe @helenehagel @alternativet_ Det...            False   \n",
       "2  Vi står sammen, smiler Løkke på KL-topmøde og ...            False   \n",
       "3           @AnnaBylov @EU_Spring @rasmusnordqvist 💚            False   \n",
       "4  Der er ikke noget alternativ til at Alternativ...            False   \n",
       "\n",
       "   retweet_count  favorite_count  favorited  retweeted  is_retweet  \\\n",
       "0             13              47      False      False       False   \n",
       "1              0               1      False      False       False   \n",
       "2             13              14      False      False       False   \n",
       "3              0               2      False      False       False   \n",
       "4              6              28      False      False       False   \n",
       "\n",
       "               hashtags                                               urls  \\\n",
       "0           ['dkgreen']                                                 []   \n",
       "1                    []                                                 []   \n",
       "2  ['dkpol', 'KLtop16']                                                 []   \n",
       "3                    []                                                 []   \n",
       "4             ['LMÅ17']  [{'url': 'https://t.co/3MCdZZGKRq', 'expanded_...   \n",
       "\n",
       "   user_followers_count         party  \\\n",
       "0                  4064  Alternativet   \n",
       "1                  4064  Alternativet   \n",
       "2                  4064  Alternativet   \n",
       "3                  4064  Alternativet   \n",
       "4                  4064  Alternativet   \n",
       "\n",
       "                                              tokens  \n",
       "0  [vej, miljøministerium, biodiversitetsmål, Dan...  \n",
       "1  [æalternativ, nettofordel, klima, boring, Nord...  \n",
       "2  [Løkke, KL-topmøde, milliard, kommune, æaltern...  \n",
       "3                                        [eu_spring]  \n",
       "4       [alternativ, alternativ, klima, æalternativ]  "
      ]
     },
     "execution_count": 46,
     "metadata": {},
     "output_type": "execute_result"
    }
   ],
   "source": [
    "tweets_df.head()"
   ]
  },
  {
   "cell_type": "code",
   "execution_count": 47,
   "metadata": {},
   "outputs": [
    {
     "name": "stdout",
     "output_type": "stream",
     "text": [
      "['vej', 'miljøministerium', 'biodiversitetsmål', 'Danmark', 'natur', 'land', 'natur', 'havs', 'ådkgre', 'NaturThor', 'æalternativ']\n",
      "\n",
      "\n",
      "Dictionary(10688 unique tokens: ['Danmark', 'NaturThor', 'biodiversitetsmål', 'havs', 'land']...)\n"
     ]
    }
   ],
   "source": [
    "import gensim\n",
    "from gensim import corpora\n",
    "\n",
    "# Lagr tweet tokens i liste for sig\n",
    "tweets_tokens = list(tweets_df['tokens'])\n",
    "\n",
    "print(tweets_tokens[0])\n",
    "\n",
    "# Lav en dictionary - integer id per token\n",
    "id2token = corpora.Dictionary(tweets_tokens) # integer id per word\n",
    "\n",
    "print(\"\\n\")\n",
    "print(id2token)"
   ]
  },
  {
   "cell_type": "markdown",
   "metadata": {},
   "source": [
    "`id2token` er nu en `gensim.corpora.Dictionary`. Denne indeholder forskellige metoder til at konvertere tekstdata. Blandt andet indeholder den metoden `.doc2bow()`, som danner en term-document frequecy (optælling af ord i teksten). (\"bow\" er kort for \"bag-of-words\", da optællingen netop ikke tager højde for rækkefølgende).\n",
    "\n",
    "Resultatet er en liste af tuples, hvor hvert tuple består af optælling af token for teksten. \n",
    "\n",
    "Herunder bruges en \"list comprehension\" (et forsimplet for loop, der returnerer en liste), til at konvertere alle tweets:"
   ]
  },
  {
   "cell_type": "code",
   "execution_count": 48,
   "metadata": {},
   "outputs": [
    {
     "name": "stdout",
     "output_type": "stream",
     "text": [
      "[(0, 1), (1, 1), (2, 1), (3, 1), (4, 1), (5, 1), (6, 2), (7, 1), (8, 1), (9, 1)]\n"
     ]
    }
   ],
   "source": [
    "# Danner gensim corpus - optælling af tokens per tekst\n",
    "tweets_corpus = [id2token.doc2bow(tokens) for tokens in tweets_tokens] # bag-of-word(bow) tuples for hver text - (token-id, optælling)\n",
    "\n",
    "print(tweets_corpus[0])"
   ]
  },
  {
   "cell_type": "markdown",
   "metadata": {},
   "source": [
    "Vi kan tjekke, hvilke ord ligger bag id'erne, med følgende kode:"
   ]
  },
  {
   "cell_type": "code",
   "execution_count": 49,
   "metadata": {},
   "outputs": [
    {
     "data": {
      "text/plain": [
       "[('Danmark', 1),\n",
       " ('NaturThor', 1),\n",
       " ('biodiversitetsmål', 1),\n",
       " ('havs', 1),\n",
       " ('land', 1),\n",
       " ('miljøministerium', 1),\n",
       " ('natur', 2),\n",
       " ('vej', 1),\n",
       " ('ådkgre', 1),\n",
       " ('æalternativ', 1)]"
      ]
     },
     "execution_count": 49,
     "metadata": {},
     "output_type": "execute_result"
    }
   ],
   "source": [
    "[(id2token[id], freq) for id, freq in tweets_corpus[0]]"
   ]
  },
  {
   "cell_type": "markdown",
   "metadata": {},
   "source": [
    "Da vi ikke har ændret rækkefølgen, kan vi også finde tweetet i vores dataframe:"
   ]
  },
  {
   "cell_type": "code",
   "execution_count": 50,
   "metadata": {},
   "outputs": [
    {
     "data": {
      "text/plain": [
       "'Er på vej i miljøministeriet for at foreslå at vi laver biodiversitetsmål for Danmark\\n\\n10% strengt beskyttet natur til lands i 2030 mod ca 1% i dag\\n\\n20% strengt beskyttet natur til havs i 2030 mod ca 2% i dag\\n\\nSå har man noget at måle os på. #dkgreen @NaturThor @alternativet_ https://t.co/auA5QnEVkV'"
      ]
     },
     "execution_count": 50,
     "metadata": {},
     "output_type": "execute_result"
    }
   ],
   "source": [
    "tweets_df.loc[0, 'full_text']"
   ]
  },
  {
   "cell_type": "markdown",
   "metadata": {},
   "source": [
    "### Opbygning af LDA model\n",
    "\n",
    "Data er nu klar til at indgå i en gensim LDA model. Modellens parametre kan justeres på forskellig vis, men vi kører her modellem med \"standardindstillingerne\".\n",
    "\n",
    "Modellen skal bruges corpus, dictionary og antal topics (hvis ikke man specificerer topics, kører den med 100 topics - se evt. `?gensim.models.ldamodel.LdaModel` Dog er vi som nævnt tidligere nødt til at specificere antallet af topics. Her køres med topics:"
   ]
  },
  {
   "cell_type": "code",
   "execution_count": 51,
   "metadata": {},
   "outputs": [],
   "source": [
    "from gensim.models.ldamodel import LdaModel\n",
    "\n",
    "lda_model = LdaModel(corpus=tweets_corpus,  # Corpus af tekster\n",
    "                    id2word=id2token,       # Dictionary af ord-id mapping\n",
    "                     num_topics=10,          # Antal topics\n",
    "                     random_state=142)       # Sætter seed - sikrer samme resultat"
   ]
  },
  {
   "cell_type": "markdown",
   "metadata": {},
   "source": [
    "Når modellen er kørt, kan vi inspicere, hvilke ord, der er mest sandsynlige inden for hvert topic (vi bruger `pprint()` for at gøre printet lidt mere overskuelig):"
   ]
  },
  {
   "cell_type": "code",
   "execution_count": 63,
   "metadata": {},
   "outputs": [
    {
     "name": "stdout",
     "output_type": "stream",
     "text": [
      "[(0,\n",
      "  [('barn', 0.015348121),\n",
      "   ('dansker', 0.014420722),\n",
      "   ('forslag', 0.013904027),\n",
      "   ('grøn', 0.0104087265),\n",
      "   ('æalternativ', 0.009762152),\n",
      "   ('krone', 0.008521342),\n",
      "   ('æpolitike', 0.007819451),\n",
      "   ('Danmark', 0.0073938933),\n",
      "   ('milliard', 0.0068046297),\n",
      "   ('dansk', 0.0066727786)]),\n",
      " (1,\n",
      "  [('statsminister', 0.014149268),\n",
      "   ('dansk', 0.012120125),\n",
      "   ('tid', 0.008486022),\n",
      "   ('Mette', 0.0084452415),\n",
      "   ('blå', 0.0074493317),\n",
      "   ('regering', 0.00723349),\n",
      "   ('Danmark', 0.0066042966),\n",
      "   ('ådkmedie', 0.006548232),\n",
      "   ('eksempel', 0.0063753626),\n",
      "   ('fald', 0.006153699)]),\n",
      " (2,\n",
      "  [('vigtig', 0.009171487),\n",
      "   ('høj', 0.008916648),\n",
      "   ('Heunicke', 0.00875799),\n",
      "   ('PiaOlsen', 0.005994602),\n",
      "   ('enig', 0.0059861997),\n",
      "   ('København', 0.0049922136),\n",
      "   ('stemme', 0.0047079087),\n",
      "   ('opmærksom', 0.0044500213),\n",
      "   ('JanEJoergensen', 0.00441539),\n",
      "   ('uge', 0.004310147)]),\n",
      " (3,\n",
      "  [('Danmark', 0.0111359395),\n",
      "   ('regering', 0.009739467),\n",
      "   ('første', 0.00761231),\n",
      "   ('natur', 0.006795215),\n",
      "   ('sundhedsvæsen', 0.006472281),\n",
      "   ('uddannelse', 0.0063718944),\n",
      "   ('egen', 0.005951828),\n",
      "   ('einformer', 0.005921217),\n",
      "   ('parti', 0.00569387),\n",
      "   ('samfund', 0.0056580175)]),\n",
      " (4,\n",
      "  [('dansk', 0.014138467),\n",
      "   ('samme', 0.012532169),\n",
      "   ('ådkgre', 0.011100176),\n",
      "   ('Danmark', 0.009478967),\n",
      "   ('godt', 0.00934951),\n",
      "   ('grøn', 0.007215624),\n",
      "   ('skridt', 0.0065825204),\n",
      "   ('måde', 0.0062329443),\n",
      "   ('fremtid', 0.0060279183),\n",
      "   ('spørgsmål', 0.005933899)]),\n",
      " (5,\n",
      "  [('barn', 0.01894444),\n",
      "   ('æradikal', 0.011898952),\n",
      "   ('politik', 0.010545277),\n",
      "   ('grøn', 0.009154732),\n",
      "   ('ådkgre', 0.008443339),\n",
      "   ('klar', 0.008192947),\n",
      "   ('regering', 0.00794014),\n",
      "   ('penge', 0.007563224),\n",
      "   ('enig', 0.006715261),\n",
      "   ('bil', 0.0067088758)]),\n",
      " (6,\n",
      "  [('SFpolitik', 0.021506017),\n",
      "   ('vej', 0.011410763),\n",
      "   ('fantastisk', 0.009021798),\n",
      "   ('morgen', 0.0086664185),\n",
      "   ('forhold', 0.008133683),\n",
      "   ('regering', 0.0074806088),\n",
      "   ('kamp', 0.007211096),\n",
      "   ('land', 0.0065543787),\n",
      "   ('plads', 0.0057855826),\n",
      "   ('del', 0.0054523274)]),\n",
      " (7,\n",
      "  [('samarbejde', 0.013969536),\n",
      "   ('brug', 0.011692583),\n",
      "   ('tillykke', 0.00932755),\n",
      "   ('gang', 0.0073159523),\n",
      "   ('Spolitik', 0.006608148),\n",
      "   ('ådkmedie', 0.0064690723),\n",
      "   ('LiberalAlliance', 0.0064299596),\n",
      "   ('patient', 0.005772431),\n",
      "   ('penge', 0.0054299026),\n",
      "   ('svar', 0.00511611)]),\n",
      " (8,\n",
      "  [('regering', 0.02016815),\n",
      "   ('Danmark', 0.019524818),\n",
      "   ('valg', 0.014932018),\n",
      "   ('enig', 0.014475452),\n",
      "   ('lille', 0.011507431),\n",
      "   ('tid', 0.010487099),\n",
      "   ('parti', 0.008004995),\n",
      "   ('venstre', 0.007830992),\n",
      "   ('hel', 0.007710305),\n",
      "   ('vigtig', 0.007700861)]),\n",
      " (9,\n",
      "  [('gang', 0.013829853),\n",
      "   ('barn', 0.007974716),\n",
      "   ('debat', 0.0073686694),\n",
      "   ('politisk', 0.0072574117),\n",
      "   ('enig', 0.006946141),\n",
      "   ('regering', 0.006571278),\n",
      "   ('Spolitik', 0.0061243176),\n",
      "   ('liv', 0.0060914815),\n",
      "   ('aften', 0.0055721463),\n",
      "   ('fælles', 0.0054776045)])]\n"
     ]
    }
   ],
   "source": [
    "from pprint import pprint\n",
    "\n",
    "pprint(lda_model.show_topics(formatted=False)) # Viser de 10 mest sandsynlige ord per topic"
   ]
  },
  {
   "cell_type": "markdown",
   "metadata": {},
   "source": [
    "### Brug af LDA model\n",
    "\n",
    "Med modellen defineret, kan vi anvende modellen på data igen til at fastslå, hvilke topics er mest fremtrædende i et tweet:"
   ]
  },
  {
   "cell_type": "code",
   "execution_count": 64,
   "metadata": {},
   "outputs": [
    {
     "name": "stdout",
     "output_type": "stream",
     "text": [
      "Er på vej i miljøministeriet for at foreslå at vi laver biodiversitetsmål for Danmark\n",
      "\n",
      "10% strengt beskyttet natur til lands i 2030 mod ca 1% i dag\n",
      "\n",
      "20% strengt beskyttet natur til havs i 2030 mod ca 2% i dag\n",
      "\n",
      "Så har man noget at måle os på. #dkgreen @NaturThor @alternativet_ https://t.co/auA5QnEVkV\n"
     ]
    }
   ],
   "source": [
    "print(tweets_df.loc[0, 'full_text'])"
   ]
  },
  {
   "cell_type": "code",
   "execution_count": 66,
   "metadata": {},
   "outputs": [
    {
     "data": {
      "text/plain": [
       "[(4, 0.8695205), (6, 0.06372957)]"
      ]
     },
     "execution_count": 66,
     "metadata": {},
     "output_type": "execute_result"
    }
   ],
   "source": [
    "lda_model[tweets_corpus[0]]"
   ]
  },
  {
   "cell_type": "markdown",
   "metadata": {},
   "source": [
    "Outputtet viser - groft sagt - at tweetet består af 87% topic 4 og 6,4% topic 6. Topic 4 er altså det mest dominerende topic i tweetet."
   ]
  },
  {
   "cell_type": "markdown",
   "metadata": {},
   "source": [
    "### Fortolkning af LDA modeller\n",
    "\n",
    "LDA modeller kan hjælpe os til at finde umiddelbare temaer. Men modellen kan ikke fortælle, hvad disse temaer egentlig indfanger. At arbejde med topic models er derfor ofte en kvali-kvantitativ proces, hvor man bruger LDA modellen til at udlede temaer, og derefter kvalitativt forsøger at udelde, hvad disse temaer indfanger. \n",
    "\n",
    "I denne proces finder man ofte også ud af, at visse topics indfanger det samme. På den måde er det også en iterativ proces, hvor man tilpasser modellen til bedre at indfange meningsfulde temaer i teksterne."
   ]
  },
  {
   "cell_type": "markdown",
   "metadata": {},
   "source": [
    "# ØVELSE 5: Topic models i Python (reddit data)\n",
    "\n",
    "I skal nu lave en topic model for reddit kommentarerne.\n",
    "\n",
    "1. Dan et \"gensim corpus\" ud fra reddit kommentarerne (`comment_body`)\n",
    "2. Dan en topic model over kommentarerne (bestem selv antal topics)\n",
    "3. Inspicér de mest sandsynlige ord i hvert topic (`lda_model.show_topics(formatted=False)`)\n",
    "4. Hvad kan I bruge modellen til?"
   ]
  },
  {
   "cell_type": "markdown",
   "metadata": {},
   "source": [
    "# Prævalente topics i tekst (supplerende materiale)\n",
    "\n",
    "Vi har set på, hvordan vi kan lave en LDA model til at finde umiddelbare temaer i en tekst. Det, som kunne være interessant at se på, er, hvordan disse topics opstår i data. \n",
    "\n",
    "Dette kan også hjælpe os til at blive klogere på, hvad disse topics egentlig indeholder, da vi på den måde kan finde tekster, hvor bestemte topics er meget prævalente.\n",
    "\n",
    "I det følgende laver vi en funktion, der finder det mest prævalente topic i et tweet, sammen med den \"prævalens-score\" og nøgleordene for det topic generelt. Disse oplysinger tilføjes derefter som kolonner til datasættet med tweets."
   ]
  },
  {
   "cell_type": "code",
   "execution_count": 67,
   "metadata": {},
   "outputs": [],
   "source": [
    "# Function for getting dominant topic for one corpus entry (bag-of-word tuples - bowt)\n",
    "def get_dominant_topic(text_bowt, ldamodel = lda_model):\n",
    "    \n",
    "    dominant_topic_dict = dict()\n",
    "    \n",
    "    topics_doc = ldamodel[text_bowt]\n",
    "    \n",
    "    dominant_topic = sorted(topics_doc, key = lambda t: t[1], reverse = True)[0]\n",
    "    topic_num = dominant_topic[0]\n",
    "    topic_prob = dominant_topic[1]\n",
    "    \n",
    "    topic_kws = [word for word, prop in ldamodel.show_topic(topic_num)]\n",
    "    \n",
    "    dominant_topic_dict['dominant_topic'] = topic_num\n",
    "    dominant_topic_dict['topic_probability'] = topic_prob\n",
    "    dominant_topic_dict['topic_keywords'] = topic_kws\n",
    "    \n",
    "    return(dominant_topic_dict) # Note that domninant topic info is returned as dictionary"
   ]
  },
  {
   "cell_type": "code",
   "execution_count": 68,
   "metadata": {},
   "outputs": [
    {
     "name": "stdout",
     "output_type": "stream",
     "text": [
      "{'dominant_topic': 4, 'topic_probability': 0.8698591, 'topic_keywords': ['dansk', 'samme', 'ådkgre', 'Danmark', 'godt', 'grøn', 'skridt', 'måde', 'fremtid', 'spørgsmål']}\n"
     ]
    }
   ],
   "source": [
    "# Creating list of dictionaries - one dictionary contatining dominant topic info for each corpus entry\n",
    "corpus_dominant_topics = list()\n",
    "\n",
    "for tweet_bowt in tweets_corpus:\n",
    "    dominant_topic = get_dominant_topic(tweet_bowt)\n",
    "    corpus_dominant_topics.append(dominant_topic)\n",
    "\n",
    "print(corpus_dominant_topics[0])"
   ]
  },
  {
   "cell_type": "code",
   "execution_count": 69,
   "metadata": {},
   "outputs": [],
   "source": [
    "# Add the dominant topic list as a series to the original data frame (NOTE: This assumes that order of entries has not been changed)    \n",
    "tweets_df['dominant_topic_dict'] = pd.Series(corpus_dominant_topics)"
   ]
  },
  {
   "cell_type": "code",
   "execution_count": 70,
   "metadata": {},
   "outputs": [],
   "source": [
    "# Spreading dominant topic dictionaries into columns using json_normalize\n",
    "tweets_df_topics = pd.merge(tweets_df, pd.json_normalize(tweets_df['dominant_topic_dict']), left_index=True, right_index=True)"
   ]
  },
  {
   "cell_type": "code",
   "execution_count": 71,
   "metadata": {},
   "outputs": [
    {
     "data": {
      "text/html": [
       "<div>\n",
       "<style scoped>\n",
       "    .dataframe tbody tr th:only-of-type {\n",
       "        vertical-align: middle;\n",
       "    }\n",
       "\n",
       "    .dataframe tbody tr th {\n",
       "        vertical-align: top;\n",
       "    }\n",
       "\n",
       "    .dataframe thead th {\n",
       "        text-align: right;\n",
       "    }\n",
       "</style>\n",
       "<table border=\"1\" class=\"dataframe\">\n",
       "  <thead>\n",
       "    <tr style=\"text-align: right;\">\n",
       "      <th></th>\n",
       "      <th>created_at</th>\n",
       "      <th>id</th>\n",
       "      <th>full_text</th>\n",
       "      <th>is_quote_status</th>\n",
       "      <th>retweet_count</th>\n",
       "      <th>favorite_count</th>\n",
       "      <th>favorited</th>\n",
       "      <th>retweeted</th>\n",
       "      <th>is_retweet</th>\n",
       "      <th>hashtags</th>\n",
       "      <th>urls</th>\n",
       "      <th>user_followers_count</th>\n",
       "      <th>party</th>\n",
       "      <th>tokens</th>\n",
       "      <th>dominant_topic_dict</th>\n",
       "      <th>dominant_topic</th>\n",
       "      <th>topic_probability</th>\n",
       "      <th>topic_keywords</th>\n",
       "    </tr>\n",
       "  </thead>\n",
       "  <tbody>\n",
       "    <tr>\n",
       "      <th>0</th>\n",
       "      <td>2020-10-21 14:48:39+00:00</td>\n",
       "      <td>1318927184111730700</td>\n",
       "      <td>Er på vej i miljøministeriet for at foreslå at...</td>\n",
       "      <td>False</td>\n",
       "      <td>13</td>\n",
       "      <td>47</td>\n",
       "      <td>False</td>\n",
       "      <td>False</td>\n",
       "      <td>False</td>\n",
       "      <td>['dkgreen']</td>\n",
       "      <td>[]</td>\n",
       "      <td>4064</td>\n",
       "      <td>Alternativet</td>\n",
       "      <td>[vej, miljøministerium, biodiversitetsmål, Dan...</td>\n",
       "      <td>{'dominant_topic': 4, 'topic_probability': 0.8...</td>\n",
       "      <td>4</td>\n",
       "      <td>0.869859</td>\n",
       "      <td>[dansk, samme, ådkgre, Danmark, godt, grøn, sk...</td>\n",
       "    </tr>\n",
       "    <tr>\n",
       "      <th>1</th>\n",
       "      <td>2019-06-02 20:03:20+00:00</td>\n",
       "      <td>1135275725592891400</td>\n",
       "      <td>@nielscallesoe @helenehagel @alternativet_ Det...</td>\n",
       "      <td>False</td>\n",
       "      <td>0</td>\n",
       "      <td>1</td>\n",
       "      <td>False</td>\n",
       "      <td>False</td>\n",
       "      <td>False</td>\n",
       "      <td>[]</td>\n",
       "      <td>[]</td>\n",
       "      <td>4064</td>\n",
       "      <td>Alternativet</td>\n",
       "      <td>[æalternativ, nettofordel, klima, boring, Nord...</td>\n",
       "      <td>{'dominant_topic': 8, 'topic_probability': 0.8...</td>\n",
       "      <td>8</td>\n",
       "      <td>0.814442</td>\n",
       "      <td>[regering, Danmark, valg, enig, lille, tid, pa...</td>\n",
       "    </tr>\n",
       "    <tr>\n",
       "      <th>2</th>\n",
       "      <td>2016-03-10 09:07:52+00:00</td>\n",
       "      <td>707855478320189400</td>\n",
       "      <td>Vi står sammen, smiler Løkke på KL-topmøde og ...</td>\n",
       "      <td>False</td>\n",
       "      <td>13</td>\n",
       "      <td>14</td>\n",
       "      <td>False</td>\n",
       "      <td>False</td>\n",
       "      <td>False</td>\n",
       "      <td>['dkpol', 'KLtop16']</td>\n",
       "      <td>[]</td>\n",
       "      <td>4064</td>\n",
       "      <td>Alternativet</td>\n",
       "      <td>[Løkke, KL-topmøde, milliard, kommune, æaltern...</td>\n",
       "      <td>{'dominant_topic': 0, 'topic_probability': 0.8...</td>\n",
       "      <td>0</td>\n",
       "      <td>0.849815</td>\n",
       "      <td>[barn, dansker, forslag, grøn, æalternativ, kr...</td>\n",
       "    </tr>\n",
       "    <tr>\n",
       "      <th>3</th>\n",
       "      <td>2019-04-07 19:59:03+00:00</td>\n",
       "      <td>1114980930467315700</td>\n",
       "      <td>@AnnaBylov @EU_Spring @rasmusnordqvist 💚</td>\n",
       "      <td>False</td>\n",
       "      <td>0</td>\n",
       "      <td>2</td>\n",
       "      <td>False</td>\n",
       "      <td>False</td>\n",
       "      <td>False</td>\n",
       "      <td>[]</td>\n",
       "      <td>[]</td>\n",
       "      <td>4064</td>\n",
       "      <td>Alternativet</td>\n",
       "      <td>[eu_spring]</td>\n",
       "      <td>{'dominant_topic': 3, 'topic_probability': 0.5...</td>\n",
       "      <td>3</td>\n",
       "      <td>0.547961</td>\n",
       "      <td>[Danmark, regering, første, natur, sundhedsvæs...</td>\n",
       "    </tr>\n",
       "    <tr>\n",
       "      <th>4</th>\n",
       "      <td>2017-05-28 09:59:26+00:00</td>\n",
       "      <td>868768670427828200</td>\n",
       "      <td>Der er ikke noget alternativ til at Alternativ...</td>\n",
       "      <td>False</td>\n",
       "      <td>6</td>\n",
       "      <td>28</td>\n",
       "      <td>False</td>\n",
       "      <td>False</td>\n",
       "      <td>False</td>\n",
       "      <td>['LMÅ17']</td>\n",
       "      <td>[{'url': 'https://t.co/3MCdZZGKRq', 'expanded_...</td>\n",
       "      <td>4064</td>\n",
       "      <td>Alternativet</td>\n",
       "      <td>[alternativ, alternativ, klima, æalternativ]</td>\n",
       "      <td>{'dominant_topic': 9, 'topic_probability': 0.4...</td>\n",
       "      <td>9</td>\n",
       "      <td>0.459050</td>\n",
       "      <td>[gang, barn, debat, politisk, enig, regering, ...</td>\n",
       "    </tr>\n",
       "  </tbody>\n",
       "</table>\n",
       "</div>"
      ],
      "text/plain": [
       "                  created_at                   id  \\\n",
       "0  2020-10-21 14:48:39+00:00  1318927184111730700   \n",
       "1  2019-06-02 20:03:20+00:00  1135275725592891400   \n",
       "2  2016-03-10 09:07:52+00:00   707855478320189400   \n",
       "3  2019-04-07 19:59:03+00:00  1114980930467315700   \n",
       "4  2017-05-28 09:59:26+00:00   868768670427828200   \n",
       "\n",
       "                                           full_text  is_quote_status  \\\n",
       "0  Er på vej i miljøministeriet for at foreslå at...            False   \n",
       "1  @nielscallesoe @helenehagel @alternativet_ Det...            False   \n",
       "2  Vi står sammen, smiler Løkke på KL-topmøde og ...            False   \n",
       "3           @AnnaBylov @EU_Spring @rasmusnordqvist 💚            False   \n",
       "4  Der er ikke noget alternativ til at Alternativ...            False   \n",
       "\n",
       "   retweet_count  favorite_count  favorited  retweeted  is_retweet  \\\n",
       "0             13              47      False      False       False   \n",
       "1              0               1      False      False       False   \n",
       "2             13              14      False      False       False   \n",
       "3              0               2      False      False       False   \n",
       "4              6              28      False      False       False   \n",
       "\n",
       "               hashtags                                               urls  \\\n",
       "0           ['dkgreen']                                                 []   \n",
       "1                    []                                                 []   \n",
       "2  ['dkpol', 'KLtop16']                                                 []   \n",
       "3                    []                                                 []   \n",
       "4             ['LMÅ17']  [{'url': 'https://t.co/3MCdZZGKRq', 'expanded_...   \n",
       "\n",
       "   user_followers_count         party  \\\n",
       "0                  4064  Alternativet   \n",
       "1                  4064  Alternativet   \n",
       "2                  4064  Alternativet   \n",
       "3                  4064  Alternativet   \n",
       "4                  4064  Alternativet   \n",
       "\n",
       "                                              tokens  \\\n",
       "0  [vej, miljøministerium, biodiversitetsmål, Dan...   \n",
       "1  [æalternativ, nettofordel, klima, boring, Nord...   \n",
       "2  [Løkke, KL-topmøde, milliard, kommune, æaltern...   \n",
       "3                                        [eu_spring]   \n",
       "4       [alternativ, alternativ, klima, æalternativ]   \n",
       "\n",
       "                                 dominant_topic_dict  dominant_topic  \\\n",
       "0  {'dominant_topic': 4, 'topic_probability': 0.8...               4   \n",
       "1  {'dominant_topic': 8, 'topic_probability': 0.8...               8   \n",
       "2  {'dominant_topic': 0, 'topic_probability': 0.8...               0   \n",
       "3  {'dominant_topic': 3, 'topic_probability': 0.5...               3   \n",
       "4  {'dominant_topic': 9, 'topic_probability': 0.4...               9   \n",
       "\n",
       "   topic_probability                                     topic_keywords  \n",
       "0           0.869859  [dansk, samme, ådkgre, Danmark, godt, grøn, sk...  \n",
       "1           0.814442  [regering, Danmark, valg, enig, lille, tid, pa...  \n",
       "2           0.849815  [barn, dansker, forslag, grøn, æalternativ, kr...  \n",
       "3           0.547961  [Danmark, regering, første, natur, sundhedsvæs...  \n",
       "4           0.459050  [gang, barn, debat, politisk, enig, regering, ...  "
      ]
     },
     "execution_count": 71,
     "metadata": {},
     "output_type": "execute_result"
    }
   ],
   "source": [
    "# Check resultS\n",
    "tweets_df_topics.head()"
   ]
  }
 ],
 "metadata": {
  "kernelspec": {
   "display_name": "Python 3",
   "language": "python",
   "name": "python3"
  },
  "language_info": {
   "codemirror_mode": {
    "name": "ipython",
    "version": 3
   },
   "file_extension": ".py",
   "mimetype": "text/x-python",
   "name": "python",
   "nbconvert_exporter": "python",
   "pygments_lexer": "ipython3",
   "version": "3.7.10"
  }
 },
 "nbformat": 4,
 "nbformat_minor": 4
}
