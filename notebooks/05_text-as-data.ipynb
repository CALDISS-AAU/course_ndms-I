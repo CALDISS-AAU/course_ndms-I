{
 "cells": [
  {
   "cell_type": "markdown",
   "metadata": {},
   "source": [
    "# Tekst som data\n",
    "\n",
    "## Indhold\n",
    "**Hvorfor tekst?**\n",
    "\n",
    "**Tekst og machine learning**\n",
    "- NLP og text mining\n",
    "    - Mange betegnelser for lignende praksisser: NLP, text mining, computer-assisted text analysis, quantitative text analysis\n",
    "    - NLP: Få en computer til at forstå det menneskelige sprog (https://play.aidungeon.io/)\n",
    "    - Text mining: Udlede information om text med computationelle metoder (med brug af NLP)\n",
    "- Superviseret: Kategoriseringer, sentiment, udlede information\n",
    "- Usuperviseret: Temaer, grupperinger, ordforbindelser\n",
    "\n",
    "**Demo: Simpelt eksempel med text mining (netværksvisualisering af klima-tweets)**\n",
    "\n",
    "**Tekst i Python**\n",
    "- Hvad er strings?\n",
    "- Hvordan kan vi arbejde med tekster i Python? (helt simpelt)\n",
    "- Simple teksthåndteringsmetoder\n",
    "\n",
    "**ØVELSE 1: Simpel teksthåndtering**\n",
    "\n",
    "**Pre-processing (med basisfunktioner)**\n",
    "- Tokenization\n",
    "- Tegnsætning\n",
    "- Stopord\n",
    "- Lowercase\n",
    "- Ordstammer\n",
    "- Navneform / infinitv\n",
    "\n",
    "**Simpel ordtælling**\n",
    "\n",
    "**ØVELSE 2: Pre-processing og simpel ordtælling**\n",
    "- Pre-process en enkelt tekst/tekststump\n",
    "- Optæl ord\n",
    "\n",
    "**Sprogmodeller (stanza)**\n",
    "- Hvad er en sprogmodel?\n",
    "- Brug af stanza\n",
    "- Indhold i stanza:\n",
    "    - tokenizer\n",
    "    - lemmatizer\n",
    "    - ner\n",
    "    - sentiment analysis\n",
    "    - POS-tagging\n",
    "- Udlede meningsfulde tokens med stanza\n",
    "\n",
    "**ØVELSE 3: Meningsfulde tokens med stanza**\n",
    "- Pre-process samme tekst/tekststump med stanza\n",
    "- Optæl ord\n",
    "\n",
    "**Tidy text data**\n",
    "- Hvordan arbejder vi med større tekstsamlinger? (corpora)\n",
    "- Tidy text data: Token som observation\n",
    "    - Fordele:\n",
    "        - Fastholder dokumenttilhør og andre relevante oplysninger\n",
    "        - Gør det nemt at arbejde med\n",
    "        - Vi kan bruge metoder, som vi kender fra at arbejde med struktureret data\n",
    "    - Ulemper: \n",
    "        - Data fylder hurtigt meget\n",
    "        - Kan have effekt på beregningstiden\n",
    "        - Ofte ikke kompatibelt med andre modeller\n",
    "        \n",
    "**Fra text corpora til tidy text**\n",
    "- Udarbejd tokenizer funktion\n",
    "- Brug af apply til at tokenize\n",
    "- Explode til at gøre tidy\n",
    "- Teknikker til at arbejde med tidy text: `groupby`, `isin`, plots\n",
    "\n",
    "**ØVELSE 4: Tidy text data (reddit data)**\n",
    "- Udarbejd tokenizer funktion\n",
    "- Brug funktion til at tokenize reddit data\n",
    "- Gør tidy\n",
    "- Optæl ord via groupby\n",
    "\n",
    "**Usuperviseret maskinlæring og tekst: topic models**\n",
    "- Topic models en meget udbredt teknik til at udforske mønstre\n",
    "- Fordele\n",
    "    - Overblik, inddeling\n",
    "- Ulemper\n",
    "    - Samme som med klynger: ekstern validitet\n",
    "    - Høj grad af vilkårlighed (hvor mange topics?)\n",
    "    - Sårbar over for små ændringer i datahåndtering\n",
    "- Bag-of-words: Ords kontekst ikke inddraget\n",
    "\n",
    "**Brug af topic models i Python**\n",
    "- Alternativ vægtning: tf-idf\n",
    "- Brug af pakken X til topic models\n",
    "- LDAviz?\n",
    "\n",
    "**ØVELSE 5: Topic models i Python (reddit data)**\n",
    "- Forbered data til topic model\n",
    "- Kør topic model\n",
    "- Visualiser resultater\n",
    "\n",
    "\n",
    "## Til FC\n",
    "- Alternativ vægtning: tf-idf (hurtigt fra tekst til corpus uden brug af sprogmodel til tokenization)\n",
    "- Subreddit data\n",
    "- Ord til dummy-variable\n",
    "- Predict positiv/negativ med random forests"
   ]
  },
  {
   "cell_type": "code",
   "execution_count": 1,
   "metadata": {},
   "outputs": [
    {
     "name": "stderr",
     "output_type": "stream",
     "text": [
      "2021-03-09 09:45:51 INFO: Loading these models for language: da (Danish):\n",
      "=======================\n",
      "| Processor | Package |\n",
      "-----------------------\n",
      "| tokenize  | ddt     |\n",
      "| pos       | ddt     |\n",
      "| lemma     | ddt     |\n",
      "| depparse  | ddt     |\n",
      "=======================\n",
      "\n",
      "2021-03-09 09:45:51 INFO: Use device: cpu\n",
      "2021-03-09 09:45:51 INFO: Loading: tokenize\n",
      "2021-03-09 09:45:51 INFO: Loading: pos\n",
      "2021-03-09 09:45:52 INFO: Loading: lemma\n",
      "2021-03-09 09:45:52 INFO: Loading: depparse\n",
      "2021-03-09 09:45:53 INFO: Done loading processors!\n"
     ]
    }
   ],
   "source": [
    "import os\n",
    "import pandas as pd\n",
    "from pprint import pprint\n",
    "import json\n",
    "import seaborn as sns\n",
    "from matplotlib import pyplot as plt\n",
    "from datetime import datetime as dt\n",
    "import re\n",
    "from itertools import compress\n",
    "import ast\n",
    "import spacy\n",
    "import stanza\n",
    "import nltk\n",
    "from nltk.corpus import stopwords\n",
    "\n",
    "# Plotting tools\n",
    "import matplotlib.pyplot as plt\n",
    "%matplotlib inline\n",
    "sns.set(rc={'figure.figsize':(20,10)})\n",
    "\n",
    "# Gensim\n",
    "import gensim\n",
    "import gensim.corpora as corpora\n",
    "from gensim.utils import simple_preprocess\n",
    "from gensim.models import CoherenceModel\n",
    "from gensim.models.wrappers import LdaMallet\n",
    "\n",
    "#stanza.download('da')\n",
    "#!python -m spacy download da_core_news_sm # Requires restarting kernel after install\n",
    "#nlp = spacy.load(\"da_core_news_sm\", disable=['parser', 'ner'])\n",
    "nlp = stanza.Pipeline('da')\n",
    "#mallet_path = os.path.join('C:\\\\', 'mallet', 'mallet-2.0.8', 'bin', 'mallet.bat') # update this path"
   ]
  },
  {
   "cell_type": "markdown",
   "metadata": {},
   "source": [
    "# Tekst som data: Håndtering af tekstdata og ’text mining’"
   ]
  },
  {
   "cell_type": "markdown",
   "metadata": {},
   "source": [
    "## Hvorfor tekst?"
   ]
  },
  {
   "cell_type": "markdown",
   "metadata": {},
   "source": [
    "## Tekst og machine learning\n",
    "- NLP og text mining\n",
    "    - Mange betegnelser for lignende praksisser: NLP, text mining, computer-assisted text analysis, quantitative text analysis\n",
    "    - NLP: Få en computer til at forstå det menneskelige sprog (https://play.aidungeon.io/)\n",
    "    - Text mining: Udlede information om text med computationelle metoder (med brug af NLP)\n",
    "- Superviseret: Kategoriseringer, sentiment, udlede information\n",
    "- Usuperviseret: Temaer, grupperinger, ordforbindelser"
   ]
  },
  {
   "cell_type": "markdown",
   "metadata": {},
   "source": [
    "**Demo: Simpelt eksempel med text mining (netværksvisualisering af klima-tweets?)**"
   ]
  },
  {
   "cell_type": "markdown",
   "metadata": {},
   "source": [
    "# Tekst i Python"
   ]
  },
  {
   "cell_type": "code",
   "execution_count": 5,
   "metadata": {},
   "outputs": [],
   "source": [
    "tweetdata_url = \"https://raw.githubusercontent.com/CALDISS-AAU/course_ndms-I/master/datasets/poltweets_sample.csv\"\n",
    "tweets_df = pd.read_csv(tweetdata_url)\n",
    "\n",
    "redditdata_url = \"https://raw.githubusercontent.com/CALDISS-AAU/course_ndms-I/master/datasets/reddit_rdenmark-comments_01032021-08032021_long.csv\"\n",
    "reddit_df = pd.read_csv(redditdata_url)"
   ]
  },
  {
   "cell_type": "markdown",
   "metadata": {},
   "source": [
    "## String metoder\n",
    "\n",
    "Simple teksthåndteringsmetoder..."
   ]
  },
  {
   "cell_type": "code",
   "execution_count": 86,
   "metadata": {},
   "outputs": [
    {
     "data": {
      "text/plain": [
       "'Hjemmeværnet, Politikadetterne og Forsvaret klarer ærterne ved grænserne, så Politiet kan kaste sig over at gøre danskere mere trygge. Sikker på,at @ClausOxfeldt bliver lykkelig for vort krav. Han har jo brugt megen energi på at give DFs grænseindsats skylden for mandskabsmangel. https://t.co/PgenOdeSwn'"
      ]
     },
     "execution_count": 86,
     "metadata": {},
     "output_type": "execute_result"
    }
   ],
   "source": [
    "tweet = tweets_df.loc[584, 'full_text']\n",
    "tweet"
   ]
  },
  {
   "cell_type": "code",
   "execution_count": 87,
   "metadata": {},
   "outputs": [
    {
     "data": {
      "text/plain": [
       "str"
      ]
     },
     "execution_count": 87,
     "metadata": {},
     "output_type": "execute_result"
    }
   ],
   "source": [
    "type(tweet)"
   ]
  },
  {
   "cell_type": "code",
   "execution_count": 93,
   "metadata": {},
   "outputs": [
    {
     "data": {
      "text/plain": [
       "True"
      ]
     },
     "execution_count": 93,
     "metadata": {},
     "output_type": "execute_result"
    }
   ],
   "source": [
    "tweet.startswith(\"Hjemmeværn\")"
   ]
  },
  {
   "cell_type": "code",
   "execution_count": 94,
   "metadata": {},
   "outputs": [
    {
     "data": {
      "text/plain": [
       "False"
      ]
     },
     "execution_count": 94,
     "metadata": {},
     "output_type": "execute_result"
    }
   ],
   "source": [
    "tweet.endswith(\"DF\")"
   ]
  },
  {
   "cell_type": "code",
   "execution_count": 95,
   "metadata": {},
   "outputs": [
    {
     "data": {
      "text/plain": [
       "True"
      ]
     },
     "execution_count": 95,
     "metadata": {},
     "output_type": "execute_result"
    }
   ],
   "source": [
    "\"energi\" in tweet"
   ]
  },
  {
   "cell_type": "code",
   "execution_count": 96,
   "metadata": {},
   "outputs": [
    {
     "data": {
      "text/plain": [
       "False"
      ]
     },
     "execution_count": 96,
     "metadata": {},
     "output_type": "execute_result"
    }
   ],
   "source": [
    "\"politi\" in tweet # findes ikke, da politi står med stort"
   ]
  },
  {
   "cell_type": "code",
   "execution_count": 97,
   "metadata": {},
   "outputs": [
    {
     "data": {
      "text/plain": [
       "True"
      ]
     },
     "execution_count": 97,
     "metadata": {},
     "output_type": "execute_result"
    }
   ],
   "source": [
    "\"politi\" in tweet.lower()"
   ]
  },
  {
   "cell_type": "code",
   "execution_count": 98,
   "metadata": {},
   "outputs": [
    {
     "data": {
      "text/plain": [
       "'HJEMMEVÆRNET, POLITIKADETTERNE OG FORSVARET KLARER ÆRTERNE VED GRÆNSERNE, SÅ POLITIET KAN KASTE SIG OVER AT GØRE DANSKERE MERE TRYGGE. SIKKER PÅ,AT @CLAUSOXFELDT BLIVER LYKKELIG FOR VORT KRAV. HAN HAR JO BRUGT MEGEN ENERGI PÅ AT GIVE DFS GRÆNSEINDSATS SKYLDEN FOR MANDSKABSMANGEL. HTTPS://T.CO/PGENODESWN'"
      ]
     },
     "execution_count": 98,
     "metadata": {},
     "output_type": "execute_result"
    }
   ],
   "source": [
    "tweet.upper()"
   ]
  },
  {
   "cell_type": "markdown",
   "metadata": {},
   "source": [
    "## String metoder i pandas\n",
    "\n",
    "Mange string metoder kan anvendes på pandas series - ofte ved at tilføje `.str`"
   ]
  },
  {
   "cell_type": "code",
   "execution_count": 102,
   "metadata": {},
   "outputs": [
    {
     "data": {
      "text/plain": [
       "0    False\n",
       "1    False\n",
       "2    False\n",
       "3    False\n",
       "4    False\n",
       "Name: full_text, dtype: bool"
      ]
     },
     "execution_count": 102,
     "metadata": {},
     "output_type": "execute_result"
    }
   ],
   "source": [
    "tweets_df['full_text'].str.startswith(\"Hjemmeværn\").head()"
   ]
  },
  {
   "cell_type": "code",
   "execution_count": 105,
   "metadata": {},
   "outputs": [
    {
     "data": {
      "text/plain": [
       "1"
      ]
     },
     "execution_count": 105,
     "metadata": {},
     "output_type": "execute_result"
    }
   ],
   "source": [
    "tweets_df['full_text'].str.startswith(\"Hjemmeværn\").sum() # Hvor mange tweets starter med hjemmeværn?"
   ]
  },
  {
   "cell_type": "markdown",
   "metadata": {},
   "source": [
    "`str.contains()` på en pandas series svarer til at bruge `in` på en string."
   ]
  },
  {
   "cell_type": "code",
   "execution_count": 108,
   "metadata": {},
   "outputs": [
    {
     "data": {
      "text/plain": [
       "118"
      ]
     },
     "execution_count": 108,
     "metadata": {},
     "output_type": "execute_result"
    }
   ],
   "source": [
    "tweets_df['full_text'].str.contains(\"DF\").sum() # Hvor mange tweets taler om DF?"
   ]
  },
  {
   "cell_type": "markdown",
   "metadata": {},
   "source": [
    "Fordi metoder som `str.startswith()` og `str.contains()` returnerer logiske værdier (`True`/`False`), så kan de bruges til subsetting."
   ]
  },
  {
   "cell_type": "code",
   "execution_count": 109,
   "metadata": {},
   "outputs": [
    {
     "data": {
      "text/html": [
       "<div>\n",
       "<style scoped>\n",
       "    .dataframe tbody tr th:only-of-type {\n",
       "        vertical-align: middle;\n",
       "    }\n",
       "\n",
       "    .dataframe tbody tr th {\n",
       "        vertical-align: top;\n",
       "    }\n",
       "\n",
       "    .dataframe thead th {\n",
       "        text-align: right;\n",
       "    }\n",
       "</style>\n",
       "<table border=\"1\" class=\"dataframe\">\n",
       "  <thead>\n",
       "    <tr style=\"text-align: right;\">\n",
       "      <th></th>\n",
       "      <th>created_at</th>\n",
       "      <th>id</th>\n",
       "      <th>full_text</th>\n",
       "      <th>is_quote_status</th>\n",
       "      <th>retweet_count</th>\n",
       "      <th>favorite_count</th>\n",
       "      <th>favorited</th>\n",
       "      <th>retweeted</th>\n",
       "      <th>is_retweet</th>\n",
       "      <th>hashtags</th>\n",
       "      <th>urls</th>\n",
       "      <th>user_followers_count</th>\n",
       "      <th>party</th>\n",
       "      <th>tweet_len</th>\n",
       "    </tr>\n",
       "  </thead>\n",
       "  <tbody>\n",
       "    <tr>\n",
       "      <th>36</th>\n",
       "      <td>2019-01-24 22:39:33+00:00</td>\n",
       "      <td>1088567004733341700</td>\n",
       "      <td>@RosenkrantzT @Spolitik @alternativet_ Det er ...</td>\n",
       "      <td>False</td>\n",
       "      <td>1</td>\n",
       "      <td>4</td>\n",
       "      <td>False</td>\n",
       "      <td>False</td>\n",
       "      <td>False</td>\n",
       "      <td>[]</td>\n",
       "      <td>[]</td>\n",
       "      <td>4064</td>\n",
       "      <td>Alternativet</td>\n",
       "      <td>242</td>\n",
       "    </tr>\n",
       "    <tr>\n",
       "      <th>375</th>\n",
       "      <td>2020-10-22 10:02:29+00:00</td>\n",
       "      <td>1319217553772859400</td>\n",
       "      <td>Har igen, kl. 13 (sammen med V, K og DF) indka...</td>\n",
       "      <td>False</td>\n",
       "      <td>8</td>\n",
       "      <td>54</td>\n",
       "      <td>False</td>\n",
       "      <td>False</td>\n",
       "      <td>False</td>\n",
       "      <td>['dkpol', 'dksocial']</td>\n",
       "      <td>[]</td>\n",
       "      <td>4064</td>\n",
       "      <td>Alternativet</td>\n",
       "      <td>279</td>\n",
       "    </tr>\n",
       "    <tr>\n",
       "      <th>513</th>\n",
       "      <td>2019-12-12 13:56:01+00:00</td>\n",
       "      <td>1205124148260954000</td>\n",
       "      <td>Ifølge DR har i al fald den ene af de terror-s...</td>\n",
       "      <td>False</td>\n",
       "      <td>7</td>\n",
       "      <td>55</td>\n",
       "      <td>False</td>\n",
       "      <td>False</td>\n",
       "      <td>False</td>\n",
       "      <td>[]</td>\n",
       "      <td>[{'url': 'https://t.co/D6WhHzVVgu', 'expanded_...</td>\n",
       "      <td>12276</td>\n",
       "      <td>Dansk Folkeparti</td>\n",
       "      <td>275</td>\n",
       "    </tr>\n",
       "    <tr>\n",
       "      <th>515</th>\n",
       "      <td>2020-12-05 11:44:00+00:00</td>\n",
       "      <td>1335188170040897500</td>\n",
       "      <td>Havde håbet på meget mere på ældreområdet, her...</td>\n",
       "      <td>False</td>\n",
       "      <td>3</td>\n",
       "      <td>4</td>\n",
       "      <td>False</td>\n",
       "      <td>False</td>\n",
       "      <td>False</td>\n",
       "      <td>['dkpol']</td>\n",
       "      <td>[{'url': 'https://t.co/HYLZ24Z632', 'expanded_...</td>\n",
       "      <td>2748</td>\n",
       "      <td>Dansk Folkeparti</td>\n",
       "      <td>210</td>\n",
       "    </tr>\n",
       "    <tr>\n",
       "      <th>520</th>\n",
       "      <td>2018-08-08 13:23:10+00:00</td>\n",
       "      <td>1027183438510608400</td>\n",
       "      <td>Spørgelysten var stor på det pressemøde, der t...</td>\n",
       "      <td>False</td>\n",
       "      <td>3</td>\n",
       "      <td>18</td>\n",
       "      <td>False</td>\n",
       "      <td>False</td>\n",
       "      <td>False</td>\n",
       "      <td>['dkpol', 'FL19']</td>\n",
       "      <td>[]</td>\n",
       "      <td>12276</td>\n",
       "      <td>Dansk Folkeparti</td>\n",
       "      <td>144</td>\n",
       "    </tr>\n",
       "    <tr>\n",
       "      <th>...</th>\n",
       "      <td>...</td>\n",
       "      <td>...</td>\n",
       "      <td>...</td>\n",
       "      <td>...</td>\n",
       "      <td>...</td>\n",
       "      <td>...</td>\n",
       "      <td>...</td>\n",
       "      <td>...</td>\n",
       "      <td>...</td>\n",
       "      <td>...</td>\n",
       "      <td>...</td>\n",
       "      <td>...</td>\n",
       "      <td>...</td>\n",
       "      <td>...</td>\n",
       "    </tr>\n",
       "    <tr>\n",
       "      <th>4737</th>\n",
       "      <td>2018-11-30 22:19:14+00:00</td>\n",
       "      <td>1068630561709875200</td>\n",
       "      <td>“Alternativet er dybt politisk uenige i DF’s p...</td>\n",
       "      <td>False</td>\n",
       "      <td>0</td>\n",
       "      <td>2</td>\n",
       "      <td>False</td>\n",
       "      <td>False</td>\n",
       "      <td>False</td>\n",
       "      <td>['dkpol', 'derforuffe', 'alternativet']</td>\n",
       "      <td>[]</td>\n",
       "      <td>3109</td>\n",
       "      <td>Uden for folketingsgrupperne</td>\n",
       "      <td>138</td>\n",
       "    </tr>\n",
       "    <tr>\n",
       "      <th>4750</th>\n",
       "      <td>2020-07-08 17:40:44+00:00</td>\n",
       "      <td>1280919762999132200</td>\n",
       "      <td>@DonPeHa Fordi der hele tiden bliver hetzet im...</td>\n",
       "      <td>False</td>\n",
       "      <td>0</td>\n",
       "      <td>0</td>\n",
       "      <td>False</td>\n",
       "      <td>False</td>\n",
       "      <td>False</td>\n",
       "      <td>[]</td>\n",
       "      <td>[]</td>\n",
       "      <td>37443</td>\n",
       "      <td>Uden for folketingsgrupperne</td>\n",
       "      <td>71</td>\n",
       "    </tr>\n",
       "    <tr>\n",
       "      <th>5039</th>\n",
       "      <td>2017-01-26 08:26:32+00:00</td>\n",
       "      <td>824533970201223200</td>\n",
       "      <td>Til afrikansk topmøde Addis Ababa: Meget bekym...</td>\n",
       "      <td>False</td>\n",
       "      <td>19</td>\n",
       "      <td>41</td>\n",
       "      <td>False</td>\n",
       "      <td>False</td>\n",
       "      <td>False</td>\n",
       "      <td>['globalgagrule', 'dk4hrc', 'dkpol']</td>\n",
       "      <td>[]</td>\n",
       "      <td>5749</td>\n",
       "      <td>Venstre</td>\n",
       "      <td>140</td>\n",
       "    </tr>\n",
       "    <tr>\n",
       "      <th>5087</th>\n",
       "      <td>2019-04-11 08:11:51+00:00</td>\n",
       "      <td>1116252507360174100</td>\n",
       "      <td>På administration i sundhedsvæsenet bruger Dan...</td>\n",
       "      <td>False</td>\n",
       "      <td>30</td>\n",
       "      <td>176</td>\n",
       "      <td>False</td>\n",
       "      <td>False</td>\n",
       "      <td>False</td>\n",
       "      <td>['dkpol', 'sundpol']</td>\n",
       "      <td>[]</td>\n",
       "      <td>26669</td>\n",
       "      <td>Venstre</td>\n",
       "      <td>296</td>\n",
       "    </tr>\n",
       "    <tr>\n",
       "      <th>5347</th>\n",
       "      <td>2020-01-22 09:37:24+00:00</td>\n",
       "      <td>1219916964770058200</td>\n",
       "      <td>@ChrBirk @Spolitik @madsfuglede De to ting er ...</td>\n",
       "      <td>False</td>\n",
       "      <td>0</td>\n",
       "      <td>0</td>\n",
       "      <td>False</td>\n",
       "      <td>False</td>\n",
       "      <td>False</td>\n",
       "      <td>[]</td>\n",
       "      <td>[]</td>\n",
       "      <td>3964</td>\n",
       "      <td>Venstre</td>\n",
       "      <td>182</td>\n",
       "    </tr>\n",
       "  </tbody>\n",
       "</table>\n",
       "<p>118 rows × 14 columns</p>\n",
       "</div>"
      ],
      "text/plain": [
       "                     created_at                   id  \\\n",
       "36    2019-01-24 22:39:33+00:00  1088567004733341700   \n",
       "375   2020-10-22 10:02:29+00:00  1319217553772859400   \n",
       "513   2019-12-12 13:56:01+00:00  1205124148260954000   \n",
       "515   2020-12-05 11:44:00+00:00  1335188170040897500   \n",
       "520   2018-08-08 13:23:10+00:00  1027183438510608400   \n",
       "...                         ...                  ...   \n",
       "4737  2018-11-30 22:19:14+00:00  1068630561709875200   \n",
       "4750  2020-07-08 17:40:44+00:00  1280919762999132200   \n",
       "5039  2017-01-26 08:26:32+00:00   824533970201223200   \n",
       "5087  2019-04-11 08:11:51+00:00  1116252507360174100   \n",
       "5347  2020-01-22 09:37:24+00:00  1219916964770058200   \n",
       "\n",
       "                                              full_text  is_quote_status  \\\n",
       "36    @RosenkrantzT @Spolitik @alternativet_ Det er ...            False   \n",
       "375   Har igen, kl. 13 (sammen med V, K og DF) indka...            False   \n",
       "513   Ifølge DR har i al fald den ene af de terror-s...            False   \n",
       "515   Havde håbet på meget mere på ældreområdet, her...            False   \n",
       "520   Spørgelysten var stor på det pressemøde, der t...            False   \n",
       "...                                                 ...              ...   \n",
       "4737  “Alternativet er dybt politisk uenige i DF’s p...            False   \n",
       "4750  @DonPeHa Fordi der hele tiden bliver hetzet im...            False   \n",
       "5039  Til afrikansk topmøde Addis Ababa: Meget bekym...            False   \n",
       "5087  På administration i sundhedsvæsenet bruger Dan...            False   \n",
       "5347  @ChrBirk @Spolitik @madsfuglede De to ting er ...            False   \n",
       "\n",
       "      retweet_count  favorite_count  favorited  retweeted  is_retweet  \\\n",
       "36                1               4      False      False       False   \n",
       "375               8              54      False      False       False   \n",
       "513               7              55      False      False       False   \n",
       "515               3               4      False      False       False   \n",
       "520               3              18      False      False       False   \n",
       "...             ...             ...        ...        ...         ...   \n",
       "4737              0               2      False      False       False   \n",
       "4750              0               0      False      False       False   \n",
       "5039             19              41      False      False       False   \n",
       "5087             30             176      False      False       False   \n",
       "5347              0               0      False      False       False   \n",
       "\n",
       "                                     hashtags  \\\n",
       "36                                         []   \n",
       "375                     ['dkpol', 'dksocial']   \n",
       "513                                        []   \n",
       "515                                 ['dkpol']   \n",
       "520                         ['dkpol', 'FL19']   \n",
       "...                                       ...   \n",
       "4737  ['dkpol', 'derforuffe', 'alternativet']   \n",
       "4750                                       []   \n",
       "5039     ['globalgagrule', 'dk4hrc', 'dkpol']   \n",
       "5087                     ['dkpol', 'sundpol']   \n",
       "5347                                       []   \n",
       "\n",
       "                                                   urls  user_followers_count  \\\n",
       "36                                                   []                  4064   \n",
       "375                                                  []                  4064   \n",
       "513   [{'url': 'https://t.co/D6WhHzVVgu', 'expanded_...                 12276   \n",
       "515   [{'url': 'https://t.co/HYLZ24Z632', 'expanded_...                  2748   \n",
       "520                                                  []                 12276   \n",
       "...                                                 ...                   ...   \n",
       "4737                                                 []                  3109   \n",
       "4750                                                 []                 37443   \n",
       "5039                                                 []                  5749   \n",
       "5087                                                 []                 26669   \n",
       "5347                                                 []                  3964   \n",
       "\n",
       "                             party  tweet_len  \n",
       "36                    Alternativet        242  \n",
       "375                   Alternativet        279  \n",
       "513               Dansk Folkeparti        275  \n",
       "515               Dansk Folkeparti        210  \n",
       "520               Dansk Folkeparti        144  \n",
       "...                            ...        ...  \n",
       "4737  Uden for folketingsgrupperne        138  \n",
       "4750  Uden for folketingsgrupperne         71  \n",
       "5039                       Venstre        140  \n",
       "5087                       Venstre        296  \n",
       "5347                       Venstre        182  \n",
       "\n",
       "[118 rows x 14 columns]"
      ]
     },
     "execution_count": 109,
     "metadata": {},
     "output_type": "execute_result"
    }
   ],
   "source": [
    "DFtweets_df = tweets_df.loc[tweets_df['full_text'].str.contains(\"DF\"), :]\n",
    "DFtweets_df"
   ]
  },
  {
   "cell_type": "markdown",
   "metadata": {},
   "source": [
    "Visualisering på baggrund af partier:"
   ]
  },
  {
   "cell_type": "code",
   "execution_count": 112,
   "metadata": {},
   "outputs": [
    {
     "data": {
      "text/plain": [
       "<AxesSubplot:xlabel='party'>"
      ]
     },
     "execution_count": 112,
     "metadata": {},
     "output_type": "execute_result"
    },
    {
     "data": {
      "image/png": "[encoded data removed]",
      "text/plain": [
       "<Figure size 1440x720 with 1 Axes>"
      ]
     },
     "metadata": {},
     "output_type": "display_data"
    }
   ],
   "source": [
    "DFtweets_df.groupby('party').size().plot.bar()"
   ]
  },
  {
   "cell_type": "markdown",
   "metadata": {},
   "source": [
    "# ØVELSE 1: Simpel teksthåndtering\n",
    "\n",
    "I øvelserne i dag skal i arbejde med et datasæt bestående af kommentarer fra reddit. Alle kommentarer er taget fra posts på r/denmark (reddit.com/r/denmark) fra 1/3-8/3 2021.\n",
    "\n",
    "1. Indlæs data som en pandas data frame\n",
    "    - Link til data: https://raw.githubusercontent.com/CALDISS-AAU/course_ndms-I/master/datasets/reddit_rdenmark-comments_01032021-08032021_long.csv\n",
    "2. Dan et subset bestående af alle kommentarer, der nævner \"menneskerettigheder\" (kommentarteksten er i kolonnen `comment_body`). Hvor mange kommentarer er der?\n",
    "\n",
    "**Bonus**\n",
    "- Kan du udregne gennemsnitsscore for de kommentarer, der nævner menneskerettigheder? (score fremgår af kolonnen `comment_score`)"
   ]
  },
  {
   "cell_type": "markdown",
   "metadata": {},
   "source": [
    "# Bearbejdning af tekstdata (pre-processing af tekst)\n",
    "\n",
    "At arbejde med hele rå strings er for det meste ikke særlig praktisk.\n",
    "\n",
    "- Søgning på substrings matcher også, hvis det indgår inde i et ord (medmindre man bruger regular expression, som vi ikke kommer ind på her)\n",
    "- Vanskeligt at identificere nøgleord / de mest brugte eller væsentligste ord i teksten\n",
    "- Python adskiller mellem små og store bogstaver\n",
    "- Vanskeligt at identificere ord i kontekst\n",
    "\n",
    "Måden man løser mange disse udfordringer, er ved at behandle ordene i teksterne enkeltvis. På den måde gøres hvert enkelt ord til en analyseenhed. Processen i at omdanne tekst til enkeltord kaldes \"tokenization\", da de færdigbehandlede ord referes til som tokens. \n",
    "\n",
    "## Tokenization af tekst\n",
    "\n",
    "Formålet med tokenization er at konvertere tekst til enkelte analyseenheder. I denne proces frasorteres også elementer i teksten, som umiddelbart ikke bidrager med noget meningsfuldt i en analyse af indholdet (fx tegnsætning, hvorvidt ordet er stavet med stort, fyldord som fx stedord osv.)\n",
    "\n",
    "Tokenization indeholder typisk følgende skridt:\n",
    "\n",
    "1. Opdeling af tekst i enkeltord\n",
    "2. Frasortering af tegnsætning\n",
    "3. Evt. konverter til små bogstaver\n",
    "4. Frasorter stopord\n",
    "5. Evt. konverter ord til deres stamme eller navneform\n",
    "\n",
    "### Tokenization (med basisfunktioner)\n",
    "\n",
    "Lad os først se på, hvordan vi kan implementere disse skridt enkeltvis med basisfunktioner for at se, hvordan teksten ændres skridt for skridt."
   ]
  },
  {
   "cell_type": "markdown",
   "metadata": {},
   "source": [
    "#### 1. Opdeling af tekst i enkeltord\n",
    "\n",
    "Første skridt i tokenization er at omdanne teksten til en samling af enkeltord. På den måde er hver enkelt ord afgrænset, og vi kan holde styr på deres placering i teksten gennem deres indeks."
   ]
  },
  {
   "cell_type": "code",
   "execution_count": 119,
   "metadata": {},
   "outputs": [
    {
     "name": "stdout",
     "output_type": "stream",
     "text": [
      "Hjemmeværnet, Politikadetterne og Forsvaret klarer ærterne ved grænserne, så Politiet kan kaste sig over at gøre danskere mere trygge. Sikker på,at @ClausOxfeldt bliver lykkelig for vort krav. Han har jo brugt megen energi på at give DFs grænseindsats skylden for mandskabsmangel. https://t.co/PgenOdeSwn\n",
      "['Hjemmeværnet,', 'Politikadetterne', 'og', 'Forsvaret', 'klarer', 'ærterne', 'ved', 'grænserne,', 'så', 'Politiet', 'kan', 'kaste', 'sig', 'over', 'at', 'gøre', 'danskere', 'mere', 'trygge.', 'Sikker', 'på,at', '@ClausOxfeldt', 'bliver', 'lykkelig', 'for', 'vort', 'krav.', 'Han', 'har', 'jo', 'brugt', 'megen', 'energi', 'på', 'at', 'give', 'DFs', 'grænseindsats', 'skylden', 'for', 'mandskabsmangel.', 'https://t.co/PgenOdeSwn']\n"
     ]
    }
   ],
   "source": [
    "print(tweet)\n",
    "\n",
    "words = tweet.split(\" \")\n",
    "\n",
    "print(words)"
   ]
  },
  {
   "cell_type": "markdown",
   "metadata": {},
   "source": [
    "#### 2. Frasortering af tegnsætning\n",
    "\n",
    "Tegnsætning er typisk \"støj\" i text mining teknikker, så det frasorteres typisk.\n",
    "\n",
    "Her frasorteres tegnsætning ved at gå igennem hvert ord med et for loop og derefter gå igennem forskellige tegnsætninger (`punct_list`) i et for loop og erstatte dem med ingenting."
   ]
  },
  {
   "cell_type": "code",
   "execution_count": 121,
   "metadata": {},
   "outputs": [
    {
     "name": "stdout",
     "output_type": "stream",
     "text": [
      "['Hjemmeværnet', 'Politikadetterne', 'og', 'Forsvaret', 'klarer', 'ærterne', 'ved', 'grænserne', 'så', 'Politiet', 'kan', 'kaste', 'sig', 'over', 'at', 'gøre', 'danskere', 'mere', 'trygge', 'Sikker', 'påat', '@ClausOxfeldt', 'bliver', 'lykkelig', 'for', 'vort', 'krav', 'Han', 'har', 'jo', 'brugt', 'megen', 'energi', 'på', 'at', 'give', 'DFs', 'grænseindsats', 'skylden', 'for', 'mandskabsmangel', 'https://tco/PgenOdeSwn']\n"
     ]
    }
   ],
   "source": [
    "punct_list = [',', '-','.','?','!']\n",
    "\n",
    "words_nopunct = []\n",
    "\n",
    "for word in words:\n",
    "    for punct in punct_list:\n",
    "        word = word.replace(punct, \"\")\n",
    "    words_nopunct.append(word)\n",
    "    \n",
    "words_nopunct = list(filter(None, words_nopunct))\n",
    "\n",
    "print(words_nopunct)"
   ]
  },
  {
   "cell_type": "markdown",
   "metadata": {},
   "source": [
    "#### 3. Evt. konverter til små bogstaver\n",
    "\n",
    "Et primært formål med tokenization er, at ord med samme semantiske betydning bliver identiske. Derfor konverteres ord typisk til små bogstaver for at ensrette tekstmaterialet.\n",
    "\n",
    "I nogen tilfælde kan det dog give mening at gøre dette med det samme, så man nemmere kan identifcere egenavne."
   ]
  },
  {
   "cell_type": "code",
   "execution_count": 123,
   "metadata": {},
   "outputs": [
    {
     "name": "stdout",
     "output_type": "stream",
     "text": [
      "['hjemmeværnet', 'politikadetterne', 'og', 'forsvaret', 'klarer', 'ærterne', 'ved', 'grænserne', 'så', 'politiet', 'kan', 'kaste', 'sig', 'over', 'at', 'gøre', 'danskere', 'mere', 'trygge', 'sikker', 'påat', '@clausoxfeldt', 'bliver', 'lykkelig', 'for', 'vort', 'krav', 'han', 'har', 'jo', 'brugt', 'megen', 'energi', 'på', 'at', 'give', 'dfs', 'grænseindsats', 'skylden', 'for', 'mandskabsmangel', 'https://tco/pgenodeswn']\n"
     ]
    }
   ],
   "source": [
    "words_lower = [word.lower() for word in words_nopunct]\n",
    "\n",
    "print(words_lower)"
   ]
  },
  {
   "cell_type": "markdown",
   "metadata": {},
   "source": [
    "#### 4. Frasorter stopord\n",
    "\n",
    "Et andet formål med tokenization er, at vi står tilbage med analyseenheder (ord), som kan hjælpe os til at sige noget om indholdet i teksten. Alle sprog har ord, som ikke bærer en speciel semantisk betydning. Det kunne fx være stedord (den, det, en, et, jeg, der osv.) og forbindende ord (og, eller, også, efter, før osv.).\n",
    "\n",
    "Disse ord kaldes 'stopord'.\n",
    "\n",
    "Herunder definerer vi vores egen liste af stopord og frasorterer dem med et for loop og en if-betingelse:"
   ]
  },
  {
   "cell_type": "code",
   "execution_count": 125,
   "metadata": {},
   "outputs": [
    {
     "name": "stdout",
     "output_type": "stream",
     "text": [
      "['hjemmeværnet', 'politikadetterne', 'forsvaret', 'ærterne', 'grænserne', 'politiet', 'danskere', 'trygge', 'sikker', 'påat', '@clausoxfeldt', 'lykkelig', 'krav', 'energi', 'dfs', 'grænseindsats', 'skylden', 'mandskabsmangel', 'https://tco/pgenodeswn']\n"
     ]
    }
   ],
   "source": [
    "stopwords = ['og', 'klarer', 'ved', 'så', 'kan', 'kaste', 'sig', 'over', 'at', 'gøre', 'mere', 'bliver', \n",
    "             'for', 'vort', 'han', 'har', 'jo', 'brugt', 'megen', 'på', 'give', 'for']\n",
    "\n",
    "words_nostop = []\n",
    "\n",
    "for word in words_lower:\n",
    "    if word not in stopwords:\n",
    "        words_nostop.append(word)\n",
    "        \n",
    "print(words_nostop)"
   ]
  },
  {
   "cell_type": "markdown",
   "metadata": {},
   "source": [
    "Udover stopord har vi også noget \"twitter-støj\"; fx links og brug af @ til at tagge andre brugere."
   ]
  },
  {
   "cell_type": "code",
   "execution_count": 126,
   "metadata": {},
   "outputs": [
    {
     "name": "stdout",
     "output_type": "stream",
     "text": [
      "['hjemmeværnet', 'politikadetterne', 'forsvaret', 'ærterne', 'grænserne', 'politiet', 'danskere', 'trygge', 'sikker', 'påat', 'lykkelig', 'krav', 'energi', 'dfs', 'grænseindsats', 'skylden', 'mandskabsmangel']\n"
     ]
    }
   ],
   "source": [
    "tokens = []\n",
    "\n",
    "for word in words_nostop:\n",
    "    if word.startswith(\"@\") or word.startswith(\"https\"):\n",
    "        continue\n",
    "    tokens.append(word)\n",
    "    \n",
    "print(tokens)"
   ]
  },
  {
   "cell_type": "markdown",
   "metadata": {},
   "source": [
    "#### 5. Evt. konverter ord til deres stamme eller navneform\n",
    "\n",
    "Formålet med tokenization er både at frasortere støj i teksten og ensrette tokens sådan, at der kun er ét token for alle ord med samme semantiske betydning.\n",
    "\n",
    "Fx er det uhensigtsmæssigt at behandle \"Valgkamp\" og \"valgkamp\" som to forskellige tokens, da det er det samme ord bare med stort og lille forbogstav.\n",
    "\n",
    "Netop fordi hvert ord som udgangspunkt behanldes som unikt, giver det nogen udfordring ift. grammatik, da hver ordbøjning bliver hver sit token - medmindre man gør noget ved det!\n",
    "\n",
    "Derfor er en typisk praksis enten at konvertere ordet til stammen (stemming). Her ville ord som \"koste\", \"koster\", \"kostede\" alle konverteres til \"kost\", da det er ordets stamme.\n",
    "\n",
    "En anden praksis er at konvertere til navneformen (lemmatization). Her ville ord som \"koste\", \"koster\", \"kostede\" alle konverteres til \"koste\", da det er navneform for ordet.\n",
    "\n",
    "Sådanne konverteringer kræver, at man bruger i forvejen trænede sprogmodeller, da stamme og navneform vil variere fra sprog til sprog. Heldigvis er der udviklet mange af disse værktøjer.\n",
    "\n",
    "Dog er sådan nogen værktøjer ikke uden fejl, da det tager lang tid for en computer at lære, hvad forskellen er på \"kost\" (noget man spiser), \"kost\" (noget man fejer med) og \"kost\" (stammen at verbum \"koste\")."
   ]
  },
  {
   "cell_type": "markdown",
   "metadata": {},
   "source": [
    "#### Tokenization som funktion"
   ]
  },
  {
   "cell_type": "code",
   "execution_count": 129,
   "metadata": {},
   "outputs": [],
   "source": [
    "def tokenizer_basic(text):\n",
    "    punct_list = [',', '-','.','?','!']\n",
    "    stopwords = ['og', 'klarer', 'ved', 'så', 'kan', 'kaste', 'sig', 'over', 'at', 'gøre', 'mere', 'bliver', \n",
    "                 'for', 'vort', 'han', 'har', 'jo', 'brugt', 'megen', 'på', 'give', 'for']\n",
    "\n",
    "    words = text.split(\" \")\n",
    "\n",
    "    tokens = []\n",
    "\n",
    "    for word in words:\n",
    "        if word.startswith(\"@\") or word.startswith(\"https\"):\n",
    "            continue\n",
    "\n",
    "        for punct in punct_list:\n",
    "            word = word.replace(punct, \"\")\n",
    "\n",
    "        word = word.lower()\n",
    "\n",
    "        if word not in stopwords:\n",
    "            tokens.append(word)\n",
    "\n",
    "\n",
    "    tokens = list(filter(None, tokens))\n",
    "\n",
    "    return(tokens)"
   ]
  },
  {
   "cell_type": "code",
   "execution_count": 132,
   "metadata": {},
   "outputs": [
    {
     "name": "stdout",
     "output_type": "stream",
     "text": [
      "['hjemmeværnet', 'politikadetterne', 'forsvaret', 'ærterne', 'grænserne', 'politiet', 'danskere', 'trygge', 'sikker', 'påat', 'lykkelig', 'krav', 'energi', 'dfs', 'grænseindsats', 'skylden', 'mandskabsmangel']\n"
     ]
    }
   ],
   "source": [
    "tokens = tokenizer_basic(tweet)\n",
    "\n",
    "print(tokens)"
   ]
  },
  {
   "cell_type": "markdown",
   "metadata": {},
   "source": [
    "### Ord som series\n",
    "\n",
    "Med teksten konverteret til tokens, kan vi nemmere behandle dem.\n",
    "\n",
    "Ordene er lige nu i en liste, men de kan nemt konverteres til en pandas series, så vi kan bruger pandas metoder til at udforske tekstindholdet (selvfølgelig ikke så spændende på et enketl tweet):"
   ]
  },
  {
   "cell_type": "code",
   "execution_count": 133,
   "metadata": {},
   "outputs": [
    {
     "data": {
      "text/plain": [
       "grænserne           1\n",
       "skylden             1\n",
       "grænseindsats       1\n",
       "dfs                 1\n",
       "ærterne             1\n",
       "politikadetterne    1\n",
       "krav                1\n",
       "sikker              1\n",
       "mandskabsmangel     1\n",
       "energi              1\n",
       "lykkelig            1\n",
       "forsvaret           1\n",
       "politiet            1\n",
       "danskere            1\n",
       "hjemmeværnet        1\n",
       "påat                1\n",
       "trygge              1\n",
       "dtype: int64"
      ]
     },
     "execution_count": 133,
     "metadata": {},
     "output_type": "execute_result"
    }
   ],
   "source": [
    "tokens_series = pd.Series(tokens)\n",
    "\n",
    "tokens_series.value_counts()"
   ]
  },
  {
   "cell_type": "markdown",
   "metadata": {},
   "source": [
    "# ØVELSE 2: Tokenization\n",
    "\n",
    "Prøv at undersøg tekstindholdet af et af opslagene i redditdata: `post = reddit_df.loc[503, 'post_selftext']`\n",
    "\n",
    "1. Tokenize opslaget - enten med en funktion eller trin for trin\n",
    "2. Lav en ordoptælling ved at konvertere jeres tokens til en pandas series og bruge `.value_counts`"
   ]
  },
  {
   "cell_type": "code",
   "execution_count": 136,
   "metadata": {},
   "outputs": [],
   "source": [
    "post = reddit_df.loc[503, 'post_selftext']"
   ]
  },
  {
   "cell_type": "markdown",
   "metadata": {},
   "source": [
    "## Tokenization med sprogmodeller\n",
    "\n",
    "### Hvad er en sprogmodel?"
   ]
  },
  {
   "cell_type": "markdown",
   "metadata": {},
   "source": [
    "### Introduktion til stanza\n",
    "- Indhold i stanza:\n",
    "    - tokenizer\n",
    "    - lemmatizer\n",
    "    - ner\n",
    "    - sentiment analysis\n",
    "    - POS-tagging"
   ]
  },
  {
   "cell_type": "markdown",
   "metadata": {},
   "source": [
    "### Brug af stanza i Python"
   ]
  },
  {
   "cell_type": "markdown",
   "metadata": {},
   "source": [
    "# ØVELSE 3: Meningsfulde tokens med stanza\n",
    "\n",
    "- Pre-process samme tekst/tekststump som før med stanza\n",
    "- Optæl ord"
   ]
  },
  {
   "cell_type": "markdown",
   "metadata": {},
   "source": [
    "# Tidy text data\n",
    "- Hvordan arbejder vi med større tekstsamlinger? (corpora)\n",
    "- Tidy text data: Token som observation\n",
    "    - Fordele:\n",
    "        - Fastholder dokumenttilhør og andre relevante oplysninger\n",
    "        - Gør det nemt at arbejde med\n",
    "        - Vi kan bruge metoder, som vi kender fra at arbejde med struktureret data\n",
    "    - Ulemper: \n",
    "        - Data fylder hurtigt meget\n",
    "        - Kan have effekt på beregningstiden\n",
    "        - Ofte ikke kompatibelt med andre modeller"
   ]
  },
  {
   "cell_type": "markdown",
   "metadata": {},
   "source": [
    "## Fra text corpora til tidy text\n",
    "- Udarbejd tokenizer funktion\n",
    "- Brug af apply til at tokenize\n",
    "- Explode til at gøre tidy\n",
    "- Teknikker til at arbejde med tidy text: `groupby`, `isin`, plots"
   ]
  },
  {
   "cell_type": "markdown",
   "metadata": {},
   "source": [
    "# ØVELSE 4: Tidy text data (reddit data)\n",
    "- Udarbejd tokenizer funktion\n",
    "- Brug funktion til at tokenize reddit data\n",
    "- Gør tidy\n",
    "- Optæl ord via groupby"
   ]
  },
  {
   "cell_type": "markdown",
   "metadata": {},
   "source": [
    "# Usuperviseret maskinlæring og tekst: topic models\n",
    "- Topic models en meget udbredt teknik til at udforske mønstre\n",
    "- Fordele\n",
    "    - Overblik, inddeling\n",
    "- Ulemper\n",
    "    - Samme som med klynger: ekstern validitet\n",
    "    - Høj grad af vilkårlighed (hvor mange topics?)\n",
    "    - Sårbar over for små ændringer i datahåndtering\n",
    "- Bag-of-words: Ords kontekst ikke inddraget"
   ]
  },
  {
   "cell_type": "markdown",
   "metadata": {},
   "source": [
    "## Brug af topic models i Python\n",
    "- Brug af pakken gensim til topic models"
   ]
  },
  {
   "cell_type": "markdown",
   "metadata": {},
   "source": [
    "# ØVELSE 5: Topic models i Python (reddit data)\n",
    "- Forbered data til topic model\n",
    "- Kør topic model\n",
    "- Visualiser resultater"
   ]
  }
 ],
 "metadata": {
  "kernelspec": {
   "display_name": "Python 3",
   "language": "python",
   "name": "python3"
  },
  "language_info": {
   "codemirror_mode": {
    "name": "ipython",
    "version": 3
   },
   "file_extension": ".py",
   "mimetype": "text/x-python",
   "name": "python",
   "nbconvert_exporter": "python",
   "pygments_lexer": "ipython3",
   "version": "3.7.10"
  }
 },
 "nbformat": 4,
 "nbformat_minor": 4
}
