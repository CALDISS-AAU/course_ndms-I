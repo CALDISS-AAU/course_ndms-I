{
 "cells": [
  {
   "cell_type": "code",
   "execution_count": 28,
   "metadata": {},
   "outputs": [],
   "source": [
    "import pandas as pd\n",
    "from sklearn.model_selection import train_test_split\n",
    "from sklearn.ensemble import RandomForestClassifier\n",
    "from sklearn.utils import resample\n",
    "from sklearn.metrics import accuracy_score, confusion_matrix, classification_report\n",
    "import numpy as np"
   ]
  },
  {
   "cell_type": "code",
   "execution_count": 29,
   "metadata": {},
   "outputs": [
    {
     "name": "stdout",
     "output_type": "stream",
     "text": [
      "post_author\n",
      "post_created_utc\n",
      "post_domain\n",
      "post_full_link\n",
      "post_gildings\n",
      "post_id\n",
      "post_is_original_content\n",
      "post_is_reddit_media_domain\n",
      "post_locked\n",
      "post_media_only\n",
      "post_num_comments\n",
      "post_num_crossposts\n",
      "post_over_18\n",
      "post_permalink\n",
      "post_pinned\n",
      "post_retrieved_on\n",
      "post_score\n",
      "post_selftext\n",
      "post_spoiler\n",
      "post_stickied\n",
      "post_subreddit\n",
      "post_subreddit_id\n",
      "post_subreddit_subscribers\n",
      "post_subreddit_type\n",
      "post_thumbnail\n",
      "post_title\n",
      "post_total_awards_received\n",
      "post_url\n",
      "post_comments\n",
      "post_post_hint\n",
      "post_preview\n",
      "post_upvote_ratio\n",
      "post_url_overridden_by_dest\n",
      "comment_author\n",
      "comment_banned_at_utc\n",
      "comment_body\n",
      "comment_collapsed\n",
      "comment_collapsed_reason\n",
      "comment_created_utc\n",
      "comment_edited\n",
      "comment_id\n",
      "comment_is_submitter\n",
      "comment_link_id\n",
      "comment_parent_id\n",
      "comment_permalink\n",
      "comment_retrieved_on\n",
      "comment_score\n",
      "comment_stickied\n",
      "comment_subreddit\n",
      "comment_subreddit_id\n",
      "comment_total_awards_received\n",
      "comment_comment_type\n",
      "comment_tokens\n",
      "token_danmark\n",
      "token_folk\n",
      "token_mangen\n",
      "token_stor\n",
      "token_land\n",
      "token_barn\n",
      "token_menneske\n",
      "token_dansk\n",
      "token_problem\n",
      "token_dag\n",
      "token_gang\n",
      "token_sted\n",
      "token_tid\n",
      "token_kvinde\n",
      "token_mand\n",
      "token_måde\n",
      "token_megen\n",
      "token_penge\n",
      "token_person\n",
      "token_rette\n",
      "token_lov\n",
      "token_samfund\n",
      "token_liv\n",
      "token_verden\n",
      "token_høj\n",
      "token_grund\n",
      "token_enig\n",
      "token_argument\n",
      "token_forhold\n",
      "token_dansker\n",
      "token_tak\n",
      "token_mening\n",
      "token_sidste\n",
      "token_usa\n",
      "token_regering\n",
      "token_vej\n",
      "token_sag\n",
      "token_dårlig\n",
      "token_spørgsmål\n",
      "token_side\n",
      "token_regel\n",
      "token_parre\n",
      "token_mulighed\n",
      "token_kommentar\n",
      "token_holdning\n",
      "token_godte\n",
      "token_gode\n",
      "token_rigtig\n",
      "token_eg\n",
      "token_pris\n",
      "comment_upvoted\n"
     ]
    }
   ],
   "source": [
    "df = pd.read_csv('https://raw.githubusercontent.com/CALDISS-AAU/course_ndms-I/master/datasets/reddit_rdenmark_q%3Ddanmark_01072020-31122020_tokendummies.zip')\n",
    "df['comment_upvoted'] = df['comment_score'] > 1\n",
    "for col_name in df.columns: \n",
    "    print(col_name)"
   ]
  },
  {
   "cell_type": "code",
   "execution_count": 30,
   "metadata": {},
   "outputs": [
    {
     "name": "stdout",
     "output_type": "stream",
     "text": [
      "['post_author', 'post_created_utc', 'post_domain', 'post_full_link', 'post_gildings', 'post_id', 'post_is_original_content', 'post_is_reddit_media_domain', 'post_locked', 'post_media_only', 'post_num_comments', 'post_num_crossposts', 'post_over_18', 'post_permalink', 'post_pinned', 'post_retrieved_on', 'post_score', 'post_selftext', 'post_spoiler', 'post_stickied', 'post_subreddit', 'post_subreddit_id', 'post_subreddit_subscribers', 'post_subreddit_type', 'post_thumbnail', 'post_title', 'post_total_awards_received', 'post_url', 'post_comments', 'post_post_hint', 'post_preview', 'post_upvote_ratio', 'post_url_overridden_by_dest', 'comment_author', 'comment_banned_at_utc', 'comment_body', 'comment_collapsed', 'comment_collapsed_reason', 'comment_created_utc', 'comment_edited', 'comment_id', 'comment_is_submitter', 'comment_link_id', 'comment_parent_id', 'comment_permalink', 'comment_retrieved_on', 'comment_score', 'comment_stickied', 'comment_subreddit', 'comment_subreddit_id', 'comment_total_awards_received', 'comment_comment_type', 'comment_tokens', 'token_danmark', 'token_folk', 'token_mangen', 'token_stor', 'token_land', 'token_barn', 'token_menneske', 'token_dansk', 'token_problem', 'token_dag', 'token_gang', 'token_sted', 'token_tid', 'token_kvinde', 'token_mand', 'token_måde', 'token_megen', 'token_penge', 'token_person', 'token_rette', 'token_lov', 'token_samfund', 'token_liv', 'token_verden', 'token_høj', 'token_grund', 'token_enig', 'token_argument', 'token_forhold', 'token_dansker', 'token_tak', 'token_mening', 'token_sidste', 'token_usa', 'token_regering', 'token_vej', 'token_sag', 'token_dårlig', 'token_spørgsmål', 'token_side', 'token_regel', 'token_parre', 'token_mulighed', 'token_kommentar', 'token_holdning', 'token_godte', 'token_gode', 'token_rigtig', 'token_eg', 'token_pris', 'comment_upvoted']\n"
     ]
    }
   ],
   "source": [
    "print(df.columns.tolist())"
   ]
  },
  {
   "cell_type": "code",
   "execution_count": 35,
   "metadata": {},
   "outputs": [
    {
     "data": {
      "text/plain": [
       "comment_upvoted\n",
       "False    17282\n",
       "True      3382\n",
       "dtype: int64"
      ]
     },
     "execution_count": 35,
     "metadata": {},
     "output_type": "execute_result"
    }
   ],
   "source": [
    "df.groupby(['comment_upvoted']).size()"
   ]
  },
  {
   "cell_type": "code",
   "execution_count": 33,
   "metadata": {},
   "outputs": [],
   "source": [
    "df_majoritet=df[df.comment_upvoted==0]\n",
    "df_minoritet=df[df.comment_upvoted==1]"
   ]
  },
  {
   "cell_type": "code",
   "execution_count": 36,
   "metadata": {},
   "outputs": [
    {
     "data": {
      "text/plain": [
       "True     17282\n",
       "False    17282\n",
       "Name: comment_upvoted, dtype: int64"
      ]
     },
     "execution_count": 36,
     "metadata": {},
     "output_type": "execute_result"
    }
   ],
   "source": [
    "df_minoritet_upsampled= resample(df_minoritet, replace=True, n_samples=17282, random_state=123)\n",
    "df_upsampled= pd.concat([df_majoritet, df_minoritet_upsampled])\n",
    "df_upsampled.comment_upvoted.value_counts()"
   ]
  },
  {
   "cell_type": "code",
   "execution_count": 37,
   "metadata": {},
   "outputs": [],
   "source": [
    "y = df_upsampled['comment_upvoted']\n",
    "x = df_upsampled[['token_danmark', 'token_folk', 'token_mangen', 'token_stor', 'token_land', 'token_barn', 'token_menneske', 'token_dansk', 'token_problem', 'token_dag', 'token_gang', 'token_sted', 'token_tid', 'token_kvinde', 'token_mand', 'token_måde', 'token_megen', 'token_penge', 'token_person', 'token_rette', 'token_lov', 'token_samfund', 'token_liv', 'token_verden', 'token_høj', 'token_grund', 'token_enig', 'token_argument', 'token_forhold', 'token_dansker', 'token_tak', 'token_mening', 'token_sidste', 'token_usa', 'token_regering', 'token_vej', 'token_sag', 'token_dårlig', 'token_spørgsmål', 'token_side', 'token_regel', 'token_parre', 'token_mulighed', 'token_kommentar', 'token_holdning', 'token_godte', 'token_gode', 'token_rigtig', 'token_eg', 'token_pris']]"
   ]
  },
  {
   "cell_type": "code",
   "execution_count": 38,
   "metadata": {},
   "outputs": [],
   "source": [
    "x_train, x_test, y_train, y_test = train_test_split(x, y, test_size=0.2)"
   ]
  },
  {
   "cell_type": "code",
   "execution_count": 39,
   "metadata": {},
   "outputs": [],
   "source": [
    "rf_clas=RandomForestClassifier(n_estimators=100)\n",
    "rf_clas.fit(x_train,y_train)\n",
    "y_pred=rf_clas.predict(x_test)"
   ]
  },
  {
   "cell_type": "code",
   "execution_count": 40,
   "metadata": {},
   "outputs": [
    {
     "name": "stdout",
     "output_type": "stream",
     "text": [
      "RF test accuracy: 0.648\n"
     ]
    }
   ],
   "source": [
    "print(\"RF test accuracy: %0.3f\" % rf_clas.score(x_test, y_test))"
   ]
  },
  {
   "cell_type": "code",
   "execution_count": 16,
   "metadata": {},
   "outputs": [
    {
     "name": "stdout",
     "output_type": "stream",
     "text": [
      "              precision    recall  f1-score   support\n",
      "\n",
      "       False       0.74      0.44      0.56      4633\n",
      "        True       0.61      0.85      0.71      4681\n",
      "\n",
      "    accuracy                           0.65      9314\n",
      "   macro avg       0.67      0.65      0.63      9314\n",
      "weighted avg       0.67      0.65      0.63      9314\n",
      "\n"
     ]
    }
   ],
   "source": [
    "print(classification_report(y_test, y_pred))"
   ]
  },
  {
   "cell_type": "code",
   "execution_count": 25,
   "metadata": {},
   "outputs": [
    {
     "name": "stdout",
     "output_type": "stream",
     "text": [
      "What if we have 100 estimators and 0.05 sample size\n",
      "RF train accuracy: 0.663\n",
      "RF test accuracy: 0.638\n",
      "\n",
      "What if we have 100 estimators and 0.1 sample size\n",
      "RF train accuracy: 0.662\n",
      "RF test accuracy: 0.645\n",
      "\n",
      "What if we have 100 estimators and 0.15000000000000002 sample size\n",
      "RF train accuracy: 0.664\n",
      "RF test accuracy: 0.639\n",
      "\n",
      "What if we have 100 estimators and 0.2 sample size\n",
      "RF train accuracy: 0.662\n",
      "RF test accuracy: 0.651\n",
      "\n",
      "What if we have 200 estimators and 0.05 sample size\n",
      "RF train accuracy: 0.662\n",
      "RF test accuracy: 0.651\n",
      "\n",
      "What if we have 200 estimators and 0.1 sample size\n",
      "RF train accuracy: 0.663\n",
      "RF test accuracy: 0.647\n",
      "\n",
      "What if we have 200 estimators and 0.15000000000000002 sample size\n",
      "RF train accuracy: 0.661\n",
      "RF test accuracy: 0.654\n",
      "\n",
      "What if we have 200 estimators and 0.2 sample size\n",
      "RF train accuracy: 0.662\n",
      "RF test accuracy: 0.649\n",
      "\n",
      "What if we have 300 estimators and 0.05 sample size\n",
      "RF train accuracy: 0.662\n",
      "RF test accuracy: 0.641\n",
      "\n",
      "What if we have 300 estimators and 0.1 sample size\n",
      "RF train accuracy: 0.663\n",
      "RF test accuracy: 0.639\n",
      "\n",
      "What if we have 300 estimators and 0.15000000000000002 sample size\n",
      "RF train accuracy: 0.664\n",
      "RF test accuracy: 0.641\n",
      "\n",
      "What if we have 300 estimators and 0.2 sample size\n",
      "RF train accuracy: 0.664\n",
      "RF test accuracy: 0.642\n",
      "\n",
      "What if we have 400 estimators and 0.05 sample size\n",
      "RF train accuracy: 0.662\n",
      "RF test accuracy: 0.643\n",
      "\n",
      "What if we have 400 estimators and 0.1 sample size\n",
      "RF train accuracy: 0.662\n",
      "RF test accuracy: 0.650\n",
      "\n",
      "What if we have 400 estimators and 0.15000000000000002 sample size\n",
      "RF train accuracy: 0.664\n",
      "RF test accuracy: 0.641\n",
      "\n",
      "What if we have 400 estimators and 0.2 sample size\n",
      "RF train accuracy: 0.662\n",
      "RF test accuracy: 0.652\n",
      "\n",
      "What if we have 500 estimators and 0.05 sample size\n",
      "RF train accuracy: 0.663\n",
      "RF test accuracy: 0.640\n",
      "\n",
      "What if we have 500 estimators and 0.1 sample size\n",
      "RF train accuracy: 0.661\n",
      "RF test accuracy: 0.654\n",
      "\n",
      "What if we have 500 estimators and 0.15000000000000002 sample size\n",
      "RF train accuracy: 0.661\n",
      "RF test accuracy: 0.657\n",
      "\n",
      "What if we have 500 estimators and 0.2 sample size\n",
      "RF train accuracy: 0.661\n",
      "RF test accuracy: 0.652\n",
      "\n",
      "What if we have 600 estimators and 0.05 sample size\n",
      "RF train accuracy: 0.663\n",
      "RF test accuracy: 0.637\n",
      "\n",
      "What if we have 600 estimators and 0.1 sample size\n",
      "RF train accuracy: 0.662\n",
      "RF test accuracy: 0.650\n",
      "\n",
      "What if we have 600 estimators and 0.15000000000000002 sample size\n",
      "RF train accuracy: 0.664\n",
      "RF test accuracy: 0.644\n",
      "\n",
      "What if we have 600 estimators and 0.2 sample size\n",
      "RF train accuracy: 0.664\n",
      "RF test accuracy: 0.645\n",
      "\n",
      "What if we have 700 estimators and 0.05 sample size\n",
      "RF train accuracy: 0.662\n",
      "RF test accuracy: 0.659\n",
      "\n",
      "What if we have 700 estimators and 0.1 sample size\n",
      "RF train accuracy: 0.662\n",
      "RF test accuracy: 0.653\n",
      "\n",
      "What if we have 700 estimators and 0.15000000000000002 sample size\n",
      "RF train accuracy: 0.663\n",
      "RF test accuracy: 0.648\n",
      "\n",
      "What if we have 700 estimators and 0.2 sample size\n",
      "RF train accuracy: 0.664\n",
      "RF test accuracy: 0.644\n",
      "\n",
      "What if we have 800 estimators and 0.05 sample size\n",
      "RF train accuracy: 0.662\n",
      "RF test accuracy: 0.657\n",
      "\n",
      "What if we have 800 estimators and 0.1 sample size\n",
      "RF train accuracy: 0.663\n",
      "RF test accuracy: 0.647\n",
      "\n",
      "What if we have 800 estimators and 0.15000000000000002 sample size\n",
      "RF train accuracy: 0.664\n",
      "RF test accuracy: 0.638\n",
      "\n",
      "What if we have 800 estimators and 0.2 sample size\n",
      "RF train accuracy: 0.662\n",
      "RF test accuracy: 0.652\n",
      "\n",
      "What if we have 900 estimators and 0.05 sample size\n",
      "RF train accuracy: 0.662\n",
      "RF test accuracy: 0.648\n",
      "\n",
      "What if we have 900 estimators and 0.1 sample size\n",
      "RF train accuracy: 0.662\n",
      "RF test accuracy: 0.645\n",
      "\n",
      "What if we have 900 estimators and 0.15000000000000002 sample size\n",
      "RF train accuracy: 0.663\n",
      "RF test accuracy: 0.643\n",
      "\n",
      "What if we have 900 estimators and 0.2 sample size\n",
      "RF train accuracy: 0.662\n",
      "RF test accuracy: 0.652\n",
      "\n",
      "What if we have 1000 estimators and 0.05 sample size\n",
      "RF train accuracy: 0.662\n",
      "RF test accuracy: 0.641\n",
      "\n",
      "What if we have 1000 estimators and 0.1 sample size\n",
      "RF train accuracy: 0.663\n",
      "RF test accuracy: 0.642\n",
      "\n",
      "What if we have 1000 estimators and 0.15000000000000002 sample size\n",
      "RF train accuracy: 0.664\n",
      "RF test accuracy: 0.639\n",
      "\n",
      "What if we have 1000 estimators and 0.2 sample size\n",
      "RF train accuracy: 0.661\n",
      "RF test accuracy: 0.654\n",
      "\n"
     ]
    }
   ],
   "source": [
    "for n in range(100,1100,100):\n",
    "    for s in np.arange(0.05, 0.2, 0.05):\n",
    "        x_train, x_test, y_train, y_test = train_test_split(x, y, test_size=s)\n",
    "        rf_clas=RandomForestClassifier(n_estimators=n)\n",
    "        rf_clas.fit(x_train,y_train)\n",
    "        y_pred=rf_clas.predict(x_test)\n",
    "        ns=str(n)\n",
    "        ss=str(s)\n",
    "        print(\"What if we have \" + ns + \" estimators and \" + ss + \" sample size\")\n",
    "        print(\"RF train accuracy: %0.3f\" % rf_clas.score(x_train, y_train))\n",
    "        print(\"RF test accuracy: %0.3f\" % rf_clas.score(x_test, y_test))\n",
    "        print(\"\")"
   ]
  },
  {
   "cell_type": "code",
   "execution_count": 26,
   "metadata": {},
   "outputs": [
    {
     "name": "stdout",
     "output_type": "stream",
     "text": [
      "0.05\n",
      "0.1\n",
      "0.15000000000000002\n",
      "0.2\n"
     ]
    }
   ],
   "source": [
    " for s in np.arange(0.05, 0.2, 0.05):\n",
    "        print(s)"
   ]
  },
  {
   "cell_type": "code",
   "execution_count": null,
   "metadata": {},
   "outputs": [],
   "source": []
  }
 ],
 "metadata": {
  "kernelspec": {
   "display_name": "Python 3",
   "language": "python",
   "name": "python3"
  },
  "language_info": {
   "codemirror_mode": {
    "name": "ipython",
    "version": 3
   },
   "file_extension": ".py",
   "mimetype": "text/x-python",
   "name": "python",
   "nbconvert_exporter": "python",
   "pygments_lexer": "ipython3",
   "version": "3.7.7"
  }
 },
 "nbformat": 4,
 "nbformat_minor": 4
}
