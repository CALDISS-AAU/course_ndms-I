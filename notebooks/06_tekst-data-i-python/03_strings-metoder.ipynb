{
 "cells": [
  {
   "cell_type": "markdown",
   "metadata": {},
   "source": [
    "# Håndtering af tekst (strings) i Python\n",
    "\n",
    "Lad os se på, hvordan man arbejder med enkelte tekstværdier i Python."
   ]
  },
  {
   "cell_type": "markdown",
   "metadata": {},
   "source": [
    "## String metoder\n",
    "\n",
    "En tekstværdi kaldes en \"string\" inden for programmeringssprog. For at arbejde med tekst, er det relevant at vide, hvordan Python arbejder med enkelte tekstværdier.\n",
    "\n",
    "Vi ser herunder nærmere på indbyggede string-metoder i Python\n"
   ]
  },
  {
   "cell_type": "code",
   "execution_count": 5,
   "metadata": {},
   "outputs": [
    {
     "name": "stdout",
     "output_type": "stream",
     "text": [
      "Hjemmeværnet, Politikadetterne og Forsvaret klarer ærterne ved grænserne, så Politiet kan kaste sig over at gøre danskere mere trygge. Sikker på,at @ClausOxfeldt bliver lykkelig for vort krav. Han har jo brugt megen energi på at give DFs grænseindsats skylden for mandskabsmangel. https://t.co/PgenOdeSwn\n"
     ]
    }
   ],
   "source": [
    "tweet = tweets_df.loc[584, 'full_text']\n",
    "print(tweet)"
   ]
  },
  {
   "cell_type": "code",
   "execution_count": 6,
   "metadata": {},
   "outputs": [
    {
     "data": {
      "text/plain": [
       "str"
      ]
     },
     "execution_count": 6,
     "metadata": {},
     "output_type": "execute_result"
    }
   ],
   "source": [
    "type(tweet)"
   ]
  },
  {
   "cell_type": "code",
   "execution_count": 7,
   "metadata": {},
   "outputs": [
    {
     "data": {
      "text/plain": [
       "True"
      ]
     },
     "execution_count": 7,
     "metadata": {},
     "output_type": "execute_result"
    }
   ],
   "source": [
    "tweet.startswith(\"Hjemmeværn\")"
   ]
  },
  {
   "cell_type": "code",
   "execution_count": 8,
   "metadata": {},
   "outputs": [
    {
     "data": {
      "text/plain": [
       "False"
      ]
     },
     "execution_count": 8,
     "metadata": {},
     "output_type": "execute_result"
    }
   ],
   "source": [
    "tweet.endswith(\"DF\")"
   ]
  },
  {
   "cell_type": "code",
   "execution_count": 9,
   "metadata": {},
   "outputs": [
    {
     "data": {
      "text/plain": [
       "True"
      ]
     },
     "execution_count": 9,
     "metadata": {},
     "output_type": "execute_result"
    }
   ],
   "source": [
    "\"energi\" in tweet"
   ]
  },
  {
   "cell_type": "code",
   "execution_count": 10,
   "metadata": {},
   "outputs": [
    {
     "data": {
      "text/plain": [
       "False"
      ]
     },
     "execution_count": 10,
     "metadata": {},
     "output_type": "execute_result"
    }
   ],
   "source": [
    "\"politi\" in tweet # findes ikke, da politi står med stort"
   ]
  },
  {
   "cell_type": "code",
   "execution_count": 11,
   "metadata": {},
   "outputs": [
    {
     "data": {
      "text/plain": [
       "True"
      ]
     },
     "execution_count": 11,
     "metadata": {},
     "output_type": "execute_result"
    }
   ],
   "source": [
    "\"politi\" in tweet.lower()"
   ]
  },
  {
   "cell_type": "code",
   "execution_count": 12,
   "metadata": {},
   "outputs": [
    {
     "data": {
      "text/plain": [
       "'HJEMMEVÆRNET, POLITIKADETTERNE OG FORSVARET KLARER ÆRTERNE VED GRÆNSERNE, SÅ POLITIET KAN KASTE SIG OVER AT GØRE DANSKERE MERE TRYGGE. SIKKER PÅ,AT @CLAUSOXFELDT BLIVER LYKKELIG FOR VORT KRAV. HAN HAR JO BRUGT MEGEN ENERGI PÅ AT GIVE DFS GRÆNSEINDSATS SKYLDEN FOR MANDSKABSMANGEL. HTTPS://T.CO/PGENODESWN'"
      ]
     },
     "execution_count": 12,
     "metadata": {},
     "output_type": "execute_result"
    }
   ],
   "source": [
    "tweet.upper()"
   ]
  },
  {
   "cell_type": "markdown",
   "metadata": {},
   "source": [
    "## String metoder i pandas\n",
    "\n",
    "Mange string metoder kan anvendes på pandas series - ofte ved at tilføje `.str`"
   ]
  },
  {
   "cell_type": "code",
   "execution_count": 13,
   "metadata": {},
   "outputs": [
    {
     "data": {
      "text/plain": [
       "0    False\n",
       "1    False\n",
       "2    False\n",
       "3    False\n",
       "4    False\n",
       "Name: full_text, dtype: bool"
      ]
     },
     "execution_count": 13,
     "metadata": {},
     "output_type": "execute_result"
    }
   ],
   "source": [
    "tweets_df['full_text'].str.startswith(\"Hjemmeværn\").head()"
   ]
  },
  {
   "cell_type": "code",
   "execution_count": 14,
   "metadata": {},
   "outputs": [
    {
     "data": {
      "text/plain": [
       "1"
      ]
     },
     "execution_count": 14,
     "metadata": {},
     "output_type": "execute_result"
    }
   ],
   "source": [
    "tweets_df['full_text'].str.startswith(\"Hjemmeværn\").sum() # Hvor mange tweets starter med hjemmeværn?"
   ]
  },
  {
   "cell_type": "markdown",
   "metadata": {},
   "source": [
    "`str.contains()` på en pandas series svarer til at bruge `in` på en string."
   ]
  },
  {
   "cell_type": "code",
   "execution_count": 15,
   "metadata": {},
   "outputs": [
    {
     "data": {
      "text/plain": [
       "118"
      ]
     },
     "execution_count": 15,
     "metadata": {},
     "output_type": "execute_result"
    }
   ],
   "source": [
    "tweets_df['full_text'].str.contains(\"DF\").sum() # Hvor mange tweets taler om DF?"
   ]
  },
  {
   "cell_type": "markdown",
   "metadata": {},
   "source": [
    "Fordi metoder som `str.startswith()` og `str.contains()` returnerer logiske værdier (`True`/`False`), så kan de bruges til subsetting."
   ]
  },
  {
   "cell_type": "code",
   "execution_count": 16,
   "metadata": {},
   "outputs": [
    {
     "data": {
      "text/html": [
       "<div>\n",
       "<style scoped>\n",
       "    .dataframe tbody tr th:only-of-type {\n",
       "        vertical-align: middle;\n",
       "    }\n",
       "\n",
       "    .dataframe tbody tr th {\n",
       "        vertical-align: top;\n",
       "    }\n",
       "\n",
       "    .dataframe thead th {\n",
       "        text-align: right;\n",
       "    }\n",
       "</style>\n",
       "<table border=\"1\" class=\"dataframe\">\n",
       "  <thead>\n",
       "    <tr style=\"text-align: right;\">\n",
       "      <th></th>\n",
       "      <th>created_at</th>\n",
       "      <th>id</th>\n",
       "      <th>full_text</th>\n",
       "      <th>is_quote_status</th>\n",
       "      <th>retweet_count</th>\n",
       "      <th>favorite_count</th>\n",
       "      <th>favorited</th>\n",
       "      <th>retweeted</th>\n",
       "      <th>is_retweet</th>\n",
       "      <th>hashtags</th>\n",
       "      <th>urls</th>\n",
       "      <th>user_followers_count</th>\n",
       "      <th>party</th>\n",
       "    </tr>\n",
       "  </thead>\n",
       "  <tbody>\n",
       "    <tr>\n",
       "      <th>36</th>\n",
       "      <td>2019-01-24 22:39:33+00:00</td>\n",
       "      <td>1088567004733341700</td>\n",
       "      <td>@RosenkrantzT @Spolitik @alternativet_ Det er ...</td>\n",
       "      <td>False</td>\n",
       "      <td>1</td>\n",
       "      <td>4</td>\n",
       "      <td>False</td>\n",
       "      <td>False</td>\n",
       "      <td>False</td>\n",
       "      <td>[]</td>\n",
       "      <td>[]</td>\n",
       "      <td>4064</td>\n",
       "      <td>Alternativet</td>\n",
       "    </tr>\n",
       "    <tr>\n",
       "      <th>375</th>\n",
       "      <td>2020-10-22 10:02:29+00:00</td>\n",
       "      <td>1319217553772859400</td>\n",
       "      <td>Har igen, kl. 13 (sammen med V, K og DF) indka...</td>\n",
       "      <td>False</td>\n",
       "      <td>8</td>\n",
       "      <td>54</td>\n",
       "      <td>False</td>\n",
       "      <td>False</td>\n",
       "      <td>False</td>\n",
       "      <td>['dkpol', 'dksocial']</td>\n",
       "      <td>[]</td>\n",
       "      <td>4064</td>\n",
       "      <td>Alternativet</td>\n",
       "    </tr>\n",
       "    <tr>\n",
       "      <th>513</th>\n",
       "      <td>2019-12-12 13:56:01+00:00</td>\n",
       "      <td>1205124148260954000</td>\n",
       "      <td>Ifølge DR har i al fald den ene af de terror-s...</td>\n",
       "      <td>False</td>\n",
       "      <td>7</td>\n",
       "      <td>55</td>\n",
       "      <td>False</td>\n",
       "      <td>False</td>\n",
       "      <td>False</td>\n",
       "      <td>[]</td>\n",
       "      <td>[{'url': 'https://t.co/D6WhHzVVgu', 'expanded_...</td>\n",
       "      <td>12276</td>\n",
       "      <td>Dansk Folkeparti</td>\n",
       "    </tr>\n",
       "    <tr>\n",
       "      <th>515</th>\n",
       "      <td>2020-12-05 11:44:00+00:00</td>\n",
       "      <td>1335188170040897500</td>\n",
       "      <td>Havde håbet på meget mere på ældreområdet, her...</td>\n",
       "      <td>False</td>\n",
       "      <td>3</td>\n",
       "      <td>4</td>\n",
       "      <td>False</td>\n",
       "      <td>False</td>\n",
       "      <td>False</td>\n",
       "      <td>['dkpol']</td>\n",
       "      <td>[{'url': 'https://t.co/HYLZ24Z632', 'expanded_...</td>\n",
       "      <td>2748</td>\n",
       "      <td>Dansk Folkeparti</td>\n",
       "    </tr>\n",
       "    <tr>\n",
       "      <th>520</th>\n",
       "      <td>2018-08-08 13:23:10+00:00</td>\n",
       "      <td>1027183438510608400</td>\n",
       "      <td>Spørgelysten var stor på det pressemøde, der t...</td>\n",
       "      <td>False</td>\n",
       "      <td>3</td>\n",
       "      <td>18</td>\n",
       "      <td>False</td>\n",
       "      <td>False</td>\n",
       "      <td>False</td>\n",
       "      <td>['dkpol', 'FL19']</td>\n",
       "      <td>[]</td>\n",
       "      <td>12276</td>\n",
       "      <td>Dansk Folkeparti</td>\n",
       "    </tr>\n",
       "    <tr>\n",
       "      <th>...</th>\n",
       "      <td>...</td>\n",
       "      <td>...</td>\n",
       "      <td>...</td>\n",
       "      <td>...</td>\n",
       "      <td>...</td>\n",
       "      <td>...</td>\n",
       "      <td>...</td>\n",
       "      <td>...</td>\n",
       "      <td>...</td>\n",
       "      <td>...</td>\n",
       "      <td>...</td>\n",
       "      <td>...</td>\n",
       "      <td>...</td>\n",
       "    </tr>\n",
       "    <tr>\n",
       "      <th>4737</th>\n",
       "      <td>2018-11-30 22:19:14+00:00</td>\n",
       "      <td>1068630561709875200</td>\n",
       "      <td>“Alternativet er dybt politisk uenige i DF’s p...</td>\n",
       "      <td>False</td>\n",
       "      <td>0</td>\n",
       "      <td>2</td>\n",
       "      <td>False</td>\n",
       "      <td>False</td>\n",
       "      <td>False</td>\n",
       "      <td>['dkpol', 'derforuffe', 'alternativet']</td>\n",
       "      <td>[]</td>\n",
       "      <td>3109</td>\n",
       "      <td>Uden for folketingsgrupperne</td>\n",
       "    </tr>\n",
       "    <tr>\n",
       "      <th>4750</th>\n",
       "      <td>2020-07-08 17:40:44+00:00</td>\n",
       "      <td>1280919762999132200</td>\n",
       "      <td>@DonPeHa Fordi der hele tiden bliver hetzet im...</td>\n",
       "      <td>False</td>\n",
       "      <td>0</td>\n",
       "      <td>0</td>\n",
       "      <td>False</td>\n",
       "      <td>False</td>\n",
       "      <td>False</td>\n",
       "      <td>[]</td>\n",
       "      <td>[]</td>\n",
       "      <td>37443</td>\n",
       "      <td>Uden for folketingsgrupperne</td>\n",
       "    </tr>\n",
       "    <tr>\n",
       "      <th>5039</th>\n",
       "      <td>2017-01-26 08:26:32+00:00</td>\n",
       "      <td>824533970201223200</td>\n",
       "      <td>Til afrikansk topmøde Addis Ababa: Meget bekym...</td>\n",
       "      <td>False</td>\n",
       "      <td>19</td>\n",
       "      <td>41</td>\n",
       "      <td>False</td>\n",
       "      <td>False</td>\n",
       "      <td>False</td>\n",
       "      <td>['globalgagrule', 'dk4hrc', 'dkpol']</td>\n",
       "      <td>[]</td>\n",
       "      <td>5749</td>\n",
       "      <td>Venstre</td>\n",
       "    </tr>\n",
       "    <tr>\n",
       "      <th>5087</th>\n",
       "      <td>2019-04-11 08:11:51+00:00</td>\n",
       "      <td>1116252507360174100</td>\n",
       "      <td>På administration i sundhedsvæsenet bruger Dan...</td>\n",
       "      <td>False</td>\n",
       "      <td>30</td>\n",
       "      <td>176</td>\n",
       "      <td>False</td>\n",
       "      <td>False</td>\n",
       "      <td>False</td>\n",
       "      <td>['dkpol', 'sundpol']</td>\n",
       "      <td>[]</td>\n",
       "      <td>26669</td>\n",
       "      <td>Venstre</td>\n",
       "    </tr>\n",
       "    <tr>\n",
       "      <th>5347</th>\n",
       "      <td>2020-01-22 09:37:24+00:00</td>\n",
       "      <td>1219916964770058200</td>\n",
       "      <td>@ChrBirk @Spolitik @madsfuglede De to ting er ...</td>\n",
       "      <td>False</td>\n",
       "      <td>0</td>\n",
       "      <td>0</td>\n",
       "      <td>False</td>\n",
       "      <td>False</td>\n",
       "      <td>False</td>\n",
       "      <td>[]</td>\n",
       "      <td>[]</td>\n",
       "      <td>3964</td>\n",
       "      <td>Venstre</td>\n",
       "    </tr>\n",
       "  </tbody>\n",
       "</table>\n",
       "<p>118 rows × 13 columns</p>\n",
       "</div>"
      ],
      "text/plain": [
       "                     created_at                   id  \\\n",
       "36    2019-01-24 22:39:33+00:00  1088567004733341700   \n",
       "375   2020-10-22 10:02:29+00:00  1319217553772859400   \n",
       "513   2019-12-12 13:56:01+00:00  1205124148260954000   \n",
       "515   2020-12-05 11:44:00+00:00  1335188170040897500   \n",
       "520   2018-08-08 13:23:10+00:00  1027183438510608400   \n",
       "...                         ...                  ...   \n",
       "4737  2018-11-30 22:19:14+00:00  1068630561709875200   \n",
       "4750  2020-07-08 17:40:44+00:00  1280919762999132200   \n",
       "5039  2017-01-26 08:26:32+00:00   824533970201223200   \n",
       "5087  2019-04-11 08:11:51+00:00  1116252507360174100   \n",
       "5347  2020-01-22 09:37:24+00:00  1219916964770058200   \n",
       "\n",
       "                                              full_text  is_quote_status  \\\n",
       "36    @RosenkrantzT @Spolitik @alternativet_ Det er ...            False   \n",
       "375   Har igen, kl. 13 (sammen med V, K og DF) indka...            False   \n",
       "513   Ifølge DR har i al fald den ene af de terror-s...            False   \n",
       "515   Havde håbet på meget mere på ældreområdet, her...            False   \n",
       "520   Spørgelysten var stor på det pressemøde, der t...            False   \n",
       "...                                                 ...              ...   \n",
       "4737  “Alternativet er dybt politisk uenige i DF’s p...            False   \n",
       "4750  @DonPeHa Fordi der hele tiden bliver hetzet im...            False   \n",
       "5039  Til afrikansk topmøde Addis Ababa: Meget bekym...            False   \n",
       "5087  På administration i sundhedsvæsenet bruger Dan...            False   \n",
       "5347  @ChrBirk @Spolitik @madsfuglede De to ting er ...            False   \n",
       "\n",
       "      retweet_count  favorite_count  favorited  retweeted  is_retweet  \\\n",
       "36                1               4      False      False       False   \n",
       "375               8              54      False      False       False   \n",
       "513               7              55      False      False       False   \n",
       "515               3               4      False      False       False   \n",
       "520               3              18      False      False       False   \n",
       "...             ...             ...        ...        ...         ...   \n",
       "4737              0               2      False      False       False   \n",
       "4750              0               0      False      False       False   \n",
       "5039             19              41      False      False       False   \n",
       "5087             30             176      False      False       False   \n",
       "5347              0               0      False      False       False   \n",
       "\n",
       "                                     hashtags  \\\n",
       "36                                         []   \n",
       "375                     ['dkpol', 'dksocial']   \n",
       "513                                        []   \n",
       "515                                 ['dkpol']   \n",
       "520                         ['dkpol', 'FL19']   \n",
       "...                                       ...   \n",
       "4737  ['dkpol', 'derforuffe', 'alternativet']   \n",
       "4750                                       []   \n",
       "5039     ['globalgagrule', 'dk4hrc', 'dkpol']   \n",
       "5087                     ['dkpol', 'sundpol']   \n",
       "5347                                       []   \n",
       "\n",
       "                                                   urls  user_followers_count  \\\n",
       "36                                                   []                  4064   \n",
       "375                                                  []                  4064   \n",
       "513   [{'url': 'https://t.co/D6WhHzVVgu', 'expanded_...                 12276   \n",
       "515   [{'url': 'https://t.co/HYLZ24Z632', 'expanded_...                  2748   \n",
       "520                                                  []                 12276   \n",
       "...                                                 ...                   ...   \n",
       "4737                                                 []                  3109   \n",
       "4750                                                 []                 37443   \n",
       "5039                                                 []                  5749   \n",
       "5087                                                 []                 26669   \n",
       "5347                                                 []                  3964   \n",
       "\n",
       "                             party  \n",
       "36                    Alternativet  \n",
       "375                   Alternativet  \n",
       "513               Dansk Folkeparti  \n",
       "515               Dansk Folkeparti  \n",
       "520               Dansk Folkeparti  \n",
       "...                            ...  \n",
       "4737  Uden for folketingsgrupperne  \n",
       "4750  Uden for folketingsgrupperne  \n",
       "5039                       Venstre  \n",
       "5087                       Venstre  \n",
       "5347                       Venstre  \n",
       "\n",
       "[118 rows x 13 columns]"
      ]
     },
     "execution_count": 16,
     "metadata": {},
     "output_type": "execute_result"
    }
   ],
   "source": [
    "DFtweets_df = tweets_df.loc[tweets_df['full_text'].str.contains(\"DF\"), :]\n",
    "DFtweets_df"
   ]
  },
  {
   "cell_type": "markdown",
   "metadata": {},
   "source": [
    "Dette subset kan vi visualisere, og dermed få et hurtigt overblik over, hvilke partier, der tweeter om \"DF\""
   ]
  },
  {
   "cell_type": "code",
   "execution_count": 17,
   "metadata": {},
   "outputs": [
    {
     "data": {
      "text/plain": [
       "<matplotlib.axes._subplots.AxesSubplot at 0x7fcc6bee6d10>"
      ]
     },
     "execution_count": 17,
     "metadata": {},
     "output_type": "execute_result"
    },
    {
     "data": {
      "image/png": "[encoded data removed]",
      "text/plain": [
       "<Figure size 432x288 with 1 Axes>"
      ]
     },
     "metadata": {
      "needs_background": "light"
     },
     "output_type": "display_data"
    }
   ],
   "source": [
    "DFtweets_df.groupby('party').size().plot.bar()"
   ]
  },
  {
   "cell_type": "markdown",
   "metadata": {},
   "source": [
    "## ØVELSE 2: Simpel teksthåndtering\n",
    "\n",
    "I øvelserne i dag skal i arbejde med et datasæt bestående af kommentarer fra reddit. Alle kommentarer er taget fra posts på r/denmark (reddit.com/r/denmark) fra 1/3-8/3 2021.\n",
    "\n",
    "1. Indlæs data som en pandas data frame\n",
    "    - Link til data: https://raw.githubusercontent.com/CALDISS-AAU/course_ndms-I/master/datasets/reddit_rdenmark-comments_01032021-08032021_long.csv\n",
    "2. Dan et subset bestående af alle kommentarer, der nævner \"menneskerettigheder\" (kommentarteksten er i kolonnen `comment_body`). Hvor mange kommentarer er der?\n",
    "\n",
    "**Bonus**\n",
    "- Kan du udregne gennemsnitsscore for de kommentarer, der nævner menneskerettigheder? (score fremgår af kolonnen `comment_score`)"
   ]
  }
 ],
 "metadata": {
  "kernelspec": {
   "display_name": "Python 3",
   "language": "python",
   "name": "python3"
  },
  "language_info": {
   "codemirror_mode": {
    "name": "ipython",
    "version": 3
   },
   "file_extension": ".py",
   "mimetype": "text/x-python",
   "name": "python",
   "nbconvert_exporter": "python",
   "pygments_lexer": "ipython3",
   "version": "3.7.12"
  }
 },
 "nbformat": 4,
 "nbformat_minor": 4
}
