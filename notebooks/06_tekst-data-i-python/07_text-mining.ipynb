{
 "cells": [
  {
   "cell_type": "markdown",
   "metadata": {},
   "source": [
    "# Simple text mining teknikker\n",
    "\n",
    "Indtil videre har vi arbejdet med enkelte tekststykker, men hvordan oversætter vi disse teknikker til større samlinger? (corpus)\n",
    "\n",
    "En samling af dokumenter eller tekster, der bruges til at undersøge et bestemt tema eller en bestemt problemstilling, kaldes et *corpus* (et term fra lingvistik).\n",
    "\n",
    "Der er forskellige dataformater til at arbejde med corpora kvantitativt. Et udbredt format er et \"document-term-matrix\" (dtm) eller et \"term-document-matrix\" (tdm). Et document-term-matrix er en tabel, hvor dokumenterne/teksterne udgør rækkerne og tokens udgør kolonner. Hver celle er så en tælling af et token inden for hvert dokument. Et \"term-document-matrix\" er det samme, men hvor tokens udgør rækker og dokumenter udgør kolonner. \n",
    "\n",
    "Et \"document-term-matrix\" er nyttigt og nødvendigt til forskellige modeller, men formatet egner sig ikke særlig godt til mere simple, eksplorative text mining teknikker. Dette fordi at det er vanskeligt at bevare anden information, som man har i teksterne, i det format (fx forfatter af teksten, udgivelsestidspunkt eller andet).\n",
    "\n",
    "## Tidy text data\n",
    "\n",
    "Et alternativt format er et såkaldt \"tidy text\" format. I dette format betragtes hver optræden af et token som en observation. I dette format foregår der ikke nogen form for opsummering eller optælling i selve dataformatet. I stedet splittes tokens i tekster ud i rækker, så man for hver optræden af et token kan kombinere det med de øvrige oplysninger, som man har i data.\n",
    "\n",
    "Tilgangen er mindre udbredt i Python, men ses ofte brugt i R (se fx [Silge, J og D Robinson: \"Text Mining with R: A Tidy Approach\"](https://www.tidytextmining.com/)).\n",
    "\n",
    "**Fordele:**\n",
    "- Fastholder dokumenttilhør og andre relevante oplysninger\n",
    "- Gør det nemt at arbejde med\n",
    "- Vi kan bruge pandas metoder til nemt at lave opsummeringer og visualiseringer\n",
    "    \n",
    "**Ulemper:**\n",
    "- Data fylder hurtigt meget\n",
    "- Kan have effekt på beregningstiden\n",
    "- Ikke kompatibelt med mange modeller (data skal måske konverteres igen for at passe med model)"
   ]
  },
  {
   "cell_type": "code",
   "execution_count": 1,
   "metadata": {},
   "outputs": [
    {
     "name": "stderr",
     "output_type": "stream",
     "text": [
      "<frozen importlib._bootstrap>:228: RuntimeWarning: scipy._lib.messagestream.MessageStream size changed, may indicate binary incompatibility. Expected 56 from C header, got 64 from PyObject\n"
     ]
    }
   ],
   "source": [
    "import pandas as pd\n",
    "import seaborn as sns\n",
    "\n",
    "%matplotlib inline\n",
    "sns.set(rc={'figure.figsize':(20,12)})\n",
    "\n",
    "tweetdata_url = \"https://raw.githubusercontent.com/CALDISS-AAU/course_ndms-I/master/datasets/poltweets_sample.csv\"\n",
    "tweets_df = pd.read_csv(tweetdata_url)"
   ]
  },
  {
   "cell_type": "markdown",
   "metadata": {},
   "source": [
    "## Fra text corpora til tidy text i Python\n",
    "\n",
    "Python (og pandas) har flere funktioner, der gør det nemt at anvende funktioner på alle værdier i en kolonne. Twitterdata er lige nu læst ind som en dataframe, hvor selve tweetet fremgår af kolonnen `full_text`:"
   ]
  },
  {
   "cell_type": "code",
   "execution_count": 2,
   "metadata": {},
   "outputs": [
    {
     "data": {
      "text/plain": [
       "0    Er på vej i miljøministeriet for at foreslå at...\n",
       "1    @nielscallesoe @helenehagel @alternativet_ Det...\n",
       "2    Vi står sammen, smiler Løkke på KL-topmøde og ...\n",
       "3             @AnnaBylov @EU_Spring @rasmusnordqvist 💚\n",
       "4    Der er ikke noget alternativ til at Alternativ...\n",
       "Name: full_text, dtype: object"
      ]
     },
     "execution_count": 2,
     "metadata": {},
     "output_type": "execute_result"
    }
   ],
   "source": [
    "tweets_df['full_text'].head()"
   ]
  },
  {
   "cell_type": "markdown",
   "metadata": {},
   "source": [
    "Det anbefales altid, at lave en tilpasset tokenizer, men det er muligt blot at bruge tokenizeren fra spaCy, som den er.\n",
    "\n",
    "Da hver celle i kolonnen `full_text` består af et enkelt tekststykke (et tweet), kan en tokenizer-funktion bruges på hvilken som helst celle i kolonnen:"
   ]
  },
  {
   "cell_type": "code",
   "execution_count": 3,
   "metadata": {},
   "outputs": [],
   "source": [
    "from spacy.lang.da import Danish\n",
    "nlp = Danish() # Indlæser \"tom\" sprogmodel\n",
    "tokenizer = nlp.tokenizer # henter tokenizer\n",
    "\n",
    "def tokenizer_simple(text):\n",
    "    stop_words = list(nlp.Defaults.stop_words)\n",
    "    \n",
    "    doc = tokenizer(text)\n",
    "    \n",
    "    tokens = []\n",
    "    \n",
    "    for word in doc:\n",
    "        if len(word.text) < 3:\n",
    "            continue\n",
    "        if word.text not in stop_words:\n",
    "            tokens.append(word.text)\n",
    "    \n",
    "    return(tokens)"
   ]
  },
  {
   "cell_type": "code",
   "execution_count": 4,
   "metadata": {},
   "outputs": [
    {
     "name": "stdout",
     "output_type": "stream",
     "text": [
      "- Hvordan sikrer vi at forebyggelse og behandling af cannabismisbrug blandt unge bliver styrket gennem legalisering af cannabis i Danmark? \n",
      "Det var omdrejningspunktet i en to timers debat med dem, der har “hands on” på området, nemlig misbrugsbehandlerne. 💚@alternativet_  #dkpol https://t.co/DnxKEGk9Ab\n",
      "\n",
      "\n",
      "['Hvordan', 'sikrer', 'forebyggelse', 'behandling', 'cannabismisbrug', 'unge', 'styrket', 'legalisering', 'cannabis', 'Danmark', 'Det', 'omdrejningspunktet', 'timers', 'debat', 'hands', 'området', 'misbrugsbehandlerne', '@alternativet', 'dkpol', 'https://t.co/DnxKEGk9Ab']\n"
     ]
    }
   ],
   "source": [
    "tokens = tokenizer_simple(tweets_df.loc[102, 'full_text'])\n",
    "\n",
    "print(tweets_df.loc[102, 'full_text'])\n",
    "print(\"\\n\")\n",
    "print(tokens)"
   ]
  },
  {
   "cell_type": "markdown",
   "metadata": {},
   "source": [
    "**Brug af `.apply()` på pandas series**\n",
    "\n",
    "Funktionen virker ikke på hele kolonnen, da funktionen er lavet til at tage et enkelt tekststykke som input (og ikke en pandas series):"
   ]
  },
  {
   "cell_type": "code",
   "execution_count": 5,
   "metadata": {},
   "outputs": [
    {
     "ename": "TypeError",
     "evalue": "Argument 'string' has incorrect type (expected str, got Series)",
     "output_type": "error",
     "traceback": [
      "\u001b[0;31m---------------------------------------------------------------------------\u001b[0m",
      "\u001b[0;31mTypeError\u001b[0m                                 Traceback (most recent call last)",
      "Input \u001b[0;32mIn [5]\u001b[0m, in \u001b[0;36m<module>\u001b[0;34m\u001b[0m\n\u001b[0;32m----> 1\u001b[0m \u001b[43mtokenizer_simple\u001b[49m\u001b[43m(\u001b[49m\u001b[43mtweets_df\u001b[49m\u001b[43m[\u001b[49m\u001b[38;5;124;43m'\u001b[39;49m\u001b[38;5;124;43mfull_text\u001b[39;49m\u001b[38;5;124;43m'\u001b[39;49m\u001b[43m]\u001b[49m\u001b[43m)\u001b[49m\n",
      "Input \u001b[0;32mIn [3]\u001b[0m, in \u001b[0;36mtokenizer_simple\u001b[0;34m(text)\u001b[0m\n\u001b[1;32m      5\u001b[0m \u001b[38;5;28;01mdef\u001b[39;00m \u001b[38;5;21mtokenizer_simple\u001b[39m(text):\n\u001b[1;32m      6\u001b[0m     stop_words \u001b[38;5;241m=\u001b[39m \u001b[38;5;28mlist\u001b[39m(nlp\u001b[38;5;241m.\u001b[39mDefaults\u001b[38;5;241m.\u001b[39mstop_words)\n\u001b[0;32m----> 8\u001b[0m     doc \u001b[38;5;241m=\u001b[39m \u001b[43mtokenizer\u001b[49m\u001b[43m(\u001b[49m\u001b[43mtext\u001b[49m\u001b[43m)\u001b[49m\n\u001b[1;32m     10\u001b[0m     tokens \u001b[38;5;241m=\u001b[39m []\n\u001b[1;32m     12\u001b[0m     \u001b[38;5;28;01mfor\u001b[39;00m word \u001b[38;5;129;01min\u001b[39;00m doc:\n",
      "\u001b[0;31mTypeError\u001b[0m: Argument 'string' has incorrect type (expected str, got Series)"
     ]
    }
   ],
   "source": [
    "tokenizer_simple(tweets_df['full_text'])"
   ]
  },
  {
   "cell_type": "markdown",
   "metadata": {},
   "source": [
    "Man kan dog nemt få Pandas til at køre den samme funktion over hver celle i en kolonne med metoden `.apply()` (https://pandas.pydata.org/pandas-docs/stable/reference/api/pandas.Series.apply.html?highlight=apply#pandas.Series.apply).\n",
    "\n",
    "`.apply()` anvendes på en pandas series og tager en funktion som input. Metoden kan tænkes lig et for loop, hvor funktionen, som man angiver som input, anvendes på hver celle i kolonnen.\n",
    "\n",
    "Herunder dannes en ny kolonne (`tokens`), som dannes ved at anvende funktionen på kolonnen `full_text` med `.apply()` (OBS: Dette kan tage noget tid):"
   ]
  },
  {
   "cell_type": "code",
   "execution_count": 6,
   "metadata": {},
   "outputs": [],
   "source": [
    "tweets_df['tokens'] = tweets_df['full_text'].apply(tokenizer_simple)"
   ]
  },
  {
   "cell_type": "markdown",
   "metadata": {},
   "source": [
    "**Fra tokens som lister til tokens som rækker**\n",
    "\n",
    "Funktionen `tokenizer_spacy` returnerer en liste af tokens. Kolonnen `tokens` indeholder derfor listen af tokens for hver tekst:"
   ]
  },
  {
   "cell_type": "code",
   "execution_count": 7,
   "metadata": {},
   "outputs": [
    {
     "data": {
      "text/plain": [
       "0    [vej, miljøministeriet, foreslå, laver, biodiv...\n",
       "1    [@nielscallesoe, @helenehagel, @alternativet, ...\n",
       "2    [står, smiler, Løkke, KL-topmøde, tager, 2,4, ...\n",
       "3           [@AnnaBylov, @EU_Spring, @rasmusnordqvist]\n",
       "4    [Der, alternativ, Alternativet, går, forrest, ...\n",
       "Name: tokens, dtype: object"
      ]
     },
     "execution_count": 7,
     "metadata": {},
     "output_type": "execute_result"
    }
   ],
   "source": [
    "tweets_df['tokens'].head()"
   ]
  },
  {
   "cell_type": "markdown",
   "metadata": {},
   "source": [
    "Data er derfor ikke tidy, da vi ikke har et ord per række. Dette kan dog nemt opnås med metoden `.explode()` (https://pandas.pydata.org/pandas-docs/stable/reference/api/pandas.Series.explode.html#pandas.Series.explode). "
   ]
  },
  {
   "cell_type": "code",
   "execution_count": 8,
   "metadata": {},
   "outputs": [
    {
     "data": {
      "text/html": [
       "<div>\n",
       "<style scoped>\n",
       "    .dataframe tbody tr th:only-of-type {\n",
       "        vertical-align: middle;\n",
       "    }\n",
       "\n",
       "    .dataframe tbody tr th {\n",
       "        vertical-align: top;\n",
       "    }\n",
       "\n",
       "    .dataframe thead th {\n",
       "        text-align: right;\n",
       "    }\n",
       "</style>\n",
       "<table border=\"1\" class=\"dataframe\">\n",
       "  <thead>\n",
       "    <tr style=\"text-align: right;\">\n",
       "      <th></th>\n",
       "      <th>created_at</th>\n",
       "      <th>id</th>\n",
       "      <th>full_text</th>\n",
       "      <th>is_quote_status</th>\n",
       "      <th>retweet_count</th>\n",
       "      <th>favorite_count</th>\n",
       "      <th>favorited</th>\n",
       "      <th>retweeted</th>\n",
       "      <th>is_retweet</th>\n",
       "      <th>hashtags</th>\n",
       "      <th>urls</th>\n",
       "      <th>user_followers_count</th>\n",
       "      <th>party</th>\n",
       "      <th>tokens</th>\n",
       "    </tr>\n",
       "  </thead>\n",
       "  <tbody>\n",
       "    <tr>\n",
       "      <th>0</th>\n",
       "      <td>2020-10-21 14:48:39+00:00</td>\n",
       "      <td>1318927184111730700</td>\n",
       "      <td>Er på vej i miljøministeriet for at foreslå at...</td>\n",
       "      <td>False</td>\n",
       "      <td>13</td>\n",
       "      <td>47</td>\n",
       "      <td>False</td>\n",
       "      <td>False</td>\n",
       "      <td>False</td>\n",
       "      <td>['dkgreen']</td>\n",
       "      <td>[]</td>\n",
       "      <td>4064</td>\n",
       "      <td>Alternativet</td>\n",
       "      <td>vej</td>\n",
       "    </tr>\n",
       "    <tr>\n",
       "      <th>0</th>\n",
       "      <td>2020-10-21 14:48:39+00:00</td>\n",
       "      <td>1318927184111730700</td>\n",
       "      <td>Er på vej i miljøministeriet for at foreslå at...</td>\n",
       "      <td>False</td>\n",
       "      <td>13</td>\n",
       "      <td>47</td>\n",
       "      <td>False</td>\n",
       "      <td>False</td>\n",
       "      <td>False</td>\n",
       "      <td>['dkgreen']</td>\n",
       "      <td>[]</td>\n",
       "      <td>4064</td>\n",
       "      <td>Alternativet</td>\n",
       "      <td>miljøministeriet</td>\n",
       "    </tr>\n",
       "    <tr>\n",
       "      <th>0</th>\n",
       "      <td>2020-10-21 14:48:39+00:00</td>\n",
       "      <td>1318927184111730700</td>\n",
       "      <td>Er på vej i miljøministeriet for at foreslå at...</td>\n",
       "      <td>False</td>\n",
       "      <td>13</td>\n",
       "      <td>47</td>\n",
       "      <td>False</td>\n",
       "      <td>False</td>\n",
       "      <td>False</td>\n",
       "      <td>['dkgreen']</td>\n",
       "      <td>[]</td>\n",
       "      <td>4064</td>\n",
       "      <td>Alternativet</td>\n",
       "      <td>foreslå</td>\n",
       "    </tr>\n",
       "    <tr>\n",
       "      <th>0</th>\n",
       "      <td>2020-10-21 14:48:39+00:00</td>\n",
       "      <td>1318927184111730700</td>\n",
       "      <td>Er på vej i miljøministeriet for at foreslå at...</td>\n",
       "      <td>False</td>\n",
       "      <td>13</td>\n",
       "      <td>47</td>\n",
       "      <td>False</td>\n",
       "      <td>False</td>\n",
       "      <td>False</td>\n",
       "      <td>['dkgreen']</td>\n",
       "      <td>[]</td>\n",
       "      <td>4064</td>\n",
       "      <td>Alternativet</td>\n",
       "      <td>laver</td>\n",
       "    </tr>\n",
       "    <tr>\n",
       "      <th>0</th>\n",
       "      <td>2020-10-21 14:48:39+00:00</td>\n",
       "      <td>1318927184111730700</td>\n",
       "      <td>Er på vej i miljøministeriet for at foreslå at...</td>\n",
       "      <td>False</td>\n",
       "      <td>13</td>\n",
       "      <td>47</td>\n",
       "      <td>False</td>\n",
       "      <td>False</td>\n",
       "      <td>False</td>\n",
       "      <td>['dkgreen']</td>\n",
       "      <td>[]</td>\n",
       "      <td>4064</td>\n",
       "      <td>Alternativet</td>\n",
       "      <td>biodiversitetsmål</td>\n",
       "    </tr>\n",
       "    <tr>\n",
       "      <th>0</th>\n",
       "      <td>2020-10-21 14:48:39+00:00</td>\n",
       "      <td>1318927184111730700</td>\n",
       "      <td>Er på vej i miljøministeriet for at foreslå at...</td>\n",
       "      <td>False</td>\n",
       "      <td>13</td>\n",
       "      <td>47</td>\n",
       "      <td>False</td>\n",
       "      <td>False</td>\n",
       "      <td>False</td>\n",
       "      <td>['dkgreen']</td>\n",
       "      <td>[]</td>\n",
       "      <td>4064</td>\n",
       "      <td>Alternativet</td>\n",
       "      <td>Danmark</td>\n",
       "    </tr>\n",
       "    <tr>\n",
       "      <th>0</th>\n",
       "      <td>2020-10-21 14:48:39+00:00</td>\n",
       "      <td>1318927184111730700</td>\n",
       "      <td>Er på vej i miljøministeriet for at foreslå at...</td>\n",
       "      <td>False</td>\n",
       "      <td>13</td>\n",
       "      <td>47</td>\n",
       "      <td>False</td>\n",
       "      <td>False</td>\n",
       "      <td>False</td>\n",
       "      <td>['dkgreen']</td>\n",
       "      <td>[]</td>\n",
       "      <td>4064</td>\n",
       "      <td>Alternativet</td>\n",
       "      <td>strengt</td>\n",
       "    </tr>\n",
       "    <tr>\n",
       "      <th>0</th>\n",
       "      <td>2020-10-21 14:48:39+00:00</td>\n",
       "      <td>1318927184111730700</td>\n",
       "      <td>Er på vej i miljøministeriet for at foreslå at...</td>\n",
       "      <td>False</td>\n",
       "      <td>13</td>\n",
       "      <td>47</td>\n",
       "      <td>False</td>\n",
       "      <td>False</td>\n",
       "      <td>False</td>\n",
       "      <td>['dkgreen']</td>\n",
       "      <td>[]</td>\n",
       "      <td>4064</td>\n",
       "      <td>Alternativet</td>\n",
       "      <td>beskyttet</td>\n",
       "    </tr>\n",
       "    <tr>\n",
       "      <th>0</th>\n",
       "      <td>2020-10-21 14:48:39+00:00</td>\n",
       "      <td>1318927184111730700</td>\n",
       "      <td>Er på vej i miljøministeriet for at foreslå at...</td>\n",
       "      <td>False</td>\n",
       "      <td>13</td>\n",
       "      <td>47</td>\n",
       "      <td>False</td>\n",
       "      <td>False</td>\n",
       "      <td>False</td>\n",
       "      <td>['dkgreen']</td>\n",
       "      <td>[]</td>\n",
       "      <td>4064</td>\n",
       "      <td>Alternativet</td>\n",
       "      <td>natur</td>\n",
       "    </tr>\n",
       "    <tr>\n",
       "      <th>0</th>\n",
       "      <td>2020-10-21 14:48:39+00:00</td>\n",
       "      <td>1318927184111730700</td>\n",
       "      <td>Er på vej i miljøministeriet for at foreslå at...</td>\n",
       "      <td>False</td>\n",
       "      <td>13</td>\n",
       "      <td>47</td>\n",
       "      <td>False</td>\n",
       "      <td>False</td>\n",
       "      <td>False</td>\n",
       "      <td>['dkgreen']</td>\n",
       "      <td>[]</td>\n",
       "      <td>4064</td>\n",
       "      <td>Alternativet</td>\n",
       "      <td>lands</td>\n",
       "    </tr>\n",
       "  </tbody>\n",
       "</table>\n",
       "</div>"
      ],
      "text/plain": [
       "                  created_at                   id  \\\n",
       "0  2020-10-21 14:48:39+00:00  1318927184111730700   \n",
       "0  2020-10-21 14:48:39+00:00  1318927184111730700   \n",
       "0  2020-10-21 14:48:39+00:00  1318927184111730700   \n",
       "0  2020-10-21 14:48:39+00:00  1318927184111730700   \n",
       "0  2020-10-21 14:48:39+00:00  1318927184111730700   \n",
       "0  2020-10-21 14:48:39+00:00  1318927184111730700   \n",
       "0  2020-10-21 14:48:39+00:00  1318927184111730700   \n",
       "0  2020-10-21 14:48:39+00:00  1318927184111730700   \n",
       "0  2020-10-21 14:48:39+00:00  1318927184111730700   \n",
       "0  2020-10-21 14:48:39+00:00  1318927184111730700   \n",
       "\n",
       "                                           full_text  is_quote_status  \\\n",
       "0  Er på vej i miljøministeriet for at foreslå at...            False   \n",
       "0  Er på vej i miljøministeriet for at foreslå at...            False   \n",
       "0  Er på vej i miljøministeriet for at foreslå at...            False   \n",
       "0  Er på vej i miljøministeriet for at foreslå at...            False   \n",
       "0  Er på vej i miljøministeriet for at foreslå at...            False   \n",
       "0  Er på vej i miljøministeriet for at foreslå at...            False   \n",
       "0  Er på vej i miljøministeriet for at foreslå at...            False   \n",
       "0  Er på vej i miljøministeriet for at foreslå at...            False   \n",
       "0  Er på vej i miljøministeriet for at foreslå at...            False   \n",
       "0  Er på vej i miljøministeriet for at foreslå at...            False   \n",
       "\n",
       "   retweet_count  favorite_count  favorited  retweeted  is_retweet  \\\n",
       "0             13              47      False      False       False   \n",
       "0             13              47      False      False       False   \n",
       "0             13              47      False      False       False   \n",
       "0             13              47      False      False       False   \n",
       "0             13              47      False      False       False   \n",
       "0             13              47      False      False       False   \n",
       "0             13              47      False      False       False   \n",
       "0             13              47      False      False       False   \n",
       "0             13              47      False      False       False   \n",
       "0             13              47      False      False       False   \n",
       "\n",
       "      hashtags urls  user_followers_count         party             tokens  \n",
       "0  ['dkgreen']   []                  4064  Alternativet                vej  \n",
       "0  ['dkgreen']   []                  4064  Alternativet   miljøministeriet  \n",
       "0  ['dkgreen']   []                  4064  Alternativet            foreslå  \n",
       "0  ['dkgreen']   []                  4064  Alternativet              laver  \n",
       "0  ['dkgreen']   []                  4064  Alternativet  biodiversitetsmål  \n",
       "0  ['dkgreen']   []                  4064  Alternativet            Danmark  \n",
       "0  ['dkgreen']   []                  4064  Alternativet            strengt  \n",
       "0  ['dkgreen']   []                  4064  Alternativet          beskyttet  \n",
       "0  ['dkgreen']   []                  4064  Alternativet              natur  \n",
       "0  ['dkgreen']   []                  4064  Alternativet              lands  "
      ]
     },
     "execution_count": 8,
     "metadata": {},
     "output_type": "execute_result"
    }
   ],
   "source": [
    "tweets_df_tidy = tweets_df.explode('tokens')\n",
    "\n",
    "tweets_df_tidy.head(10)"
   ]
  },
  {
   "cell_type": "markdown",
   "metadata": {},
   "source": [
    "Med data i tidy format, kan vi bruge pandas metoder til at udforske data. \n",
    "\n",
    "Optælling af ord:"
   ]
  },
  {
   "cell_type": "code",
   "execution_count": 9,
   "metadata": {},
   "outputs": [
    {
     "data": {
      "text/plain": [
       "dkpol            1880\n",
       "Det              1055\n",
       "Jeg               514\n",
       "...               506\n",
       "Men               356\n",
       "@alternativet     331\n",
       "når               221\n",
       "godt              215\n",
       "Danmark           204\n",
       "bare              199\n",
       "Name: tokens, dtype: int64"
      ]
     },
     "execution_count": 9,
     "metadata": {},
     "output_type": "execute_result"
    }
   ],
   "source": [
    "tweets_df_tidy['tokens'].value_counts()[0:10]"
   ]
  },
  {
   "cell_type": "markdown",
   "metadata": {},
   "source": [
    "Med et for loop, kan vi også lave optællinger inden for forskellige grupperinger (herunder politisk parti):"
   ]
  },
  {
   "cell_type": "markdown",
   "metadata": {},
   "source": [
    "Vi kan med dette format også nemt finde tweets, der indeholder bestemte ord med `.isin()`:"
   ]
  },
  {
   "cell_type": "code",
   "execution_count": 10,
   "metadata": {},
   "outputs": [
    {
     "data": {
      "text/plain": [
       "Socialistisk Folkeparti         10\n",
       "Enhedslisten                     9\n",
       "Det Konservative Folkeparti      6\n",
       "Dansk Folkeparti                 4\n",
       "Alternativet                     3\n",
       "Radikale Venstre                 3\n",
       "Venstre                          3\n",
       "Liberal Alliance                 2\n",
       "Socialdemokratiet                2\n",
       "Uden for folketingsgrupperne     2\n",
       "Name: party, dtype: int64"
      ]
     },
     "execution_count": 10,
     "metadata": {},
     "output_type": "execute_result"
    }
   ],
   "source": [
    "keywords = ['klima', 'miljø'] # Ord til at søge efter\n",
    "\n",
    "tweets_df_tidy.loc[tweets_df_tidy['tokens'].isin(keywords), 'party'].value_counts() # Optælling af specifikke ord for hvert party"
   ]
  },
  {
   "cell_type": "markdown",
   "metadata": {},
   "source": [
    "Ovenstånde kan også plottes:"
   ]
  },
  {
   "cell_type": "code",
   "execution_count": 11,
   "metadata": {},
   "outputs": [
    {
     "data": {
      "text/plain": [
       "<AxesSubplot:>"
      ]
     },
     "execution_count": 11,
     "metadata": {},
     "output_type": "execute_result"
    },
    {
     "data": {
      "image/png": "[encoded data removed]",
      "text/plain": [
       "<Figure size 1440x864 with 1 Axes>"
      ]
     },
     "metadata": {},
     "output_type": "display_data"
    }
   ],
   "source": [
    "tweets_df_tidy.loc[tweets_df_tidy['tokens'].isin(keywords), 'party'].value_counts().plot.bar()"
   ]
  },
  {
   "cell_type": "markdown",
   "metadata": {},
   "source": [
    "## ØVELSE 4: Tidy text data (reddit data)\n",
    "\n",
    "Du skal nu tokenize alle *kommentarerne* i reddit datasættet (kolonnen `comment_body`)\n",
    "\n",
    "1. Brug `.apply()` til at anvende tokenizer funktion på hele reddit datasættet til at lave en tokens kolonne (det kan være en god ide at teste funktionen med en enkelt kommentar først)\n",
    "2. Brug `.explode()` til at konvertere data til et tidy format\n",
    "3. Brug `.value_counts()` til at optælle tokens\n",
    "\n",
    "**Bonus**\n",
    "\n",
    "- Undersøg, hvor mange gange coronavirus er nævnt (tænkt gerne synonymer med!)"
   ]
  }
 ],
 "metadata": {
  "kernelspec": {
   "display_name": "Python 3 (ipykernel)",
   "language": "python",
   "name": "python3"
  },
  "language_info": {
   "codemirror_mode": {
    "name": "ipython",
    "version": 3
   },
   "file_extension": ".py",
   "mimetype": "text/x-python",
   "name": "python",
   "nbconvert_exporter": "python",
   "pygments_lexer": "ipython3",
   "version": "3.9.7"
  }
 },
 "nbformat": 4,
 "nbformat_minor": 4
}
