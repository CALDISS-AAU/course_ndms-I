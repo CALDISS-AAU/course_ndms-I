{
 "cells": [
  {
   "cell_type": "markdown",
   "metadata": {},
   "source": [
    "# Introduktion til sentiment analysis\n",
    "\n",
    "## Hvad er sentiment analysis?\n",
    "\n",
    "> \"[...] the field of study that analyzes people’s opinions, sentiments, appraisals, attitudes, and emotions toward entities and their attributes expressed in written text\" - Liu 2015\n",
    "\n",
    "**Formål:** Identificere positive og/eller negative holdninger/følelser i tekst samt hvad, disse holdninger/følelser er rettet imod.\n",
    "\n",
    "**Eksempler på brug:**\n",
    "\n",
    "- Undersøge sociale bevægelser på internettet\n",
    "- Markedsprædiktion\n",
    "- Policy-evaluering\n",
    "\n",
    "**Relateret:** opinion mining, opinion analysis, opinion extraction, sentiment mining, subjectivity analysis, affect analysis, emotion analysis, review mining\n",
    "\n",
    "## Sentiment analysis - Tre overordnede teknikker\n",
    "\n",
    "**A: Ordbogs- og regelbaseret sentiment analysis (\"lexicon and rule-based\")**\n",
    "\n",
    "- Model der grundlæggende bygger på et opslagsværk over, hvordan et ord er følelsesmæssigt ladet (fx \"hader\" -> negativt, \"elsker\" -> positivt)\n",
    "- Kan evt. udbygges med regler sådan, at der tages højde for ord i kontekst (fx \"hader ikke\" -> neutralt)\n",
    "- Fordele: inspicérbar, alsidigt\n",
    "- Ulemper: tager i meget begrænset omfang højde for kontekst\n",
    "\n",
    "**B: Præ-trænede sentiment classifiers**\n",
    "\n",
    "- Model der er trænet på eksisterende tekststykker, som er tagget efter holdningen/følelsen udtrykt i tekststykket (fx positivt, negativt, neutralt)\n",
    "- Gør brug af machine learning i en eller anden omfang (random forests, naive bayes, neural networks)\n",
    "- Fordele: tager i højere grad højde for kontekst, (ofte) stort træningsdatasæt\n",
    "- Ulemper: vanskelig at inspicere\n",
    "\n",
    "**C: Selv-trænede sentiment classifiers**\n",
    "\n",
    "- Model der trænes på taggede tekststykker i det materiale, som skal undersøges\n",
    "- Gør brug af analytikerens egen kendskab til området og materialet til at udlede sentiment\n",
    "- Fordele: høj kontekstnøjagtighed, til dels inspicerbar\n",
    "- Ulemper: (sandsynligvis) lille træningsdatasæt, kræver manuel tagging\n",
    "\n",
    "**Generelle svagheder**\n",
    "\n",
    "- Kontekst: Modeller er for det meste trænet på data, der deler en eller anden kontekst (tid, genre, sprog)\n",
    "- Ironi/sarkasme: Vanskeligt at træne modeller til at genkende dette ud fra tekst alene"
   ]
  },
  {
   "cell_type": "markdown",
   "metadata": {},
   "source": [
    "## Sentiment analysis i Python 1: Data\n",
    "\n",
    "Vi starter med at importere de datasæt, som vi skal arbejde med i dag."
   ]
  },
  {
   "cell_type": "code",
   "execution_count": null,
   "metadata": {},
   "outputs": [],
   "source": [
    "import pandas as pd"
   ]
  },
  {
   "cell_type": "code",
   "execution_count": null,
   "metadata": {},
   "outputs": [],
   "source": [
    "tweetdata_url = \"https://raw.githubusercontent.com/CALDISS-AAU/course_ndms-I/master/datasets/poltweets_sample.csv\"\n",
    "tweets_df = pd.read_csv(tweetdata_url)\n",
    "\n",
    "redditdata_url = \"https://raw.githubusercontent.com/CALDISS-AAU/course_ndms-I/master/datasets/reddit_rdenmark-comments_01032021-08032021_long.csv\"\n",
    "reddit_df = pd.read_csv(redditdata_url)"
   ]
  },
  {
   "cell_type": "markdown",
   "metadata": {},
   "source": [
    "**Datasæt 1: Danske politikere på Twitter**\n",
    "\n",
    "Det første datasæt er en samling af tweets fra danske folketingspolitikere. Der er tweets fra perioden 1/1/2015 - 27/1/2021. Data er et sample bestående af 500 tilfædige tweets per danske parti i den periode. Personlige oplysninger i form af brugernavn, placering og brugerbeskrivelser er fjernet fra data.\n",
    "\n",
    "Dette datasæt bliver brugt i de fleste eksempler i løbet af dagens session."
   ]
  },
  {
   "cell_type": "code",
   "execution_count": null,
   "metadata": {},
   "outputs": [],
   "source": [
    "tweets_df.head()"
   ]
  },
  {
   "cell_type": "markdown",
   "metadata": {},
   "source": [
    "**Datasæt 2: Kommentarer fra Reddit (r/denmark)**\n",
    "\n",
    "Det andet datasæt er et udtræk af Reddit-opslag med kommentarer fra subreddit [r/denmark](https://www.reddit.com/r/Denmark/). Udtrækket består af opslag fra 1/3/2021-8/3/2021 med mere end 15 kommentarer på udtrækstidspunktet (8/3/2021).\n",
    "\n",
    "Dette datasæt bliver brugt i dagens øvelser."
   ]
  },
  {
   "cell_type": "code",
   "execution_count": null,
   "metadata": {},
   "outputs": [],
   "source": [
    "reddit_df.head()"
   ]
  },
  {
   "cell_type": "markdown",
   "metadata": {},
   "source": [
    "## Sentiment analysis i Python 1: DaCy\n",
    "\n",
    "En implementation af sentiment analysis i Python er gennem DaCy: https://centre-for-humanities-computing.github.io/DaCy/\n",
    "\n",
    "DaCy er en komplet dansk sprogmodel-løsning baseret på spaCy. DaCy indeholder en såkaldt \"wrapper\" til `senda`, som er en sentiment analyzer baseret på en *transformer-model (neural netværk)*.\n",
    "\n",
    "`senda`-modellen er udviklet af EkstraBladet og er trænet på twitter-data: https://github.com/ebanalyse/senda\n",
    "\n",
    "### Download og indlæsning\n",
    "\n",
    "DaCy fungerer mere eller mindre præcist ligesom spaCy. For at bruge den, gør vi følgende:\n",
    "\n",
    "1. Indlæser DaCy\n",
    "2. Downloader sprogmodel\n",
    "3. Indlæser sprogmodel\n",
    "4. Tilføjer senda til modellens pipeline"
   ]
  },
  {
   "cell_type": "code",
   "execution_count": null,
   "metadata": {},
   "outputs": [],
   "source": [
    "import dacy\n",
    "from dacy.sentiment import add_senda"
   ]
  },
  {
   "cell_type": "code",
   "execution_count": null,
   "metadata": {},
   "outputs": [],
   "source": [
    "nlp = dacy.load(\"da_dacy_medium_tft-0.0.0\")\n",
    "add_senda(nlp, force_extension = True)"
   ]
  },
  {
   "cell_type": "markdown",
   "metadata": {},
   "source": [
    "### Brug af sentiment analyzer\n",
    "\n",
    "Sentiment analyzeren bruges på et \"doc\" objekt (et spaCy dokument - mere om dette senere). Vi gør følgende:\n",
    "\n",
    "- Danner spaCy dokument (med sprogmodel fra DaCy)\n",
    "- Undersøger sentiment (under attribut `._.polarity` og `._.polarity_prop`)"
   ]
  },
  {
   "cell_type": "code",
   "execution_count": null,
   "metadata": {},
   "outputs": [],
   "source": [
    "doc = nlp(\"Den her kaffe er den værste gang tynde pis\")\n",
    "\n",
    "print(doc.text,\n",
    "      \"\\n\",\n",
    "      doc._.polarity, \n",
    "      \"\\n\",\n",
    "      doc._.polarity_prop)"
   ]
  },
  {
   "cell_type": "markdown",
   "metadata": {},
   "source": [
    "### Sentiment analyzer på dataframe\n",
    "\n",
    "Ved brug af en kort wrapper-funktion og `.apply` kan sentiment analysis udføres på tekststykker i en dataframe. Vi gør følgende:\n",
    "\n",
    "1. Danner wrapper-funktion til sentiment-analyse\n",
    "2. Danner subset af twitter-data (Folketingsmedlemmers tweets)\n",
    "3. Bruger funktion med apply"
   ]
  },
  {
   "cell_type": "code",
   "execution_count": null,
   "metadata": {},
   "outputs": [],
   "source": [
    "tweets_df.head()"
   ]
  },
  {
   "cell_type": "code",
   "execution_count": null,
   "metadata": {},
   "outputs": [],
   "source": [
    "def simple_sentiment(text):\n",
    "    doc = nlp(text)\n",
    "    polarity = doc._.polarity\n",
    "    \n",
    "    return(polarity)"
   ]
  },
  {
   "cell_type": "code",
   "execution_count": null,
   "metadata": {},
   "outputs": [],
   "source": [
    "tweets_alternativet = tweets_df.loc[tweets_df['party'] == 'Alternativet', :]\n",
    "tweets_alternativet['polarity'] = tweets_alternativet['full_text'].apply(simple_sentiment)\n",
    "\n",
    "tweets_alternativet.head()"
   ]
  },
  {
   "cell_type": "code",
   "execution_count": null,
   "metadata": {},
   "outputs": [],
   "source": [
    "tweets_alternativet['polarity'].value_counts()"
   ]
  },
  {
   "cell_type": "markdown",
   "metadata": {},
   "source": [
    "## Sentiment analysis  i Python 2: TextBlob\n",
    "\n",
    "En implementation af sentiment analysis i Python er med TextBlob: https://textblob.readthedocs.io/en/\n",
    "\n",
    "TextBlob er en sentiment analyzer model *baseret på naive bayes (machine learning)*,\n",
    "\n",
    "**Bemærk:** TextBlob egner sig primært til engelsk."
   ]
  },
  {
   "cell_type": "markdown",
   "metadata": {},
   "source": [
    "### Indlæsning og brug\n",
    "\n",
    "TextBlob fungerer på mange måder ligesom spaCy. Man omdanner tekststykket til et \"blob\" objekt, der indeholder forskellige attributter - herunder sentiment. Vi gør følgende\n",
    "\n",
    "1. Indlæser TextBlob\n",
    "2. Danne \"blob\" objekt ud fra tekststykke\n",
    "3. Undersøge sentiment (under attribut `sentiment`)"
   ]
  },
  {
   "cell_type": "code",
   "execution_count": null,
   "metadata": {},
   "outputs": [],
   "source": [
    "from textblob import TextBlob\n",
    "\n",
    "blob = TextBlob(\"This coffee is just absolutely horrible. I hate it.\")\n",
    "print(blob.sentiment)"
   ]
  },
  {
   "cell_type": "markdown",
   "metadata": {},
   "source": [
    "Sentiment-scoren ses af \"polarity = -0.9\". Scoren går fra -1 til 1."
   ]
  },
  {
   "cell_type": "markdown",
   "metadata": {},
   "source": [
    "### TextBlob i funktion\n",
    "\n",
    "Ovenstående kan nemt konverteres til funktion, som fx kunne bruges i en dataframe med `.apply`. \n",
    "\n",
    "Sentiment-outputtet fra TextBlob kan konverteres til en tuple, hvor den første værdi er polarity-scoren."
   ]
  },
  {
   "cell_type": "code",
   "execution_count": null,
   "metadata": {},
   "outputs": [],
   "source": [
    "def simple_polarity(text):\n",
    "    blob = TextBlob(text)\n",
    "    polarity = tuple(blob.sentiment)[0]\n",
    "    \n",
    "    return(polarity)"
   ]
  },
  {
   "cell_type": "code",
   "execution_count": null,
   "metadata": {},
   "outputs": [],
   "source": [
    "simple_polarity(\"What an absolutely amazing weekend!\")"
   ]
  },
  {
   "cell_type": "markdown",
   "metadata": {},
   "source": [
    "## ØVELSE 1: Sentiment Analysis\n",
    "\n",
    "Foretag sentiment analysis enten på eget data eller på r/Denmark data: [reddit_rdenmark-comments_01032021-08032021_long.csv](https://raw.githubusercontent.com/CALDISS-AAU/course_ddf/master/datasets/reddit_rdenmark-comments_01032021-08032021_long.csv)\n",
    "\n",
    "(DaCy/senda for dansk, TextBlob for engelsk)\n",
    "\n",
    "**Bemærk:** Sentiment analysis med især DaCy kan tage lang tid på større datasæt. I kan med fordel arbejde med et subset i denne øvelse, for at teste funktionerne af.\n",
    "\n",
    "1. Anvend sentiment analysis på enkelte tekststykker\n",
    "2. Anvend sentiment analysis på et subset (enten med egne betingelser eller med [`pd.sample`](https://pandas.pydata.org/pandas-docs/stable/reference/api/pandas.DataFrame.sample.html))\n",
    "3. Foretag opsummering af subsettet, der giver indikation af, hvorvidt tonen i materialet er overvejende positiv eller negativ"
   ]
  }
 ],
 "metadata": {
  "kernelspec": {
   "display_name": "Python 3 (ipykernel)",
   "language": "python",
   "name": "python3"
  },
  "language_info": {
   "codemirror_mode": {
    "name": "ipython",
    "version": 3
   },
   "file_extension": ".py",
   "mimetype": "text/x-python",
   "name": "python",
   "nbconvert_exporter": "python",
   "pygments_lexer": "ipython3",
   "version": "3.7.9"
  }
 },
 "nbformat": 4,
 "nbformat_minor": 4
}
