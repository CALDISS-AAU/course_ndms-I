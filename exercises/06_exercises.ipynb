{
 "cells": [
  {
   "cell_type": "markdown",
   "id": "2aedb98e-37a2-40b4-aed3-3feaa40bef4d",
   "metadata": {
    "slideshow": {
     "slide_type": "slide"
    },
    "tags": []
   },
   "source": [
    "## ØVELSE 1: Sentiment Analysis\n",
    "\n",
    "Foretag sentiment analysis enten på eget data eller på r/Denmark data: [reddit_rdenmark-comments_01032021-08032021_long.csv](https://raw.githubusercontent.com/CALDISS-AAU/course_ddf/master/datasets/reddit_rdenmark-comments_01032021-08032021_long.csv)\n",
    "\n",
    "(DaCy/senda for dansk, TextBlob for engelsk)\n",
    "\n",
    "**Bemærk:** Sentiment analysis med især DaCy kan tage lang tid på større datasæt. I kan med fordel arbejde med et subset i denne øvelse, for at teste funktionerne af.\n",
    "\n",
    "1. Anvend sentiment analysis på enkelte tekststykker\n",
    "2. Anvend sentiment analysis på et subset (enten med egne betingelser eller med [`pd.sample`](https://pandas.pydata.org/pandas-docs/stable/reference/api/pandas.DataFrame.sample.html))\n",
    "3. Foretag opsummering af subsettet, der giver indikation af, hvorvidt tonen i materialet er overvejende positiv eller negativ"
   ]
  },
  {
   "cell_type": "markdown",
   "id": "2026e1ec-c6fa-4d85-bfec-9c4c434935f2",
   "metadata": {
    "slideshow": {
     "slide_type": "slide"
    },
    "tags": []
   },
   "source": [
    "## ØVELSE 2: Simpel teksthåndtering\n",
    "\n",
    "I øvelserne i dag skal i arbejde med et datasæt bestående af kommentarer fra reddit. Alle kommentarer er taget fra posts på r/denmark (reddit.com/r/denmark) fra 1/3-8/3 2021.\n",
    "\n",
    "1. Indlæs data som en pandas data frame\n",
    "    - Link til data: https://raw.githubusercontent.com/CALDISS-AAU/course_ndms-I/master/datasets/reddit_rdenmark-comments_01032021-08032021_long.csv\n",
    "2. Dan et subset bestående af alle kommentarer, der nævner \"menneskerettigheder\" (kommentarteksten er i kolonnen `comment_body`). Hvor mange kommentarer er der?\n",
    "\n",
    "**Bonus**\n",
    "- Kan du udregne gennemsnitsscore for de kommentarer, der nævner menneskerettigheder? (score fremgår af kolonnen `comment_score`)"
   ]
  },
  {
   "cell_type": "markdown",
   "id": "0d0b6faf-159a-4483-bcad-e5b45ebf3e74",
   "metadata": {
    "slideshow": {
     "slide_type": "slide"
    },
    "tags": []
   },
   "source": [
    "## ØVELSE 3: Brug af sprogmodel\n",
    "\n",
    "1. Udvælg en enkelt kommentar fra reddit datasættet. Kommentarteksten findes i kolonnen \"comment_body\" (fx `comment = reddit_df.loc[200, 'comment_body']`)\n",
    "\n",
    "2. Analysér kommentaren med spaCy sprogmodellen (omdan kommentaren til et `doc` objekt). Husk at installér og indlæs sprogmodellen først:\n",
    "\n",
    "```python\n",
    "import spacy\n",
    "\n",
    "!python -m spacy download da_core_news_sm\n",
    "nlp = spacy.load(\"da_core_news_sm\")\n",
    "```\n",
    "\n",
    "3. Er der named entities i kommentaren? (`doc.ents`) I så fald hvilke?\n",
    "\n",
    "**Bonus**\n",
    "\n",
    "- Lav en liste, der kun indeholder ord fra kommentaren med ordklassen \"NOUN\""
   ]
  },
  {
   "cell_type": "markdown",
   "id": "c1b2ca26-0b9a-4e22-b997-e4bbe169192a",
   "metadata": {
    "slideshow": {
     "slide_type": "slide"
    },
    "tags": []
   },
   "source": [
    "## ØVELSE 4: Tidy text data (reddit data)\n",
    "\n",
    "Du skal nu tokenize alle *kommentarerne* i reddit datasættet (kolonnen `comment_body`)\n",
    "\n",
    "1. Brug `.apply()` til at anvende tokenizer funktion på hele reddit datasættet til at lave en tokens kolonne (det kan være en god ide at teste funktionen med en enkelt kommentar først)\n",
    "2. Brug `.explode()` til at konvertere data til et tidy format\n",
    "3. Brug `.value_counts()` til at optælle tokens\n",
    "\n",
    "**Bonus**\n",
    "\n",
    "- Undersøg, hvor mange gange coronavirus er nævnt (tænkt gerne synonymer med!)"
   ]
  }
 ],
 "metadata": {
  "kernelspec": {
   "display_name": "Python 3 (ipykernel)",
   "language": "python",
   "name": "python3"
  },
  "language_info": {
   "codemirror_mode": {
    "name": "ipython",
    "version": 3
   },
   "file_extension": ".py",
   "mimetype": "text/x-python",
   "name": "python",
   "nbconvert_exporter": "python",
   "pygments_lexer": "ipython3",
   "version": "3.9.7"
  }
 },
 "nbformat": 4,
 "nbformat_minor": 5
}
