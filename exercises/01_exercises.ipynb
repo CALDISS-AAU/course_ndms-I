{
 "cells": [
  {
   "cell_type": "markdown",
   "metadata": {
    "slideshow": {
     "slide_type": "slide"
    }
   },
   "source": [
    "# ØVELSE 0: KAN PYTHON NOGET?\n",
    "\n",
    "- Lav en notebook til denne lektion\n",
    "- Lav en kodecelle\n",
    "- Skriv kommandoen `print(\"hello there\")` ind i cellen\n",
    "- Kør cellen"
   ]
  },
  {
   "cell_type": "markdown",
   "metadata": {
    "slideshow": {
     "slide_type": "slide"
    }
   },
   "source": [
    "# ØVELSE 1: INDLÆS DATA OG INSPICER VARIABLE\n",
    "\n",
    "1. Indlæs datasættet `ESS2018DK_subset.csv` med `pd.read_csv()`, hvis du ikke allerede har gjort det.\n",
    "\n",
    "    - Link til data: https://github.com/CALDISS-AAU/course_ndms-I/raw/master/datasets/ESS2018DK_subset.csv\n",
    "    \n",
    "2. Tjek at datasættet er indlæst korrekt med `.head()`\n",
    "3. Brug `.value_counts()` til at finde ud af, hvor mange af respondenterne, der har \"Lang videregående uddannelse\" som deres højeste fuldførte uddannelse."
   ]
  },
  {
   "cell_type": "markdown",
   "metadata": {
    "slideshow": {
     "slide_type": "slide"
    }
   },
   "source": [
    "# ØVELSE 2: VISUALISERING AF DATA\n",
    "\n",
    "1. Dan et histogram over variablen `grspnum` (selvrapporteret gennemsnitlig månedlige indkomst)\n",
    "2. Dan et søjlediagram over optællinger over `edlvddk` (højest opnåede uddannelsesniveau)"
   ]
  },
  {
   "cell_type": "markdown",
   "metadata": {
    "slideshow": {
     "slide_type": "slide"
    }
   },
   "source": [
    "# ØVELSE 3: Deskriptive mål\n",
    "\n",
    "1. Brug `.describe()` eller passende metoder til at finde ud af følgende:\n",
    "\n",
    "- Hvor gammel er den yngste person i datasættet?\n",
    "- Hvor gammel er den ældste person i datasættet?\n",
    "- Hvad er gennemsnitsalderen i datasættet?\n",
    "\n",
    "- *Husk at datasættet er fra 2018.*\n",
    "\n",
    "\n",
    "2. Brug `.groupby()` til at finde ud af, om kvinderne eller mændende i datasættet har flest års uddannelse i gennemsnit.\n"
   ]
  },
  {
   "cell_type": "markdown",
   "metadata": {
    "slideshow": {
     "slide_type": "slide"
    }
   },
   "source": [
    "# ØVELSE 4: VISUALISER GRUPPERINGER\n",
    "\n",
    "Dan en visualisering, der viser det gennemsnitlige antal arbejdstimer om ugen for mænd og kvinder i datasættet."
   ]
  },
  {
   "cell_type": "markdown",
   "metadata": {
    "slideshow": {
     "slide_type": "slide"
    }
   },
   "source": [
    "# ØVELSE 5: SUBSETTING\n",
    "\n",
    "*Dan et subset bestående af alle kvinder med en månedlig indkomst over 40.000 (`grspnum`).*"
   ]
  },
  {
   "cell_type": "markdown",
   "metadata": {
    "slideshow": {
     "slide_type": "slide"
    }
   },
   "source": [
    "# ØVELSE 6: NYE VARIABLE OG REKODNING\n",
    "\n",
    "1. Tilføj en aldersvariabel til ESS2014DK datasættet (husk at data er fra 2018)\n",
    " \n",
    "2. Dan en kategorisk variabel, der inddeler respondenterne i to lige store kategorier efter antal arbejdstimer om ugen (`wkhtot`)"
   ]
  }
 ],
 "metadata": {
  "kernelspec": {
   "display_name": "Python 3",
   "language": "python",
   "name": "python3"
  },
  "language_info": {
   "codemirror_mode": {
    "name": "ipython",
    "version": 3
   },
   "file_extension": ".py",
   "mimetype": "text/x-python",
   "name": "python",
   "nbconvert_exporter": "python",
   "pygments_lexer": "ipython3",
   "version": "3.8.3"
  },
  "toc-autonumbering": false,
  "toc-showcode": false,
  "toc-showtags": false
 },
 "nbformat": 4,
 "nbformat_minor": 5
}
