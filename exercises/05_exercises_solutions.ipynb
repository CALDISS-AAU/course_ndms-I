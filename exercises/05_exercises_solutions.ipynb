{
 "cells": [
  {
   "cell_type": "code",
   "execution_count": 2,
   "metadata": {},
   "outputs": [
    {
     "name": "stderr",
     "output_type": "stream",
     "text": [
      "2021-03-12 17:18:56 INFO: Loading these models for language: da (Danish):\n",
      "=======================\n",
      "| Processor | Package |\n",
      "-----------------------\n",
      "| tokenize  | ddt     |\n",
      "| pos       | ddt     |\n",
      "| lemma     | ddt     |\n",
      "=======================\n",
      "\n",
      "2021-03-12 17:18:56 INFO: Use device: cpu\n",
      "2021-03-12 17:18:56 INFO: Loading: tokenize\n",
      "2021-03-12 17:18:56 INFO: Loading: pos\n",
      "2021-03-12 17:18:56 INFO: Loading: lemma\n",
      "2021-03-12 17:18:56 INFO: Done loading processors!\n"
     ]
    }
   ],
   "source": [
    "# Import af pakker\n",
    "\n",
    "import ast\n",
    "import pandas as pd\n",
    "from pprint import pprint\n",
    "import matplotlib.pyplot as plt\n",
    "import seaborn as sns\n",
    "import stanza\n",
    "import nltk\n",
    "from nltk.corpus import stopwords\n",
    "import gensim\n",
    "from gensim import corpora\n",
    "from gensim.models.ldamodel import LdaModel\n",
    "\n",
    "# Download ressourcer\n",
    "#nltk.download('stopwords')\n",
    "#stanza.download('da')\n",
    "\n",
    "# Sæt visualiseringsindstillinger\n",
    "%matplotlib inline\n",
    "sns.set(rc={'figure.figsize':(20,10)})\n",
    "\n",
    "# Sæt sprogmodel\n",
    "nlp = stanza.Pipeline('da', processors = 'tokenize, pos, lemma')"
   ]
  },
  {
   "cell_type": "markdown",
   "metadata": {},
   "source": [
    "# ØVELSE 1: Simpel teksthåndtering\n",
    "\n",
    "I øvelserne i dag skal i arbejde med et datasæt bestående af kommentarer fra reddit. Alle kommentarer er taget fra posts på r/denmark (reddit.com/r/denmark) fra 1/3-8/3 2021.\n",
    "\n",
    "1. Indlæs data som en pandas data frame\n",
    "    - Link til data: https://raw.githubusercontent.com/CALDISS-AAU/course_ndms-I/master/datasets/reddit_rdenmark-comments_01032021-08032021_long.csv\n",
    "2. Dan et subset bestående af alle kommentarer, der nævner \"menneskerettigheder\" (kommentarteksten er i kolonnen `comment_body`). Hvor mange kommentarer er der?\n",
    "\n",
    "**Bonus**\n",
    "- Kan du udregne gennemsnitsscore for de kommentarer, der nævner menneskerettigheder? (score fremgår af kolonnen `comment_score`)"
   ]
  },
  {
   "cell_type": "code",
   "execution_count": 9,
   "metadata": {},
   "outputs": [
    {
     "name": "stdout",
     "output_type": "stream",
     "text": [
      "11\n",
      "35.45454545454545\n"
     ]
    }
   ],
   "source": [
    "# Indlæs data\n",
    "redditdata_url = \"https://raw.githubusercontent.com/CALDISS-AAU/course_ndms-I/master/datasets/reddit_rdenmark-comments_01032021-08032021_long.csv\"\n",
    "reddit_df = pd.read_csv(redditdata_url)\n",
    "\n",
    "# Dan subset\n",
    "reddit_hr = reddit_df.loc[reddit_df['comment_body'].str.contains(\"menneskerettigheder\")]\n",
    "\n",
    "# Antal kommentarer (svarer til antal rækker i subset)\n",
    "print(reddit_hr.shape[0])\n",
    "\n",
    "# Gennemsnitsscore\n",
    "print(reddit_hr['comment_score'].mean())"
   ]
  },
  {
   "cell_type": "markdown",
   "metadata": {},
   "source": [
    "# ØVELSE 2: Tokenization\n",
    "\n",
    "Prøv at undersøge tekstindholdet af et af opslagene i redditdata: `post = reddit_df.loc[503, 'post_selftext']`\n",
    "\n",
    "1. Tokenize opslaget - enten med en funktion eller trin for trin\n",
    "2. Lav en ordoptælling ved at konvertere jeres tokens til en pandas series og bruge `.value_counts()`"
   ]
  },
  {
   "cell_type": "code",
   "execution_count": 10,
   "metadata": {},
   "outputs": [
    {
     "name": "stdout",
     "output_type": "stream",
     "text": [
      "Til mods: emnet er relevant for subben, fordi danmark vil være påvirket af en verdenskrig, og det kunne være interresant med nogle diskussioner, om noget der har et meget bredt perspektiv. \n",
      "\n",
      "Indledning: Jeg læste for nyligt nogle tweets fra verdensledere og CEO's. Derudover har jeg researchet lidt om AI, så jeg er selvfølgelig ekspert nu /s. \n",
      "\n",
      "Nej, men det er ment som et seriøst debatindlæg, jeg siger ikke at følgende er den endegyldige sandhed, det er et debatindlæg, fordi jeg ved subben er fyldt til randen med IT-folk og politisk interreserede. Verdenssituationen er lige nu følgende: \n",
      "\n",
      "Efter en altødelæggende 2. verdenskrig, hvor Hitler ønskede at udvide sit 3. rige på bekostning af nabolandende, indstillede der sig en ligevægt efterfølgende, hvor landende var træt af krig, og hvor teknologien var nået så langt, at udsigten til en 3. verdenskrig kunne betyde enorme ødelæggelser som aldrig set før. Vi blev afhængige af hinanden økonomisk, og der blev oprettet konventioner og man lærte af fortidens fejl (hvilket blandt andet var meget unfair vilkår for krigens taber, som man så det efter 1. verdenskrig) Krige blev nu bekæmpet på en anden mere indirekte måde, bl.a i proxy-lande, og med overvågning og derudover ved kulturelt at påvirke verdenen i den retning man mente var den rigtige. \n",
      "\n",
      "Men menneskelig psykologi har ikke ændret sig, Hitler/Pinky and the Brain mentaliteten med at man vil eje alt og bestemme over alt og alle lever i bedste velgående. I dag er det bare langt sværere at overtage herredømmet, fordi landende holder hinanden i skak med avanceret teknologi og intelligens agencies der har fingrene i så meget data som de kan. Vi er derudover økonomisk afhængige, og der er nok bomber til at udslette alt og alle flere gange, så incitamentet er ikke så stort som vi har set før. \n",
      "\n",
      "Men hvis der nu fandtes en magisk knap 'overtag verdensherredømmet' hvor længe tror i så der ville gå før en eller anden magtliderlig despot trykkede på den? \n",
      "\n",
      "Den magiske knap er under udvikling fra de kvikkeste af os, der arbejder på højtryk dag ud og dag ind; kunstig intelligens. \n",
      "\n",
      "Det, som det kræver at overtage en civilisation, er noget vi har set utallige gange i historien; overlegen teknologi. Det hjælper på det, hvis ens strategi desuden er gennemtænkt. \n",
      "\n",
      " AI/kunstig intelligens har potentialet til at overrumple samtlige modstandere, under forudsætning af, at den AI man har udviklet, er stukket helt af fra konkurrentens, således at man totalt kan stoppe fjendes våben før de overhovedet har opfattet hvad der foregår. Det lyder vildt, men der er mig bekendt nærmest uendelig stort potentiale i AI, der ville kunne innovere, beregne, og overvåge langt ud over hvad den nuværende teknologi tillader. Det unikke ved AI er jo, at den kan lære sig selv nye ting, hvilket kan accelerere udviklingen, så den vil overstige konkurrentens, der vil ligne en chimpanse i sammenligning.  Med en super AI ville man på den måde kunne man undgå den totale destruktion i en 3. verdenskrig, og overtage planeten uden for meget bøvl. Dette er under forudsætning af, at en given superintelligent AI er under menneskelig kontrol. Et helt andet scenarie, er naturligvis med en selvbevidst AI som vi alle kender og har hørt om, men det er en anden snak. \n",
      "\n",
      "Hvad siger i?\n",
      "\n",
      " Jeg siger, at teknologien er stukket helt af fra hvad vi mennesker kan håndtere, vi har stadig alle de fejl og mangler, der har ledt til millioner af dødsfald, krig, ødelæggelse m.v. igennem historien. Der har altid været et kapløb om hvem der havde de bedste våben, de bedste ressourcer, de bedste allierede.\n",
      "\n",
      "Det nye er, at det næste våben der er under udvikling, har potentiale til at skabe et verdensherredømme hvis lige aldrig er set mage, og med den udvikling vi har set de sidste 100 år, forekommer det sandsynligt, at dette århundrede, bliver det sidste for størstedelen af os. For når man har kontrol over planeten, er der ingen grund til at have pøblen rendende og forurene (set med kyniske despotiske øjne).\n"
     ]
    }
   ],
   "source": [
    "# Inspicer opslag\n",
    "post = reddit_df.loc[503, 'post_selftext']\n",
    "print(post)"
   ]
  },
  {
   "cell_type": "code",
   "execution_count": 27,
   "metadata": {},
   "outputs": [],
   "source": [
    "# Tokenizer funktion (med nltk stopwords)\n",
    "from nltk.corpus import stopwords\n",
    "\n",
    "def tokenizer_basic(text):\n",
    "    punct_list = [',', '-','.','?','!', ')']\n",
    "    stop_words = list(stopwords.words('danish'))\n",
    "\n",
    "    for punct in punct_list:\n",
    "            text = text.replace(punct, \"\")\n",
    "    \n",
    "    words = text.lower().split(\" \")\n",
    "\n",
    "    tokens = []\n",
    "\n",
    "    for word in words:\n",
    "        if word not in stop_words:\n",
    "            tokens.append(word)\n",
    "\n",
    "    tokens = list(filter(None, tokens))\n",
    "\n",
    "    return(tokens)"
   ]
  },
  {
   "cell_type": "code",
   "execution_count": 28,
   "metadata": {},
   "outputs": [
    {
     "name": "stdout",
     "output_type": "stream",
     "text": [
      "['mods:', 'emnet', 'relevant', 'subben', 'fordi', 'danmark', 'påvirket', 'verdenskrig', 'interresant', 'diskussioner', 'bredt', 'perspektiv', '\\n\\nindledning:', 'læste', 'nyligt', 'tweets', 'verdensledere', \"ceo's\", 'derudover', 'researchet', 'lidt', 'ai', 'så', 'selvfølgelig', 'ekspert', '/s', '\\n\\nnej', 'ment', 'seriøst', 'debatindlæg', 'siger', 'følgende', 'endegyldige', 'sandhed', 'debatindlæg', 'fordi', 'ved', 'subben', 'fyldt', 'randen', 'itfolk', 'politisk', 'interreserede', 'verdenssituationen', 'lige', 'følgende:', '\\n\\nefter', 'altødelæggende', '2', 'verdenskrig', 'hitler', 'ønskede', 'udvide', '3', 'rige', 'bekostning', 'nabolandende', 'indstillede', 'ligevægt', 'efterfølgende', 'landende', 'træt', 'krig', 'teknologien', 'nået', 'så', 'langt', 'udsigten', '3', 'verdenskrig', 'betyde', 'enorme', 'ødelæggelser', 'aldrig', 'set', 'før', 'afhængige', 'hinanden', 'økonomisk', 'oprettet', 'konventioner', 'lærte', 'fortidens', 'fejl', '(hvilket', 'blandt', 'andet', 'unfair', 'vilkår', 'krigens', 'taber', 'så', '1', 'verdenskrig', 'krige', 'bekæmpet', 'mere', 'indirekte', 'måde', 'bla', 'proxylande', 'overvågning', 'derudover', 'ved', 'kulturelt', 'påvirke', 'verdenen', 'retning', 'mente', 'rigtige', '\\n\\nmen', 'menneskelig', 'psykologi', 'ændret', 'hitler/pinky', 'and', 'the', 'brain', 'mentaliteten', 'eje', 'bestemme', 'lever', 'bedste', 'velgående', 'dag', 'bare', 'langt', 'sværere', 'overtage', 'herredømmet', 'fordi', 'landende', 'holder', 'hinanden', 'skak', 'avanceret', 'teknologi', 'intelligens', 'agencies', 'fingrene', 'så', 'data', 'kan', 'derudover', 'økonomisk', 'afhængige', 'nok', 'bomber', 'udslette', 'flere', 'gange', 'så', 'incitamentet', 'så', 'stort', 'set', 'før', '\\n\\nmen', 'fandtes', 'magisk', 'knap', \"'overtag\", \"verdensherredømmet'\", 'længe', 'tror', 'så', 'gå', 'før', 'magtliderlig', 'despot', 'trykkede', '\\n\\nden', 'magiske', 'knap', 'udvikling', 'kvikkeste', 'arbejder', 'højtryk', 'dag', 'dag', 'ind;', 'kunstig', 'intelligens', '\\n\\ndet', 'kræver', 'overtage', 'civilisation', 'set', 'utallige', 'gange', 'historien;', 'overlegen', 'teknologi', 'hjælper', 'ens', 'strategi', 'desuden', 'gennemtænkt', '\\n\\n', 'ai/kunstig', 'intelligens', 'potentialet', 'overrumple', 'samtlige', 'modstandere', 'forudsætning', 'ai', 'udviklet', 'stukket', 'helt', 'konkurrentens', 'således', 'totalt', 'kan', 'stoppe', 'fjendes', 'våben', 'før', 'overhovedet', 'opfattet', 'foregår', 'lyder', 'vildt', 'bekendt', 'nærmest', 'uendelig', 'stort', 'potentiale', 'ai', 'innovere', 'beregne', 'overvåge', 'langt', 'nuværende', 'teknologi', 'tillader', 'unikke', 'ved', 'ai', 'kan', 'lære', 'nye', 'ting', 'hvilket', 'kan', 'accelerere', 'udviklingen', 'så', 'overstige', 'konkurrentens', 'ligne', 'chimpanse', 'sammenligning', 'super', 'ai', 'måde', 'undgå', 'totale', 'destruktion', '3', 'verdenskrig', 'overtage', 'planeten', 'uden', 'bøvl', 'forudsætning', 'given', 'superintelligent', 'ai', 'menneskelig', 'kontrol', 'helt', 'andet', 'scenarie', 'naturligvis', 'selvbevidst', 'ai', 'kender', 'hørt', 'snak', '\\n\\nhvad', 'siger', 'i\\n\\n', 'siger', 'teknologien', 'stukket', 'helt', 'mennesker', 'kan', 'håndtere', 'stadig', 'fejl', 'mangler', 'ledt', 'millioner', 'dødsfald', 'krig', 'ødelæggelse', 'mv', 'igennem', 'historien', 'altid', 'kapløb', 'hvem', 'bedste', 'våben', 'bedste', 'ressourcer', 'bedste', 'allierede\\n\\ndet', 'nye', 'næste', 'våben', 'udvikling', 'potentiale', 'skabe', 'verdensherredømme', 'lige', 'aldrig', 'set', 'mage', 'udvikling', 'set', 'sidste', '100', 'år', 'forekommer', 'sandsynligt', 'århundrede', 'sidste', 'størstedelen', 'kontrol', 'planeten', 'ingen', 'grund', 'pøblen', 'rendende', 'forurene', '(set', 'kyniske', 'despotiske', 'øjne']\n"
     ]
    }
   ],
   "source": [
    "# Brug tokenizer\n",
    "tokens = tokenizer_basic(post)\n",
    "\n",
    "print(tokens)"
   ]
  },
  {
   "cell_type": "code",
   "execution_count": 29,
   "metadata": {},
   "outputs": [
    {
     "data": {
      "text/plain": [
       "så             8\n",
       "ai             7\n",
       "verdenskrig    5\n",
       "kan            5\n",
       "set            5\n",
       "              ..\n",
       "seriøst        1\n",
       "eje            1\n",
       "kulturelt      1\n",
       "potentialet    1\n",
       "udsigten       1\n",
       "Length: 259, dtype: int64"
      ]
     },
     "execution_count": 29,
     "metadata": {},
     "output_type": "execute_result"
    }
   ],
   "source": [
    "# Series konvertering og optælling\n",
    "\n",
    "tokens_s = pd.Series(tokens)\n",
    "\n",
    "tokens_s.value_counts()"
   ]
  },
  {
   "cell_type": "markdown",
   "metadata": {},
   "source": [
    "# ØVELSE 3: Meningsfulde tokens med stanza\n",
    "\n",
    "Prøv at undersøge tekstindholdet af samme reddit opslag som før, men denne gang med brug af `stanza`: `post = reddit_df.loc[503, 'post_selftext']`\n",
    "\n",
    "1. Skriv en tokenizer funktion, der bruger `stanza`\n",
    "2. Tokenize opslaget med funktionen\n",
    "3. Lav igen en ordoptælling ved at konvertere jeres tokens til en pandas series og bruge `.value_counts()`"
   ]
  },
  {
   "cell_type": "code",
   "execution_count": 30,
   "metadata": {},
   "outputs": [],
   "source": [
    "# Lagr opslag for sig\n",
    "post = reddit_df.loc[503, 'post_selftext']"
   ]
  },
  {
   "cell_type": "code",
   "execution_count": 31,
   "metadata": {},
   "outputs": [
    {
     "name": "stderr",
     "output_type": "stream",
     "text": [
      "2021-03-12 17:37:58 INFO: Loading these models for language: da (Danish):\n",
      "=======================\n",
      "| Processor | Package |\n",
      "-----------------------\n",
      "| tokenize  | ddt     |\n",
      "| pos       | ddt     |\n",
      "| lemma     | ddt     |\n",
      "=======================\n",
      "\n",
      "2021-03-12 17:37:58 INFO: Use device: cpu\n",
      "2021-03-12 17:37:58 INFO: Loading: tokenize\n",
      "2021-03-12 17:37:58 INFO: Loading: pos\n",
      "2021-03-12 17:37:59 INFO: Loading: lemma\n",
      "2021-03-12 17:37:59 INFO: Done loading processors!\n"
     ]
    }
   ],
   "source": [
    "# Tokenizer med stanza\n",
    "\n",
    "nlp = stanza.Pipeline('da', processors = 'tokenize, pos, lemma') \n",
    "\n",
    "def tokenizer_stanza(text): # Definerer funktion ud fra koden fra tidligere\n",
    "    custom_stops = []\n",
    "    stop_words = list(stopwords.words('danish')) + custom_stops\n",
    "    pos_tags = ['PROPN', 'ADJ', 'NOUN']\n",
    "\n",
    "    doc = nlp(text)\n",
    "\n",
    "    tokens = []\n",
    "\n",
    "    for sentence in doc.sentences:\n",
    "        for word in sentence.words:\n",
    "            if (len(word.lemma) < 2):\n",
    "                continue\n",
    "            if (word.pos in pos_tags) and (word.lemma not in stop_words):\n",
    "                tokens.append(word.lemma)\n",
    "                \n",
    "    return(tokens)"
   ]
  },
  {
   "cell_type": "code",
   "execution_count": 32,
   "metadata": {},
   "outputs": [
    {
     "name": "stdout",
     "output_type": "stream",
     "text": [
      "['mods', 'emne', 'relevant', 'subben', 'danmark', 'verdenskrig', 'interresant', 'diskussion', 'bred', 'perspektiv', 'indledning', 'twe', 'verdensleder', 'CEO', 'AI', 'ekspert', 'seriøs', 'debatindlæg', 'endegyldig', 'sandhed', 'debatindlæg', 'subben', 'rande', 'IT-folk', 'verdenssituation', 'altødelæggende', '2.', 'verdenskrig', 'Hitler', '3.', 'rige', 'bekostning', 'nabolandende', 'ligevægt', 'efterfølgende', 'træt', 'krig', 'teknologi', 'udsigt', '3.', 'verdenskrig', 'enorm', 'ødelæggelse', 'afhængig', 'konvention', 'fortid', 'fejl', 'unfair', 'vilkår', 'krig', 'tabe', '1.', 'verdenskrig', 'krig', 'indirekte', 'måde', 'proxy-land', 'overvågning', 'kulturelt', 'verden', 'retning', 'rigtig', 'menneskelig', 'psykologi', 'Hitler/Pinky', 'Brain', 'mentalitet', 'al', 'al', 'al', 'god', 'velgående', 'dag', 'svær', 'herredøm', 'skak', 'teknologi', 'intellig', 'agencies', 'finger', 'data', 'afhængig', 'bomber', 'al', 'al', 'gang', 'incitament', 'stor', 'knap', 'overtag', 'verdensherredøm', 'magtliderlig', 'despot', 'magisk', 'knap', 'udvikling', 'kvik', 'dag', 'dag', 'kunstig', 'intellig', 'civilisation', 'utallig', 'gang', 'historie', 'overleg', 'teknologi', 'strategi', 'gennemtænkt', 'ai/kunstig', 'intellig', 'potentiale', 'samtlige', 'modstander', 'forudsætning', 'AI', 'konkurrent', 'fjende', 'våben', 'vildt', 'stor', 'potentiale', 'AI', 'nuværende', 'teknologi', 'unik', 'AI', 'ny', 'ting', 'udvikling', 'konkurrent', 'chimpanse', 'sammenligning', 'supe', 'AI', 'måde', 'total', 'destruktion', '3.', 'verdenskrig', 'plan', 'bøvl', 'forudsætning', 'given', 'superintelligent', 'AI', 'menneskelig', 'kontrol', 'scenarie', 'selvbevidst', 'AI', 'al', 'snak', 'teknologi', 'menneske', 'al', 'fejl', 'mangel', 'million', 'dødsfald', 'krig', 'ødelæggelse', 'historie', 'kapløb', 'god', 'våben', 'god', 'ressource', 'god', 'ny', 'næste', 'våben', 'udvikling', 'potentiale', 'verdensherredømme', 'mage', 'udvikling', 'sidste', 'år', 'sandsynlig', 'århundrede', 'sidste', 'størstedel', 'kontrol', 'plan', 'grund', 'pøble', 'kynisk', 'despotisk', 'øje']\n"
     ]
    }
   ],
   "source": [
    "# Brug tokenizer\n",
    "tokens = tokenizer_stanza(post)\n",
    "\n",
    "print(tokens)"
   ]
  },
  {
   "cell_type": "code",
   "execution_count": 33,
   "metadata": {},
   "outputs": [
    {
     "data": {
      "text/plain": [
       "AI             7\n",
       "al             7\n",
       "verdenskrig    5\n",
       "teknologi      5\n",
       "udvikling      4\n",
       "              ..\n",
       "danmark        1\n",
       "CEO            1\n",
       "unik           1\n",
       "1.             1\n",
       "mangel         1\n",
       "Length: 134, dtype: int64"
      ]
     },
     "execution_count": 33,
     "metadata": {},
     "output_type": "execute_result"
    }
   ],
   "source": [
    "# Series konvertering og optælling\n",
    "tokens_s = pd.Series(tokens)\n",
    "\n",
    "tokens_s.value_counts()"
   ]
  },
  {
   "cell_type": "markdown",
   "metadata": {},
   "source": [
    "# ØVELSE 4: Tidy text data (reddit data)\n",
    "\n",
    "Du skal nu anvende din funktion fra før på alle kommentarerne i reddit datasættet (kolonnen `comment_body`)\n",
    "\n",
    "1. Brug `.apply()` til at anvende din tokenizer funktion på hele reddit datasættet til at lave en tokens kolonne (det kan være en god ide lige at teste funktionen med en enkelt kommentar først)\n",
    "2. Brug `.explode()` til at konvertere data til et tidy format\n",
    "3. Brug `.value_counts()` til at optælle tokens\n",
    "4. Undersøg, hvor mange gange coronavirus er nævnt (tænkt gerne synonymer med!)"
   ]
  },
  {
   "cell_type": "code",
   "execution_count": 34,
   "metadata": {},
   "outputs": [
    {
     "data": {
      "text/plain": [
       "['svær', 'reel', 'opjustering', 'al', 'levering']"
      ]
     },
     "execution_count": 34,
     "metadata": {},
     "output_type": "execute_result"
    }
   ],
   "source": [
    "# Tester tokenizer på kommentar\n",
    "tokenizer_stanza(reddit_df.loc[0, 'comment_body'])"
   ]
  },
  {
   "cell_type": "code",
   "execution_count": 35,
   "metadata": {},
   "outputs": [],
   "source": [
    "# Bruger tokenizer på hele kommentarkolonnen (i en kopie af data)\n",
    "reddit_df_tokenized = reddit_df.copy()\n",
    "reddit_df_tokenized['tokens'] = reddit_df_tokenized['comment_body'].apply(tokenizer_stanza)"
   ]
  },
  {
   "cell_type": "code",
   "execution_count": 39,
   "metadata": {},
   "outputs": [],
   "source": [
    "# Evt. indlæs tokenized data\n",
    "import ast\n",
    "reddit_df_tokenized = pd.read_csv(\"https://raw.githubusercontent.com/CALDISS-AAU/course_ndms-I/master/datasets/reddit_rdenmark-comments_01032021-08032021_long_tokenized.csv\")\n",
    "reddit_df_tokenized['tokens'] = reddit_df_tokenized['tokens'].apply(ast.literal_eval)"
   ]
  },
  {
   "cell_type": "code",
   "execution_count": 42,
   "metadata": {},
   "outputs": [
    {
     "data": {
      "text/plain": [
       "al          334\n",
       "god         305\n",
       "stor        248\n",
       "år          233\n",
       "folk        229\n",
       "&gt         187\n",
       "Danmark     161\n",
       "lille       146\n",
       "samme       141\n",
       "gang        141\n",
       "dag         132\n",
       "tid         130\n",
       "problem     129\n",
       "menneske    124\n",
       "sted        123\n",
       "dansk       122\n",
       "ting        121\n",
       "land        117\n",
       "hel         106\n",
       "ny          105\n",
       "Name: tokens, dtype: int64"
      ]
     },
     "execution_count": 42,
     "metadata": {},
     "output_type": "execute_result"
    }
   ],
   "source": [
    "# Gør data tidy\n",
    "reddit_df_tidy = reddit_df_tokenized.explode('tokens')\n",
    "\n",
    "# Optæl tokens\n",
    "reddit_df_tidy['tokens'].value_counts()[0:20]"
   ]
  },
  {
   "cell_type": "code",
   "execution_count": 43,
   "metadata": {},
   "outputs": [
    {
     "data": {
      "text/plain": [
       "<matplotlib.axes._subplots.AxesSubplot at 0x7fd30cea4710>"
      ]
     },
     "execution_count": 43,
     "metadata": {},
     "output_type": "execute_result"
    },
    {
     "data": {
      "image/png": "[encoded data removed]",
      "text/plain": [
       "<Figure size 1440x720 with 1 Axes>"
      ]
     },
     "metadata": {},
     "output_type": "display_data"
    }
   ],
   "source": [
    "# Visualisering af top 20\n",
    "reddit_df_tidy['tokens'].value_counts()[0:20].plot.bar()"
   ]
  },
  {
   "cell_type": "code",
   "execution_count": 45,
   "metadata": {},
   "outputs": [
    {
     "name": "stdout",
     "output_type": "stream",
     "text": [
      "24\n"
     ]
    }
   ],
   "source": [
    "# Optælling af coronaord\n",
    "\n",
    "covid_ws = ['corona', 'coronavirus', 'covid', 'COVID', 'covid-19', 'COVID-19', 'covid19', 'COVID19']\n",
    "\n",
    "reddit_covid = reddit_df_tidy.loc[reddit_df_tidy['tokens'].isin(covid_ws), :]\n",
    "\n",
    "print(reddit_covid.shape[0])"
   ]
  },
  {
   "cell_type": "code",
   "execution_count": 46,
   "metadata": {},
   "outputs": [
    {
     "data": {
      "text/plain": [
       "<matplotlib.axes._subplots.AxesSubplot at 0x7fd31c56d250>"
      ]
     },
     "execution_count": 46,
     "metadata": {},
     "output_type": "execute_result"
    },
    {
     "data": {
      "image/png": "[encoded data removed]",
      "text/plain": [
       "<Figure size 1440x720 with 1 Axes>"
      ]
     },
     "metadata": {},
     "output_type": "display_data"
    }
   ],
   "source": [
    "# Visualisering\n",
    "reddit_covid['tokens'].value_counts().plot.bar()"
   ]
  },
  {
   "cell_type": "markdown",
   "metadata": {},
   "source": [
    "# ØVELSE 5: Topic models i Python (reddit data)\n",
    "\n",
    "I skal nu lave en topic model for reddit kommentarerne.\n",
    "\n",
    "1. Dan et \"gensim corpus\" ud fra reddit kommentarerne (`comment_body`)\n",
    "2. Dan en topic model over kommentarerne (bestem selv antal topics)\n",
    "3. Inspicér de mest sandsynlige ord i hvert topic (`lda_model.show_topics(formatted=False)`)\n",
    "4. Hvad kan I bruge modellen til?"
   ]
  },
  {
   "cell_type": "code",
   "execution_count": 47,
   "metadata": {},
   "outputs": [
    {
     "name": "stdout",
     "output_type": "stream",
     "text": [
      "['svær', 'reel', 'opjustering', 'al', 'levering']\n"
     ]
    }
   ],
   "source": [
    "# Lagr kommentar tokens i liste for sig\n",
    "comment_tokens = list(reddit_df_tokenized['tokens'])\n",
    "\n",
    "print(comment_tokens[0])"
   ]
  },
  {
   "cell_type": "code",
   "execution_count": 49,
   "metadata": {},
   "outputs": [
    {
     "name": "stdout",
     "output_type": "stream",
     "text": [
      "Dictionary(8092 unique tokens: ['al', 'levering', 'opjustering', 'reel', 'svær']...)\n"
     ]
    }
   ],
   "source": [
    "# Dan dictionary\n",
    "from gensim import corpora\n",
    "\n",
    "id2token = corpora.Dictionary(comment_tokens) # integer id per word\n",
    "\n",
    "print(id2token)"
   ]
  },
  {
   "cell_type": "code",
   "execution_count": 51,
   "metadata": {},
   "outputs": [
    {
     "name": "stdout",
     "output_type": "stream",
     "text": [
      "[(0, 1), (1, 1), (2, 1), (3, 1), (4, 1)]\n"
     ]
    }
   ],
   "source": [
    "# Danner gensim corpus - optælling af tokens per tekst\n",
    "comment_corpus = [id2token.doc2bow(tokens) for tokens in comment_tokens] # bag-of-word(bow) tuples for hver text - (token-id, optælling)\n",
    "\n",
    "print(comment_corpus[0])"
   ]
  },
  {
   "cell_type": "code",
   "execution_count": 72,
   "metadata": {},
   "outputs": [],
   "source": [
    "# Kører topic model - 5 topics\n",
    "from gensim.models.ldamodel import LdaModel\n",
    "\n",
    "lda_model = LdaModel(corpus=comment_corpus,  # Corpus af tekster\n",
    "                    id2word=id2token,       # Dictionary af ord-id mapping\n",
    "                     num_topics=5,          # Antal topics\n",
    "                     random_state=142)       # Sætter seed - sikrer samme resultat"
   ]
  },
  {
   "cell_type": "code",
   "execution_count": 73,
   "metadata": {},
   "outputs": [
    {
     "name": "stdout",
     "output_type": "stream",
     "text": [
      "[(0,\n",
      "  [('indvandrer', 0.010818212),\n",
      "   ('Danmark', 0.0065139174),\n",
      "   ('år', 0.0062401583),\n",
      "   ('stor', 0.0057198377),\n",
      "   ('EU', 0.0042441385),\n",
      "   ('befolkning', 0.0040589334),\n",
      "   ('vand', 0.0039795367),\n",
      "   ('al', 0.0038718502),\n",
      "   ('par', 0.003767011),\n",
      "   ('folk', 0.003766133)]),\n",
      " (1,\n",
      "  [('god', 0.016062904),\n",
      "   ('reklame', 0.010819281),\n",
      "   ('stor', 0.009639357),\n",
      "   ('folk', 0.008041313),\n",
      "   ('[deleted]', 0.0074760593),\n",
      "   ('al', 0.0073573138),\n",
      "   ('gang', 0.0071729287),\n",
      "   ('år', 0.006604641),\n",
      "   ('samme', 0.0065232925),\n",
      "   ('&gt', 0.0063476474)]),\n",
      " (2,\n",
      "  [('al', 0.014740941),\n",
      "   ('god', 0.010484116),\n",
      "   ('folk', 0.008793021),\n",
      "   ('dag', 0.008544035),\n",
      "   ('år', 0.007585443),\n",
      "   ('lille', 0.007471538),\n",
      "   ('guld', 0.006958414),\n",
      "   ('stor', 0.006847847),\n",
      "   ('Israel', 0.005448176),\n",
      "   ('hel', 0.005266357)]),\n",
      " (3,\n",
      "  [('&gt', 0.0072892983),\n",
      "   ('land', 0.0071063144),\n",
      "   ('tak', 0.006359148),\n",
      "   ('bog', 0.0060873036),\n",
      "   ('krone', 0.005940039),\n",
      "   ('dansk', 0.0059036985),\n",
      "   ('al', 0.005802686),\n",
      "   ('våben', 0.005427425),\n",
      "   ('ny', 0.0053078043),\n",
      "   ('god', 0.005076778)]),\n",
      " (4,\n",
      "  [('al', 0.009740333),\n",
      "   ('kommentar', 0.007451799),\n",
      "   ('stor', 0.0064072325),\n",
      "   ('god', 0.0062132315),\n",
      "   ('spørgsmål', 0.006016454),\n",
      "   ('problem', 0.005903307),\n",
      "   ('That', 0.005804804),\n",
      "   ('NOT', 0.005363713),\n",
      "   ('enig', 0.005101432),\n",
      "   ('Danmark', 0.0047487225)])]\n"
     ]
    }
   ],
   "source": [
    "# Checker ord i topics\n",
    "from pprint import pprint\n",
    "\n",
    "pprint(lda_model.show_topics(formatted=False)) # Viser de 10 mest sandsynlige ord per topic"
   ]
  },
  {
   "cell_type": "code",
   "execution_count": 95,
   "metadata": {},
   "outputs": [
    {
     "name": "stdout",
     "output_type": "stream",
     "text": [
      "De er efter sigende ved at opgradere deres produktion... samme som Pfizer var ved.\n",
      "\n",
      "Ikke desto mindre er det lidt slående, hvor lidt de har kunnet levere i forhold til. Man kan håbe, opgraderingen har en stor effekt.\n",
      "\n",
      "\n",
      "---TOPICS---\n",
      "\n",
      "\n",
      "[(0, 0.020699734),\n",
      " (1, 0.02057898),\n",
      " (2, 0.020475779),\n",
      " (3, 0.91763717),\n",
      " (4, 0.020608358)]\n"
     ]
    }
   ],
   "source": [
    "# Brug LDA model på enkelt kommentar\n",
    "from pprint import pprint\n",
    "print(reddit_df_tokenized.loc[10, 'comment_body'])\n",
    "print(\"\\n\")\n",
    "print(\"---TOPICS---\")\n",
    "print(\"\\n\")\n",
    "pprint(lda_model[comment_corpus[10]])"
   ]
  },
  {
   "cell_type": "code",
   "execution_count": 96,
   "metadata": {},
   "outputs": [
    {
     "name": "stdout",
     "output_type": "stream",
     "text": [
      "Jeg hilser på alle, ikke kun ældre. Hvis jeg får øjenkontakt, uanset med hvem, så hilser jeg. Enten ved at sige hej, eller med et venligt nik.  \n",
      "\n",
      "\n",
      "Du har helt ret, det burde alle gøre.\n",
      "\n",
      "\n",
      "---TOPICS---\n",
      "\n",
      "\n",
      "[(0, 0.022558661),\n",
      " (1, 0.022511918),\n",
      " (2, 0.022911731),\n",
      " (3, 0.022435868),\n",
      " (4, 0.90958184)]\n"
     ]
    }
   ],
   "source": [
    "print(reddit_df_tokenized.loc[500, 'comment_body'])\n",
    "print(\"\\n\")\n",
    "print(\"---TOPICS---\")\n",
    "print(\"\\n\")\n",
    "pprint(lda_model[comment_corpus[500]])"
   ]
  }
 ],
 "metadata": {
  "kernelspec": {
   "display_name": "Python 3",
   "language": "python",
   "name": "python3"
  },
  "language_info": {
   "codemirror_mode": {
    "name": "ipython",
    "version": 3
   },
   "file_extension": ".py",
   "mimetype": "text/x-python",
   "name": "python",
   "nbconvert_exporter": "python",
   "pygments_lexer": "ipython3",
   "version": "3.7.7"
  }
 },
 "nbformat": 4,
 "nbformat_minor": 4
}
